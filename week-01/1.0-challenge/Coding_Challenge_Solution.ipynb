{
 "cells": [
  {
   "cell_type": "code",
   "execution_count": 17,
   "metadata": {
    "collapsed": true
   },
   "outputs": [],
   "source": [
    "savings = [1200, 5000, 3400, 2400, 2800, 4100, 7400, 9800]\n",
    "gender = [\"male\", \"female\", \"female\", \"male\", \"male\", \"female\", \"male\", \"female\"]"
   ]
  },
  {
   "cell_type": "code",
   "execution_count": 28,
   "metadata": {
    "collapsed": true
   },
   "outputs": [],
   "source": [
    "xx = zip(savings,gender)"
   ]
  },
  {
   "cell_type": "code",
   "execution_count": 30,
   "metadata": {
    "collapsed": false
   },
   "outputs": [
    {
     "data": {
      "text/plain": [
       "'female'"
      ]
     },
     "execution_count": 30,
     "metadata": {},
     "output_type": "execute_result"
    }
   ],
   "source": [
    "xx[1][1] == \"female\""
   ]
  },
  {
   "cell_type": "code",
   "execution_count": 20,
   "metadata": {
    "collapsed": false
   },
   "outputs": [
    {
     "name": "stdout",
     "output_type": "stream",
     "text": [
      "0 male\n",
      "1 female\n",
      "2 female\n",
      "3 male\n",
      "4 male\n",
      "5 female\n",
      "6 male\n",
      "7 female\n"
     ]
    }
   ],
   "source": [
    "for ix, elm in enumerate(gender):\n",
    "    print ix, elm"
   ]
  },
  {
   "cell_type": "markdown",
   "metadata": {},
   "source": [
    "### Create a list with the savings for the 'females' in the sample"
   ]
  },
  {
   "cell_type": "code",
   "execution_count": 22,
   "metadata": {
    "collapsed": false
   },
   "outputs": [
    {
     "data": {
      "text/plain": [
       "[5000, 3400, 4100, 9800]"
      ]
     },
     "execution_count": 22,
     "metadata": {},
     "output_type": "execute_result"
    }
   ],
   "source": [
    "#create target list\n",
    "savings_female = []\n",
    "\n",
    "#span the index of individuals  \n",
    "#capture their relevant information\n",
    "\n",
    "# for ix in range(len(gender)):\n",
    "#     if gender[ix] == 'female':\n",
    "#         savings_female.append(savings[ix])\n",
    "        \n",
    "for ix, elm in enumerate(gender):\n",
    "    if elm != 'male':\n",
    "        savings_female.append(savings[ix])\n",
    "        \n",
    "savings_female"
   ]
  },
  {
   "cell_type": "markdown",
   "metadata": {},
   "source": [
    "### Create a list with the savings for the 'males' in the sample"
   ]
  },
  {
   "cell_type": "code",
   "execution_count": 23,
   "metadata": {
    "collapsed": false
   },
   "outputs": [
    {
     "data": {
      "text/plain": [
       "[1200, 2400, 2800, 7400]"
      ]
     },
     "execution_count": 23,
     "metadata": {},
     "output_type": "execute_result"
    }
   ],
   "source": [
    "savings_male = []\n",
    "\n",
    "for ix in range(len(gender)):\n",
    "    if gender[ix] == 'male':\n",
    "        savings_male.append(savings[ix])\n",
    "\n",
    "# for ix, elm in enumerate(gender):\n",
    "#     if elm == 'male':\n",
    "#         savings_male.append(savings[ix])\n",
    "        \n",
    "savings_male"
   ]
  },
  {
   "cell_type": "markdown",
   "metadata": {},
   "source": [
    "### Create a dictionary with one entry the average savings for females and another for males"
   ]
  },
  {
   "cell_type": "code",
   "execution_count": 42,
   "metadata": {
    "collapsed": false
   },
   "outputs": [
    {
     "data": {
      "text/plain": [
       "{'avg_savings_female': 5575.0, 'avg_savings_male': 3450.0}"
      ]
     },
     "execution_count": 42,
     "metadata": {},
     "output_type": "execute_result"
    }
   ],
   "source": [
    "from __future__ import division\n",
    "\n",
    "average_savings_male = sum(savings_male)  / len(savings_male)\n",
    "\n",
    "average_savings_female = sum(savings_female)  / len(savings_female)\n",
    "savings = {'avg_savings_male': average_savings_male, 'avg_savings_female':average_savings_female}\n",
    "savings"
   ]
  },
  {
   "cell_type": "code",
   "execution_count": 33,
   "metadata": {
    "collapsed": false
   },
   "outputs": [
    {
     "data": {
      "text/plain": [
       "3450.0"
      ]
     },
     "execution_count": 33,
     "metadata": {},
     "output_type": "execute_result"
    }
   ],
   "source": [
    "import numpy as  np\n",
    "np.mean(savings_male)"
   ]
  },
  {
   "cell_type": "code",
   "execution_count": 34,
   "metadata": {
    "collapsed": false
   },
   "outputs": [
    {
     "data": {
      "text/plain": [
       "[('avg_savings_male', 3450.0), ('avg_savings_female', 5575.0)]"
      ]
     },
     "execution_count": 34,
     "metadata": {},
     "output_type": "execute_result"
    }
   ],
   "source": [
    "savings.items()"
   ]
  },
  {
   "cell_type": "code",
   "execution_count": 35,
   "metadata": {
    "collapsed": true
   },
   "outputs": [],
   "source": [
    "x = []\n",
    "x = list()\n",
    "\n",
    "x = {}\n",
    "x = dict()"
   ]
  },
  {
   "cell_type": "code",
   "execution_count": null,
   "metadata": {
    "collapsed": true
   },
   "outputs": [],
   "source": []
  }
 ],
 "metadata": {
  "kernelspec": {
   "display_name": "Python 2",
   "language": "python",
   "name": "python2"
  },
  "language_info": {
   "codemirror_mode": {
    "name": "ipython",
    "version": 2
   },
   "file_extension": ".py",
   "mimetype": "text/x-python",
   "name": "python",
   "nbconvert_exporter": "python",
   "pygments_lexer": "ipython2",
   "version": "2.7.11"
  },
  "widgets": {
   "state": {},
   "version": "1.1.2"
  }
 },
 "nbformat": 4,
 "nbformat_minor": 0
}
