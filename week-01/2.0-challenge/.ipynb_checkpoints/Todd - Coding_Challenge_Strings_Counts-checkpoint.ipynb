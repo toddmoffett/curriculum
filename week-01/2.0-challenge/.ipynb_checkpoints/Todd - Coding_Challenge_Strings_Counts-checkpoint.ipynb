{
 "cells": [
  {
   "cell_type": "code",
   "execution_count": 3,
   "metadata": {
    "collapsed": true
   },
   "outputs": [],
   "source": [
    "input_sentence = 'This is just a test! 123. no need to stress.'"
   ]
  },
  {
   "cell_type": "markdown",
   "metadata": {},
   "source": [
    "### Write a function that calculates the number of letters, punctuation, and integers in a string"
   ]
  },
  {
   "cell_type": "code",
   "execution_count": 4,
   "metadata": {
    "collapsed": false
   },
   "outputs": [],
   "source": [
    "# Define tokens\n",
    "digits = '0123456789'\n",
    "letters = 'abcdefghijklmnopqrstuvwxyz'\n",
    "punc = '!.,'\n",
    "\n",
    "\n",
    "def function(x):\n",
    "    # setup counter must be inside of function\n",
    "    number_of_letters = 0\n",
    "    number_of_punctuation = 0\n",
    "    number_of_integers = 0\n",
    "    for i in x:\n",
    "        if i in letters:\n",
    "            number_of_letters += 1\n",
    "        if i in digits:\n",
    "            number_of_integers += 1\n",
    "        if i in punc:\n",
    "            number_of_punctuation += 1\n",
    "            \n",
    "    # return number_of_letters, number_of_integers, number_of_punctuation\n",
    "    return number_of_punctuation, number_of_integers, number_of_letters\n",
    "\n",
    "    "
   ]
  },
  {
   "cell_type": "code",
   "execution_count": 5,
   "metadata": {
    "collapsed": false
   },
   "outputs": [
    {
     "data": {
      "text/plain": [
       "(3, 3, 28)"
      ]
     },
     "execution_count": 5,
     "metadata": {},
     "output_type": "execute_result"
    }
   ],
   "source": [
    "function(input_sentence)"
   ]
  },
  {
   "cell_type": "code",
   "execution_count": null,
   "metadata": {
    "collapsed": false
   },
   "outputs": [],
   "source": [
    "    "
   ]
  },
  {
   "cell_type": "code",
   "execution_count": null,
   "metadata": {
    "collapsed": false
   },
   "outputs": [],
   "source": []
  },
  {
   "cell_type": "code",
   "execution_count": null,
   "metadata": {
    "collapsed": true
   },
   "outputs": [],
   "source": []
  }
 ],
 "metadata": {
  "anaconda-cloud": {},
  "kernelspec": {
   "display_name": "Python [conda env:py27]",
   "language": "python",
   "name": "conda-env-py27-py"
  },
  "language_info": {
   "codemirror_mode": {
    "name": "ipython",
    "version": 2
   },
   "file_extension": ".py",
   "mimetype": "text/x-python",
   "name": "python",
   "nbconvert_exporter": "python",
   "pygments_lexer": "ipython2",
   "version": "2.7.12"
  }
 },
 "nbformat": 4,
 "nbformat_minor": 0
}
