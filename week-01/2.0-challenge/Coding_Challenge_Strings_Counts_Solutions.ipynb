{
 "cells": [
  {
   "cell_type": "code",
   "execution_count": 3,
   "metadata": {
    "collapsed": true
   },
   "outputs": [],
   "source": [
    "input_sentence = 'This is just a test! 123. no need to stress.'"
   ]
  },
  {
   "cell_type": "code",
   "execution_count": 9,
   "metadata": {
    "collapsed": false
   },
   "outputs": [
    {
     "data": {
      "text/plain": [
       "3"
      ]
     },
     "execution_count": 9,
     "metadata": {},
     "output_type": "execute_result"
    }
   ],
   "source": [
    "# Preliminary example with portion of actual function\n",
    "\n",
    "def function(input_sentence):\n",
    "    digits = '01223456789'\n",
    "    number_digits = 0\n",
    "    for i in input_sentence:\n",
    "        if i in digits:\n",
    "            number_digits += 1\n",
    "    return number_digits\n",
    "function(input_sentence)"
   ]
  },
  {
   "cell_type": "code",
   "execution_count": 11,
   "metadata": {
    "collapsed": false
   },
   "outputs": [
    {
     "data": {
      "text/plain": [
       "(3, 3, 29)"
      ]
     },
     "execution_count": 11,
     "metadata": {},
     "output_type": "execute_result"
    }
   ],
   "source": [
    "# Function provided by JAM (with incomplete alphabetization)\n",
    "\n",
    "def function(input_sentence):\n",
    "    digits = '0123456789'\n",
    "    punt = '!.,;'\n",
    "    letters = 'abcdefghijklmnopqrstTuvwxyz'\n",
    "    #set up a counter\n",
    "    number_digits = 0\n",
    "    number_letters = 0\n",
    "    number_punt = 0\n",
    "    for i in input_sentence:\n",
    "        if i in digits:\n",
    "            number_digits += 1\n",
    "        elif i in letters:\n",
    "            number_letters +=1\n",
    "        elif i in punt:\n",
    "            number_punt +=1\n",
    "    return number_digits, number_punt, number_letters\n",
    "function(input_sentence)"
   ]
  },
  {
   "cell_type": "code",
   "execution_count": 19,
   "metadata": {
    "collapsed": false
   },
   "outputs": [
    {
     "data": {
      "text/plain": [
       "{'integers': 3, 'letters': 29, 'punctuations': 3}"
      ]
     },
     "execution_count": 19,
     "metadata": {},
     "output_type": "execute_result"
    }
   ],
   "source": [
    "# Function Completed by Chris Peterson\n",
    "\n",
    "def function(input_sentence):\n",
    "    int_count_of_letters = 0\n",
    "    int_count_of_integers = 0\n",
    "    int_count_of_punctuation = 0\n",
    "    int_count_of_whitespace = 0 \n",
    "    for x in input_sentence:\n",
    "        if x.isdigit():\n",
    "            int_count_of_integers +=1\n",
    "        elif x.isalpha():\n",
    "            int_count_of_letters +=1\n",
    "        elif x.isspace():\n",
    "            int_count_of_whitespace +=1\n",
    "        else:\n",
    "            int_count_of_punctuation +=1\n",
    "    counts = {'integers' : int_count_of_integers, 'letters':int_count_of_letters , 'punctuations' : int_count_of_punctuation}\n",
    "    return counts\n",
    "\n",
    "function(input_sentence)"
   ]
  },
  {
   "cell_type": "code",
   "execution_count": 20,
   "metadata": {
    "collapsed": false
   },
   "outputs": [
    {
     "data": {
      "text/plain": [
       "(29, 3, 3)"
      ]
     },
     "execution_count": 20,
     "metadata": {},
     "output_type": "execute_result"
    }
   ],
   "source": [
    "# Submitted by David Sanford\n",
    "import re\n",
    "\n",
    "def function(input_sentence):\n",
    "    number_of_letters = 0\n",
    "    number_of_integers = 0\n",
    "    number_of_punctuation = 0\n",
    "    \n",
    "    for char in input_sentence:\n",
    "        if re.search(\"[a-zA-Z]\", char):\n",
    "            number_of_letters += 1\n",
    "\n",
    "        elif re.search(\"[0-9]\", char):\n",
    "            number_of_integers += 1\n",
    "            \n",
    "        elif re.search(\" \", char):\n",
    "            pass\n",
    "\n",
    "        else:\n",
    "            number_of_punctuation += 1\n",
    "    return (number_of_letters, number_of_integers, number_of_punctuation)\n",
    "\n",
    "function(input_sentence)"
   ]
  },
  {
   "cell_type": "code",
   "execution_count": 23,
   "metadata": {
    "collapsed": false
   },
   "outputs": [
    {
     "data": {
      "text/plain": [
       "{'integers': 3, 'letters': 29, 'punctuation': 3}"
      ]
     },
     "execution_count": 23,
     "metadata": {},
     "output_type": "execute_result"
    }
   ],
   "source": [
    "# Submitted by Jake Mensch\n",
    "import re\n",
    "\n",
    "def count(input_sentence):\n",
    "    regexes = ({\n",
    "        \"letters\": \"[a-zA-Z]\",\n",
    "        \"integers\": \"[0-9]\",\n",
    "        \"punctuation\": \"[.!?#$@&%\\(\\)]\"\n",
    "    })\n",
    "    return { key: len([char for char in input_sentence if re.search(regexes[key], char)]) for key in regexes }\n",
    "count(input_sentence)"
   ]
  },
  {
   "cell_type": "code",
   "execution_count": null,
   "metadata": {
    "collapsed": true
   },
   "outputs": [],
   "source": []
  }
 ],
 "metadata": {
  "kernelspec": {
   "display_name": "Python 2",
   "language": "python",
   "name": "python2"
  },
  "language_info": {
   "codemirror_mode": {
    "name": "ipython",
    "version": 2
   },
   "file_extension": ".py",
   "mimetype": "text/x-python",
   "name": "python",
   "nbconvert_exporter": "python",
   "pygments_lexer": "ipython2",
   "version": "2.7.11"
  },
  "widgets": {
   "state": {},
   "version": "1.1.2"
  }
 },
 "nbformat": 4,
 "nbformat_minor": 0
}
