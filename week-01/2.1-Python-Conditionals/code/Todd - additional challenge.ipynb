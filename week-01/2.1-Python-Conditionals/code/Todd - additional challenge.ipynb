{
 "cells": [
  {
   "cell_type": "code",
   "execution_count": 5,
   "metadata": {
    "collapsed": true
   },
   "outputs": [],
   "source": [
    "example_input = [\n",
    "    True, \n",
    "    False,\n",
    "    True,\n",
    "    5, \n",
    "    23.234, \n",
    "    3.55, \n",
    "    \"Kiefer is actually pretty cool\", \n",
    "    {\"steve\": \"ballmer\"}, \n",
    "    (5, 23, 55), \n",
    "    [1,6,234,23.4],\n",
    "    max([1, 0, 1, 1]), \n",
    "    abs(-234), \n",
    "    (5 + 3.01), \n",
    "    \"\",\n",
    "    None,\n",
    "    [5] * 20,\n",
    "    \"343434\",\n",
    "    \"5\" + \"aaaaaa2\",\n",
    "    55 % 3,\n",
    "    5^2\n",
    "]"
   ]
  },
  {
   "cell_type": "code",
   "execution_count": 6,
   "metadata": {
    "collapsed": false
   },
   "outputs": [
    {
     "data": {
      "text/plain": [
       "[True,\n",
       " False,\n",
       " True,\n",
       " 5,\n",
       " 23.234,\n",
       " 3.55,\n",
       " 'Kiefer is actually pretty cool',\n",
       " {'steve': 'ballmer'},\n",
       " (5, 23, 55),\n",
       " [1, 6, 234, 23.4],\n",
       " 1,\n",
       " 234,\n",
       " 8.01,\n",
       " '',\n",
       " None,\n",
       " [5, 5, 5, 5, 5, 5, 5, 5, 5, 5, 5, 5, 5, 5, 5, 5, 5, 5, 5, 5],\n",
       " '343434',\n",
       " '5aaaaaa2',\n",
       " 1,\n",
       " 7]"
      ]
     },
     "execution_count": 6,
     "metadata": {},
     "output_type": "execute_result"
    }
   ],
   "source": [
    "example_input"
   ]
  },
  {
   "cell_type": "code",
   "execution_count": 11,
   "metadata": {
    "collapsed": false
   },
   "outputs": [
    {
     "data": {
      "text/plain": [
       "{bool: [True, False, True],\n",
       " float: [23.234, 3.55, 8.01],\n",
       " int: [5, 1, 234, 1, 7],\n",
       " list: [[1, 6, 234, 23.4],\n",
       "  [5, 5, 5, 5, 5, 5, 5, 5, 5, 5, 5, 5, 5, 5, 5, 5, 5, 5, 5, 5]],\n",
       " dict: [{'steve': 'ballmer'}],\n",
       " NoneType: [None],\n",
       " str: ['Kiefer is actually pretty cool', '', '343434', '5aaaaaa2'],\n",
       " tuple: [(5, 23, 55)]}"
      ]
     },
     "execution_count": 11,
     "metadata": {},
     "output_type": "execute_result"
    }
   ],
   "source": [
    "output = {}\n",
    "\n",
    "for i in example_input:\n",
    "    \n",
    "    current_type_items = output.get(type(i))\n",
    "    \n",
    "    if current_type_items:\n",
    "        current_type_items.append(i)\n",
    "    else:\n",
    "        current_type_items = [i]\n",
    "    \n",
    "    output.update({type(i): current_type_items})\n",
    "    \n",
    "output"
   ]
  },
  {
   "cell_type": "code",
   "execution_count": null,
   "metadata": {
    "collapsed": true
   },
   "outputs": [],
   "source": []
  }
 ],
 "metadata": {
  "anaconda-cloud": {},
  "kernelspec": {
   "display_name": "Python [conda env:py27]",
   "language": "python",
   "name": "conda-env-py27-py"
  },
  "language_info": {
   "codemirror_mode": {
    "name": "ipython",
    "version": 2
   },
   "file_extension": ".py",
   "mimetype": "text/x-python",
   "name": "python",
   "nbconvert_exporter": "python",
   "pygments_lexer": "ipython2",
   "version": "2.7.12"
  }
 },
 "nbformat": 4,
 "nbformat_minor": 1
}
