{
 "cells": [
  {
   "cell_type": "markdown",
   "metadata": {},
   "source": [
    "---\n",
    "title: iPython Notebooks, Data Values, CSV Library\n",
    "duration: \"1:5\"\n",
    "creator:\n",
    "    name: Lucy Williams\n",
    "    city: DC\n",
    "---\n",
    "\n",
    "# ![](https://ga-dash.s3.amazonaws.com/production/assets/logo-9f88ae6c9c3871690e33280fcf557f33.png) iPython Notebooks, Data Values, CSV Library\n",
    "Week 1 | Lesson 3.2\n",
    "\n",
    "### LEARNING OBJECTIVES\n",
    "*After this lesson, you will be able to:*\n",
    "- Demonstrate how to use the notebook, code vs Markdown mode\n",
    "- Show how to save and share the notebook via Jupyter\n",
    "- Intro to csv library\n",
    "\n",
    "### STUDENT PRE-WORK\n",
    "*Before this lesson, you should already be able to:*\n",
    "- Install Anaconda\n",
    "- Create an Anaconda environment with iPython Notebook installed\n",
    "- From iPython Notebook, install Jupyter\n",
    "\n",
    "\n",
    "### LESSON GUIDE\n",
    "| TIMING  | TYPE  | TOPIC  |\n",
    "|:-:|---|---|\n",
    "| 5 min  | [Introduction](#introduction)   |  Anaconda, iPython notebook, Jupyter, Code vs. Markdown, and csv library |\n",
    "| 10 min  | [Demo / Guided Practice ](#demo)  | Anaconda  |\n",
    "| 10 min  | [Demo / Guided Practice ](#demo)  | iPython notebook  |\n",
    "| 10 min  | [Demo / Guided Practice ](#demo)  | Jupyter  |\n",
    "| 10 min  | [Demo / Guided Practice ](#demo)  | Code vs. Markdown  |\n",
    "| 10 min  | [Demo / Guided Practice ](#demo)  | csv library  |\n",
    "| 30 min  | [Independent Practice](#ind-practice)  |  |\n",
    "| 5 min  | [Conclusion](#conclusion)  |   |\n",
    "\n",
    "\n",
    "\n",
    "<a name=\"Anaconda, iPython notebook, Code vs. Markdown, and csv library\"></a>\n",
    "## Introduction: (5 mins)\n",
    "\n",
    "Anaconda is a completely free Python distribution. It includes more than 400\n",
    "of the most popular Python packages for science, math, engineering, and data analysis.\n",
    "[Anaconda](https://www.continuum.io/downloads)\n",
    "\n",
    "iPython Notebook is an interactive computational environment, in which you\n",
    "can combine code execution, rich text, mathematics, plots and rich media.\n",
    "[iPython Notebook](http://ipython.org/notebook.html)\n",
    "\n",
    "The Jupyter Notebook is a web application that allows you to create and share\n",
    "documents that contain live code, equations, visualizations and explanatory text.\n",
    "Uses include: data cleaning and transformation, numerical simulation,\n",
    "statistical modeling, machine learning and much more.\n",
    "[Jupyter](http://jupyter.org/)\n",
    "\n",
    "Lastly, we will take a peek at the csv library.\n",
    "\n",
    "\n",
    "<a name=\"Anaconda\"></a>\n",
    "## Demo: Anaconda (10 mins)\n",
    "\n",
    "You should all have installed Anaconda during Installfest. If not, please go to the\n",
    "[Anaconda website](https://www.continuum.io/downloads) and follow the install\n",
    "instructions for your OS. Any questions, please ask the instructor, TA, or a\n",
    "fellow student.\n",
    "\n",
    "<a name=\"iPython Notebook\"></a>\n",
    "## Demo: iPython Notebook (10 mins)\n",
    "\n",
    "iPython Notebook comes as part of Anaconda. When you launch Anaconda there should\n",
    "be the ability to install iPython Notebook.\n",
    "\n",
    "\n",
    "<a name=\"Jupyter\"></a>\n",
    "## Demo: Jupyter (10 mins)\n",
    "\n",
    "Lastly, let's install Jupyter. Open up a new iPython notebook and type:"
   ]
  },
  {
   "cell_type": "code",
   "execution_count": 1,
   "metadata": {
    "collapsed": false
   },
   "outputs": [
    {
     "ename": "SyntaxError",
     "evalue": "invalid syntax (<ipython-input-1-ae467c26a848>, line 1)",
     "output_type": "error",
     "traceback": [
      "\u001b[0;36m  File \u001b[0;32m\"<ipython-input-1-ae467c26a848>\"\u001b[0;36m, line \u001b[0;32m1\u001b[0m\n\u001b[0;31m    pip install jupyter\u001b[0m\n\u001b[0m              ^\u001b[0m\n\u001b[0;31mSyntaxError\u001b[0m\u001b[0;31m:\u001b[0m invalid syntax\n"
     ]
    }
   ],
   "source": [
    "pip install jupyter"
   ]
  },
  {
   "cell_type": "markdown",
   "metadata": {},
   "source": [
    "to install Jupyter. And then, we're off!\n",
    "\n",
    "\n",
    "<a name=\"Code vs. Markdown\"></a>\n",
    "## Demo: Code vs. Markdown (10 mins)\n",
    "\n",
    "Let's play around with iPython Notebook first to get a feel for it. Let's create a new notebook by clicking on the \"New\" dropdown and selecting under \"Notebooks\", \"Python 2\". Let's change the title right away to\n",
    "something like \"Practice\", so we can easily ID it later.\n",
    "\n",
    "The notebook starts off in the \"Code\" mode, which means that the cell is ready to accept\n",
    "any code we write. Let's toggle it to \"Markdown\" mode. Practice writing a cell of code and\n",
    "then a cell of Markdown and run it.\n",
    "\n",
    "Next, click through the dropdown menus: File, Edit, View, Insert, Cell, Kernel, and Help,\n",
    "just to get a look at what's available. Don't worry, you'll become more familiar with\n",
    "these through usage.\n",
    "\n",
    "Let me show you how to use Jupyter to display an .ipynb file in\n",
    "[Jupyter's NBviewer](https://nbviewer.jupyter.org/). Remember, it must be PUBLICLY\n",
    "available and not PRIVATE in order to work. Now, create your own Jupyter/iPython Notebook,\n",
    "upload it to your GitHub account, make it publicly available, and then view it through\n",
    "Jupyter's NBviewer.\n",
    "\n",
    "<a name=\"csv module\"></a>\n",
    "## Demo: csv module (10 mins)\n",
    "\n",
    "Let's take a look at the Python csv module. The csv module’s reader and\n",
    "writer objects read and write sequences. We'll be using a small Sales data set\n",
    "to practice. Let's read a csv file first, using the following [demo code](./code/w1-3.2-demo.ipynb).\n",
    "\n",
    "In iPython notebook type:"
   ]
  },
  {
   "cell_type": "code",
   "execution_count": 4,
   "metadata": {
    "collapsed": false
   },
   "outputs": [
    {
     "ename": "SyntaxError",
     "evalue": "Missing parentheses in call to 'print' (<ipython-input-4-144ffe32dd87>, line 2)",
     "output_type": "error",
     "traceback": [
      "\u001b[0;36m  File \u001b[0;32m\"<ipython-input-4-144ffe32dd87>\"\u001b[0;36m, line \u001b[0;32m2\u001b[0m\n\u001b[0;31m    print 'Opening File. Data: '\u001b[0m\n\u001b[0m                               ^\u001b[0m\n\u001b[0;31mSyntaxError\u001b[0m\u001b[0;31m:\u001b[0m Missing parentheses in call to 'print'\n"
     ]
    }
   ],
   "source": [
    "import csv\n",
    "print 'Opening File. Data: '\n",
    "print ''\n",
    "with open('sales.csv', 'rU') as f:\n",
    "    reader = csv.reader(f)\n",
    "    for row in reader:\n",
    "        print row\n",
    "f.close()\n",
    "print ''\n",
    "print 'file closed'   # Always remember to close the file after writing to it!"
   ]
  },
  {
   "cell_type": "markdown",
   "metadata": {},
   "source": [
    "The output will be the contents of sales.csv file. Now, let's write to a csv file.\n",
    "\n",
    "In iPython notebook type:"
   ]
  },
  {
   "cell_type": "code",
   "execution_count": null,
   "metadata": {
    "collapsed": true
   },
   "outputs": [],
   "source": [
    "print 'Adding the following record: '\n",
    "data = ['123456', 'cosmos', 'neil', 'lucy', 'universe', '1', '1,000,000', 'presented']\n",
    "print ''\n",
    "print data\n",
    "with open('sales.csv', 'a') as fp:\n",
    "    a = csv.writer(fp, delimiter=',')\n",
    "    fp.write('\\n')\n",
    "    a.writerows([data])\n",
    "\n",
    "fp.close()\n",
    "print ''\n",
    "print 'file closed'    # Always remember to close the file after writing to it!"
   ]
  },
  {
   "cell_type": "markdown",
   "metadata": {},
   "source": [
    "Now, let's see the file again, with the data you just added:"
   ]
  },
  {
   "cell_type": "code",
   "execution_count": null,
   "metadata": {
    "collapsed": true
   },
   "outputs": [],
   "source": [
    "print 'The new data that was just added, can be seen on the last line: '\n",
    "with open('sales.csv', 'rU') as f:\n",
    "    reader = csv.reader(f)\n",
    "    for row in reader:\n",
    "        print row\n",
    "\n",
    "f.close()\n",
    "print ''\n",
    "print 'file closed'"
   ]
  },
  {
   "cell_type": "markdown",
   "metadata": {},
   "source": [
    "<a name=\"ind-practice\"></a>\n",
    "## Independent Practice: Topic (30 minutes)\n",
    "- Practice creating an Jupyter/iPython Notebook that uses both code and MarkDown cells.\n",
    "Upload it to GitHub, make it publicly available, and then view it through Jupyter's NBviewer.\n",
    "- Practice reading and writing csv files.\n",
    "\n",
    "\n",
    "<a name=\"conclusion\"></a>\n",
    "## Conclusion (5 mins)\n",
    "Today we were introduced to Anaconda, iPython Notebook, Jupyter, and how to read and write csv files.\n",
    "Nice. Next we'll be introduced to NumPy. Sounds like fun!"
   ]
  }
 ],
 "metadata": {
  "anaconda-cloud": {},
  "kernelspec": {
   "display_name": "Python [default]",
   "language": "python",
   "name": "python3"
  },
  "language_info": {
   "codemirror_mode": {
    "name": "ipython",
    "version": 3
   },
   "file_extension": ".py",
   "mimetype": "text/x-python",
   "name": "python",
   "nbconvert_exporter": "python",
   "pygments_lexer": "ipython3",
   "version": "3.5.2"
  }
 },
 "nbformat": 4,
 "nbformat_minor": 0
}
