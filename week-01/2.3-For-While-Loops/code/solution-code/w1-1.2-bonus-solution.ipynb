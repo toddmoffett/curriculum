{
 "cells": [
  {
   "cell_type": "markdown",
   "metadata": {},
   "source": [
    "# Bonus Code Challenges #1\n",
    "\n",
    "We think there are plenty of algorithms and data structures that are important to know about, which are outside the scope of our class but fall under year 1-2 computer science fundamentals.  However, with these alternate exercises, we feel are at least somehow supportive of what you might find in job interviews and Python code challenges.\n",
    "\n",
    "These are completely **optional**, but if you are unable to complete these in the beginning, come back to them once you're ready.\n",
    "\n",
    "## Requirements\n",
    "For these challenges, you will need to have a basic working knowledge of Python and be comfortable with fundamental usage.  To get the most out of these exercises you should avoid using libraries (but feel free to use buil-in types ie: zip()) as much as possible and try to construct solutions by hand as much as possible.  Also, if solutions are available, try not to peek to get the most out of this.  \n",
    "\n",
    "Feel free to search and use resources on the web but try to figure as much of these out with careful thought."
   ]
  },
  {
   "cell_type": "markdown",
   "metadata": {},
   "source": [
    "## Optional Challenege 1 - Counting Types\n",
    "\n",
    "Given a list of mixed input, implement a method that counts types of elements (given a list) and reports the quantity of items found in the input.  Output can also be an object representation (ie: dictionary).\n",
    "\n",
    "**Input:**\n",
    "\n",
    "\n",
    "    [5, \"Foo\", (2, 4, 5, 100), {\"fox\": \"mammal\"}, False, True, 2.987, \"Bar\"]\n",
    "\n",
    "\n",
    "\n",
    "**Output:**\n",
    "\n",
    "    int: 1\n",
    "    float: 1\n",
    "    string: 2\n",
    "    tuple: 1\n",
    "    dict: 1\n",
    "    boolean: 2\n"
   ]
  },
  {
   "cell_type": "code",
   "execution_count": 1,
   "metadata": {
    "collapsed": false
   },
   "outputs": [
    {
     "data": {
      "text/plain": [
       "{bool: 1, float: 3, int: 5, list: 1, dict: 1, NoneType: 1, str: 4, tuple: 1}"
      ]
     },
     "execution_count": 1,
     "metadata": {},
     "output_type": "execute_result"
    }
   ],
   "source": [
    "# Here's a bit of starter code to get you started:\n",
    "def count_types(input):\n",
    "    \n",
    "    # A dictionary is a great choice for this type of data problem\n",
    "    type_counts = {}\n",
    "    \n",
    "    for value in input:\n",
    "        \n",
    "        type_key = type(value)\n",
    "        \n",
    "        # We update the count of each type if it exists\n",
    "        if type_key in type_counts:\n",
    "            type_counts.update({type_key: type_counts[type_key] + 1})\n",
    "            \n",
    "        # Or set the count to 1 if we've never seen the key type in the dictionary\n",
    "        else:\n",
    "            type_counts.update({type_key: 1})\n",
    "    \n",
    "    # This is sufficient to report the solution to the problem\n",
    "    # print type_counts\n",
    "\n",
    "    return type_counts # If we return, we can reuse this method for the 2nd challenege\n",
    "\n",
    "example_input = [\n",
    "    True, \n",
    "    5, \n",
    "    23.234, \n",
    "    3.55, \n",
    "    \"Kiefer is a nerd\", \n",
    "    {\"steve\": \"jobs\"}, \n",
    "    (5, 23, 55), \n",
    "    max([1, 0, 1, 1]), \n",
    "    abs(-234), \n",
    "    (5 + 3.01), \n",
    "    \"\",\n",
    "    None,\n",
    "    [5] * 20,\n",
    "    \"343434\",\n",
    "    \"5\" + \"aaaaaa2\",\n",
    "    55 % 3,\n",
    "    5^2\n",
    "]\n",
    "\n",
    "count_types(example_input)\n"
   ]
  },
  {
   "cell_type": "markdown",
   "metadata": {},
   "source": [
    "## Optional Challenge 2 - Printing Max Type\n",
    "\n",
    "Given an list input of mixed element types (ie: *example_input*), print the most common type and count.  \n",
    "\n",
    "_If there are more than one common types, print both out._\n",
    "\n",
    "**Input:**\n",
    "\n",
    "    [5, \"Foo\", (2, 4, 5, 100), {\"fox\": \"mammal\"}, False, True, 2.987, \"Bar\"]\n",
    "    \n",
    "**Output:**\n",
    "\n",
    "    string: 2\n",
    "    boolean: 2\n",
    "    \n",
    "    # String and boolean have the greatest count: 2"
   ]
  },
  {
   "cell_type": "code",
   "execution_count": 2,
   "metadata": {
    "collapsed": false
   },
   "outputs": [
    {
     "name": "stdout",
     "output_type": "stream",
     "text": [
      "Max type count is:  <type 'int'>  with a max count of:  5\n"
     ]
    }
   ],
   "source": [
    "## Solution here\n",
    "\n",
    "value_counts = count_types(example_input)\n",
    "max_count = 0 \n",
    "last_max_type = False\n",
    "\n",
    "for type_key, value_count in value_counts.iteritems():\n",
    "    \n",
    "    if value_count > max_count:\n",
    "        max_count = value_count\n",
    "        last_max_type = type_key\n",
    "    \n",
    "print \"Max type count is: \", last_max_type, \" with a max count of: \", max_count\n",
    "\n",
    "# For when we have multiple max counts that are the same\n",
    "# The easiest way to do this is with a list comprehension:\n",
    "duplicate_max_values = [type_key for type_key, value_count in value_counts.items() \n",
    "                        if value_count == max_count and last_max_type != last_max_type]\n",
    "\n",
    "if len(duplicate_max_values):\n",
    "    print \"Also, duplicate max values found: \", duplicate_max_values\n",
    "\n",
    "# Alternatively, we can also write this like:\n",
    "# duplicate_max_values = []\n",
    "# for type_key, value_count in value_counts.items():\n",
    "#     if value_count == max_count and last_max_type != last_max_type:\n",
    "#         duplicate_max_values.append(type_key)\n",
    "#\n",
    "### We may cover list comprehensions in-depth but sometimes its easier to deal with problems\n",
    "### comprehsnion blocks than it is to write a literal loop to solve a problem.  There are also \n",
    "### other use cases that where one makes sense over the other but for problems like this, it's\n",
    "### preferable to use a comprehension with a boolean control to filter a list or dictionary."
   ]
  },
  {
   "cell_type": "markdown",
   "metadata": {},
   "source": [
    "## Optional Challenge 3 - Intersection of Counts\n",
    "\n",
    "Given a 2 lists inputs with mixed element types (ie: _example_input_), print types that have the same counts from each list. \n",
    "\n",
    "_If there are more than one common types, print both out._\n",
    "\n",
    "**Input:**\n",
    "\n",
    "    Input 1:  [5, \"Foo\", (2, 4, 5, 100), {\"monkey\": \"mammal\"}, False, True, 2.987, \"Bar\", {\"snake\": \"reptile\"}]\n",
    "    Input 2:  [\"335\", False, True, \"Maybe\", 105.3, {\"kiefer\": \"nerd\"}, {234: \"value\"}]\n",
    "    \n",
    "**Output:**\n",
    "\n",
    "    strings: 2\n",
    "    booleans: 2\n",
    "    dictionaries: 2\n",
    "    floats: 2\n",
    "    \n",
    "\n",
    "** Explanation **\n",
    "* The first input has 1 int, **1 float**, **2 strings**, 1 tuple, **2 dictionaries**, **2 booleans**.\n",
    "* The second input as **2 strings**, **2 booleans**, **1 float**, **2 dictionaries**.\n",
    "* The quantities that match are **strings, booleans, dictionaries,** and **floats**.\n",
    "    \n",
    " "
   ]
  },
  {
   "cell_type": "code",
   "execution_count": 4,
   "metadata": {
    "collapsed": false
   },
   "outputs": [
    {
     "name": "stdout",
     "output_type": "stream",
     "text": [
      "<type 'tuple'> 1\n",
      "1\n",
      "<type 'bool'> 1\n",
      "1\n",
      "<type 'NoneType'> 1\n",
      "1\n",
      "<type 'dict'> 1\n",
      "1\n",
      "<type 'list'> 1\n",
      "1\n",
      "\n",
      "Input1:  [True, 5, 23.234, 3.55, 'Kiefer is a nerd', {'steve': 'jobs'}, (5, 23, 55), 1, 234, 8.01, '', None, [5, 5, 5, 5, 5, 5, 5, 5, 5, 5, 5, 5, 5, 5, 5, 5, 5, 5, 5, 5], '343434', '5aaaaaa2', 1, 7] \n",
      "\n",
      "Input 2:  ['335', False, 'Maybe', 105.3, {'kiefer': 'nerd'}, 4, 12345]\n"
     ]
    }
   ],
   "source": [
    "## Reuse example_input\n",
    "def count_matching_quanities(input1, input2):\n",
    "    \n",
    "    count_values_1 = count_types(input1)\n",
    "    count_values_2 = count_types(input2)\n",
    "    \n",
    "    intersection_values = []\n",
    "    \n",
    "    for type_key_1, value_count_1 in count_values_1.items():\n",
    "        \n",
    "        if value_count_1 in count_values_2.values():\n",
    "            print type_key_1, value_count_1\n",
    "            print value_count_1\n",
    "        \n",
    "    \n",
    "    \n",
    "    # update code here\n",
    "    print \"\\nInput1: \", input1, \"\\n\\nInput 2: \", input2\n",
    "\n",
    "example_input2 = [\n",
    "    \"335\", \n",
    "    False, \n",
    "    \"Maybe\", \n",
    "    105.3, \n",
    "    {\"kiefer\": \"nerd\"}, \n",
    "    4,\n",
    "    12345\n",
    "]\n",
    "\n",
    "count_matching_quanities(example_input, example_input2)"
   ]
  },
  {
   "cell_type": "code",
   "execution_count": null,
   "metadata": {
    "collapsed": true
   },
   "outputs": [],
   "source": []
  }
 ],
 "metadata": {
  "kernelspec": {
   "display_name": "Python 2",
   "language": "python",
   "name": "python2"
  },
  "language_info": {
   "codemirror_mode": {
    "name": "ipython",
    "version": 2
   },
   "file_extension": ".py",
   "mimetype": "text/x-python",
   "name": "python",
   "nbconvert_exporter": "python",
   "pygments_lexer": "ipython2",
   "version": "2.7.11"
  },
  "toc": {
   "toc_cell": false,
   "toc_number_sections": true,
   "toc_threshold": 6,
   "toc_window_display": false
  }
 },
 "nbformat": 4,
 "nbformat_minor": 0
}
