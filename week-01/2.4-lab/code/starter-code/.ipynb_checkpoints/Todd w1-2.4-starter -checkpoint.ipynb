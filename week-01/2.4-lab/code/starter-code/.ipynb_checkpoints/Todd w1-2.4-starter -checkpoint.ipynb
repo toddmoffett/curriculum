{
 "cells": [
  {
   "cell_type": "code",
   "execution_count": 104,
   "metadata": {
    "collapsed": false
   },
   "outputs": [],
   "source": [
    "# Dictionary of movies\n",
    "\n",
    "movies = [\n",
    "{\n",
    "\"name\": \"Usual Suspects\", \n",
    "\"imdb\": 7.0,\n",
    "\"category\": \"Thriller\"\n",
    "},\n",
    "{\n",
    "\"name\": \"Hitman\",\n",
    "\"imdb\": 6.3,\n",
    "\"category\": \"Action\"\n",
    "},\n",
    "{\n",
    "\"name\": \"Dark Knight\",\n",
    "\"imdb\": 9.0,\n",
    "\"category\": \"Adventure\"\n",
    "},\n",
    "{\n",
    "\"name\": \"The Help\",\n",
    "\"imdb\": 8.0,\n",
    "\"category\": \"Drama\"\n",
    "},\n",
    "{\n",
    "\"name\": \"The Choice\",\n",
    "\"imdb\": 6.2,\n",
    "\"category\": \"Romance\"\n",
    "},\n",
    "{\n",
    "\"name\": \"Colonia\",\n",
    "\"imdb\": 7.4,\n",
    "\"category\": \"Romance\"\n",
    "},\n",
    "{\n",
    "\"name\": \"Love\",\n",
    "\"imdb\": 6.0,\n",
    "\"category\": \"Romance\"\n",
    "},\n",
    "{\n",
    "\"name\": \"Bride Wars\",\n",
    "\"imdb\": 5.4,\n",
    "\"category\": \"Romance\"\n",
    "},\n",
    "{\n",
    "\"name\": \"AlphaJet\",\n",
    "\"imdb\": 3.2,\n",
    "\"category\": \"War\"\n",
    "},\n",
    "{\n",
    "\"name\": \"Ringing Crime\",\n",
    "\"imdb\": 4.0,\n",
    "\"category\": \"Crime\"\n",
    "},\n",
    "{\n",
    "\"name\": \"Joking muck\",\n",
    "\"imdb\": 7.2,\n",
    "\"category\": \"Comedy\"\n",
    "},\n",
    "{\n",
    "\"name\": \"What is the name\",\n",
    "\"imdb\": 9.2,\n",
    "\"category\": \"Suspense\"\n",
    "},\n",
    "{\n",
    "\"name\": \"Detective\",\n",
    "\"imdb\": 7.0,\n",
    "\"category\": \"Suspense\"\n",
    "},\n",
    "{\n",
    "\"name\": \"Exam\",\n",
    "\"imdb\": 4.2,\n",
    "\"category\": \"Thriller\"\n",
    "},\n",
    "{\n",
    "\"name\": \"We Two\",\n",
    "\"imdb\": 7.2,\n",
    "\"category\": \"Romance\"\n",
    "}\n",
    "]"
   ]
  },
  {
   "cell_type": "code",
   "execution_count": 4,
   "metadata": {
    "collapsed": false
   },
   "outputs": [
    {
     "data": {
      "text/plain": [
       "[{'category': 'Thriller', 'imdb': 7.0, 'name': 'Usual Suspects'},\n",
       " {'category': 'Action', 'imdb': 6.3, 'name': 'Hitman'},\n",
       " {'category': 'Adventure', 'imdb': 9.0, 'name': 'Dark Knight'},\n",
       " {'category': 'Drama', 'imdb': 8.0, 'name': 'The Help'},\n",
       " {'category': 'Romance', 'imdb': 6.2, 'name': 'The Choice'},\n",
       " {'category': 'Romance', 'imdb': 7.4, 'name': 'Colonia'},\n",
       " {'category': 'Romance', 'imdb': 6.0, 'name': 'Love'},\n",
       " {'category': 'Romance', 'imdb': 5.4, 'name': 'Bride Wars'},\n",
       " {'category': 'War', 'imdb': 3.2, 'name': 'AlphaJet'},\n",
       " {'category': 'Crime', 'imdb': 4.0, 'name': 'Ringing Crime'},\n",
       " {'category': 'Comedy', 'imdb': 7.2, 'name': 'Joking muck'},\n",
       " {'category': 'Suspense', 'imdb': 9.2, 'name': 'What is the name'},\n",
       " {'category': 'Suspense', 'imdb': 7.0, 'name': 'Detective'},\n",
       " {'category': 'Thriller', 'imdb': 4.2, 'name': 'Exam'},\n",
       " {'category': 'Romance', 'imdb': 7.2, 'name': 'We Two'}]"
      ]
     },
     "execution_count": 4,
     "metadata": {},
     "output_type": "execute_result"
    }
   ],
   "source": [
    "movies"
   ]
  },
  {
   "cell_type": "code",
   "execution_count": 1,
   "metadata": {
    "collapsed": false
   },
   "outputs": [],
   "source": [
    "# Write a function that takes a single movie and \n",
    "# returns True if its IMDB score is above 5.5"
   ]
  },
  {
   "cell_type": "code",
   "execution_count": null,
   "metadata": {
    "collapsed": false
   },
   "outputs": [],
   "source": []
  },
  {
   "cell_type": "code",
   "execution_count": 85,
   "metadata": {
    "collapsed": false
   },
   "outputs": [],
   "source": [
    "def imdb_above_5(x):\n",
    "    for i in x:\n",
    "        if i['imdb'] > 5.5:\n",
    "            print True \n",
    "        else:\n",
    "            return False\n"
   ]
  },
  {
   "cell_type": "code",
   "execution_count": 87,
   "metadata": {
    "collapsed": false
   },
   "outputs": [
    {
     "name": "stdout",
     "output_type": "stream",
     "text": [
      "True\n",
      "True\n",
      "True\n",
      "True\n",
      "True\n",
      "True\n",
      "True\n"
     ]
    },
    {
     "data": {
      "text/plain": [
       "False"
      ]
     },
     "execution_count": 87,
     "metadata": {},
     "output_type": "execute_result"
    }
   ],
   "source": [
    "imdb_above_5(movies)"
   ]
  },
  {
   "cell_type": "code",
   "execution_count": 88,
   "metadata": {
    "collapsed": false
   },
   "outputs": [],
   "source": [
    "# Write a function that returns a sublist of movies \n",
    "# with an IMDB score above 5.5. \n",
    "def imdb_above_5(x):\n",
    "    for i in x:\n",
    "        if i['imdb'] > 5.5:\n",
    "            print i['name'],' : ', i['category'], '- true'\n",
    "        else:\n",
    "            print i['name'],' : ', i['category'], '- false'\n"
   ]
  },
  {
   "cell_type": "code",
   "execution_count": 89,
   "metadata": {
    "collapsed": false
   },
   "outputs": [
    {
     "name": "stdout",
     "output_type": "stream",
     "text": [
      "Usual Suspects  :  Thriller - true\n",
      "Hitman  :  Action - true\n",
      "Dark Knight  :  Adventure - true\n",
      "The Help  :  Drama - true\n",
      "The Choice  :  Romance - true\n",
      "Colonia  :  Romance - true\n",
      "Love  :  Romance - true\n",
      "Bride Wars  :  Romance - false\n",
      "AlphaJet  :  War - false\n",
      "Ringing Crime  :  Crime - false\n",
      "Joking muck  :  Comedy - true\n",
      "What is the name  :  Suspense - true\n",
      "Detective  :  Suspense - true\n",
      "Exam  :  Thriller - false\n",
      "We Two  :  Romance - true\n"
     ]
    }
   ],
   "source": [
    "imdb_above_5(movies)"
   ]
  },
  {
   "cell_type": "code",
   "execution_count": 115,
   "metadata": {
    "collapsed": false
   },
   "outputs": [
    {
     "ename": "NameError",
     "evalue": "name 'key' is not defined",
     "output_type": "error",
     "traceback": [
      "\u001b[0;31m-------------------------------------------------------------------------\u001b[0m",
      "\u001b[0;31mNameError\u001b[0m                               Traceback (most recent call last)",
      "\u001b[0;32m<ipython-input-115-a07acf538844>\u001b[0m in \u001b[0;36m<module>\u001b[0;34m()\u001b[0m\n\u001b[0;32m----> 1\u001b[0;31m \u001b[0mmovie_names\u001b[0m \u001b[0;34m=\u001b[0m \u001b[0mmovies\u001b[0m\u001b[0;34m[\u001b[0m\u001b[0mkey\u001b[0m\u001b[0;34m,\u001b[0m\u001b[0;34m'name'\u001b[0m\u001b[0;34m]\u001b[0m\u001b[0;34m\u001b[0m\u001b[0m\n\u001b[0m",
      "\u001b[0;31mNameError\u001b[0m: name 'key' is not defined"
     ]
    }
   ],
   "source": []
  },
  {
   "cell_type": "code",
   "execution_count": 117,
   "metadata": {
    "collapsed": true
   },
   "outputs": [],
   "source": [
    "movies_list = [m['name'] for m in movies]"
   ]
  },
  {
   "cell_type": "code",
   "execution_count": 118,
   "metadata": {
    "collapsed": false
   },
   "outputs": [
    {
     "data": {
      "text/plain": [
       "['Usual Suspects',\n",
       " 'Hitman',\n",
       " 'Dark Knight',\n",
       " 'The Help',\n",
       " 'The Choice',\n",
       " 'Colonia',\n",
       " 'Love',\n",
       " 'Bride Wars',\n",
       " 'AlphaJet',\n",
       " 'Ringing Crime',\n",
       " 'Joking muck',\n",
       " 'What is the name',\n",
       " 'Detective',\n",
       " 'Exam',\n",
       " 'We Two']"
      ]
     },
     "execution_count": 118,
     "metadata": {},
     "output_type": "execute_result"
    }
   ],
   "source": [
    "movies_list"
   ]
  },
  {
   "cell_type": "code",
   "execution_count": 127,
   "metadata": {
    "collapsed": false
   },
   "outputs": [
    {
     "name": "stdout",
     "output_type": "stream",
     "text": [
      "(0, {'category': 'Thriller', 'imdb': 7.0, 'name': 'Usual Suspects'})\n",
      "(1, {'category': 'Action', 'imdb': 6.3, 'name': 'Hitman'})\n",
      "(2, {'category': 'Adventure', 'imdb': 9.0, 'name': 'Dark Knight'})\n",
      "(3, {'category': 'Drama', 'imdb': 8.0, 'name': 'The Help'})\n",
      "(4, {'category': 'Romance', 'imdb': 6.2, 'name': 'The Choice'})\n",
      "(5, {'category': 'Romance', 'imdb': 7.4, 'name': 'Colonia'})\n",
      "(6, {'category': 'Romance', 'imdb': 6.0, 'name': 'Love'})\n",
      "(7, {'category': 'Romance', 'imdb': 5.4, 'name': 'Bride Wars'})\n",
      "(8, {'category': 'War', 'imdb': 3.2, 'name': 'AlphaJet'})\n",
      "(9, {'category': 'Crime', 'imdb': 4.0, 'name': 'Ringing Crime'})\n",
      "(10, {'category': 'Comedy', 'imdb': 7.2, 'name': 'Joking muck'})\n",
      "(11, {'category': 'Suspense', 'imdb': 9.2, 'name': 'What is the name'})\n",
      "(12, {'category': 'Suspense', 'imdb': 7.0, 'name': 'Detective'})\n",
      "(13, {'category': 'Thriller', 'imdb': 4.2, 'name': 'Exam'})\n",
      "(14, {'category': 'Romance', 'imdb': 7.2, 'name': 'We Two'})\n"
     ]
    }
   ],
   "source": [
    "for i, m in enumerate(movies):\n",
    "   print (i, m)"
   ]
  },
  {
   "cell_type": "code",
   "execution_count": 129,
   "metadata": {
    "collapsed": false
   },
   "outputs": [
    {
     "name": "stdout",
     "output_type": "stream",
     "text": [
      "Exam\n"
     ]
    },
    {
     "ename": "NameError",
     "evalue": "global name 'movie_list' is not defined",
     "output_type": "error",
     "traceback": [
      "\u001b[0;31m-------------------------------------------------------------------------\u001b[0m",
      "\u001b[0;31mNameError\u001b[0m                               Traceback (most recent call last)",
      "\u001b[0;32m<ipython-input-129-bc58b0b10f57>\u001b[0m in \u001b[0;36m<module>\u001b[0;34m()\u001b[0m\n\u001b[1;32m      6\u001b[0m         \u001b[0;32mreturn\u001b[0m \u001b[0mFalse\u001b[0m\u001b[0;34m\u001b[0m\u001b[0m\n\u001b[1;32m      7\u001b[0m \u001b[0;34m\u001b[0m\u001b[0m\n\u001b[0;32m----> 8\u001b[0;31m \u001b[0mmovie_finder\u001b[0m\u001b[0;34m(\u001b[0m\u001b[0mmovies_list\u001b[0m\u001b[0;34m)\u001b[0m\u001b[0;34m\u001b[0m\u001b[0m\n\u001b[0m",
      "\u001b[0;32m<ipython-input-129-bc58b0b10f57>\u001b[0m in \u001b[0;36mmovie_finder\u001b[0;34m(movies_list)\u001b[0m\n\u001b[1;32m      2\u001b[0m     \u001b[0mmovie_name\u001b[0m \u001b[0;34m=\u001b[0m \u001b[0mraw_input\u001b[0m\u001b[0;34m(\u001b[0m\u001b[0;34m)\u001b[0m\u001b[0;34m\u001b[0m\u001b[0m\n\u001b[1;32m      3\u001b[0m     \u001b[0;32mif\u001b[0m \u001b[0mmovie_name\u001b[0m \u001b[0;32min\u001b[0m \u001b[0mmovies_list\u001b[0m\u001b[0;34m:\u001b[0m\u001b[0;34m\u001b[0m\u001b[0m\n\u001b[0;32m----> 4\u001b[0;31m         \u001b[0;32mprint\u001b[0m \u001b[0mmovie_list\u001b[0m\u001b[0;34m[\u001b[0m\u001b[0;34m'imdb'\u001b[0m\u001b[0;34m]\u001b[0m\u001b[0;34m\u001b[0m\u001b[0m\n\u001b[0m\u001b[1;32m      5\u001b[0m     \u001b[0;32melse\u001b[0m\u001b[0;34m:\u001b[0m\u001b[0;34m\u001b[0m\u001b[0m\n\u001b[1;32m      6\u001b[0m         \u001b[0;32mreturn\u001b[0m \u001b[0mFalse\u001b[0m\u001b[0;34m\u001b[0m\u001b[0m\n",
      "\u001b[0;31mNameError\u001b[0m: global name 'movie_list' is not defined"
     ]
    }
   ],
   "source": [
    "def movie_finder(movies_list):\n",
    "    movie_name = raw_input()\n",
    "    if movie_name in movies_list:\n",
    "        print movies['imdb']\n",
    "    else:\n",
    "        return False\n",
    "\n",
    "movie_finder(movies_list)    "
   ]
  },
  {
   "cell_type": "code",
   "execution_count": 119,
   "metadata": {
    "collapsed": false,
    "scrolled": false
   },
   "outputs": [
    {
     "name": "stdout",
     "output_type": "stream",
     "text": [
      "(0, {'category': 'Thriller', 'imdb': 7.0, 'name': 'Usual Suspects'})\n",
      "(1, {'category': 'Action', 'imdb': 6.3, 'name': 'Hitman'})\n",
      "(2, {'category': 'Adventure', 'imdb': 9.0, 'name': 'Dark Knight'})\n",
      "(3, {'category': 'Drama', 'imdb': 8.0, 'name': 'The Help'})\n",
      "(4, {'category': 'Romance', 'imdb': 6.2, 'name': 'The Choice'})\n",
      "(5, {'category': 'Romance', 'imdb': 7.4, 'name': 'Colonia'})\n",
      "(6, {'category': 'Romance', 'imdb': 6.0, 'name': 'Love'})\n",
      "(7, {'category': 'Romance', 'imdb': 5.4, 'name': 'Bride Wars'})\n",
      "(8, {'category': 'War', 'imdb': 3.2, 'name': 'AlphaJet'})\n",
      "(9, {'category': 'Crime', 'imdb': 4.0, 'name': 'Ringing Crime'})\n",
      "(10, {'category': 'Comedy', 'imdb': 7.2, 'name': 'Joking muck'})\n",
      "(11, {'category': 'Suspense', 'imdb': 9.2, 'name': 'What is the name'})\n",
      "(12, {'category': 'Suspense', 'imdb': 7.0, 'name': 'Detective'})\n",
      "(13, {'category': 'Thriller', 'imdb': 4.2, 'name': 'Exam'})\n",
      "(14, {'category': 'Romance', 'imdb': 7.2, 'name': 'We Two'})\n"
     ]
    }
   ],
   "source": [
    "for i, m in enumerate(movies):\n",
    "   print (i, m)"
   ]
  },
  {
   "cell_type": "code",
   "execution_count": 3,
   "metadata": {
    "collapsed": false
   },
   "outputs": [],
   "source": [
    "# Write a function that takes a category name and returns \n",
    "# just those movies under that category."
   ]
  },
  {
   "cell_type": "code",
   "execution_count": 4,
   "metadata": {
    "collapsed": false
   },
   "outputs": [],
   "source": [
    "# Write a function that takes a list of movies and computes \n",
    "# the average IMDB score."
   ]
  },
  {
   "cell_type": "code",
   "execution_count": 5,
   "metadata": {
    "collapsed": false
   },
   "outputs": [],
   "source": [
    "# Write a function that takes a category and computes \n",
    "# the average IMDB score (HINT: reuse the function \n",
    "# from question 2.)"
   ]
  }
 ],
 "metadata": {
  "anaconda-cloud": {},
  "kernelspec": {
   "display_name": "Python [conda env:py27]",
   "language": "python",
   "name": "conda-env-py27-py"
  },
  "language_info": {
   "codemirror_mode": {
    "name": "ipython",
    "version": 2
   },
   "file_extension": ".py",
   "mimetype": "text/x-python",
   "name": "python",
   "nbconvert_exporter": "python",
   "pygments_lexer": "ipython2",
   "version": "2.7.12"
  }
 },
 "nbformat": 4,
 "nbformat_minor": 0
}
