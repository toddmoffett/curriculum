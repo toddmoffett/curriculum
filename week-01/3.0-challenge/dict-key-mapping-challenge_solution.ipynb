{
 "cells": [
  {
   "cell_type": "markdown",
   "metadata": {},
   "source": [
    "# dict-key-mapping-challenge"
   ]
  },
  {
   "cell_type": "markdown",
   "metadata": {},
   "source": [
    "## Problem statement"
   ]
  },
  {
   "cell_type": "markdown",
   "metadata": {},
   "source": [
    "### Starting with this list"
   ]
  },
  {
   "cell_type": "code",
   "execution_count": 4,
   "metadata": {
    "collapsed": true
   },
   "outputs": [],
   "source": [
    "cars = {\n",
    "    '1999 Honda Civic':[1.6,35,43],\n",
    "    '2003 BMW 330ci':[3.0,21,30],\n",
    "    '2008 Ford F150':[4.3,14,20]\n",
    "}"
   ]
  },
  {
   "cell_type": "markdown",
   "metadata": {},
   "source": [
    "### Make a function that will search the keys in a case insensitive way. This function should return both the key and the value."
   ]
  },
  {
   "cell_type": "code",
   "execution_count": 2,
   "metadata": {
    "collapsed": true
   },
   "outputs": [],
   "source": [
    "def case_insensitive_search(search_key):\n",
    "    pass"
   ]
  },
  {
   "cell_type": "markdown",
   "metadata": {},
   "source": [
    "## Breaking the problem down"
   ]
  },
  {
   "cell_type": "markdown",
   "metadata": {},
   "source": [
    "### Step 1: make a (new) list of the keys where the elements are all lower case"
   ]
  },
  {
   "cell_type": "code",
   "execution_count": 5,
   "metadata": {
    "collapsed": true
   },
   "outputs": [],
   "source": [
    "cars = {\n",
    "    '1999 Honda Civic':[1.6,35,43],\n",
    "    '2003 BMW 330ci':[3.0,21,30],\n",
    "    '2008 Ford F150':[4.3,14,20]\n",
    "}"
   ]
  },
  {
   "cell_type": "code",
   "execution_count": 6,
   "metadata": {
    "collapsed": false
   },
   "outputs": [],
   "source": [
    "lower_case_keys = []\n",
    "for key in cars.keys():\n",
    "    lower_case_keys.append(key.lower())"
   ]
  },
  {
   "cell_type": "code",
   "execution_count": 7,
   "metadata": {
    "collapsed": false
   },
   "outputs": [
    {
     "data": {
      "text/plain": [
       "['1999 honda civic', '2003 bmw 330ci', '2008 ford f150']"
      ]
     },
     "execution_count": 7,
     "metadata": {},
     "output_type": "execute_result"
    }
   ],
   "source": [
    "lower_case_keys"
   ]
  },
  {
   "cell_type": "code",
   "execution_count": 16,
   "metadata": {
    "collapsed": true
   },
   "outputs": [],
   "source": [
    "search_key = '1999 hOnda ciVic'\n",
    "lower_search_key = search_key.lower()"
   ]
  },
  {
   "cell_type": "code",
   "execution_count": 17,
   "metadata": {
    "collapsed": false
   },
   "outputs": [
    {
     "data": {
      "text/plain": [
       "'1999 honda civic'"
      ]
     },
     "execution_count": 17,
     "metadata": {},
     "output_type": "execute_result"
    }
   ],
   "source": [
    "lower_search_key"
   ]
  },
  {
   "cell_type": "code",
   "execution_count": 18,
   "metadata": {
    "collapsed": false
   },
   "outputs": [
    {
     "data": {
      "text/plain": [
       "True"
      ]
     },
     "execution_count": 18,
     "metadata": {},
     "output_type": "execute_result"
    }
   ],
   "source": [
    "lower_search_key in lower_case_keys"
   ]
  },
  {
   "cell_type": "markdown",
   "metadata": {
    "collapsed": false
   },
   "source": [
    "## We have made a way to determine if the search_key exists in the keys of cars regardless of the case"
   ]
  },
  {
   "cell_type": "markdown",
   "metadata": {
    "collapsed": true
   },
   "source": [
    "## but that's not really what we want. What we want is to make a function that will return both the key and the value."
   ]
  },
  {
   "cell_type": "markdown",
   "metadata": {},
   "source": [
    "## Step 2: make a (new) dict of the keys where the keys are the lowercase keys of cars and the values are the keys as they appear in cars"
   ]
  },
  {
   "cell_type": "code",
   "execution_count": 20,
   "metadata": {
    "collapsed": true
   },
   "outputs": [],
   "source": [
    "lower_case_cars = {}\n",
    "for key in cars.keys():\n",
    "    lower_case_cars[ key.lower() ] = key "
   ]
  },
  {
   "cell_type": "code",
   "execution_count": 21,
   "metadata": {
    "collapsed": false
   },
   "outputs": [
    {
     "data": {
      "text/plain": [
       "{'1999 honda civic': '1999 Honda Civic',\n",
       " '2003 bmw 330ci': '2003 BMW 330ci',\n",
       " '2008 ford f150': '2008 Ford F150'}"
      ]
     },
     "execution_count": 21,
     "metadata": {},
     "output_type": "execute_result"
    }
   ],
   "source": [
    "lower_case_cars"
   ]
  },
  {
   "cell_type": "code",
   "execution_count": 22,
   "metadata": {
    "collapsed": true
   },
   "outputs": [],
   "source": [
    "search_key = '1999 hOnda ciVic'\n",
    "lower_search_key = search_key.lower()"
   ]
  },
  {
   "cell_type": "code",
   "execution_count": 24,
   "metadata": {
    "collapsed": false
   },
   "outputs": [
    {
     "data": {
      "text/plain": [
       "True"
      ]
     },
     "execution_count": 24,
     "metadata": {},
     "output_type": "execute_result"
    }
   ],
   "source": [
    "lower_search_key in lower_case_cars.keys()"
   ]
  },
  {
   "cell_type": "code",
   "execution_count": 25,
   "metadata": {
    "collapsed": false
   },
   "outputs": [
    {
     "data": {
      "text/plain": [
       "'1999 Honda Civic'"
      ]
     },
     "execution_count": 25,
     "metadata": {},
     "output_type": "execute_result"
    }
   ],
   "source": [
    "lower_case_cars[lower_search_key]"
   ]
  },
  {
   "cell_type": "code",
   "execution_count": 26,
   "metadata": {
    "collapsed": false
   },
   "outputs": [
    {
     "data": {
      "text/plain": [
       "[1.6, 35, 43]"
      ]
     },
     "execution_count": 26,
     "metadata": {},
     "output_type": "execute_result"
    }
   ],
   "source": [
    "cars[lower_case_cars[lower_search_key]]"
   ]
  },
  {
   "cell_type": "markdown",
   "metadata": {},
   "source": [
    "## Now we have a way to map between the search_key and the key in cars and the value in keys"
   ]
  },
  {
   "cell_type": "markdown",
   "metadata": {},
   "source": [
    "## let's put it all together into a function"
   ]
  },
  {
   "cell_type": "code",
   "execution_count": 34,
   "metadata": {
    "collapsed": false
   },
   "outputs": [
    {
     "data": {
      "text/plain": [
       "('1999 Honda Civic', [1.6, 35, 43])"
      ]
     },
     "execution_count": 34,
     "metadata": {},
     "output_type": "execute_result"
    }
   ],
   "source": [
    "cars = {\n",
    "    '1999 Honda Civic':[1.6,35,43],\n",
    "    '2003 BMW 330ci':[3.0,21,30],\n",
    "    '2008 Ford F150':[4.3,14,20]\n",
    "}\n",
    "\n",
    "def case_insensitive_search(dict_of_interest,search_key):\n",
    "    # step 1: is to convert the search_key to lower case\n",
    "    lower_search_key = search_key.lower()\n",
    "    # step 2: make the dict... which will map between\n",
    "    # key = lower case key from cars dict\n",
    "    # value = key as is in cars dict\n",
    "    lower_case_cars = {}\n",
    "    for key in dict_of_interest.keys():\n",
    "        lower_case_cars[ key.lower() ] = key\n",
    "    if lower_search_key in lower_case_cars.keys():\n",
    "        key_as_in_dict = lower_case_cars[lower_search_key]\n",
    "        value_as_in_dict = dict_of_interest[lower_case_cars[lower_search_key]]\n",
    "        return key_as_in_dict, value_as_in_dict\n",
    "    else:\n",
    "        return 'search_key not in dict_of_interest'\n",
    "\n",
    "case_insensitive_search(cars, '1999 hOnda ciVic')"
   ]
  },
  {
   "cell_type": "code",
   "execution_count": null,
   "metadata": {
    "collapsed": true
   },
   "outputs": [],
   "source": []
  }
 ],
 "metadata": {
  "anaconda-cloud": {},
  "kernelspec": {
   "display_name": "Python 2",
   "language": "python",
   "name": "python2"
  },
  "language_info": {
   "codemirror_mode": {
    "name": "ipython",
    "version": 2
   },
   "file_extension": ".py",
   "mimetype": "text/x-python",
   "name": "python",
   "nbconvert_exporter": "python",
   "pygments_lexer": "ipython2",
   "version": "2.7.11"
  },
  "widgets": {
   "state": {},
   "version": "1.1.2"
  }
 },
 "nbformat": 4,
 "nbformat_minor": 0
}
