{
 "cells": [
  {
   "cell_type": "code",
   "execution_count": 6,
   "metadata": {
    "collapsed": false
   },
   "outputs": [
    {
     "name": "stdout",
     "output_type": "stream",
     "text": [
      "+ - - - - + - - - - +\n",
      "|         |         |\n",
      "|         |         |\n",
      "|         |         |\n",
      "|         |         |\n",
      "+ - - - - + - - - - +\n",
      "|         |         |\n",
      "|         |         |\n",
      "|         |         |\n",
      "|         |         |\n",
      "+ - - - - + - - - - +\n"
     ]
    }
   ],
   "source": [
    "# One possible solution\n",
    "\n",
    "def draw_square():\n",
    "    \n",
    "    row = '+ ' + '- '*4 + '+ ' + '- '*4 + '+'\n",
    "    \n",
    "    column = '|'+ ' '*9 + '|' + ' '*9 + '|'\n",
    "    \n",
    "    for i in [1,0,0,0,0,1,0,0,0,0,1]:\n",
    "        if i == 1:\n",
    "            print row\n",
    "        else:\n",
    "            print column\n",
    "            \n",
    "draw_square()"
   ]
  },
  {
   "cell_type": "code",
   "execution_count": 7,
   "metadata": {
    "collapsed": false
   },
   "outputs": [
    {
     "name": "stdout",
     "output_type": "stream",
     "text": [
      "+ - - - - + - - - - +\n",
      "|         |         |\n",
      "|         |         |\n",
      "|         |         |\n",
      "|         |         |\n",
      "+ - - - - + - - - - +\n",
      "|         |         |\n",
      "|         |         |\n",
      "|         |         |\n",
      "|         |         |\n",
      "+ - - - - + - - - - +\n"
     ]
    }
   ],
   "source": [
    "# another solution\n",
    "\n",
    "def horizontal():\n",
    "    print '+ - - - - + - - - - +'\n",
    "def vertical():\n",
    "    print '|         |         |'\n",
    "\n",
    "def box():\n",
    "    horizontal()\n",
    "    for i in range(4):\n",
    "        vertical()\n",
    "    horizontal()\n",
    "    for i in range(4):\n",
    "        vertical()\n",
    "    horizontal()\n",
    "\n",
    "box()"
   ]
  },
  {
   "cell_type": "code",
   "execution_count": 8,
   "metadata": {
    "collapsed": false
   },
   "outputs": [
    {
     "name": "stdout",
     "output_type": "stream",
     "text": [
      "+ - - - - + - - - - +\n",
      "|         |         |\n",
      "|         |         |\n",
      "|         |         |\n",
      "|         |         |\n",
      "+ - - - - + - - - - +\n",
      "|         |         |\n",
      "|         |         |\n",
      "|         |         |\n",
      "|         |         |\n",
      "+ - - - - + - - - - +\n"
     ]
    }
   ],
   "source": [
    "# john hou's solution\n",
    "\n",
    "def draw_box():\n",
    "    for i in range(11):\n",
    "        if i % 5 == 0:\n",
    "            print ('+ - - - - + - - - - +')\n",
    "        else:\n",
    "            print ('|         |         |')\n",
    "draw_box()"
   ]
  },
  {
   "cell_type": "code",
   "execution_count": 9,
   "metadata": {
    "collapsed": false
   },
   "outputs": [
    {
     "name": "stdout",
     "output_type": "stream",
     "text": [
      "+ - - - - - - - - - - + - - - - - - - - - - +\n",
      "|                     |                     |\n",
      "|                     |                     |\n",
      "|                     |                     |\n",
      "|                     |                     |\n",
      "|                     |                     |\n",
      "|                     |                     |\n",
      "|                     |                     |\n",
      "|                     |                     |\n",
      "|                     |                     |\n",
      "|                     |                     |\n",
      "+ - - - - - - - - - - + - - - - - - - - - - +\n",
      "|                     |                     |\n",
      "|                     |                     |\n",
      "|                     |                     |\n",
      "|                     |                     |\n",
      "|                     |                     |\n",
      "|                     |                     |\n",
      "|                     |                     |\n",
      "|                     |                     |\n",
      "|                     |                     |\n",
      "|                     |                     |\n",
      "+ - - - - - - - - - - + - - - - - - - - - - +\n"
     ]
    }
   ],
   "source": [
    "# Chris' solution\n",
    "\n",
    "def display_quadrants(size):\n",
    "#     from __future__ import print_function\n",
    "    #create 4 eaqual quadrants\n",
    "    #size is the length of x and y sides\n",
    "    horizontal_string = '+ '+'- '*size+\"+ \" + \"- \"*size+\"+\"\n",
    "    veritcal_string =  \"|\"+\" \"*(size*2+1) +\"|\"+ \" \"*(size*2+1)+ \"|\"\n",
    "    for y in range(2):\n",
    "        print (horizontal_string)\n",
    "        for i in range(size):\n",
    "            print (veritcal_string) \n",
    "    print (horizontal_string)\n",
    "display_quadrants(10)"
   ]
  },
  {
   "cell_type": "code",
   "execution_count": 10,
   "metadata": {
    "collapsed": false
   },
   "outputs": [
    {
     "name": "stdout",
     "output_type": "stream",
     "text": [
      "+ - - - - + - - - - +\n",
      "|         |         |\n",
      "|         |         |\n",
      "|         |         |\n",
      "|         |         |\n",
      "+ - - - - + - - - - +\n",
      "|         |         |\n",
      "|         |         |\n",
      "|         |         |\n",
      "|         |         |\n",
      "+ - - - - + - - - - +\n",
      "\n",
      "X X H H H H H H H X X H H H H H H H X X H H H H H H H X X H H H H H H H X X\n",
      "X X H H H H H H H X X H H H H H H H X X H H H H H H H X X H H H H H H H X X\n",
      "I I               I I               I I               I I               I I\n",
      "I I               I I               I I               I I               I I\n",
      "I I               I I               I I               I I               I I\n",
      "I I               I I               I I               I I               I I\n",
      "I I               I I               I I               I I               I I\n",
      "I I               I I               I I               I I               I I\n",
      "I I               I I               I I               I I               I I\n",
      "X X H H H H H H H X X H H H H H H H X X H H H H H H H X X H H H H H H H X X\n",
      "X X H H H H H H H X X H H H H H H H X X H H H H H H H X X H H H H H H H X X\n",
      "I I               I I               I I               I I               I I\n",
      "I I               I I               I I               I I               I I\n",
      "I I               I I               I I               I I               I I\n",
      "I I               I I               I I               I I               I I\n",
      "I I               I I               I I               I I               I I\n",
      "I I               I I               I I               I I               I I\n",
      "I I               I I               I I               I I               I I\n",
      "X X H H H H H H H X X H H H H H H H X X H H H H H H H X X H H H H H H H X X\n",
      "X X H H H H H H H X X H H H H H H H X X H H H H H H H X X H H H H H H H X X\n",
      "I I               I I               I I               I I               I I\n",
      "I I               I I               I I               I I               I I\n",
      "I I               I I               I I               I I               I I\n",
      "I I               I I               I I               I I               I I\n",
      "I I               I I               I I               I I               I I\n",
      "I I               I I               I I               I I               I I\n",
      "I I               I I               I I               I I               I I\n",
      "X X H H H H H H H X X H H H H H H H X X H H H H H H H X X H H H H H H H X X\n",
      "X X H H H H H H H X X H H H H H H H X X H H H H H H H X X H H H H H H H X X\n",
      "I I               I I               I I               I I               I I\n",
      "I I               I I               I I               I I               I I\n",
      "I I               I I               I I               I I               I I\n",
      "I I               I I               I I               I I               I I\n",
      "I I               I I               I I               I I               I I\n",
      "I I               I I               I I               I I               I I\n",
      "I I               I I               I I               I I               I I\n",
      "X X H H H H H H H X X H H H H H H H X X H H H H H H H X X H H H H H H H X X\n",
      "X X H H H H H H H X X H H H H H H H X X H H H H H H H X X H H H H H H H X X\n",
      "\n"
     ]
    }
   ],
   "source": [
    "# David's solution\n",
    "\n",
    "# Underlying string repetition function for to construct the square\n",
    "def stringrepeater(str1, str2, reps):\n",
    "    return ((str1 * reps[0] + str2 * reps[1]) * reps[2] + str1 * reps[0])\n",
    "\n",
    "# Print the square.  The inputs are a list of characters for [corner, horizonal line, vertical line]\n",
    "# and a list of [line width, line length per square, number of squares on a side]\n",
    "\n",
    "def printsquare(chars, reps):\n",
    "    str1 = stringrepeater(chars[0], chars[1], reps)[0:-1] + \"\\n\"\n",
    "    str2 = stringrepeater(chars[2], \"  \", reps)[0:-1] + \"\\n\"\n",
    "    square = stringrepeater(str1, str2, reps)\n",
    "    print(square)\n",
    "\n",
    "printsquare([\"+ \", \"- \", \"| \"], [1,4,2])\n",
    "printsquare([\"X \", \"H \", \"I \"], [2,7,4]) "
   ]
  },
  {
   "cell_type": "code",
   "execution_count": null,
   "metadata": {
    "collapsed": true
   },
   "outputs": [],
   "source": []
  }
 ],
 "metadata": {
  "kernelspec": {
   "display_name": "Python 2",
   "language": "python",
   "name": "python2"
  },
  "language_info": {
   "codemirror_mode": {
    "name": "ipython",
    "version": 2
   },
   "file_extension": ".py",
   "mimetype": "text/x-python",
   "name": "python",
   "nbconvert_exporter": "python",
   "pygments_lexer": "ipython2",
   "version": "2.7.11"
  },
  "widgets": {
   "state": {},
   "version": "1.1.2"
  }
 },
 "nbformat": 4,
 "nbformat_minor": 0
}
