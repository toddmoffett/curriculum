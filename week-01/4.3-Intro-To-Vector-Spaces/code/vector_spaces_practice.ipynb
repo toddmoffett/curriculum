{
 "cells": [
  {
   "cell_type": "code",
   "execution_count": null,
   "metadata": {
    "collapsed": false
   },
   "outputs": [],
   "source": [
    "import sys\n",
    "import numpy as np\n",
    "import matplotlib.pyplot as plt\n",
    "import seaborn\n",
    "%matplotlib inline\n",
    "\"numpy version: \" + np.__version__"
   ]
  },
  {
   "cell_type": "code",
   "execution_count": null,
   "metadata": {
    "collapsed": true
   },
   "outputs": [],
   "source": [
    "def initialize_2d_plot(x_min=-1,x_max=8,y_min=-1,y_max=8):\n",
    "    plot_name = plt.gca()\n",
    "    plot_name.set_xlim([x_min,x_max])\n",
    "    plot_name.set_ylim([y_min,y_max])\n",
    "    plot_name.axhline(0, color='black')\n",
    "    plot_name.axvline(0, color='black')\n",
    "    return plot_name   \n",
    "    \n",
    "def draw_2d_scalar_multiplication(scalar,np_array,plot):\n",
    "    for i in range(scalar):\n",
    "        tail = i*np_array\n",
    "        draw_2d_vector(np_array,plot,i*np_array)\n",
    "        \n",
    "def draw_2d_vector(np_array,plot,tail=np.array([0,0])):\n",
    "    u_1 = np_array[0]\n",
    "    u_2 = np_array[1]\n",
    "    tail_1 = tail[0]\n",
    "    tail_2 = tail[1]\n",
    "    plot.arrow(tail_1,tail_2,u_1,u_2, head_width=0.25, head_length=0.25)\n",
    "\n",
    "def draw_2d_vector_addition(np_array_1,np_array_2,plot):\n",
    "    u_1 = np_array_1[0]\n",
    "    u_2 = np_array_1[1]\n",
    "    v_1 = np_array_2[0]\n",
    "    v_2 = np_array_2[1]\n",
    "    plot.arrow(0,0,u_1,u_2, head_width=0.25, head_length=0.25)    \n",
    "    plot.arrow(u_1,u_2,v_1,v_2, head_width=0.25, head_length=0.25) "
   ]
  },
  {
   "cell_type": "code",
   "execution_count": null,
   "metadata": {
    "collapsed": false
   },
   "outputs": [],
   "source": [
    "figure_1 = initialize_2d_plot()\n",
    "\n",
    "u = np.array([3,2])\n",
    "v = np.array([1,4])\n",
    "\n",
    "draw_2d_vector(u,figure_1)\n",
    "draw_2d_vector(v,figure_1)"
   ]
  },
  {
   "cell_type": "markdown",
   "metadata": {},
   "source": [
    "# Perform these linear combinations and use the provided functions to represent them graphically\n",
    "\n",
    "$$3    \\left(\\begin{matrix}-2   , 4     \\end{matrix}\\right) + \\left(\\begin{matrix}   5  ,  -2   \\end{matrix}\\right)$$\n",
    "$$-5   \\left(\\begin{matrix} 4   , -2    \\end{matrix}\\right) + \\left(\\begin{matrix}  7   ,    1  \\end{matrix}\\right)$$\n",
    "$$2000 \\left(\\begin{matrix} 2.3 , 3.1   \\end{matrix}\\right) + \\left(\\begin{matrix}  2.8 , 6.2   \\end{matrix}\\right)$$\n",
    "$$e    \\left(\\begin{matrix} 1.5 , -6.1  \\end{matrix}\\right) + \\left(\\begin{matrix}1.2   , 4.2   \\end{matrix}\\right)$$\n",
    "$$\\pi  \\left(\\begin{matrix} 10  , 25    \\end{matrix}\\right) + \\left(\\begin{matrix}  65  , 30   \\end{matrix}\\right)$$\n",
    "$$4    \\left(\\begin{matrix} \\pi , -3\\pi \\end{matrix}\\right) + \\left(\\begin{matrix}  \\frac{\\pi}{2}  , -\\frac{\\pi}{2}       \\end{matrix}\\right)$$"
   ]
  },
  {
   "cell_type": "code",
   "execution_count": null,
   "metadata": {
    "collapsed": true
   },
   "outputs": [],
   "source": []
  }
 ],
 "metadata": {
  "kernelspec": {
   "display_name": "Python 3",
   "language": "python",
   "name": "python3"
  },
  "language_info": {
   "codemirror_mode": {
    "name": "ipython",
    "version": 3
   },
   "file_extension": ".py",
   "mimetype": "text/x-python",
   "name": "python",
   "nbconvert_exporter": "python",
   "pygments_lexer": "ipython3",
   "version": "3.5.2"
  }
 },
 "nbformat": 4,
 "nbformat_minor": 0
}
