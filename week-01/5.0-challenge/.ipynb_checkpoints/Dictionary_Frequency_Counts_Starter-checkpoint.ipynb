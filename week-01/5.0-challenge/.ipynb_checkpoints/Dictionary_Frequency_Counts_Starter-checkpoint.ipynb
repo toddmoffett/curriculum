{
 "cells": [
  {
   "cell_type": "markdown",
   "metadata": {},
   "source": [
    "### Create a function that creates a dictionary with shopping items as keys and their frequencies of appearance as values"
   ]
  },
  {
   "cell_type": "code",
   "execution_count": 1,
   "metadata": {
    "collapsed": true
   },
   "outputs": [],
   "source": [
    "shoppingList1_ = 'Stewed Tomatoes, Cream of Chicken Soup, Pineapple, Cream of Mushroom Soup,\\\n",
    "Peaches, Hot Dog Chili Sauce, Tomato Sauce, Cream of Chicken Soup, Peaches, Canned Goods, \\\n",
    "Tomato Sauce, Tomato Soup, Peaches, Creamed Corn, Stewed Tomatoes, Hot Dog Chili Sauce, \\\n",
    "Chilies and Tomatoes, Canned Goods, Peaches, Chilies and Tomatoes'\n",
    "\n",
    "shoppingList2_ = 'Stewed Tomatoes, Tomato Soup, Apple Pie, Tomato Soup, Creamed Corn,\\\n",
    "Chilies and Tomatoes,Apple Pie,Peaches,Peaches,Hot Dog Chili Sauce,Apple Pie,Canned Goods,\\\n",
    "Cream of Mushroom Soup,Peaches,Canned Goods,Creamed Corn,Stewed Tomatoes,Cream of Chicken Soup,\\\n",
    "Tomato Sauce,Apple Pie'\n",
    "\n",
    "shoppingList3_ = 'Apple Pie, Pineapple, Stewed Tomatoes, Cream of Chicken Soup, Canned Goods,\\\n",
    "Tomato Sauce, Canned Goods, Apple Pie, Pineapple, Apple Pie, Canned Goods, Tomato Sauce,\\\n",
    "Hot Dog Chili Sauce, Cream of Mushroom Soup, Cream of Chicken Sop, Tomato Sauce, \\\n",
    "Chilies and Tomatoes, Creamed Corn, Apple Pie, Tomato Soup'"
   ]
  },
  {
   "cell_type": "code",
   "execution_count": null,
   "metadata": {
    "collapsed": true
   },
   "outputs": [],
   "source": []
  }
 ],
 "metadata": {
  "kernelspec": {
   "display_name": "Python 2",
   "language": "python",
   "name": "python2"
  },
  "language_info": {
   "codemirror_mode": {
    "name": "ipython",
    "version": 2
   },
   "file_extension": ".py",
   "mimetype": "text/x-python",
   "name": "python",
   "nbconvert_exporter": "python",
   "pygments_lexer": "ipython2",
   "version": "2.7.11"
  },
  "widgets": {
   "state": {},
   "version": "1.1.2"
  }
 },
 "nbformat": 4,
 "nbformat_minor": 0
}
