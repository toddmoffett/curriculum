{
 "cells": [
  {
   "cell_type": "markdown",
   "metadata": {},
   "source": [
    "### Create a function that creates a dictionary with shopping items as keys and their frequencies of appearance as values"
   ]
  },
  {
   "cell_type": "code",
   "execution_count": 1,
   "metadata": {
    "collapsed": true
   },
   "outputs": [],
   "source": [
    "shoppingList1_ = 'Stewed Tomatoes, Cream of Chicken Soup, Pineapple, Cream of Mushroom Soup,\\\n",
    "Peaches, Hot Dog Chili Sauce, Tomato Sauce, Cream of Chicken Soup, Peaches, Canned Goods, \\\n",
    "Tomato Sauce, Tomato Soup, Peaches, Creamed Corn, Stewed Tomatoes, Hot Dog Chili Sauce, \\\n",
    "Chilies and Tomatoes, Canned Goods, Peaches, Chilies and Tomatoes'\n",
    "\n",
    "shoppingList2_ = 'Stewed Tomatoes, Tomato Soup, Apple Pie, Tomato Soup, Creamed Corn,\\\n",
    "Chilies and Tomatoes,Apple Pie,Peaches,Peaches,Hot Dog Chili Sauce,Apple Pie,Canned Goods,\\\n",
    "Cream of Mushroom Soup,Peaches,Canned Goods,Creamed Corn,Stewed Tomatoes,Cream of Chicken Soup,\\\n",
    "Tomato Sauce,Apple Pie'\n",
    "\n",
    "shoppingList3_ = 'Apple Pie, Pineapple, Stewed Tomatoes, Cream of Chicken Soup, Canned Goods,\\\n",
    "Tomato Sauce, Canned Goods, Apple Pie, Pineapple, Apple Pie, Canned Goods, Tomato Sauce,\\\n",
    "Hot Dog Chili Sauce, Cream of Mushroom Soup, Cream of Chicken Sop, Tomato Sauce, \\\n",
    "Chilies and Tomatoes, Creamed Corn, Apple Pie, Tomato Soup'"
   ]
  },
  {
   "cell_type": "code",
   "execution_count": 25,
   "metadata": {
    "collapsed": false
   },
   "outputs": [],
   "source": [
    "shopping_agr = shoppingList1_ + \",\" + shoppingList2_ + \",\" +shoppingList3_"
   ]
  },
  {
   "cell_type": "code",
   "execution_count": 26,
   "metadata": {
    "collapsed": false,
    "scrolled": false
   },
   "outputs": [],
   "source": [
    "list_fixed = [i.strip() for i in shopping_agr.split(',')]"
   ]
  },
  {
   "cell_type": "code",
   "execution_count": 47,
   "metadata": {
    "collapsed": false
   },
   "outputs": [],
   "source": [
    "shopping_dict = {}\n",
    "for item in list_fixed:\n",
    "    if item in shopping_dict:\n",
    "        shopping_dict[item] += 1\n",
    "    else:\n",
    "        shopping_dict[item] = 1\n",
    "    "
   ]
  },
  {
   "cell_type": "code",
   "execution_count": 48,
   "metadata": {
    "collapsed": false,
    "scrolled": true
   },
   "outputs": [
    {
     "data": {
      "text/plain": [
       "{'Apple Pie': 8,\n",
       " 'Canned Goods': 7,\n",
       " 'Chilies and Tomatoes': 4,\n",
       " 'Cream of Chicken Sop': 1,\n",
       " 'Cream of Chicken Soup': 4,\n",
       " 'Cream of Mushroom Soup': 3,\n",
       " 'Creamed Corn': 4,\n",
       " 'Hot Dog Chili Sauce': 4,\n",
       " 'Peaches': 7,\n",
       " 'Pineapple': 3,\n",
       " 'Stewed Tomatoes': 5,\n",
       " 'Tomato Sauce': 6,\n",
       " 'Tomato Soup': 4}"
      ]
     },
     "execution_count": 48,
     "metadata": {},
     "output_type": "execute_result"
    }
   ],
   "source": [
    "shopping_dict"
   ]
  },
  {
   "cell_type": "code",
   "execution_count": 49,
   "metadata": {
    "collapsed": false
   },
   "outputs": [
    {
     "data": {
      "text/plain": [
       "[]"
      ]
     },
     "execution_count": 49,
     "metadata": {},
     "output_type": "execute_result"
    }
   ],
   "source": [
    "shopping_order = {}\n",
    "\n",
    "def freq_counter(text):\n",
    "    count = {}\n",
    "    for key in list_fixed:\n",
    "        count[key] = count.get(key,0) +1\n",
    "    #return zip(count.keys(), sorted(count.values(), reverse=True))\n",
    "    return sorted( [ (value,key) for (key,value) in shopping_order.items() ], reverse=True)\n",
    " \n",
    "freq_counter(shopping_agr)"
   ]
  },
  {
   "cell_type": "code",
   "execution_count": null,
   "metadata": {
    "collapsed": true
   },
   "outputs": [],
   "source": []
  }
 ],
 "metadata": {
  "anaconda-cloud": {},
  "kernelspec": {
   "display_name": "Python [conda env:py27]",
   "language": "python",
   "name": "conda-env-py27-py"
  },
  "language_info": {
   "codemirror_mode": {
    "name": "ipython",
    "version": 2
   },
   "file_extension": ".py",
   "mimetype": "text/x-python",
   "name": "python",
   "nbconvert_exporter": "python",
   "pygments_lexer": "ipython2",
   "version": "2.7.12"
  }
 },
 "nbformat": 4,
 "nbformat_minor": 0
}
