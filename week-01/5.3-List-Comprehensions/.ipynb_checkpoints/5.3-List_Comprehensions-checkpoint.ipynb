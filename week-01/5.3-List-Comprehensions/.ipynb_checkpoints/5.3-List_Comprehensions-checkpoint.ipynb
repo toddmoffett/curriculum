{
 "cells": [
  {
   "cell_type": "code",
   "execution_count": null,
   "metadata": {
    "collapsed": true
   },
   "outputs": [],
   "source": [
    "import numpy as np"
   ]
  },
  {
   "cell_type": "markdown",
   "metadata": {},
   "source": [
    "![](http://treyhunner.com/images/list-comprehension-condition.gif)"
   ]
  },
  {
   "cell_type": "markdown",
   "metadata": {},
   "source": [
    "$$S = \\left\\{x: x \\in \\mathbb{N} \\text{ and } x < 10\\right\\}$$\n",
    "$$T = \\left\\{x^2: x \\in S\\right\\}$$\n",
    "$$M = \\left\\{x \\big\\rvert x \\in T \\text{ and } x \\text{ is even}\\right\\}$$\n",
    "$$V = \\left\\{\\mathbf v: \\mathbf v \\in \\mathbb{R}^2 \\text{ and } |\\mathbf v| < 1\\right\\}$$"
   ]
  },
  {
   "cell_type": "markdown",
   "metadata": {},
   "source": [
    "# List Comprehensions\n",
    "\n",
    "Students will be able to:\n",
    "    \n",
    "1. Perform a nested list comprehension.\n",
    "2. Use `zip` to form a list comprehension with two lists simultaneously.\n",
    "3. Perform a dictionary comprehension."
   ]
  },
  {
   "cell_type": "markdown",
   "metadata": {},
   "source": [
    "## Set Notation"
   ]
  },
  {
   "cell_type": "markdown",
   "metadata": {},
   "source": [
    "### Let's create $S$ using a List Comprehension"
   ]
  },
  {
   "cell_type": "code",
   "execution_count": null,
   "metadata": {
    "collapsed": false
   },
   "outputs": [],
   "source": [
    "S = []\n",
    "S"
   ]
  },
  {
   "cell_type": "markdown",
   "metadata": {},
   "source": [
    "### Let's create $T$ using a List Comprehension"
   ]
  },
  {
   "cell_type": "code",
   "execution_count": null,
   "metadata": {
    "collapsed": false,
    "scrolled": true
   },
   "outputs": [],
   "source": [
    "T = []\n",
    "T"
   ]
  },
  {
   "cell_type": "markdown",
   "metadata": {},
   "source": [
    "### Let's create $M$ using a List Comprehension"
   ]
  },
  {
   "cell_type": "code",
   "execution_count": null,
   "metadata": {
    "collapsed": false
   },
   "outputs": [],
   "source": [
    "M = []\n",
    "M"
   ]
  },
  {
   "cell_type": "markdown",
   "metadata": {},
   "source": [
    "### We'll return to $V$.\n",
    "\n",
    "$V$ is tricky because it draws from a continuous set ... we can include *all* the vectors in Python, even with `numpy`.\n",
    "\n",
    "It's a circle!"
   ]
  },
  {
   "cell_type": "code",
   "execution_count": null,
   "metadata": {
    "collapsed": false
   },
   "outputs": [],
   "source": [
    "import code.vector_plots as vplt\n",
    "%matplotlib inline"
   ]
  },
  {
   "cell_type": "code",
   "execution_count": null,
   "metadata": {
    "collapsed": false
   },
   "outputs": [],
   "source": [
    "xs = []\n",
    "xs"
   ]
  },
  {
   "cell_type": "code",
   "execution_count": null,
   "metadata": {
    "collapsed": true
   },
   "outputs": [],
   "source": [
    "xs = []\n",
    "ys = []\n",
    "V_tmp = []\n",
    "V = []\n",
    "V"
   ]
  },
  {
   "cell_type": "code",
   "execution_count": null,
   "metadata": {
    "collapsed": false
   },
   "outputs": [],
   "source": [
    "figure_1 = vplt.initialize_2d_plot(x_max=-2, x_min=2, y_min=-2, y_max=2)\n",
    "plot_vecs = [vplt.draw_2d_vector(v,figure_1) for v in V]"
   ]
  },
  {
   "cell_type": "markdown",
   "metadata": {},
   "source": [
    "### List Comprehensions"
   ]
  },
  {
   "cell_type": "markdown",
   "metadata": {},
   "source": [
    "A list comprehension consists of the following parts:\n",
    "\n",
    "- an input sequence\n",
    "- a variable representing members of the input sequence\n",
    "- an output expression used to produce the elements of the output list\n",
    "- an optional predicate\n"
   ]
  },
  {
   "cell_type": "markdown",
   "metadata": {},
   "source": [
    "#### Square Me, If You Can"
   ]
  },
  {
   "cell_type": "code",
   "execution_count": null,
   "metadata": {
    "collapsed": true
   },
   "outputs": [],
   "source": [
    "square_me_if_you_can = [1, '4', 9, 'a', 0, 4]"
   ]
  },
  {
   "cell_type": "markdown",
   "metadata": {},
   "source": [
    "![square me if you can](http://python-3-patterns-idioms-test.readthedocs.io/en/latest/_images/listComprehensions.gif)"
   ]
  },
  {
   "cell_type": "code",
   "execution_count": null,
   "metadata": {
    "collapsed": false
   },
   "outputs": [],
   "source": [
    "squares = []\n",
    "squares"
   ]
  },
  {
   "cell_type": "markdown",
   "metadata": {},
   "source": [
    "### Sentence Analysis"
   ]
  },
  {
   "cell_type": "markdown",
   "metadata": {},
   "source": [
    "Given: `'The quick brown fox jumps over the lazy dog'`\n",
    "\n",
    "We seek:\n",
    "\n",
    "    ['THE', 'the', 3]\n",
    "    ['QUICK', 'quick', 5]\n",
    "    ['BROWN', 'brown', 5]\n",
    "    ['FOX', 'fox', 3]\n",
    "    ['JUMPS', 'jumps', 5]\n",
    "    ['OVER', 'over', 4]\n",
    "    ['THE', 'the', 3]\n",
    "    ['LAZY', 'lazy', 4]\n",
    "    ['DOG', 'dog', 3]"
   ]
  },
  {
   "cell_type": "code",
   "execution_count": null,
   "metadata": {
    "collapsed": false
   },
   "outputs": [],
   "source": [
    "[i for i in range(7)]"
   ]
  },
  {
   "cell_type": "code",
   "execution_count": null,
   "metadata": {
    "collapsed": false
   },
   "outputs": [],
   "source": [
    "words = 'The quick brown fox jumps over the lazy dog'.split()\n",
    "[]"
   ]
  },
  {
   "cell_type": "markdown",
   "metadata": {},
   "source": [
    "### List Comprehensions are Typically Easier to Read"
   ]
  },
  {
   "cell_type": "code",
   "execution_count": null,
   "metadata": {
    "collapsed": true
   },
   "outputs": [],
   "source": [
    "ord?"
   ]
  },
  {
   "cell_type": "code",
   "execution_count": null,
   "metadata": {
    "collapsed": false
   },
   "outputs": [],
   "source": [
    "chr(112)"
   ]
  },
  {
   "cell_type": "code",
   "execution_count": null,
   "metadata": {
    "collapsed": false,
    "scrolled": true
   },
   "outputs": [],
   "source": [
    "who_picked_a_pepper = 'peter piper'\n",
    "codes = []\n",
    "for letter in who_picked_a_pepper:\n",
    "    codes.append(ord(letter))\n",
    "codes"
   ]
  },
  {
   "cell_type": "code",
   "execution_count": null,
   "metadata": {
    "collapsed": false
   },
   "outputs": [],
   "source": [
    "who_picked_a_pepper = 'peter piper'\n",
    "ordinal_codes_picked = [ord(letter) for letter in who_picked_a_pepper]\n",
    "codes"
   ]
  },
  {
   "cell_type": "markdown",
   "metadata": {},
   "source": [
    "#### WHICH OF THESE IS CLEARER IN MEANING?"
   ]
  },
  {
   "cell_type": "markdown",
   "metadata": {},
   "source": [
    "### More on Readability\n",
    "\n",
    "    flattened = [n for row in matrix for n in row]\n",
    "    \n",
    "This would be easier to read on multiple lines.    "
   ]
  },
  {
   "cell_type": "code",
   "execution_count": null,
   "metadata": {
    "collapsed": false
   },
   "outputs": [],
   "source": [
    "matrix = [[2,3,4,5],\n",
    "          [1,2,3,4],\n",
    "          [3,5,7,9]]\n",
    "\n",
    "flattened = []\n",
    "flattened"
   ]
  },
  {
   "cell_type": "code",
   "execution_count": null,
   "metadata": {
    "collapsed": false
   },
   "outputs": [],
   "source": [
    "matrix = [[2,3,4,5],\n",
    "          [1,2,3,4],\n",
    "          [3,5,7,9]]\n",
    "\n",
    "flattened = []\n",
    "flattened"
   ]
  },
  {
   "cell_type": "markdown",
   "metadata": {},
   "source": [
    "### The Identity Matrix\n",
    "\n",
    "![The Identity Matrix](http://python-3-patterns-idioms-test.readthedocs.io/en/latest/_images/idMatrix.png)"
   ]
  },
  {
   "cell_type": "code",
   "execution_count": null,
   "metadata": {
    "collapsed": false
   },
   "outputs": [],
   "source": [
    "np.eye(3)"
   ]
  },
  {
   "cell_type": "code",
   "execution_count": null,
   "metadata": {
    "collapsed": false
   },
   "outputs": [],
   "source": [
    "eye = np.array([])\n",
    "eye"
   ]
  },
  {
   "cell_type": "markdown",
   "metadata": {},
   "source": [
    "### `zip` lists together\n",
    "\n",
    "Using `zip()` and dealing with two or more elements at a time:"
   ]
  },
  {
   "cell_type": "markdown",
   "metadata": {},
   "source": [
    "    ['Ozzie', 'BJ', 'Martin', 'Tracy', 'The Captain']\n",
    "    ['Harriet', 'the Bear', 'Lewis', 'Hepburn', 'Tennile']"
   ]
  },
  {
   "cell_type": "code",
   "execution_count": null,
   "metadata": {
    "collapsed": false
   },
   "outputs": [],
   "source": [
    "zip(partner_1, partner_2, partner_1)"
   ]
  },
  {
   "cell_type": "code",
   "execution_count": null,
   "metadata": {
    "collapsed": false
   },
   "outputs": [],
   "source": [
    "this_set = frozenset([1,1,1,1,11,2])\n",
    "this_set"
   ]
  },
  {
   "cell_type": "code",
   "execution_count": null,
   "metadata": {
    "collapsed": false
   },
   "outputs": [],
   "source": [
    "partner_1 = ['Ozzie', 'BJ', 'Martin', 'Tracy', 'The Captain']\n",
    "partner_2 = ['Harriet', 'the Bear', 'Lewis', 'Hepburn', 'Tennile']\n",
    "couples = []\n",
    "couples"
   ]
  },
  {
   "cell_type": "markdown",
   "metadata": {},
   "source": [
    "### Set Comprehensions\n",
    "\n",
    "We require\n",
    "\n",
    "`{ 'Bob', 'John', 'Alice' }`"
   ]
  },
  {
   "cell_type": "code",
   "execution_count": null,
   "metadata": {
    "collapsed": false
   },
   "outputs": [],
   "source": [
    "[c for c in 'Joshua']"
   ]
  },
  {
   "cell_type": "code",
   "execution_count": null,
   "metadata": {
    "collapsed": false
   },
   "outputs": [],
   "source": [
    "this_list = [1,2,3]\n",
    "len(this_list[3:]) == 0"
   ]
  },
  {
   "cell_type": "code",
   "execution_count": null,
   "metadata": {
    "collapsed": false
   },
   "outputs": [],
   "source": [
    "names = [ 'Bob', 'JOHN', 'alice', 'bob', 'ALICE', 'J', 'Bob' ]\n",
    "requirement = {}\n",
    "requirement"
   ]
  },
  {
   "cell_type": "markdown",
   "metadata": {},
   "source": [
    "### Dictionary Comprehension\n",
    "\n",
    "Swap all the keys and values in this dictionary:\n",
    "\n",
    "    patroni = {'Harry':'Stag',\n",
    "               'Ron':'Jack Russell Terrier',\n",
    "               'Ginny':'Horse',\n",
    "               'Luna':'Hare'}\n"
   ]
  },
  {
   "cell_type": "code",
   "execution_count": null,
   "metadata": {
    "collapsed": false
   },
   "outputs": [],
   "source": [
    "patroni = {'Harry':'Stag',\n",
    "           'Ron':'Jack Russell Terrier',\n",
    "           'Ginny':'Horse',\n",
    "           'Luna':'Hare'}\n",
    "rev_patroni = {}\n",
    "rev_patroni"
   ]
  },
  {
   "cell_type": "markdown",
   "metadata": {},
   "source": [
    "### Leaking Variables in Python 2"
   ]
  },
  {
   "cell_type": "code",
   "execution_count": null,
   "metadata": {
    "collapsed": false
   },
   "outputs": [],
   "source": [
    "for new_var in range(1):\n",
    "    print(new_var)\n",
    "print(new_var)"
   ]
  },
  {
   "cell_type": "code",
   "execution_count": null,
   "metadata": {
    "collapsed": false,
    "scrolled": true
   },
   "outputs": [],
   "source": [
    "letter = \"\"\"\n",
    "I am a long time answering your letter, my dear Miss Harriet, \n",
    "but then you must remember that it is an equally long time \n",
    "since I received it—so that makes us even, & nobody to blame \n",
    "on either side.\"\"\"\n",
    "print(letter)\n",
    "spam = [letter for letter in 'eggs']\n",
    "print(letter)\n",
    "print(spam)"
   ]
  },
  {
   "cell_type": "markdown",
   "metadata": {},
   "source": [
    "### A Deck of Cards"
   ]
  },
  {
   "cell_type": "markdown",
   "metadata": {},
   "source": [
    "Use a nested list comprehension to create a list with 52 tuples, each representing a playing card in the standard deck of cards. \n",
    "\n",
    "Bonus: Shuffle the deck and deal five cards."
   ]
  },
  {
   "cell_type": "code",
   "execution_count": null,
   "metadata": {
    "collapsed": true
   },
   "outputs": [],
   "source": []
  },
  {
   "cell_type": "markdown",
   "metadata": {},
   "source": [
    "### Prime Numbers\n",
    "\n",
    "Write a list comprehension to find the prime numbers less than 1000."
   ]
  },
  {
   "cell_type": "code",
   "execution_count": null,
   "metadata": {
    "collapsed": true
   },
   "outputs": [],
   "source": []
  },
  {
   "cell_type": "markdown",
   "metadata": {},
   "source": [
    "### $V = \\left\\{\\mathbf v: \\mathbf v \\in \\mathbb{R}^2 \\text{ and } |\\mathbf v| < 1\\right\\}$"
   ]
  },
  {
   "cell_type": "markdown",
   "metadata": {},
   "source": [
    "Find the number of elements in this set for a granularity of 0.1, 0.01."
   ]
  },
  {
   "cell_type": "code",
   "execution_count": null,
   "metadata": {
    "collapsed": false
   },
   "outputs": [],
   "source": []
  }
 ],
 "metadata": {
  "anaconda-cloud": {},
  "kernelspec": {
   "display_name": "Python [conda env:py27]",
   "language": "python",
   "name": "conda-env-py27-py"
  },
  "language_info": {
   "codemirror_mode": {
    "name": "ipython",
    "version": 2
   },
   "file_extension": ".py",
   "mimetype": "text/x-python",
   "name": "python",
   "nbconvert_exporter": "python",
   "pygments_lexer": "ipython2",
   "version": "2.7.12"
  }
 },
 "nbformat": 4,
 "nbformat_minor": 1
}
