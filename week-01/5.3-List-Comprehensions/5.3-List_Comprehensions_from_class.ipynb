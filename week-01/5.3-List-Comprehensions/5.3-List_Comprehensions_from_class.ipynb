{
 "cells": [
  {
   "cell_type": "code",
   "execution_count": 1,
   "metadata": {
    "collapsed": true
   },
   "outputs": [],
   "source": [
    "import numpy as np"
   ]
  },
  {
   "cell_type": "markdown",
   "metadata": {},
   "source": [
    "![](http://treyhunner.com/images/list-comprehension-condition.gif)"
   ]
  },
  {
   "cell_type": "markdown",
   "metadata": {},
   "source": [
    "# List Comprehensions\n",
    "\n",
    "Students will be able to:\n",
    "    \n",
    "1. Perform a nested list comprehension.\n",
    "2. Use `zip` to form a list comprehension with two lists simultaneously.\n",
    "3. Perform a dictionary comprehension."
   ]
  },
  {
   "cell_type": "markdown",
   "metadata": {},
   "source": [
    "## Set Notation"
   ]
  },
  {
   "cell_type": "markdown",
   "metadata": {},
   "source": [
    "### Let's create $S$ using a List Comprehension"
   ]
  },
  {
   "cell_type": "code",
   "execution_count": 2,
   "metadata": {
    "collapsed": false
   },
   "outputs": [
    {
     "data": {
      "text/plain": [
       "[1, 2, 3, 4, 5, 6, 7, 8, 9]"
      ]
     },
     "execution_count": 2,
     "metadata": {},
     "output_type": "execute_result"
    }
   ],
   "source": [
    "S = [x for x in range(1,10)]\n",
    "S"
   ]
  },
  {
   "cell_type": "markdown",
   "metadata": {},
   "source": [
    "### Let's create $T$ using a List Comprehension"
   ]
  },
  {
   "cell_type": "code",
   "execution_count": 3,
   "metadata": {
    "collapsed": false,
    "scrolled": true
   },
   "outputs": [
    {
     "data": {
      "text/plain": [
       "[1, 4, 9, 16, 25, 36, 49, 64, 81]"
      ]
     },
     "execution_count": 3,
     "metadata": {},
     "output_type": "execute_result"
    }
   ],
   "source": [
    "T = [x**2 for x in S]\n",
    "T"
   ]
  },
  {
   "cell_type": "markdown",
   "metadata": {},
   "source": [
    "### Let's create $M$ using a List Comprehension"
   ]
  },
  {
   "cell_type": "code",
   "execution_count": 4,
   "metadata": {
    "collapsed": false
   },
   "outputs": [
    {
     "data": {
      "text/plain": [
       "[4, 16, 36, 64]"
      ]
     },
     "execution_count": 4,
     "metadata": {},
     "output_type": "execute_result"
    }
   ],
   "source": [
    "M = [x for x in T if x % 2 == 0]\n",
    "M"
   ]
  },
  {
   "cell_type": "markdown",
   "metadata": {},
   "source": [
    "### We'll return to $V$.\n",
    "\n",
    "$V$ is tricky because it draws from a continuous set ... we can include *all* the vectors in Python, even with `numpy`.\n",
    "\n",
    "It's a circle!"
   ]
  },
  {
   "cell_type": "code",
   "execution_count": 5,
   "metadata": {
    "collapsed": false
   },
   "outputs": [],
   "source": [
    "import code.vector_plots as vplt\n",
    "%matplotlib inline"
   ]
  },
  {
   "cell_type": "code",
   "execution_count": 6,
   "metadata": {
    "collapsed": false
   },
   "outputs": [
    {
     "data": {
      "text/plain": [
       "[-1.0,\n",
       " -0.8,\n",
       " -0.6,\n",
       " -0.4,\n",
       " -0.19999999999999996,\n",
       " 0.0,\n",
       " 0.19999999999999996,\n",
       " 0.3999999999999999,\n",
       " 0.6000000000000001,\n",
       " 0.8,\n",
       " 1.0]"
      ]
     },
     "execution_count": 6,
     "metadata": {},
     "output_type": "execute_result"
    }
   ],
   "source": [
    "xs = [(x/5.)-1 for x in range(11)]\n",
    "xs"
   ]
  },
  {
   "cell_type": "markdown",
   "metadata": {},
   "source": [
    "$$S = \\left\\{x: x \\in \\mathbb{N} \\text{ and } x < 10\\right\\}$$\n",
    "$$T = \\left\\{x^2: x \\in S\\right\\}$$\n",
    "$$M = \\left\\{x \\big\\rvert x \\in T \\text{ and } x \\text{ is even}\\right\\}$$\n",
    "$$V = \\left\\{\\mathbf v: \\mathbf v \\in \\mathbb{R}^2 \\text{ and } |\\mathbf v| < 1\\right\\}$$"
   ]
  },
  {
   "cell_type": "code",
   "execution_count": 8,
   "metadata": {
    "collapsed": true
   },
   "outputs": [
    {
     "data": {
      "text/plain": [
       "[array([-0.8, -0.4]),\n",
       " array([-0.8, -0.2]),\n",
       " array([-0.8,  0. ]),\n",
       " array([-0.8,  0.2]),\n",
       " array([-0.8,  0.4]),\n",
       " array([-0.6, -0.6]),\n",
       " array([-0.6, -0.4]),\n",
       " array([-0.6, -0.2]),\n",
       " array([-0.6,  0. ]),\n",
       " array([-0.6,  0.2]),\n",
       " array([-0.6,  0.4]),\n",
       " array([-0.6,  0.6]),\n",
       " array([-0.4, -0.8]),\n",
       " array([-0.4, -0.6]),\n",
       " array([-0.4, -0.4]),\n",
       " array([-0.4, -0.2]),\n",
       " array([-0.4,  0. ]),\n",
       " array([-0.4,  0.2]),\n",
       " array([-0.4,  0.4]),\n",
       " array([-0.4,  0.6]),\n",
       " array([-0.4,  0.8]),\n",
       " array([-0.2, -0.8]),\n",
       " array([-0.2, -0.6]),\n",
       " array([-0.2, -0.4]),\n",
       " array([-0.2, -0.2]),\n",
       " array([-0.2,  0. ]),\n",
       " array([-0.2,  0.2]),\n",
       " array([-0.2,  0.4]),\n",
       " array([-0.2,  0.6]),\n",
       " array([-0.2,  0.8]),\n",
       " array([ 0. , -0.8]),\n",
       " array([ 0. , -0.6]),\n",
       " array([ 0. , -0.4]),\n",
       " array([ 0. , -0.2]),\n",
       " array([ 0.,  0.]),\n",
       " array([ 0. ,  0.2]),\n",
       " array([ 0. ,  0.4]),\n",
       " array([ 0. ,  0.6]),\n",
       " array([ 0. ,  0.8]),\n",
       " array([ 0.2, -0.8]),\n",
       " array([ 0.2, -0.6]),\n",
       " array([ 0.2, -0.4]),\n",
       " array([ 0.2, -0.2]),\n",
       " array([ 0.2,  0. ]),\n",
       " array([ 0.2,  0.2]),\n",
       " array([ 0.2,  0.4]),\n",
       " array([ 0.2,  0.6]),\n",
       " array([ 0.2,  0.8]),\n",
       " array([ 0.4, -0.8]),\n",
       " array([ 0.4, -0.6]),\n",
       " array([ 0.4, -0.4]),\n",
       " array([ 0.4, -0.2]),\n",
       " array([ 0.4,  0. ]),\n",
       " array([ 0.4,  0.2]),\n",
       " array([ 0.4,  0.4]),\n",
       " array([ 0.4,  0.6]),\n",
       " array([ 0.4,  0.8]),\n",
       " array([ 0.6, -0.6]),\n",
       " array([ 0.6, -0.4]),\n",
       " array([ 0.6, -0.2]),\n",
       " array([ 0.6,  0. ]),\n",
       " array([ 0.6,  0.2]),\n",
       " array([ 0.6,  0.4]),\n",
       " array([ 0.6,  0.6]),\n",
       " array([ 0.8, -0.4]),\n",
       " array([ 0.8, -0.2]),\n",
       " array([ 0.8,  0. ]),\n",
       " array([ 0.8,  0.2]),\n",
       " array([ 0.8,  0.4])]"
      ]
     },
     "execution_count": 8,
     "metadata": {},
     "output_type": "execute_result"
    }
   ],
   "source": [
    "xs = [(x/5.)-1 for x in range(11)]\n",
    "ys = [(y/5.)-1 for y in range(11)]\n",
    "V_tmp = [np.array((x,y)) for x in xs for y in ys]\n",
    "V = [v for v in V_tmp if np.sqrt(v[0]**2 + v[1]**2) < 1]\n",
    "V"
   ]
  },
  {
   "cell_type": "code",
   "execution_count": 9,
   "metadata": {
    "collapsed": false
   },
   "outputs": [
    {
     "data": {
      "image/png": "[encoded data removed]",
      "text/plain": [
       "<matplotlib.figure.Figure at 0x7f53d6b3ac90>"
      ]
     },
     "metadata": {},
     "output_type": "display_data"
    }
   ],
   "source": [
    "figure_1 = vplt.initialize_2d_plot(x_max=-2, x_min=2, y_min=-2, y_max=2)\n",
    "plot_vecs = [vplt.draw_2d_vector(v,figure_1) for v in V]"
   ]
  },
  {
   "cell_type": "markdown",
   "metadata": {},
   "source": [
    "### List Comprehensions"
   ]
  },
  {
   "cell_type": "markdown",
   "metadata": {},
   "source": [
    "A list comprehension consists of the following parts:\n",
    "\n",
    "- an input sequence\n",
    "- a variable representing members of the input sequence\n",
    "- an output expression used to produce the elements of the output list\n",
    "- an optional predicate\n"
   ]
  },
  {
   "cell_type": "markdown",
   "metadata": {},
   "source": [
    "#### Square Me, If You Can"
   ]
  },
  {
   "cell_type": "code",
   "execution_count": 10,
   "metadata": {
    "collapsed": true
   },
   "outputs": [],
   "source": [
    "square_me_if_you_can = [1, '4', 9, 'a', 0, 4]"
   ]
  },
  {
   "cell_type": "markdown",
   "metadata": {},
   "source": [
    "![square me if you can](http://python-3-patterns-idioms-test.readthedocs.io/en/latest/_images/listComprehensions.gif)"
   ]
  },
  {
   "cell_type": "code",
   "execution_count": 11,
   "metadata": {
    "collapsed": false
   },
   "outputs": [
    {
     "data": {
      "text/plain": [
       "[1, 81, 0, 16]"
      ]
     },
     "execution_count": 11,
     "metadata": {},
     "output_type": "execute_result"
    }
   ],
   "source": [
    "squares = [x**2 for x in square_me_if_you_can if type(x) == int]\n",
    "squares"
   ]
  },
  {
   "cell_type": "markdown",
   "metadata": {},
   "source": [
    "### Sentence Analysis"
   ]
  },
  {
   "cell_type": "markdown",
   "metadata": {},
   "source": [
    "Given: `'The quick brown fox jumps over the lazy dog'`\n",
    "\n",
    "We seek:\n",
    "\n",
    "    ['THE', 'the', 3]\n",
    "    ['QUICK', 'quick', 5]\n",
    "    ['BROWN', 'brown', 5]\n",
    "    ['FOX', 'fox', 3]\n",
    "    ['JUMPS', 'jumps', 5]\n",
    "    ['OVER', 'over', 4]\n",
    "    ['THE', 'the', 3]\n",
    "    ['LAZY', 'lazy', 4]\n",
    "    ['DOG', 'dog', 3]"
   ]
  },
  {
   "cell_type": "code",
   "execution_count": 23,
   "metadata": {
    "collapsed": false
   },
   "outputs": [
    {
     "data": {
      "text/plain": [
       "[0, 1, 2, 3, 4, 5, 6]"
      ]
     },
     "execution_count": 23,
     "metadata": {},
     "output_type": "execute_result"
    }
   ],
   "source": [
    "[i for i in range(7)]"
   ]
  },
  {
   "cell_type": "code",
   "execution_count": 22,
   "metadata": {
    "collapsed": false
   },
   "outputs": [
    {
     "data": {
      "text/plain": [
       "[['THE', 'the', 3],\n",
       " ['QUICK', 'quick', 5],\n",
       " ['BROWN', 'brown', 5],\n",
       " ['FOX', 'fox', 3],\n",
       " ['JUMPS', 'jumps', 5],\n",
       " ['OVER', 'over', 4],\n",
       " ['THE', 'the', 3],\n",
       " ['LAZY', 'lazy', 4],\n",
       " ['DOG', 'dog', 3]]"
      ]
     },
     "execution_count": 22,
     "metadata": {},
     "output_type": "execute_result"
    }
   ],
   "source": [
    "words = 'The quick brown fox jumps over the lazy dog'.split()\n",
    "[[word.upper(), word.lower(), len(word)] for word in words]"
   ]
  },
  {
   "cell_type": "markdown",
   "metadata": {},
   "source": [
    "### List Comprehensions are Typically Easier to Read"
   ]
  },
  {
   "cell_type": "code",
   "execution_count": 26,
   "metadata": {
    "collapsed": true
   },
   "outputs": [],
   "source": [
    "ord?"
   ]
  },
  {
   "cell_type": "code",
   "execution_count": 27,
   "metadata": {
    "collapsed": false
   },
   "outputs": [
    {
     "data": {
      "text/plain": [
       "'p'"
      ]
     },
     "execution_count": 27,
     "metadata": {},
     "output_type": "execute_result"
    }
   ],
   "source": [
    "chr(112)"
   ]
  },
  {
   "cell_type": "code",
   "execution_count": 25,
   "metadata": {
    "collapsed": false,
    "scrolled": true
   },
   "outputs": [
    {
     "data": {
      "text/plain": [
       "[112, 101, 116, 101, 114, 32, 112, 105, 112, 101, 114]"
      ]
     },
     "execution_count": 25,
     "metadata": {},
     "output_type": "execute_result"
    }
   ],
   "source": [
    "who_picked_a_pepper = 'peter piper'\n",
    "codes = []\n",
    "for letter in who_picked_a_pepper:\n",
    "    codes.append(ord(letter))\n",
    "codes"
   ]
  },
  {
   "cell_type": "code",
   "execution_count": 28,
   "metadata": {
    "collapsed": false
   },
   "outputs": [
    {
     "data": {
      "text/plain": [
       "[112, 101, 116, 101, 114, 32, 112, 105, 112, 101, 114]"
      ]
     },
     "execution_count": 28,
     "metadata": {},
     "output_type": "execute_result"
    }
   ],
   "source": [
    "who_picked_a_pepper = 'peter piper'\n",
    "ordinal_codes_picked = [ord(letter) for letter in who_picked_a_pepper]\n",
    "codes"
   ]
  },
  {
   "cell_type": "markdown",
   "metadata": {},
   "source": [
    "#### WHICH OF THESE IS CLEARER IN MEANING?"
   ]
  },
  {
   "cell_type": "markdown",
   "metadata": {},
   "source": [
    "### More on Readability\n",
    "\n",
    "    flattened = [n for row in matrix for n in row]\n",
    "    \n",
    "This would be easier to read on multiple lines.    "
   ]
  },
  {
   "cell_type": "code",
   "execution_count": 29,
   "metadata": {
    "collapsed": false
   },
   "outputs": [
    {
     "data": {
      "text/plain": [
       "[2, 3, 4, 5, 1, 2, 3, 4, 3, 5, 7, 9]"
      ]
     },
     "execution_count": 29,
     "metadata": {},
     "output_type": "execute_result"
    }
   ],
   "source": [
    "matrix = [[2,3,4,5],\n",
    "          [1,2,3,4],\n",
    "          [3,5,7,9]]\n",
    "\n",
    "flattened = [n for row in matrix for n in row]\n",
    "flattened"
   ]
  },
  {
   "cell_type": "code",
   "execution_count": 30,
   "metadata": {
    "collapsed": false
   },
   "outputs": [
    {
     "data": {
      "text/plain": [
       "[2, 3, 4, 5, 1, 2, 3, 4, 3, 5, 7, 9]"
      ]
     },
     "execution_count": 30,
     "metadata": {},
     "output_type": "execute_result"
    }
   ],
   "source": [
    "matrix = [[2,3,4,5],\n",
    "          [1,2,3,4],\n",
    "          [3,5,7,9]]\n",
    "\n",
    "flattened = [n for row in matrix\n",
    "               for n in row]\n",
    "flattened"
   ]
  },
  {
   "cell_type": "markdown",
   "metadata": {},
   "source": [
    "### The Identity Matrix\n",
    "\n",
    "![The Identity Matrix](http://python-3-patterns-idioms-test.readthedocs.io/en/latest/_images/idMatrix.png)"
   ]
  },
  {
   "cell_type": "code",
   "execution_count": 32,
   "metadata": {
    "collapsed": false
   },
   "outputs": [
    {
     "data": {
      "text/plain": [
       "array([[ 1.,  0.,  0.],\n",
       "       [ 0.,  1.,  0.],\n",
       "       [ 0.,  0.,  1.]])"
      ]
     },
     "execution_count": 32,
     "metadata": {},
     "output_type": "execute_result"
    }
   ],
   "source": [
    "np.eye(3)"
   ]
  },
  {
   "cell_type": "code",
   "execution_count": 42,
   "metadata": {
    "collapsed": false
   },
   "outputs": [
    {
     "data": {
      "text/plain": [
       "array([[ 1.,  0.,  0.],\n",
       "       [ 0.,  1.,  0.],\n",
       "       [ 0.,  0.,  1.]])"
      ]
     },
     "execution_count": 42,
     "metadata": {},
     "output_type": "execute_result"
    }
   ],
   "source": [
    "eye = np.array([[ float(col==row)\n",
    "                  for col in range(3)]\n",
    "                  for row in range(3)])\n",
    "eye"
   ]
  },
  {
   "cell_type": "markdown",
   "metadata": {},
   "source": [
    "### `zip` lists together\n",
    "\n",
    "Using `zip()` and dealing with two or more elements at a time:"
   ]
  },
  {
   "cell_type": "markdown",
   "metadata": {},
   "source": [
    "    ['Ozzie', 'BJ', 'Martin', 'Tracy', 'The Captain']\n",
    "    ['Harriet', 'the Bear', 'Lewis', 'Hepburn', 'Tennile']"
   ]
  },
  {
   "cell_type": "code",
   "execution_count": 54,
   "metadata": {
    "collapsed": false
   },
   "outputs": [
    {
     "data": {
      "text/plain": [
       "[('Ozzie', 'Harriet', 'Ozzie'),\n",
       " ('BJ', 'the Bear', 'BJ'),\n",
       " ('Martin', 'Lewis', 'Martin'),\n",
       " ('Tracy', 'Hepburn', 'Tracy'),\n",
       " ('The Captain', 'Tennile', 'The Captain')]"
      ]
     },
     "execution_count": 54,
     "metadata": {},
     "output_type": "execute_result"
    }
   ],
   "source": [
    "zip(partner_1, partner_2, partner_1)"
   ]
  },
  {
   "cell_type": "code",
   "execution_count": 61,
   "metadata": {
    "collapsed": false
   },
   "outputs": [
    {
     "data": {
      "text/plain": [
       "frozenset({1, 2, 11})"
      ]
     },
     "execution_count": 61,
     "metadata": {},
     "output_type": "execute_result"
    }
   ],
   "source": [
    "this_set = frozenset([1,1,1,1,11,2])\n",
    "this_set"
   ]
  },
  {
   "cell_type": "code",
   "execution_count": 57,
   "metadata": {
    "collapsed": false
   },
   "outputs": [
    {
     "data": {
      "text/plain": [
       "[{'Harriet', 'Ozzie'},\n",
       " {'BJ', 'the Bear'},\n",
       " {'Lewis', 'Martin'},\n",
       " {'Hepburn', 'Tracy'},\n",
       " {'Tennile', 'The Captain'}]"
      ]
     },
     "execution_count": 57,
     "metadata": {},
     "output_type": "execute_result"
    }
   ],
   "source": [
    "partner_1 = ['Ozzie', 'BJ', 'Martin', 'Tracy', 'The Captain']\n",
    "partner_2 = ['Harriet', 'the Bear', 'Lewis', 'Hepburn', 'Tennile']\n",
    "couples = [{p_1, p_2, p_1, p_1, p_1} for p_1, p_2 in zip(partner_1, partner_2)]\n",
    "couples"
   ]
  },
  {
   "cell_type": "markdown",
   "metadata": {},
   "source": [
    "### Set Comprehensions\n",
    "\n",
    "We require\n",
    "\n",
    "`{ 'Bob', 'John', 'Alice' }`"
   ]
  },
  {
   "cell_type": "code",
   "execution_count": 62,
   "metadata": {
    "collapsed": false
   },
   "outputs": [
    {
     "data": {
      "text/plain": [
       "['J', 'o', 's', 'h', 'u', 'a']"
      ]
     },
     "execution_count": 62,
     "metadata": {},
     "output_type": "execute_result"
    }
   ],
   "source": [
    "[c for c in 'Joshua']"
   ]
  },
  {
   "cell_type": "code",
   "execution_count": 74,
   "metadata": {
    "collapsed": false
   },
   "outputs": [
    {
     "data": {
      "text/plain": [
       "True"
      ]
     },
     "execution_count": 74,
     "metadata": {},
     "output_type": "execute_result"
    }
   ],
   "source": [
    "this_list = [1,2,3]\n",
    "len(this_list[3:]) == 0"
   ]
  },
  {
   "cell_type": "code",
   "execution_count": 65,
   "metadata": {
    "collapsed": false
   },
   "outputs": [
    {
     "data": {
      "text/plain": [
       "{'Alice', 'Bob', 'John'}"
      ]
     },
     "execution_count": 65,
     "metadata": {},
     "output_type": "execute_result"
    }
   ],
   "source": [
    "names = [ 'Bob', 'JOHN', 'alice', 'bob', 'ALICE', 'J', 'Bob' ]\n",
    "requirement = {name[0].upper() + name[1:].lower() \n",
    "               for name in names\n",
    "               if len(name) > 1}\n",
    "requirement"
   ]
  },
  {
   "cell_type": "markdown",
   "metadata": {},
   "source": [
    "### Dictionary Comprehension\n",
    "\n",
    "Swap all the keys and values in this dictionary:\n",
    "\n",
    "    patroni = {'Harry':'Stag',\n",
    "               'Ron':'Jack Russell Terrier',\n",
    "               'Ginny':'Horse',\n",
    "               'Luna':'Hare'}\n"
   ]
  },
  {
   "cell_type": "code",
   "execution_count": 79,
   "metadata": {
    "collapsed": false
   },
   "outputs": [
    {
     "data": {
      "text/plain": [
       "{'Hare': 'Luna',\n",
       " 'Horse': 'Ginny',\n",
       " 'Jack Russell Terrier': 'Ron',\n",
       " 'Stag': 'Harry'}"
      ]
     },
     "execution_count": 79,
     "metadata": {},
     "output_type": "execute_result"
    }
   ],
   "source": [
    "patroni = {'Harry':'Stag',\n",
    "           'Ron':'Jack Russell Terrier',\n",
    "           'Ginny':'Horse',\n",
    "           'Luna':'Hare'}\n",
    "rev_patroni = {value:key for key, value in patroni.items()}\n",
    "rev_patroni"
   ]
  },
  {
   "cell_type": "markdown",
   "metadata": {},
   "source": [
    "### Leaking Variables in Python 2"
   ]
  },
  {
   "cell_type": "code",
   "execution_count": 86,
   "metadata": {
    "collapsed": false
   },
   "outputs": [
    {
     "name": "stdout",
     "output_type": "stream",
     "text": [
      "0\n",
      "0\n"
     ]
    }
   ],
   "source": [
    "for new_var in range(1):\n",
    "    print(new_var)\n",
    "print(new_var)"
   ]
  },
  {
   "cell_type": "code",
   "execution_count": 85,
   "metadata": {
    "collapsed": false,
    "scrolled": true
   },
   "outputs": [
    {
     "name": "stdout",
     "output_type": "stream",
     "text": [
      "\n",
      "I am a long time answering your letter, my dear Miss Harriet, \n",
      "but then you must remember that it is an equally long time \n",
      "since I received it—so that makes us even, & nobody to blame \n",
      "on either side.\n",
      "\n",
      "I am a long time answering your letter, my dear Miss Harriet, \n",
      "but then you must remember that it is an equally long time \n",
      "since I received it—so that makes us even, & nobody to blame \n",
      "on either side.\n",
      "['e', 'g', 'g', 's']\n"
     ]
    }
   ],
   "source": [
    "letter = \"\"\"\n",
    "I am a long time answering your letter, my dear Miss Harriet, \n",
    "but then you must remember that it is an equally long time \n",
    "since I received it—so that makes us even, & nobody to blame \n",
    "on either side.\"\"\"\n",
    "print(letter)\n",
    "spam = [letter for letter in 'eggs']\n",
    "print(letter)\n",
    "print(spam)"
   ]
  },
  {
   "cell_type": "markdown",
   "metadata": {},
   "source": [
    "### A Deck of Cards"
   ]
  },
  {
   "cell_type": "markdown",
   "metadata": {},
   "source": [
    "Use a nested list comprehension to create a list with 52 tuples, each representing a playing card in the standard deck of cards. \n",
    "\n",
    "Bonus: Shuffle the deck and deal five cards."
   ]
  },
  {
   "cell_type": "code",
   "execution_count": null,
   "metadata": {
    "collapsed": true
   },
   "outputs": [],
   "source": []
  },
  {
   "cell_type": "markdown",
   "metadata": {},
   "source": [
    "### Prime Numbers\n",
    "\n",
    "Write a list comprehension to find the prime numbers less than 1000."
   ]
  },
  {
   "cell_type": "code",
   "execution_count": null,
   "metadata": {
    "collapsed": true
   },
   "outputs": [],
   "source": []
  },
  {
   "cell_type": "markdown",
   "metadata": {},
   "source": [
    "### $V = \\left\\{\\mathbf v: \\mathbf v \\in \\mathbb{R}^2 \\text{ and } |\\mathbf v| < 1\\right\\}$"
   ]
  },
  {
   "cell_type": "markdown",
   "metadata": {},
   "source": [
    "Find the number of elements in this set for a granularity of 0.1, 0.01."
   ]
  },
  {
   "cell_type": "code",
   "execution_count": null,
   "metadata": {
    "collapsed": false
   },
   "outputs": [],
   "source": []
  }
 ],
 "metadata": {
  "kernelspec": {
   "display_name": "Python 2",
   "language": "python",
   "name": "python2"
  },
  "language_info": {
   "codemirror_mode": {
    "name": "ipython",
    "version": 2
   },
   "file_extension": ".py",
   "mimetype": "text/x-python",
   "name": "python",
   "nbconvert_exporter": "python",
   "pygments_lexer": "ipython2",
   "version": "2.7.12"
  }
 },
 "nbformat": 4,
 "nbformat_minor": 1
}
