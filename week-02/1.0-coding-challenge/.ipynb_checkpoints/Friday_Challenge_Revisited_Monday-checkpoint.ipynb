{
 "cells": [
  {
   "cell_type": "code",
   "execution_count": 1,
   "metadata": {
    "collapsed": true
   },
   "outputs": [],
   "source": [
    "shoppingList1_ = 'Stewed Tomatoes, Cream of Chicken Soup, Pineapple, Cream of Mushroom Soup,\\\n",
    "Peaches, Hot Dog Chili Sauce, Tomato Sauce, Cream of Chicken Soup, Peaches, Canned Goods, \\\n",
    "Tomato Sauce, Tomato Soup, Peaches, Creamed Corn, Stewed Tomatoes, Hot Dog Chili Sauce, \\\n",
    "Chilies and Tomatoes, Canned Goods, Peaches, Chilies and Tomatoes'\n",
    "\n",
    "shoppingList2_ = 'Stewed Tomatoes, Tomato Soup, Apple Pie, Tomato Soup, Creamed Corn,\\\n",
    "Chilies and Tomatoes,Apple Pie,Peaches,Peaches,Hot Dog Chili Sauce,Apple Pie,Canned Goods,\\\n",
    "Cream of Mushroom Soup,Peaches,Canned Goods,Creamed Corn,Stewed Tomatoes,Cream of Chicken Soup,\\\n",
    "Tomato Sauce,Apple Pie'\n",
    "\n",
    "shoppingList3_ = 'Apple Pie, Pineapple, Stewed Tomatoes, Cream of Chicken Soup, Canned Goods,\\\n",
    "Tomato Sauce, Canned Goods, Apple Pie, Pineapple, Apple Pie, Canned Goods, Tomato Sauce,\\\n",
    "Hot Dog Chili Sauce, Cream of Mushroom Soup, Cream of Chicken Soup, Tomato Sauce, \\\n",
    "Chilies and Tomatoes, Creamed Corn, Apple Pie, Tomato Soup'"
   ]
  },
  {
   "cell_type": "code",
   "execution_count": 2,
   "metadata": {
    "collapsed": false
   },
   "outputs": [
    {
     "data": {
      "text/plain": [
       "'Stewed Tomatoes, Cream of Chicken Soup, Pineapple, Cream of Mushroom Soup,Peaches, Hot Dog Chili Sauce, Tomato Sauce, Cream of Chicken Soup, Peaches, Canned Goods, Tomato Sauce, Tomato Soup, Peaches, Creamed Corn, Stewed Tomatoes, Hot Dog Chili Sauce, Chilies and Tomatoes, Canned Goods, Peaches, Chilies and Tomatoes, Stewed Tomatoes, Tomato Soup, Apple Pie, Tomato Soup, Creamed Corn,Chilies and Tomatoes,Apple Pie,Peaches,Peaches,Hot Dog Chili Sauce,Apple Pie,Canned Goods,Cream of Mushroom Soup,Peaches,Canned Goods,Creamed Corn,Stewed Tomatoes,Cream of Chicken Soup,Tomato Sauce,Apple Pie, Apple Pie, Pineapple, Stewed Tomatoes, Cream of Chicken Soup, Canned Goods,Tomato Sauce, Canned Goods, Apple Pie, Pineapple, Apple Pie, Canned Goods, Tomato Sauce,Hot Dog Chili Sauce, Cream of Mushroom Soup, Cream of Chicken Soup, Tomato Sauce, Chilies and Tomatoes, Creamed Corn, Apple Pie, Tomato Soup'"
      ]
     },
     "execution_count": 2,
     "metadata": {},
     "output_type": "execute_result"
    }
   ],
   "source": [
    "# Aggregate the Strings with spaces and commas\n",
    "\n",
    "shoppingListAgg = shoppingList1_ + \", \" + shoppingList2_ + \", \" + shoppingList3_\n",
    "shoppingListAgg"
   ]
  },
  {
   "cell_type": "code",
   "execution_count": 3,
   "metadata": {
    "collapsed": true
   },
   "outputs": [],
   "source": [
    "stripped_list = []\n",
    "for i in shoppingListAgg:\n",
    "    stripped_list = i.strip()"
   ]
  },
  {
   "cell_type": "code",
   "execution_count": null,
   "metadata": {
    "collapsed": true
   },
   "outputs": [],
   "source": []
  },
  {
   "cell_type": "code",
   "execution_count": null,
   "metadata": {
    "collapsed": true
   },
   "outputs": [],
   "source": []
  },
  {
   "cell_type": "code",
   "execution_count": null,
   "metadata": {
    "collapsed": true
   },
   "outputs": [],
   "source": []
  },
  {
   "cell_type": "code",
   "execution_count": 33,
   "metadata": {
    "collapsed": false
   },
   "outputs": [
    {
     "data": {
      "text/plain": [
       "['Stewed Tomatoes',\n",
       " 'Cream of Chicken Soup',\n",
       " 'Pineapple',\n",
       " 'Cream of Mushroom Soup',\n",
       " 'Peaches',\n",
       " 'Hot Dog Chili Sauce',\n",
       " 'Tomato Sauce',\n",
       " 'Cream of Chicken Soup',\n",
       " 'Peaches',\n",
       " 'Canned Goods']"
      ]
     },
     "execution_count": 33,
     "metadata": {},
     "output_type": "execute_result"
    }
   ],
   "source": [
    "# Create a List\n",
    "# We want to iterate over this list\n",
    "unstrippedversion = [i.strip() for i in shoppingListAgg.split(\",\")]\n",
    "unstrippedversion[:10]"
   ]
  },
  {
   "cell_type": "code",
   "execution_count": 34,
   "metadata": {
    "collapsed": false
   },
   "outputs": [
    {
     "data": {
      "text/plain": [
       "{'Apple Pie': 8,\n",
       " 'Canned Goods': 7,\n",
       " 'Chilies and Tomatoes': 4,\n",
       " 'Cream of Chicken Soup': 5,\n",
       " 'Cream of Mushroom Soup': 3,\n",
       " 'Creamed Corn': 4,\n",
       " 'Hot Dog Chili Sauce': 4,\n",
       " 'Peaches': 7,\n",
       " 'Pineapple': 3,\n",
       " 'Stewed Tomatoes': 5,\n",
       " 'Tomato Sauce': 6,\n",
       " 'Tomato Soup': 4}"
      ]
     },
     "execution_count": 34,
     "metadata": {},
     "output_type": "execute_result"
    }
   ],
   "source": [
    "shoppingDict = {}\n",
    "for item in unstrippedversion:\n",
    "    if item in shoppingDict:\n",
    "        shoppingDict[item] +=1\n",
    "    else:\n",
    "        shoppingDict[item] = 1\n",
    "shoppingDict"
   ]
  },
  {
   "cell_type": "code",
   "execution_count": 35,
   "metadata": {
    "collapsed": false
   },
   "outputs": [
    {
     "data": {
      "text/plain": [
       "{'Apple Pie': 8,\n",
       " 'Canned Goods': 7,\n",
       " 'Chilies and Tomatoes': 4,\n",
       " 'Cream of Chicken Soup': 5,\n",
       " 'Cream of Mushroom Soup': 3,\n",
       " 'Creamed Corn': 4,\n",
       " 'Hot Dog Chili Sauce': 4,\n",
       " 'Peaches': 7,\n",
       " 'Pineapple': 3,\n",
       " 'Stewed Tomatoes': 5,\n",
       " 'Tomato Sauce': 6,\n",
       " 'Tomato Soup': 4}"
      ]
     },
     "execution_count": 35,
     "metadata": {},
     "output_type": "execute_result"
    }
   ],
   "source": [
    "def freq_count(text):\n",
    "    count = {}\n",
    "    for key in unstrippedversion:\n",
    "        count[key] = count.get(key,0) + 1  \n",
    "    return count\n",
    "freq_count(shoppingListAgg)"
   ]
  },
  {
   "cell_type": "code",
   "execution_count": 36,
   "metadata": {
    "collapsed": false
   },
   "outputs": [
    {
     "data": {
      "text/plain": [
       "{'Apple Pie': 8,\n",
       " 'Canned Goods': 7,\n",
       " 'Chilies and Tomatoes': 4,\n",
       " 'Cream of Chicken Soup': 5,\n",
       " 'Cream of Mushroom Soup': 3,\n",
       " 'Creamed Corn': 4,\n",
       " 'Hot Dog Chili Sauce': 4,\n",
       " 'Peaches': 7,\n",
       " 'Pineapple': 3,\n",
       " 'Stewed Tomatoes': 5,\n",
       " 'Tomato Sauce': 6,\n",
       " 'Tomato Soup': 4}"
      ]
     },
     "execution_count": 36,
     "metadata": {},
     "output_type": "execute_result"
    }
   ],
   "source": [
    "def freq_count(text):\n",
    "    count = {}\n",
    "    for item in unstrippedversion:\n",
    "        # here the .get function initializes a new dictionary entry (see above)\n",
    "        count[item] = count.get(item,0) + 1 \n",
    "    # create a dictionary comprehension based on count dictionary\n",
    "    temp_dict =  { item:value for (item,value) in count.items() } \n",
    "\n",
    "    temp2 = sorted(count.items(), key = lambda x: x[1], reverse = True)\n",
    "    return dict(temp2)\n",
    "#     return temp2 # which was our properly sorted version but not a list\n",
    "\n",
    "freq_count(shoppingListAgg)"
   ]
  },
  {
   "cell_type": "code",
   "execution_count": 37,
   "metadata": {
    "collapsed": false
   },
   "outputs": [
    {
     "data": {
      "text/plain": [
       "0"
      ]
     },
     "execution_count": 37,
     "metadata": {},
     "output_type": "execute_result"
    }
   ],
   "source": [
    "# Since \"Apple\" is not a key in the list, the value '0' is returned.\n",
    "# This avoids an error message\n",
    "\n",
    "freq_count(shoppingListAgg).get(\"Apple\",0)"
   ]
  },
  {
   "cell_type": "code",
   "execution_count": 38,
   "metadata": {
    "collapsed": false
   },
   "outputs": [
    {
     "data": {
      "text/plain": [
       "OrderedDict([('Apple Pie', 8),\n",
       "             ('Canned Goods', 7),\n",
       "             ('Peaches', 7),\n",
       "             ('Tomato Sauce', 6),\n",
       "             ('Cream of Chicken Soup', 5),\n",
       "             ('Stewed Tomatoes', 5),\n",
       "             ('Tomato Soup', 4),\n",
       "             ('Hot Dog Chili Sauce', 4),\n",
       "             ('Chilies and Tomatoes', 4),\n",
       "             ('Creamed Corn', 4),\n",
       "             ('Cream of Mushroom Soup', 3),\n",
       "             ('Pineapple', 3)])"
      ]
     },
     "execution_count": 38,
     "metadata": {},
     "output_type": "execute_result"
    }
   ],
   "source": [
    "from collections import OrderedDict\n",
    "def freq_count(text):\n",
    "    count = {}\n",
    "    for item in unstrippedversion:\n",
    "        # here the .get function initializes a new dictionary entry (see above)\n",
    "        count[item] = count.get(item,0) + 1 \n",
    "    temp_dict =  { item:value for (item,value) in count.items() } \n",
    "    temp2 = sorted(temp_dict.items(), key = lambda x: x[1], reverse = True)\n",
    "    return OrderedDict(temp2)\n",
    "\n",
    "freq_count(shoppingListAgg)\n"
   ]
  },
  {
   "cell_type": "code",
   "execution_count": 39,
   "metadata": {
    "collapsed": false
   },
   "outputs": [
    {
     "data": {
      "text/plain": [
       "8"
      ]
     },
     "execution_count": 39,
     "metadata": {},
     "output_type": "execute_result"
    }
   ],
   "source": [
    "freq_count(shoppingListAgg)['Apple Pie']"
   ]
  },
  {
   "cell_type": "code",
   "execution_count": 30,
   "metadata": {
    "collapsed": false
   },
   "outputs": [
    {
     "data": {
      "text/html": [
       "<div>\n",
       "<table border=\"1\" class=\"dataframe\">\n",
       "  <thead>\n",
       "    <tr style=\"text-align: right;\">\n",
       "      <th></th>\n",
       "      <th>Apple Pie</th>\n",
       "      <th>Canned Goods</th>\n",
       "      <th>Peaches</th>\n",
       "      <th>Tomato Sauce</th>\n",
       "      <th>Cream of Chicken Soup</th>\n",
       "      <th>Stewed Tomatoes</th>\n",
       "      <th>Tomato Soup</th>\n",
       "      <th>Hot Dog Chili Sauce</th>\n",
       "      <th>Chilies and Tomatoes</th>\n",
       "      <th>Creamed Corn</th>\n",
       "      <th>Cream of Mushroom Soup</th>\n",
       "      <th>Pineapple</th>\n",
       "    </tr>\n",
       "  </thead>\n",
       "  <tbody>\n",
       "    <tr>\n",
       "      <th>orders</th>\n",
       "      <td>8</td>\n",
       "      <td>7</td>\n",
       "      <td>7</td>\n",
       "      <td>6</td>\n",
       "      <td>5</td>\n",
       "      <td>5</td>\n",
       "      <td>4</td>\n",
       "      <td>4</td>\n",
       "      <td>4</td>\n",
       "      <td>4</td>\n",
       "      <td>3</td>\n",
       "      <td>3</td>\n",
       "    </tr>\n",
       "  </tbody>\n",
       "</table>\n",
       "</div>"
      ],
      "text/plain": [
       "        Apple Pie  Canned Goods  Peaches  Tomato Sauce  Cream of Chicken Soup  \\\n",
       "orders          8             7        7             6                      5   \n",
       "\n",
       "        Stewed Tomatoes  Tomato Soup  Hot Dog Chili Sauce  \\\n",
       "orders                5            4                    4   \n",
       "\n",
       "        Chilies and Tomatoes  Creamed Corn  Cream of Mushroom Soup  Pineapple  \n",
       "orders                     4             4                       3          3  "
      ]
     },
     "execution_count": 30,
     "metadata": {},
     "output_type": "execute_result"
    }
   ],
   "source": [
    "import pandas as pd\n",
    "dp = pd.DataFrame(freq_count(shoppingListAgg), index=[\"orders\"]).sort_values(by='orders',axis=1, ascending = False)\n",
    "dp"
   ]
  },
  {
   "cell_type": "code",
   "execution_count": null,
   "metadata": {
    "collapsed": true
   },
   "outputs": [],
   "source": []
  }
 ],
 "metadata": {
  "anaconda-cloud": {},
  "kernelspec": {
   "display_name": "Python [conda env:py27]",
   "language": "python",
   "name": "conda-env-py27-py"
  },
  "language_info": {
   "codemirror_mode": {
    "name": "ipython",
    "version": 2
   },
   "file_extension": ".py",
   "mimetype": "text/x-python",
   "name": "python",
   "nbconvert_exporter": "python",
   "pygments_lexer": "ipython2",
   "version": "2.7.12"
  }
 },
 "nbformat": 4,
 "nbformat_minor": 0
}
