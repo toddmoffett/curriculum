{
 "cells": [
  {
   "cell_type": "code",
   "execution_count": 1,
   "metadata": {
    "collapsed": true
   },
   "outputs": [],
   "source": [
    "path = \"https://raw.githubusercontent.com/fivethirtyeight/data/master/star-wars-survey/StarWars.csv\""
   ]
  },
  {
   "cell_type": "code",
   "execution_count": 2,
   "metadata": {
    "collapsed": true
   },
   "outputs": [],
   "source": [
    "import pandas as pd\n",
    "df = pd.read_csv(path)"
   ]
  },
  {
   "cell_type": "code",
   "execution_count": 15,
   "metadata": {
    "collapsed": false
   },
   "outputs": [
    {
     "data": {
      "text/plain": [
       "list"
      ]
     },
     "execution_count": 15,
     "metadata": {},
     "output_type": "execute_result"
    }
   ],
   "source": [
    "type(list(df.columns.values))"
   ]
  },
  {
   "cell_type": "code",
   "execution_count": 7,
   "metadata": {
    "collapsed": false
   },
   "outputs": [
    {
     "data": {
      "text/plain": [
       "33"
      ]
     },
     "execution_count": 7,
     "metadata": {},
     "output_type": "execute_result"
    }
   ],
   "source": [
    "list(df.columns.values).index(\"Gender\") # python list function"
   ]
  },
  {
   "cell_type": "code",
   "execution_count": 20,
   "metadata": {
    "collapsed": false
   },
   "outputs": [
    {
     "data": {
      "text/plain": [
       "33.0"
      ]
     },
     "execution_count": 20,
     "metadata": {},
     "output_type": "execute_result"
    }
   ],
   "source": [
    "import numpy as np\n",
    "float(np.where(df.columns == 'Gender')[0])\n",
    "# np.where(df.columns == 'Gender')[0][0]"
   ]
  },
  {
   "cell_type": "code",
   "execution_count": 22,
   "metadata": {
    "collapsed": false
   },
   "outputs": [
    {
     "data": {
      "text/plain": [
       "33"
      ]
     },
     "execution_count": 22,
     "metadata": {},
     "output_type": "execute_result"
    }
   ],
   "source": [
    "df.columns.get_loc(\"Gender\") # pandas dataframe function"
   ]
  },
  {
   "cell_type": "code",
   "execution_count": 28,
   "metadata": {
    "collapsed": false
   },
   "outputs": [
    {
     "name": "stdout",
     "output_type": "stream",
     "text": [
      "Number of females in 1880:  90992\n",
      "\n",
      "Number of males in 1880:  110490\n"
     ]
    }
   ],
   "source": [
    "# start new exercise \n",
    "import csv\n",
    "with open('/Users/jam3jam/Downloads/names/yob1880.txt', 'r') as f:\n",
    "    reader = csv.reader(f)\n",
    "    female_count = 0\n",
    "    male_count = 0\n",
    "    for row in reader:\n",
    "        if row[1] == 'F':\n",
    "            female_count += int(row[2])\n",
    "        else:\n",
    "            male_count += int(row[2])\n",
    "    print \"Number of females in 1880: \", female_count\n",
    "    print ''\n",
    "    print \"Number of males in 1880: \", male_count"
   ]
  },
  {
   "cell_type": "code",
   "execution_count": 37,
   "metadata": {
    "collapsed": false
   },
   "outputs": [
    {
     "name": "stdout",
     "output_type": "stream",
     "text": [
      " Females: 90992\n",
      "Males:   110490\n"
     ]
    }
   ],
   "source": [
    "path = '/Users/jam3jam/Downloads/names/yob1880.txt'\n",
    "df = pd.read_csv(path, names=['Name', 'Gender', 'Count'])\n",
    "print \"Females:\", df[df['Gender'] == 'F']['Count'].sum()\n",
    "print \"Males:  \", df[df['Gender'] == 'M']['Count'].sum()"
   ]
  },
  {
   "cell_type": "code",
   "execution_count": 42,
   "metadata": {
    "collapsed": false
   },
   "outputs": [
    {
     "data": {
      "text/plain": [
       "6000"
      ]
     },
     "execution_count": 42,
     "metadata": {},
     "output_type": "execute_result"
    }
   ],
   "source": [
    "df.groupby(by=['Gender'])['Count'].sum()\n"
   ]
  },
  {
   "cell_type": "code",
   "execution_count": 44,
   "metadata": {
    "collapsed": false
   },
   "outputs": [
    {
     "name": "stdout",
     "output_type": "stream",
     "text": [
      "/Users/jam3jam/Downloads/names/yob1880.txt\n",
      "/Users/jam3jam/Downloads/names/yob1881.txt\n",
      "/Users/jam3jam/Downloads/names/yob1882.txt\n",
      "/Users/jam3jam/Downloads/names/yob1883.txt\n",
      "/Users/jam3jam/Downloads/names/yob1884.txt\n",
      "/Users/jam3jam/Downloads/names/yob1885.txt\n",
      "/Users/jam3jam/Downloads/names/yob1886.txt\n",
      "/Users/jam3jam/Downloads/names/yob1887.txt\n",
      "/Users/jam3jam/Downloads/names/yob1888.txt\n",
      "/Users/jam3jam/Downloads/names/yob1889.txt\n",
      "/Users/jam3jam/Downloads/names/yob1890.txt\n",
      "/Users/jam3jam/Downloads/names/yob1891.txt\n",
      "/Users/jam3jam/Downloads/names/yob1892.txt\n",
      "/Users/jam3jam/Downloads/names/yob1893.txt\n",
      "/Users/jam3jam/Downloads/names/yob1894.txt\n",
      "/Users/jam3jam/Downloads/names/yob1895.txt\n",
      "/Users/jam3jam/Downloads/names/yob1896.txt\n",
      "/Users/jam3jam/Downloads/names/yob1897.txt\n",
      "/Users/jam3jam/Downloads/names/yob1898.txt\n",
      "/Users/jam3jam/Downloads/names/yob1899.txt\n",
      "/Users/jam3jam/Downloads/names/yob1900.txt\n",
      "/Users/jam3jam/Downloads/names/yob1901.txt\n",
      "/Users/jam3jam/Downloads/names/yob1902.txt\n",
      "/Users/jam3jam/Downloads/names/yob1903.txt\n",
      "/Users/jam3jam/Downloads/names/yob1904.txt\n",
      "/Users/jam3jam/Downloads/names/yob1905.txt\n",
      "/Users/jam3jam/Downloads/names/yob1906.txt\n",
      "/Users/jam3jam/Downloads/names/yob1907.txt\n",
      "/Users/jam3jam/Downloads/names/yob1908.txt\n",
      "/Users/jam3jam/Downloads/names/yob1909.txt\n",
      "/Users/jam3jam/Downloads/names/yob1910.txt\n",
      "/Users/jam3jam/Downloads/names/yob1911.txt\n",
      "/Users/jam3jam/Downloads/names/yob1912.txt\n",
      "/Users/jam3jam/Downloads/names/yob1913.txt\n",
      "/Users/jam3jam/Downloads/names/yob1914.txt\n",
      "/Users/jam3jam/Downloads/names/yob1915.txt\n",
      "/Users/jam3jam/Downloads/names/yob1916.txt\n",
      "/Users/jam3jam/Downloads/names/yob1917.txt\n",
      "/Users/jam3jam/Downloads/names/yob1918.txt\n",
      "/Users/jam3jam/Downloads/names/yob1919.txt\n",
      "/Users/jam3jam/Downloads/names/yob1920.txt\n",
      "/Users/jam3jam/Downloads/names/yob1921.txt\n",
      "/Users/jam3jam/Downloads/names/yob1922.txt\n",
      "/Users/jam3jam/Downloads/names/yob1923.txt\n",
      "/Users/jam3jam/Downloads/names/yob1924.txt\n",
      "/Users/jam3jam/Downloads/names/yob1925.txt\n",
      "/Users/jam3jam/Downloads/names/yob1926.txt\n",
      "/Users/jam3jam/Downloads/names/yob1927.txt\n",
      "/Users/jam3jam/Downloads/names/yob1928.txt\n",
      "/Users/jam3jam/Downloads/names/yob1929.txt\n",
      "/Users/jam3jam/Downloads/names/yob1930.txt\n",
      "/Users/jam3jam/Downloads/names/yob1931.txt\n",
      "/Users/jam3jam/Downloads/names/yob1932.txt\n",
      "/Users/jam3jam/Downloads/names/yob1933.txt\n",
      "/Users/jam3jam/Downloads/names/yob1934.txt\n",
      "/Users/jam3jam/Downloads/names/yob1935.txt\n",
      "/Users/jam3jam/Downloads/names/yob1936.txt\n",
      "/Users/jam3jam/Downloads/names/yob1937.txt\n",
      "/Users/jam3jam/Downloads/names/yob1938.txt\n",
      "/Users/jam3jam/Downloads/names/yob1939.txt\n",
      "/Users/jam3jam/Downloads/names/yob1940.txt\n",
      "/Users/jam3jam/Downloads/names/yob1941.txt\n",
      "/Users/jam3jam/Downloads/names/yob1942.txt\n",
      "/Users/jam3jam/Downloads/names/yob1943.txt\n",
      "/Users/jam3jam/Downloads/names/yob1944.txt\n",
      "/Users/jam3jam/Downloads/names/yob1945.txt\n",
      "/Users/jam3jam/Downloads/names/yob1946.txt\n",
      "/Users/jam3jam/Downloads/names/yob1947.txt\n",
      "/Users/jam3jam/Downloads/names/yob1948.txt\n",
      "/Users/jam3jam/Downloads/names/yob1949.txt\n",
      "/Users/jam3jam/Downloads/names/yob1950.txt\n",
      "/Users/jam3jam/Downloads/names/yob1951.txt\n",
      "/Users/jam3jam/Downloads/names/yob1952.txt\n",
      "/Users/jam3jam/Downloads/names/yob1953.txt\n",
      "/Users/jam3jam/Downloads/names/yob1954.txt\n",
      "/Users/jam3jam/Downloads/names/yob1955.txt\n",
      "/Users/jam3jam/Downloads/names/yob1956.txt\n",
      "/Users/jam3jam/Downloads/names/yob1957.txt\n",
      "/Users/jam3jam/Downloads/names/yob1958.txt\n",
      "/Users/jam3jam/Downloads/names/yob1959.txt\n",
      "/Users/jam3jam/Downloads/names/yob1960.txt\n",
      "/Users/jam3jam/Downloads/names/yob1961.txt\n",
      "/Users/jam3jam/Downloads/names/yob1962.txt\n",
      "/Users/jam3jam/Downloads/names/yob1963.txt\n",
      "/Users/jam3jam/Downloads/names/yob1964.txt\n",
      "/Users/jam3jam/Downloads/names/yob1965.txt\n",
      "/Users/jam3jam/Downloads/names/yob1966.txt\n",
      "/Users/jam3jam/Downloads/names/yob1967.txt\n",
      "/Users/jam3jam/Downloads/names/yob1968.txt\n",
      "/Users/jam3jam/Downloads/names/yob1969.txt\n",
      "/Users/jam3jam/Downloads/names/yob1970.txt\n",
      "/Users/jam3jam/Downloads/names/yob1971.txt\n",
      "/Users/jam3jam/Downloads/names/yob1972.txt\n",
      "/Users/jam3jam/Downloads/names/yob1973.txt\n",
      "/Users/jam3jam/Downloads/names/yob1974.txt\n",
      "/Users/jam3jam/Downloads/names/yob1975.txt\n",
      "/Users/jam3jam/Downloads/names/yob1976.txt\n",
      "/Users/jam3jam/Downloads/names/yob1977.txt\n",
      "/Users/jam3jam/Downloads/names/yob1978.txt\n",
      "/Users/jam3jam/Downloads/names/yob1979.txt\n",
      "/Users/jam3jam/Downloads/names/yob1980.txt\n",
      "/Users/jam3jam/Downloads/names/yob1981.txt\n",
      "/Users/jam3jam/Downloads/names/yob1982.txt\n",
      "/Users/jam3jam/Downloads/names/yob1983.txt\n",
      "/Users/jam3jam/Downloads/names/yob1984.txt\n",
      "/Users/jam3jam/Downloads/names/yob1985.txt\n",
      "/Users/jam3jam/Downloads/names/yob1986.txt\n",
      "/Users/jam3jam/Downloads/names/yob1987.txt\n",
      "/Users/jam3jam/Downloads/names/yob1988.txt\n",
      "/Users/jam3jam/Downloads/names/yob1989.txt\n",
      "/Users/jam3jam/Downloads/names/yob1990.txt\n",
      "/Users/jam3jam/Downloads/names/yob1991.txt\n",
      "/Users/jam3jam/Downloads/names/yob1992.txt\n",
      "/Users/jam3jam/Downloads/names/yob1993.txt\n",
      "/Users/jam3jam/Downloads/names/yob1994.txt\n",
      "/Users/jam3jam/Downloads/names/yob1995.txt\n",
      "/Users/jam3jam/Downloads/names/yob1996.txt\n",
      "/Users/jam3jam/Downloads/names/yob1997.txt\n",
      "/Users/jam3jam/Downloads/names/yob1998.txt\n",
      "/Users/jam3jam/Downloads/names/yob1999.txt\n",
      "/Users/jam3jam/Downloads/names/yob2000.txt\n",
      "/Users/jam3jam/Downloads/names/yob2001.txt\n",
      "/Users/jam3jam/Downloads/names/yob2002.txt\n",
      "/Users/jam3jam/Downloads/names/yob2003.txt\n",
      "/Users/jam3jam/Downloads/names/yob2004.txt\n",
      "/Users/jam3jam/Downloads/names/yob2005.txt\n",
      "/Users/jam3jam/Downloads/names/yob2006.txt\n",
      "/Users/jam3jam/Downloads/names/yob2007.txt\n",
      "/Users/jam3jam/Downloads/names/yob2008.txt\n",
      "/Users/jam3jam/Downloads/names/yob2009.txt\n",
      "/Users/jam3jam/Downloads/names/yob2010.txt\n",
      "/Users/jam3jam/Downloads/names/yob2011.txt\n",
      "/Users/jam3jam/Downloads/names/yob2012.txt\n",
      "/Users/jam3jam/Downloads/names/yob2013.txt\n",
      "/Users/jam3jam/Downloads/names/yob2014.txt\n",
      "/Users/jam3jam/Downloads/names/yob2015.txt\n"
     ]
    }
   ],
   "source": [
    "years = range(1880,2016)\n",
    "\n",
    "for year in years:\n",
    "    path = \"/Users/jam3jam/Downloads/names/yob%d.txt\" % year\n",
    "    print path"
   ]
  },
  {
   "cell_type": "code",
   "execution_count": null,
   "metadata": {
    "collapsed": true
   },
   "outputs": [],
   "source": []
  }
 ],
 "metadata": {
  "kernelspec": {
   "display_name": "Python 2",
   "language": "python",
   "name": "python2"
  },
  "language_info": {
   "codemirror_mode": {
    "name": "ipython",
    "version": 2
   },
   "file_extension": ".py",
   "mimetype": "text/x-python",
   "name": "python",
   "nbconvert_exporter": "python",
   "pygments_lexer": "ipython2",
   "version": "2.7.11"
  },
  "widgets": {
   "state": {},
   "version": "1.1.2"
  }
 },
 "nbformat": 4,
 "nbformat_minor": 0
}
