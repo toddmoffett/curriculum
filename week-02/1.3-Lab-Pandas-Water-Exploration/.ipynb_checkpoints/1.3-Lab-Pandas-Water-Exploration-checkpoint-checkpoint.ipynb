{
 "cells": [
  {
   "cell_type": "code",
   "execution_count": 1,
   "metadata": {
    "collapsed": true
   },
   "outputs": [],
   "source": [
    "from os import chdir; chdir('../') # make sure you only run this once"
   ]
  },
  {
   "cell_type": "code",
   "execution_count": 2,
   "metadata": {
    "collapsed": true
   },
   "outputs": [],
   "source": [
    "import matplotlib.pyplot as plt\n",
    "import numpy as np\n",
    "import pandas as pd\n",
    "import seaborn as sns\n",
    "%matplotlib inline"
   ]
  },
  {
   "cell_type": "markdown",
   "metadata": {},
   "source": [
    "#### Use Tab-Completion to find the data file on your system"
   ]
  },
  {
   "cell_type": "code",
   "execution_count": 3,
   "metadata": {
    "collapsed": true
   },
   "outputs": [],
   "source": [
    "Water_Use_Average_By_Zipcode_file_location = 'data/Water_Use_Average_By_Zipcode.csv'"
   ]
  },
  {
   "cell_type": "markdown",
   "metadata": {},
   "source": [
    "#### Load the data file using `pd.read_csv`\n",
    "\n",
    "**Hint**: It's in a directory called 'data'."
   ]
  },
  {
   "cell_type": "code",
   "execution_count": 4,
   "metadata": {
    "collapsed": false
   },
   "outputs": [],
   "source": [
    "Water_Use_Average_By_Zipcode_dataframe = pd.read_csv(Water_Use_Average_By_Zipcode_file_location)"
   ]
  },
  {
   "cell_type": "markdown",
   "metadata": {},
   "source": [
    "#### What is the `type`?"
   ]
  },
  {
   "cell_type": "code",
   "execution_count": 5,
   "metadata": {
    "collapsed": false
   },
   "outputs": [],
   "source": [
    "wa = Water_Use_Average_By_Zipcode_dataframe"
   ]
  },
  {
   "cell_type": "markdown",
   "metadata": {},
   "source": [
    "#### Use the `.head()` function to examine the data"
   ]
  },
  {
   "cell_type": "code",
   "execution_count": 6,
   "metadata": {
    "collapsed": false
   },
   "outputs": [
    {
     "data": {
      "text/html": [
       "<div>\n",
       "<table border=\"1\" class=\"dataframe\">\n",
       "  <thead>\n",
       "    <tr style=\"text-align: right;\">\n",
       "      <th></th>\n",
       "      <th>FY 05/06</th>\n",
       "      <th>FY 06/07</th>\n",
       "      <th>FY 07/08</th>\n",
       "      <th>FY 08/09</th>\n",
       "      <th>FY 09/10</th>\n",
       "      <th>FY 10/11</th>\n",
       "      <th>FY 11/12</th>\n",
       "      <th>FY 12/13</th>\n",
       "      <th>Location 1</th>\n",
       "    </tr>\n",
       "  </thead>\n",
       "  <tbody>\n",
       "    <tr>\n",
       "      <th>0</th>\n",
       "      <td>32</td>\n",
       "      <td>36</td>\n",
       "      <td>34</td>\n",
       "      <td>32</td>\n",
       "      <td>27</td>\n",
       "      <td>26</td>\n",
       "      <td>36</td>\n",
       "      <td>16</td>\n",
       "      <td>91342\\n(34.30514302800049, -118.43521825999971)</td>\n",
       "    </tr>\n",
       "    <tr>\n",
       "      <th>1</th>\n",
       "      <td>18</td>\n",
       "      <td>19</td>\n",
       "      <td>17</td>\n",
       "      <td>14</td>\n",
       "      <td>13</td>\n",
       "      <td>13</td>\n",
       "      <td>13</td>\n",
       "      <td>12</td>\n",
       "      <td>91309\\n(34.21867307400049, -118.59758676999968)</td>\n",
       "    </tr>\n",
       "    <tr>\n",
       "      <th>2</th>\n",
       "      <td>62</td>\n",
       "      <td>66</td>\n",
       "      <td>58</td>\n",
       "      <td>65</td>\n",
       "      <td>55</td>\n",
       "      <td>52</td>\n",
       "      <td>44</td>\n",
       "      <td>36</td>\n",
       "      <td>91302\\n(34.14327419400047, -118.6628270279997)</td>\n",
       "    </tr>\n",
       "    <tr>\n",
       "      <th>3</th>\n",
       "      <td>31</td>\n",
       "      <td>35</td>\n",
       "      <td>32</td>\n",
       "      <td>31</td>\n",
       "      <td>26</td>\n",
       "      <td>26</td>\n",
       "      <td>27</td>\n",
       "      <td>24</td>\n",
       "      <td>90272\\n(34.04886156900045, -118.53572692799969)</td>\n",
       "    </tr>\n",
       "    <tr>\n",
       "      <th>4</th>\n",
       "      <td>47</td>\n",
       "      <td>52</td>\n",
       "      <td>50</td>\n",
       "      <td>49</td>\n",
       "      <td>41</td>\n",
       "      <td>41</td>\n",
       "      <td>44</td>\n",
       "      <td>26</td>\n",
       "      <td>91316\\n(34.16673287800046, -118.5162960619997)</td>\n",
       "    </tr>\n",
       "  </tbody>\n",
       "</table>\n",
       "</div>"
      ],
      "text/plain": [
       "   FY 05/06  FY 06/07  FY 07/08  FY 08/09  FY 09/10  FY 10/11  FY 11/12  \\\n",
       "0        32        36        34        32        27        26        36   \n",
       "1        18        19        17        14        13        13        13   \n",
       "2        62        66        58        65        55        52        44   \n",
       "3        31        35        32        31        26        26        27   \n",
       "4        47        52        50        49        41        41        44   \n",
       "\n",
       "   FY 12/13                                       Location 1  \n",
       "0        16  91342\\n(34.30514302800049, -118.43521825999971)  \n",
       "1        12  91309\\n(34.21867307400049, -118.59758676999968)  \n",
       "2        36   91302\\n(34.14327419400047, -118.6628270279997)  \n",
       "3        24  90272\\n(34.04886156900045, -118.53572692799969)  \n",
       "4        26   91316\\n(34.16673287800046, -118.5162960619997)  "
      ]
     },
     "execution_count": 6,
     "metadata": {},
     "output_type": "execute_result"
    }
   ],
   "source": [
    "wa.head()"
   ]
  },
  {
   "cell_type": "markdown",
   "metadata": {},
   "source": [
    "#### Drop the `Location 1` Feature\n",
    "\n",
    "We won't be working with the `Location 1` feature today. Let's `.drop` it.\n",
    "\n",
    "Make sure to drop using `inplace=True`\n",
    "\n",
    "Don't forget to specify the correct axis."
   ]
  },
  {
   "cell_type": "markdown",
   "metadata": {},
   "source": [
    "        +------------+---------+--------+\n",
    "        |            |  A      |  B     |\n",
    "        +------------+---------+---------\n",
    "        |      0     | 0.626386| 1.52325|----axis=1----->\n",
    "        +------------+---------+--------+\n",
    "                        |         |\n",
    "                        | axis=0  |\n",
    "                        ↓         ↓"
   ]
  },
  {
   "cell_type": "code",
   "execution_count": 7,
   "metadata": {
    "collapsed": false
   },
   "outputs": [],
   "source": [
    "wa.drop('Location 1', axis=1, inplace=True)"
   ]
  },
  {
   "cell_type": "markdown",
   "metadata": {},
   "source": [
    "#### Use `.columns` to confirm that it has been dropped"
   ]
  },
  {
   "cell_type": "code",
   "execution_count": 8,
   "metadata": {
    "collapsed": false,
    "scrolled": true
   },
   "outputs": [
    {
     "data": {
      "text/plain": [
       "Index([u'FY 05/06', u'FY 06/07', u'FY 07/08', u'FY 08/09', u'FY 09/10',\n",
       "       u'FY 10/11', u'FY 11/12', u'FY 12/13'],\n",
       "      dtype='object')"
      ]
     },
     "execution_count": 8,
     "metadata": {},
     "output_type": "execute_result"
    }
   ],
   "source": [
    "wa.columns"
   ]
  },
  {
   "cell_type": "markdown",
   "metadata": {},
   "source": [
    "#### Pull out a few `Series` object from the `Dataframe` by selecting them"
   ]
  },
  {
   "cell_type": "markdown",
   "metadata": {},
   "source": [
    "**Hint**: it's like indexing a `value` from a dictionary using it's `key`."
   ]
  },
  {
   "cell_type": "code",
   "execution_count": 9,
   "metadata": {
    "collapsed": true
   },
   "outputs": [],
   "source": [
    "FY_05_06_Series = wa['FY 05/06']\n",
    "FY_06_07_Series = wa['FY 06/07']\n",
    "FY_07_08_Series = wa['FY 07/08']\n",
    "FY_08_09_Series = wa['FY 08/09']"
   ]
  },
  {
   "cell_type": "markdown",
   "metadata": {},
   "source": [
    "#### What is the type of `FY_05_06`?"
   ]
  },
  {
   "cell_type": "code",
   "execution_count": 10,
   "metadata": {
    "collapsed": false
   },
   "outputs": [
    {
     "data": {
      "text/plain": [
       "pandas.core.series.Series"
      ]
     },
     "execution_count": 10,
     "metadata": {},
     "output_type": "execute_result"
    }
   ],
   "source": [
    "type(FY_08_09_Series)"
   ]
  },
  {
   "cell_type": "markdown",
   "metadata": {},
   "source": [
    "#### Convert these series to lists and take just the first five values of each"
   ]
  },
  {
   "cell_type": "code",
   "execution_count": 11,
   "metadata": {
    "collapsed": true
   },
   "outputs": [],
   "source": [
    "FY_05_06_list_sample = list(FY_05_06_Series[0:5])\n",
    "FY_06_07_list_sample = list(FY_06_07_Series[0:5])\n",
    "FY_07_08_list_sample = list(FY_07_08_Series[0:5])\n",
    "FY_08_09_list_sample = list(FY_08_09_Series[0:5])"
   ]
  },
  {
   "cell_type": "markdown",
   "metadata": {},
   "source": [
    "#### Create a Dictionary of your sample data using the headers of your columns as keys"
   ]
  },
  {
   "cell_type": "code",
   "execution_count": 12,
   "metadata": {
    "collapsed": false
   },
   "outputs": [
    {
     "data": {
      "text/plain": [
       "[32, 18, 62, 31, 47]"
      ]
     },
     "execution_count": 12,
     "metadata": {},
     "output_type": "execute_result"
    }
   ],
   "source": [
    "FY_05_06_list_sample"
   ]
  },
  {
   "cell_type": "code",
   "execution_count": 13,
   "metadata": {
    "collapsed": false
   },
   "outputs": [],
   "source": [
    "Water_Use_Average_By_Zipcode_dict_sample = {'FY_05_06_list_sample': FY_05_06_Series[:]\n",
    "    \n",
    "}"
   ]
  },
  {
   "cell_type": "code",
   "execution_count": 14,
   "metadata": {
    "collapsed": true
   },
   "outputs": [
    {
     "name": "stdout",
     "output_type": "stream",
     "text": [
      "{'FY_05_06_list_sample': 0       32\n",
      "1       18\n",
      "2       62\n",
      "3       31\n",
      "4       47\n",
      "5       23\n",
      "6       98\n",
      "7       28\n",
      "8      117\n",
      "9       16\n",
      "10      28\n",
      "11      48\n",
      "12      24\n",
      "13      37\n",
      "14      26\n",
      "15      19\n",
      "16      44\n",
      "17      25\n",
      "18      62\n",
      "19      31\n",
      "20      20\n",
      "21      16\n",
      "22      29\n",
      "23      21\n",
      "24      28\n",
      "25      32\n",
      "26      15\n",
      "27      32\n",
      "28      18\n",
      "29      48\n",
      "      ... \n",
      "89      59\n",
      "90      70\n",
      "91      56\n",
      "92      20\n",
      "93      35\n",
      "94      45\n",
      "95      49\n",
      "96      30\n",
      "97      49\n",
      "98      23\n",
      "99      39\n",
      "100     33\n",
      "101     25\n",
      "102     26\n",
      "103     76\n",
      "104     34\n",
      "105     74\n",
      "106     27\n",
      "107     32\n",
      "108     42\n",
      "109     30\n",
      "110     34\n",
      "111     35\n",
      "112     42\n",
      "113     18\n",
      "114     21\n",
      "115     27\n",
      "116     29\n",
      "117     31\n",
      "118     37\n",
      "Name: FY 05/06, dtype: int64}\n"
     ]
    }
   ],
   "source": [
    "print(Water_Use_Average_By_Zipcode_dict_sample)"
   ]
  },
  {
   "cell_type": "markdown",
   "metadata": {},
   "source": [
    "#### Describe the Pandas `Dataframe` type using pure Python data types"
   ]
  },
  {
   "cell_type": "markdown",
   "metadata": {},
   "source": []
  },
  {
   "cell_type": "markdown",
   "metadata": {},
   "source": [
    "#### Use `.describe` to examine the data set"
   ]
  },
  {
   "cell_type": "code",
   "execution_count": 15,
   "metadata": {
    "collapsed": false,
    "scrolled": false
   },
   "outputs": [
    {
     "data": {
      "text/html": [
       "<div>\n",
       "<table border=\"1\" class=\"dataframe\">\n",
       "  <thead>\n",
       "    <tr style=\"text-align: right;\">\n",
       "      <th></th>\n",
       "      <th>FY 05/06</th>\n",
       "      <th>FY 06/07</th>\n",
       "      <th>FY 07/08</th>\n",
       "      <th>FY 08/09</th>\n",
       "      <th>FY 09/10</th>\n",
       "      <th>FY 10/11</th>\n",
       "      <th>FY 11/12</th>\n",
       "      <th>FY 12/13</th>\n",
       "    </tr>\n",
       "  </thead>\n",
       "  <tbody>\n",
       "    <tr>\n",
       "      <th>count</th>\n",
       "      <td>119.000000</td>\n",
       "      <td>119.000000</td>\n",
       "      <td>119.000000</td>\n",
       "      <td>119.000000</td>\n",
       "      <td>119.000000</td>\n",
       "      <td>119.000000</td>\n",
       "      <td>119.000000</td>\n",
       "      <td>119.000000</td>\n",
       "    </tr>\n",
       "    <tr>\n",
       "      <th>mean</th>\n",
       "      <td>36.268908</td>\n",
       "      <td>38.092437</td>\n",
       "      <td>35.949580</td>\n",
       "      <td>34.840336</td>\n",
       "      <td>31.277311</td>\n",
       "      <td>30.747899</td>\n",
       "      <td>31.420168</td>\n",
       "      <td>15.462185</td>\n",
       "    </tr>\n",
       "    <tr>\n",
       "      <th>std</th>\n",
       "      <td>23.059870</td>\n",
       "      <td>23.397447</td>\n",
       "      <td>23.136606</td>\n",
       "      <td>23.393097</td>\n",
       "      <td>21.920088</td>\n",
       "      <td>21.831100</td>\n",
       "      <td>21.319401</td>\n",
       "      <td>8.695206</td>\n",
       "    </tr>\n",
       "    <tr>\n",
       "      <th>min</th>\n",
       "      <td>6.000000</td>\n",
       "      <td>7.000000</td>\n",
       "      <td>7.000000</td>\n",
       "      <td>6.000000</td>\n",
       "      <td>7.000000</td>\n",
       "      <td>6.000000</td>\n",
       "      <td>7.000000</td>\n",
       "      <td>5.000000</td>\n",
       "    </tr>\n",
       "    <tr>\n",
       "      <th>25%</th>\n",
       "      <td>24.000000</td>\n",
       "      <td>24.500000</td>\n",
       "      <td>23.000000</td>\n",
       "      <td>22.000000</td>\n",
       "      <td>19.000000</td>\n",
       "      <td>19.000000</td>\n",
       "      <td>20.000000</td>\n",
       "      <td>10.000000</td>\n",
       "    </tr>\n",
       "    <tr>\n",
       "      <th>50%</th>\n",
       "      <td>31.000000</td>\n",
       "      <td>33.000000</td>\n",
       "      <td>31.000000</td>\n",
       "      <td>29.000000</td>\n",
       "      <td>26.000000</td>\n",
       "      <td>26.000000</td>\n",
       "      <td>26.000000</td>\n",
       "      <td>12.000000</td>\n",
       "    </tr>\n",
       "    <tr>\n",
       "      <th>75%</th>\n",
       "      <td>40.500000</td>\n",
       "      <td>42.000000</td>\n",
       "      <td>40.500000</td>\n",
       "      <td>39.000000</td>\n",
       "      <td>34.500000</td>\n",
       "      <td>33.000000</td>\n",
       "      <td>35.000000</td>\n",
       "      <td>18.000000</td>\n",
       "    </tr>\n",
       "    <tr>\n",
       "      <th>max</th>\n",
       "      <td>160.000000</td>\n",
       "      <td>164.000000</td>\n",
       "      <td>175.000000</td>\n",
       "      <td>176.000000</td>\n",
       "      <td>164.000000</td>\n",
       "      <td>157.000000</td>\n",
       "      <td>154.000000</td>\n",
       "      <td>70.000000</td>\n",
       "    </tr>\n",
       "  </tbody>\n",
       "</table>\n",
       "</div>"
      ],
      "text/plain": [
       "         FY 05/06    FY 06/07    FY 07/08    FY 08/09    FY 09/10    FY 10/11  \\\n",
       "count  119.000000  119.000000  119.000000  119.000000  119.000000  119.000000   \n",
       "mean    36.268908   38.092437   35.949580   34.840336   31.277311   30.747899   \n",
       "std     23.059870   23.397447   23.136606   23.393097   21.920088   21.831100   \n",
       "min      6.000000    7.000000    7.000000    6.000000    7.000000    6.000000   \n",
       "25%     24.000000   24.500000   23.000000   22.000000   19.000000   19.000000   \n",
       "50%     31.000000   33.000000   31.000000   29.000000   26.000000   26.000000   \n",
       "75%     40.500000   42.000000   40.500000   39.000000   34.500000   33.000000   \n",
       "max    160.000000  164.000000  175.000000  176.000000  164.000000  157.000000   \n",
       "\n",
       "         FY 11/12    FY 12/13  \n",
       "count  119.000000  119.000000  \n",
       "mean    31.420168   15.462185  \n",
       "std     21.319401    8.695206  \n",
       "min      7.000000    5.000000  \n",
       "25%     20.000000   10.000000  \n",
       "50%     26.000000   12.000000  \n",
       "75%     35.000000   18.000000  \n",
       "max    154.000000   70.000000  "
      ]
     },
     "execution_count": 15,
     "metadata": {},
     "output_type": "execute_result"
    }
   ],
   "source": [
    "wa.describe()"
   ]
  },
  {
   "cell_type": "markdown",
   "metadata": {},
   "source": [
    "#### Use `.mean()` to look at just the means"
   ]
  },
  {
   "cell_type": "code",
   "execution_count": 16,
   "metadata": {
    "collapsed": false
   },
   "outputs": [
    {
     "data": {
      "text/plain": [
       "FY 05/06    36.268908\n",
       "FY 06/07    38.092437\n",
       "FY 07/08    35.949580\n",
       "FY 08/09    34.840336\n",
       "FY 09/10    31.277311\n",
       "FY 10/11    30.747899\n",
       "FY 11/12    31.420168\n",
       "FY 12/13    15.462185\n",
       "dtype: float64"
      ]
     },
     "execution_count": 16,
     "metadata": {},
     "output_type": "execute_result"
    }
   ],
   "source": [
    "wa.mean()"
   ]
  },
  {
   "cell_type": "markdown",
   "metadata": {},
   "source": [
    "### `sns.stripplot` is used to plot categorical data\n",
    "\n",
    "Use this function to plot the means of each year. \n",
    "\n",
    "**Hint:** Treat the headers of your columns as categorical data. Is there a function you can use to pull a list of these values?\n",
    "\n"
   ]
  },
  {
   "cell_type": "code",
   "execution_count": 17,
   "metadata": {
    "collapsed": false
   },
   "outputs": [
    {
     "data": {
      "image/png": "[encoded data removed]",
      "text/plain": [
       "<matplotlib.figure.Figure at 0x10f5ee8d0>"
      ]
     },
     "metadata": {},
     "output_type": "display_data"
    }
   ],
   "source": [
    "fig = plt.figure(figsize=(10,6))\n",
    "stripplot_1 = sns.stripplot(x=wa.columns, y=wa.mean())"
   ]
  },
  {
   "cell_type": "markdown",
   "metadata": {},
   "source": [
    "### Working with the Transposed Dataframe"
   ]
  },
  {
   "cell_type": "markdown",
   "metadata": {},
   "source": [
    "#### Use `.T` to create the transpose of your dataframe"
   ]
  },
  {
   "cell_type": "code",
   "execution_count": 18,
   "metadata": {
    "collapsed": false
   },
   "outputs": [
    {
     "data": {
      "text/html": [
       "<div>\n",
       "<table border=\"1\" class=\"dataframe\">\n",
       "  <thead>\n",
       "    <tr style=\"text-align: right;\">\n",
       "      <th></th>\n",
       "      <th>0</th>\n",
       "      <th>1</th>\n",
       "      <th>2</th>\n",
       "      <th>3</th>\n",
       "      <th>4</th>\n",
       "      <th>5</th>\n",
       "      <th>6</th>\n",
       "      <th>7</th>\n",
       "      <th>8</th>\n",
       "      <th>9</th>\n",
       "      <th>...</th>\n",
       "      <th>109</th>\n",
       "      <th>110</th>\n",
       "      <th>111</th>\n",
       "      <th>112</th>\n",
       "      <th>113</th>\n",
       "      <th>114</th>\n",
       "      <th>115</th>\n",
       "      <th>116</th>\n",
       "      <th>117</th>\n",
       "      <th>118</th>\n",
       "    </tr>\n",
       "  </thead>\n",
       "  <tbody>\n",
       "    <tr>\n",
       "      <th>FY 05/06</th>\n",
       "      <td>32</td>\n",
       "      <td>18</td>\n",
       "      <td>62</td>\n",
       "      <td>31</td>\n",
       "      <td>47</td>\n",
       "      <td>23</td>\n",
       "      <td>98</td>\n",
       "      <td>28</td>\n",
       "      <td>117</td>\n",
       "      <td>16</td>\n",
       "      <td>...</td>\n",
       "      <td>30</td>\n",
       "      <td>34</td>\n",
       "      <td>35</td>\n",
       "      <td>42</td>\n",
       "      <td>18</td>\n",
       "      <td>21</td>\n",
       "      <td>27</td>\n",
       "      <td>29</td>\n",
       "      <td>31</td>\n",
       "      <td>37</td>\n",
       "    </tr>\n",
       "    <tr>\n",
       "      <th>FY 06/07</th>\n",
       "      <td>36</td>\n",
       "      <td>19</td>\n",
       "      <td>66</td>\n",
       "      <td>35</td>\n",
       "      <td>52</td>\n",
       "      <td>26</td>\n",
       "      <td>99</td>\n",
       "      <td>27</td>\n",
       "      <td>119</td>\n",
       "      <td>17</td>\n",
       "      <td>...</td>\n",
       "      <td>31</td>\n",
       "      <td>36</td>\n",
       "      <td>38</td>\n",
       "      <td>46</td>\n",
       "      <td>19</td>\n",
       "      <td>22</td>\n",
       "      <td>28</td>\n",
       "      <td>31</td>\n",
       "      <td>33</td>\n",
       "      <td>39</td>\n",
       "    </tr>\n",
       "    <tr>\n",
       "      <th>FY 07/08</th>\n",
       "      <td>34</td>\n",
       "      <td>17</td>\n",
       "      <td>58</td>\n",
       "      <td>32</td>\n",
       "      <td>50</td>\n",
       "      <td>24</td>\n",
       "      <td>93</td>\n",
       "      <td>26</td>\n",
       "      <td>107</td>\n",
       "      <td>16</td>\n",
       "      <td>...</td>\n",
       "      <td>29</td>\n",
       "      <td>34</td>\n",
       "      <td>36</td>\n",
       "      <td>43</td>\n",
       "      <td>17</td>\n",
       "      <td>20</td>\n",
       "      <td>26</td>\n",
       "      <td>28</td>\n",
       "      <td>31</td>\n",
       "      <td>36</td>\n",
       "    </tr>\n",
       "    <tr>\n",
       "      <th>FY 08/09</th>\n",
       "      <td>32</td>\n",
       "      <td>14</td>\n",
       "      <td>65</td>\n",
       "      <td>31</td>\n",
       "      <td>49</td>\n",
       "      <td>23</td>\n",
       "      <td>90</td>\n",
       "      <td>25</td>\n",
       "      <td>106</td>\n",
       "      <td>15</td>\n",
       "      <td>...</td>\n",
       "      <td>27</td>\n",
       "      <td>32</td>\n",
       "      <td>34</td>\n",
       "      <td>41</td>\n",
       "      <td>17</td>\n",
       "      <td>19</td>\n",
       "      <td>25</td>\n",
       "      <td>27</td>\n",
       "      <td>29</td>\n",
       "      <td>35</td>\n",
       "    </tr>\n",
       "    <tr>\n",
       "      <th>FY 09/10</th>\n",
       "      <td>27</td>\n",
       "      <td>13</td>\n",
       "      <td>55</td>\n",
       "      <td>26</td>\n",
       "      <td>41</td>\n",
       "      <td>17</td>\n",
       "      <td>84</td>\n",
       "      <td>20</td>\n",
       "      <td>101</td>\n",
       "      <td>15</td>\n",
       "      <td>...</td>\n",
       "      <td>24</td>\n",
       "      <td>29</td>\n",
       "      <td>28</td>\n",
       "      <td>36</td>\n",
       "      <td>15</td>\n",
       "      <td>18</td>\n",
       "      <td>24</td>\n",
       "      <td>23</td>\n",
       "      <td>27</td>\n",
       "      <td>32</td>\n",
       "    </tr>\n",
       "    <tr>\n",
       "      <th>FY 10/11</th>\n",
       "      <td>26</td>\n",
       "      <td>13</td>\n",
       "      <td>52</td>\n",
       "      <td>26</td>\n",
       "      <td>41</td>\n",
       "      <td>16</td>\n",
       "      <td>82</td>\n",
       "      <td>21</td>\n",
       "      <td>102</td>\n",
       "      <td>14</td>\n",
       "      <td>...</td>\n",
       "      <td>23</td>\n",
       "      <td>29</td>\n",
       "      <td>28</td>\n",
       "      <td>35</td>\n",
       "      <td>15</td>\n",
       "      <td>18</td>\n",
       "      <td>23</td>\n",
       "      <td>23</td>\n",
       "      <td>26</td>\n",
       "      <td>33</td>\n",
       "    </tr>\n",
       "    <tr>\n",
       "      <th>FY 11/12</th>\n",
       "      <td>36</td>\n",
       "      <td>13</td>\n",
       "      <td>44</td>\n",
       "      <td>27</td>\n",
       "      <td>44</td>\n",
       "      <td>18</td>\n",
       "      <td>82</td>\n",
       "      <td>23</td>\n",
       "      <td>101</td>\n",
       "      <td>14</td>\n",
       "      <td>...</td>\n",
       "      <td>24</td>\n",
       "      <td>29</td>\n",
       "      <td>29</td>\n",
       "      <td>36</td>\n",
       "      <td>16</td>\n",
       "      <td>18</td>\n",
       "      <td>23</td>\n",
       "      <td>24</td>\n",
       "      <td>28</td>\n",
       "      <td>34</td>\n",
       "    </tr>\n",
       "    <tr>\n",
       "      <th>FY 12/13</th>\n",
       "      <td>16</td>\n",
       "      <td>12</td>\n",
       "      <td>36</td>\n",
       "      <td>24</td>\n",
       "      <td>26</td>\n",
       "      <td>18</td>\n",
       "      <td>37</td>\n",
       "      <td>10</td>\n",
       "      <td>8</td>\n",
       "      <td>10</td>\n",
       "      <td>...</td>\n",
       "      <td>14</td>\n",
       "      <td>21</td>\n",
       "      <td>20</td>\n",
       "      <td>30</td>\n",
       "      <td>9</td>\n",
       "      <td>10</td>\n",
       "      <td>11</td>\n",
       "      <td>14</td>\n",
       "      <td>15</td>\n",
       "      <td>16</td>\n",
       "    </tr>\n",
       "  </tbody>\n",
       "</table>\n",
       "<p>8 rows × 119 columns</p>\n",
       "</div>"
      ],
      "text/plain": [
       "          0    1    2    3    4    5    6    7    8    9   ...   109  110  \\\n",
       "FY 05/06   32   18   62   31   47   23   98   28  117   16 ...    30   34   \n",
       "FY 06/07   36   19   66   35   52   26   99   27  119   17 ...    31   36   \n",
       "FY 07/08   34   17   58   32   50   24   93   26  107   16 ...    29   34   \n",
       "FY 08/09   32   14   65   31   49   23   90   25  106   15 ...    27   32   \n",
       "FY 09/10   27   13   55   26   41   17   84   20  101   15 ...    24   29   \n",
       "FY 10/11   26   13   52   26   41   16   82   21  102   14 ...    23   29   \n",
       "FY 11/12   36   13   44   27   44   18   82   23  101   14 ...    24   29   \n",
       "FY 12/13   16   12   36   24   26   18   37   10    8   10 ...    14   21   \n",
       "\n",
       "          111  112  113  114  115  116  117  118  \n",
       "FY 05/06   35   42   18   21   27   29   31   37  \n",
       "FY 06/07   38   46   19   22   28   31   33   39  \n",
       "FY 07/08   36   43   17   20   26   28   31   36  \n",
       "FY 08/09   34   41   17   19   25   27   29   35  \n",
       "FY 09/10   28   36   15   18   24   23   27   32  \n",
       "FY 10/11   28   35   15   18   23   23   26   33  \n",
       "FY 11/12   29   36   16   18   23   24   28   34  \n",
       "FY 12/13   20   30    9   10   11   14   15   16  \n",
       "\n",
       "[8 rows x 119 columns]"
      ]
     },
     "execution_count": 18,
     "metadata": {},
     "output_type": "execute_result"
    }
   ],
   "source": [
    "wa.T"
   ]
  },
  {
   "cell_type": "markdown",
   "metadata": {},
   "source": [
    "#### Display the dataframe"
   ]
  },
  {
   "cell_type": "code",
   "execution_count": 25,
   "metadata": {
    "collapsed": false
   },
   "outputs": [
    {
     "data": {
      "text/html": [
       "<div>\n",
       "<table border=\"1\" class=\"dataframe\">\n",
       "  <thead>\n",
       "    <tr style=\"text-align: right;\">\n",
       "      <th></th>\n",
       "      <th>FY 05/06</th>\n",
       "      <th>FY 06/07</th>\n",
       "      <th>FY 07/08</th>\n",
       "      <th>FY 08/09</th>\n",
       "      <th>FY 09/10</th>\n",
       "      <th>FY 10/11</th>\n",
       "      <th>FY 11/12</th>\n",
       "      <th>FY 12/13</th>\n",
       "      <th>Years</th>\n",
       "    </tr>\n",
       "  </thead>\n",
       "  <tbody>\n",
       "    <tr>\n",
       "      <th>0</th>\n",
       "      <td>32</td>\n",
       "      <td>36</td>\n",
       "      <td>34</td>\n",
       "      <td>32</td>\n",
       "      <td>27</td>\n",
       "      <td>26</td>\n",
       "      <td>36</td>\n",
       "      <td>16</td>\n",
       "      <td>0</td>\n",
       "    </tr>\n",
       "    <tr>\n",
       "      <th>1</th>\n",
       "      <td>18</td>\n",
       "      <td>19</td>\n",
       "      <td>17</td>\n",
       "      <td>14</td>\n",
       "      <td>13</td>\n",
       "      <td>13</td>\n",
       "      <td>13</td>\n",
       "      <td>12</td>\n",
       "      <td>1</td>\n",
       "    </tr>\n",
       "    <tr>\n",
       "      <th>2</th>\n",
       "      <td>62</td>\n",
       "      <td>66</td>\n",
       "      <td>58</td>\n",
       "      <td>65</td>\n",
       "      <td>55</td>\n",
       "      <td>52</td>\n",
       "      <td>44</td>\n",
       "      <td>36</td>\n",
       "      <td>2</td>\n",
       "    </tr>\n",
       "    <tr>\n",
       "      <th>3</th>\n",
       "      <td>31</td>\n",
       "      <td>35</td>\n",
       "      <td>32</td>\n",
       "      <td>31</td>\n",
       "      <td>26</td>\n",
       "      <td>26</td>\n",
       "      <td>27</td>\n",
       "      <td>24</td>\n",
       "      <td>3</td>\n",
       "    </tr>\n",
       "    <tr>\n",
       "      <th>4</th>\n",
       "      <td>47</td>\n",
       "      <td>52</td>\n",
       "      <td>50</td>\n",
       "      <td>49</td>\n",
       "      <td>41</td>\n",
       "      <td>41</td>\n",
       "      <td>44</td>\n",
       "      <td>26</td>\n",
       "      <td>4</td>\n",
       "    </tr>\n",
       "  </tbody>\n",
       "</table>\n",
       "</div>"
      ],
      "text/plain": [
       "   FY 05/06  FY 06/07  FY 07/08  FY 08/09  FY 09/10  FY 10/11  FY 11/12  \\\n",
       "0        32        36        34        32        27        26        36   \n",
       "1        18        19        17        14        13        13        13   \n",
       "2        62        66        58        65        55        52        44   \n",
       "3        31        35        32        31        26        26        27   \n",
       "4        47        52        50        49        41        41        44   \n",
       "\n",
       "   FY 12/13  Years  \n",
       "0        16      0  \n",
       "1        12      1  \n",
       "2        36      2  \n",
       "3        24      3  \n",
       "4        26      4  "
      ]
     },
     "execution_count": 25,
     "metadata": {},
     "output_type": "execute_result"
    }
   ],
   "source": [
    "wa.head()"
   ]
  },
  {
   "cell_type": "markdown",
   "metadata": {},
   "source": [
    "#### What happened to the years?"
   ]
  },
  {
   "cell_type": "markdown",
   "metadata": {},
   "source": []
  },
  {
   "cell_type": "markdown",
   "metadata": {},
   "source": [
    "#### Create a new column called 'Year' and assign the values of the index to this column"
   ]
  },
  {
   "cell_type": "code",
   "execution_count": 24,
   "metadata": {
    "collapsed": false
   },
   "outputs": [],
   "source": [
    "wa['Years'] = wa.index"
   ]
  },
  {
   "cell_type": "markdown",
   "metadata": {},
   "source": [
    "#### Use `.reset_index` to reset the indices of your list\n",
    "\n",
    "Make sure to start the index at 0 using `level=0`.\n",
    "\n",
    "Make sure to use `inplace=True` to make the change in place.\n",
    "\n",
    "Make sure to use `drop=True` to drop the old index column."
   ]
  },
  {
   "cell_type": "code",
   "execution_count": 26,
   "metadata": {
    "collapsed": false
   },
   "outputs": [
    {
     "data": {
      "text/html": [
       "<div>\n",
       "<table border=\"1\" class=\"dataframe\">\n",
       "  <thead>\n",
       "    <tr style=\"text-align: right;\">\n",
       "      <th></th>\n",
       "      <th>0</th>\n",
       "      <th>1</th>\n",
       "      <th>2</th>\n",
       "      <th>3</th>\n",
       "      <th>4</th>\n",
       "      <th>5</th>\n",
       "      <th>6</th>\n",
       "      <th>7</th>\n",
       "      <th>8</th>\n",
       "      <th>9</th>\n",
       "      <th>...</th>\n",
       "      <th>109</th>\n",
       "      <th>110</th>\n",
       "      <th>111</th>\n",
       "      <th>112</th>\n",
       "      <th>113</th>\n",
       "      <th>114</th>\n",
       "      <th>115</th>\n",
       "      <th>116</th>\n",
       "      <th>117</th>\n",
       "      <th>118</th>\n",
       "    </tr>\n",
       "  </thead>\n",
       "  <tbody>\n",
       "    <tr>\n",
       "      <th>FY 05/06</th>\n",
       "      <td>32</td>\n",
       "      <td>18</td>\n",
       "      <td>62</td>\n",
       "      <td>31</td>\n",
       "      <td>47</td>\n",
       "      <td>23</td>\n",
       "      <td>98</td>\n",
       "      <td>28</td>\n",
       "      <td>117</td>\n",
       "      <td>16</td>\n",
       "      <td>...</td>\n",
       "      <td>30</td>\n",
       "      <td>34</td>\n",
       "      <td>35</td>\n",
       "      <td>42</td>\n",
       "      <td>18</td>\n",
       "      <td>21</td>\n",
       "      <td>27</td>\n",
       "      <td>29</td>\n",
       "      <td>31</td>\n",
       "      <td>37</td>\n",
       "    </tr>\n",
       "    <tr>\n",
       "      <th>FY 06/07</th>\n",
       "      <td>36</td>\n",
       "      <td>19</td>\n",
       "      <td>66</td>\n",
       "      <td>35</td>\n",
       "      <td>52</td>\n",
       "      <td>26</td>\n",
       "      <td>99</td>\n",
       "      <td>27</td>\n",
       "      <td>119</td>\n",
       "      <td>17</td>\n",
       "      <td>...</td>\n",
       "      <td>31</td>\n",
       "      <td>36</td>\n",
       "      <td>38</td>\n",
       "      <td>46</td>\n",
       "      <td>19</td>\n",
       "      <td>22</td>\n",
       "      <td>28</td>\n",
       "      <td>31</td>\n",
       "      <td>33</td>\n",
       "      <td>39</td>\n",
       "    </tr>\n",
       "    <tr>\n",
       "      <th>FY 07/08</th>\n",
       "      <td>34</td>\n",
       "      <td>17</td>\n",
       "      <td>58</td>\n",
       "      <td>32</td>\n",
       "      <td>50</td>\n",
       "      <td>24</td>\n",
       "      <td>93</td>\n",
       "      <td>26</td>\n",
       "      <td>107</td>\n",
       "      <td>16</td>\n",
       "      <td>...</td>\n",
       "      <td>29</td>\n",
       "      <td>34</td>\n",
       "      <td>36</td>\n",
       "      <td>43</td>\n",
       "      <td>17</td>\n",
       "      <td>20</td>\n",
       "      <td>26</td>\n",
       "      <td>28</td>\n",
       "      <td>31</td>\n",
       "      <td>36</td>\n",
       "    </tr>\n",
       "    <tr>\n",
       "      <th>FY 08/09</th>\n",
       "      <td>32</td>\n",
       "      <td>14</td>\n",
       "      <td>65</td>\n",
       "      <td>31</td>\n",
       "      <td>49</td>\n",
       "      <td>23</td>\n",
       "      <td>90</td>\n",
       "      <td>25</td>\n",
       "      <td>106</td>\n",
       "      <td>15</td>\n",
       "      <td>...</td>\n",
       "      <td>27</td>\n",
       "      <td>32</td>\n",
       "      <td>34</td>\n",
       "      <td>41</td>\n",
       "      <td>17</td>\n",
       "      <td>19</td>\n",
       "      <td>25</td>\n",
       "      <td>27</td>\n",
       "      <td>29</td>\n",
       "      <td>35</td>\n",
       "    </tr>\n",
       "    <tr>\n",
       "      <th>FY 09/10</th>\n",
       "      <td>27</td>\n",
       "      <td>13</td>\n",
       "      <td>55</td>\n",
       "      <td>26</td>\n",
       "      <td>41</td>\n",
       "      <td>17</td>\n",
       "      <td>84</td>\n",
       "      <td>20</td>\n",
       "      <td>101</td>\n",
       "      <td>15</td>\n",
       "      <td>...</td>\n",
       "      <td>24</td>\n",
       "      <td>29</td>\n",
       "      <td>28</td>\n",
       "      <td>36</td>\n",
       "      <td>15</td>\n",
       "      <td>18</td>\n",
       "      <td>24</td>\n",
       "      <td>23</td>\n",
       "      <td>27</td>\n",
       "      <td>32</td>\n",
       "    </tr>\n",
       "    <tr>\n",
       "      <th>FY 10/11</th>\n",
       "      <td>26</td>\n",
       "      <td>13</td>\n",
       "      <td>52</td>\n",
       "      <td>26</td>\n",
       "      <td>41</td>\n",
       "      <td>16</td>\n",
       "      <td>82</td>\n",
       "      <td>21</td>\n",
       "      <td>102</td>\n",
       "      <td>14</td>\n",
       "      <td>...</td>\n",
       "      <td>23</td>\n",
       "      <td>29</td>\n",
       "      <td>28</td>\n",
       "      <td>35</td>\n",
       "      <td>15</td>\n",
       "      <td>18</td>\n",
       "      <td>23</td>\n",
       "      <td>23</td>\n",
       "      <td>26</td>\n",
       "      <td>33</td>\n",
       "    </tr>\n",
       "    <tr>\n",
       "      <th>FY 11/12</th>\n",
       "      <td>36</td>\n",
       "      <td>13</td>\n",
       "      <td>44</td>\n",
       "      <td>27</td>\n",
       "      <td>44</td>\n",
       "      <td>18</td>\n",
       "      <td>82</td>\n",
       "      <td>23</td>\n",
       "      <td>101</td>\n",
       "      <td>14</td>\n",
       "      <td>...</td>\n",
       "      <td>24</td>\n",
       "      <td>29</td>\n",
       "      <td>29</td>\n",
       "      <td>36</td>\n",
       "      <td>16</td>\n",
       "      <td>18</td>\n",
       "      <td>23</td>\n",
       "      <td>24</td>\n",
       "      <td>28</td>\n",
       "      <td>34</td>\n",
       "    </tr>\n",
       "    <tr>\n",
       "      <th>FY 12/13</th>\n",
       "      <td>16</td>\n",
       "      <td>12</td>\n",
       "      <td>36</td>\n",
       "      <td>24</td>\n",
       "      <td>26</td>\n",
       "      <td>18</td>\n",
       "      <td>37</td>\n",
       "      <td>10</td>\n",
       "      <td>8</td>\n",
       "      <td>10</td>\n",
       "      <td>...</td>\n",
       "      <td>14</td>\n",
       "      <td>21</td>\n",
       "      <td>20</td>\n",
       "      <td>30</td>\n",
       "      <td>9</td>\n",
       "      <td>10</td>\n",
       "      <td>11</td>\n",
       "      <td>14</td>\n",
       "      <td>15</td>\n",
       "      <td>16</td>\n",
       "    </tr>\n",
       "    <tr>\n",
       "      <th>Years</th>\n",
       "      <td>0</td>\n",
       "      <td>1</td>\n",
       "      <td>2</td>\n",
       "      <td>3</td>\n",
       "      <td>4</td>\n",
       "      <td>5</td>\n",
       "      <td>6</td>\n",
       "      <td>7</td>\n",
       "      <td>8</td>\n",
       "      <td>9</td>\n",
       "      <td>...</td>\n",
       "      <td>109</td>\n",
       "      <td>110</td>\n",
       "      <td>111</td>\n",
       "      <td>112</td>\n",
       "      <td>113</td>\n",
       "      <td>114</td>\n",
       "      <td>115</td>\n",
       "      <td>116</td>\n",
       "      <td>117</td>\n",
       "      <td>118</td>\n",
       "    </tr>\n",
       "  </tbody>\n",
       "</table>\n",
       "<p>9 rows × 119 columns</p>\n",
       "</div>"
      ],
      "text/plain": [
       "          0    1    2    3    4    5    6    7    8    9   ...   109  110  \\\n",
       "FY 05/06   32   18   62   31   47   23   98   28  117   16 ...    30   34   \n",
       "FY 06/07   36   19   66   35   52   26   99   27  119   17 ...    31   36   \n",
       "FY 07/08   34   17   58   32   50   24   93   26  107   16 ...    29   34   \n",
       "FY 08/09   32   14   65   31   49   23   90   25  106   15 ...    27   32   \n",
       "FY 09/10   27   13   55   26   41   17   84   20  101   15 ...    24   29   \n",
       "FY 10/11   26   13   52   26   41   16   82   21  102   14 ...    23   29   \n",
       "FY 11/12   36   13   44   27   44   18   82   23  101   14 ...    24   29   \n",
       "FY 12/13   16   12   36   24   26   18   37   10    8   10 ...    14   21   \n",
       "Years       0    1    2    3    4    5    6    7    8    9 ...   109  110   \n",
       "\n",
       "          111  112  113  114  115  116  117  118  \n",
       "FY 05/06   35   42   18   21   27   29   31   37  \n",
       "FY 06/07   38   46   19   22   28   31   33   39  \n",
       "FY 07/08   36   43   17   20   26   28   31   36  \n",
       "FY 08/09   34   41   17   19   25   27   29   35  \n",
       "FY 09/10   28   36   15   18   24   23   27   32  \n",
       "FY 10/11   28   35   15   18   23   23   26   33  \n",
       "FY 11/12   29   36   16   18   23   24   28   34  \n",
       "FY 12/13   20   30    9   10   11   14   15   16  \n",
       "Years     111  112  113  114  115  116  117  118  \n",
       "\n",
       "[9 rows x 119 columns]"
      ]
     },
     "execution_count": 26,
     "metadata": {},
     "output_type": "execute_result"
    }
   ],
   "source": [
    "wa.T"
   ]
  },
  {
   "cell_type": "markdown",
   "metadata": {},
   "source": [
    "#### Display the new Transposed Dataframe\n",
    "\n",
    "It should look like this:\n",
    "\n",
    "<img src='assets/images/transposed_data.png' width=500px>"
   ]
  },
  {
   "cell_type": "markdown",
   "metadata": {},
   "source": [
    "#### Import `stripplot_by_year` from `lib.helpers`\n",
    "\n",
    "Use this function to create a categorical `stripplot` for each year's data. "
   ]
  },
  {
   "cell_type": "code",
   "execution_count": 32,
   "metadata": {
    "collapsed": true
   },
   "outputs": [],
   "source": [
    "from lib.helpers import stripplot_by_year"
   ]
  },
  {
   "cell_type": "code",
   "execution_count": 35,
   "metadata": {
    "collapsed": false
   },
   "outputs": [
    {
     "ename": "KeyError",
     "evalue": "'Year'",
     "output_type": "error",
     "traceback": [
      "\u001b[0;31m---------------------------------------------------------------------------\u001b[0m",
      "\u001b[0;31mKeyError\u001b[0m                                  Traceback (most recent call last)",
      "\u001b[0;32m<ipython-input-35-6db777049542>\u001b[0m in \u001b[0;36m<module>\u001b[0;34m()\u001b[0m\n\u001b[0;32m----> 1\u001b[0;31m \u001b[0mstripplot_by_year\u001b[0m\u001b[0;34m(\u001b[0m\u001b[0mwa\u001b[0m\u001b[0;34m.\u001b[0m\u001b[0mT\u001b[0m\u001b[0;34m)\u001b[0m\u001b[0;34m\u001b[0m\u001b[0m\n\u001b[0m",
      "\u001b[0;32m/Users/toddmoffett1/DSI/dsi_workspace/curriculum/week-02/lib/helpers.pyc\u001b[0m in \u001b[0;36mstripplot_by_year\u001b[0;34m(dataframe)\u001b[0m\n\u001b[1;32m      8\u001b[0m \u001b[0;34m\u001b[0m\u001b[0m\n\u001b[1;32m      9\u001b[0m     \u001b[0;32mfor\u001b[0m \u001b[0mi\u001b[0m \u001b[0;32min\u001b[0m \u001b[0mrange\u001b[0m\u001b[0;34m(\u001b[0m\u001b[0;36m119\u001b[0m\u001b[0;34m)\u001b[0m\u001b[0;34m:\u001b[0m\u001b[0;34m\u001b[0m\u001b[0m\n\u001b[0;32m---> 10\u001b[0;31m         \u001b[0mplot\u001b[0m \u001b[0;34m=\u001b[0m \u001b[0msns\u001b[0m\u001b[0;34m.\u001b[0m\u001b[0mstripplot\u001b[0m\u001b[0;34m(\u001b[0m\u001b[0my\u001b[0m\u001b[0;34m=\u001b[0m\u001b[0mdataframe\u001b[0m\u001b[0;34m[\u001b[0m\u001b[0mi\u001b[0m\u001b[0;34m]\u001b[0m\u001b[0;34m,\u001b[0m \u001b[0mx\u001b[0m\u001b[0;34m=\u001b[0m\u001b[0mdataframe\u001b[0m\u001b[0;34m[\u001b[0m\u001b[0;34m'Year'\u001b[0m\u001b[0;34m]\u001b[0m\u001b[0;34m)\u001b[0m\u001b[0;34m\u001b[0m\u001b[0m\n\u001b[0m\u001b[1;32m     11\u001b[0m     \u001b[0;32mreturn\u001b[0m \u001b[0mplot\u001b[0m\u001b[0;34m\u001b[0m\u001b[0m\n",
      "\u001b[0;32m/Users/toddmoffett1/anaconda/envs/py27/lib/python2.7/site-packages/pandas/core/frame.pyc\u001b[0m in \u001b[0;36m__getitem__\u001b[0;34m(self, key)\u001b[0m\n\u001b[1;32m   1995\u001b[0m             \u001b[0;32mreturn\u001b[0m \u001b[0mself\u001b[0m\u001b[0;34m.\u001b[0m\u001b[0m_getitem_multilevel\u001b[0m\u001b[0;34m(\u001b[0m\u001b[0mkey\u001b[0m\u001b[0;34m)\u001b[0m\u001b[0;34m\u001b[0m\u001b[0m\n\u001b[1;32m   1996\u001b[0m         \u001b[0;32melse\u001b[0m\u001b[0;34m:\u001b[0m\u001b[0;34m\u001b[0m\u001b[0m\n\u001b[0;32m-> 1997\u001b[0;31m             \u001b[0;32mreturn\u001b[0m \u001b[0mself\u001b[0m\u001b[0;34m.\u001b[0m\u001b[0m_getitem_column\u001b[0m\u001b[0;34m(\u001b[0m\u001b[0mkey\u001b[0m\u001b[0;34m)\u001b[0m\u001b[0;34m\u001b[0m\u001b[0m\n\u001b[0m\u001b[1;32m   1998\u001b[0m \u001b[0;34m\u001b[0m\u001b[0m\n\u001b[1;32m   1999\u001b[0m     \u001b[0;32mdef\u001b[0m \u001b[0m_getitem_column\u001b[0m\u001b[0;34m(\u001b[0m\u001b[0mself\u001b[0m\u001b[0;34m,\u001b[0m \u001b[0mkey\u001b[0m\u001b[0;34m)\u001b[0m\u001b[0;34m:\u001b[0m\u001b[0;34m\u001b[0m\u001b[0m\n",
      "\u001b[0;32m/Users/toddmoffett1/anaconda/envs/py27/lib/python2.7/site-packages/pandas/core/frame.pyc\u001b[0m in \u001b[0;36m_getitem_column\u001b[0;34m(self, key)\u001b[0m\n\u001b[1;32m   2002\u001b[0m         \u001b[0;31m# get column\u001b[0m\u001b[0;34m\u001b[0m\u001b[0;34m\u001b[0m\u001b[0m\n\u001b[1;32m   2003\u001b[0m         \u001b[0;32mif\u001b[0m \u001b[0mself\u001b[0m\u001b[0;34m.\u001b[0m\u001b[0mcolumns\u001b[0m\u001b[0;34m.\u001b[0m\u001b[0mis_unique\u001b[0m\u001b[0;34m:\u001b[0m\u001b[0;34m\u001b[0m\u001b[0m\n\u001b[0;32m-> 2004\u001b[0;31m             \u001b[0;32mreturn\u001b[0m \u001b[0mself\u001b[0m\u001b[0;34m.\u001b[0m\u001b[0m_get_item_cache\u001b[0m\u001b[0;34m(\u001b[0m\u001b[0mkey\u001b[0m\u001b[0;34m)\u001b[0m\u001b[0;34m\u001b[0m\u001b[0m\n\u001b[0m\u001b[1;32m   2005\u001b[0m \u001b[0;34m\u001b[0m\u001b[0m\n\u001b[1;32m   2006\u001b[0m         \u001b[0;31m# duplicate columns & possible reduce dimensionality\u001b[0m\u001b[0;34m\u001b[0m\u001b[0;34m\u001b[0m\u001b[0m\n",
      "\u001b[0;32m/Users/toddmoffett1/anaconda/envs/py27/lib/python2.7/site-packages/pandas/core/generic.pyc\u001b[0m in \u001b[0;36m_get_item_cache\u001b[0;34m(self, item)\u001b[0m\n\u001b[1;32m   1348\u001b[0m         \u001b[0mres\u001b[0m \u001b[0;34m=\u001b[0m \u001b[0mcache\u001b[0m\u001b[0;34m.\u001b[0m\u001b[0mget\u001b[0m\u001b[0;34m(\u001b[0m\u001b[0mitem\u001b[0m\u001b[0;34m)\u001b[0m\u001b[0;34m\u001b[0m\u001b[0m\n\u001b[1;32m   1349\u001b[0m         \u001b[0;32mif\u001b[0m \u001b[0mres\u001b[0m \u001b[0;32mis\u001b[0m \u001b[0mNone\u001b[0m\u001b[0;34m:\u001b[0m\u001b[0;34m\u001b[0m\u001b[0m\n\u001b[0;32m-> 1350\u001b[0;31m             \u001b[0mvalues\u001b[0m \u001b[0;34m=\u001b[0m \u001b[0mself\u001b[0m\u001b[0;34m.\u001b[0m\u001b[0m_data\u001b[0m\u001b[0;34m.\u001b[0m\u001b[0mget\u001b[0m\u001b[0;34m(\u001b[0m\u001b[0mitem\u001b[0m\u001b[0;34m)\u001b[0m\u001b[0;34m\u001b[0m\u001b[0m\n\u001b[0m\u001b[1;32m   1351\u001b[0m             \u001b[0mres\u001b[0m \u001b[0;34m=\u001b[0m \u001b[0mself\u001b[0m\u001b[0;34m.\u001b[0m\u001b[0m_box_item_values\u001b[0m\u001b[0;34m(\u001b[0m\u001b[0mitem\u001b[0m\u001b[0;34m,\u001b[0m \u001b[0mvalues\u001b[0m\u001b[0;34m)\u001b[0m\u001b[0;34m\u001b[0m\u001b[0m\n\u001b[1;32m   1352\u001b[0m             \u001b[0mcache\u001b[0m\u001b[0;34m[\u001b[0m\u001b[0mitem\u001b[0m\u001b[0;34m]\u001b[0m \u001b[0;34m=\u001b[0m \u001b[0mres\u001b[0m\u001b[0;34m\u001b[0m\u001b[0m\n",
      "\u001b[0;32m/Users/toddmoffett1/anaconda/envs/py27/lib/python2.7/site-packages/pandas/core/internals.pyc\u001b[0m in \u001b[0;36mget\u001b[0;34m(self, item, fastpath)\u001b[0m\n\u001b[1;32m   3288\u001b[0m \u001b[0;34m\u001b[0m\u001b[0m\n\u001b[1;32m   3289\u001b[0m             \u001b[0;32mif\u001b[0m \u001b[0;32mnot\u001b[0m \u001b[0misnull\u001b[0m\u001b[0;34m(\u001b[0m\u001b[0mitem\u001b[0m\u001b[0;34m)\u001b[0m\u001b[0;34m:\u001b[0m\u001b[0;34m\u001b[0m\u001b[0m\n\u001b[0;32m-> 3290\u001b[0;31m                 \u001b[0mloc\u001b[0m \u001b[0;34m=\u001b[0m \u001b[0mself\u001b[0m\u001b[0;34m.\u001b[0m\u001b[0mitems\u001b[0m\u001b[0;34m.\u001b[0m\u001b[0mget_loc\u001b[0m\u001b[0;34m(\u001b[0m\u001b[0mitem\u001b[0m\u001b[0;34m)\u001b[0m\u001b[0;34m\u001b[0m\u001b[0m\n\u001b[0m\u001b[1;32m   3291\u001b[0m             \u001b[0;32melse\u001b[0m\u001b[0;34m:\u001b[0m\u001b[0;34m\u001b[0m\u001b[0m\n\u001b[1;32m   3292\u001b[0m                 \u001b[0mindexer\u001b[0m \u001b[0;34m=\u001b[0m \u001b[0mnp\u001b[0m\u001b[0;34m.\u001b[0m\u001b[0marange\u001b[0m\u001b[0;34m(\u001b[0m\u001b[0mlen\u001b[0m\u001b[0;34m(\u001b[0m\u001b[0mself\u001b[0m\u001b[0;34m.\u001b[0m\u001b[0mitems\u001b[0m\u001b[0;34m)\u001b[0m\u001b[0;34m)\u001b[0m\u001b[0;34m[\u001b[0m\u001b[0misnull\u001b[0m\u001b[0;34m(\u001b[0m\u001b[0mself\u001b[0m\u001b[0;34m.\u001b[0m\u001b[0mitems\u001b[0m\u001b[0;34m)\u001b[0m\u001b[0;34m]\u001b[0m\u001b[0;34m\u001b[0m\u001b[0m\n",
      "\u001b[0;32m/Users/toddmoffett1/anaconda/envs/py27/lib/python2.7/site-packages/pandas/indexes/base.pyc\u001b[0m in \u001b[0;36mget_loc\u001b[0;34m(self, key, method, tolerance)\u001b[0m\n\u001b[1;32m   1945\u001b[0m                 \u001b[0;32mreturn\u001b[0m \u001b[0mself\u001b[0m\u001b[0;34m.\u001b[0m\u001b[0m_engine\u001b[0m\u001b[0;34m.\u001b[0m\u001b[0mget_loc\u001b[0m\u001b[0;34m(\u001b[0m\u001b[0mkey\u001b[0m\u001b[0;34m)\u001b[0m\u001b[0;34m\u001b[0m\u001b[0m\n\u001b[1;32m   1946\u001b[0m             \u001b[0;32mexcept\u001b[0m \u001b[0mKeyError\u001b[0m\u001b[0;34m:\u001b[0m\u001b[0;34m\u001b[0m\u001b[0m\n\u001b[0;32m-> 1947\u001b[0;31m                 \u001b[0;32mreturn\u001b[0m \u001b[0mself\u001b[0m\u001b[0;34m.\u001b[0m\u001b[0m_engine\u001b[0m\u001b[0;34m.\u001b[0m\u001b[0mget_loc\u001b[0m\u001b[0;34m(\u001b[0m\u001b[0mself\u001b[0m\u001b[0;34m.\u001b[0m\u001b[0m_maybe_cast_indexer\u001b[0m\u001b[0;34m(\u001b[0m\u001b[0mkey\u001b[0m\u001b[0;34m)\u001b[0m\u001b[0;34m)\u001b[0m\u001b[0;34m\u001b[0m\u001b[0m\n\u001b[0m\u001b[1;32m   1948\u001b[0m \u001b[0;34m\u001b[0m\u001b[0m\n\u001b[1;32m   1949\u001b[0m         \u001b[0mindexer\u001b[0m \u001b[0;34m=\u001b[0m \u001b[0mself\u001b[0m\u001b[0;34m.\u001b[0m\u001b[0mget_indexer\u001b[0m\u001b[0;34m(\u001b[0m\u001b[0;34m[\u001b[0m\u001b[0mkey\u001b[0m\u001b[0;34m]\u001b[0m\u001b[0;34m,\u001b[0m \u001b[0mmethod\u001b[0m\u001b[0;34m=\u001b[0m\u001b[0mmethod\u001b[0m\u001b[0;34m,\u001b[0m \u001b[0mtolerance\u001b[0m\u001b[0;34m=\u001b[0m\u001b[0mtolerance\u001b[0m\u001b[0;34m)\u001b[0m\u001b[0;34m\u001b[0m\u001b[0m\n",
      "\u001b[0;32mpandas/index.pyx\u001b[0m in \u001b[0;36mpandas.index.IndexEngine.get_loc (pandas/index.c:4154)\u001b[0;34m()\u001b[0m\n",
      "\u001b[0;32mpandas/index.pyx\u001b[0m in \u001b[0;36mpandas.index.IndexEngine.get_loc (pandas/index.c:4084)\u001b[0;34m()\u001b[0m\n",
      "\u001b[0;31mKeyError\u001b[0m: 'Year'"
     ]
    }
   ],
   "source": [
    "stripplot_by_year(wa.T)"
   ]
  },
  {
   "cell_type": "code",
   "execution_count": 36,
   "metadata": {
    "collapsed": false
   },
   "outputs": [
    {
     "data": {
      "text/plain": [
       "u'/Users/toddmoffett1/DSI/dsi_workspace/curriculum/week-02'"
      ]
     },
     "execution_count": 36,
     "metadata": {},
     "output_type": "execute_result"
    }
   ],
   "source": [
    "pwd"
   ]
  },
  {
   "cell_type": "markdown",
   "metadata": {},
   "source": [
    "## Analysis\n",
    "\n",
    "Based upon the plots you prepared, make a conjecture about water usage in Los Angeles."
   ]
  },
  {
   "cell_type": "markdown",
   "metadata": {},
   "source": []
  }
 ],
 "metadata": {
  "anaconda-cloud": {},
  "kernelspec": {
   "display_name": "Python [conda env:py27]",
   "language": "python",
   "name": "conda-env-py27-py"
  },
  "language_info": {
   "codemirror_mode": {
    "name": "ipython",
    "version": 2
   },
   "file_extension": ".py",
   "mimetype": "text/x-python",
   "name": "python",
   "nbconvert_exporter": "python",
   "pygments_lexer": "ipython2",
   "version": "2.7.12"
  }
 },
 "nbformat": 4,
 "nbformat_minor": 1
}
