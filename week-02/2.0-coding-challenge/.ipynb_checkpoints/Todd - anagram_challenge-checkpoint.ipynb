{
 "cells": [
  {
   "cell_type": "markdown",
   "metadata": {},
   "source": [
    "#### Write a method that sorts a list of strings such that all anagrams are created without any duplication. <br>"
   ]
  },
  {
   "cell_type": "raw",
   "metadata": {},
   "source": [
    "[ \n",
    "    ['cba', 'bca', 'cab', 'acb', 'bac', 'abc'], \n",
    "    ['tac', 'atc', 'tca', 'cta', 'act', 'cat'], \n",
    "    ['moot', 'moto', 'mtoo', 'omot', 'omto', 'oomt', 'ootm', 'otmo', 'otom', 'tmoo', 'tomo', 'toom'], \n",
    "]"
   ]
  },
  {
   "cell_type": "markdown",
   "metadata": {},
   "source": [
    "#### Input"
   ]
  },
  {
   "cell_type": "code",
   "execution_count": 57,
   "metadata": {
    "collapsed": false
   },
   "outputs": [],
   "source": [
    "from itertools import permutations"
   ]
  },
  {
   "cell_type": "code",
   "execution_count": 19,
   "metadata": {
    "collapsed": true
   },
   "outputs": [],
   "source": [
    "words = [\"abc\", \"cat\", \"moto\"]"
   ]
  },
  {
   "cell_type": "code",
   "execution_count": 21,
   "metadata": {
    "collapsed": false
   },
   "outputs": [
    {
     "data": {
      "text/plain": [
       "['abc', 'cat', 'moto']"
      ]
     },
     "execution_count": 21,
     "metadata": {},
     "output_type": "execute_result"
    }
   ],
   "source": [
    "words"
   ]
  },
  {
   "cell_type": "markdown",
   "metadata": {},
   "source": [
    "#### Output"
   ]
  },
  {
   "cell_type": "code",
   "execution_count": 83,
   "metadata": {
    "collapsed": false
   },
   "outputs": [
    {
     "data": {
      "text/plain": [
       "[('a', 'b', 'c'),\n",
       " ('a', 'c', 'b'),\n",
       " ('b', 'a', 'c'),\n",
       " ('b', 'c', 'a'),\n",
       " ('c', 'a', 'b'),\n",
       " ('c', 'b', 'a')]"
      ]
     },
     "execution_count": 83,
     "metadata": {},
     "output_type": "execute_result"
    }
   ],
   "source": [
    "anagram"
   ]
  },
  {
   "cell_type": "code",
   "execution_count": 99,
   "metadata": {
    "collapsed": false
   },
   "outputs": [
    {
     "name": "stdout",
     "output_type": "stream",
     "text": [
      "['abc', 'acb', 'bac', 'bca', 'cab', 'cba']\n",
      "['cat', 'cta', 'act', 'atc', 'tca', 'tac']\n",
      "['moto', 'moot', 'mtoo', 'mtoo', 'moot', 'moto', 'omto', 'omot', 'otmo', 'otom', 'oomt', 'ootm', 'tmoo', 'tmoo', 'tomo', 'toom', 'tomo', 'toom', 'omot', 'omto', 'oomt', 'ootm', 'otmo', 'otom']\n"
     ]
    }
   ],
   "source": [
    "def anagramed(block):\n",
    "    for r in block:\n",
    "        print[''.join(l) for l in permutations(r, len(r))]\n",
    "            \n",
    "                \n",
    "anagramed(words)    "
   ]
  },
  {
   "cell_type": "code",
   "execution_count": 108,
   "metadata": {
    "collapsed": false
   },
   "outputs": [
    {
     "name": "stdout",
     "output_type": "stream",
     "text": [
      "taco apple\n"
     ]
    }
   ],
   "source": [
    "print ' '.join(['taco' , 'apple'])"
   ]
  },
  {
   "cell_type": "code",
   "execution_count": 131,
   "metadata": {
    "collapsed": false
   },
   "outputs": [],
   "source": [
    "# list comp example for 'anagram' permutation\n",
    "an = [' '.join(i) for i in permutations('dog') ]"
   ]
  },
  {
   "cell_type": "code",
   "execution_count": 132,
   "metadata": {
    "collapsed": false,
    "scrolled": true
   },
   "outputs": [
    {
     "data": {
      "text/plain": [
       "['d o g', 'd g o', 'o d g', 'o g d', 'g d o', 'g o d']"
      ]
     },
     "execution_count": 132,
     "metadata": {},
     "output_type": "execute_result"
    }
   ],
   "source": [
    "an"
   ]
  },
  {
   "cell_type": "code",
   "execution_count": null,
   "metadata": {
    "collapsed": true
   },
   "outputs": [],
   "source": [
    "# jake solution\n",
    "import itertools\n",
    "\n",
    "# return a list of the anagrams that can be made from a string\n",
    "def get_anagrams(str):\n",
    "    perms = [''.join(perm) for perm in itertools.permutations(str)]\n",
    "    return list(set(perms))\n",
    "\n",
    "# returns FIZZ, BUZZ, FIZZBUZZ or the original word per the fizzbuzz problem\n",
    "def fizz_buzz_word(index, word):\n",
    "    return (('FIZZ' if index % 3 == 0 else '') + ('BUZZ' if index % 5 == 0 else '')) or word\n",
    "\n",
    "# returns a list with words replaced as per fizzbuzz problem\n",
    "def fizz_buzz_list(l):\n",
    "    return [ fizz_buzz_word(idx + 1, word) for idx, word in enumerate(l) ]\n",
    "\n",
    "# combines anagram with fizz buzz\n",
    "def anagram_fizz_buzz(word):\n",
    "    return fizz_buzz_list(get_anagrams(word))\n",
    "\n",
    "anagram_fizz_buzz(\"morose\")"
   ]
  },
  {
   "cell_type": "code",
   "execution_count": null,
   "metadata": {
    "collapsed": true
   },
   "outputs": [],
   "source": [
    "# david solution\n",
    "import itertools\n",
    "words = [\"abc\", \"cat\", \"moto\"]\n",
    "\n",
    "def gen_anagrams(word_list, fizzbuzz = False):\n",
    "    anagram_list = []\n",
    "    for i, word in enumerate(word_list):\n",
    "        anagram_list.append([])\n",
    "        for j, perm in enumerate(itertools.permutations(range(len(word)))):\n",
    "            anagram_list[i].append(\"\")\n",
    "            for k in perm:\n",
    "                anagram_list[i][j] += word[k]\n",
    "\n",
    "\n",
    "        anagram_list[i] = list(set(anagram_list[i]))\n",
    "        anagram_list[i].sort()\n",
    "        if fizzbuzz:\n",
    "            for j, word in enumerate(anagram_list[i]):\n",
    "                if (j + 1) % 15 == 0:\n",
    "                    anagram_list[i][j] = \"fizzbuzz\"\n",
    "                elif (j + 1) % 3 == 0:\n",
    "                    anagram_list[i][j] = \"fizz\"\n",
    "                elif (j + 1) % 5 == 0:\n",
    "                    anagram_list[i][j] = \"buzz\"\n",
    "        \n",
    "    return(anagram_list)\n",
    "\n",
    "gen_anagrams(words, 1)"
   ]
  },
  {
   "cell_type": "code",
   "execution_count": null,
   "metadata": {
    "collapsed": true
   },
   "outputs": [],
   "source": [
    "# john solution\n",
    "import itertools\n",
    "words = [\"abc\", \"cat\", \"moto\"]\n",
    "# global words\n",
    "def wordz():\n",
    "    global words\n",
    "    for w in words:\n",
    "        print [\"\".join(x) for x in itertools.permutations(w, len(w)-1)]"
   ]
  }
 ],
 "metadata": {
  "anaconda-cloud": {},
  "kernelspec": {
   "display_name": "Python [conda env:py27]",
   "language": "python",
   "name": "conda-env-py27-py"
  },
  "language_info": {
   "codemirror_mode": {
    "name": "ipython",
    "version": 2
   },
   "file_extension": ".py",
   "mimetype": "text/x-python",
   "name": "python",
   "nbconvert_exporter": "python",
   "pygments_lexer": "ipython2",
   "version": "2.7.12"
  }
 },
 "nbformat": 4,
 "nbformat_minor": 0
}
