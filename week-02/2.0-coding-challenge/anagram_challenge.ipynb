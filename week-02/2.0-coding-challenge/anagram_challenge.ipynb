{
 "cells": [
  {
   "cell_type": "markdown",
   "metadata": {},
   "source": [
    "#### Write a method that sorts a list of strings such that all anagrams are created without any duplication. <br>"
   ]
  },
  {
   "cell_type": "markdown",
   "metadata": {},
   "source": [
    "#### Input"
   ]
  },
  {
   "cell_type": "raw",
   "metadata": {},
   "source": [
    "words = [\"abc\", \"cat\", \"moto\"]"
   ]
  },
  {
   "cell_type": "markdown",
   "metadata": {},
   "source": [
    "#### Output"
   ]
  },
  {
   "cell_type": "raw",
   "metadata": {},
   "source": [
    "[ \n",
    "    ['cba', 'bca', 'cab', 'acb', 'bac', 'abc'], \n",
    "    ['tac', 'atc', 'tca', 'cta', 'act', 'cat'], \n",
    "    ['moot', 'moto', 'mtoo', 'omot', 'omto', 'oomt', 'ootm', 'otmo', 'otom', 'tmoo', 'tomo', 'toom'], \n",
    "]"
   ]
  },
  {
   "cell_type": "code",
   "execution_count": null,
   "metadata": {
    "collapsed": true
   },
   "outputs": [],
   "source": []
  }
 ],
 "metadata": {
  "kernelspec": {
   "display_name": "Python 2",
   "language": "python",
   "name": "python2"
  },
  "language_info": {
   "codemirror_mode": {
    "name": "ipython",
    "version": 2
   },
   "file_extension": ".py",
   "mimetype": "text/x-python",
   "name": "python",
   "nbconvert_exporter": "python",
   "pygments_lexer": "ipython2",
   "version": "2.7.11"
  },
  "widgets": {
   "state": {},
   "version": "1.1.2"
  }
 },
 "nbformat": 4,
 "nbformat_minor": 0
}
