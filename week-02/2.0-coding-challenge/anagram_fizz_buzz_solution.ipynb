{
 "cells": [
  {
   "cell_type": "markdown",
   "metadata": {},
   "source": [
    "<b> Write a method that sorts a list of strings such that all anagrams are created without any duplication. </b>\n",
    "\n",
    "- Input\n",
    "words = [\"abc\", \"cat\", \"moto\"] <br><br>\n",
    "- Output\n",
    "[ ['cba', 'bca', 'cab', 'acb', 'bac', 'abc'], ['tac', 'atc', 'tca', 'cta', 'act', 'cat'], ['moot', 'moto', 'mtoo', 'omot', 'omto', 'oomt', 'ootm', 'otmo', 'otom', 'tmoo', 'tomo', 'toom'], ] <br>"
   ]
  },
  {
   "cell_type": "code",
   "execution_count": 138,
   "metadata": {
    "collapsed": false
   },
   "outputs": [
    {
     "data": {
      "text/plain": [
       "[['abc', 'acb', 'bac', 'bca', 'cab', 'cba'],\n",
       " ['cat', 'cta', 'act', 'atc', 'tca', 'tac'],\n",
       " ['moto',\n",
       "  'moot',\n",
       "  'mtoo',\n",
       "  'mtoo',\n",
       "  'moot',\n",
       "  'moto',\n",
       "  'omto',\n",
       "  'omot',\n",
       "  'otmo',\n",
       "  'otom',\n",
       "  'oomt',\n",
       "  'ootm',\n",
       "  'tmoo',\n",
       "  'tmoo',\n",
       "  'tomo',\n",
       "  'toom',\n",
       "  'tomo',\n",
       "  'toom',\n",
       "  'omot',\n",
       "  'omto',\n",
       "  'oomt',\n",
       "  'ootm',\n",
       "  'otmo',\n",
       "  'otom']]"
      ]
     },
     "execution_count": 138,
     "metadata": {},
     "output_type": "execute_result"
    }
   ],
   "source": [
    "import itertools\n",
    "words = [\"abc\", \"cat\", \"moto\"]\n",
    "\n",
    "def wordz():\n",
    "    global words\n",
    "    for w in words:\n",
    "        yield [\"\".join(x) for x in itertools.permutations(w , len(w))]\n",
    "        \n",
    "[i for i in wordz()]"
   ]
  },
  {
   "cell_type": "markdown",
   "metadata": {
    "collapsed": true
   },
   "source": [
    "<b> BONUS:  Write the same method above, but this time substitute the third element of any returned list with `fizz`, the fifth with `buzz` and any number that is divisible by both three and five with `fizzbuzz`. </b>"
   ]
  },
  {
   "cell_type": "code",
   "execution_count": 139,
   "metadata": {
    "collapsed": false
   },
   "outputs": [
    {
     "name": "stdout",
     "output_type": "stream",
     "text": [
      "['abc', 'acb', 'fizz', 'bca', 'buzz', 'fizz']\n",
      "['cat', 'cta', 'fizz', 'atc', 'buzz', 'fizz']\n",
      "['moto', 'moot', 'fizz', 'mtoo', 'buzz', 'fizz', 'omto', 'omot', 'fizz', 'buzz', 'oomt', 'fizz', 'tmoo', 'tmoo', 'fizzbuzz', 'toom', 'tomo', 'fizz', 'omot', 'buzz', 'fizz', 'ootm', 'otmo', 'fizz']\n"
     ]
    }
   ],
   "source": [
    "mainlist = [i for i in wordz()] \n",
    "# we need this transformation due to the yield generator fxn above\n",
    "\n",
    "for combolist in mainlist:\n",
    "    for listindex, combo in enumerate(combolist):\n",
    "        if (listindex + 1) % 15 == 0:\n",
    "            combolist[listindex] = \"fizzbuzz\"\n",
    "        elif (listindex + 1) % 5 == 0:\n",
    "            combolist[listindex] = \"buzz\"\n",
    "        elif (listindex + 1) % 3 == 0:\n",
    "            combolist[listindex] = \"fizz\"\n",
    "        else:\n",
    "            combolist[listindex]\n",
    "    print combolist"
   ]
  },
  {
   "cell_type": "code",
   "execution_count": 140,
   "metadata": {
    "collapsed": false
   },
   "outputs": [
    {
     "name": "stdout",
     "output_type": "stream",
     "text": [
      "1\n",
      "2\n",
      "Fizz\n",
      "4\n",
      "Buzz\n",
      "Fizz\n",
      "7\n",
      "8\n",
      "Fizz\n",
      "Buzz\n",
      "11\n",
      "Fizz\n",
      "13\n",
      "14\n",
      "FizzBuzz\n",
      "16\n",
      "17\n",
      "Fizz\n",
      "19\n"
     ]
    }
   ],
   "source": [
    "# below the general fizzbuzz solution as described on various stackoverflow threads...\n",
    "\n",
    "for count in range(1,20):\n",
    "    if (count % 5) == 0 and (count % 3) == 0:\n",
    "        print \"FizzBuzz\"\n",
    "    elif (count % 3) == 0:\n",
    "        print \"Fizz\"\n",
    "    elif (count % 5) == 0:\n",
    "        print \"Buzz\"\n",
    "    else:\n",
    "        print count\n",
    "        \n",
    "# Understand why this code below yields the incorrect result:\n",
    "\n",
    "# for i in range(1,20):\n",
    "#     if i % 3 == 0:\n",
    "#         output = 'fizz'\n",
    "#     elif i % 5 == 0:\n",
    "#         output = 'buzz'\n",
    "#     elif i % 3 == 0 and i % 5 == 0:\n",
    "#         output = 'fizzbuzz'\n",
    "#     else:\n",
    "#         output = i\n",
    "#     print output"
   ]
  },
  {
   "cell_type": "code",
   "execution_count": null,
   "metadata": {
    "collapsed": true
   },
   "outputs": [],
   "source": []
  }
 ],
 "metadata": {
  "kernelspec": {
   "display_name": "Python 2",
   "language": "python",
   "name": "python2"
  },
  "language_info": {
   "codemirror_mode": {
    "name": "ipython",
    "version": 2
   },
   "file_extension": ".py",
   "mimetype": "text/x-python",
   "name": "python",
   "nbconvert_exporter": "python",
   "pygments_lexer": "ipython2",
   "version": "2.7.11"
  },
  "widgets": {
   "state": {},
   "version": "1.1.2"
  }
 },
 "nbformat": 4,
 "nbformat_minor": 0
}
