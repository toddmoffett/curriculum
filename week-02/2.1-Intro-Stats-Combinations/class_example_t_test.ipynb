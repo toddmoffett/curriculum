{
 "cells": [
  {
   "cell_type": "markdown",
   "metadata": {},
   "source": [
    "### Question:  Are the measured lead levels significantly above the safe level of 0.05? <br>"
   ]
  },
  {
   "cell_type": "markdown",
   "metadata": {},
   "source": [
    "<b> Refer to the equations on the hypothesis testing cheatsheet </b>"
   ]
  },
  {
   "cell_type": "code",
   "execution_count": 2,
   "metadata": {
    "collapsed": false
   },
   "outputs": [
    {
     "data": {
      "text/plain": [
       "0.05078571428571429"
      ]
     },
     "execution_count": 2,
     "metadata": {},
     "output_type": "execute_result"
    }
   ],
   "source": [
    "# Enumerate Null Hypothesis and Alternative Hypothesis\n",
    "# Then calculate the variance of the sample\n",
    "# Start with x_bar \n",
    "\n",
    "m = [0.051, 0.0505, 0.049, 0.0516, 0.052, 0.0508, 0.0506]\n",
    "\n",
    "x_bar = sum(m)* 1.0 / len(m)\n",
    "x_bar"
   ]
  },
  {
   "cell_type": "code",
   "execution_count": 3,
   "metadata": {
    "collapsed": false
   },
   "outputs": [
    {
     "data": {
      "text/plain": [
       "0.00095643186101358117"
      ]
     },
     "execution_count": 3,
     "metadata": {},
     "output_type": "execute_result"
    }
   ],
   "source": [
    "sample = m\n",
    "sample_mean = x_bar\n",
    "# s calculated here below\n",
    "# (sum([ (val - sample_mean)**2 for val in sample ])/(len(sample)-1))**.5\n",
    "np.sqrt((sum([ (val - sample_mean)**2 for val in sample ])/(len(sample)-1)))\n"
   ]
  },
  {
   "cell_type": "code",
   "execution_count": 8,
   "metadata": {
    "collapsed": false
   },
   "outputs": [],
   "source": [
    "# we can replicate the above in numpy remembering to set the degrees of freedom to 1 since it's a sample\n",
    "# import numpy as np\n",
    "# s = np.std(m, ddof=1)\n",
    "# s"
   ]
  },
  {
   "cell_type": "code",
   "execution_count": 5,
   "metadata": {
    "collapsed": false
   },
   "outputs": [
    {
     "data": {
      "text/plain": [
       "2.173499949434694"
      ]
     },
     "execution_count": 5,
     "metadata": {},
     "output_type": "execute_result"
    }
   ],
   "source": [
    "n = 7 # number of observations\n",
    "df = n -1 # degrees of freedom for the t-test\n",
    "t = (x_bar - 0.05) / (s/n**.5)\n",
    "t"
   ]
  },
  {
   "cell_type": "markdown",
   "metadata": {
    "collapsed": true
   },
   "source": [
    "#### Conclusion: The t-value is larger than 1.96 and thus the lead values appear to be statistically significantly larger than our null hypothesis--which we reject--in favor of the alternative hypothesis."
   ]
  },
  {
   "cell_type": "code",
   "execution_count": null,
   "metadata": {
    "collapsed": true
   },
   "outputs": [],
   "source": []
  }
 ],
 "metadata": {
  "kernelspec": {
   "display_name": "Python 2",
   "language": "python",
   "name": "python2"
  },
  "language_info": {
   "codemirror_mode": {
    "name": "ipython",
    "version": 2
   },
   "file_extension": ".py",
   "mimetype": "text/x-python",
   "name": "python",
   "nbconvert_exporter": "python",
   "pygments_lexer": "ipython2",
   "version": "2.7.11"
  },
  "widgets": {
   "state": {},
   "version": "1.1.2"
  }
 },
 "nbformat": 4,
 "nbformat_minor": 0
}
