{
 "cells": [
  {
   "cell_type": "markdown",
   "metadata": {},
   "source": [
    "## Imperative v Functional Programming"
   ]
  },
  {
   "cell_type": "markdown",
   "metadata": {},
   "source": [
    "**Imperative**, the state of the computation is reflected by the values of the variables in the various namespaces.\n"
   ]
  },
  {
   "cell_type": "code",
   "execution_count": 1,
   "metadata": {
    "collapsed": true
   },
   "outputs": [],
   "source": [
    "spam = 1\n",
    "eggs = 2"
   ]
  },
  {
   "cell_type": "code",
   "execution_count": 2,
   "metadata": {
    "collapsed": false
   },
   "outputs": [
    {
     "data": {
      "text/plain": [
       "{'In': ['', u'spam = 1\\neggs = 2', u'vars()'],\n",
       " 'Out': {},\n",
       " '_': '',\n",
       " '__': '',\n",
       " '___': '',\n",
       " '__builtin__': <module '__builtin__' (built-in)>,\n",
       " '__builtins__': <module '__builtin__' (built-in)>,\n",
       " '__doc__': 'Automatically created module for IPython interactive environment',\n",
       " '__name__': '__main__',\n",
       " '_dh': [u'/Users/toddmoffett1/DSI/dsi_workspace/curriculum/week-02/2.4-Lesson-Advanced-Lambda-Functions'],\n",
       " '_i': u'spam = 1\\neggs = 2',\n",
       " '_i1': u'spam = 1\\neggs = 2',\n",
       " '_i2': u'vars()',\n",
       " '_ih': ['', u'spam = 1\\neggs = 2', u'vars()'],\n",
       " '_ii': u'',\n",
       " '_iii': u'',\n",
       " '_oh': {},\n",
       " '_sh': <module 'IPython.core.shadowns' from '/Users/toddmoffett1/anaconda/envs/py27/lib/python2.7/site-packages/IPython/core/shadowns.pyc'>,\n",
       " 'eggs': 2,\n",
       " 'exit': <IPython.core.autocall.ZMQExitAutocall at 0x1066d0c50>,\n",
       " 'get_ipython': <bound method ZMQInteractiveShell.get_ipython of <ipykernel.zmqshell.ZMQInteractiveShell object at 0x106692510>>,\n",
       " 'quit': <IPython.core.autocall.ZMQExitAutocall at 0x1066d0c50>,\n",
       " 'spam': 1}"
      ]
     },
     "execution_count": 2,
     "metadata": {},
     "output_type": "execute_result"
    }
   ],
   "source": [
    "vars()"
   ]
  },
  {
   "cell_type": "markdown",
   "metadata": {},
   "source": [
    "Each new statement changes the state by adding, changing, or removing a variable."
   ]
  },
  {
   "cell_type": "markdown",
   "metadata": {},
   "source": [
    "With **functional** programming, instead of manipulating a state, we are evaluating functions."
   ]
  },
  {
   "cell_type": "markdown",
   "metadata": {},
   "source": [
    "Each function evaluation creates a new object or objects from existing objects. "
   ]
  },
  {
   "cell_type": "markdown",
   "metadata": {},
   "source": [
    "To dig into these concepts, let us begin thinking about functions as their own type."
   ]
  },
  {
   "cell_type": "code",
   "execution_count": 3,
   "metadata": {
    "collapsed": false
   },
   "outputs": [
    {
     "data": {
      "text/plain": [
       "builtin_function_or_method"
      ]
     },
     "execution_count": 3,
     "metadata": {},
     "output_type": "execute_result"
    }
   ],
   "source": [
    "type(len)"
   ]
  },
  {
   "cell_type": "code",
   "execution_count": 4,
   "metadata": {
    "collapsed": true
   },
   "outputs": [],
   "source": [
    "def say_hi(name):\n",
    "    print \"Hi, \" + name + '!'"
   ]
  },
  {
   "cell_type": "code",
   "execution_count": 5,
   "metadata": {
    "collapsed": false
   },
   "outputs": [
    {
     "data": {
      "text/plain": [
       "function"
      ]
     },
     "execution_count": 5,
     "metadata": {},
     "output_type": "execute_result"
    }
   ],
   "source": [
    "type(say_hi)"
   ]
  },
  {
   "cell_type": "code",
   "execution_count": 6,
   "metadata": {
    "collapsed": true
   },
   "outputs": [],
   "source": [
    "def execute_me(function):    \n",
    "    function('Kermit')"
   ]
  },
  {
   "cell_type": "code",
   "execution_count": 7,
   "metadata": {
    "collapsed": false
   },
   "outputs": [
    {
     "name": "stdout",
     "output_type": "stream",
     "text": [
      "Hi, Kermit!\n"
     ]
    }
   ],
   "source": [
    "execute_me(say_hi)"
   ]
  },
  {
   "cell_type": "markdown",
   "metadata": {},
   "source": [
    "### Lambda functions gave us Anonymous Functions\n",
    "\n",
    "We can use these anonymous functions as we are passing our functions about."
   ]
  },
  {
   "cell_type": "code",
   "execution_count": null,
   "metadata": {
    "collapsed": true
   },
   "outputs": [],
   "source": [
    "def make_incrementor (n): \n",
    "    return lambda x: x + n"
   ]
  },
  {
   "cell_type": "code",
   "execution_count": null,
   "metadata": {
    "collapsed": true
   },
   "outputs": [],
   "source": [
    "incr_2 = make_incrementor(2)"
   ]
  },
  {
   "cell_type": "code",
   "execution_count": null,
   "metadata": {
    "collapsed": false
   },
   "outputs": [],
   "source": [
    "type(incr_2)"
   ]
  },
  {
   "cell_type": "code",
   "execution_count": null,
   "metadata": {
    "collapsed": false
   },
   "outputs": [],
   "source": [
    "print(incr_2(10))\n",
    "print(incr_2(14))"
   ]
  },
  {
   "cell_type": "code",
   "execution_count": null,
   "metadata": {
    "collapsed": false
   },
   "outputs": [],
   "source": [
    "incr_12 = make_incrementor(12)\n",
    "print(incr_12(10))\n",
    "print(incr_12(14))"
   ]
  },
  {
   "cell_type": "markdown",
   "metadata": {},
   "source": [
    "### Let's create a truly anonymous function"
   ]
  },
  {
   "cell_type": "code",
   "execution_count": null,
   "metadata": {
    "collapsed": false
   },
   "outputs": [],
   "source": [
    "print(make_incrementor(22)(33))"
   ]
  },
  {
   "cell_type": "markdown",
   "metadata": {},
   "source": [
    "## First Steps in Functional Programming"
   ]
  },
  {
   "cell_type": "code",
   "execution_count": null,
   "metadata": {
    "collapsed": false
   },
   "outputs": [],
   "source": [
    "type(filter), type(map), type(reduce)"
   ]
  },
  {
   "cell_type": "code",
   "execution_count": null,
   "metadata": {
    "collapsed": true
   },
   "outputs": [],
   "source": [
    "this_list = [2, 18, 9, 22, 17, 24, 8, 12, 27]"
   ]
  },
  {
   "cell_type": "markdown",
   "metadata": {},
   "source": [
    "### `filter`"
   ]
  },
  {
   "cell_type": "code",
   "execution_count": null,
   "metadata": {
    "collapsed": false
   },
   "outputs": [],
   "source": [
    "print(filter(lambda x: x % 3 == 0, this_list))"
   ]
  },
  {
   "cell_type": "markdown",
   "metadata": {},
   "source": [
    "`filter()` calls our lambda function for each element of the list, and returns a new list that contains only those elements for which the function returned `True`. \n",
    "\n",
    "In this case, we get a list of all elements that are multiples of 3. \n",
    "\n",
    "The expression `x % 3 == 0` computes the remainder of `x` divided by `3` and compares the result with `0` (which is true if `x` is evenly divisible by `3`)."
   ]
  },
  {
   "cell_type": "markdown",
   "metadata": {},
   "source": [
    "### `map`"
   ]
  },
  {
   "cell_type": "code",
   "execution_count": null,
   "metadata": {
    "collapsed": false
   },
   "outputs": [],
   "source": [
    "print(map(lambda x: x * 2 + 10, this_list))"
   ]
  },
  {
   "cell_type": "markdown",
   "metadata": {},
   "source": [
    "`map()` is used to convert our list. \n",
    "\n",
    "The given function is called for every element in the original list, and a new list is created which contains the return values from our lambda function. \n",
    "\n",
    "In this case, it computes `2 * x + 10` for every element."
   ]
  },
  {
   "cell_type": "markdown",
   "metadata": {},
   "source": [
    "### `reduce`\n",
    "\n",
    "`reduce()` is somewhat special. \n",
    "\n",
    "The \"worker function\" for this one must accept two arguments (we've called them x and y here), not just one.\n",
    "\n",
    "The function is called with the first two elements from the list, then with the result of that call and the third element, and so on, until all of the list elements have been handled. \n",
    "\n",
    "This means that our function is called n-1 times if the list contains n elements. The return value of the last call is the result of the reduce() construct."
   ]
  },
  {
   "cell_type": "code",
   "execution_count": null,
   "metadata": {
    "collapsed": false
   },
   "outputs": [],
   "source": [
    "print(reduce(lambda x,y: x+y, this_list))"
   ]
  },
  {
   "cell_type": "markdown",
   "metadata": {},
   "source": [
    "\n",
    "\n",
    "![](assets/images/reduce.gif)"
   ]
  },
  {
   "cell_type": "markdown",
   "metadata": {},
   "source": [
    "### Lengths of Words"
   ]
  },
  {
   "cell_type": "code",
   "execution_count": null,
   "metadata": {
    "collapsed": false
   },
   "outputs": [],
   "source": [
    "sentence = 'It is raining cats and dogs'\n",
    "words = sentence.split()\n",
    "print(words)"
   ]
  },
  {
   "cell_type": "code",
   "execution_count": null,
   "metadata": {
    "collapsed": false
   },
   "outputs": [],
   "source": [
    "lengths = map(lambda word: len(word), words)\n",
    "print(lengths)"
   ]
  },
  {
   "cell_type": "markdown",
   "metadata": {},
   "source": [
    "### Compute Primes with a Filter"
   ]
  },
  {
   "cell_type": "code",
   "execution_count": null,
   "metadata": {
    "collapsed": false
   },
   "outputs": [],
   "source": [
    "nums = range(2, 50)\n",
    "for i in range(2, 8): \n",
    "    nums = filter(lambda x: x == i or x % i, nums)\n",
    "    print(nums)"
   ]
  },
  {
   "cell_type": "code",
   "execution_count": null,
   "metadata": {
    "collapsed": false
   },
   "outputs": [],
   "source": [
    "4 % 2 == False, 5 % 2 == True"
   ]
  },
  {
   "cell_type": "code",
   "execution_count": null,
   "metadata": {
    "collapsed": false
   },
   "outputs": [],
   "source": [
    "this_list = ['ghost','nippy','woozy','comparison','correct','leather','valuable',\n",
    "             'spooky','cute','cowardly','effect','tricky','march','fence','fail',\n",
    "             'short','paste','selection','thunder','absorbed','use','encouraging',\n",
    "             'horn','drab','parched']\n",
    "this_list"
   ]
  },
  {
   "cell_type": "code",
   "execution_count": null,
   "metadata": {
    "collapsed": false
   },
   "outputs": [],
   "source": [
    "this_list.sort(key=lambda word: len(word))\n",
    "this_list"
   ]
  },
  {
   "cell_type": "code",
   "execution_count": null,
   "metadata": {
    "collapsed": false
   },
   "outputs": [],
   "source": [
    "this_list.sort(key=lambda word: word[-1])\n",
    "this_list"
   ]
  },
  {
   "cell_type": "code",
   "execution_count": null,
   "metadata": {
    "collapsed": false
   },
   "outputs": [],
   "source": [
    "import numpy as np\n",
    "this_list.sort(key=lambda word: np.mean([ord(letter) for letter in word]))\n",
    "this_list"
   ]
  },
  {
   "cell_type": "markdown",
   "metadata": {},
   "source": [
    "## The Inner Product or Dot Product"
   ]
  },
  {
   "cell_type": "markdown",
   "metadata": {},
   "source": [
    "$$\\mathbf v \\cdot \\mathbf w = v_1w_1 + v_2w_2 +\\dots + v_nw_n = \\sum_{i=1}^n v_iw_i$$"
   ]
  },
  {
   "cell_type": "markdown",
   "metadata": {},
   "source": [
    "For example, consider $\\mathbf v = \\left(\\begin{matrix}1\\\\2\\\\3\\end{matrix}\\right)$ and $\\mathbf w = \\left(\\begin{matrix}1\\\\-1\\\\1\\end{matrix}\\right)$.\n",
    "\n",
    "\n",
    "Then $\\mathbf v \\cdot \\mathbf w$ is\n",
    "$$(1,2,3,4,5)\\cdot(1,-1,1,-1,1)=1\\cdot1+2\\cdot-1+3\\cdot1+4\\cdot-1+5\\cdot1=3$$"
   ]
  },
  {
   "cell_type": "markdown",
   "metadata": {},
   "source": [
    "Let's use `zip`, `map`, and `reduce` to calculate a dot product."
   ]
  },
  {
   "cell_type": "markdown",
   "metadata": {},
   "source": [
    "$$\\mathbf v \\cdot \\mathbf w  = \\sum_{i=1}^n v_iw_i$$\n",
    "\n",
    "1. make a list of $v_iw_i$\n",
    "2. sum this list"
   ]
  },
  {
   "cell_type": "code",
   "execution_count": null,
   "metadata": {
    "collapsed": true
   },
   "outputs": [],
   "source": [
    "v = (1,2,3,4,5)\n",
    "w = (1,-1,1,-1,1)"
   ]
  },
  {
   "cell_type": "code",
   "execution_count": null,
   "metadata": {
    "collapsed": true
   },
   "outputs": [],
   "source": [
    "def dot_product_via_for_loop(vector_1, vector_2):\n",
    "    \n",
    "    v_iw_i = list()    \n",
    "    for v1_i, v_2_i in zip(vector_1, vector_2):\n",
    "        v_iw_i.append(v1_i*v_2_i)\n",
    "        \n",
    "    dot_product = 0\n",
    "    \n",
    "    for i in v_iw_i:\n",
    "        dot_product += i\n",
    "    return dot_product"
   ]
  },
  {
   "cell_type": "code",
   "execution_count": null,
   "metadata": {
    "collapsed": false
   },
   "outputs": [],
   "source": [
    "dot_product_via_for_loop(v, w)"
   ]
  },
  {
   "cell_type": "code",
   "execution_count": null,
   "metadata": {
    "collapsed": false
   },
   "outputs": [],
   "source": [
    "def dot_product_via_map_reduce(vector_1, vector_2):\n",
    "    \n",
    "    v_iw_i = map(lambda i: i[0]*i[1], zip(vector_1, vector_2))\n",
    "    dot_product = reduce(lambda x, y: x+y, v_iw_i)\n",
    "    \n",
    "    return dot_product"
   ]
  },
  {
   "cell_type": "code",
   "execution_count": null,
   "metadata": {
    "collapsed": false
   },
   "outputs": [],
   "source": [
    "dot_product_via_map_reduce(v, w)"
   ]
  },
  {
   "cell_type": "code",
   "execution_count": null,
   "metadata": {
    "collapsed": false
   },
   "outputs": [],
   "source": [
    "dot_product = lambda vector_1, vector_2 : sum([v_i*w_i for v_i, w_i in zip(vector_1, vector_2)])"
   ]
  },
  {
   "cell_type": "code",
   "execution_count": null,
   "metadata": {
    "collapsed": false
   },
   "outputs": [],
   "source": [
    "dot_product(v,w)"
   ]
  },
  {
   "cell_type": "code",
   "execution_count": null,
   "metadata": {
    "collapsed": true
   },
   "outputs": [],
   "source": [
    "def dot_product_readable(vector_1, vector_2):\n",
    "    return sum([v_i*w_i for v_i, w_i in zip(vector_1, vector_2)])"
   ]
  },
  {
   "cell_type": "code",
   "execution_count": null,
   "metadata": {
    "collapsed": false
   },
   "outputs": [],
   "source": [
    "np.dot(v, w)"
   ]
  },
  {
   "cell_type": "markdown",
   "metadata": {},
   "source": [
    "## Implement a Dot Product that will work for any two vectors of the same size"
   ]
  },
  {
   "cell_type": "markdown",
   "metadata": {},
   "source": [
    "#### Bonus: Add Error Handling if a dot product is attempted on vectors of different sizes"
   ]
  },
  {
   "cell_type": "code",
   "execution_count": null,
   "metadata": {
    "collapsed": true
   },
   "outputs": [],
   "source": []
  },
  {
   "cell_type": "markdown",
   "metadata": {},
   "source": [
    "## Sort Vectors Based On Their Length"
   ]
  },
  {
   "cell_type": "markdown",
   "metadata": {},
   "source": [
    "The length of the vector, $\\mathbf v$ is defined as\n",
    "\n",
    "$$||\\mathbf v||= \\sqrt{\\mathbf v \\cdot \\mathbf v}$$"
   ]
  },
  {
   "cell_type": "markdown",
   "metadata": {},
   "source": [
    "You have seen this before:\n",
    "\n",
    "![](https://upload.wikimedia.org/wikipedia/commons/thumb/d/d2/Pythagorean.svg/260px-Pythagorean.svg.png)"
   ]
  },
  {
   "cell_type": "markdown",
   "metadata": {},
   "source": [
    "$$\\left|\\left|(a,b)\\right|\\right| = c$$"
   ]
  },
  {
   "cell_type": "code",
   "execution_count": null,
   "metadata": {
    "collapsed": true
   },
   "outputs": [],
   "source": [
    "vectors_in_R_3 = [\n",
    "    (1,-2,1),\n",
    "    (2,3,1),\n",
    "    (-3,1,-2),\n",
    "    (2,2,2),\n",
    "    (-2,4,0),\n",
    "    (-2,1,5)\n",
    "]"
   ]
  },
  {
   "cell_type": "code",
   "execution_count": null,
   "metadata": {
    "collapsed": false
   },
   "outputs": [],
   "source": [
    "vector_length = lambda x: np.sqrt(dot_product(x, x))\n",
    "vectors_in_R_3.sort(key=vector_length)\n",
    "print(map(vector_length, vectors_in_R_3))\n",
    "vectors_in_R_3"
   ]
  },
  {
   "cell_type": "code",
   "execution_count": null,
   "metadata": {
    "collapsed": true
   },
   "outputs": [],
   "source": [
    "vectors_in_R_2 = [\n",
    "    (1,1),\n",
    "    (2,1),\n",
    "    (-3,-2),\n",
    "    (2,2),\n",
    "    (-2,0),\n",
    "    (-2,5)\n",
    "]"
   ]
  },
  {
   "cell_type": "markdown",
   "metadata": {},
   "source": [
    "### Unit Vectors\n",
    "\n",
    "A unit vector is a vector of length 1. We write a unit vector with a hat \n",
    "\n",
    "$$\\mathbf {\\hat v} = \\frac{\\mathbf v}{||\\mathbf v||}$$"
   ]
  },
  {
   "cell_type": "code",
   "execution_count": null,
   "metadata": {
    "collapsed": true
   },
   "outputs": [],
   "source": [
    "unit_vector = lambda v: v/vector_length(v)"
   ]
  },
  {
   "cell_type": "code",
   "execution_count": null,
   "metadata": {
    "collapsed": false
   },
   "outputs": [],
   "source": [
    "unit_vector(vectors_in_R_2[0])"
   ]
  },
  {
   "cell_type": "code",
   "execution_count": null,
   "metadata": {
    "collapsed": false
   },
   "outputs": [],
   "source": [
    "map(lambda v: unit_vector(v), vectors_in_R_2)"
   ]
  },
  {
   "cell_type": "markdown",
   "metadata": {},
   "source": [
    "## The Cosine Formula\n"
   ]
  },
  {
   "cell_type": "markdown",
   "metadata": {},
   "source": [
    "The cosine of the angle between two vectors is given by the following function:\n",
    "\n",
    "$$\\cos \\theta = \\mathbf{\\hat v}\\cdot\\mathbf{\\hat w} = \\frac{\\mathbf v}{||\\mathbf v||}\\cdot\\frac{\\mathbf w}{||\\mathbf w||}$$"
   ]
  },
  {
   "cell_type": "markdown",
   "metadata": {},
   "source": [
    "### Write a lambda function implementing the cosine function"
   ]
  },
  {
   "cell_type": "code",
   "execution_count": null,
   "metadata": {
    "collapsed": true
   },
   "outputs": [],
   "source": []
  }
 ],
 "metadata": {
  "anaconda-cloud": {},
  "kernelspec": {
   "display_name": "Python [conda env:py27]",
   "language": "python",
   "name": "conda-env-py27-py"
  },
  "language_info": {
   "codemirror_mode": {
    "name": "ipython",
    "version": 2
   },
   "file_extension": ".py",
   "mimetype": "text/x-python",
   "name": "python",
   "nbconvert_exporter": "python",
   "pygments_lexer": "ipython2",
   "version": "2.7.12"
  }
 },
 "nbformat": 4,
 "nbformat_minor": 1
}
