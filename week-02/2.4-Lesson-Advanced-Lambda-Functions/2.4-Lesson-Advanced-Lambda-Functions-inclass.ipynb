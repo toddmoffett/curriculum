{
 "cells": [
  {
   "cell_type": "markdown",
   "metadata": {},
   "source": [
    "## Imperative v Functional Programming"
   ]
  },
  {
   "cell_type": "markdown",
   "metadata": {},
   "source": [
    "**Imperative**, the state of the computation is reflected by the values of the variables in the various namespaces.\n"
   ]
  },
  {
   "cell_type": "code",
   "execution_count": 2,
   "metadata": {
    "collapsed": true
   },
   "outputs": [],
   "source": [
    "spam = 1\n",
    "eggs = 2"
   ]
  },
  {
   "cell_type": "code",
   "execution_count": 3,
   "metadata": {
    "collapsed": true
   },
   "outputs": [
    {
     "data": {
      "text/plain": [
       "{'In': ['', u'vars()', u'spam = 1\\neggs = 2', u'vars()'],\n",
       " 'MatplotlibFinder': __main__.MatplotlibFinder,\n",
       " 'Out': {1: {...}},\n",
       " '_': {...},\n",
       " '_1': {...},\n",
       " '__': '',\n",
       " '___': '',\n",
       " '__builtin__': <module '__builtin__' (built-in)>,\n",
       " '__builtins__': <module '__builtin__' (built-in)>,\n",
       " '__doc__': 'Startup script for IPython kernel.\\n\\nInstalls an import hook to configure the matplotlib backend on the fly.\\n\\nOriginally from @minrk at \\nhttps://github.com/minrk/profile_default/blob/master/startup/mplimporthook.py\\nRepurposed for docker-stacks to address repeat bugs like\\nhttps://github.com/jupyter/docker-stacks/issues/235.\\n',\n",
       " '__name__': '__main__',\n",
       " '__package__': None,\n",
       " '_dh': [u'/home/jovyan/work/curriculum/week-02/2.4-Lesson-Advanced-Lambda-Functions'],\n",
       " '_i': u'spam = 1\\neggs = 2',\n",
       " '_i1': u'vars()',\n",
       " '_i2': u'spam = 1\\neggs = 2',\n",
       " '_i3': u'vars()',\n",
       " '_ih': ['', u'vars()', u'spam = 1\\neggs = 2', u'vars()'],\n",
       " '_ii': u'vars()',\n",
       " '_iii': u'',\n",
       " '_oh': {1: {...}},\n",
       " '_sh': <module 'IPython.core.shadowns' from '/opt/conda/envs/python2/lib/python2.7/site-packages/IPython/core/shadowns.pyc'>,\n",
       " 'eggs': 2,\n",
       " 'exit': <IPython.core.autocall.ZMQExitAutocall at 0x7f49a783a050>,\n",
       " 'get_ipython': <function IPython.core.getipython.get_ipython>,\n",
       " 'quit': <IPython.core.autocall.ZMQExitAutocall at 0x7f49a783a050>,\n",
       " 'spam': 1,\n",
       " 'sys': <module 'sys' (built-in)>}"
      ]
     },
     "execution_count": 3,
     "metadata": {},
     "output_type": "execute_result"
    }
   ],
   "source": [
    "vars()"
   ]
  },
  {
   "cell_type": "markdown",
   "metadata": {},
   "source": [
    "Each new statement changes the state by adding, changing, or removing a variable."
   ]
  },
  {
   "cell_type": "markdown",
   "metadata": {},
   "source": [
    "With **functional** programming, instead of manipulating a state, we are evaluating functions."
   ]
  },
  {
   "cell_type": "markdown",
   "metadata": {},
   "source": [
    "Each function evaluation creates a new object or objects from existing objects. "
   ]
  },
  {
   "cell_type": "markdown",
   "metadata": {},
   "source": [
    "To dig into these concepts, let us begin thinking about functions as their own type."
   ]
  },
  {
   "cell_type": "code",
   "execution_count": 4,
   "metadata": {
    "collapsed": false
   },
   "outputs": [
    {
     "data": {
      "text/plain": [
       "builtin_function_or_method"
      ]
     },
     "execution_count": 4,
     "metadata": {},
     "output_type": "execute_result"
    }
   ],
   "source": [
    "type(len)"
   ]
  },
  {
   "cell_type": "code",
   "execution_count": 5,
   "metadata": {
    "collapsed": true
   },
   "outputs": [],
   "source": [
    "def say_hi(name):\n",
    "    print \"Hi, \" + name + '!'"
   ]
  },
  {
   "cell_type": "code",
   "execution_count": 6,
   "metadata": {
    "collapsed": false
   },
   "outputs": [
    {
     "data": {
      "text/plain": [
       "function"
      ]
     },
     "execution_count": 6,
     "metadata": {},
     "output_type": "execute_result"
    }
   ],
   "source": [
    "type(say_hi)"
   ]
  },
  {
   "cell_type": "code",
   "execution_count": 7,
   "metadata": {
    "collapsed": true
   },
   "outputs": [],
   "source": [
    "def execute_me(function):    \n",
    "    function('Kermit')"
   ]
  },
  {
   "cell_type": "code",
   "execution_count": 18,
   "metadata": {
    "collapsed": false
   },
   "outputs": [
    {
     "name": "stdout",
     "output_type": "stream",
     "text": [
      "Hi, Joshua!\n"
     ]
    }
   ],
   "source": [
    "say_hi('Joshua')"
   ]
  },
  {
   "cell_type": "code",
   "execution_count": 20,
   "metadata": {
    "collapsed": false
   },
   "outputs": [
    {
     "name": "stdout",
     "output_type": "stream",
     "text": [
      "None\n"
     ]
    }
   ],
   "source": [
    "print(execute_me(len))"
   ]
  },
  {
   "cell_type": "code",
   "execution_count": 8,
   "metadata": {
    "collapsed": false
   },
   "outputs": [
    {
     "name": "stdout",
     "output_type": "stream",
     "text": [
      "Hi, Kermit!\n"
     ]
    }
   ],
   "source": [
    "execute_me(say_hi)"
   ]
  },
  {
   "cell_type": "markdown",
   "metadata": {},
   "source": [
    "### Lambda functions gave us Anonymous Functions\n",
    "\n",
    "We can use these anonymous functions as we are passing our functions about."
   ]
  },
  {
   "cell_type": "code",
   "execution_count": 10,
   "metadata": {
    "collapsed": true
   },
   "outputs": [],
   "source": [
    "incr_2 = make_incrementor(2)"
   ]
  },
  {
   "cell_type": "code",
   "execution_count": 11,
   "metadata": {
    "collapsed": false
   },
   "outputs": [
    {
     "data": {
      "text/plain": [
       "function"
      ]
     },
     "execution_count": 11,
     "metadata": {},
     "output_type": "execute_result"
    }
   ],
   "source": [
    "type(incr_2)"
   ]
  },
  {
   "cell_type": "code",
   "execution_count": 12,
   "metadata": {
    "collapsed": true
   },
   "outputs": [
    {
     "name": "stdout",
     "output_type": "stream",
     "text": [
      "12\n",
      "16\n"
     ]
    }
   ],
   "source": [
    "print(incr_2(10))\n",
    "print(incr_2(14))"
   ]
  },
  {
   "cell_type": "code",
   "execution_count": 13,
   "metadata": {
    "collapsed": true
   },
   "outputs": [
    {
     "name": "stdout",
     "output_type": "stream",
     "text": [
      "22\n",
      "26\n"
     ]
    }
   ],
   "source": [
    "incr_12 = make_incrementor(12)\n",
    "print(incr_12(10))\n",
    "print(incr_12(14))"
   ]
  },
  {
   "cell_type": "code",
   "execution_count": 9,
   "metadata": {
    "collapsed": true
   },
   "outputs": [],
   "source": [
    "def make_incrementor(n): \n",
    "    return lambda x: x + n"
   ]
  },
  {
   "cell_type": "code",
   "execution_count": 15,
   "metadata": {
    "collapsed": true
   },
   "outputs": [],
   "source": [
    "def make_exponentiator(n):\n",
    "    return lambda x: x**n"
   ]
  },
  {
   "cell_type": "code",
   "execution_count": 16,
   "metadata": {
    "collapsed": false
   },
   "outputs": [
    {
     "data": {
      "text/plain": [
       "81"
      ]
     },
     "execution_count": 16,
     "metadata": {},
     "output_type": "execute_result"
    }
   ],
   "source": [
    "pow_2 = make_exponentiator(2)\n",
    "pow_2(9)"
   ]
  },
  {
   "cell_type": "code",
   "execution_count": 24,
   "metadata": {
    "collapsed": true
   },
   "outputs": [],
   "source": [
    "def pow_3(x):\n",
    "    return x**3"
   ]
  },
  {
   "cell_type": "code",
   "execution_count": 27,
   "metadata": {
    "collapsed": false
   },
   "outputs": [
    {
     "data": {
      "text/plain": [
       "False"
      ]
     },
     "execution_count": 27,
     "metadata": {},
     "output_type": "execute_result"
    }
   ],
   "source": [
    "make_exponentiator(3)(2) == pow_3(2)"
   ]
  },
  {
   "cell_type": "markdown",
   "metadata": {},
   "source": [
    "### Let's create a truly anonymous function"
   ]
  },
  {
   "cell_type": "code",
   "execution_count": 14,
   "metadata": {
    "collapsed": false
   },
   "outputs": [
    {
     "name": "stdout",
     "output_type": "stream",
     "text": [
      "55\n"
     ]
    }
   ],
   "source": [
    "print(make_incrementor(22)(33))"
   ]
  },
  {
   "cell_type": "markdown",
   "metadata": {},
   "source": [
    "## First Steps in Functional Programming"
   ]
  },
  {
   "cell_type": "code",
   "execution_count": 28,
   "metadata": {
    "collapsed": false
   },
   "outputs": [
    {
     "data": {
      "text/plain": [
       "(builtin_function_or_method,\n",
       " builtin_function_or_method,\n",
       " builtin_function_or_method)"
      ]
     },
     "execution_count": 28,
     "metadata": {},
     "output_type": "execute_result"
    }
   ],
   "source": [
    "type(filter), type(map), type(reduce)"
   ]
  },
  {
   "cell_type": "markdown",
   "metadata": {},
   "source": [
    "### `filter`"
   ]
  },
  {
   "cell_type": "code",
   "execution_count": 31,
   "metadata": {
    "collapsed": false
   },
   "outputs": [
    {
     "data": {
      "text/plain": [
       "False"
      ]
     },
     "execution_count": 31,
     "metadata": {},
     "output_type": "execute_result"
    }
   ],
   "source": [
    "def mult_of_3(x):\n",
    "    return x % 3 == 0\n",
    "\n",
    "mult_of_3(5)"
   ]
  },
  {
   "cell_type": "code",
   "execution_count": 32,
   "metadata": {
    "collapsed": false
   },
   "outputs": [
    {
     "name": "stdout",
     "output_type": "stream",
     "text": [
      "[18, 9, 24, 12, 27]\n"
     ]
    }
   ],
   "source": [
    "print(filter(lambda x: x % 3 == 0, this_list))"
   ]
  },
  {
   "cell_type": "markdown",
   "metadata": {},
   "source": [
    "`filter()` calls our lambda function for each element of the list, and returns a new list that contains only those elements for which the function returned `True`. \n",
    "\n",
    "In this case, we get a list of all elements that are multiples of 3. \n",
    "\n",
    "The expression `x % 3 == 0` computes the remainder of `x` divided by `3` and compares the result with `0` (which is true if `x` is evenly divisible by `3`)."
   ]
  },
  {
   "cell_type": "markdown",
   "metadata": {},
   "source": [
    "### `map`"
   ]
  },
  {
   "cell_type": "code",
   "execution_count": 33,
   "metadata": {
    "collapsed": false
   },
   "outputs": [
    {
     "name": "stdout",
     "output_type": "stream",
     "text": [
      "[14, 46, 28, 54, 44, 58, 26, 34, 64]\n"
     ]
    }
   ],
   "source": [
    "print(map(lambda x: x * 2 + 10, this_list))"
   ]
  },
  {
   "cell_type": "markdown",
   "metadata": {},
   "source": [
    "`map()` is used to convert our list. \n",
    "\n",
    "The given function is called for every element in the original list, and a new list is created which contains the return values from our lambda function. \n",
    "\n",
    "In this case, it computes `2 * x + 10` for every element."
   ]
  },
  {
   "cell_type": "markdown",
   "metadata": {},
   "source": [
    "### `reduce`\n",
    "\n",
    "`reduce()` is somewhat special. \n",
    "\n",
    "The \"worker function\" for this one must accept two arguments (we've called them x and y here), not just one.\n",
    "\n",
    "The function is called with the first two elements from the list, then with the result of that call and the third element, and so on, until all of the list elements have been handled. \n",
    "\n",
    "This means that our function is called n-1 times if the list contains n elements. The return value of the last call is the result of the reduce() construct."
   ]
  },
  {
   "cell_type": "code",
   "execution_count": 29,
   "metadata": {
    "collapsed": true
   },
   "outputs": [],
   "source": [
    "this_list = [2, 18, 9, 22, 17, 24, 8, 12, 27]"
   ]
  },
  {
   "cell_type": "code",
   "execution_count": 35,
   "metadata": {
    "collapsed": false
   },
   "outputs": [
    {
     "data": {
      "text/plain": [
       "139"
      ]
     },
     "execution_count": 35,
     "metadata": {},
     "output_type": "execute_result"
    }
   ],
   "source": [
    "sum(this_list)"
   ]
  },
  {
   "cell_type": "code",
   "execution_count": 34,
   "metadata": {
    "collapsed": false
   },
   "outputs": [
    {
     "name": "stdout",
     "output_type": "stream",
     "text": [
      "139\n"
     ]
    }
   ],
   "source": [
    "print(reduce(lambda x,y: x+y, this_list))"
   ]
  },
  {
   "cell_type": "markdown",
   "metadata": {},
   "source": [
    "\n",
    "\n",
    "![](assets/images/reduce.gif)"
   ]
  },
  {
   "cell_type": "markdown",
   "metadata": {},
   "source": [
    "### Lengths of Words"
   ]
  },
  {
   "cell_type": "code",
   "execution_count": 36,
   "metadata": {
    "collapsed": false
   },
   "outputs": [
    {
     "name": "stdout",
     "output_type": "stream",
     "text": [
      "['It', 'is', 'raining', 'cats', 'and', 'dogs']\n"
     ]
    }
   ],
   "source": [
    "sentence = 'It is raining cats and dogs'\n",
    "words = sentence.split()\n",
    "print(words)"
   ]
  },
  {
   "cell_type": "code",
   "execution_count": 37,
   "metadata": {
    "collapsed": false
   },
   "outputs": [
    {
     "name": "stdout",
     "output_type": "stream",
     "text": [
      "[2, 2, 7, 4, 3, 4]\n"
     ]
    }
   ],
   "source": [
    "lengths = map(lambda word: len(word), words)\n",
    "print(lengths)"
   ]
  },
  {
   "cell_type": "markdown",
   "metadata": {},
   "source": [
    "### Compute Primes with a Filter"
   ]
  },
  {
   "cell_type": "code",
   "execution_count": 38,
   "metadata": {
    "collapsed": false
   },
   "outputs": [
    {
     "name": "stdout",
     "output_type": "stream",
     "text": [
      "[2, 3, 5, 7, 9, 11, 13, 15, 17, 19, 21, 23, 25, 27, 29, 31, 33, 35, 37, 39, 41, 43, 45, 47, 49]\n",
      "[2, 3, 5, 7, 11, 13, 17, 19, 23, 25, 29, 31, 35, 37, 41, 43, 47, 49]\n",
      "[2, 3, 5, 7, 11, 13, 17, 19, 23, 25, 29, 31, 35, 37, 41, 43, 47, 49]\n",
      "[2, 3, 5, 7, 11, 13, 17, 19, 23, 29, 31, 37, 41, 43, 47, 49]\n",
      "[2, 3, 5, 7, 11, 13, 17, 19, 23, 29, 31, 37, 41, 43, 47, 49]\n",
      "[2, 3, 5, 7, 11, 13, 17, 19, 23, 29, 31, 37, 41, 43, 47]\n"
     ]
    }
   ],
   "source": [
    "nums = range(2, 50)\n",
    "for i in range(2, 8): \n",
    "    nums = filter(lambda x: x == i or x % i, nums)\n",
    "    print(nums)"
   ]
  },
  {
   "cell_type": "code",
   "execution_count": 39,
   "metadata": {
    "collapsed": false
   },
   "outputs": [
    {
     "data": {
      "text/plain": [
       "(True, True)"
      ]
     },
     "execution_count": 39,
     "metadata": {},
     "output_type": "execute_result"
    }
   ],
   "source": [
    "4 % 2 == False, 5 % 2 == True"
   ]
  },
  {
   "cell_type": "code",
   "execution_count": 40,
   "metadata": {
    "collapsed": false
   },
   "outputs": [
    {
     "data": {
      "text/plain": [
       "['ghost',\n",
       " 'nippy',\n",
       " 'woozy',\n",
       " 'comparison',\n",
       " 'correct',\n",
       " 'leather',\n",
       " 'valuable',\n",
       " 'spooky',\n",
       " 'cute',\n",
       " 'cowardly',\n",
       " 'effect',\n",
       " 'tricky',\n",
       " 'march',\n",
       " 'fence',\n",
       " 'fail',\n",
       " 'short',\n",
       " 'paste',\n",
       " 'selection',\n",
       " 'thunder',\n",
       " 'absorbed',\n",
       " 'use',\n",
       " 'encouraging',\n",
       " 'horn',\n",
       " 'drab',\n",
       " 'parched']"
      ]
     },
     "execution_count": 40,
     "metadata": {},
     "output_type": "execute_result"
    }
   ],
   "source": [
    "this_list = ['ghost','nippy','woozy','comparison','correct','leather','valuable',\n",
    "             'spooky','cute','cowardly','effect','tricky','march','fence','fail',\n",
    "             'short','paste','selection','thunder','absorbed','use','encouraging',\n",
    "             'horn','drab','parched']\n",
    "this_list"
   ]
  },
  {
   "cell_type": "code",
   "execution_count": 41,
   "metadata": {
    "collapsed": false
   },
   "outputs": [
    {
     "data": {
      "text/plain": [
       "['use',\n",
       " 'cute',\n",
       " 'fail',\n",
       " 'horn',\n",
       " 'drab',\n",
       " 'ghost',\n",
       " 'nippy',\n",
       " 'woozy',\n",
       " 'march',\n",
       " 'fence',\n",
       " 'short',\n",
       " 'paste',\n",
       " 'spooky',\n",
       " 'effect',\n",
       " 'tricky',\n",
       " 'correct',\n",
       " 'leather',\n",
       " 'thunder',\n",
       " 'parched',\n",
       " 'valuable',\n",
       " 'cowardly',\n",
       " 'absorbed',\n",
       " 'selection',\n",
       " 'comparison',\n",
       " 'encouraging']"
      ]
     },
     "execution_count": 41,
     "metadata": {},
     "output_type": "execute_result"
    }
   ],
   "source": [
    "this_list.sort(key=lambda word: len(word))\n",
    "this_list"
   ]
  },
  {
   "cell_type": "code",
   "execution_count": 42,
   "metadata": {
    "collapsed": false
   },
   "outputs": [
    {
     "data": {
      "text/plain": [
       "['drab',\n",
       " 'parched',\n",
       " 'absorbed',\n",
       " 'use',\n",
       " 'cute',\n",
       " 'fence',\n",
       " 'paste',\n",
       " 'valuable',\n",
       " 'encouraging',\n",
       " 'march',\n",
       " 'fail',\n",
       " 'horn',\n",
       " 'selection',\n",
       " 'comparison',\n",
       " 'leather',\n",
       " 'thunder',\n",
       " 'ghost',\n",
       " 'short',\n",
       " 'effect',\n",
       " 'correct',\n",
       " 'nippy',\n",
       " 'woozy',\n",
       " 'spooky',\n",
       " 'tricky',\n",
       " 'cowardly']"
      ]
     },
     "execution_count": 42,
     "metadata": {},
     "output_type": "execute_result"
    }
   ],
   "source": [
    "this_list.sort(key=lambda word: word[-1])\n",
    "this_list"
   ]
  },
  {
   "cell_type": "code",
   "execution_count": 44,
   "metadata": {
    "collapsed": false
   },
   "outputs": [
    {
     "data": {
      "text/plain": [
       "['drab',\n",
       " 'fence',\n",
       " 'fail',\n",
       " 'effect',\n",
       " 'parched',\n",
       " 'absorbed',\n",
       " 'march',\n",
       " 'valuable',\n",
       " 'leather',\n",
       " 'encouraging',\n",
       " 'selection',\n",
       " 'correct',\n",
       " 'paste',\n",
       " 'cute',\n",
       " 'comparison',\n",
       " 'cowardly',\n",
       " 'thunder',\n",
       " 'horn',\n",
       " 'ghost',\n",
       " 'tricky',\n",
       " 'use',\n",
       " 'short',\n",
       " 'nippy',\n",
       " 'spooky',\n",
       " 'woozy']"
      ]
     },
     "execution_count": 44,
     "metadata": {},
     "output_type": "execute_result"
    }
   ],
   "source": [
    "import numpy as np\n",
    "this_list.sort(key=lambda word: np.mean([ord(letter) for letter in word]))\n",
    "this_list"
   ]
  },
  {
   "cell_type": "markdown",
   "metadata": {},
   "source": [
    "## The Inner Product or Dot Product"
   ]
  },
  {
   "cell_type": "markdown",
   "metadata": {},
   "source": [
    "$$\\mathbf v \\cdot \\mathbf w = v_1w_1 + v_2w_2 +\\dots + v_nw_n = \\sum_{i=1}^n v_iw_i$$"
   ]
  },
  {
   "cell_type": "markdown",
   "metadata": {},
   "source": [
    "For example, consider $\\mathbf v = \\left(\\begin{matrix}1\\\\2\\\\3\\\\4\\\\5\\end{matrix}\\right)$ and $\\mathbf w = \\left(\\begin{matrix}1\\\\-1\\\\1\\\\-1\\\\1\\end{matrix}\\right)$.\n",
    "\n",
    "\n",
    "Then $\\mathbf v \\cdot \\mathbf w$ is\n",
    "$$(1,2,3,4,5)\\cdot(1,-1,1,-1,1)=1\\cdot1+2\\cdot-1+3\\cdot1+4\\cdot-1+5\\cdot1=3$$"
   ]
  },
  {
   "cell_type": "markdown",
   "metadata": {},
   "source": [
    "Let's use `zip`, `map`, and `reduce` to calculate a dot product."
   ]
  },
  {
   "cell_type": "markdown",
   "metadata": {},
   "source": [
    "$$\\mathbf v \\cdot \\mathbf w  = \\sum_{i=1}^n v_iw_i$$\n",
    "\n",
    "1. make a list of $v_iw_i$\n",
    "2. sum this list"
   ]
  },
  {
   "cell_type": "code",
   "execution_count": 45,
   "metadata": {
    "collapsed": true
   },
   "outputs": [],
   "source": [
    "v = (1,2,3,4,5)\n",
    "w = (1,-1,1,-1,1)"
   ]
  },
  {
   "cell_type": "code",
   "execution_count": 46,
   "metadata": {
    "collapsed": true
   },
   "outputs": [],
   "source": [
    "VERBOSE = True\n",
    "\n",
    "def dot_product_via_for_loop(vector_1, vector_2):\n",
    "    \n",
    "    v_iw_i = list()    \n",
    "    for v1_i, v_2_i in zip(vector_1, vector_2):\n",
    "        v_iw_i.append(v1_i*v_2_i)\n",
    "        \n",
    "    if VERBOSE: print(v_iw_i)\n",
    "        \n",
    "    dot_product = 0\n",
    "    \n",
    "    for i in v_iw_i:\n",
    "        dot_product += i\n",
    "    return dot_product"
   ]
  },
  {
   "cell_type": "code",
   "execution_count": 47,
   "metadata": {
    "collapsed": false
   },
   "outputs": [
    {
     "name": "stdout",
     "output_type": "stream",
     "text": [
      "[1, -2, 3, -4, 5]\n"
     ]
    },
    {
     "data": {
      "text/plain": [
       "3"
      ]
     },
     "execution_count": 47,
     "metadata": {},
     "output_type": "execute_result"
    }
   ],
   "source": [
    "dot_product_via_for_loop(v, w)"
   ]
  },
  {
   "cell_type": "code",
   "execution_count": 51,
   "metadata": {
    "collapsed": false
   },
   "outputs": [],
   "source": [
    "def dot_product_via_map_reduce(vector_1, vector_2):\n",
    "    zipped_vectors = zip(vector_1, vector_2)\n",
    "    \n",
    "    if VERBOSE: print zipped_vectors\n",
    "        \n",
    "    v_iw_i = map(lambda i: i[0]*i[1], zipped_vectors)\n",
    "\n",
    "    if VERBOSE: print v_iw_i    \n",
    "    dot_product = reduce(lambda x, y: x+y, v_iw_i)\n",
    "    \n",
    "    return dot_product"
   ]
  },
  {
   "cell_type": "code",
   "execution_count": 52,
   "metadata": {
    "collapsed": false
   },
   "outputs": [
    {
     "name": "stdout",
     "output_type": "stream",
     "text": [
      "[(1, 1), (2, -1), (3, 1), (4, -1), (5, 1)]\n",
      "[1, -2, 3, -4, 5]\n"
     ]
    },
    {
     "data": {
      "text/plain": [
       "3"
      ]
     },
     "execution_count": 52,
     "metadata": {},
     "output_type": "execute_result"
    }
   ],
   "source": [
    "dot_product_via_map_reduce(v, w)"
   ]
  },
  {
   "cell_type": "code",
   "execution_count": 53,
   "metadata": {
    "collapsed": false
   },
   "outputs": [],
   "source": [
    "dot_product = lambda vector_1, vector_2 : sum([v_i*w_i for v_i, w_i in zip(vector_1, vector_2)])"
   ]
  },
  {
   "cell_type": "code",
   "execution_count": 54,
   "metadata": {
    "collapsed": false
   },
   "outputs": [
    {
     "data": {
      "text/plain": [
       "3"
      ]
     },
     "execution_count": 54,
     "metadata": {},
     "output_type": "execute_result"
    }
   ],
   "source": [
    "dot_product(v,w)"
   ]
  },
  {
   "cell_type": "code",
   "execution_count": 55,
   "metadata": {
    "collapsed": true
   },
   "outputs": [],
   "source": [
    "def dot_product_readable(vector_1, vector_2):\n",
    "    return sum([v_i*w_i for v_i, w_i in zip(vector_1, vector_2)])"
   ]
  },
  {
   "cell_type": "code",
   "execution_count": 57,
   "metadata": {
    "collapsed": false
   },
   "outputs": [
    {
     "data": {
      "text/plain": [
       "3"
      ]
     },
     "execution_count": 57,
     "metadata": {},
     "output_type": "execute_result"
    }
   ],
   "source": [
    "dot_product_readable(v, w)"
   ]
  },
  {
   "cell_type": "code",
   "execution_count": 58,
   "metadata": {
    "collapsed": false
   },
   "outputs": [
    {
     "data": {
      "text/plain": [
       "3"
      ]
     },
     "execution_count": 58,
     "metadata": {},
     "output_type": "execute_result"
    }
   ],
   "source": [
    "np.dot(v, w)"
   ]
  },
  {
   "cell_type": "markdown",
   "metadata": {},
   "source": [
    "## Implement a Dot Product that will work for any two vectors of the same size"
   ]
  },
  {
   "cell_type": "markdown",
   "metadata": {},
   "source": [
    "#### Bonus: Add Error Handling if a dot product is attempted on vectors of different sizes"
   ]
  },
  {
   "cell_type": "code",
   "execution_count": 60,
   "metadata": {
    "collapsed": false
   },
   "outputs": [
    {
     "ename": "ValueError",
     "evalue": "shapes (4,) and (5,) not aligned: 4 (dim 0) != 5 (dim 0)",
     "output_type": "error",
     "traceback": [
      "\u001b[1;31m---------------------------------------------------------------------------\u001b[0m",
      "\u001b[1;31mValueError\u001b[0m                                Traceback (most recent call last)",
      "\u001b[1;32m<ipython-input-60-ef446cfdbdb0>\u001b[0m in \u001b[0;36m<module>\u001b[1;34m()\u001b[0m\n\u001b[0;32m      1\u001b[0m \u001b[0mu\u001b[0m \u001b[1;33m=\u001b[0m \u001b[1;33m(\u001b[0m\u001b[1;36m1\u001b[0m\u001b[1;33m,\u001b[0m\u001b[1;36m2\u001b[0m\u001b[1;33m,\u001b[0m\u001b[1;36m3\u001b[0m\u001b[1;33m,\u001b[0m\u001b[1;36m4\u001b[0m\u001b[1;33m)\u001b[0m\u001b[1;33m\u001b[0m\u001b[0m\n\u001b[1;32m----> 2\u001b[1;33m \u001b[0mnp\u001b[0m\u001b[1;33m.\u001b[0m\u001b[0mdot\u001b[0m\u001b[1;33m(\u001b[0m\u001b[0mu\u001b[0m\u001b[1;33m,\u001b[0m \u001b[0mv\u001b[0m\u001b[1;33m)\u001b[0m\u001b[1;33m\u001b[0m\u001b[0m\n\u001b[0m",
      "\u001b[1;31mValueError\u001b[0m: shapes (4,) and (5,) not aligned: 4 (dim 0) != 5 (dim 0)"
     ]
    }
   ],
   "source": [
    "u = (1,2,3,4)\n",
    "np.dot(u, v)"
   ]
  },
  {
   "cell_type": "markdown",
   "metadata": {},
   "source": [
    "## Sort Vectors Based On Their Length"
   ]
  },
  {
   "cell_type": "markdown",
   "metadata": {},
   "source": [
    "The length of the vector, $\\mathbf v$ is defined as\n",
    "\n",
    "$$||\\mathbf v||= \\sqrt{\\mathbf v \\cdot \\mathbf v}$$"
   ]
  },
  {
   "cell_type": "markdown",
   "metadata": {},
   "source": [
    "You have seen this before:\n",
    "\n",
    "![](https://upload.wikimedia.org/wikipedia/commons/thumb/d/d2/Pythagorean.svg/260px-Pythagorean.svg.png)"
   ]
  },
  {
   "cell_type": "markdown",
   "metadata": {},
   "source": [
    "$$\\left|\\left|(a,b)\\right|\\right| = c$$"
   ]
  },
  {
   "cell_type": "code",
   "execution_count": 62,
   "metadata": {
    "collapsed": true
   },
   "outputs": [],
   "source": [
    "vectors_in_R_3 = [\n",
    "    (1,-2,1),\n",
    "    (2,3,1),\n",
    "    (-3,1,-2),\n",
    "    (2,2,2),\n",
    "    (-2,4,0),\n",
    "    (-2,1,5)\n",
    "]"
   ]
  },
  {
   "cell_type": "code",
   "execution_count": 63,
   "metadata": {
    "collapsed": false
   },
   "outputs": [
    {
     "name": "stdout",
     "output_type": "stream",
     "text": [
      "[(1, -2, 1), (2, 3, 1), (-3, 1, -2), (2, 2, 2), (-2, 4, 0), (-2, 1, 5)]\n",
      "[(1, -2, 1), (2, 2, 2), (2, 3, 1), (-3, 1, -2), (-2, 4, 0), (-2, 1, 5)]\n",
      "[2.4494897427831779, 3.4641016151377544, 3.7416573867739413, 3.7416573867739413, 4.4721359549995796, 5.4772255750516612]\n"
     ]
    }
   ],
   "source": [
    "vector_length = lambda vec: np.sqrt(dot_product(vec, vec))\n",
    "\n",
    "if VERBOSE: print(vectors_in_R_3)\n",
    "    \n",
    "vectors_in_R_3.sort(key=vector_length)\n",
    "\n",
    "if VERBOSE: print(vectors_in_R_3)\n",
    "    \n",
    "print(map(vector_length, vectors_in_R_3))\n"
   ]
  },
  {
   "cell_type": "code",
   "execution_count": 64,
   "metadata": {
    "collapsed": true
   },
   "outputs": [],
   "source": [
    "vectors_in_R_2 = [\n",
    "    (1,1),\n",
    "    (2,1),\n",
    "    (-3,-2),\n",
    "    (2,2),\n",
    "    (-2,0),\n",
    "    (-2,5)\n",
    "]"
   ]
  },
  {
   "cell_type": "markdown",
   "metadata": {},
   "source": [
    "### Unit Vectors\n",
    "\n",
    "A unit vector is a vector of length 1. We write a unit vector with a hat \n",
    "\n",
    "$$\\mathbf {\\hat v} = \\frac{\\mathbf v}{||\\mathbf v||}$$"
   ]
  },
  {
   "cell_type": "code",
   "execution_count": 65,
   "metadata": {
    "collapsed": true
   },
   "outputs": [],
   "source": [
    "unit_vector = lambda vec: vec/vector_length(vec)"
   ]
  },
  {
   "cell_type": "code",
   "execution_count": 66,
   "metadata": {
    "collapsed": false
   },
   "outputs": [
    {
     "data": {
      "text/plain": [
       "array([ 0.70710678,  0.70710678])"
      ]
     },
     "execution_count": 66,
     "metadata": {},
     "output_type": "execute_result"
    }
   ],
   "source": [
    "unit_vector(vectors_in_R_2[0])"
   ]
  },
  {
   "cell_type": "code",
   "execution_count": 67,
   "metadata": {
    "collapsed": false
   },
   "outputs": [
    {
     "data": {
      "text/plain": [
       "[array([ 0.70710678,  0.70710678]),\n",
       " array([ 0.89442719,  0.4472136 ]),\n",
       " array([-0.83205029, -0.5547002 ]),\n",
       " array([ 0.70710678,  0.70710678]),\n",
       " array([-1.,  0.]),\n",
       " array([-0.37139068,  0.92847669])]"
      ]
     },
     "execution_count": 67,
     "metadata": {},
     "output_type": "execute_result"
    }
   ],
   "source": [
    "map(lambda v: unit_vector(v), vectors_in_R_2)"
   ]
  },
  {
   "cell_type": "markdown",
   "metadata": {},
   "source": [
    "## The Cosine Formula\n"
   ]
  },
  {
   "cell_type": "markdown",
   "metadata": {},
   "source": [
    "The cosine of the angle between two vectors is given by the following function:\n",
    "\n",
    "$$\\cos \\theta = \\mathbf{\\hat v}\\cdot\\mathbf{\\hat w} = \\frac{\\mathbf v}{||\\mathbf v||}\\cdot\\frac{\\mathbf w}{||\\mathbf w||}$$"
   ]
  },
  {
   "cell_type": "markdown",
   "metadata": {},
   "source": [
    "### Write a lambda function implementing the cosine function"
   ]
  },
  {
   "cell_type": "code",
   "execution_count": null,
   "metadata": {
    "collapsed": true
   },
   "outputs": [],
   "source": []
  }
 ],
 "metadata": {
  "kernelspec": {
   "display_name": "Python 2",
   "language": "python",
   "name": "python2"
  },
  "language_info": {
   "codemirror_mode": {
    "name": "ipython",
    "version": 2
   },
   "file_extension": ".py",
   "mimetype": "text/x-python",
   "name": "python",
   "nbconvert_exporter": "python",
   "pygments_lexer": "ipython2",
   "version": "2.7.12"
  }
 },
 "nbformat": 4,
 "nbformat_minor": 1
}
