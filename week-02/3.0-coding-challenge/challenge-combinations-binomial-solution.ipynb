{
 "cells": [
  {
   "cell_type": "markdown",
   "metadata": {
    "hide_input": false,
    "slideshow": {
     "slide_type": "slide"
    }
   },
   "source": [
    "### Counting Principle\n",
    "\n",
    "---\n",
    "\n",
    "Counting, combinations, and permutations are essential to understanding probability. The counting principal says that:\n",
    "\n",
    "If $A$ can occur in $n$ ways \n",
    "\n",
    "and $B$ can occur in $m$ ways\n",
    "\n",
    "then $A$ and $B$ can occur in $n * m$ ways.\n"
   ]
  },
  {
   "cell_type": "markdown",
   "metadata": {},
   "source": [
    "### Q: For 10 coin-flips, print out the probability of getting 0 heads through 10 heads.\n",
    "Also print out the sum of the probabilities.\n",
    "\n",
    "<b>Please solve the question first using combinatorics with the formulas provided below:</b>"
   ]
  },
  {
   "cell_type": "markdown",
   "metadata": {
    "slideshow": {
     "slide_type": "slide"
    }
   },
   "source": [
    "### The factorial function"
   ]
  },
  {
   "cell_type": "code",
   "execution_count": 38,
   "metadata": {
    "collapsed": true,
    "slideshow": {
     "slide_type": "fragment"
    }
   },
   "outputs": [],
   "source": [
    "def factorial(x):\n",
    "    if x < 0:\n",
    "        print(\"Must be a non-negative integer.\")\n",
    "    if x == 0:\n",
    "        return 1\n",
    "    else:\n",
    "        if x != int(x):\n",
    "            print(\"Must be an integer.\")\n",
    "        else:    \n",
    "            return x * factorial(x-1)\n",
    "        \n",
    "# set up permutation and combination functions:\n",
    "def perm(n, k):\n",
    "    return float(factorial(n)) / factorial(n-k)\n",
    "\n",
    "def comb(n, k):\n",
    "    return float(perm(n, k)) / perm(k, k)"
   ]
  },
  {
   "cell_type": "code",
   "execution_count": 39,
   "metadata": {
    "collapsed": false,
    "slideshow": {
     "slide_type": "fragment"
    }
   },
   "outputs": [
    {
     "name": "stdout",
     "output_type": "stream",
     "text": [
      "Heads: 0 P =  0.0009765625\n",
      "Heads: 1 P =  0.009765625\n",
      "Heads: 2 P =  0.0439453125\n",
      "Heads: 3 P =  0.1171875\n",
      "Heads: 4 P =  0.205078125\n",
      "Heads: 5 P =  0.24609375\n",
      "Heads: 6 P =  0.205078125\n",
      "Heads: 7 P =  0.1171875\n",
      "Heads: 8 P =  0.0439453125\n",
      "Heads: 9 P =  0.009765625\n",
      "Heads: 10 P =  0.0009765625\n",
      "Total probability: 1.0\n"
     ]
    }
   ],
   "source": [
    "def flip_prob(heads, total):\n",
    "    head_combs = comb(total, heads)\n",
    "    total_possibilities = 2**total\n",
    "    return head_combs / total_possibilities\n",
    "    \n",
    "probs = []\n",
    "for i in range(0, 11):\n",
    "    flip = flip_prob(i, 10)\n",
    "    print 'Heads:', i, 'P = ', flip\n",
    "    probs.append(flip)\n",
    "    \n",
    "print 'Total probability:', sum(probs)"
   ]
  },
  {
   "cell_type": "markdown",
   "metadata": {},
   "source": [
    "Now confirm the above using the Binomial Distribution (Probability Mass Function) $$ f(k;n,p) = Pr(X=k) =\\left(\\begin{array}{c}n\\\\ k\\end{array}\\right)*p^{k}*(1-p)^{n-k} $$"
   ]
  },
  {
   "cell_type": "code",
   "execution_count": 40,
   "metadata": {
    "collapsed": false
   },
   "outputs": [
    {
     "name": "stdout",
     "output_type": "stream",
     "text": [
      "[0.0009765625, 0.009765625, 0.0439453125, 0.1171875, 0.205078125, 0.24609375, 0.205078125, 0.1171875, 0.0439453125, 0.009765625, 0.0009765625]\n"
     ]
    }
   ],
   "source": [
    "from math import factorial\n",
    "\n",
    "t = []\n",
    "for k in range(11):\n",
    "    heads = (.5**k)\n",
    "    tails = (1-.5)**(10-k)\n",
    "    prob = comb(10, k)*heads*(tails)\n",
    "    t.append(prob)\n",
    "print t\n"
   ]
  },
  {
   "cell_type": "code",
   "execution_count": 43,
   "metadata": {
    "collapsed": false
   },
   "outputs": [],
   "source": [
    "# redone as a function...\n",
    "\n",
    "def myfunction(x):\n",
    "    t = []\n",
    "    for k in range(x):\n",
    "        heads = (.5**k)\n",
    "        tails = (1-.5)**(10-k)\n",
    "        prob = comb(10, k)*heads*(tails)\n",
    "        t.append(prob)\n",
    "    return t"
   ]
  },
  {
   "cell_type": "code",
   "execution_count": 44,
   "metadata": {
    "collapsed": false
   },
   "outputs": [
    {
     "data": {
      "text/plain": [
       "[0.0009765625,\n",
       " 0.009765625,\n",
       " 0.0439453125,\n",
       " 0.1171875,\n",
       " 0.205078125,\n",
       " 0.24609375,\n",
       " 0.205078125,\n",
       " 0.1171875,\n",
       " 0.0439453125,\n",
       " 0.009765625]"
      ]
     },
     "execution_count": 44,
     "metadata": {},
     "output_type": "execute_result"
    }
   ],
   "source": [
    "# redone as a function...\n",
    "\n",
    "def myfunction(x):\n",
    "    for k in range(x):\n",
    "        heads = (.5**k)\n",
    "        tails = (1-.5)**(10-k)\n",
    "        yield comb(10, k)*heads*(tails)\n",
    "\n",
    "[i for i in myfunction(10)]"
   ]
  }
 ],
 "metadata": {
  "kernelspec": {
   "display_name": "Python 2",
   "language": "python",
   "name": "python2"
  },
  "language_info": {
   "codemirror_mode": {
    "name": "ipython",
    "version": 2
   },
   "file_extension": ".py",
   "mimetype": "text/x-python",
   "name": "python",
   "nbconvert_exporter": "python",
   "pygments_lexer": "ipython2",
   "version": "2.7.11"
  },
  "widgets": {
   "state": {},
   "version": "1.1.2"
  }
 },
 "nbformat": 4,
 "nbformat_minor": 0
}
