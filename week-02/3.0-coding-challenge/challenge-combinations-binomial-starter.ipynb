{
 "cells": [
  {
   "cell_type": "markdown",
   "metadata": {
    "hide_input": false,
    "slideshow": {
     "slide_type": "slide"
    }
   },
   "source": [
    "<a id='counting_principle'></a>\n",
    "\n",
    "### Counting Principle\n",
    "\n",
    "---\n",
    "\n",
    "Counting, combinations, and permutations are essential to understanding probability. The counting principal says that:\n",
    "\n",
    "If $A$ can occur in $n$ ways \n",
    "\n",
    "and $B$ can occur in $m$ ways\n",
    "\n",
    "then $A$ and $B$ can occur in $n * m$ ways.\n"
   ]
  },
  {
   "cell_type": "markdown",
   "metadata": {
    "slideshow": {
     "slide_type": "slide"
    }
   },
   "source": [
    "### The factorial function"
   ]
  },
  {
   "cell_type": "code",
   "execution_count": 6,
   "metadata": {
    "collapsed": true,
    "slideshow": {
     "slide_type": "fragment"
    }
   },
   "outputs": [],
   "source": [
    "def factorial(x):\n",
    "    if x < 0:\n",
    "        print(\"Must be a non-negative integer.\")\n",
    "    if x == 0:\n",
    "        return 1\n",
    "    else:\n",
    "        if x != int(x):\n",
    "            print(\"Must be an integer.\")\n",
    "        else:    \n",
    "            return x * factorial(x-1)\n",
    "        \n",
    "# set up permutation and combination functions:\n",
    "def perm(n, k):\n",
    "    return float(factorial(n)) / factorial(n-k)\n",
    "\n",
    "def comb(n, k):\n",
    "    return float(perm(n, k)) / perm(k, k)"
   ]
  },
  {
   "cell_type": "markdown",
   "metadata": {
    "slideshow": {
     "slide_type": "slide"
    }
   },
   "source": [
    "### **Q: For 10 coin-flips, print out the probability of getting 0 heads through 10 heads.**\n",
    "\n",
    "Also print out the sum of the probabilities."
   ]
  },
  {
   "cell_type": "code",
   "execution_count": 1,
   "metadata": {
    "collapsed": false,
    "slideshow": {
     "slide_type": "fragment"
    }
   },
   "outputs": [],
   "source": [
    "\n",
    "# Correct Output Below\n",
    "\n",
    "# Heads: 0 P =  0.0009765625\n",
    "# Heads: 1 P =  0.009765625\n",
    "# Heads: 2 P =  0.0439453125\n",
    "# Heads: 3 P =  0.1171875\n",
    "# Heads: 4 P =  0.205078125\n",
    "# Heads: 5 P =  0.24609375\n",
    "# Heads: 6 P =  0.205078125\n",
    "# Heads: 7 P =  0.1171875\n",
    "# Heads: 8 P =  0.0439453125\n",
    "# Heads: 9 P =  0.009765625\n",
    "# Heads: 10 P =  0.0009765625\n",
    "# Total probability: 1.0"
   ]
  },
  {
   "cell_type": "code",
   "execution_count": 2,
   "metadata": {
    "collapsed": false
   },
   "outputs": [
    {
     "name": "stdout",
     "output_type": "stream",
     "text": [
      "/Users/jam3jam/dsi/DSI_SM_3/curriculum/week-02/2.1-Intro-Stats-Combinations\r\n"
     ]
    }
   ],
   "source": [
    "!pwd"
   ]
  },
  {
   "cell_type": "code",
   "execution_count": null,
   "metadata": {
    "collapsed": true
   },
   "outputs": [],
   "source": []
  }
 ],
 "metadata": {
  "kernelspec": {
   "display_name": "Python 2",
   "language": "python",
   "name": "python2"
  },
  "language_info": {
   "codemirror_mode": {
    "name": "ipython",
    "version": 2
   },
   "file_extension": ".py",
   "mimetype": "text/x-python",
   "name": "python",
   "nbconvert_exporter": "python",
   "pygments_lexer": "ipython2",
   "version": "2.7.11"
  },
  "widgets": {
   "state": {},
   "version": "1.1.2"
  }
 },
 "nbformat": 4,
 "nbformat_minor": 0
}
