{
 "cells": [
  {
   "cell_type": "markdown",
   "metadata": {},
   "source": [
    "---\n",
    "title: Categorical & Dummy Variables\n",
    "type: lesson\n",
    "duration: \"1:5\"\n",
    "creator:\n",
    "    name: Lucy Williams\n",
    "    city: DC\n",
    "---\n",
    "\n",
    "# ![](https://ga-dash.s3.amazonaws.com/production/assets/logo-9f88ae6c9c3871690e33280fcf557f33.png) Categorical & Dummy Variables\n",
    "Week 2 | Lesson 3.3"
   ]
  },
  {
   "cell_type": "markdown",
   "metadata": {},
   "source": [
    "![](assets/images/balloon_dataset.png)"
   ]
  },
  {
   "cell_type": "markdown",
   "metadata": {},
   "source": [
    "### LEARNING OBJECTIVES\n",
    "*After this lesson, you will be able to:*\n",
    "- Be able to use get_dummies and other ways of converting categorical data to numerical data\n",
    "- How to create indicator variable (0 or 1) columns from categorical data"
   ]
  },
  {
   "cell_type": "markdown",
   "metadata": {},
   "source": [
    "### LESSON GUIDE\n",
    "| TIMING  | TYPE  | TOPIC  |\n",
    "|:-:|---|---|\n",
    "| 10 min  | [Introduction](#introduction)   | Categorical & Dummy Variables |\n",
    "| 25 min  | [Demo /Guided Practice ](#demo)  | Categorical Variables  |\n",
    "| 25 min  | [Demo /Guided Practice ](#demo)  | Dummy Variables  |\n",
    "| 25 min  | [Independent Practice](#ind-practice)  |   |\n",
    "| 5 min  | [Conclusion](#conclusion)  |  |"
   ]
  },
  {
   "cell_type": "markdown",
   "metadata": {},
   "source": [
    "## <a name=\"Categorical & Dummy Variables\"></a>\n",
    "## Introduction: Categorical & Dummy Variables (10 mins)\n",
    "\n",
    "Regression analysis is used with numerical variables. Results only have a valid\n",
    "interpretation if it makes sense to assume that having a value of 2 on some variable\n",
    "is does indeed mean having twice as much of something as a 1, and having a 50 means\n",
    "50 times as much as 1. But, some times you need to work with categorical variables\n",
    "in which the different values have no real numerical relationship with each other.\n",
    "The solution is, to use categorical and dummy variables\n",
    "\n",
    "A categorical variable is an independent or predictor variable that contains\n",
    "values indicating membership in one of several possible categories. E.g.,\n",
    "gender (male or female), marital status (married, single, divorced,\n",
    "widowed). The categories are often assigned numerical values used as\n",
    "labels, e.g., 0 = male; 1 = female.\n",
    "\n",
    "A dummy variable is created by recoding categorial variables that have more than\n",
    "two categories into a series of binary variables.\n",
    "\n",
    "Here is more information on different [types of variables](http://www.indiana.edu/~educy520/sec5982/week_2/variable_types.pdf)."
   ]
  },
  {
   "cell_type": "code",
   "execution_count": null,
   "metadata": {
    "collapsed": false
   },
   "outputs": [],
   "source": [
    "import pandas as pd\n",
    "balloons_df = pd.read_csv('../data/balloons.csv', names=['Color', 'Size', 'Act', 'Age', 'Inflated'])"
   ]
  },
  {
   "cell_type": "code",
   "execution_count": null,
   "metadata": {
    "collapsed": false
   },
   "outputs": [],
   "source": [
    "balloons_df"
   ]
  },
  {
   "cell_type": "markdown",
   "metadata": {},
   "source": [
    "## Categorical Variables\n",
    "\n",
    "The variables in this dataset are categorical rather than numerical in nature. Consider a row vector from this set, $v \\in B$, where $B$ represents the entire feature space."
   ]
  },
  {
   "cell_type": "markdown",
   "metadata": {},
   "source": [
    "We know that any given row vector will have\n",
    "\n",
    "- $v_1 \\in \\{\\texttt{'YELLOW'}, \\texttt{'PURPLE'}\\}$\n",
    "- $v_2 \\in \\{\\texttt{'SMALL'}, \\texttt{'LARGE'}\\}$\n",
    "- $v_3 \\in \\{\\texttt{'STRETCH'}, \\texttt{'DIP'}\\}$\n",
    "- $v_4 \\in \\{\\texttt{'ADULT'}, \\texttt{'CHILD'}\\}$\n",
    "- $v_5 \\in \\{\\texttt{'T'}, \\texttt{'F'}\\}$\n",
    "\n",
    "and that each row vector has dimension 5. "
   ]
  },
  {
   "cell_type": "markdown",
   "metadata": {},
   "source": [
    "### Numpy (And Thus Pandas, Scipy, Sklearn, etc) Can Not  Perform Mathematical Operations on String Vectors"
   ]
  },
  {
   "cell_type": "code",
   "execution_count": null,
   "metadata": {
    "collapsed": false
   },
   "outputs": [],
   "source": [
    "v_1 = balloons_df.ix[0]\n",
    "v_2 = balloons_df.ix[1]\n",
    "v_1.dot(v_2)"
   ]
  },
  {
   "cell_type": "markdown",
   "metadata": {},
   "source": [
    "### In Order To Work With Our Dataset using our core libraries, we must encode it numerically"
   ]
  },
  {
   "cell_type": "code",
   "execution_count": null,
   "metadata": {
    "collapsed": true
   },
   "outputs": [],
   "source": [
    "encode_color = lambda x: 1 if x == 'YELLOW' else 0\n",
    "encode_size = lambda x: 1 if x == 'SMALL' else 0\n",
    "encode_act = lambda x: 1 if x == 'STRETCH' else 0\n",
    "encode_age = lambda x: 1 if x == 'ADULT' else 0\n",
    "encode_inflated = lambda x: 1 if x =='T' else 0"
   ]
  },
  {
   "cell_type": "code",
   "execution_count": null,
   "metadata": {
    "collapsed": false
   },
   "outputs": [],
   "source": [
    "balloons_df.Color = balloons.Color.apply(encode_color)\n",
    "balloons_df.Size = balloons.Size.apply(encode_size)\n",
    "balloons_df.Act = balloons.Act.apply(encode_act)\n",
    "balloons_df.Age = balloons.Age.apply(encode_age)\n",
    "balloons_df.Inflated = balloons.Inflated.apply(encode_inflated)"
   ]
  },
  {
   "cell_type": "code",
   "execution_count": null,
   "metadata": {
    "collapsed": false
   },
   "outputs": [],
   "source": [
    "balloons_df"
   ]
  },
  {
   "cell_type": "code",
   "execution_count": null,
   "metadata": {
    "collapsed": false
   },
   "outputs": [],
   "source": [
    "balloons_df.T.dot(balloons)"
   ]
  },
  {
   "cell_type": "markdown",
   "metadata": {},
   "source": [
    "### What is the significance of the diagonal? What is the significance of an off-diagonal? Can you see any features or feature combinations that would be a good predictor of Inflation?"
   ]
  },
  {
   "cell_type": "markdown",
   "metadata": {},
   "source": [
    "## What if the category has more than two classes? "
   ]
  },
  {
   "cell_type": "markdown",
   "metadata": {},
   "source": [
    "<img src='assets/images/lenses_dataset.png' width=700px>"
   ]
  },
  {
   "cell_type": "code",
   "execution_count": null,
   "metadata": {
    "collapsed": false
   },
   "outputs": [],
   "source": [
    "lenses_df = pd.read_csv('../data/lenses.csv', index_col=0, \n",
    "                        names=['Age', 'Spectacle Prescription', 'Astigmatic', 'Tear Production Rate','Prescription Class'])\n",
    "lenses_df"
   ]
  },
  {
   "cell_type": "markdown",
   "metadata": {},
   "source": [
    "    Attribute Information:\n",
    "        -- 3 Classes\n",
    "         1 : the patient should be fitted with hard contact lenses,\n",
    "         2 : the patient should be fitted with soft contact lenses,\n",
    "         3 : the patient should not be fitted with contact lenses.\n",
    "\n",
    "        1. age of the patient: (1) young, (2) pre-presbyopic, (3) presbyopic\n",
    "        2. spectacle prescription:  (1) myope, (2) hypermetrope\n",
    "        3. astigmatic:     (1) no, (2) yes\n",
    "        4. tear production rate:  (1) reduced, (2) normal\n"
   ]
  },
  {
   "cell_type": "markdown",
   "metadata": {},
   "source": [
    "### Numerical Data signifying Classes"
   ]
  },
  {
   "cell_type": "code",
   "execution_count": null,
   "metadata": {
    "collapsed": false
   },
   "outputs": [],
   "source": [
    "pd.get_dummies(lenses_df['Age']).head()"
   ]
  },
  {
   "cell_type": "markdown",
   "metadata": {},
   "source": [
    "## Build a New Dataframe Using Our Dummy Columns"
   ]
  },
  {
   "cell_type": "code",
   "execution_count": null,
   "metadata": {
    "collapsed": true
   },
   "outputs": [],
   "source": [
    "Age_dummies = pd.get_dummies(lenses_df['Age'])\n",
    "Spectacle_dummies = pd.get_dummies(lenses_df['Spectacle Prescription'])\n",
    "Astigmatic_dummies = pd.get_dummies(lenses_df['Astigmatic'])\n",
    "Tear_dummies = pd.get_dummies(lenses_df['Tear Production Rate'])"
   ]
  },
  {
   "cell_type": "code",
   "execution_count": null,
   "metadata": {
    "collapsed": false
   },
   "outputs": [],
   "source": [
    "Age_dummies.columns = ['age_young', 'age_pre-presbyopic', 'age_presbyopic']\n",
    "Spectacle_dummies.columns = ['spectacle_myope', 'spectacle_hypermetrope']\n",
    "Astigmatic_dummies.columns = ['astigmatic_no', 'astigmatic_yes']\n",
    "Tear_dummies.columns = ['tear_reduced', 'tear_normal']\n",
    "Age_dummies.head()"
   ]
  },
  {
   "cell_type": "code",
   "execution_count": null,
   "metadata": {
    "collapsed": false
   },
   "outputs": [],
   "source": [
    "lenses_encoded = pd.concat([Age_dummies,Spectacle_dummies,Astigmatic_dummies,Tear_dummies], axis=1)\n",
    "lenses_encoded"
   ]
  },
  {
   "cell_type": "markdown",
   "metadata": {},
   "source": [
    "<a name=\"Categorical Variables\"></a>\n",
    "## Demo / Guided Practice: Categorical Variables (25 mins)\n",
    "\n",
    "Why exactly would you want to use categorical variables?\n",
    "The categorical data type is useful in the following cases:\n",
    "\n",
    "- A string variable consisting of only a few different values. Converting such a\n",
    "    string variable to a categorical variable will save some memory, see  \n",
    "    [here](https://pandas-docs.github.io/pandas-docs-travis/categorical.html#categorical-memory).\n",
    "- The lexical order of a variable is not the same as the logical order (“one”, “two”, “three”). By converting to a         \n",
    "    categorical and specifying an order on the categories, sorting and min/max will\n",
    "    use the logical order instead of the lexical order, see\n",
    "    [here](https://pandas-docs.github.io/pandas-docs-travis/categorical.html#categorical-sort)\n",
    "- As a signal to other python libraries that this column should be treated as a\n",
    "    categorical variable (e.g. to use suitable statistical methods or plot types).\n",
    "\n",
    "Let's use pandas to create a few Categorical Series. One way is by specifying\n",
    "dtype=\"category\" when constructing a Series:\n",
    "\n",
    "> Here is a link to the [demo code](./w2-3.3-demo.ipynb).\n",
    "\n",
    "```Python\n",
    "import pandas as pd\n",
    "s = pd.Series([\"a\",\"b\",\"c\",\"a\"], dtype=\"category\")\n",
    "s\n",
    "```\n",
    "\n",
    "Another way is to convert an existing Series or column to a category dtype:\n",
    "```Python\n",
    "df = pd.DataFrame({\"A\":[\"a\",\"b\",\"c\",\"a\"]})\n",
    "df[\"B\"] = df[\"A\"].astype('category')\n",
    "df\n",
    "```\n",
    "\n",
    "You can also pass a pandas.Categorical object to a Series or assign it to a DataFrame.\n",
    "```Python\n",
    "raw_cat = pd.Categorical([\"a\",\"b\",\"c\",\"a\"], categories=[\"b\",\"c\",\"d\"],\n",
    "                          ordered=False)\n",
    "```\n",
    "\n",
    "```Python\n",
    "s = pd.Series(raw_cat)\n",
    "s\n",
    "```\n",
    "\n",
    "**Check:** Why would you use a categorical variable?\n",
    "[categorical variable](https://pandas-docs.github.io/pandas-docs-travis/categorical.html)"
   ]
  },
  {
   "cell_type": "markdown",
   "metadata": {},
   "source": [
    "<a name=\"ind-practice\"></a>\n",
    "## Independent Practice: Topic (25 minutes)\n",
    "\n",
    "Use the Shuttle Control Data (`'shuttle_control.csv'`) to:\n",
    "\n",
    "1. Create dummy variables for each feature\n",
    "2. Create a new dataframe containing your encoded data\n",
    "\n",
    "\n",
    "    Shuttle Control Attribute Information:\n",
    "    1. Class: noauto, auto\n",
    "       -- that is, advise using manual/automatic control\n",
    "    2. STABILITY: stab, xstab\n",
    "    3. ERROR: XL, LX, MM, SS\n",
    "    4. SIGN: pp, nn\n",
    "    5. WIND: head, tail\n",
    "    6. MAGNITUDE: Low, Medium, Strong, OutOfRange\n",
    "    7. VISIBILITY: yes, no\n"
   ]
  },
  {
   "cell_type": "markdown",
   "metadata": {},
   "source": [
    "<a name=\"conclusion\"></a>\n",
    "## Conclusion (5 mins)\n",
    "\n",
    "We learned that categorical and dummy variables are very useful. Some applications\n",
    "are: turning a string value that may only have a few different values into a\n",
    "categorical variable or when the lexical order of a variable is not the same as\n",
    "the logical order. When we start Regression in Week 3, it will become even more\n",
    "apparent how valuable these tools are to help us manage our data and make\n",
    "it easier to analyze."
   ]
  },
  {
   "cell_type": "code",
   "execution_count": null,
   "metadata": {
    "collapsed": true
   },
   "outputs": [],
   "source": []
  }
 ],
 "metadata": {
  "anaconda-cloud": {},
  "kernelspec": {
   "display_name": "Python [conda env:py27]",
   "language": "python",
   "name": "conda-env-py27-py"
  },
  "language_info": {
   "codemirror_mode": {
    "name": "ipython",
    "version": 2
   },
   "file_extension": ".py",
   "mimetype": "text/x-python",
   "name": "python",
   "nbconvert_exporter": "python",
   "pygments_lexer": "ipython2",
   "version": "2.7.12"
  }
 },
 "nbformat": 4,
 "nbformat_minor": 1
}
