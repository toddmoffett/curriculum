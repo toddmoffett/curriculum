{
 "cells": [
  {
   "cell_type": "code",
   "execution_count": 1,
   "metadata": {
    "collapsed": true
   },
   "outputs": [],
   "source": [
    "import re\n",
    "pattern = re.compile(r'\\d')\n",
    "s = 'happy friday almost here 732837283983'"
   ]
  },
  {
   "cell_type": "code",
   "execution_count": null,
   "metadata": {
    "collapsed": true
   },
   "outputs": [],
   "source": [
    "pattern.fin"
   ]
  },
  {
   "cell_type": "code",
   "execution_count": 9,
   "metadata": {
    "collapsed": false
   },
   "outputs": [],
   "source": [
    "import re\n",
    "\n",
    "string1 = \"Unpacked reserved sir offering bed judgment may and quitting speaking. Is do be improved raptures offering required in replying raillery. Stairs ladies friend by in mutual an no. Mr hence chief he cause. Whole no doors on hoped. Mile tell if help they ye full name.\"\n",
    "string2 =\"Real sold my in call. Invitation on an advantages collecting. But event old above shy bed noisy. Had sister see wooded favour income has. Stuff rapid since do as hence. Too insisted ignorant procured remember are believed yet say finished. \"\n",
    "string3 = \"By impossible of in difficulty discovered celebrated ye. Justice joy manners boy met resolve produce. Bed head loud next plan rent had easy add him. As earnestly shameless elsewhere defective estimable fulfilled of. Esteem my advice it an excuse enable. Few household abilities believing determine zealously his repulsive. To open draw dear be by side like. 2Use securing confined his shutters. Delightful as he it acceptance an solicitude discretion reasonably. Carriage we husbands advanced an perceive greatest. Totally dearest expense on demesne ye he. Curiosity excellent commanded in me. Unpleasing impression themselves to at assistance acceptance my or. On consider laughter civility offended oh.\" \n",
    "string4 =\"tasdfasdfaj324 345-3433-3412thereisl3.4etosaytodayaboutthesportingeventsconferenceroom8and9.2334.?#$}$\"\n",
    "string5 =\"tasdfasdfaj324-345-3433-3412thereisl3.4etosaytodayaboutthesportingeventsconferenceroom8and9.2334.?#$}$\"\n",
    "string6 =\"tasdfasdfaj324 345-34-3412thereisl3.4etosaytodayaboutthesportingeventsconferenceroom8and9.2334.?#$}$\"\n",
    "string7 =\"tasdfasdfaj324-345-24334-3412thereisl3.4etosaytodayaboutthesportingeventsconferenceroom8and9.2334.?#$}$\"\n",
    "string8 =\"tasdfasdfaj345-24334 3412thereisl3.4etosaytodayaboutthesportingeventsconferenceroom8and9.2334.?#$}$\"\n",
    "string9 =\"tasdfasdfaj3-2439934-3412thereisl3.4etosaytodayaboutthesportingeventsconferenceroom8and9.2334.?#$}$\"\n",
    "string10 =\"tasdfasdfaj818-243-3412thereisl3.4456etosaytodayaboutthesportingeventsconferenceroom8and9.2334.?#$}$\"\n",
    "string11 =\"tasdfasdfaj81 243 3412thereisl3.4456etosaytodayaboutthesportingeventsconferenceroom8and9.2334.?#$}$\"\n",
    "\n",
    "s = (string1 + string2 + string3 + string4 + string5 + string6 + string7 + string8 + string9 + string10 + string11)*50"
   ]
  },
  {
   "cell_type": "code",
   "execution_count": 10,
   "metadata": {
    "collapsed": false
   },
   "outputs": [],
   "source": [
    "# len(s) "
   ]
  },
  {
   "cell_type": "markdown",
   "metadata": {},
   "source": [
    "### Please locate all instances of the following numerical patterns (sequence important):\n",
    "- 0 to 3 digits \n",
    "- space or dash\n",
    "- 3 to 7 digits\n",
    "- space or dash\n",
    "- 4 digits\n",
    "\n",
    "Q1: How many did you find? <br>\n",
    "Q2:  How many unique sequences did you isolate?"
   ]
  },
  {
   "cell_type": "code",
   "execution_count": null,
   "metadata": {
    "collapsed": true
   },
   "outputs": [],
   "source": []
  }
 ],
 "metadata": {
  "anaconda-cloud": {},
  "kernelspec": {
   "display_name": "Python [conda env:py27]",
   "language": "python",
   "name": "conda-env-py27-py"
  },
  "language_info": {
   "codemirror_mode": {
    "name": "ipython",
    "version": 2
   },
   "file_extension": ".py",
   "mimetype": "text/x-python",
   "name": "python",
   "nbconvert_exporter": "python",
   "pygments_lexer": "ipython2",
   "version": "2.7.12"
  }
 },
 "nbformat": 4,
 "nbformat_minor": 0
}
