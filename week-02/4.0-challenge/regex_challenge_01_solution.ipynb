{
 "cells": [
  {
   "cell_type": "code",
   "execution_count": 58,
   "metadata": {
    "collapsed": false
   },
   "outputs": [],
   "source": [
    "import re\n",
    "\n",
    "string1 = \"Unpacked reserved sir offering bed judgment may and quitting speaking. Is do be improved raptures offering required in replying raillery. Stairs ladies friend by in mutual an no. Mr hence chief he cause. Whole no doors on hoped. Mile tell if help they ye full name.\"\n",
    "string2 =\"Real sold my in call. Invitation on an advantages collecting. But event old above shy bed noisy. Had sister see wooded favour income has. Stuff rapid since do as hence. Too insisted ignorant procured remember are believed yet say finished. \"\n",
    "string3 = \"By impossible of in difficulty discovered celebrated ye. Justice joy manners boy met resolve produce. Bed head loud next plan rent had easy add him. As earnestly shameless elsewhere defective estimable fulfilled of. Esteem my advice it an excuse enable. Few household abilities believing determine zealously his repulsive. To open draw dear be by side like. 2Use securing confined his shutters. Delightful as he it acceptance an solicitude discretion reasonably. Carriage we husbands advanced an perceive greatest. Totally dearest expense on demesne ye he. Curiosity excellent commanded in me. Unpleasing impression themselves to at assistance acceptance my or. On consider laughter civility offended oh.\" \n",
    "string4 =\"tasdfasdfaj324 345-3433-3412thereisl3.4etosaytodayaboutthesportingeventsconferenceroom8and9.2334.?#$}$\"\n",
    "string5 =\"tasdfasdfaj324-345-3433-3412thereisl3.4etosaytodayaboutthesportingeventsconferenceroom8and9.2334.?#$}$\"\n",
    "string6 =\"tasdfasdfaj324 345-34-3412thereisl3.4etosaytodayaboutthesportingeventsconferenceroom8and9.2334.?#$}$\"\n",
    "string7 =\"tasdfasdfaj324-345-24334-3412thereisl3.4etosaytodayaboutthesportingeventsconferenceroom8and9.2334.?#$}$\"\n",
    "string8 =\"tasdfasdfaj345324334 3412thereisl3.4etosaytodayaboutthesportingeventsconferenceroom8and9.2334.?#$}$\"\n",
    "string9 =\"tasdfasdfaj3-2439934-3412thereisl3.4etosaytodayaboutthesportingeventsconferenceroom8and9.2334.?#$}$\"\n",
    "string10 =\"tasdfasdfaj818-243-3412thereisl3.4456etosaytodayaboutthesportingeventsconferenceroom8and9.2334.?#$}$\"\n",
    "string11 =\"tasdfasdfaj81 243 3412thereisl3.4456etosaytodayaboutthesportingeventsconferenceroom8and9.2334.?#$}$\"\n",
    "\n",
    "s = (string1 + string2 + string3 + string4 + string5 + string6 + string7 + string8 + string9 + string10 + string11)*50"
   ]
  },
  {
   "cell_type": "markdown",
   "metadata": {},
   "source": [
    "Please locate all instances of the following numerical patterns (sequence important):\n",
    "- 0 to 3 digits\n",
    "- space or dash\n",
    "- 3 to 7 digits\n",
    "- space or dash\n",
    "- 4 digits\n",
    "\n",
    "Q1: How many did you find? \n",
    "Q2: How many unique sequences did you isolate?"
   ]
  },
  {
   "cell_type": "code",
   "execution_count": 59,
   "metadata": {
    "collapsed": false
   },
   "outputs": [
    {
     "data": {
      "text/plain": [
       "'324-335-3412'"
      ]
     },
     "execution_count": 59,
     "metadata": {},
     "output_type": "execute_result"
    }
   ],
   "source": [
    "# Let's start with a simple example:\n",
    "\n",
    "import re\n",
    "\n",
    "def phone_home(x):\n",
    "    m = re.search('\\d\\d\\d\\-\\d\\d\\d\\\\-\\d\\d\\d\\d', string)\n",
    "    if m:\n",
    "        return m.group()\n",
    "\n",
    "string = \"tasdfasdfaj324-335-3412thereisl3.4etosaytodayaboutthesportingeventsconferenceroom8and9.2334.?#$}$\"\n",
    "\n",
    "phone_home(s)"
   ]
  },
  {
   "cell_type": "markdown",
   "metadata": {},
   "source": [
    "<b> Now, let's compile the more difficult question at hand.  The required regex pattern needs to be consistent with the given instructions, whereby </b>\n",
    "\n",
    "####piece1 = \\d{0,3} = 'nothing' or [0-9] or [0-9][0-9] or [0-9][0-9][0-9]\n",
    "####piece2 = [- ]?\n",
    "####piece3 = \\d{3,7}\n",
    "####piece4 = [- ]?\n",
    "####piece5 = \\d{4}"
   ]
  },
  {
   "cell_type": "code",
   "execution_count": 60,
   "metadata": {
    "collapsed": true
   },
   "outputs": [],
   "source": [
    "# Here are two examples of patterns that work:\n",
    "\n",
    "pattern = re.compile(r'\\d{0,3}[- \\s]?\\d{3,7}[- \\s]?\\d{4}') # note that the ? means no space necessary\n",
    "\n",
    "# pattern = re.compile(r'\\d{1,3}[- ]\\d{3,7}[- ]\\d{4}') # here we have spaces required"
   ]
  },
  {
   "cell_type": "code",
   "execution_count": 61,
   "metadata": {
    "collapsed": false
   },
   "outputs": [
    {
     "data": {
      "text/plain": [
       "{'3-2439934-3412',\n",
       " '324 345-3433',\n",
       " '324-345-2433',\n",
       " '324-345-3433',\n",
       " '345324334 3412',\n",
       " '81 243 3412',\n",
       " '818-243-3412'}"
      ]
     },
     "execution_count": 61,
     "metadata": {},
     "output_type": "execute_result"
    }
   ],
   "source": [
    "# using python's set(), we should be able to isolate the 7 different patterns\n",
    "# note that 324-345-24334-3412 was not chosen because there are 5 digits in the third position\n",
    "# rather than 4 digits as required by the pattern\n",
    "\n",
    "(set(pattern.findall(s))) # 7 patterns"
   ]
  },
  {
   "cell_type": "code",
   "execution_count": 62,
   "metadata": {
    "collapsed": false
   },
   "outputs": [
    {
     "data": {
      "text/plain": [
       "350"
      ]
     },
     "execution_count": 62,
     "metadata": {},
     "output_type": "execute_result"
    }
   ],
   "source": [
    "# there were 350 separate instances as expected (7 * 50)\n",
    "\n",
    "len(pattern.findall(s))"
   ]
  },
  {
   "cell_type": "code",
   "execution_count": null,
   "metadata": {
    "collapsed": true
   },
   "outputs": [],
   "source": []
  }
 ],
 "metadata": {
  "kernelspec": {
   "display_name": "Python 2",
   "language": "python",
   "name": "python2"
  },
  "language_info": {
   "codemirror_mode": {
    "name": "ipython",
    "version": 2
   },
   "file_extension": ".py",
   "mimetype": "text/x-python",
   "name": "python",
   "nbconvert_exporter": "python",
   "pygments_lexer": "ipython2",
   "version": "2.7.11"
  },
  "widgets": {
   "state": {},
   "version": "1.1.2"
  }
 },
 "nbformat": 4,
 "nbformat_minor": 0
}
