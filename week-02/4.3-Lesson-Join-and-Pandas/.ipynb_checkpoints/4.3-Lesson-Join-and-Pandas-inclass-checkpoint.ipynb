{
 "cells": [
  {
   "cell_type": "code",
   "execution_count": 1,
   "metadata": {
    "collapsed": true
   },
   "outputs": [],
   "source": [
    "import pandas as pd"
   ]
  },
  {
   "cell_type": "markdown",
   "metadata": {},
   "source": [
    "# ![](https://ga-dash.s3.amazonaws.com/production/assets/logo-9f88ae6c9c3871690e33280fcf557f33.png) Joins & Pandas\n",
    "Week 2 | Lesson 4.3\n",
    "\n",
    "### LEARNING OBJECTIVES\n",
    "*After this lesson, you will be able to:*\n",
    "- Join data via concat\n",
    "- Do left, right, inner, and outer joins"
   ]
  },
  {
   "cell_type": "markdown",
   "metadata": {},
   "source": [
    "<a name=\"Concatenate & Join\"></a>\n",
    "### Introduction: Concatenate & Joins (5 mins)\n",
    "\n",
    "\n",
    "## Concatenate\n",
    "\n",
    "Concatenate means to chain together.\n",
    "\n",
    "![](assets/images/chain.gif)"
   ]
  },
  {
   "cell_type": "markdown",
   "metadata": {},
   "source": [
    "## Join \n",
    "\n",
    "In the context of data, join means to combine columns from separate tables or dataframes.\n",
    "\n",
    "<img src='assets/images/vader.gif' title='Join Me, Luke!' width=\"600px\">\n"
   ]
  },
  {
   "cell_type": "markdown",
   "metadata": {},
   "source": [
    "<a name=\"Concatenate\"></a>\n",
    "## Demo / Guided Practice: Concatenation (12 mins)\n",
    "\n",
    "We use concatenation to combine two different sets of instances into one table/dataframe.\n",
    "\n",
    "\n",
    "<img src='assets/images/concat_tetris.png' width=600px>"
   ]
  },
  {
   "cell_type": "code",
   "execution_count": 2,
   "metadata": {
    "collapsed": false,
    "scrolled": true
   },
   "outputs": [],
   "source": [
    "original_trilogy = pd.DataFrame({    'title': ['Star Wars', 'The Empire Strikes Back', 'Return of the Jedi'],\n",
    "                                      'year': [1977, 1980, 1983],\n",
    "                                  'director': ['George Lucas', 'Irvin Kershner', 'Richard Marquand'],\n",
    "                                 'producers': ['Gary Kurtz', 'Gary Kurtz', 'Howard Kazanjian'],\n",
    "                                     'style': ['motion picture', 'motion picture', 'motion picture']},\n",
    "                                       index=['IV', 'V', 'VI'])\n",
    "\n",
    "prequel_trilogy  = pd.DataFrame({    'title': ['The Phantom Menace', 'Attack of the Clones', 'Revenge of the Sith'],\n",
    "                                      'year': [1999, 2002, 2005],\n",
    "                                  'director': ['George Lucas', 'George Lucas', 'George Lucas'],\n",
    "                                 'producers': ['Rick McCallum', 'Rick McCallum', 'Rick McCallum'],\n",
    "                                     'style': ['motion picture', 'motion picture', 'motion picture']},\n",
    "                                       index=['I', 'II', 'III'])\n",
    "\n",
    "sequel_trilogy   = pd.DataFrame({    'title': ['The Force Awakens'],\n",
    "                                      'year': [2015],\n",
    "                                 'director' : ['J.J. Abrams'],\n",
    "                                 'producers': ['J.J. Abrams, Bryan Burk, Kathleen Kennedy'],\n",
    "                                     'style': ['motion picture']},\n",
    "                                       index=['VII'])"
   ]
  },
  {
   "cell_type": "markdown",
   "metadata": {},
   "source": [
    "Concatenate:"
   ]
  },
  {
   "cell_type": "code",
   "execution_count": null,
   "metadata": {
    "collapsed": true
   },
   "outputs": [],
   "source": []
  },
  {
   "cell_type": "code",
   "execution_count": 3,
   "metadata": {
    "collapsed": false
   },
   "outputs": [
    {
     "data": {
      "text/html": [
       "<div>\n",
       "<table border=\"1\" class=\"dataframe\">\n",
       "  <thead>\n",
       "    <tr style=\"text-align: right;\">\n",
       "      <th></th>\n",
       "      <th>director</th>\n",
       "      <th>producers</th>\n",
       "      <th>style</th>\n",
       "      <th>title</th>\n",
       "      <th>year</th>\n",
       "    </tr>\n",
       "  </thead>\n",
       "  <tbody>\n",
       "    <tr>\n",
       "      <th>IV</th>\n",
       "      <td>George Lucas</td>\n",
       "      <td>Gary Kurtz</td>\n",
       "      <td>motion picture</td>\n",
       "      <td>Star Wars</td>\n",
       "      <td>1977</td>\n",
       "    </tr>\n",
       "    <tr>\n",
       "      <th>V</th>\n",
       "      <td>Irvin Kershner</td>\n",
       "      <td>Gary Kurtz</td>\n",
       "      <td>motion picture</td>\n",
       "      <td>The Empire Strikes Back</td>\n",
       "      <td>1980</td>\n",
       "    </tr>\n",
       "    <tr>\n",
       "      <th>VI</th>\n",
       "      <td>Richard Marquand</td>\n",
       "      <td>Howard Kazanjian</td>\n",
       "      <td>motion picture</td>\n",
       "      <td>Return of the Jedi</td>\n",
       "      <td>1983</td>\n",
       "    </tr>\n",
       "    <tr>\n",
       "      <th>I</th>\n",
       "      <td>George Lucas</td>\n",
       "      <td>Rick McCallum</td>\n",
       "      <td>motion picture</td>\n",
       "      <td>The Phantom Menace</td>\n",
       "      <td>1999</td>\n",
       "    </tr>\n",
       "    <tr>\n",
       "      <th>II</th>\n",
       "      <td>George Lucas</td>\n",
       "      <td>Rick McCallum</td>\n",
       "      <td>motion picture</td>\n",
       "      <td>Attack of the Clones</td>\n",
       "      <td>2002</td>\n",
       "    </tr>\n",
       "    <tr>\n",
       "      <th>III</th>\n",
       "      <td>George Lucas</td>\n",
       "      <td>Rick McCallum</td>\n",
       "      <td>motion picture</td>\n",
       "      <td>Revenge of the Sith</td>\n",
       "      <td>2005</td>\n",
       "    </tr>\n",
       "    <tr>\n",
       "      <th>VII</th>\n",
       "      <td>J.J. Abrams</td>\n",
       "      <td>J.J. Abrams, Bryan Burk, Kathleen Kennedy</td>\n",
       "      <td>motion picture</td>\n",
       "      <td>The Force Awakens</td>\n",
       "      <td>2015</td>\n",
       "    </tr>\n",
       "  </tbody>\n",
       "</table>\n",
       "</div>"
      ],
      "text/plain": [
       "             director                                  producers  \\\n",
       "IV       George Lucas                                 Gary Kurtz   \n",
       "V      Irvin Kershner                                 Gary Kurtz   \n",
       "VI   Richard Marquand                           Howard Kazanjian   \n",
       "I        George Lucas                              Rick McCallum   \n",
       "II       George Lucas                              Rick McCallum   \n",
       "III      George Lucas                              Rick McCallum   \n",
       "VII       J.J. Abrams  J.J. Abrams, Bryan Burk, Kathleen Kennedy   \n",
       "\n",
       "              style                    title  year  \n",
       "IV   motion picture                Star Wars  1977  \n",
       "V    motion picture  The Empire Strikes Back  1980  \n",
       "VI   motion picture       Return of the Jedi  1983  \n",
       "I    motion picture       The Phantom Menace  1999  \n",
       "II   motion picture     Attack of the Clones  2002  \n",
       "III  motion picture      Revenge of the Sith  2005  \n",
       "VII  motion picture        The Force Awakens  2015  "
      ]
     },
     "execution_count": 3,
     "metadata": {},
     "output_type": "execute_result"
    }
   ],
   "source": [
    "dataframes = [original_trilogy, prequel_trilogy, sequel_trilogy]\n",
    "star_wars_feature_films_dataframe = pd.concat(dataframes)\n",
    "star_wars_feature_films_dataframe"
   ]
  },
  {
   "cell_type": "markdown",
   "metadata": {},
   "source": [
    "## Vaders"
   ]
  },
  {
   "cell_type": "code",
   "execution_count": 11,
   "metadata": {
    "collapsed": false
   },
   "outputs": [
    {
     "data": {
      "text/html": [
       "<div>\n",
       "<table border=\"1\" class=\"dataframe\">\n",
       "  <thead>\n",
       "    <tr style=\"text-align: right;\">\n",
       "      <th></th>\n",
       "      <th>darth_vader_actor</th>\n",
       "      <th>darth_vader_voice</th>\n",
       "      <th>title</th>\n",
       "      <th>year</th>\n",
       "    </tr>\n",
       "  </thead>\n",
       "  <tbody>\n",
       "    <tr>\n",
       "      <th>0</th>\n",
       "      <td>Jake Lloyd</td>\n",
       "      <td>Jake Lloyd</td>\n",
       "      <td>The Phantom Menace</td>\n",
       "      <td>1000</td>\n",
       "    </tr>\n",
       "    <tr>\n",
       "      <th>1</th>\n",
       "      <td>Hayden Christensen</td>\n",
       "      <td>Hayden Christensen</td>\n",
       "      <td>Attack of the Clones</td>\n",
       "      <td>1001</td>\n",
       "    </tr>\n",
       "    <tr>\n",
       "      <th>2</th>\n",
       "      <td>N/A</td>\n",
       "      <td>Matt Lanter</td>\n",
       "      <td>The Clone Wars</td>\n",
       "      <td>1002</td>\n",
       "    </tr>\n",
       "    <tr>\n",
       "      <th>3</th>\n",
       "      <td>Hayden Christensen</td>\n",
       "      <td>Hayden Christensen</td>\n",
       "      <td>Revenge of the Sith</td>\n",
       "      <td>1999</td>\n",
       "    </tr>\n",
       "    <tr>\n",
       "      <th>4</th>\n",
       "      <td>David Prowse</td>\n",
       "      <td>James Earl Jones</td>\n",
       "      <td>Star Wars</td>\n",
       "      <td>1002</td>\n",
       "    </tr>\n",
       "    <tr>\n",
       "      <th>5</th>\n",
       "      <td>David Prowse</td>\n",
       "      <td>James Earl Jones</td>\n",
       "      <td>The Empire Strikes Back</td>\n",
       "      <td>2002</td>\n",
       "    </tr>\n",
       "    <tr>\n",
       "      <th>6</th>\n",
       "      <td>David Prowse</td>\n",
       "      <td>James Earl Jones</td>\n",
       "      <td>Return of the Jedi</td>\n",
       "      <td>2005</td>\n",
       "    </tr>\n",
       "  </tbody>\n",
       "</table>\n",
       "</div>"
      ],
      "text/plain": [
       "    darth_vader_actor   darth_vader_voice                    title  year\n",
       "0          Jake Lloyd          Jake Lloyd       The Phantom Menace  1000\n",
       "1  Hayden Christensen  Hayden Christensen     Attack of the Clones  1001\n",
       "2                 N/A         Matt Lanter           The Clone Wars  1002\n",
       "3  Hayden Christensen  Hayden Christensen      Revenge of the Sith  1999\n",
       "4        David Prowse    James Earl Jones                Star Wars  1002\n",
       "5        David Prowse    James Earl Jones  The Empire Strikes Back  2002\n",
       "6        David Prowse    James Earl Jones       Return of the Jedi  2005"
      ]
     },
     "execution_count": 11,
     "metadata": {},
     "output_type": "execute_result"
    }
   ],
   "source": [
    "darth_vader = { 'darth_vader_actor': ['Jake Lloyd','Hayden Christensen', 'N/A','Hayden Christensen','David Prowse','David Prowse','David Prowse'],\n",
    "                'darth_vader_voice': ['Jake Lloyd','Hayden Christensen', 'Matt Lanter', 'Hayden Christensen','James Earl Jones','James Earl Jones','James Earl Jones'],\n",
    "                'year' : [1000,1001,1002,1999, 1002,2002, 2005],\n",
    "                'title': ['The Phantom Menace', 'Attack of the Clones', 'The Clone Wars', 'Revenge of the Sith', 'Star Wars', 'The Empire Strikes Back', 'Return of the Jedi']}\n",
    "darth_vader_dataframe = pd.DataFrame(darth_vader, \n",
    "                                     columns=['darth_vader_actor', 'darth_vader_voice', 'title', 'year'])\n",
    "darth_vader_dataframe"
   ]
  },
  {
   "cell_type": "markdown",
   "metadata": {},
   "source": [
    "<a name=\"Left and right joins\"></a>\n",
    "## Demo / Guided Practice: Joins (25 mins)\n",
    "\n",
    "### Left Join \n",
    "\n",
    "The `LEFT JOIN` keyword returns all rows from the left table (table1), with the matching rows in the right table (table2). \n",
    "\n",
    "The result is `NULL` in the right side when there is no match.\n",
    "\n",
    "\n",
    "#### in SQL\n",
    "\n",
    "```\n",
    "SELECT *\n",
    "FROM star_wars_feature_films\n",
    "LEFT JOIN darth_vader\n",
    "ON title;\n",
    "```\n",
    "\n",
    "#### Visualized\n",
    "\n",
    "<img src='assets/images/left_join.png' width=600px>"
   ]
  },
  {
   "cell_type": "markdown",
   "metadata": {},
   "source": [
    "### Each Film and its Vader"
   ]
  },
  {
   "cell_type": "markdown",
   "metadata": {},
   "source": [
    "Here we use `pd.merge` with `how=left` to perform a left join of `star_wars_feature_films_dataframe` and\n",
    "`darth_vader_dataframe` on the feature `title`. \n",
    "\n",
    "This produces a complete set of records from `star_wars_feature_films_dataframe`, with the matching records (where available) in `darth_vader_dataframe`. \n",
    "\n",
    "If there is no match, the right side will contain `NaN`."
   ]
  },
  {
   "cell_type": "code",
   "execution_count": 15,
   "metadata": {
    "collapsed": false,
    "scrolled": true
   },
   "outputs": [
    {
     "data": {
      "text/html": [
       "<div>\n",
       "<table border=\"1\" class=\"dataframe\">\n",
       "  <thead>\n",
       "    <tr style=\"text-align: right;\">\n",
       "      <th></th>\n",
       "      <th>director</th>\n",
       "      <th>producers</th>\n",
       "      <th>style</th>\n",
       "      <th>title</th>\n",
       "      <th>year_x</th>\n",
       "      <th>darth_vader_actor</th>\n",
       "      <th>darth_vader_voice</th>\n",
       "      <th>year_y</th>\n",
       "    </tr>\n",
       "  </thead>\n",
       "  <tbody>\n",
       "    <tr>\n",
       "      <th>IV</th>\n",
       "      <td>George Lucas</td>\n",
       "      <td>Gary Kurtz</td>\n",
       "      <td>motion picture</td>\n",
       "      <td>Star Wars</td>\n",
       "      <td>1977</td>\n",
       "      <td>David Prowse</td>\n",
       "      <td>James Earl Jones</td>\n",
       "      <td>1002.0</td>\n",
       "    </tr>\n",
       "    <tr>\n",
       "      <th>V</th>\n",
       "      <td>Irvin Kershner</td>\n",
       "      <td>Gary Kurtz</td>\n",
       "      <td>motion picture</td>\n",
       "      <td>The Empire Strikes Back</td>\n",
       "      <td>1980</td>\n",
       "      <td>David Prowse</td>\n",
       "      <td>James Earl Jones</td>\n",
       "      <td>2002.0</td>\n",
       "    </tr>\n",
       "    <tr>\n",
       "      <th>VI</th>\n",
       "      <td>Richard Marquand</td>\n",
       "      <td>Howard Kazanjian</td>\n",
       "      <td>motion picture</td>\n",
       "      <td>Return of the Jedi</td>\n",
       "      <td>1983</td>\n",
       "      <td>David Prowse</td>\n",
       "      <td>James Earl Jones</td>\n",
       "      <td>2005.0</td>\n",
       "    </tr>\n",
       "    <tr>\n",
       "      <th>I</th>\n",
       "      <td>George Lucas</td>\n",
       "      <td>Rick McCallum</td>\n",
       "      <td>motion picture</td>\n",
       "      <td>The Phantom Menace</td>\n",
       "      <td>1999</td>\n",
       "      <td>Jake Lloyd</td>\n",
       "      <td>Jake Lloyd</td>\n",
       "      <td>1000.0</td>\n",
       "    </tr>\n",
       "    <tr>\n",
       "      <th>II</th>\n",
       "      <td>George Lucas</td>\n",
       "      <td>Rick McCallum</td>\n",
       "      <td>motion picture</td>\n",
       "      <td>Attack of the Clones</td>\n",
       "      <td>2002</td>\n",
       "      <td>Hayden Christensen</td>\n",
       "      <td>Hayden Christensen</td>\n",
       "      <td>1001.0</td>\n",
       "    </tr>\n",
       "    <tr>\n",
       "      <th>III</th>\n",
       "      <td>George Lucas</td>\n",
       "      <td>Rick McCallum</td>\n",
       "      <td>motion picture</td>\n",
       "      <td>Revenge of the Sith</td>\n",
       "      <td>2005</td>\n",
       "      <td>Hayden Christensen</td>\n",
       "      <td>Hayden Christensen</td>\n",
       "      <td>1999.0</td>\n",
       "    </tr>\n",
       "    <tr>\n",
       "      <th>VII</th>\n",
       "      <td>J.J. Abrams</td>\n",
       "      <td>J.J. Abrams, Bryan Burk, Kathleen Kennedy</td>\n",
       "      <td>motion picture</td>\n",
       "      <td>The Force Awakens</td>\n",
       "      <td>2015</td>\n",
       "      <td>NaN</td>\n",
       "      <td>NaN</td>\n",
       "      <td>NaN</td>\n",
       "    </tr>\n",
       "  </tbody>\n",
       "</table>\n",
       "</div>"
      ],
      "text/plain": [
       "             director                                  producers  \\\n",
       "IV       George Lucas                                 Gary Kurtz   \n",
       "V      Irvin Kershner                                 Gary Kurtz   \n",
       "VI   Richard Marquand                           Howard Kazanjian   \n",
       "I        George Lucas                              Rick McCallum   \n",
       "II       George Lucas                              Rick McCallum   \n",
       "III      George Lucas                              Rick McCallum   \n",
       "VII       J.J. Abrams  J.J. Abrams, Bryan Burk, Kathleen Kennedy   \n",
       "\n",
       "              style                    title  year_x   darth_vader_actor  \\\n",
       "IV   motion picture                Star Wars    1977        David Prowse   \n",
       "V    motion picture  The Empire Strikes Back    1980        David Prowse   \n",
       "VI   motion picture       Return of the Jedi    1983        David Prowse   \n",
       "I    motion picture       The Phantom Menace    1999          Jake Lloyd   \n",
       "II   motion picture     Attack of the Clones    2002  Hayden Christensen   \n",
       "III  motion picture      Revenge of the Sith    2005  Hayden Christensen   \n",
       "VII  motion picture        The Force Awakens    2015                 NaN   \n",
       "\n",
       "      darth_vader_voice  year_y  \n",
       "IV     James Earl Jones  1002.0  \n",
       "V      James Earl Jones  2002.0  \n",
       "VI     James Earl Jones  2005.0  \n",
       "I            Jake Lloyd  1000.0  \n",
       "II   Hayden Christensen  1001.0  \n",
       "III  Hayden Christensen  1999.0  \n",
       "VII                 NaN     NaN  "
      ]
     },
     "execution_count": 15,
     "metadata": {},
     "output_type": "execute_result"
    }
   ],
   "source": [
    "sw_df = pd.merge(star_wars_feature_films_dataframe, darth_vader_dataframe, on='title', how='left')\n",
    "sw_df.index = star_wars_feature_films_dataframe.index\n",
    "sw_df"
   ]
  },
  {
   "cell_type": "markdown",
   "metadata": {},
   "source": [
    "### Right Join\n",
    "\n",
    "The RIGHT JOIN keyword returns all rows from the right table (table2), with the matching rows in the left table (table1). \n",
    "\n",
    "The result is NULL in the left side when there is no match.\n",
    "\n",
    "#### in SQL\n",
    "\n",
    "```\n",
    "SELECT *\n",
    "FROM star_wars_feature_films\n",
    "RIGHT JOIN darth_vader\n",
    "ON title;\n",
    "```\n",
    "\n",
    "#### Visualized\n",
    "\n",
    "<img src='assets/images/right_join.png' width=600px>\n"
   ]
  },
  {
   "cell_type": "markdown",
   "metadata": {},
   "source": [
    "### Each Vader and its Film\n",
    "\n",
    "Here we use `pd.merge` with `how=right` to perform a right join of `star_wars_feature_films_dataframe` and\n",
    "`darth_vader_dataframe` on the feature `title`. \n",
    "\n",
    "This produces a set of records from `star_wars_feature_films_dataframe`, for each record in `darth_vader_dataframe`. \n",
    "\n",
    "If there is no match, the left side will contain `NaN`."
   ]
  },
  {
   "cell_type": "code",
   "execution_count": 13,
   "metadata": {
    "collapsed": false
   },
   "outputs": [
    {
     "data": {
      "text/html": [
       "<div>\n",
       "<table border=\"1\" class=\"dataframe\">\n",
       "  <thead>\n",
       "    <tr style=\"text-align: right;\">\n",
       "      <th></th>\n",
       "      <th>director</th>\n",
       "      <th>producers</th>\n",
       "      <th>style</th>\n",
       "      <th>title</th>\n",
       "      <th>year_x</th>\n",
       "      <th>darth_vader_actor</th>\n",
       "      <th>darth_vader_voice</th>\n",
       "      <th>year_y</th>\n",
       "    </tr>\n",
       "  </thead>\n",
       "  <tbody>\n",
       "    <tr>\n",
       "      <th>0</th>\n",
       "      <td>George Lucas</td>\n",
       "      <td>Gary Kurtz</td>\n",
       "      <td>motion picture</td>\n",
       "      <td>Star Wars</td>\n",
       "      <td>1977.0</td>\n",
       "      <td>David Prowse</td>\n",
       "      <td>James Earl Jones</td>\n",
       "      <td>1002</td>\n",
       "    </tr>\n",
       "    <tr>\n",
       "      <th>1</th>\n",
       "      <td>Irvin Kershner</td>\n",
       "      <td>Gary Kurtz</td>\n",
       "      <td>motion picture</td>\n",
       "      <td>The Empire Strikes Back</td>\n",
       "      <td>1980.0</td>\n",
       "      <td>David Prowse</td>\n",
       "      <td>James Earl Jones</td>\n",
       "      <td>2002</td>\n",
       "    </tr>\n",
       "    <tr>\n",
       "      <th>2</th>\n",
       "      <td>Richard Marquand</td>\n",
       "      <td>Howard Kazanjian</td>\n",
       "      <td>motion picture</td>\n",
       "      <td>Return of the Jedi</td>\n",
       "      <td>1983.0</td>\n",
       "      <td>David Prowse</td>\n",
       "      <td>James Earl Jones</td>\n",
       "      <td>2005</td>\n",
       "    </tr>\n",
       "    <tr>\n",
       "      <th>3</th>\n",
       "      <td>George Lucas</td>\n",
       "      <td>Rick McCallum</td>\n",
       "      <td>motion picture</td>\n",
       "      <td>The Phantom Menace</td>\n",
       "      <td>1999.0</td>\n",
       "      <td>Jake Lloyd</td>\n",
       "      <td>Jake Lloyd</td>\n",
       "      <td>1000</td>\n",
       "    </tr>\n",
       "    <tr>\n",
       "      <th>4</th>\n",
       "      <td>George Lucas</td>\n",
       "      <td>Rick McCallum</td>\n",
       "      <td>motion picture</td>\n",
       "      <td>Attack of the Clones</td>\n",
       "      <td>2002.0</td>\n",
       "      <td>Hayden Christensen</td>\n",
       "      <td>Hayden Christensen</td>\n",
       "      <td>1001</td>\n",
       "    </tr>\n",
       "    <tr>\n",
       "      <th>5</th>\n",
       "      <td>George Lucas</td>\n",
       "      <td>Rick McCallum</td>\n",
       "      <td>motion picture</td>\n",
       "      <td>Revenge of the Sith</td>\n",
       "      <td>2005.0</td>\n",
       "      <td>Hayden Christensen</td>\n",
       "      <td>Hayden Christensen</td>\n",
       "      <td>1999</td>\n",
       "    </tr>\n",
       "    <tr>\n",
       "      <th>6</th>\n",
       "      <td>NaN</td>\n",
       "      <td>NaN</td>\n",
       "      <td>NaN</td>\n",
       "      <td>The Clone Wars</td>\n",
       "      <td>NaN</td>\n",
       "      <td>N/A</td>\n",
       "      <td>Matt Lanter</td>\n",
       "      <td>1002</td>\n",
       "    </tr>\n",
       "  </tbody>\n",
       "</table>\n",
       "</div>"
      ],
      "text/plain": [
       "           director         producers           style  \\\n",
       "0      George Lucas        Gary Kurtz  motion picture   \n",
       "1    Irvin Kershner        Gary Kurtz  motion picture   \n",
       "2  Richard Marquand  Howard Kazanjian  motion picture   \n",
       "3      George Lucas     Rick McCallum  motion picture   \n",
       "4      George Lucas     Rick McCallum  motion picture   \n",
       "5      George Lucas     Rick McCallum  motion picture   \n",
       "6               NaN               NaN             NaN   \n",
       "\n",
       "                     title  year_x   darth_vader_actor   darth_vader_voice  \\\n",
       "0                Star Wars  1977.0        David Prowse    James Earl Jones   \n",
       "1  The Empire Strikes Back  1980.0        David Prowse    James Earl Jones   \n",
       "2       Return of the Jedi  1983.0        David Prowse    James Earl Jones   \n",
       "3       The Phantom Menace  1999.0          Jake Lloyd          Jake Lloyd   \n",
       "4     Attack of the Clones  2002.0  Hayden Christensen  Hayden Christensen   \n",
       "5      Revenge of the Sith  2005.0  Hayden Christensen  Hayden Christensen   \n",
       "6           The Clone Wars     NaN                 N/A         Matt Lanter   \n",
       "\n",
       "   year_y  \n",
       "0    1002  \n",
       "1    2002  \n",
       "2    2005  \n",
       "3    1000  \n",
       "4    1001  \n",
       "5    1999  \n",
       "6    1002  "
      ]
     },
     "execution_count": 13,
     "metadata": {},
     "output_type": "execute_result"
    }
   ],
   "source": [
    "pd.merge(star_wars_feature_films_dataframe, darth_vader_dataframe, on='title', how='right')"
   ]
  },
  {
   "cell_type": "markdown",
   "metadata": {},
   "source": [
    "<a name=\"Outer and inner joins\"></a>\n",
    "## Demo / Guided Practice: Outer and inner joins (25 mins)\n",
    "\n",
    "### Inner Join \n",
    "\n",
    "The `INNER JOIN` keyword selects all rows from both tables as long as there is a match between the columns in both tables.\n",
    "\n",
    "\n",
    "#### in SQL\n",
    "\n",
    "```\n",
    "SELECT *\n",
    "FROM star_wars_feature_films\n",
    "INNER JOIN darth_vader\n",
    "ON title;\n",
    "```\n",
    "\n",
    "#### Visualized\n",
    "\n",
    "<img src='assets/images/inner_join.png' width=600px>\n"
   ]
  },
  {
   "cell_type": "markdown",
   "metadata": {},
   "source": [
    "### Films With Vader\n",
    "\n",
    "Here we use `pd.merge` with `how=inner` to perform an inner join of `star_wars_feature_films_dataframe` and\n",
    "`darth_vader_dataframe` on the feature `title`. \n",
    "\n",
    "This produces a set of records where there is a match for both `star_wars_feature_films_dataframe` and `darth_vader_dataframe`. "
   ]
  },
  {
   "cell_type": "code",
   "execution_count": 7,
   "metadata": {
    "collapsed": false
   },
   "outputs": [
    {
     "data": {
      "text/html": [
       "<div>\n",
       "<table border=\"1\" class=\"dataframe\">\n",
       "  <thead>\n",
       "    <tr style=\"text-align: right;\">\n",
       "      <th></th>\n",
       "      <th>director</th>\n",
       "      <th>producers</th>\n",
       "      <th>style</th>\n",
       "      <th>title</th>\n",
       "      <th>year</th>\n",
       "      <th>darth_vader_actor</th>\n",
       "      <th>darth_vader_voice</th>\n",
       "    </tr>\n",
       "  </thead>\n",
       "  <tbody>\n",
       "    <tr>\n",
       "      <th>0</th>\n",
       "      <td>George Lucas</td>\n",
       "      <td>Gary Kurtz</td>\n",
       "      <td>motion picture</td>\n",
       "      <td>Star Wars</td>\n",
       "      <td>1977</td>\n",
       "      <td>David Prowse</td>\n",
       "      <td>James Earl Jones</td>\n",
       "    </tr>\n",
       "    <tr>\n",
       "      <th>1</th>\n",
       "      <td>Irvin Kershner</td>\n",
       "      <td>Gary Kurtz</td>\n",
       "      <td>motion picture</td>\n",
       "      <td>The Empire Strikes Back</td>\n",
       "      <td>1980</td>\n",
       "      <td>David Prowse</td>\n",
       "      <td>James Earl Jones</td>\n",
       "    </tr>\n",
       "    <tr>\n",
       "      <th>2</th>\n",
       "      <td>Richard Marquand</td>\n",
       "      <td>Howard Kazanjian</td>\n",
       "      <td>motion picture</td>\n",
       "      <td>Return of the Jedi</td>\n",
       "      <td>1983</td>\n",
       "      <td>David Prowse</td>\n",
       "      <td>James Earl Jones</td>\n",
       "    </tr>\n",
       "    <tr>\n",
       "      <th>3</th>\n",
       "      <td>George Lucas</td>\n",
       "      <td>Rick McCallum</td>\n",
       "      <td>motion picture</td>\n",
       "      <td>The Phantom Menace</td>\n",
       "      <td>1999</td>\n",
       "      <td>Jake Lloyd</td>\n",
       "      <td>Jake Lloyd</td>\n",
       "    </tr>\n",
       "    <tr>\n",
       "      <th>4</th>\n",
       "      <td>George Lucas</td>\n",
       "      <td>Rick McCallum</td>\n",
       "      <td>motion picture</td>\n",
       "      <td>Attack of the Clones</td>\n",
       "      <td>2002</td>\n",
       "      <td>Hayden Christensen</td>\n",
       "      <td>Hayden Christensen</td>\n",
       "    </tr>\n",
       "    <tr>\n",
       "      <th>5</th>\n",
       "      <td>George Lucas</td>\n",
       "      <td>Rick McCallum</td>\n",
       "      <td>motion picture</td>\n",
       "      <td>Revenge of the Sith</td>\n",
       "      <td>2005</td>\n",
       "      <td>Hayden Christensen</td>\n",
       "      <td>Hayden Christensen</td>\n",
       "    </tr>\n",
       "  </tbody>\n",
       "</table>\n",
       "</div>"
      ],
      "text/plain": [
       "           director         producers           style  \\\n",
       "0      George Lucas        Gary Kurtz  motion picture   \n",
       "1    Irvin Kershner        Gary Kurtz  motion picture   \n",
       "2  Richard Marquand  Howard Kazanjian  motion picture   \n",
       "3      George Lucas     Rick McCallum  motion picture   \n",
       "4      George Lucas     Rick McCallum  motion picture   \n",
       "5      George Lucas     Rick McCallum  motion picture   \n",
       "\n",
       "                     title  year   darth_vader_actor   darth_vader_voice  \n",
       "0                Star Wars  1977        David Prowse    James Earl Jones  \n",
       "1  The Empire Strikes Back  1980        David Prowse    James Earl Jones  \n",
       "2       Return of the Jedi  1983        David Prowse    James Earl Jones  \n",
       "3       The Phantom Menace  1999          Jake Lloyd          Jake Lloyd  \n",
       "4     Attack of the Clones  2002  Hayden Christensen  Hayden Christensen  \n",
       "5      Revenge of the Sith  2005  Hayden Christensen  Hayden Christensen  "
      ]
     },
     "execution_count": 7,
     "metadata": {},
     "output_type": "execute_result"
    }
   ],
   "source": [
    "pd.merge(star_wars_feature_films_dataframe, darth_vader_dataframe, on='title', how='inner')"
   ]
  },
  {
   "cell_type": "markdown",
   "metadata": {},
   "source": [
    "### Inner Join \n",
    "\n",
    "The `OUTER JOIN` keyword selects all rows from both tables.\n",
    "\n",
    "The result will be `NULL` where there is no match.\n",
    "\n",
    "#### in SQL\n",
    "\n",
    "```\n",
    "SELECT *\n",
    "FROM star_wars_feature_films\n",
    "OUTER JOIN darth_vader\n",
    "ON title;\n",
    "```\n",
    "\n",
    "#### Visualized\n",
    "\n",
    "<img src='assets/images/outer_join.png' width=600px>\n"
   ]
  },
  {
   "cell_type": "markdown",
   "metadata": {},
   "source": [
    "### Everything\n",
    "\n",
    "Here we use `pd.merge` with `how=outer` to perform an outer join of `star_wars_feature_films_dataframe` and\n",
    "`darth_vader_dataframe` on the feature `title`. \n",
    "\n",
    "This produces a set of records for every record in both `star_wars_feature_films_dataframe` and `darth_vader_dataframe`. \n",
    "\n",
    "If there is no match `NaN` will be used."
   ]
  },
  {
   "cell_type": "code",
   "execution_count": 16,
   "metadata": {
    "collapsed": false,
    "scrolled": false
   },
   "outputs": [
    {
     "data": {
      "text/html": [
       "<div>\n",
       "<table border=\"1\" class=\"dataframe\">\n",
       "  <thead>\n",
       "    <tr style=\"text-align: right;\">\n",
       "      <th></th>\n",
       "      <th>director</th>\n",
       "      <th>producers</th>\n",
       "      <th>style</th>\n",
       "      <th>title</th>\n",
       "      <th>year_x</th>\n",
       "      <th>darth_vader_actor</th>\n",
       "      <th>darth_vader_voice</th>\n",
       "      <th>year_y</th>\n",
       "    </tr>\n",
       "  </thead>\n",
       "  <tbody>\n",
       "    <tr>\n",
       "      <th>0</th>\n",
       "      <td>George Lucas</td>\n",
       "      <td>Gary Kurtz</td>\n",
       "      <td>motion picture</td>\n",
       "      <td>Star Wars</td>\n",
       "      <td>1977.0</td>\n",
       "      <td>David Prowse</td>\n",
       "      <td>James Earl Jones</td>\n",
       "      <td>1002.0</td>\n",
       "    </tr>\n",
       "    <tr>\n",
       "      <th>1</th>\n",
       "      <td>Irvin Kershner</td>\n",
       "      <td>Gary Kurtz</td>\n",
       "      <td>motion picture</td>\n",
       "      <td>The Empire Strikes Back</td>\n",
       "      <td>1980.0</td>\n",
       "      <td>David Prowse</td>\n",
       "      <td>James Earl Jones</td>\n",
       "      <td>2002.0</td>\n",
       "    </tr>\n",
       "    <tr>\n",
       "      <th>2</th>\n",
       "      <td>Richard Marquand</td>\n",
       "      <td>Howard Kazanjian</td>\n",
       "      <td>motion picture</td>\n",
       "      <td>Return of the Jedi</td>\n",
       "      <td>1983.0</td>\n",
       "      <td>David Prowse</td>\n",
       "      <td>James Earl Jones</td>\n",
       "      <td>2005.0</td>\n",
       "    </tr>\n",
       "    <tr>\n",
       "      <th>3</th>\n",
       "      <td>George Lucas</td>\n",
       "      <td>Rick McCallum</td>\n",
       "      <td>motion picture</td>\n",
       "      <td>The Phantom Menace</td>\n",
       "      <td>1999.0</td>\n",
       "      <td>Jake Lloyd</td>\n",
       "      <td>Jake Lloyd</td>\n",
       "      <td>1000.0</td>\n",
       "    </tr>\n",
       "    <tr>\n",
       "      <th>4</th>\n",
       "      <td>George Lucas</td>\n",
       "      <td>Rick McCallum</td>\n",
       "      <td>motion picture</td>\n",
       "      <td>Attack of the Clones</td>\n",
       "      <td>2002.0</td>\n",
       "      <td>Hayden Christensen</td>\n",
       "      <td>Hayden Christensen</td>\n",
       "      <td>1001.0</td>\n",
       "    </tr>\n",
       "    <tr>\n",
       "      <th>5</th>\n",
       "      <td>George Lucas</td>\n",
       "      <td>Rick McCallum</td>\n",
       "      <td>motion picture</td>\n",
       "      <td>Revenge of the Sith</td>\n",
       "      <td>2005.0</td>\n",
       "      <td>Hayden Christensen</td>\n",
       "      <td>Hayden Christensen</td>\n",
       "      <td>1999.0</td>\n",
       "    </tr>\n",
       "    <tr>\n",
       "      <th>6</th>\n",
       "      <td>J.J. Abrams</td>\n",
       "      <td>J.J. Abrams, Bryan Burk, Kathleen Kennedy</td>\n",
       "      <td>motion picture</td>\n",
       "      <td>The Force Awakens</td>\n",
       "      <td>2015.0</td>\n",
       "      <td>NaN</td>\n",
       "      <td>NaN</td>\n",
       "      <td>NaN</td>\n",
       "    </tr>\n",
       "    <tr>\n",
       "      <th>7</th>\n",
       "      <td>NaN</td>\n",
       "      <td>NaN</td>\n",
       "      <td>NaN</td>\n",
       "      <td>The Clone Wars</td>\n",
       "      <td>NaN</td>\n",
       "      <td>N/A</td>\n",
       "      <td>Matt Lanter</td>\n",
       "      <td>1002.0</td>\n",
       "    </tr>\n",
       "  </tbody>\n",
       "</table>\n",
       "</div>"
      ],
      "text/plain": [
       "           director                                  producers  \\\n",
       "0      George Lucas                                 Gary Kurtz   \n",
       "1    Irvin Kershner                                 Gary Kurtz   \n",
       "2  Richard Marquand                           Howard Kazanjian   \n",
       "3      George Lucas                              Rick McCallum   \n",
       "4      George Lucas                              Rick McCallum   \n",
       "5      George Lucas                              Rick McCallum   \n",
       "6       J.J. Abrams  J.J. Abrams, Bryan Burk, Kathleen Kennedy   \n",
       "7               NaN                                        NaN   \n",
       "\n",
       "            style                    title  year_x   darth_vader_actor  \\\n",
       "0  motion picture                Star Wars  1977.0        David Prowse   \n",
       "1  motion picture  The Empire Strikes Back  1980.0        David Prowse   \n",
       "2  motion picture       Return of the Jedi  1983.0        David Prowse   \n",
       "3  motion picture       The Phantom Menace  1999.0          Jake Lloyd   \n",
       "4  motion picture     Attack of the Clones  2002.0  Hayden Christensen   \n",
       "5  motion picture      Revenge of the Sith  2005.0  Hayden Christensen   \n",
       "6  motion picture        The Force Awakens  2015.0                 NaN   \n",
       "7             NaN           The Clone Wars     NaN                 N/A   \n",
       "\n",
       "    darth_vader_voice  year_y  \n",
       "0    James Earl Jones  1002.0  \n",
       "1    James Earl Jones  2002.0  \n",
       "2    James Earl Jones  2005.0  \n",
       "3          Jake Lloyd  1000.0  \n",
       "4  Hayden Christensen  1001.0  \n",
       "5  Hayden Christensen  1999.0  \n",
       "6                 NaN     NaN  \n",
       "7         Matt Lanter  1002.0  "
      ]
     },
     "execution_count": 16,
     "metadata": {},
     "output_type": "execute_result"
    }
   ],
   "source": [
    "pd.merge(star_wars_feature_films_dataframe, darth_vader_dataframe, on='title', how='outer')"
   ]
  },
  {
   "cell_type": "markdown",
   "metadata": {},
   "source": [
    "<a name=\"ind-practice\"></a>\n",
    "## Independent Practice: Topic (20 minutes)\n"
   ]
  },
  {
   "cell_type": "markdown",
   "metadata": {},
   "source": [
    "Practice using joins to clean up this data.\n"
   ]
  },
  {
   "cell_type": "markdown",
   "metadata": {},
   "source": [
    "Use this data to create a `state_government` `DataFrame`."
   ]
  },
  {
   "cell_type": "code",
   "execution_count": 40,
   "metadata": {
    "collapsed": true
   },
   "outputs": [],
   "source": [
    "capitals = {'Ca': 'Sacramento',\n",
    "            'Az': 'Phoenix',\n",
    "            'Nv': 'Carson City',\n",
    "            'Ut': 'Salt Lake City',\n",
    "            'Wa': 'Olympia',\n",
    "            'Or': 'Salem',\n",
    "           }\n",
    "    \n",
    "governors = {'Ca': 'Jerry Brown',\n",
    "             'Az': 'Doug Ducey',\n",
    "             'Ut': 'Gary Herbert',\n",
    "             'Or': 'Kate Brown',\n",
    "             'Wa': 'Jay Inslee',\n",
    "            }"
   ]
  },
  {
   "cell_type": "markdown",
   "metadata": {},
   "source": [
    "Use this data to create a `state_trivia` `Dataframe`."
   ]
  },
  {
   "cell_type": "code",
   "execution_count": 41,
   "metadata": {
    "collapsed": true
   },
   "outputs": [],
   "source": [
    "state_birds = {'Nv' : 'Mountain bluebird',\n",
    "               'Ut': 'California gull',\n",
    "               'Ca': 'California quail'}"
   ]
  },
  {
   "cell_type": "markdown",
   "metadata": {},
   "source": [
    "Use this data to create a `state_economic_data` `DataFrame`."
   ]
  },
  {
   "cell_type": "code",
   "execution_count": 42,
   "metadata": {
    "collapsed": false
   },
   "outputs": [],
   "source": [
    "minimum_wages = pd.DataFrame.from_dict({'Ca': 10.00,\n",
    "                                        'Az': 8.05,\n",
    "                                        'Nv' : 8.25,\n",
    "                                        'Wa': 9.47,\n",
    "                                        'Or': 9.75,}, orient='index')"
   ]
  },
  {
   "cell_type": "code",
   "execution_count": 43,
   "metadata": {
    "collapsed": false
   },
   "outputs": [
    {
     "data": {
      "text/html": [
       "<div>\n",
       "<table border=\"1\" class=\"dataframe\">\n",
       "  <thead>\n",
       "    <tr style=\"text-align: right;\">\n",
       "      <th></th>\n",
       "      <th>states</th>\n",
       "      <th>min_wage</th>\n",
       "    </tr>\n",
       "  </thead>\n",
       "  <tbody>\n",
       "    <tr>\n",
       "      <th>0</th>\n",
       "      <td>Ca</td>\n",
       "      <td>10.00</td>\n",
       "    </tr>\n",
       "    <tr>\n",
       "      <th>1</th>\n",
       "      <td>Az</td>\n",
       "      <td>8.05</td>\n",
       "    </tr>\n",
       "    <tr>\n",
       "      <th>2</th>\n",
       "      <td>Wa</td>\n",
       "      <td>9.47</td>\n",
       "    </tr>\n",
       "    <tr>\n",
       "      <th>3</th>\n",
       "      <td>Nv</td>\n",
       "      <td>8.25</td>\n",
       "    </tr>\n",
       "    <tr>\n",
       "      <th>4</th>\n",
       "      <td>Or</td>\n",
       "      <td>9.75</td>\n",
       "    </tr>\n",
       "  </tbody>\n",
       "</table>\n",
       "</div>"
      ],
      "text/plain": [
       "  states  min_wage\n",
       "0     Ca     10.00\n",
       "1     Az      8.05\n",
       "2     Wa      9.47\n",
       "3     Nv      8.25\n",
       "4     Or      9.75"
      ]
     },
     "execution_count": 43,
     "metadata": {},
     "output_type": "execute_result"
    }
   ],
   "source": [
    "minimum_wages.reset_index(inplace=True)\n",
    "minimum_wages.columns = ['states', 'min_wage']\n",
    "minimum_wages"
   ]
  },
  {
   "cell_type": "code",
   "execution_count": 48,
   "metadata": {
    "collapsed": true
   },
   "outputs": [],
   "source": [
    "minimum_wages = {'Ca': 10.00,\n",
    "                 'Az': 8.05,\n",
    "                 'Nv' : 8.25,\n",
    "                 'Wa': 9.47,\n",
    "                 'Or': 9.75,\n",
    "                }\n",
    "    \n",
    "population = {'Ut': 2.943,\n",
    "               'Ca': 39.144,\n",
    "               'Az': 6.731,\n",
    "               'Nv' : 2.839,\n",
    "               'Or': 3.97,\n",
    "               'Wa': 7.062\n",
    "              }"
   ]
  },
  {
   "cell_type": "code",
   "execution_count": 64,
   "metadata": {
    "collapsed": false
   },
   "outputs": [],
   "source": [
    "capitals_df = pd.DataFrame.from_dict(capitals, orient='index')\n",
    "governors_df = pd.DataFrame.from_dict(governors, orient='index')\n",
    "state_birds_df = pd.DataFrame.from_dict(state_birds, orient='index')\n",
    "minimum_wages_df = pd.DataFrame.from_dict(minimum_wages, orient='index')\n",
    "population_df = pd.DataFrame.from_dict(population, orient='index')"
   ]
  },
  {
   "cell_type": "code",
   "execution_count": 65,
   "metadata": {
    "collapsed": false
   },
   "outputs": [],
   "source": [
    "capitals_df.reset_index(inplace=True)\n",
    "capitals_df.columns = ['states', 'capitals']\n",
    "governors_df.reset_index(inplace=True)\n",
    "governors_df.columns = ['states', 'governors']\n",
    "state_birds_df.reset_index(inplace=True)\n",
    "state_birds_df.columns = ['states', 'birds']\n",
    "minimum_wages_df.reset_index(inplace=True)\n",
    "minimum_wages_df.columns = ['states', 'wages']\n",
    "population_df.reset_index(inplace=True)\n",
    "population_df.columns = ['states', 'populations']"
   ]
  },
  {
   "cell_type": "code",
   "execution_count": 79,
   "metadata": {
    "collapsed": false
   },
   "outputs": [
    {
     "data": {
      "text/html": [
       "<div>\n",
       "<table border=\"1\" class=\"dataframe\">\n",
       "  <thead>\n",
       "    <tr style=\"text-align: right;\">\n",
       "      <th></th>\n",
       "      <th>states</th>\n",
       "      <th>governors</th>\n",
       "    </tr>\n",
       "  </thead>\n",
       "  <tbody>\n",
       "    <tr>\n",
       "      <th>0</th>\n",
       "      <td>Ut</td>\n",
       "      <td>Gary Herbert</td>\n",
       "    </tr>\n",
       "    <tr>\n",
       "      <th>1</th>\n",
       "      <td>Ca</td>\n",
       "      <td>Jerry Brown</td>\n",
       "    </tr>\n",
       "    <tr>\n",
       "      <th>2</th>\n",
       "      <td>Az</td>\n",
       "      <td>Doug Ducey</td>\n",
       "    </tr>\n",
       "    <tr>\n",
       "      <th>3</th>\n",
       "      <td>Or</td>\n",
       "      <td>Kate Brown</td>\n",
       "    </tr>\n",
       "    <tr>\n",
       "      <th>4</th>\n",
       "      <td>Wa</td>\n",
       "      <td>Jay Inslee</td>\n",
       "    </tr>\n",
       "  </tbody>\n",
       "</table>\n",
       "</div>"
      ],
      "text/plain": [
       "  states     governors\n",
       "0     Ut  Gary Herbert\n",
       "1     Ca   Jerry Brown\n",
       "2     Az    Doug Ducey\n",
       "3     Or    Kate Brown\n",
       "4     Wa    Jay Inslee"
      ]
     },
     "execution_count": 79,
     "metadata": {},
     "output_type": "execute_result"
    }
   ],
   "source": [
    "governors_df"
   ]
  },
  {
   "cell_type": "code",
   "execution_count": 73,
   "metadata": {
    "collapsed": false
   },
   "outputs": [
    {
     "data": {
      "text/html": [
       "<div>\n",
       "<table border=\"1\" class=\"dataframe\">\n",
       "  <thead>\n",
       "    <tr style=\"text-align: right;\">\n",
       "      <th></th>\n",
       "      <th>states</th>\n",
       "      <th>wages</th>\n",
       "      <th>populations</th>\n",
       "      <th>birds</th>\n",
       "    </tr>\n",
       "  </thead>\n",
       "  <tbody>\n",
       "    <tr>\n",
       "      <th>0</th>\n",
       "      <td>Ca</td>\n",
       "      <td>10.00</td>\n",
       "      <td>39.144</td>\n",
       "      <td>California quail</td>\n",
       "    </tr>\n",
       "    <tr>\n",
       "      <th>1</th>\n",
       "      <td>Nv</td>\n",
       "      <td>8.25</td>\n",
       "      <td>2.839</td>\n",
       "      <td>Mountain bluebird</td>\n",
       "    </tr>\n",
       "    <tr>\n",
       "      <th>2</th>\n",
       "      <td>Ut</td>\n",
       "      <td>NaN</td>\n",
       "      <td>2.943</td>\n",
       "      <td>California gull</td>\n",
       "    </tr>\n",
       "  </tbody>\n",
       "</table>\n",
       "</div>"
      ],
      "text/plain": [
       "  states  wages  populations              birds\n",
       "0     Ca  10.00       39.144   California quail\n",
       "1     Nv   8.25        2.839  Mountain bluebird\n",
       "2     Ut    NaN        2.943    California gull"
      ]
     },
     "execution_count": 73,
     "metadata": {},
     "output_type": "execute_result"
    }
   ],
   "source": [
    "# Performa a Right Join to match economic data and trivia\n",
    "government_df = pd.merge(capitals_df, governors_df, how='outer')\n",
    "economic_df = pd.merge(minimum_wages_df, population_df, how='outer')\n",
    "pd.merge(economic_df, state_birds_df, how='right')"
   ]
  },
  {
   "cell_type": "code",
   "execution_count": 89,
   "metadata": {
    "collapsed": false
   },
   "outputs": [
    {
     "data": {
      "text/html": [
       "<div>\n",
       "<table border=\"1\" class=\"dataframe\">\n",
       "  <thead>\n",
       "    <tr style=\"text-align: right;\">\n",
       "      <th></th>\n",
       "      <th>states</th>\n",
       "      <th>capitals</th>\n",
       "      <th>governors</th>\n",
       "      <th>birds</th>\n",
       "      <th>populations</th>\n",
       "      <th>wages</th>\n",
       "    </tr>\n",
       "  </thead>\n",
       "  <tbody>\n",
       "    <tr>\n",
       "      <th>0</th>\n",
       "      <td>Ca</td>\n",
       "      <td>Sacramento</td>\n",
       "      <td>Jerry Brown</td>\n",
       "      <td>California quail</td>\n",
       "      <td>39.144</td>\n",
       "      <td>10.0</td>\n",
       "    </tr>\n",
       "  </tbody>\n",
       "</table>\n",
       "</div>"
      ],
      "text/plain": [
       "  states    capitals    governors             birds  populations  wages\n",
       "0     Ca  Sacramento  Jerry Brown  California quail       39.144   10.0"
      ]
     },
     "execution_count": 89,
     "metadata": {},
     "output_type": "execute_result"
    }
   ],
   "source": [
    "# Perform an Inner Join to match all states with COMPLETE data\n",
    "(capitals_df\n",
    " .merge(governors_df, how='inner')\n",
    " .merge(state_birds_df, how='inner')\n",
    " .merge(population_df, how='inner')\n",
    " .merge(minimum_wages_df, how='inner'))"
   ]
  },
  {
   "cell_type": "code",
   "execution_count": 90,
   "metadata": {
    "collapsed": false
   },
   "outputs": [
    {
     "data": {
      "text/html": [
       "<div>\n",
       "<table border=\"1\" class=\"dataframe\">\n",
       "  <thead>\n",
       "    <tr style=\"text-align: right;\">\n",
       "      <th></th>\n",
       "      <th>states</th>\n",
       "      <th>capitals</th>\n",
       "      <th>governors</th>\n",
       "      <th>birds</th>\n",
       "      <th>populations</th>\n",
       "      <th>wages</th>\n",
       "    </tr>\n",
       "  </thead>\n",
       "  <tbody>\n",
       "    <tr>\n",
       "      <th>0</th>\n",
       "      <td>Wa</td>\n",
       "      <td>Olympia</td>\n",
       "      <td>Jay Inslee</td>\n",
       "      <td>NaN</td>\n",
       "      <td>7.062</td>\n",
       "      <td>9.47</td>\n",
       "    </tr>\n",
       "    <tr>\n",
       "      <th>1</th>\n",
       "      <td>Ut</td>\n",
       "      <td>Salt Lake City</td>\n",
       "      <td>Gary Herbert</td>\n",
       "      <td>California gull</td>\n",
       "      <td>2.943</td>\n",
       "      <td>NaN</td>\n",
       "    </tr>\n",
       "    <tr>\n",
       "      <th>2</th>\n",
       "      <td>Ca</td>\n",
       "      <td>Sacramento</td>\n",
       "      <td>Jerry Brown</td>\n",
       "      <td>California quail</td>\n",
       "      <td>39.144</td>\n",
       "      <td>10.00</td>\n",
       "    </tr>\n",
       "    <tr>\n",
       "      <th>3</th>\n",
       "      <td>Az</td>\n",
       "      <td>Phoenix</td>\n",
       "      <td>Doug Ducey</td>\n",
       "      <td>NaN</td>\n",
       "      <td>6.731</td>\n",
       "      <td>8.05</td>\n",
       "    </tr>\n",
       "    <tr>\n",
       "      <th>4</th>\n",
       "      <td>Or</td>\n",
       "      <td>Salem</td>\n",
       "      <td>Kate Brown</td>\n",
       "      <td>NaN</td>\n",
       "      <td>3.970</td>\n",
       "      <td>9.75</td>\n",
       "    </tr>\n",
       "    <tr>\n",
       "      <th>5</th>\n",
       "      <td>Nv</td>\n",
       "      <td>Carson City</td>\n",
       "      <td>NaN</td>\n",
       "      <td>Mountain bluebird</td>\n",
       "      <td>2.839</td>\n",
       "      <td>8.25</td>\n",
       "    </tr>\n",
       "  </tbody>\n",
       "</table>\n",
       "</div>"
      ],
      "text/plain": [
       "  states        capitals     governors              birds  populations  wages\n",
       "0     Wa         Olympia    Jay Inslee                NaN        7.062   9.47\n",
       "1     Ut  Salt Lake City  Gary Herbert    California gull        2.943    NaN\n",
       "2     Ca      Sacramento   Jerry Brown   California quail       39.144  10.00\n",
       "3     Az         Phoenix    Doug Ducey                NaN        6.731   8.05\n",
       "4     Or           Salem    Kate Brown                NaN        3.970   9.75\n",
       "5     Nv     Carson City           NaN  Mountain bluebird        2.839   8.25"
      ]
     },
     "execution_count": 90,
     "metadata": {},
     "output_type": "execute_result"
    }
   ],
   "source": [
    "# Perform an Outer Join to prepare a DataFrame for all data \n",
    "(capitals_df\n",
    " .merge(governors_df,     how='outer')\n",
    " .merge(state_birds_df,   how='outer')\n",
    " .merge(population_df,    how='outer')\n",
    " .merge(minimum_wages_df, how='outer'))"
   ]
  },
  {
   "cell_type": "markdown",
   "metadata": {},
   "source": [
    "<a name=\"conclusion\"></a>\n",
    "## Conclusion (5 mins)\n",
    "Pair up and explain a left, a right, an inner, and an outer join to a partner.\n",
    "\n",
    "\n",
    "\n",
    "\n",
    "\n",
    "\n",
    "\n",
    "\n",
    "\n"
   ]
  },
  {
   "cell_type": "code",
   "execution_count": null,
   "metadata": {
    "collapsed": true
   },
   "outputs": [],
   "source": []
  }
 ],
 "metadata": {
  "anaconda-cloud": {},
  "kernelspec": {
   "display_name": "Python [conda env:py27]",
   "language": "python",
   "name": "conda-env-py27-py"
  },
  "language_info": {
   "codemirror_mode": {
    "name": "ipython",
    "version": 2
   },
   "file_extension": ".py",
   "mimetype": "text/x-python",
   "name": "python",
   "nbconvert_exporter": "python",
   "pygments_lexer": "ipython2",
   "version": "2.7.12"
  }
 },
 "nbformat": 4,
 "nbformat_minor": 1
}
