{
 "cells": [
  {
   "cell_type": "code",
   "execution_count": 1,
   "metadata": {
    "collapsed": true
   },
   "outputs": [],
   "source": [
    "import pandas as pd"
   ]
  },
  {
   "cell_type": "markdown",
   "metadata": {},
   "source": [
    "# ![](https://ga-dash.s3.amazonaws.com/production/assets/logo-9f88ae6c9c3871690e33280fcf557f33.png) Joins & Pandas\n",
    "Week 2 | Lesson 4.3\n",
    "\n",
    "### LEARNING OBJECTIVES\n",
    "*After this lesson, you will be able to:*\n",
    "- Join data via concat\n",
    "- Do left, right, inner, and outer joins"
   ]
  },
  {
   "cell_type": "markdown",
   "metadata": {},
   "source": [
    "<a name=\"Concatenate & Join\"></a>\n",
    "### Introduction: Concatenate & Joins (5 mins)\n",
    "\n",
    "\n",
    "## Concatenate\n",
    "\n",
    "Concatenate means to chain together.\n",
    "\n",
    "![](assets/images/chain.gif)"
   ]
  },
  {
   "cell_type": "markdown",
   "metadata": {},
   "source": [
    "## Join \n",
    "\n",
    "In the context of data, join means to combine columns from separate tables or dataframes.\n",
    "\n",
    "<img src='assets/images/vader.gif' title='Join Me, Luke!' width=\"600px\">\n"
   ]
  },
  {
   "cell_type": "markdown",
   "metadata": {},
   "source": [
    "<a name=\"Concatenate\"></a>\n",
    "## Demo / Guided Practice: Concatenation (12 mins)\n",
    "\n",
    "We use concatenation to combine two different sets of instances into one table/dataframe.\n",
    "\n",
    "\n",
    "<img src='assets/images/concat_tetris.png' width=600px>"
   ]
  },
  {
   "cell_type": "code",
   "execution_count": 3,
   "metadata": {
    "collapsed": false,
    "scrolled": true
   },
   "outputs": [],
   "source": [
    "original_trilogy = pd.DataFrame({    'title': ['Star Wars', 'The Empire Strikes Back', 'Return of the Jedi'],\n",
    "                                      'year': [1977, 1980, 1983],\n",
    "                                  'director': ['George Lucas', 'Irvin Kershner', 'Richard Marquand'],\n",
    "                                 'producers': ['Gary Kurtz', 'Gary Kurtz', 'Howard Kazanjian'],\n",
    "                                     'style': ['motion picture', 'motion picture', 'motion picture']},\n",
    "                                       index=['IV', 'V', 'VI'])\n",
    "\n",
    "prequel_trilogy  = pd.DataFrame({    'title': ['The Phantom Menace', 'Attack of the Clones', 'Revenge of the Sith'],\n",
    "                                      'year': [1999, 2002, 2005],\n",
    "                                  'director': ['George Lucas', 'George Lucas', 'George Lucas'],\n",
    "                                 'producers': ['Rick McCallum', 'Rick McCallum', 'Rick McCallum'],\n",
    "                                     'style': ['motion picture', 'motion picture', 'motion picture']},\n",
    "                                       index=['I', 'II', 'III'])\n",
    "\n",
    "sequel_trilogy   = pd.DataFrame({    'title': ['The Force Awakens'],\n",
    "                                      'year': [2015],\n",
    "                                 'director' : ['J.J. Abrams'],\n",
    "                                 'producers': ['J.J. Abrams, Bryan Burk, Kathleen Kennedy'],\n",
    "                                     'style': ['motion picture']},\n",
    "                                       index=['VII'])"
   ]
  },
  {
   "cell_type": "markdown",
   "metadata": {},
   "source": [
    "Concatenate:"
   ]
  },
  {
   "cell_type": "code",
   "execution_count": 4,
   "metadata": {
    "collapsed": false
   },
   "outputs": [
    {
     "data": {
      "text/html": [
       "<div>\n",
       "<table border=\"1\" class=\"dataframe\">\n",
       "  <thead>\n",
       "    <tr style=\"text-align: right;\">\n",
       "      <th></th>\n",
       "      <th>director</th>\n",
       "      <th>producers</th>\n",
       "      <th>style</th>\n",
       "      <th>title</th>\n",
       "      <th>year</th>\n",
       "    </tr>\n",
       "  </thead>\n",
       "  <tbody>\n",
       "    <tr>\n",
       "      <th>IV</th>\n",
       "      <td>George Lucas</td>\n",
       "      <td>Gary Kurtz</td>\n",
       "      <td>motion picture</td>\n",
       "      <td>Star Wars</td>\n",
       "      <td>1977</td>\n",
       "    </tr>\n",
       "    <tr>\n",
       "      <th>V</th>\n",
       "      <td>Irvin Kershner</td>\n",
       "      <td>Gary Kurtz</td>\n",
       "      <td>motion picture</td>\n",
       "      <td>The Empire Strikes Back</td>\n",
       "      <td>1980</td>\n",
       "    </tr>\n",
       "    <tr>\n",
       "      <th>VI</th>\n",
       "      <td>Richard Marquand</td>\n",
       "      <td>Howard Kazanjian</td>\n",
       "      <td>motion picture</td>\n",
       "      <td>Return of the Jedi</td>\n",
       "      <td>1983</td>\n",
       "    </tr>\n",
       "    <tr>\n",
       "      <th>I</th>\n",
       "      <td>George Lucas</td>\n",
       "      <td>Rick McCallum</td>\n",
       "      <td>motion picture</td>\n",
       "      <td>The Phantom Menace</td>\n",
       "      <td>1999</td>\n",
       "    </tr>\n",
       "    <tr>\n",
       "      <th>II</th>\n",
       "      <td>George Lucas</td>\n",
       "      <td>Rick McCallum</td>\n",
       "      <td>motion picture</td>\n",
       "      <td>Attack of the Clones</td>\n",
       "      <td>2002</td>\n",
       "    </tr>\n",
       "    <tr>\n",
       "      <th>III</th>\n",
       "      <td>George Lucas</td>\n",
       "      <td>Rick McCallum</td>\n",
       "      <td>motion picture</td>\n",
       "      <td>Revenge of the Sith</td>\n",
       "      <td>2005</td>\n",
       "    </tr>\n",
       "    <tr>\n",
       "      <th>VII</th>\n",
       "      <td>J.J. Abrams</td>\n",
       "      <td>J.J. Abrams, Bryan Burk, Kathleen Kennedy</td>\n",
       "      <td>motion picture</td>\n",
       "      <td>The Force Awakens</td>\n",
       "      <td>2015</td>\n",
       "    </tr>\n",
       "  </tbody>\n",
       "</table>\n",
       "</div>"
      ],
      "text/plain": [
       "             director                                  producers  \\\n",
       "IV       George Lucas                                 Gary Kurtz   \n",
       "V      Irvin Kershner                                 Gary Kurtz   \n",
       "VI   Richard Marquand                           Howard Kazanjian   \n",
       "I        George Lucas                              Rick McCallum   \n",
       "II       George Lucas                              Rick McCallum   \n",
       "III      George Lucas                              Rick McCallum   \n",
       "VII       J.J. Abrams  J.J. Abrams, Bryan Burk, Kathleen Kennedy   \n",
       "\n",
       "              style                    title  year  \n",
       "IV   motion picture                Star Wars  1977  \n",
       "V    motion picture  The Empire Strikes Back  1980  \n",
       "VI   motion picture       Return of the Jedi  1983  \n",
       "I    motion picture       The Phantom Menace  1999  \n",
       "II   motion picture     Attack of the Clones  2002  \n",
       "III  motion picture      Revenge of the Sith  2005  \n",
       "VII  motion picture        The Force Awakens  2015  "
      ]
     },
     "execution_count": 4,
     "metadata": {},
     "output_type": "execute_result"
    }
   ],
   "source": [
    "dataframes = [original_trilogy, prequel_trilogy, sequel_trilogy]\n",
    "star_wars_feature_films_dataframe = pd.concat(dataframes)\n",
    "star_wars_feature_films_dataframe"
   ]
  },
  {
   "cell_type": "markdown",
   "metadata": {},
   "source": [
    "## Vaders"
   ]
  },
  {
   "cell_type": "code",
   "execution_count": 5,
   "metadata": {
    "collapsed": false
   },
   "outputs": [
    {
     "data": {
      "text/html": [
       "<div>\n",
       "<table border=\"1\" class=\"dataframe\">\n",
       "  <thead>\n",
       "    <tr style=\"text-align: right;\">\n",
       "      <th></th>\n",
       "      <th>darth_vader_actor</th>\n",
       "      <th>darth_vader_voice</th>\n",
       "      <th>title</th>\n",
       "    </tr>\n",
       "  </thead>\n",
       "  <tbody>\n",
       "    <tr>\n",
       "      <th>0</th>\n",
       "      <td>Jake Lloyd</td>\n",
       "      <td>Jake Lloyd</td>\n",
       "      <td>The Phantom Menace</td>\n",
       "    </tr>\n",
       "    <tr>\n",
       "      <th>1</th>\n",
       "      <td>Hayden Christensen</td>\n",
       "      <td>Hayden Christensen</td>\n",
       "      <td>Attack of the Clones</td>\n",
       "    </tr>\n",
       "    <tr>\n",
       "      <th>2</th>\n",
       "      <td>N/A</td>\n",
       "      <td>Matt Lanter</td>\n",
       "      <td>The Clone Wars</td>\n",
       "    </tr>\n",
       "    <tr>\n",
       "      <th>3</th>\n",
       "      <td>Hayden Christensen</td>\n",
       "      <td>Hayden Christensen</td>\n",
       "      <td>Revenge of the Sith</td>\n",
       "    </tr>\n",
       "    <tr>\n",
       "      <th>4</th>\n",
       "      <td>David Prowse</td>\n",
       "      <td>James Earl Jones</td>\n",
       "      <td>Star Wars</td>\n",
       "    </tr>\n",
       "    <tr>\n",
       "      <th>5</th>\n",
       "      <td>David Prowse</td>\n",
       "      <td>James Earl Jones</td>\n",
       "      <td>The Empire Strikes Back</td>\n",
       "    </tr>\n",
       "    <tr>\n",
       "      <th>6</th>\n",
       "      <td>David Prowse</td>\n",
       "      <td>James Earl Jones</td>\n",
       "      <td>Return of the Jedi</td>\n",
       "    </tr>\n",
       "  </tbody>\n",
       "</table>\n",
       "</div>"
      ],
      "text/plain": [
       "    darth_vader_actor   darth_vader_voice                    title\n",
       "0          Jake Lloyd          Jake Lloyd       The Phantom Menace\n",
       "1  Hayden Christensen  Hayden Christensen     Attack of the Clones\n",
       "2                 N/A         Matt Lanter           The Clone Wars\n",
       "3  Hayden Christensen  Hayden Christensen      Revenge of the Sith\n",
       "4        David Prowse    James Earl Jones                Star Wars\n",
       "5        David Prowse    James Earl Jones  The Empire Strikes Back\n",
       "6        David Prowse    James Earl Jones       Return of the Jedi"
      ]
     },
     "execution_count": 5,
     "metadata": {},
     "output_type": "execute_result"
    }
   ],
   "source": [
    "darth_vader = { 'darth_vader_actor': ['Jake Lloyd','Hayden Christensen', 'N/A','Hayden Christensen','David Prowse','David Prowse','David Prowse'],\n",
    "                'darth_vader_voice': ['Jake Lloyd','Hayden Christensen', 'Matt Lanter', 'Hayden Christensen','James Earl Jones','James Earl Jones','James Earl Jones'],\n",
    "                'title': ['The Phantom Menace', 'Attack of the Clones', 'The Clone Wars', 'Revenge of the Sith', 'Star Wars', 'The Empire Strikes Back', 'Return of the Jedi']}\n",
    "darth_vader_dataframe = pd.DataFrame(darth_vader, \n",
    "                                     columns=['darth_vader_actor', 'darth_vader_voice', 'title'])\n",
    "darth_vader_dataframe"
   ]
  },
  {
   "cell_type": "markdown",
   "metadata": {},
   "source": [
    "<a name=\"Left and right joins\"></a>\n",
    "## Demo / Guided Practice: Joins (25 mins)\n",
    "\n",
    "### Left Join \n",
    "\n",
    "The `LEFT JOIN` keyword returns all rows from the left table (table1), with the matching rows in the right table (table2). \n",
    "\n",
    "The result is `NULL` in the right side when there is no match.\n",
    "\n",
    "\n",
    "#### in SQL\n",
    "\n",
    "```\n",
    "SELECT *\n",
    "FROM star_wars_feature_films\n",
    "LEFT JOIN darth_vader\n",
    "ON title;\n",
    "```\n",
    "\n",
    "#### Visualized\n",
    "\n",
    "<img src='assets/images/left_join.png' width=600px>"
   ]
  },
  {
   "cell_type": "markdown",
   "metadata": {},
   "source": [
    "### Each Film and its Vader"
   ]
  },
  {
   "cell_type": "markdown",
   "metadata": {},
   "source": [
    "Here we use `pd.merge` with `how=left` to perform a left join of `star_wars_feature_films_dataframe` and\n",
    "`darth_vader_dataframe` on the feature `title`. \n",
    "\n",
    "This produces a complete set of records from `star_wars_feature_films_dataframe`, with the matching records (where available) in `darth_vader_dataframe`. \n",
    "\n",
    "If there is no match, the right side will contain `NaN`."
   ]
  },
  {
   "cell_type": "code",
   "execution_count": 6,
   "metadata": {
    "collapsed": false,
    "scrolled": true
   },
   "outputs": [
    {
     "data": {
      "text/html": [
       "<div>\n",
       "<table border=\"1\" class=\"dataframe\">\n",
       "  <thead>\n",
       "    <tr style=\"text-align: right;\">\n",
       "      <th></th>\n",
       "      <th>director</th>\n",
       "      <th>producers</th>\n",
       "      <th>style</th>\n",
       "      <th>title</th>\n",
       "      <th>year</th>\n",
       "      <th>darth_vader_actor</th>\n",
       "      <th>darth_vader_voice</th>\n",
       "    </tr>\n",
       "  </thead>\n",
       "  <tbody>\n",
       "    <tr>\n",
       "      <th>0</th>\n",
       "      <td>George Lucas</td>\n",
       "      <td>Gary Kurtz</td>\n",
       "      <td>motion picture</td>\n",
       "      <td>Star Wars</td>\n",
       "      <td>1977</td>\n",
       "      <td>David Prowse</td>\n",
       "      <td>James Earl Jones</td>\n",
       "    </tr>\n",
       "    <tr>\n",
       "      <th>1</th>\n",
       "      <td>Irvin Kershner</td>\n",
       "      <td>Gary Kurtz</td>\n",
       "      <td>motion picture</td>\n",
       "      <td>The Empire Strikes Back</td>\n",
       "      <td>1980</td>\n",
       "      <td>David Prowse</td>\n",
       "      <td>James Earl Jones</td>\n",
       "    </tr>\n",
       "    <tr>\n",
       "      <th>2</th>\n",
       "      <td>Richard Marquand</td>\n",
       "      <td>Howard Kazanjian</td>\n",
       "      <td>motion picture</td>\n",
       "      <td>Return of the Jedi</td>\n",
       "      <td>1983</td>\n",
       "      <td>David Prowse</td>\n",
       "      <td>James Earl Jones</td>\n",
       "    </tr>\n",
       "    <tr>\n",
       "      <th>3</th>\n",
       "      <td>George Lucas</td>\n",
       "      <td>Rick McCallum</td>\n",
       "      <td>motion picture</td>\n",
       "      <td>The Phantom Menace</td>\n",
       "      <td>1999</td>\n",
       "      <td>Jake Lloyd</td>\n",
       "      <td>Jake Lloyd</td>\n",
       "    </tr>\n",
       "    <tr>\n",
       "      <th>4</th>\n",
       "      <td>George Lucas</td>\n",
       "      <td>Rick McCallum</td>\n",
       "      <td>motion picture</td>\n",
       "      <td>Attack of the Clones</td>\n",
       "      <td>2002</td>\n",
       "      <td>Hayden Christensen</td>\n",
       "      <td>Hayden Christensen</td>\n",
       "    </tr>\n",
       "    <tr>\n",
       "      <th>5</th>\n",
       "      <td>George Lucas</td>\n",
       "      <td>Rick McCallum</td>\n",
       "      <td>motion picture</td>\n",
       "      <td>Revenge of the Sith</td>\n",
       "      <td>2005</td>\n",
       "      <td>Hayden Christensen</td>\n",
       "      <td>Hayden Christensen</td>\n",
       "    </tr>\n",
       "    <tr>\n",
       "      <th>6</th>\n",
       "      <td>J.J. Abrams</td>\n",
       "      <td>J.J. Abrams, Bryan Burk, Kathleen Kennedy</td>\n",
       "      <td>motion picture</td>\n",
       "      <td>The Force Awakens</td>\n",
       "      <td>2015</td>\n",
       "      <td>NaN</td>\n",
       "      <td>NaN</td>\n",
       "    </tr>\n",
       "  </tbody>\n",
       "</table>\n",
       "</div>"
      ],
      "text/plain": [
       "           director                                  producers  \\\n",
       "0      George Lucas                                 Gary Kurtz   \n",
       "1    Irvin Kershner                                 Gary Kurtz   \n",
       "2  Richard Marquand                           Howard Kazanjian   \n",
       "3      George Lucas                              Rick McCallum   \n",
       "4      George Lucas                              Rick McCallum   \n",
       "5      George Lucas                              Rick McCallum   \n",
       "6       J.J. Abrams  J.J. Abrams, Bryan Burk, Kathleen Kennedy   \n",
       "\n",
       "            style                    title  year   darth_vader_actor  \\\n",
       "0  motion picture                Star Wars  1977        David Prowse   \n",
       "1  motion picture  The Empire Strikes Back  1980        David Prowse   \n",
       "2  motion picture       Return of the Jedi  1983        David Prowse   \n",
       "3  motion picture       The Phantom Menace  1999          Jake Lloyd   \n",
       "4  motion picture     Attack of the Clones  2002  Hayden Christensen   \n",
       "5  motion picture      Revenge of the Sith  2005  Hayden Christensen   \n",
       "6  motion picture        The Force Awakens  2015                 NaN   \n",
       "\n",
       "    darth_vader_voice  \n",
       "0    James Earl Jones  \n",
       "1    James Earl Jones  \n",
       "2    James Earl Jones  \n",
       "3          Jake Lloyd  \n",
       "4  Hayden Christensen  \n",
       "5  Hayden Christensen  \n",
       "6                 NaN  "
      ]
     },
     "execution_count": 6,
     "metadata": {},
     "output_type": "execute_result"
    }
   ],
   "source": [
    "pd.merge(star_wars_feature_films_dataframe, darth_vader_dataframe, on='title', how='left')"
   ]
  },
  {
   "cell_type": "markdown",
   "metadata": {},
   "source": [
    "### Right Join\n",
    "\n",
    "The RIGHT JOIN keyword returns all rows from the right table (table2), with the matching rows in the left table (table1). \n",
    "\n",
    "The result is NULL in the left side when there is no match.\n",
    "\n",
    "#### in SQL\n",
    "\n",
    "```\n",
    "SELECT *\n",
    "FROM star_wars_feature_films\n",
    "RIGHT JOIN darth_vader\n",
    "ON title;\n",
    "```\n",
    "\n",
    "#### Visualized\n",
    "\n",
    "<img src='assets/images/right_join.png' width=600px>\n"
   ]
  },
  {
   "cell_type": "markdown",
   "metadata": {},
   "source": [
    "### Each Vader and its Film\n",
    "\n",
    "Here we use `pd.merge` with `how=right` to perform a right join of `star_wars_feature_films_dataframe` and\n",
    "`darth_vader_dataframe` on the feature `title`. \n",
    "\n",
    "This produces a set of records from `star_wars_feature_films_dataframe`, for each record in `darth_vader_dataframe`. \n",
    "\n",
    "If there is no match, the left side will contain `NaN`."
   ]
  },
  {
   "cell_type": "code",
   "execution_count": 7,
   "metadata": {
    "collapsed": false
   },
   "outputs": [
    {
     "data": {
      "text/html": [
       "<div>\n",
       "<table border=\"1\" class=\"dataframe\">\n",
       "  <thead>\n",
       "    <tr style=\"text-align: right;\">\n",
       "      <th></th>\n",
       "      <th>director</th>\n",
       "      <th>producers</th>\n",
       "      <th>style</th>\n",
       "      <th>title</th>\n",
       "      <th>year</th>\n",
       "      <th>darth_vader_actor</th>\n",
       "      <th>darth_vader_voice</th>\n",
       "    </tr>\n",
       "  </thead>\n",
       "  <tbody>\n",
       "    <tr>\n",
       "      <th>0</th>\n",
       "      <td>George Lucas</td>\n",
       "      <td>Gary Kurtz</td>\n",
       "      <td>motion picture</td>\n",
       "      <td>Star Wars</td>\n",
       "      <td>1977.0</td>\n",
       "      <td>David Prowse</td>\n",
       "      <td>James Earl Jones</td>\n",
       "    </tr>\n",
       "    <tr>\n",
       "      <th>1</th>\n",
       "      <td>Irvin Kershner</td>\n",
       "      <td>Gary Kurtz</td>\n",
       "      <td>motion picture</td>\n",
       "      <td>The Empire Strikes Back</td>\n",
       "      <td>1980.0</td>\n",
       "      <td>David Prowse</td>\n",
       "      <td>James Earl Jones</td>\n",
       "    </tr>\n",
       "    <tr>\n",
       "      <th>2</th>\n",
       "      <td>Richard Marquand</td>\n",
       "      <td>Howard Kazanjian</td>\n",
       "      <td>motion picture</td>\n",
       "      <td>Return of the Jedi</td>\n",
       "      <td>1983.0</td>\n",
       "      <td>David Prowse</td>\n",
       "      <td>James Earl Jones</td>\n",
       "    </tr>\n",
       "    <tr>\n",
       "      <th>3</th>\n",
       "      <td>George Lucas</td>\n",
       "      <td>Rick McCallum</td>\n",
       "      <td>motion picture</td>\n",
       "      <td>The Phantom Menace</td>\n",
       "      <td>1999.0</td>\n",
       "      <td>Jake Lloyd</td>\n",
       "      <td>Jake Lloyd</td>\n",
       "    </tr>\n",
       "    <tr>\n",
       "      <th>4</th>\n",
       "      <td>George Lucas</td>\n",
       "      <td>Rick McCallum</td>\n",
       "      <td>motion picture</td>\n",
       "      <td>Attack of the Clones</td>\n",
       "      <td>2002.0</td>\n",
       "      <td>Hayden Christensen</td>\n",
       "      <td>Hayden Christensen</td>\n",
       "    </tr>\n",
       "    <tr>\n",
       "      <th>5</th>\n",
       "      <td>George Lucas</td>\n",
       "      <td>Rick McCallum</td>\n",
       "      <td>motion picture</td>\n",
       "      <td>Revenge of the Sith</td>\n",
       "      <td>2005.0</td>\n",
       "      <td>Hayden Christensen</td>\n",
       "      <td>Hayden Christensen</td>\n",
       "    </tr>\n",
       "    <tr>\n",
       "      <th>6</th>\n",
       "      <td>NaN</td>\n",
       "      <td>NaN</td>\n",
       "      <td>NaN</td>\n",
       "      <td>The Clone Wars</td>\n",
       "      <td>NaN</td>\n",
       "      <td>N/A</td>\n",
       "      <td>Matt Lanter</td>\n",
       "    </tr>\n",
       "  </tbody>\n",
       "</table>\n",
       "</div>"
      ],
      "text/plain": [
       "           director         producers           style  \\\n",
       "0      George Lucas        Gary Kurtz  motion picture   \n",
       "1    Irvin Kershner        Gary Kurtz  motion picture   \n",
       "2  Richard Marquand  Howard Kazanjian  motion picture   \n",
       "3      George Lucas     Rick McCallum  motion picture   \n",
       "4      George Lucas     Rick McCallum  motion picture   \n",
       "5      George Lucas     Rick McCallum  motion picture   \n",
       "6               NaN               NaN             NaN   \n",
       "\n",
       "                     title    year   darth_vader_actor   darth_vader_voice  \n",
       "0                Star Wars  1977.0        David Prowse    James Earl Jones  \n",
       "1  The Empire Strikes Back  1980.0        David Prowse    James Earl Jones  \n",
       "2       Return of the Jedi  1983.0        David Prowse    James Earl Jones  \n",
       "3       The Phantom Menace  1999.0          Jake Lloyd          Jake Lloyd  \n",
       "4     Attack of the Clones  2002.0  Hayden Christensen  Hayden Christensen  \n",
       "5      Revenge of the Sith  2005.0  Hayden Christensen  Hayden Christensen  \n",
       "6           The Clone Wars     NaN                 N/A         Matt Lanter  "
      ]
     },
     "execution_count": 7,
     "metadata": {},
     "output_type": "execute_result"
    }
   ],
   "source": [
    "pd.merge(star_wars_feature_films_dataframe, darth_vader_dataframe, on='title', how='right')"
   ]
  },
  {
   "cell_type": "markdown",
   "metadata": {},
   "source": [
    "<a name=\"Outer and inner joins\"></a>\n",
    "## Demo / Guided Practice: Outer and inner joins (25 mins)\n",
    "\n",
    "### Inner Join \n",
    "\n",
    "The `INNER JOIN` keyword selects all rows from both tables as long as there is a match between the columns in both tables.\n",
    "\n",
    "\n",
    "#### in SQL\n",
    "\n",
    "```\n",
    "SELECT *\n",
    "FROM star_wars_feature_films\n",
    "INNER JOIN darth_vader\n",
    "ON title;\n",
    "```\n",
    "\n",
    "#### Visualized\n",
    "\n",
    "<img src='assets/images/inner_join.png' width=600px>\n"
   ]
  },
  {
   "cell_type": "markdown",
   "metadata": {},
   "source": [
    "### Films With Vader\n",
    "\n",
    "Here we use `pd.merge` with `how=inner` to perform an inner join of `star_wars_feature_films_dataframe` and\n",
    "`darth_vader_dataframe` on the feature `title`. \n",
    "\n",
    "This produces a set of records where there is a match for both `star_wars_feature_films_dataframe` and `darth_vader_dataframe`. "
   ]
  },
  {
   "cell_type": "code",
   "execution_count": 8,
   "metadata": {
    "collapsed": false
   },
   "outputs": [
    {
     "data": {
      "text/html": [
       "<div>\n",
       "<table border=\"1\" class=\"dataframe\">\n",
       "  <thead>\n",
       "    <tr style=\"text-align: right;\">\n",
       "      <th></th>\n",
       "      <th>director</th>\n",
       "      <th>producers</th>\n",
       "      <th>style</th>\n",
       "      <th>title</th>\n",
       "      <th>year</th>\n",
       "      <th>darth_vader_actor</th>\n",
       "      <th>darth_vader_voice</th>\n",
       "    </tr>\n",
       "  </thead>\n",
       "  <tbody>\n",
       "    <tr>\n",
       "      <th>0</th>\n",
       "      <td>George Lucas</td>\n",
       "      <td>Gary Kurtz</td>\n",
       "      <td>motion picture</td>\n",
       "      <td>Star Wars</td>\n",
       "      <td>1977</td>\n",
       "      <td>David Prowse</td>\n",
       "      <td>James Earl Jones</td>\n",
       "    </tr>\n",
       "    <tr>\n",
       "      <th>1</th>\n",
       "      <td>Irvin Kershner</td>\n",
       "      <td>Gary Kurtz</td>\n",
       "      <td>motion picture</td>\n",
       "      <td>The Empire Strikes Back</td>\n",
       "      <td>1980</td>\n",
       "      <td>David Prowse</td>\n",
       "      <td>James Earl Jones</td>\n",
       "    </tr>\n",
       "    <tr>\n",
       "      <th>2</th>\n",
       "      <td>Richard Marquand</td>\n",
       "      <td>Howard Kazanjian</td>\n",
       "      <td>motion picture</td>\n",
       "      <td>Return of the Jedi</td>\n",
       "      <td>1983</td>\n",
       "      <td>David Prowse</td>\n",
       "      <td>James Earl Jones</td>\n",
       "    </tr>\n",
       "    <tr>\n",
       "      <th>3</th>\n",
       "      <td>George Lucas</td>\n",
       "      <td>Rick McCallum</td>\n",
       "      <td>motion picture</td>\n",
       "      <td>The Phantom Menace</td>\n",
       "      <td>1999</td>\n",
       "      <td>Jake Lloyd</td>\n",
       "      <td>Jake Lloyd</td>\n",
       "    </tr>\n",
       "    <tr>\n",
       "      <th>4</th>\n",
       "      <td>George Lucas</td>\n",
       "      <td>Rick McCallum</td>\n",
       "      <td>motion picture</td>\n",
       "      <td>Attack of the Clones</td>\n",
       "      <td>2002</td>\n",
       "      <td>Hayden Christensen</td>\n",
       "      <td>Hayden Christensen</td>\n",
       "    </tr>\n",
       "    <tr>\n",
       "      <th>5</th>\n",
       "      <td>George Lucas</td>\n",
       "      <td>Rick McCallum</td>\n",
       "      <td>motion picture</td>\n",
       "      <td>Revenge of the Sith</td>\n",
       "      <td>2005</td>\n",
       "      <td>Hayden Christensen</td>\n",
       "      <td>Hayden Christensen</td>\n",
       "    </tr>\n",
       "  </tbody>\n",
       "</table>\n",
       "</div>"
      ],
      "text/plain": [
       "           director         producers           style  \\\n",
       "0      George Lucas        Gary Kurtz  motion picture   \n",
       "1    Irvin Kershner        Gary Kurtz  motion picture   \n",
       "2  Richard Marquand  Howard Kazanjian  motion picture   \n",
       "3      George Lucas     Rick McCallum  motion picture   \n",
       "4      George Lucas     Rick McCallum  motion picture   \n",
       "5      George Lucas     Rick McCallum  motion picture   \n",
       "\n",
       "                     title  year   darth_vader_actor   darth_vader_voice  \n",
       "0                Star Wars  1977        David Prowse    James Earl Jones  \n",
       "1  The Empire Strikes Back  1980        David Prowse    James Earl Jones  \n",
       "2       Return of the Jedi  1983        David Prowse    James Earl Jones  \n",
       "3       The Phantom Menace  1999          Jake Lloyd          Jake Lloyd  \n",
       "4     Attack of the Clones  2002  Hayden Christensen  Hayden Christensen  \n",
       "5      Revenge of the Sith  2005  Hayden Christensen  Hayden Christensen  "
      ]
     },
     "execution_count": 8,
     "metadata": {},
     "output_type": "execute_result"
    }
   ],
   "source": [
    "pd.merge(star_wars_feature_films_dataframe, darth_vader_dataframe, on='title', how='inner')"
   ]
  },
  {
   "cell_type": "markdown",
   "metadata": {},
   "source": [
    "### Inner Join \n",
    "\n",
    "The `OUTER JOIN` keyword selects all rows from both tables.\n",
    "\n",
    "The result will be `NULL` where there is no match.\n",
    "\n",
    "#### in SQL\n",
    "\n",
    "```\n",
    "SELECT *\n",
    "FROM star_wars_feature_films\n",
    "OUTER JOIN darth_vader\n",
    "ON title;\n",
    "```\n",
    "\n",
    "#### Visualized\n",
    "\n",
    "<img src='assets/images/outer_join.png' width=600px>\n"
   ]
  },
  {
   "cell_type": "markdown",
   "metadata": {},
   "source": [
    "### Everything\n",
    "\n",
    "Here we use `pd.merge` with `how=outer` to perform an outer join of `star_wars_feature_films_dataframe` and\n",
    "`darth_vader_dataframe` on the feature `title`. \n",
    "\n",
    "This produces a set of records for every record in both `star_wars_feature_films_dataframe` and `darth_vader_dataframe`. \n",
    "\n",
    "If there is no match `NaN` will be used."
   ]
  },
  {
   "cell_type": "code",
   "execution_count": 9,
   "metadata": {
    "collapsed": false,
    "scrolled": true
   },
   "outputs": [
    {
     "data": {
      "text/html": [
       "<div>\n",
       "<table border=\"1\" class=\"dataframe\">\n",
       "  <thead>\n",
       "    <tr style=\"text-align: right;\">\n",
       "      <th></th>\n",
       "      <th>director</th>\n",
       "      <th>producers</th>\n",
       "      <th>style</th>\n",
       "      <th>title</th>\n",
       "      <th>year</th>\n",
       "      <th>darth_vader_actor</th>\n",
       "      <th>darth_vader_voice</th>\n",
       "    </tr>\n",
       "  </thead>\n",
       "  <tbody>\n",
       "    <tr>\n",
       "      <th>0</th>\n",
       "      <td>George Lucas</td>\n",
       "      <td>Gary Kurtz</td>\n",
       "      <td>motion picture</td>\n",
       "      <td>Star Wars</td>\n",
       "      <td>1977.0</td>\n",
       "      <td>David Prowse</td>\n",
       "      <td>James Earl Jones</td>\n",
       "    </tr>\n",
       "    <tr>\n",
       "      <th>1</th>\n",
       "      <td>Irvin Kershner</td>\n",
       "      <td>Gary Kurtz</td>\n",
       "      <td>motion picture</td>\n",
       "      <td>The Empire Strikes Back</td>\n",
       "      <td>1980.0</td>\n",
       "      <td>David Prowse</td>\n",
       "      <td>James Earl Jones</td>\n",
       "    </tr>\n",
       "    <tr>\n",
       "      <th>2</th>\n",
       "      <td>Richard Marquand</td>\n",
       "      <td>Howard Kazanjian</td>\n",
       "      <td>motion picture</td>\n",
       "      <td>Return of the Jedi</td>\n",
       "      <td>1983.0</td>\n",
       "      <td>David Prowse</td>\n",
       "      <td>James Earl Jones</td>\n",
       "    </tr>\n",
       "    <tr>\n",
       "      <th>3</th>\n",
       "      <td>George Lucas</td>\n",
       "      <td>Rick McCallum</td>\n",
       "      <td>motion picture</td>\n",
       "      <td>The Phantom Menace</td>\n",
       "      <td>1999.0</td>\n",
       "      <td>Jake Lloyd</td>\n",
       "      <td>Jake Lloyd</td>\n",
       "    </tr>\n",
       "    <tr>\n",
       "      <th>4</th>\n",
       "      <td>George Lucas</td>\n",
       "      <td>Rick McCallum</td>\n",
       "      <td>motion picture</td>\n",
       "      <td>Attack of the Clones</td>\n",
       "      <td>2002.0</td>\n",
       "      <td>Hayden Christensen</td>\n",
       "      <td>Hayden Christensen</td>\n",
       "    </tr>\n",
       "    <tr>\n",
       "      <th>5</th>\n",
       "      <td>George Lucas</td>\n",
       "      <td>Rick McCallum</td>\n",
       "      <td>motion picture</td>\n",
       "      <td>Revenge of the Sith</td>\n",
       "      <td>2005.0</td>\n",
       "      <td>Hayden Christensen</td>\n",
       "      <td>Hayden Christensen</td>\n",
       "    </tr>\n",
       "    <tr>\n",
       "      <th>6</th>\n",
       "      <td>J.J. Abrams</td>\n",
       "      <td>J.J. Abrams, Bryan Burk, Kathleen Kennedy</td>\n",
       "      <td>motion picture</td>\n",
       "      <td>The Force Awakens</td>\n",
       "      <td>2015.0</td>\n",
       "      <td>NaN</td>\n",
       "      <td>NaN</td>\n",
       "    </tr>\n",
       "    <tr>\n",
       "      <th>7</th>\n",
       "      <td>NaN</td>\n",
       "      <td>NaN</td>\n",
       "      <td>NaN</td>\n",
       "      <td>The Clone Wars</td>\n",
       "      <td>NaN</td>\n",
       "      <td>N/A</td>\n",
       "      <td>Matt Lanter</td>\n",
       "    </tr>\n",
       "  </tbody>\n",
       "</table>\n",
       "</div>"
      ],
      "text/plain": [
       "           director                                  producers  \\\n",
       "0      George Lucas                                 Gary Kurtz   \n",
       "1    Irvin Kershner                                 Gary Kurtz   \n",
       "2  Richard Marquand                           Howard Kazanjian   \n",
       "3      George Lucas                              Rick McCallum   \n",
       "4      George Lucas                              Rick McCallum   \n",
       "5      George Lucas                              Rick McCallum   \n",
       "6       J.J. Abrams  J.J. Abrams, Bryan Burk, Kathleen Kennedy   \n",
       "7               NaN                                        NaN   \n",
       "\n",
       "            style                    title    year   darth_vader_actor  \\\n",
       "0  motion picture                Star Wars  1977.0        David Prowse   \n",
       "1  motion picture  The Empire Strikes Back  1980.0        David Prowse   \n",
       "2  motion picture       Return of the Jedi  1983.0        David Prowse   \n",
       "3  motion picture       The Phantom Menace  1999.0          Jake Lloyd   \n",
       "4  motion picture     Attack of the Clones  2002.0  Hayden Christensen   \n",
       "5  motion picture      Revenge of the Sith  2005.0  Hayden Christensen   \n",
       "6  motion picture        The Force Awakens  2015.0                 NaN   \n",
       "7             NaN           The Clone Wars     NaN                 N/A   \n",
       "\n",
       "    darth_vader_voice  \n",
       "0    James Earl Jones  \n",
       "1    James Earl Jones  \n",
       "2    James Earl Jones  \n",
       "3          Jake Lloyd  \n",
       "4  Hayden Christensen  \n",
       "5  Hayden Christensen  \n",
       "6                 NaN  \n",
       "7         Matt Lanter  "
      ]
     },
     "execution_count": 9,
     "metadata": {},
     "output_type": "execute_result"
    }
   ],
   "source": [
    "pd.merge(star_wars_feature_films_dataframe, darth_vader_dataframe, on='title', how='outer')"
   ]
  },
  {
   "cell_type": "markdown",
   "metadata": {},
   "source": [
    "<a name=\"ind-practice\"></a>\n",
    "## Independent Practice: Topic (20 minutes)\n"
   ]
  },
  {
   "cell_type": "markdown",
   "metadata": {},
   "source": [
    "Practice using joins to clean up this data.\n"
   ]
  },
  {
   "cell_type": "markdown",
   "metadata": {},
   "source": [
    "Use this data to create a `state_government` `DataFrame`."
   ]
  },
  {
   "cell_type": "code",
   "execution_count": 27,
   "metadata": {
    "collapsed": true
   },
   "outputs": [],
   "source": [
    "gov = pd.DataFrame()"
   ]
  },
  {
   "cell_type": "code",
   "execution_count": 145,
   "metadata": {
    "collapsed": false
   },
   "outputs": [],
   "source": [
    "capitals = pd.DataFrame.from_dict({'Ca': 'Sacramento',\n",
    "            'Az': 'Phoenix',\n",
    "            'Nv': 'Carson City',\n",
    "            'Ut': 'Salt Lake City',\n",
    "            'Wa': 'Olympia',\n",
    "            'Or': 'Salem'\n",
    "           }, orient='index' )\n",
    "    \n",
    "governors = pd.DataFrame.from_dict({'Ca': 'Jerry Brown',\n",
    "             'Az': 'Doug Ducey',\n",
    "             'Ut': 'Gary Herbert',\n",
    "             'Or': 'Kate Brown',\n",
    "             'Wa': 'Jay Inslee',\n",
    "            }, orient='index')"
   ]
  },
  {
   "cell_type": "code",
   "execution_count": 135,
   "metadata": {
    "collapsed": false
   },
   "outputs": [
    {
     "data": {
      "text/html": [
       "<div>\n",
       "<table border=\"1\" class=\"dataframe\">\n",
       "  <thead>\n",
       "    <tr style=\"text-align: right;\">\n",
       "      <th></th>\n",
       "      <th>state</th>\n",
       "      <th>city</th>\n",
       "    </tr>\n",
       "  </thead>\n",
       "  <tbody>\n",
       "    <tr>\n",
       "      <th>0</th>\n",
       "      <td>Wa</td>\n",
       "      <td>Olympia</td>\n",
       "    </tr>\n",
       "    <tr>\n",
       "      <th>1</th>\n",
       "      <td>Ut</td>\n",
       "      <td>Salt Lake City</td>\n",
       "    </tr>\n",
       "    <tr>\n",
       "      <th>2</th>\n",
       "      <td>Ca</td>\n",
       "      <td>Sacramento</td>\n",
       "    </tr>\n",
       "    <tr>\n",
       "      <th>3</th>\n",
       "      <td>Az</td>\n",
       "      <td>Phoenix</td>\n",
       "    </tr>\n",
       "    <tr>\n",
       "      <th>4</th>\n",
       "      <td>Or</td>\n",
       "      <td>Salem</td>\n",
       "    </tr>\n",
       "    <tr>\n",
       "      <th>5</th>\n",
       "      <td>Nv</td>\n",
       "      <td>Carson City</td>\n",
       "    </tr>\n",
       "  </tbody>\n",
       "</table>\n",
       "</div>"
      ],
      "text/plain": [
       "  state            city\n",
       "0    Wa         Olympia\n",
       "1    Ut  Salt Lake City\n",
       "2    Ca      Sacramento\n",
       "3    Az         Phoenix\n",
       "4    Or           Salem\n",
       "5    Nv     Carson City"
      ]
     },
     "execution_count": 135,
     "metadata": {},
     "output_type": "execute_result"
    }
   ],
   "source": [
    "capitals"
   ]
  },
  {
   "cell_type": "code",
   "execution_count": 146,
   "metadata": {
    "collapsed": false
   },
   "outputs": [],
   "source": [
    "capitals.reset_index(inplace=True)\n",
    "capitals.columns = ['state', 'city']\n",
    "governors.reset_index(inplace=True)\n",
    "governors.columns = ['state', 'governor']"
   ]
  },
  {
   "cell_type": "markdown",
   "metadata": {},
   "source": [
    "Use this data to create a `state_trivia` `Dataframe`."
   ]
  },
  {
   "cell_type": "code",
   "execution_count": 147,
   "metadata": {
    "collapsed": false
   },
   "outputs": [],
   "source": [
    "state_birds = pd.DataFrame.from_dict({'Nv' : 'Mountain bluebird',\n",
    "               'Ut': 'California gull', 'Ca': 'California quail'}, orient='index')\n",
    "state_birds.reset_index(inplace=True)\n",
    "state_birds.columns = ['state', 'bird']"
   ]
  },
  {
   "cell_type": "markdown",
   "metadata": {},
   "source": [
    "Use this data to create a `state_economic_data` `DataFrame`."
   ]
  },
  {
   "cell_type": "code",
   "execution_count": 148,
   "metadata": {
    "collapsed": false
   },
   "outputs": [],
   "source": [
    "minimum_wages = pd.DataFrame.from_dict({'Ca': 10.00,\n",
    "               'Az': 8.05,\n",
    "               'Nv' : 8.25,\n",
    "               'Wa': 9.47,\n",
    "               'Or': 9.75,\n",
    "              }, orient='index')\n",
    "    \n",
    "populations = pd.DataFrame.from_dict ({'Ut': 2.943,\n",
    "               'Ca': 3914481 ,\n",
    "               'Az': 6.731,\n",
    "               'Nv' : 2.839,\n",
    "               'Or': 3.97,\n",
    "               'Wa': 7.062,\n",
    "              }, orient='index')\n",
    "minimum_wages.reset_index(inplace=True)\n",
    "minimum_wages.columns = ['state', 'min_wage']\n",
    "populations.reset_index(inplace=True)\n",
    "populations.columns = ['state', 'population']"
   ]
  },
  {
   "cell_type": "code",
   "execution_count": 139,
   "metadata": {
    "collapsed": false
   },
   "outputs": [],
   "source": [
    "dataframes = [capitals, governors, state_birds, minimum_wages, populations]"
   ]
  },
  {
   "cell_type": "code",
   "execution_count": 140,
   "metadata": {
    "collapsed": false,
    "scrolled": true
   },
   "outputs": [
    {
     "ename": "TypeError",
     "evalue": "merge() got multiple values for keyword argument 'how'",
     "output_type": "error",
     "traceback": [
      "\u001b[0;31m---------------------------------------------------------------------------\u001b[0m",
      "\u001b[0;31mTypeError\u001b[0m                                 Traceback (most recent call last)",
      "\u001b[0;32m<ipython-input-140-4a0ad9b8727d>\u001b[0m in \u001b[0;36m<module>\u001b[0;34m()\u001b[0m\n\u001b[1;32m      1\u001b[0m \u001b[0;31m# Perform a Left Join to match government and economic data\u001b[0m\u001b[0;34m\u001b[0m\u001b[0;34m\u001b[0m\u001b[0m\n\u001b[0;32m----> 2\u001b[0;31m \u001b[0mpd\u001b[0m\u001b[0;34m.\u001b[0m\u001b[0mmerge\u001b[0m\u001b[0;34m(\u001b[0m\u001b[0mgovernors\u001b[0m\u001b[0;34m,\u001b[0m \u001b[0mminimum_wages\u001b[0m\u001b[0;34m,\u001b[0m \u001b[0mstate_birds\u001b[0m\u001b[0;34m,\u001b[0m \u001b[0mon\u001b[0m\u001b[0;34m=\u001b[0m\u001b[0;34m'state'\u001b[0m\u001b[0;34m,\u001b[0m \u001b[0mhow\u001b[0m\u001b[0;34m=\u001b[0m\u001b[0;34m'outer'\u001b[0m\u001b[0;34m)\u001b[0m\u001b[0;34m\u001b[0m\u001b[0m\n\u001b[0m",
      "\u001b[0;31mTypeError\u001b[0m: merge() got multiple values for keyword argument 'how'"
     ]
    }
   ],
   "source": [
    "# Perform a Left Join to match government and economic data\n",
    "pd.merge(governors, minimum_wages, state_birds, on='state', how='outer')"
   ]
  },
  {
   "cell_type": "code",
   "execution_count": 112,
   "metadata": {
    "collapsed": false
   },
   "outputs": [
    {
     "data": {
      "text/html": [
       "<div>\n",
       "<table border=\"1\" class=\"dataframe\">\n",
       "  <thead>\n",
       "    <tr style=\"text-align: right;\">\n",
       "      <th></th>\n",
       "      <th>state</th>\n",
       "      <th>min_wage</th>\n",
       "      <th>bird</th>\n",
       "    </tr>\n",
       "  </thead>\n",
       "  <tbody>\n",
       "    <tr>\n",
       "      <th>0</th>\n",
       "      <td>Ca</td>\n",
       "      <td>10.00</td>\n",
       "      <td>California quail</td>\n",
       "    </tr>\n",
       "    <tr>\n",
       "      <th>1</th>\n",
       "      <td>Nv</td>\n",
       "      <td>8.25</td>\n",
       "      <td>Mountain bluebird</td>\n",
       "    </tr>\n",
       "    <tr>\n",
       "      <th>2</th>\n",
       "      <td>Ut</td>\n",
       "      <td>NaN</td>\n",
       "      <td>California gull</td>\n",
       "    </tr>\n",
       "  </tbody>\n",
       "</table>\n",
       "</div>"
      ],
      "text/plain": [
       "  state  min_wage               bird\n",
       "0    Ca     10.00   California quail\n",
       "1    Nv      8.25  Mountain bluebird\n",
       "2    Ut       NaN    California gull"
      ]
     },
     "execution_count": 112,
     "metadata": {},
     "output_type": "execute_result"
    }
   ],
   "source": [
    "# Performa a Right Join to match economic data and trivia\n",
    "pd.merge(minimum_wages, state_birds, on='state', how='right')"
   ]
  },
  {
   "cell_type": "code",
   "execution_count": 149,
   "metadata": {
    "collapsed": false,
    "scrolled": true
   },
   "outputs": [],
   "source": [
    "# Perform an Inner Join to match all states with COMPLETE data\n",
    "government = pd.merge(capitals, governors, on='state', how='outer')\n",
    "economic = pd.merge(minimum_wages, populations, on='state', how='outer')"
   ]
  },
  {
   "cell_type": "code",
   "execution_count": 150,
   "metadata": {
    "collapsed": false
   },
   "outputs": [
    {
     "data": {
      "text/html": [
       "<div>\n",
       "<table border=\"1\" class=\"dataframe\">\n",
       "  <thead>\n",
       "    <tr style=\"text-align: right;\">\n",
       "      <th></th>\n",
       "      <th>state</th>\n",
       "      <th>city</th>\n",
       "      <th>governor</th>\n",
       "    </tr>\n",
       "  </thead>\n",
       "  <tbody>\n",
       "    <tr>\n",
       "      <th>0</th>\n",
       "      <td>Wa</td>\n",
       "      <td>Olympia</td>\n",
       "      <td>Jay Inslee</td>\n",
       "    </tr>\n",
       "    <tr>\n",
       "      <th>1</th>\n",
       "      <td>Ut</td>\n",
       "      <td>Salt Lake City</td>\n",
       "      <td>Gary Herbert</td>\n",
       "    </tr>\n",
       "    <tr>\n",
       "      <th>2</th>\n",
       "      <td>Ca</td>\n",
       "      <td>Sacramento</td>\n",
       "      <td>Jerry Brown</td>\n",
       "    </tr>\n",
       "    <tr>\n",
       "      <th>3</th>\n",
       "      <td>Az</td>\n",
       "      <td>Phoenix</td>\n",
       "      <td>Doug Ducey</td>\n",
       "    </tr>\n",
       "    <tr>\n",
       "      <th>4</th>\n",
       "      <td>Or</td>\n",
       "      <td>Salem</td>\n",
       "      <td>Kate Brown</td>\n",
       "    </tr>\n",
       "    <tr>\n",
       "      <th>5</th>\n",
       "      <td>Nv</td>\n",
       "      <td>Carson City</td>\n",
       "      <td>NaN</td>\n",
       "    </tr>\n",
       "  </tbody>\n",
       "</table>\n",
       "</div>"
      ],
      "text/plain": [
       "  state            city      governor\n",
       "0    Wa         Olympia    Jay Inslee\n",
       "1    Ut  Salt Lake City  Gary Herbert\n",
       "2    Ca      Sacramento   Jerry Brown\n",
       "3    Az         Phoenix    Doug Ducey\n",
       "4    Or           Salem    Kate Brown\n",
       "5    Nv     Carson City           NaN"
      ]
     },
     "execution_count": 150,
     "metadata": {},
     "output_type": "execute_result"
    }
   ],
   "source": [
    "government"
   ]
  },
  {
   "cell_type": "code",
   "execution_count": 151,
   "metadata": {
    "collapsed": false
   },
   "outputs": [
    {
     "data": {
      "text/html": [
       "<div>\n",
       "<table border=\"1\" class=\"dataframe\">\n",
       "  <thead>\n",
       "    <tr style=\"text-align: right;\">\n",
       "      <th></th>\n",
       "      <th>state</th>\n",
       "      <th>city</th>\n",
       "      <th>governor</th>\n",
       "      <th>min_wage</th>\n",
       "      <th>population</th>\n",
       "    </tr>\n",
       "  </thead>\n",
       "  <tbody>\n",
       "    <tr>\n",
       "      <th>0</th>\n",
       "      <td>Wa</td>\n",
       "      <td>Olympia</td>\n",
       "      <td>Jay Inslee</td>\n",
       "      <td>9.47</td>\n",
       "      <td>7.062</td>\n",
       "    </tr>\n",
       "    <tr>\n",
       "      <th>1</th>\n",
       "      <td>Ut</td>\n",
       "      <td>Salt Lake City</td>\n",
       "      <td>Gary Herbert</td>\n",
       "      <td>NaN</td>\n",
       "      <td>2.943</td>\n",
       "    </tr>\n",
       "    <tr>\n",
       "      <th>2</th>\n",
       "      <td>Ca</td>\n",
       "      <td>Sacramento</td>\n",
       "      <td>Jerry Brown</td>\n",
       "      <td>10.00</td>\n",
       "      <td>3914481.000</td>\n",
       "    </tr>\n",
       "    <tr>\n",
       "      <th>3</th>\n",
       "      <td>Az</td>\n",
       "      <td>Phoenix</td>\n",
       "      <td>Doug Ducey</td>\n",
       "      <td>8.05</td>\n",
       "      <td>6.731</td>\n",
       "    </tr>\n",
       "    <tr>\n",
       "      <th>4</th>\n",
       "      <td>Or</td>\n",
       "      <td>Salem</td>\n",
       "      <td>Kate Brown</td>\n",
       "      <td>9.75</td>\n",
       "      <td>3.970</td>\n",
       "    </tr>\n",
       "    <tr>\n",
       "      <th>5</th>\n",
       "      <td>Nv</td>\n",
       "      <td>Carson City</td>\n",
       "      <td>NaN</td>\n",
       "      <td>8.25</td>\n",
       "      <td>2.839</td>\n",
       "    </tr>\n",
       "  </tbody>\n",
       "</table>\n",
       "</div>"
      ],
      "text/plain": [
       "  state            city      governor  min_wage   population\n",
       "0    Wa         Olympia    Jay Inslee      9.47        7.062\n",
       "1    Ut  Salt Lake City  Gary Herbert       NaN        2.943\n",
       "2    Ca      Sacramento   Jerry Brown     10.00  3914481.000\n",
       "3    Az         Phoenix    Doug Ducey      8.05        6.731\n",
       "4    Or           Salem    Kate Brown      9.75        3.970\n",
       "5    Nv     Carson City           NaN      8.25        2.839"
      ]
     },
     "execution_count": 151,
     "metadata": {},
     "output_type": "execute_result"
    }
   ],
   "source": [
    "pd.merge(government, economic, how='outer')"
   ]
  },
  {
   "cell_type": "code",
   "execution_count": null,
   "metadata": {
    "collapsed": true
   },
   "outputs": [],
   "source": [
    "# Perform an Outer Join to prepare a DataFrame for all data "
   ]
  },
  {
   "cell_type": "markdown",
   "metadata": {},
   "source": [
    "<a name=\"conclusion\"></a>\n",
    "## Conclusion (5 mins)\n",
    "Pair up and explain a left, a right, an inner, and an outer join to a partner.\n",
    "\n",
    "\n",
    "\n",
    "\n",
    "\n",
    "\n",
    "\n",
    "\n",
    "\n"
   ]
  },
  {
   "cell_type": "code",
   "execution_count": 134,
   "metadata": {
    "collapsed": false
   },
   "outputs": [
    {
     "data": {
      "text/html": [
       "<div>\n",
       "<table border=\"1\" class=\"dataframe\">\n",
       "  <thead>\n",
       "    <tr style=\"text-align: right;\">\n",
       "      <th></th>\n",
       "      <th>state</th>\n",
       "      <th>city</th>\n",
       "      <th>governor</th>\n",
       "    </tr>\n",
       "  </thead>\n",
       "  <tbody>\n",
       "    <tr>\n",
       "      <th>0</th>\n",
       "      <td>Wa</td>\n",
       "      <td>Olympia</td>\n",
       "      <td>Jay Inslee</td>\n",
       "    </tr>\n",
       "    <tr>\n",
       "      <th>1</th>\n",
       "      <td>Ut</td>\n",
       "      <td>Salt Lake City</td>\n",
       "      <td>Gary Herbert</td>\n",
       "    </tr>\n",
       "    <tr>\n",
       "      <th>2</th>\n",
       "      <td>Ca</td>\n",
       "      <td>Sacramento</td>\n",
       "      <td>Jerry Brown</td>\n",
       "    </tr>\n",
       "    <tr>\n",
       "      <th>3</th>\n",
       "      <td>Az</td>\n",
       "      <td>Phoenix</td>\n",
       "      <td>Doug Ducey</td>\n",
       "    </tr>\n",
       "    <tr>\n",
       "      <th>4</th>\n",
       "      <td>Or</td>\n",
       "      <td>Salem</td>\n",
       "      <td>Kate Brown</td>\n",
       "    </tr>\n",
       "  </tbody>\n",
       "</table>\n",
       "</div>"
      ],
      "text/plain": [
       "  state            city      governor\n",
       "0    Wa         Olympia    Jay Inslee\n",
       "1    Ut  Salt Lake City  Gary Herbert\n",
       "2    Ca      Sacramento   Jerry Brown\n",
       "3    Az         Phoenix    Doug Ducey\n",
       "4    Or           Salem    Kate Brown"
      ]
     },
     "execution_count": 134,
     "metadata": {},
     "output_type": "execute_result"
    }
   ],
   "source": [
    "government"
   ]
  },
  {
   "cell_type": "code",
   "execution_count": null,
   "metadata": {
    "collapsed": true
   },
   "outputs": [],
   "source": []
  }
 ],
 "metadata": {
  "anaconda-cloud": {},
  "kernelspec": {
   "display_name": "Python [conda env:py27]",
   "language": "python",
   "name": "conda-env-py27-py"
  },
  "language_info": {
   "codemirror_mode": {
    "name": "ipython",
    "version": 2
   },
   "file_extension": ".py",
   "mimetype": "text/x-python",
   "name": "python",
   "nbconvert_exporter": "python",
   "pygments_lexer": "ipython2",
   "version": "2.7.12"
  }
 },
 "nbformat": 4,
 "nbformat_minor": 1
}
