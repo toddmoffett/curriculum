{
 "cells": [
  {
   "cell_type": "code",
   "execution_count": 1,
   "metadata": {
    "collapsed": false
   },
   "outputs": [],
   "source": [
    "dice_dict = {} #create empty dictionary\n",
    "\n",
    "# {2: [(1, 1)],\n",
    "#  3: [(1, 2), (2, 1)],\n",
    "#  4: [(1, 3), (2, 2), (3, 1)],\n",
    "#  5: [(1, 4), (2, 3), (3, 2), (4, 1)],\n",
    "#  6: [(1, 5), (2, 4), (3, 3), (4, 2), (5, 1)],\n",
    "#  7: [(1, 6), (2, 5), (3, 4), (4, 3), (5, 2), (6, 1)],\n",
    "#  8: [(2, 6), (3, 5), (4, 4), (5, 3), (6, 2)],\n",
    "#  9: [(3, 6), (4, 5), (5, 4), (6, 3)],\n",
    "#  10: [(4, 6), (5, 5), (6, 4)],\n",
    "#  11: [(5, 6), (6, 5)],\n",
    "#  12: [(6, 6)]}\n"
   ]
  },
  {
   "cell_type": "code",
   "execution_count": null,
   "metadata": {
    "collapsed": true
   },
   "outputs": [],
   "source": []
  },
  {
   "cell_type": "code",
   "execution_count": 24,
   "metadata": {
    "collapsed": false
   },
   "outputs": [
    {
     "data": {
      "text/plain": [
       "{2: [(1, 1)],\n",
       " 3: [(1, 2), (2, 1)],\n",
       " 4: [(1, 3), (2, 2), (3, 1)],\n",
       " 5: [(1, 4), (2, 3), (3, 2), (4, 1)],\n",
       " 6: [(1, 5), (2, 4), (3, 3), (4, 2), (5, 1)],\n",
       " 7: [(1, 6), (2, 5), (3, 4), (4, 3), (5, 2), (6, 1)],\n",
       " 8: [(2, 6), (3, 5), (4, 4), (5, 3), (6, 2)],\n",
       " 9: [(3, 6), (4, 5), (5, 4), (6, 3)],\n",
       " 10: [(4, 6), (5, 5), (6, 4)],\n",
       " 11: [(5, 6), (6, 5)],\n",
       " 12: [(6, 6)]}"
      ]
     },
     "execution_count": 24,
     "metadata": {},
     "output_type": "execute_result"
    }
   ],
   "source": [
    "dice_dict"
   ]
  },
  {
   "cell_type": "code",
   "execution_count": null,
   "metadata": {
    "collapsed": true
   },
   "outputs": [],
   "source": []
  }
 ],
 "metadata": {
  "anaconda-cloud": {},
  "kernelspec": {
   "display_name": "Python [conda env:py27]",
   "language": "python",
   "name": "conda-env-py27-py"
  },
  "language_info": {
   "codemirror_mode": {
    "name": "ipython",
    "version": 2
   },
   "file_extension": ".py",
   "mimetype": "text/x-python",
   "name": "python",
   "nbconvert_exporter": "python",
   "pygments_lexer": "ipython2",
   "version": "2.7.12"
  }
 },
 "nbformat": 4,
 "nbformat_minor": 0
}
