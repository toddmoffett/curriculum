{
 "cells": [
  {
   "cell_type": "markdown",
   "metadata": {},
   "source": [
    "#### The average birth weight for an American boy is 7.5 lbs with a standard deviation of 1.25 lbs.  The birth weights for a local hospital are listed below.  Can you conclude with 95% confidence that these weights are greater than the average?\n",
    "<br>"
   ]
  },
  {
   "cell_type": "code",
   "execution_count": 2,
   "metadata": {
    "collapsed": true
   },
   "outputs": [],
   "source": [
    "import numpy as np"
   ]
  },
  {
   "cell_type": "code",
   "execution_count": 1,
   "metadata": {
    "collapsed": true
   },
   "outputs": [],
   "source": [
    "weight = [\n",
    "    5.5, 5.9, 6, 6, 6.1, 6.5, 6.5, 6.8, 7, 7.2, 7.4, 7.5, 7.5, 7.6, 7.7, 7.7,\n",
    "    7.8, 7.9, 8, 8, 8.2, 8.3, 8.5, 8.9, 9, 9.1, 9.4, 10, 11, 12\n",
    "]"
   ]
  },
  {
   "cell_type": "code",
   "execution_count": 4,
   "metadata": {
    "collapsed": false
   },
   "outputs": [
    {
     "name": "stdout",
     "output_type": "stream",
     "text": [
      "/Users/jam3jam/dsi/DSI_SM_3/curriculum/week-02/4.1-More-Hypothesis-Testing\r\n"
     ]
    }
   ],
   "source": [
    "!cp hypothesis-testing-challenge-starter.ipynb ../"
   ]
  },
  {
   "cell_type": "code",
   "execution_count": null,
   "metadata": {
    "collapsed": true
   },
   "outputs": [],
   "source": []
  }
 ],
 "metadata": {
  "anaconda-cloud": {},
  "kernelspec": {
   "display_name": "Python [conda env:py27]",
   "language": "python",
   "name": "conda-env-py27-py"
  },
  "language_info": {
   "codemirror_mode": {
    "name": "ipython",
    "version": 2
   },
   "file_extension": ".py",
   "mimetype": "text/x-python",
   "name": "python",
   "nbconvert_exporter": "python",
   "pygments_lexer": "ipython2",
   "version": "2.7.12"
  }
 },
 "nbformat": 4,
 "nbformat_minor": 0
}
