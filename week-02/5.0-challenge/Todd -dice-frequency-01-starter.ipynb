{
 "cells": [
  {
   "cell_type": "code",
   "execution_count": 16,
   "metadata": {
    "collapsed": false
   },
   "outputs": [],
   "source": [
    "dice_dict = {} #create empty dictionary\n",
    "\n",
    "# {2: [(1, 1)],\n",
    "#  3: [(1, 2), (2, 1)],\n",
    "#  4: [(1, 3), (2, 2), (3, 1)],\n",
    "#  5: [(1, 4), (2, 3), (3, 2), (4, 1)],\n",
    "#  6: [(1, 5), (2, 4), (3, 3), (4, 2), (5, 1)],\n",
    "#  7: [(1, 6), (2, 5), (3, 4), (4, 3), (5, 2), (6, 1)],\n",
    "#  8: [(2, 6), (3, 5), (4, 4), (5, 3), (6, 2)],\n",
    "#  9: [(3, 6), (4, 5), (5, 4), (6, 3)],\n",
    "#  10: [(4, 6), (5, 5), (6, 4)],\n",
    "#  11: [(5, 6), (6, 5)],\n",
    "#  12: [(6, 6)]}\n"
   ]
  },
  {
   "cell_type": "code",
   "execution_count": 2,
   "metadata": {
    "collapsed": true
   },
   "outputs": [],
   "source": [
    "def factorial(x):\n",
    "    if x < 0:\n",
    "        print(\"Must be a non-negative integer.\")\n",
    "    if x == 0:\n",
    "        return 1\n",
    "    else:\n",
    "        if x != int(x):\n",
    "            print(\"Must be an integer.\")\n",
    "        else:    \n",
    "            return x * factorial(x-1)"
   ]
  },
  {
   "cell_type": "code",
   "execution_count": 3,
   "metadata": {
    "collapsed": true
   },
   "outputs": [],
   "source": [
    "def perm(n, k):\n",
    "    return float(factorial(n)) / factorial(n-k)\n",
    "\n",
    "def comb(n, k):\n",
    "    return float(perm(n, k)) / perm(k, k)"
   ]
  },
  {
   "cell_type": "code",
   "execution_count": 4,
   "metadata": {
    "collapsed": false
   },
   "outputs": [
    {
     "data": {
      "text/plain": [
       "6.0"
      ]
     },
     "execution_count": 4,
     "metadata": {},
     "output_type": "execute_result"
    }
   ],
   "source": [
    "perm(6,1)"
   ]
  },
  {
   "cell_type": "code",
   "execution_count": 8,
   "metadata": {
    "collapsed": false
   },
   "outputs": [
    {
     "data": {
      "text/plain": [
       "720"
      ]
     },
     "execution_count": 8,
     "metadata": {},
     "output_type": "execute_result"
    }
   ],
   "source": [
    "factorial(6)"
   ]
  },
  {
   "cell_type": "code",
   "execution_count": 7,
   "metadata": {
    "collapsed": false
   },
   "outputs": [
    {
     "data": {
      "text/plain": [
       "6.0"
      ]
     },
     "execution_count": 7,
     "metadata": {},
     "output_type": "execute_result"
    }
   ],
   "source": [
    "comb(6,1)"
   ]
  },
  {
   "cell_type": "code",
   "execution_count": 24,
   "metadata": {
    "collapsed": false
   },
   "outputs": [
    {
     "data": {
      "text/plain": [
       "{2: [(1, 1)],\n",
       " 3: [(1, 2), (2, 1)],\n",
       " 4: [(1, 3), (2, 2), (3, 1)],\n",
       " 5: [(1, 4), (2, 3), (3, 2), (4, 1)],\n",
       " 6: [(1, 5), (2, 4), (3, 3), (4, 2), (5, 1)],\n",
       " 7: [(1, 6), (2, 5), (3, 4), (4, 3), (5, 2), (6, 1)],\n",
       " 8: [(2, 6), (3, 5), (4, 4), (5, 3), (6, 2)],\n",
       " 9: [(3, 6), (4, 5), (5, 4), (6, 3)],\n",
       " 10: [(4, 6), (5, 5), (6, 4)],\n",
       " 11: [(5, 6), (6, 5)],\n",
       " 12: [(6, 6)]}"
      ]
     },
     "execution_count": 24,
     "metadata": {},
     "output_type": "execute_result"
    }
   ],
   "source": [
    "dice_dict"
   ]
  },
  {
   "cell_type": "code",
   "execution_count": null,
   "metadata": {
    "collapsed": true
   },
   "outputs": [],
   "source": [
    "results = [for d1 in range(1,7) for d2 in range(1,7)]"
   ]
  },
  {
   "cell_type": "code",
   "execution_count": 68,
   "metadata": {
    "collapsed": false
   },
   "outputs": [],
   "source": [
    "dice_dict = {}\n",
    "for d1 in range(1,7):\n",
    "    for d2 in range(1,7):\n",
    "        roll = (d1 ,d2)\n",
    "        #dice_dict[sum(roll)] = roll\n",
    "        if \n",
    "\n",
    "        "
   ]
  },
  {
   "cell_type": "code",
   "execution_count": 69,
   "metadata": {
    "collapsed": false
   },
   "outputs": [
    {
     "data": {
      "text/plain": [
       "{2: (1, 1),\n",
       " 3: (2, 1),\n",
       " 4: (3, 1),\n",
       " 5: (4, 1),\n",
       " 6: (5, 1),\n",
       " 7: (6, 1),\n",
       " 8: (6, 2),\n",
       " 9: (6, 3),\n",
       " 10: (6, 4),\n",
       " 11: (6, 5),\n",
       " 12: (6, 6)}"
      ]
     },
     "execution_count": 69,
     "metadata": {},
     "output_type": "execute_result"
    }
   ],
   "source": [
    "dice_dict"
   ]
  },
  {
   "cell_type": "code",
   "execution_count": 72,
   "metadata": {
    "collapsed": false
   },
   "outputs": [],
   "source": [
    "dice_dict2 = {}\n",
    "for d1 in range(1,7):\n",
    "    for d2 in range(1,7):\n",
    "        roll = (d1 ,d2)\n",
    "        total = d1 + d2\n",
    "        #dice_dict[sum(roll)] = roll\n",
    "        if total not in dice_dict2.keys():\n",
    "            dice_dict2[total] = [roll]\n",
    "        else:\n",
    "            dice_dict2[total].append(roll)"
   ]
  },
  {
   "cell_type": "code",
   "execution_count": 73,
   "metadata": {
    "collapsed": false
   },
   "outputs": [
    {
     "data": {
      "text/plain": [
       "{2: [(1, 1)],\n",
       " 3: [(1, 2), (2, 1)],\n",
       " 4: [(1, 3), (2, 2), (3, 1)],\n",
       " 5: [(1, 4), (2, 3), (3, 2), (4, 1)],\n",
       " 6: [(1, 5), (2, 4), (3, 3), (4, 2), (5, 1)],\n",
       " 7: [(1, 6), (2, 5), (3, 4), (4, 3), (5, 2), (6, 1)],\n",
       " 8: [(2, 6), (3, 5), (4, 4), (5, 3), (6, 2)],\n",
       " 9: [(3, 6), (4, 5), (5, 4), (6, 3)],\n",
       " 10: [(4, 6), (5, 5), (6, 4)],\n",
       " 11: [(5, 6), (6, 5)],\n",
       " 12: [(6, 6)]}"
      ]
     },
     "execution_count": 73,
     "metadata": {},
     "output_type": "execute_result"
    }
   ],
   "source": [
    "dice_dict2"
   ]
  },
  {
   "cell_type": "code",
   "execution_count": 76,
   "metadata": {
    "collapsed": false
   },
   "outputs": [],
   "source": [
    "#David solution\n",
    "dice_dict = { i : [(j, i - j) for j in range(max([1,i-6]),min([i,7]))] for i in range(2,13)}"
   ]
  },
  {
   "cell_type": "code",
   "execution_count": null,
   "metadata": {
    "collapsed": true
   },
   "outputs": [],
   "source": []
  }
 ],
 "metadata": {
  "anaconda-cloud": {},
  "kernelspec": {
   "display_name": "Python [conda env:py27]",
   "language": "python",
   "name": "conda-env-py27-py"
  },
  "language_info": {
   "codemirror_mode": {
    "name": "ipython",
    "version": 2
   },
   "file_extension": ".py",
   "mimetype": "text/x-python",
   "name": "python",
   "nbconvert_exporter": "python",
   "pygments_lexer": "ipython2",
   "version": "2.7.12"
  }
 },
 "nbformat": 4,
 "nbformat_minor": 0
}
