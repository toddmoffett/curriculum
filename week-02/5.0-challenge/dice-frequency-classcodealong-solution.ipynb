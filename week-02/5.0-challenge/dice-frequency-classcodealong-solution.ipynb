{
 "cells": [
  {
   "cell_type": "markdown",
   "metadata": {},
   "source": [
    "You are requested to create a dice roll dictionary as per below:"
   ]
  },
  {
   "cell_type": "code",
   "execution_count": 19,
   "metadata": {
    "collapsed": true
   },
   "outputs": [],
   "source": [
    "dice_dict = {} #create empty dictionary\n",
    "\n",
    "# {2: [(1, 1)],\n",
    "#  3: [(1, 2), (2, 1)],\n",
    "#  4: [(1, 3), (2, 2), (3, 1)],\n",
    "#  5: [(1, 4), (2, 3), (3, 2), (4, 1)],\n",
    "#  6: [(1, 5), (2, 4), (3, 3), (4, 2), (5, 1)],\n",
    "#  7: [(1, 6), (2, 5), (3, 4), (4, 3), (5, 2), (6, 1)],\n",
    "#  8: [(2, 6), (3, 5), (4, 4), (5, 3), (6, 2)],\n",
    "#  9: [(3, 6), (4, 5), (5, 4), (6, 3)],\n",
    "#  10: [(4, 6), (5, 5), (6, 4)],\n",
    "#  11: [(5, 6), (6, 5)],\n",
    "#  12: [(6, 6)]}\n"
   ]
  },
  {
   "cell_type": "code",
   "execution_count": 20,
   "metadata": {
    "collapsed": false
   },
   "outputs": [
    {
     "data": {
      "text/plain": [
       "[(2, 3), (1, 2)]"
      ]
     },
     "execution_count": 20,
     "metadata": {},
     "output_type": "execute_result"
    }
   ],
   "source": [
    "# simple example of tuples placed in a list - we place the lists in a dictionary below\n",
    "tuple_my_1 = (1,2)\n",
    "tuple_my_2 = (2,3)\n",
    "[tuple_my_2, tuple_my_1]"
   ]
  },
  {
   "cell_type": "code",
   "execution_count": 21,
   "metadata": {
    "collapsed": false
   },
   "outputs": [],
   "source": [
    "# another example to illustrate the solution and thought process leading to it\n",
    "# import itertools\n",
    "# x = [1, 2, 3, 4, 5, 6]\n",
    "# [p for p in itertools.product(x, repeat=2)]"
   ]
  },
  {
   "cell_type": "code",
   "execution_count": 22,
   "metadata": {
    "collapsed": false
   },
   "outputs": [
    {
     "data": {
      "text/plain": [
       "{2: [(1, 1)],\n",
       " 3: [(1, 2), (2, 1)],\n",
       " 4: [(1, 3), (2, 2), (3, 1)],\n",
       " 5: [(1, 4), (2, 3), (3, 2), (4, 1)],\n",
       " 6: [(1, 5), (2, 4), (3, 3), (4, 2), (5, 1)],\n",
       " 7: [(1, 6), (2, 5), (3, 4), (4, 3), (5, 2), (6, 1)],\n",
       " 8: [(2, 6), (3, 5), (4, 4), (5, 3), (6, 2)],\n",
       " 9: [(3, 6), (4, 5), (5, 4), (6, 3)],\n",
       " 10: [(4, 6), (5, 5), (6, 4)],\n",
       " 11: [(5, 6), (6, 5)],\n",
       " 12: [(6, 6)]}"
      ]
     },
     "execution_count": 22,
     "metadata": {},
     "output_type": "execute_result"
    }
   ],
   "source": [
    "# solution\n",
    "\n",
    "dice_dict = {} #create empty dictionary\n",
    "\n",
    "for d1 in range(1,7):\n",
    "    for d2 in range(1,7):\n",
    "        comboTuple = ( d1, d2 ) # create the tuple\n",
    "        key_sum = d1 + d2\n",
    "        if key_sum not in dice_dict.keys():\n",
    "            dice_dict[key_sum] = [comboTuple]\n",
    "        else:\n",
    "            dice_dict[key_sum].append(comboTuple)\n",
    "            \n",
    "dice_dict"
   ]
  },
  {
   "cell_type": "code",
   "execution_count": 23,
   "metadata": {
    "collapsed": false
   },
   "outputs": [
    {
     "data": {
      "text/plain": [
       "{2: [(1, 1)],\n",
       " 3: [(1, 2), (2, 1)],\n",
       " 4: [(1, 3), (2, 2), (3, 1)],\n",
       " 5: [(1, 4), (2, 3), (3, 2), (4, 1)],\n",
       " 6: [(1, 5), (2, 4), (3, 3), (4, 2), (5, 1)],\n",
       " 7: [(1, 6), (2, 5), (3, 4), (4, 3), (5, 2), (6, 1)],\n",
       " 8: [(2, 6), (3, 5), (4, 4), (5, 3), (6, 2)],\n",
       " 9: [(3, 6), (4, 5), (5, 4), (6, 3)],\n",
       " 10: [(4, 6), (5, 5), (6, 4)],\n",
       " 11: [(5, 6), (6, 5)],\n",
       " 12: [(6, 6)]}"
      ]
     },
     "execution_count": 23,
     "metadata": {},
     "output_type": "execute_result"
    }
   ],
   "source": [
    "# David's solution\n",
    "\n",
    "import itertools as iter\n",
    "dice_dict_david = {i: [pair for pair in [p for p in iter.product(range(1,7), repeat=2)] \n",
    "                       if sum(pair) == i] for i in range(2,13)}\n",
    "\n",
    "dice_dict_david"
   ]
  },
  {
   "cell_type": "code",
   "execution_count": 24,
   "metadata": {
    "collapsed": false
   },
   "outputs": [
    {
     "data": {
      "text/plain": [
       "{2: [(1, 1)],\n",
       " 3: [(1, 2), (2, 1)],\n",
       " 4: [(1, 3), (2, 2), (3, 1)],\n",
       " 5: [(1, 4), (2, 3), (3, 2), (4, 1)],\n",
       " 6: [(1, 5), (2, 4), (3, 3), (4, 2), (5, 1)],\n",
       " 7: [(1, 6), (2, 5), (3, 4), (4, 3), (5, 2), (6, 1)],\n",
       " 8: [(2, 6), (3, 5), (4, 4), (5, 3), (6, 2)],\n",
       " 9: [(3, 6), (4, 5), (5, 4), (6, 3)],\n",
       " 10: [(4, 6), (5, 5), (6, 4)],\n",
       " 11: [(5, 6), (6, 5)],\n",
       " 12: [(6, 6)]}"
      ]
     },
     "execution_count": 24,
     "metadata": {},
     "output_type": "execute_result"
    }
   ],
   "source": [
    "# Yet another solution...\n",
    "\n",
    "dice_dict = { i : [(j, i - j) for j in range(max([1,i-6]),min([i,7]))] for i in range(2,13)}\n",
    "dice_dict"
   ]
  },
  {
   "cell_type": "code",
   "execution_count": null,
   "metadata": {
    "collapsed": true
   },
   "outputs": [],
   "source": []
  }
 ],
 "metadata": {
  "kernelspec": {
   "display_name": "Python 2",
   "language": "python",
   "name": "python2"
  },
  "language_info": {
   "codemirror_mode": {
    "name": "ipython",
    "version": 2
   },
   "file_extension": ".py",
   "mimetype": "text/x-python",
   "name": "python",
   "nbconvert_exporter": "python",
   "pygments_lexer": "ipython2",
   "version": "2.7.11"
  },
  "widgets": {
   "state": {},
   "version": "1.1.2"
  }
 },
 "nbformat": 4,
 "nbformat_minor": 0
}
