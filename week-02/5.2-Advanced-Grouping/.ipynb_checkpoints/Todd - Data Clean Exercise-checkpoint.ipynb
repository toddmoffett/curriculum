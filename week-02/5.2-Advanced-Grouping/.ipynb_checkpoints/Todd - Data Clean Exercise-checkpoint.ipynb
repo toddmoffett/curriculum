{
 "cells": [
  {
   "cell_type": "code",
   "execution_count": 217,
   "metadata": {
    "collapsed": false
   },
   "outputs": [
    {
     "data": {
      "text/plain": [
       "u'/Users/toddmoffett1/DSI/dsi_workspace/curriculum/week-02/data'"
      ]
     },
     "execution_count": 217,
     "metadata": {},
     "output_type": "execute_result"
    }
   ],
   "source": [
    "pwd"
   ]
  },
  {
   "cell_type": "code",
   "execution_count": 119,
   "metadata": {
    "collapsed": true
   },
   "outputs": [],
   "source": [
    "import pandas as pd\n",
    "import numpy as np"
   ]
  },
  {
   "cell_type": "code",
   "execution_count": 14,
   "metadata": {
    "collapsed": true
   },
   "outputs": [],
   "source": [
    "df = pd.read_csv('/Users/toddmoffett1/DSI/dsi_workspace/curriculum/week-02/data/la_econ_data.csv')"
   ]
  },
  {
   "cell_type": "code",
   "execution_count": 18,
   "metadata": {
    "collapsed": true
   },
   "outputs": [],
   "source": [
    "df.drop('Unnamed: 0', axis=1, inplace=True)"
   ]
  },
  {
   "cell_type": "code",
   "execution_count": 32,
   "metadata": {
    "collapsed": true
   },
   "outputs": [],
   "source": [
    "# this function can be applied to any series to evaluate float errors\n",
    "def try_to_float(value):\n",
    "    try: \n",
    "        value = float(value)\n",
    "    except ValueError:\n",
    "        print(value)\n",
    "    return value"
   ]
  },
  {
   "cell_type": "code",
   "execution_count": 101,
   "metadata": {
    "collapsed": false
   },
   "outputs": [
    {
     "name": "stdout",
     "output_type": "stream",
     "text": [
      ".\n",
      ".\n"
     ]
    },
    {
     "data": {
      "text/plain": [
       "0       43940\n",
       "1       42888\n",
       "2       38369\n",
       "3       60028\n",
       "4       48203\n",
       "5       38446\n",
       "6       32705\n",
       "7       50167\n",
       "8       80279\n",
       "9       38950\n",
       "10      45188\n",
       "11      34366\n",
       "12      30121\n",
       "13      42246\n",
       "14      46873\n",
       "15      33002\n",
       "16      44495\n",
       "17      59812\n",
       "18      55319\n",
       "19      31557\n",
       "20      46679\n",
       "21      40999\n",
       "22      88018\n",
       "23      90083\n",
       "24      58308\n",
       "25      74831\n",
       "26      45197\n",
       "27      46943\n",
       "28      50790\n",
       "29      55811\n",
       "        ...  \n",
       "889     65743\n",
       "890     50392\n",
       "891     47653\n",
       "892     58587\n",
       "893     41015\n",
       "894    126297\n",
       "895     68481\n",
       "896     51143\n",
       "897     71225\n",
       "898     83919\n",
       "899    136352\n",
       "900    133433\n",
       "901    121444\n",
       "902    124260\n",
       "903     18827\n",
       "904     77648\n",
       "905     65378\n",
       "906     63866\n",
       "907     80030\n",
       "908     63466\n",
       "909     80030\n",
       "910     55069\n",
       "911     85654\n",
       "912     76671\n",
       "913     89674\n",
       "914    174736\n",
       "915     64183\n",
       "916     64154\n",
       "917     38998\n",
       "918     77451\n",
       "Name: x_bar_temp, dtype: object"
      ]
     },
     "execution_count": 101,
     "metadata": {},
     "output_type": "execute_result"
    }
   ],
   "source": [
    "# diagnose the problem usable on other series\n",
    "df['x_bar_temp'].apply(try_to_float)"
   ]
  },
  {
   "cell_type": "code",
   "execution_count": 76,
   "metadata": {
    "collapsed": false
   },
   "outputs": [],
   "source": [
    "df['zip_temp'] = (df['zip'].str.replace('(\\d\\d\\d\\d) \\? \\?','9\\\\1'))"
   ]
  },
  {
   "cell_type": "code",
   "execution_count": 43,
   "metadata": {
    "collapsed": true
   },
   "outputs": [
    {
     "ename": "AttributeError",
     "evalue": "Can only use .str accessor with string values, which use np.object_ dtype in pandas",
     "output_type": "error",
     "traceback": [
      "\u001b[0;31m---------------------------------------------------------------------------\u001b[0m",
      "\u001b[0;31mAttributeError\u001b[0m                            Traceback (most recent call last)",
      "\u001b[0;32m<ipython-input-43-acfb1fc875c9>\u001b[0m in \u001b[0;36m<module>\u001b[0;34m()\u001b[0m\n\u001b[0;32m----> 1\u001b[0;31m \u001b[0mdf\u001b[0m\u001b[0;34m[\u001b[0m\u001b[0;34m'temp'\u001b[0m\u001b[0;34m]\u001b[0m \u001b[0;34m=\u001b[0m \u001b[0mdf\u001b[0m\u001b[0;34m[\u001b[0m\u001b[0;34m'temp'\u001b[0m\u001b[0;34m]\u001b[0m\u001b[0;34m.\u001b[0m\u001b[0mstr\u001b[0m\u001b[0;34m.\u001b[0m\u001b[0mreplace\u001b[0m\u001b[0;34m(\u001b[0m\u001b[0;34m'foo'\u001b[0m\u001b[0;34m,\u001b[0m\u001b[0;34m''\u001b[0m\u001b[0;34m)\u001b[0m\u001b[0;34m.\u001b[0m\u001b[0mastype\u001b[0m\u001b[0;34m(\u001b[0m\u001b[0mfloat\u001b[0m\u001b[0;34m)\u001b[0m\u001b[0;34m\u001b[0m\u001b[0m\n\u001b[0m",
      "\u001b[0;32m/Users/toddmoffett1/anaconda/envs/py27/lib/python2.7/site-packages/pandas/core/generic.pyc\u001b[0m in \u001b[0;36m__getattr__\u001b[0;34m(self, name)\u001b[0m\n\u001b[1;32m   2666\u001b[0m         if (name in self._internal_names_set or name in self._metadata or\n\u001b[1;32m   2667\u001b[0m                 name in self._accessors):\n\u001b[0;32m-> 2668\u001b[0;31m             \u001b[0;32mreturn\u001b[0m \u001b[0mobject\u001b[0m\u001b[0;34m.\u001b[0m\u001b[0m__getattribute__\u001b[0m\u001b[0;34m(\u001b[0m\u001b[0mself\u001b[0m\u001b[0;34m,\u001b[0m \u001b[0mname\u001b[0m\u001b[0;34m)\u001b[0m\u001b[0;34m\u001b[0m\u001b[0m\n\u001b[0m\u001b[1;32m   2669\u001b[0m         \u001b[0;32melse\u001b[0m\u001b[0;34m:\u001b[0m\u001b[0;34m\u001b[0m\u001b[0m\n\u001b[1;32m   2670\u001b[0m             \u001b[0;32mif\u001b[0m \u001b[0mname\u001b[0m \u001b[0;32min\u001b[0m \u001b[0mself\u001b[0m\u001b[0;34m.\u001b[0m\u001b[0m_info_axis\u001b[0m\u001b[0;34m:\u001b[0m\u001b[0;34m\u001b[0m\u001b[0m\n",
      "\u001b[0;32m/Users/toddmoffett1/anaconda/envs/py27/lib/python2.7/site-packages/pandas/core/base.pyc\u001b[0m in \u001b[0;36m__get__\u001b[0;34m(self, instance, owner)\u001b[0m\n\u001b[1;32m    235\u001b[0m             \u001b[0;31m# this ensures that Series.str.<method> is well defined\u001b[0m\u001b[0;34m\u001b[0m\u001b[0;34m\u001b[0m\u001b[0m\n\u001b[1;32m    236\u001b[0m             \u001b[0;32mreturn\u001b[0m \u001b[0mself\u001b[0m\u001b[0;34m.\u001b[0m\u001b[0maccessor_cls\u001b[0m\u001b[0;34m\u001b[0m\u001b[0m\n\u001b[0;32m--> 237\u001b[0;31m         \u001b[0;32mreturn\u001b[0m \u001b[0mself\u001b[0m\u001b[0;34m.\u001b[0m\u001b[0mconstruct_accessor\u001b[0m\u001b[0;34m(\u001b[0m\u001b[0minstance\u001b[0m\u001b[0;34m)\u001b[0m\u001b[0;34m\u001b[0m\u001b[0m\n\u001b[0m\u001b[1;32m    238\u001b[0m \u001b[0;34m\u001b[0m\u001b[0m\n\u001b[1;32m    239\u001b[0m     \u001b[0;32mdef\u001b[0m \u001b[0m__set__\u001b[0m\u001b[0;34m(\u001b[0m\u001b[0mself\u001b[0m\u001b[0;34m,\u001b[0m \u001b[0minstance\u001b[0m\u001b[0;34m,\u001b[0m \u001b[0mvalue\u001b[0m\u001b[0;34m)\u001b[0m\u001b[0;34m:\u001b[0m\u001b[0;34m\u001b[0m\u001b[0m\n",
      "\u001b[0;32m/Users/toddmoffett1/anaconda/envs/py27/lib/python2.7/site-packages/pandas/core/strings.pyc\u001b[0m in \u001b[0;36m_make_str_accessor\u001b[0;34m(self)\u001b[0m\n\u001b[1;32m   1816\u001b[0m             \u001b[0;31m# (instead of test for object dtype), but that isn't practical for\u001b[0m\u001b[0;34m\u001b[0m\u001b[0;34m\u001b[0m\u001b[0m\n\u001b[1;32m   1817\u001b[0m             \u001b[0;31m# performance reasons until we have a str dtype (GH 9343)\u001b[0m\u001b[0;34m\u001b[0m\u001b[0;34m\u001b[0m\u001b[0m\n\u001b[0;32m-> 1818\u001b[0;31m             raise AttributeError(\"Can only use .str accessor with string \"\n\u001b[0m\u001b[1;32m   1819\u001b[0m                                  \u001b[0;34m\"values, which use np.object_ dtype in \"\u001b[0m\u001b[0;34m\u001b[0m\u001b[0m\n\u001b[1;32m   1820\u001b[0m                                  \"pandas\")\n",
      "\u001b[0;31mAttributeError\u001b[0m: Can only use .str accessor with string values, which use np.object_ dtype in pandas"
     ]
    }
   ],
   "source": [
    "df['temp'] = df['temp'].str.replace('foo','').astype(float)"
   ]
  },
  {
   "cell_type": "code",
   "execution_count": 81,
   "metadata": {
    "collapsed": true
   },
   "outputs": [],
   "source": [
    "df['zip'] = df['zip_temp']"
   ]
  },
  {
   "cell_type": "code",
   "execution_count": 150,
   "metadata": {
    "collapsed": false
   },
   "outputs": [
    {
     "data": {
      "text/html": [
       "<div>\n",
       "<table border=\"1\" class=\"dataframe\">\n",
       "  <thead>\n",
       "    <tr style=\"text-align: right;\">\n",
       "      <th></th>\n",
       "      <th>zip</th>\n",
       "      <th>x_bar</th>\n",
       "      <th>pop</th>\n",
       "      <th>frequency distribution midpoint</th>\n",
       "      <th>x_bar_temp</th>\n",
       "    </tr>\n",
       "  </thead>\n",
       "  <tbody>\n",
       "    <tr>\n",
       "      <th>0</th>\n",
       "      <td>90001</td>\n",
       "      <td>quatreSAN   (SAN**zwei)quatreZERO</td>\n",
       "      <td>57110.0</td>\n",
       "      <td>thirty-four thousand, three hundred and fifty</td>\n",
       "      <td>NaN</td>\n",
       "    </tr>\n",
       "    <tr>\n",
       "      <th>1</th>\n",
       "      <td>90002</td>\n",
       "      <td>quatrezwei   ochoochoocho</td>\n",
       "      <td>51223.0</td>\n",
       "      <td>thirty-five thousand and twenty</td>\n",
       "      <td>NaN</td>\n",
       "    </tr>\n",
       "    <tr>\n",
       "      <th>2</th>\n",
       "      <td>90003</td>\n",
       "      <td>SANocho   SAN(SAN*zwei)(SAN**zwei)</td>\n",
       "      <td>66266.0</td>\n",
       "      <td>thirty thousand, nine hundred and twelve</td>\n",
       "      <td>NaN</td>\n",
       "    </tr>\n",
       "    <tr>\n",
       "      <th>3</th>\n",
       "      <td>90004</td>\n",
       "      <td>(SAN*zwei)ZERO   ZEROzweiocho</td>\n",
       "      <td>62180.0</td>\n",
       "      <td>forty thousand, three hundred and fifty-eight</td>\n",
       "      <td>NaN</td>\n",
       "    </tr>\n",
       "    <tr>\n",
       "      <th>4</th>\n",
       "      <td>90005</td>\n",
       "      <td>quatreocho   zweiZEROSAN</td>\n",
       "      <td>37681.0</td>\n",
       "      <td>thirty-six thousand and fifty-eight</td>\n",
       "      <td>NaN</td>\n",
       "    </tr>\n",
       "  </tbody>\n",
       "</table>\n",
       "</div>"
      ],
      "text/plain": [
       "     zip                               x_bar      pop  \\\n",
       "0  90001   quatreSAN   (SAN**zwei)quatreZERO  57110.0   \n",
       "1  90002           quatrezwei   ochoochoocho  51223.0   \n",
       "2  90003  SANocho   SAN(SAN*zwei)(SAN**zwei)  66266.0   \n",
       "3  90004       (SAN*zwei)ZERO   ZEROzweiocho  62180.0   \n",
       "4  90005            quatreocho   zweiZEROSAN  37681.0   \n",
       "\n",
       "                 frequency distribution midpoint x_bar_temp  \n",
       "0  thirty-four thousand, three hundred and fifty        NaN  \n",
       "1                thirty-five thousand and twenty        NaN  \n",
       "2       thirty thousand, nine hundred and twelve        NaN  \n",
       "3  forty thousand, three hundred and fifty-eight        NaN  \n",
       "4            thirty-six thousand and fifty-eight        NaN  "
      ]
     },
     "execution_count": 150,
     "metadata": {},
     "output_type": "execute_result"
    }
   ],
   "source": [
    "df.head()"
   ]
  },
  {
   "cell_type": "code",
   "execution_count": 84,
   "metadata": {
    "collapsed": true
   },
   "outputs": [],
   "source": [
    "df.drop('zip_temp', axis=1, inplace=True)"
   ]
  },
  {
   "cell_type": "code",
   "execution_count": 151,
   "metadata": {
    "collapsed": true
   },
   "outputs": [],
   "source": [
    "df['x_bar_temp'] = df['x_bar']"
   ]
  },
  {
   "cell_type": "code",
   "execution_count": 90,
   "metadata": {
    "collapsed": false
   },
   "outputs": [],
   "source": [
    "df.drop('x_bar_temp', axis=1, inplace=True)"
   ]
  },
  {
   "cell_type": "code",
   "execution_count": 80,
   "metadata": {
    "collapsed": false
   },
   "outputs": [
    {
     "data": {
      "text/plain": [
       "919"
      ]
     },
     "execution_count": 80,
     "metadata": {},
     "output_type": "execute_result"
    }
   ],
   "source": [
    "df['frequency distribution midpoint'].count()"
   ]
  },
  {
   "cell_type": "code",
   "execution_count": 153,
   "metadata": {
    "collapsed": true
   },
   "outputs": [],
   "source": [
    "df['x_bar_temp'] = df['x_bar_temp'].str.replace('ZERO', '0' )\n",
    "df['x_bar_temp'] = df['x_bar_temp'].str.replace('ocho', '8' )\n",
    "df['x_bar_temp'] = df['x_bar_temp'].str.replace('zwei', '2' )\n",
    "df['x_bar_temp'] = df['x_bar_temp'].str.replace('quatre', '4' )\n",
    "df['x_bar_temp'] = df['x_bar_temp'].str.replace('SAN', '3' )\n",
    "df['x_bar_temp'] = df['x_bar_temp'].str.replace('ZEVEN', '7' )\n",
    "df['x_bar_temp'] = df['x_bar_temp'].str.replace('V', '5' )\n",
    "df['x_bar_temp'] = df['x_bar_temp'].str.replace('I', '1' )\n",
    "df['x_bar_temp'] = df['x_bar_temp'].str.replace('\\(3\\*2\\)', '6' )\n",
    "df['x_bar_temp'] = df['x_bar_temp'].str.replace('\\(3\\*\\*2\\)', '9' )"
   ]
  },
  {
   "cell_type": "code",
   "execution_count": 154,
   "metadata": {
    "collapsed": true
   },
   "outputs": [],
   "source": [
    "df['x_bar_temp'] = df['x_bar_temp'].str.replace(' ','')"
   ]
  },
  {
   "cell_type": "code",
   "execution_count": 189,
   "metadata": {
    "collapsed": true
   },
   "outputs": [
    {
     "data": {
      "text/html": [
       "<div>\n",
       "<table border=\"1\" class=\"dataframe\">\n",
       "  <thead>\n",
       "    <tr style=\"text-align: right;\">\n",
       "      <th></th>\n",
       "      <th>zip</th>\n",
       "      <th>x_bar</th>\n",
       "      <th>pop</th>\n",
       "      <th>median</th>\n",
       "      <th>median_temp</th>\n",
       "    </tr>\n",
       "  </thead>\n",
       "  <tbody>\n",
       "    <tr>\n",
       "      <th>0</th>\n",
       "      <td>90001</td>\n",
       "      <td>43940</td>\n",
       "      <td>57110.0</td>\n",
       "      <td>thirty-four thousand, three hundred and fifty</td>\n",
       "      <td>thirty-four thousand, three hundred and fifty</td>\n",
       "    </tr>\n",
       "    <tr>\n",
       "      <th>1</th>\n",
       "      <td>90002</td>\n",
       "      <td>42888</td>\n",
       "      <td>51223.0</td>\n",
       "      <td>thirty-five thousand and twenty</td>\n",
       "      <td>thirty-five thousand and twenty</td>\n",
       "    </tr>\n",
       "    <tr>\n",
       "      <th>2</th>\n",
       "      <td>90003</td>\n",
       "      <td>38369</td>\n",
       "      <td>66266.0</td>\n",
       "      <td>thirty thousand, nine hundred and twelve</td>\n",
       "      <td>thirty thousand, nine hundred and twelve</td>\n",
       "    </tr>\n",
       "    <tr>\n",
       "      <th>3</th>\n",
       "      <td>90004</td>\n",
       "      <td>60028</td>\n",
       "      <td>62180.0</td>\n",
       "      <td>forty thousand, three hundred and fifty-eight</td>\n",
       "      <td>forty thousand, three hundred and fifty-eight</td>\n",
       "    </tr>\n",
       "    <tr>\n",
       "      <th>4</th>\n",
       "      <td>90005</td>\n",
       "      <td>48203</td>\n",
       "      <td>37681.0</td>\n",
       "      <td>thirty-six thousand and fifty-eight</td>\n",
       "      <td>thirty-six thousand and fifty-eight</td>\n",
       "    </tr>\n",
       "    <tr>\n",
       "      <th>5</th>\n",
       "      <td>90006</td>\n",
       "      <td>38446</td>\n",
       "      <td>59185.0</td>\n",
       "      <td>twenty-nine thousand, nine hundred and thirty-...</td>\n",
       "      <td>twenty-nine thousand, nine hundred and thirty-...</td>\n",
       "    </tr>\n",
       "    <tr>\n",
       "      <th>6</th>\n",
       "      <td>90007</td>\n",
       "      <td>32705</td>\n",
       "      <td>40920.0</td>\n",
       "      <td>twenty-one thousand, one hundred and ninety-five</td>\n",
       "      <td>twenty-one thousand, one hundred and ninety-five</td>\n",
       "    </tr>\n",
       "    <tr>\n",
       "      <th>7</th>\n",
       "      <td>90008</td>\n",
       "      <td>50167</td>\n",
       "      <td>32327.0</td>\n",
       "      <td>forty thousand, nine hundred and seventy-three</td>\n",
       "      <td>forty thousand, nine hundred and seventy-three</td>\n",
       "    </tr>\n",
       "    <tr>\n",
       "      <th>8</th>\n",
       "      <td>90010</td>\n",
       "      <td>80279</td>\n",
       "      <td>3800.0</td>\n",
       "      <td>fifty-one thousand, nine hundred and ninety-nine</td>\n",
       "      <td>fifty-one thousand, nine hundred and ninety-nine</td>\n",
       "    </tr>\n",
       "    <tr>\n",
       "      <th>9</th>\n",
       "      <td>90011</td>\n",
       "      <td>38950</td>\n",
       "      <td>103892.0</td>\n",
       "      <td>twenty-nine thousand, nine hundred and sixty-nine</td>\n",
       "      <td>twenty-nine thousand, nine hundred and sixty-nine</td>\n",
       "    </tr>\n",
       "    <tr>\n",
       "      <th>10</th>\n",
       "      <td>90012</td>\n",
       "      <td>45188</td>\n",
       "      <td>27522.0</td>\n",
       "      <td>thirty-nine thousand, seven hundred and sevent...</td>\n",
       "      <td>thirty-nine thousand, seven hundred and sevent...</td>\n",
       "    </tr>\n",
       "    <tr>\n",
       "      <th>11</th>\n",
       "      <td>90013</td>\n",
       "      <td>34366</td>\n",
       "      <td>11772.0</td>\n",
       "      <td>seventeen thousand, six hundred and twenty-eight</td>\n",
       "      <td>seventeen thousand, six hundred and twenty-eight</td>\n",
       "    </tr>\n",
       "    <tr>\n",
       "      <th>12</th>\n",
       "      <td>90014</td>\n",
       "      <td>30121</td>\n",
       "      <td>7005.0</td>\n",
       "      <td>thirteen thousand, eight hundred and thirty-two</td>\n",
       "      <td>thirteen thousand, eight hundred and thirty-two</td>\n",
       "    </tr>\n",
       "    <tr>\n",
       "      <th>13</th>\n",
       "      <td>90015</td>\n",
       "      <td>42246</td>\n",
       "      <td>18986.0</td>\n",
       "      <td>twenty-four thousand, seven hundred and sixty-two</td>\n",
       "      <td>twenty-four thousand, seven hundred and sixty-two</td>\n",
       "    </tr>\n",
       "    <tr>\n",
       "      <th>14</th>\n",
       "      <td>90016</td>\n",
       "      <td>46873</td>\n",
       "      <td>47596.0</td>\n",
       "      <td>thirty-seven thousand, two hundred and twenty-...</td>\n",
       "      <td>thirty-seven thousand, two hundred and twenty-...</td>\n",
       "    </tr>\n",
       "    <tr>\n",
       "      <th>15</th>\n",
       "      <td>90017</td>\n",
       "      <td>33002</td>\n",
       "      <td>23768.0</td>\n",
       "      <td>twenty thousand, nine hundred and fifty-six</td>\n",
       "      <td>twenty thousand, nine hundred and fifty-six</td>\n",
       "    </tr>\n",
       "    <tr>\n",
       "      <th>16</th>\n",
       "      <td>90018</td>\n",
       "      <td>44495</td>\n",
       "      <td>49310.0</td>\n",
       "      <td>thirty-three thousand, one hundred and thirty-...</td>\n",
       "      <td>thirty-three thousand, one hundred and thirty-...</td>\n",
       "    </tr>\n",
       "    <tr>\n",
       "      <th>17</th>\n",
       "      <td>90019</td>\n",
       "      <td>59812</td>\n",
       "      <td>64458.0</td>\n",
       "      <td>forty-two thousand, six hundred and fifteen</td>\n",
       "      <td>forty-two thousand, six hundred and fifteen</td>\n",
       "    </tr>\n",
       "    <tr>\n",
       "      <th>18</th>\n",
       "      <td>90020</td>\n",
       "      <td>55319</td>\n",
       "      <td>38967.0</td>\n",
       "      <td>thirty-nine thousand, eight hundred and forty-six</td>\n",
       "      <td>thirty-nine thousand, eight hundred and forty-six</td>\n",
       "    </tr>\n",
       "    <tr>\n",
       "      <th>19</th>\n",
       "      <td>90021</td>\n",
       "      <td>31557</td>\n",
       "      <td>3951.0</td>\n",
       "      <td>twenty-one thousand and eighty-four</td>\n",
       "      <td>twenty-one thousand and eighty-four</td>\n",
       "    </tr>\n",
       "  </tbody>\n",
       "</table>\n",
       "</div>"
      ],
      "text/plain": [
       "      zip  x_bar       pop                                             median  \\\n",
       "0   90001  43940   57110.0      thirty-four thousand, three hundred and fifty   \n",
       "1   90002  42888   51223.0                    thirty-five thousand and twenty   \n",
       "2   90003  38369   66266.0           thirty thousand, nine hundred and twelve   \n",
       "3   90004  60028   62180.0      forty thousand, three hundred and fifty-eight   \n",
       "4   90005  48203   37681.0                thirty-six thousand and fifty-eight   \n",
       "5   90006  38446   59185.0  twenty-nine thousand, nine hundred and thirty-...   \n",
       "6   90007  32705   40920.0   twenty-one thousand, one hundred and ninety-five   \n",
       "7   90008  50167   32327.0     forty thousand, nine hundred and seventy-three   \n",
       "8   90010  80279    3800.0   fifty-one thousand, nine hundred and ninety-nine   \n",
       "9   90011  38950  103892.0  twenty-nine thousand, nine hundred and sixty-nine   \n",
       "10  90012  45188   27522.0  thirty-nine thousand, seven hundred and sevent...   \n",
       "11  90013  34366   11772.0   seventeen thousand, six hundred and twenty-eight   \n",
       "12  90014  30121    7005.0    thirteen thousand, eight hundred and thirty-two   \n",
       "13  90015  42246   18986.0  twenty-four thousand, seven hundred and sixty-two   \n",
       "14  90016  46873   47596.0  thirty-seven thousand, two hundred and twenty-...   \n",
       "15  90017  33002   23768.0        twenty thousand, nine hundred and fifty-six   \n",
       "16  90018  44495   49310.0  thirty-three thousand, one hundred and thirty-...   \n",
       "17  90019  59812   64458.0        forty-two thousand, six hundred and fifteen   \n",
       "18  90020  55319   38967.0  thirty-nine thousand, eight hundred and forty-six   \n",
       "19  90021  31557    3951.0                twenty-one thousand and eighty-four   \n",
       "\n",
       "                                          median_temp  \n",
       "0       thirty-four thousand, three hundred and fifty  \n",
       "1                     thirty-five thousand and twenty  \n",
       "2            thirty thousand, nine hundred and twelve  \n",
       "3       forty thousand, three hundred and fifty-eight  \n",
       "4                 thirty-six thousand and fifty-eight  \n",
       "5   twenty-nine thousand, nine hundred and thirty-...  \n",
       "6    twenty-one thousand, one hundred and ninety-five  \n",
       "7      forty thousand, nine hundred and seventy-three  \n",
       "8    fifty-one thousand, nine hundred and ninety-nine  \n",
       "9   twenty-nine thousand, nine hundred and sixty-nine  \n",
       "10  thirty-nine thousand, seven hundred and sevent...  \n",
       "11   seventeen thousand, six hundred and twenty-eight  \n",
       "12    thirteen thousand, eight hundred and thirty-two  \n",
       "13  twenty-four thousand, seven hundred and sixty-two  \n",
       "14  thirty-seven thousand, two hundred and twenty-...  \n",
       "15        twenty thousand, nine hundred and fifty-six  \n",
       "16  thirty-three thousand, one hundred and thirty-...  \n",
       "17        forty-two thousand, six hundred and fifteen  \n",
       "18  thirty-nine thousand, eight hundred and forty-six  \n",
       "19                twenty-one thousand and eighty-four  "
      ]
     },
     "execution_count": 189,
     "metadata": {},
     "output_type": "execute_result"
    }
   ],
   "source": [
    "df.head(20)"
   ]
  },
  {
   "cell_type": "code",
   "execution_count": 162,
   "metadata": {
    "collapsed": false,
    "scrolled": true
   },
   "outputs": [
    {
     "data": {
      "text/html": [
       "<div>\n",
       "<table border=\"1\" class=\"dataframe\">\n",
       "  <thead>\n",
       "    <tr style=\"text-align: right;\">\n",
       "      <th></th>\n",
       "      <th>zip</th>\n",
       "      <th>x_bar</th>\n",
       "      <th>pop</th>\n",
       "      <th>frequency distribution midpoint</th>\n",
       "      <th>x_bar_temp</th>\n",
       "    </tr>\n",
       "  </thead>\n",
       "  <tbody>\n",
       "  </tbody>\n",
       "</table>\n",
       "</div>"
      ],
      "text/plain": [
       "Empty DataFrame\n",
       "Columns: [zip, x_bar, pop, frequency distribution midpoint, x_bar_temp]\n",
       "Index: []"
      ]
     },
     "execution_count": 162,
     "metadata": {},
     "output_type": "execute_result"
    }
   ],
   "source": [
    "df[df['x_bar_temp'] == '.']"
   ]
  },
  {
   "cell_type": "code",
   "execution_count": 109,
   "metadata": {
    "collapsed": false
   },
   "outputs": [],
   "source": [
    "df['x_bar_temp'] = df['x_bar_temp'].str.replace('-9999999', '0')"
   ]
  },
  {
   "cell_type": "code",
   "execution_count": 111,
   "metadata": {
    "collapsed": true
   },
   "outputs": [],
   "source": [
    "df['x_bar_temp'] = df['x_bar_temp'].astype(float)"
   ]
  },
  {
   "cell_type": "code",
   "execution_count": 158,
   "metadata": {
    "collapsed": false
   },
   "outputs": [],
   "source": [
    "df['x_bar_temp'].iloc[396] = np.nan\n",
    "df['x_bar_temp'].iloc[61] = np.nan"
   ]
  },
  {
   "cell_type": "code",
   "execution_count": 169,
   "metadata": {
    "collapsed": false
   },
   "outputs": [
    {
     "data": {
      "text/html": [
       "<div>\n",
       "<table border=\"1\" class=\"dataframe\">\n",
       "  <thead>\n",
       "    <tr style=\"text-align: right;\">\n",
       "      <th></th>\n",
       "      <th>zip</th>\n",
       "      <th>x_bar</th>\n",
       "      <th>pop</th>\n",
       "      <th>frequency distribution midpoint</th>\n",
       "      <th>x_bar_temp</th>\n",
       "    </tr>\n",
       "  </thead>\n",
       "  <tbody>\n",
       "    <tr>\n",
       "      <th>61</th>\n",
       "      <td>90073</td>\n",
       "      <td>.</td>\n",
       "      <td>539.0</td>\n",
       "      <td>two thousand, four hundred and ninety-nine</td>\n",
       "      <td>NaN</td>\n",
       "    </tr>\n",
       "    <tr>\n",
       "      <th>396</th>\n",
       "      <td>92135</td>\n",
       "      <td>.</td>\n",
       "      <td>571.0</td>\n",
       "      <td>one hundred and twenty-seven thousand, six hun...</td>\n",
       "      <td>NaN</td>\n",
       "    </tr>\n",
       "  </tbody>\n",
       "</table>\n",
       "</div>"
      ],
      "text/plain": [
       "       zip x_bar    pop                    frequency distribution midpoint  \\\n",
       "61   90073     .  539.0         two thousand, four hundred and ninety-nine   \n",
       "396  92135     .  571.0  one hundred and twenty-seven thousand, six hun...   \n",
       "\n",
       "    x_bar_temp  \n",
       "61         NaN  \n",
       "396        NaN  "
      ]
     },
     "execution_count": 169,
     "metadata": {},
     "output_type": "execute_result"
    }
   ],
   "source": [
    "df[df['x_bar_temp'].isnull()]"
   ]
  },
  {
   "cell_type": "code",
   "execution_count": 170,
   "metadata": {
    "collapsed": false
   },
   "outputs": [],
   "source": [
    "df['x_bar_temp'] = df['x_bar_temp'].dropna()"
   ]
  },
  {
   "cell_type": "code",
   "execution_count": 173,
   "metadata": {
    "collapsed": false
   },
   "outputs": [],
   "source": [
    "df['x_bar'] = df['x_bar_temp']"
   ]
  },
  {
   "cell_type": "code",
   "execution_count": 177,
   "metadata": {
    "collapsed": false
   },
   "outputs": [],
   "source": [
    "df.drop('x_bar_temp', axis=1, inplace=True)"
   ]
  },
  {
   "cell_type": "code",
   "execution_count": 180,
   "metadata": {
    "collapsed": false
   },
   "outputs": [
    {
     "data": {
      "text/plain": [
       "Index([u'zip', u'x_bar', u'pop', u'frequency distribution midpoint'], dtype='object')"
      ]
     },
     "execution_count": 180,
     "metadata": {},
     "output_type": "execute_result"
    }
   ],
   "source": [
    "df.columns"
   ]
  },
  {
   "cell_type": "code",
   "execution_count": 181,
   "metadata": {
    "collapsed": true
   },
   "outputs": [],
   "source": [
    "df['median'] = df['frequency distribution midpoint']"
   ]
  },
  {
   "cell_type": "code",
   "execution_count": 186,
   "metadata": {
    "collapsed": false
   },
   "outputs": [],
   "source": [
    "df.drop('frequency distribution midpoint', axis=1, inplace=True)"
   ]
  },
  {
   "cell_type": "code",
   "execution_count": 188,
   "metadata": {
    "collapsed": true
   },
   "outputs": [],
   "source": [
    "df['median_temp'] = df['median']"
   ]
  },
  {
   "cell_type": "code",
   "execution_count": 192,
   "metadata": {
    "collapsed": false
   },
   "outputs": [],
   "source": [
    "df['median_tmp'] = (df['median'].str.replace('and', ''))\n",
    "df['median_tmp'] = (df['median_tmp'].str.replace(',', ''))\n",
    "df['median_thousands'] = (df['median_tmp'].str.extract('(.+) thous', expand=False))\n",
    "df['median_ones'] = (df['median_tmp'].str.extract('thous (.+)', expand=False))"
   ]
  },
  {
   "cell_type": "code",
   "execution_count": 215,
   "metadata": {
    "collapsed": false
   },
   "outputs": [
    {
     "data": {
      "text/html": [
       "<div>\n",
       "<table border=\"1\" class=\"dataframe\">\n",
       "  <thead>\n",
       "    <tr style=\"text-align: right;\">\n",
       "      <th></th>\n",
       "      <th>zip</th>\n",
       "      <th>pop</th>\n",
       "      <th>mean</th>\n",
       "    </tr>\n",
       "  </thead>\n",
       "  <tbody>\n",
       "    <tr>\n",
       "      <th>0</th>\n",
       "      <td>90001</td>\n",
       "      <td>57110.0</td>\n",
       "      <td>43940</td>\n",
       "    </tr>\n",
       "    <tr>\n",
       "      <th>1</th>\n",
       "      <td>90002</td>\n",
       "      <td>51223.0</td>\n",
       "      <td>42888</td>\n",
       "    </tr>\n",
       "    <tr>\n",
       "      <th>2</th>\n",
       "      <td>90003</td>\n",
       "      <td>66266.0</td>\n",
       "      <td>38369</td>\n",
       "    </tr>\n",
       "    <tr>\n",
       "      <th>3</th>\n",
       "      <td>90004</td>\n",
       "      <td>62180.0</td>\n",
       "      <td>60028</td>\n",
       "    </tr>\n",
       "    <tr>\n",
       "      <th>4</th>\n",
       "      <td>90005</td>\n",
       "      <td>37681.0</td>\n",
       "      <td>48203</td>\n",
       "    </tr>\n",
       "  </tbody>\n",
       "</table>\n",
       "</div>"
      ],
      "text/plain": [
       "     zip      pop   mean\n",
       "0  90001  57110.0  43940\n",
       "1  90002  51223.0  42888\n",
       "2  90003  66266.0  38369\n",
       "3  90004  62180.0  60028\n",
       "4  90005  37681.0  48203"
      ]
     },
     "execution_count": 215,
     "metadata": {},
     "output_type": "execute_result"
    }
   ],
   "source": [
    "df.head()"
   ]
  },
  {
   "cell_type": "code",
   "execution_count": 199,
   "metadata": {
    "collapsed": false
   },
   "outputs": [
    {
     "data": {
      "text/plain": [
       "Index([u'zip', u'x_bar', u'pop', u'median', u'median_temp', u'median_tmp',\n",
       "       u'median_thousands', u'median_ones'],\n",
       "      dtype='object')"
      ]
     },
     "execution_count": 199,
     "metadata": {},
     "output_type": "execute_result"
    }
   ],
   "source": [
    "df.columns"
   ]
  },
  {
   "cell_type": "code",
   "execution_count": 212,
   "metadata": {
    "collapsed": true
   },
   "outputs": [],
   "source": [
    "df['mean'] = df['x_bar']"
   ]
  },
  {
   "cell_type": "code",
   "execution_count": 214,
   "metadata": {
    "collapsed": false
   },
   "outputs": [],
   "source": [
    "df.drop('x_bar', axis=1, inplace=True)"
   ]
  },
  {
   "cell_type": "code",
   "execution_count": 216,
   "metadata": {
    "collapsed": false
   },
   "outputs": [
    {
     "name": "stdout",
     "output_type": "stream",
     "text": [
      "Water_Use_Average_By_Zipcode.csv  lenses.csv\r\n",
      "balloons.csv                      lusitania.csv\r\n",
      "billboard.csv                     shuttle_control.csv\r\n",
      "birmingham_streets.csv            titanic.csv\r\n",
      "iris.csv                          weather_2012.csv\r\n",
      "la_econ_data.csv\r\n"
     ]
    }
   ],
   "source": [
    "ls"
   ]
  },
  {
   "cell_type": "code",
   "execution_count": null,
   "metadata": {
    "collapsed": true
   },
   "outputs": [],
   "source": [
    "df_water = pd.read_csv()"
   ]
  }
 ],
 "metadata": {
  "kernelspec": {
   "display_name": "Python [conda env:py27]",
   "language": "python",
   "name": "conda-env-py27-py"
  },
  "language_info": {
   "codemirror_mode": {
    "name": "ipython",
    "version": 2
   },
   "file_extension": ".py",
   "mimetype": "text/x-python",
   "name": "python",
   "nbconvert_exporter": "python",
   "pygments_lexer": "ipython2",
   "version": "2.7.12"
  }
 },
 "nbformat": 4,
 "nbformat_minor": 1
}
