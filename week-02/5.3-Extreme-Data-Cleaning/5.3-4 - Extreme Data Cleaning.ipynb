{
 "cells": [
  {
   "cell_type": "markdown",
   "metadata": {},
   "source": [
    "# Who is using all the water?"
   ]
  },
  {
   "cell_type": "code",
   "execution_count": 1,
   "metadata": {
    "collapsed": true
   },
   "outputs": [],
   "source": [
    "import pandas as pd"
   ]
  },
  {
   "cell_type": "code",
   "execution_count": 6,
   "metadata": {
    "collapsed": false
   },
   "outputs": [
    {
     "name": "stdout",
     "output_type": "stream",
     "text": [
      "14zp05ca.xls            iris.csv          shuttle_control.csv\r\n",
      "balloons.csv            la_econ_data.csv  titanic.csv\r\n",
      "billboard.csv           lenses.csv        Water_Use_Average_By_Zipcode.csv\r\n",
      "birmingham_streets.csv  lusitania.csv     weather_2012.csv\r\n"
     ]
    }
   ],
   "source": [
    "ls curriculum/week-02/data"
   ]
  },
  {
   "cell_type": "code",
   "execution_count": 7,
   "metadata": {
    "collapsed": false
   },
   "outputs": [
    {
     "name": "stdout",
     "output_type": "stream",
     "text": [
      ",zip,x_bar,pop,frequency distribution midpoint\n",
      "0,0001 ? ?,quatreSAN   (SAN**zwei)quatreZERO,\"57,110\",\"thirty-four thousand, three hundred and fifty\"\n",
      "1,90002,quatrezwei   ochoochoocho,\"51,223\",thirty-five thousand and twenty\n",
      "2,90003,SANocho   SAN(SAN*zwei)(SAN**zwei),\"66,266\",\"thirty thousand, nine hundred and twelve\"\n",
      "3,90004,(SAN*zwei)ZERO   ZEROzweiocho,\"62,180\",\"forty thousand, three hundred and fifty-eight\"\n",
      "4,90005,quatreocho   zweiZEROSAN,3.7681E4,thirty-six thousand and fifty-eight\n",
      "5,90006,SANocho   quatrequatre(SAN*zwei),\"59,185\",\"twenty-nine thousand, nine hundred and thirty-nine\"\n",
      "6,90007,SANzwei   ZEVENZEROV,\"40,920\",\"twenty-one thousand, one hundred and ninety-five\"\n",
      "7,90008,VZERO   I(SAN*zwei)ZEVEN,\"32,327\",\"forty thousand, nine hundred and seventy-three\"\n",
      "8,90010,ochoZERO   zweiZEVEN(SAN**zwei),\"3,800\",\"fifty-one thousand, nine hundred and ninety-nine\"\n"
     ]
    }
   ],
   "source": [
    "%%bash \n",
    "head curriculum/week-02/data/la_econ_data.csv"
   ]
  },
  {
   "cell_type": "code",
   "execution_count": 8,
   "metadata": {
    "collapsed": true
   },
   "outputs": [],
   "source": [
    "econ_data = 'curriculum/week-02/data/la_econ_data.csv'\n",
    "econ_data_df = pd.read_csv(econ_data)"
   ]
  },
  {
   "cell_type": "code",
   "execution_count": 9,
   "metadata": {
    "collapsed": false
   },
   "outputs": [
    {
     "data": {
      "text/html": [
       "<div>\n",
       "<table border=\"1\" class=\"dataframe\">\n",
       "  <thead>\n",
       "    <tr style=\"text-align: right;\">\n",
       "      <th></th>\n",
       "      <th>Unnamed: 0</th>\n",
       "      <th>zip</th>\n",
       "      <th>x_bar</th>\n",
       "      <th>pop</th>\n",
       "      <th>frequency distribution midpoint</th>\n",
       "    </tr>\n",
       "  </thead>\n",
       "  <tbody>\n",
       "    <tr>\n",
       "      <th>0</th>\n",
       "      <td>0</td>\n",
       "      <td>0001 ? ?</td>\n",
       "      <td>quatreSAN   (SAN**zwei)quatreZERO</td>\n",
       "      <td>57,110</td>\n",
       "      <td>thirty-four thousand, three hundred and fifty</td>\n",
       "    </tr>\n",
       "    <tr>\n",
       "      <th>1</th>\n",
       "      <td>1</td>\n",
       "      <td>90002</td>\n",
       "      <td>quatrezwei   ochoochoocho</td>\n",
       "      <td>51,223</td>\n",
       "      <td>thirty-five thousand and twenty</td>\n",
       "    </tr>\n",
       "    <tr>\n",
       "      <th>2</th>\n",
       "      <td>2</td>\n",
       "      <td>90003</td>\n",
       "      <td>SANocho   SAN(SAN*zwei)(SAN**zwei)</td>\n",
       "      <td>66,266</td>\n",
       "      <td>thirty thousand, nine hundred and twelve</td>\n",
       "    </tr>\n",
       "    <tr>\n",
       "      <th>3</th>\n",
       "      <td>3</td>\n",
       "      <td>90004</td>\n",
       "      <td>(SAN*zwei)ZERO   ZEROzweiocho</td>\n",
       "      <td>62,180</td>\n",
       "      <td>forty thousand, three hundred and fifty-eight</td>\n",
       "    </tr>\n",
       "    <tr>\n",
       "      <th>4</th>\n",
       "      <td>4</td>\n",
       "      <td>90005</td>\n",
       "      <td>quatreocho   zweiZEROSAN</td>\n",
       "      <td>3.7681E4</td>\n",
       "      <td>thirty-six thousand and fifty-eight</td>\n",
       "    </tr>\n",
       "  </tbody>\n",
       "</table>\n",
       "</div>"
      ],
      "text/plain": [
       "   Unnamed: 0       zip                               x_bar       pop  \\\n",
       "0           0  0001 ? ?   quatreSAN   (SAN**zwei)quatreZERO    57,110   \n",
       "1           1     90002           quatrezwei   ochoochoocho    51,223   \n",
       "2           2     90003  SANocho   SAN(SAN*zwei)(SAN**zwei)    66,266   \n",
       "3           3     90004       (SAN*zwei)ZERO   ZEROzweiocho    62,180   \n",
       "4           4     90005            quatreocho   zweiZEROSAN  3.7681E4   \n",
       "\n",
       "                 frequency distribution midpoint  \n",
       "0  thirty-four thousand, three hundred and fifty  \n",
       "1                thirty-five thousand and twenty  \n",
       "2       thirty thousand, nine hundred and twelve  \n",
       "3  forty thousand, three hundred and fifty-eight  \n",
       "4            thirty-six thousand and fifty-eight  "
      ]
     },
     "execution_count": 9,
     "metadata": {},
     "output_type": "execute_result"
    }
   ],
   "source": [
    "econ_data_df.head()"
   ]
  },
  {
   "cell_type": "code",
   "execution_count": 13,
   "metadata": {
    "collapsed": false
   },
   "outputs": [],
   "source": [
    "econ_data_df.drop(\"Unnamed: 0\", axis=1, inplace=True)"
   ]
  },
  {
   "cell_type": "code",
   "execution_count": 15,
   "metadata": {
    "collapsed": false
   },
   "outputs": [
    {
     "data": {
      "text/html": [
       "<div>\n",
       "<table border=\"1\" class=\"dataframe\">\n",
       "  <thead>\n",
       "    <tr style=\"text-align: right;\">\n",
       "      <th></th>\n",
       "      <th>zip</th>\n",
       "      <th>x_bar</th>\n",
       "      <th>pop</th>\n",
       "      <th>frequency distribution midpoint</th>\n",
       "    </tr>\n",
       "  </thead>\n",
       "  <tbody>\n",
       "    <tr>\n",
       "      <th>0</th>\n",
       "      <td>0001 ? ?</td>\n",
       "      <td>quatreSAN   (SAN**zwei)quatreZERO</td>\n",
       "      <td>57,110</td>\n",
       "      <td>thirty-four thousand, three hundred and fifty</td>\n",
       "    </tr>\n",
       "    <tr>\n",
       "      <th>1</th>\n",
       "      <td>90002</td>\n",
       "      <td>quatrezwei   ochoochoocho</td>\n",
       "      <td>51,223</td>\n",
       "      <td>thirty-five thousand and twenty</td>\n",
       "    </tr>\n",
       "    <tr>\n",
       "      <th>2</th>\n",
       "      <td>90003</td>\n",
       "      <td>SANocho   SAN(SAN*zwei)(SAN**zwei)</td>\n",
       "      <td>66,266</td>\n",
       "      <td>thirty thousand, nine hundred and twelve</td>\n",
       "    </tr>\n",
       "    <tr>\n",
       "      <th>3</th>\n",
       "      <td>90004</td>\n",
       "      <td>(SAN*zwei)ZERO   ZEROzweiocho</td>\n",
       "      <td>62,180</td>\n",
       "      <td>forty thousand, three hundred and fifty-eight</td>\n",
       "    </tr>\n",
       "    <tr>\n",
       "      <th>4</th>\n",
       "      <td>90005</td>\n",
       "      <td>quatreocho   zweiZEROSAN</td>\n",
       "      <td>3.7681E4</td>\n",
       "      <td>thirty-six thousand and fifty-eight</td>\n",
       "    </tr>\n",
       "    <tr>\n",
       "      <th>5</th>\n",
       "      <td>90006</td>\n",
       "      <td>SANocho   quatrequatre(SAN*zwei)</td>\n",
       "      <td>59,185</td>\n",
       "      <td>twenty-nine thousand, nine hundred and thirty-...</td>\n",
       "    </tr>\n",
       "    <tr>\n",
       "      <th>6</th>\n",
       "      <td>90007</td>\n",
       "      <td>SANzwei   ZEVENZEROV</td>\n",
       "      <td>40,920</td>\n",
       "      <td>twenty-one thousand, one hundred and ninety-five</td>\n",
       "    </tr>\n",
       "    <tr>\n",
       "      <th>7</th>\n",
       "      <td>90008</td>\n",
       "      <td>VZERO   I(SAN*zwei)ZEVEN</td>\n",
       "      <td>32,327</td>\n",
       "      <td>forty thousand, nine hundred and seventy-three</td>\n",
       "    </tr>\n",
       "    <tr>\n",
       "      <th>8</th>\n",
       "      <td>90010</td>\n",
       "      <td>ochoZERO   zweiZEVEN(SAN**zwei)</td>\n",
       "      <td>3,800</td>\n",
       "      <td>fifty-one thousand, nine hundred and ninety-nine</td>\n",
       "    </tr>\n",
       "    <tr>\n",
       "      <th>9</th>\n",
       "      <td>90011</td>\n",
       "      <td>SANocho   (SAN**zwei)VZERO</td>\n",
       "      <td>103,892</td>\n",
       "      <td>twenty-nine thousand, nine hundred and sixty-nine</td>\n",
       "    </tr>\n",
       "    <tr>\n",
       "      <th>10</th>\n",
       "      <td>90012</td>\n",
       "      <td>quatreV   Iochoocho</td>\n",
       "      <td>27,522</td>\n",
       "      <td>thirty-nine thousand, seven hundred and sevent...</td>\n",
       "    </tr>\n",
       "    <tr>\n",
       "      <th>11</th>\n",
       "      <td>90013</td>\n",
       "      <td>SANquatre   SAN(SAN*zwei)(SAN*zwei)</td>\n",
       "      <td>11,772</td>\n",
       "      <td>seventeen thousand, six hundred and twenty-eight</td>\n",
       "    </tr>\n",
       "    <tr>\n",
       "      <th>12</th>\n",
       "      <td>0014 ? ?</td>\n",
       "      <td>SANZERO   IzweiI</td>\n",
       "      <td>7,005</td>\n",
       "      <td>thirteen thousand, eight hundred and thirty-two</td>\n",
       "    </tr>\n",
       "    <tr>\n",
       "      <th>13</th>\n",
       "      <td>90015</td>\n",
       "      <td>quatrezwei   zweiquatre(SAN*zwei)</td>\n",
       "      <td>1.8986E4</td>\n",
       "      <td>twenty-four thousand, seven hundred and sixty-two</td>\n",
       "    </tr>\n",
       "    <tr>\n",
       "      <th>14</th>\n",
       "      <td>90016</td>\n",
       "      <td>quatre(SAN*zwei)   ochoZEVENSAN</td>\n",
       "      <td>47,596</td>\n",
       "      <td>thirty-seven thousand, two hundred and twenty-...</td>\n",
       "    </tr>\n",
       "    <tr>\n",
       "      <th>15</th>\n",
       "      <td>90017</td>\n",
       "      <td>SANSAN   ZEROZEROzwei</td>\n",
       "      <td>23,768</td>\n",
       "      <td>twenty thousand, nine hundred and fifty-six</td>\n",
       "    </tr>\n",
       "    <tr>\n",
       "      <th>16</th>\n",
       "      <td>90018</td>\n",
       "      <td>quatrequatre   quatre(SAN**zwei)V</td>\n",
       "      <td>49,310</td>\n",
       "      <td>thirty-three thousand, one hundred and thirty-...</td>\n",
       "    </tr>\n",
       "    <tr>\n",
       "      <th>17</th>\n",
       "      <td>90019</td>\n",
       "      <td>V(SAN**zwei)   ochoIzwei</td>\n",
       "      <td>64,458</td>\n",
       "      <td>forty-two thousand, six hundred and fifteen</td>\n",
       "    </tr>\n",
       "    <tr>\n",
       "      <th>18</th>\n",
       "      <td>90020</td>\n",
       "      <td>VV   SANI(SAN**zwei)</td>\n",
       "      <td>38,967</td>\n",
       "      <td>thirty-nine thousand, eight hundred and forty-six</td>\n",
       "    </tr>\n",
       "    <tr>\n",
       "      <th>19</th>\n",
       "      <td>90021</td>\n",
       "      <td>SANI   VVZEVEN</td>\n",
       "      <td>3,951</td>\n",
       "      <td>twenty-one thousand and eighty-four</td>\n",
       "    </tr>\n",
       "  </tbody>\n",
       "</table>\n",
       "</div>"
      ],
      "text/plain": [
       "         zip                                x_bar       pop  \\\n",
       "0   0001 ? ?    quatreSAN   (SAN**zwei)quatreZERO    57,110   \n",
       "1      90002            quatrezwei   ochoochoocho    51,223   \n",
       "2      90003   SANocho   SAN(SAN*zwei)(SAN**zwei)    66,266   \n",
       "3      90004        (SAN*zwei)ZERO   ZEROzweiocho    62,180   \n",
       "4      90005             quatreocho   zweiZEROSAN  3.7681E4   \n",
       "5      90006     SANocho   quatrequatre(SAN*zwei)    59,185   \n",
       "6      90007                 SANzwei   ZEVENZEROV    40,920   \n",
       "7      90008             VZERO   I(SAN*zwei)ZEVEN    32,327   \n",
       "8      90010      ochoZERO   zweiZEVEN(SAN**zwei)     3,800   \n",
       "9      90011           SANocho   (SAN**zwei)VZERO   103,892   \n",
       "10     90012                  quatreV   Iochoocho    27,522   \n",
       "11     90013  SANquatre   SAN(SAN*zwei)(SAN*zwei)    11,772   \n",
       "12  0014 ? ?                     SANZERO   IzweiI     7,005   \n",
       "13     90015    quatrezwei   zweiquatre(SAN*zwei)  1.8986E4   \n",
       "14     90016      quatre(SAN*zwei)   ochoZEVENSAN    47,596   \n",
       "15     90017                SANSAN   ZEROZEROzwei    23,768   \n",
       "16     90018    quatrequatre   quatre(SAN**zwei)V    49,310   \n",
       "17     90019             V(SAN**zwei)   ochoIzwei    64,458   \n",
       "18     90020                 VV   SANI(SAN**zwei)    38,967   \n",
       "19     90021                       SANI   VVZEVEN     3,951   \n",
       "\n",
       "                      frequency distribution midpoint  \n",
       "0       thirty-four thousand, three hundred and fifty  \n",
       "1                     thirty-five thousand and twenty  \n",
       "2            thirty thousand, nine hundred and twelve  \n",
       "3       forty thousand, three hundred and fifty-eight  \n",
       "4                 thirty-six thousand and fifty-eight  \n",
       "5   twenty-nine thousand, nine hundred and thirty-...  \n",
       "6    twenty-one thousand, one hundred and ninety-five  \n",
       "7      forty thousand, nine hundred and seventy-three  \n",
       "8    fifty-one thousand, nine hundred and ninety-nine  \n",
       "9   twenty-nine thousand, nine hundred and sixty-nine  \n",
       "10  thirty-nine thousand, seven hundred and sevent...  \n",
       "11   seventeen thousand, six hundred and twenty-eight  \n",
       "12    thirteen thousand, eight hundred and thirty-two  \n",
       "13  twenty-four thousand, seven hundred and sixty-two  \n",
       "14  thirty-seven thousand, two hundred and twenty-...  \n",
       "15        twenty thousand, nine hundred and fifty-six  \n",
       "16  thirty-three thousand, one hundred and thirty-...  \n",
       "17        forty-two thousand, six hundred and fifteen  \n",
       "18  thirty-nine thousand, eight hundred and forty-six  \n",
       "19                twenty-one thousand and eighty-four  "
      ]
     },
     "execution_count": 15,
     "metadata": {},
     "output_type": "execute_result"
    }
   ],
   "source": [
    "econ_data_df.head(20)"
   ]
  },
  {
   "cell_type": "code",
   "execution_count": 18,
   "metadata": {
    "collapsed": false
   },
   "outputs": [
    {
     "data": {
      "text/plain": [
       "18986.0"
      ]
     },
     "execution_count": 18,
     "metadata": {},
     "output_type": "execute_result"
    }
   ],
   "source": [
    "float('1.8986E4')"
   ]
  },
  {
   "cell_type": "code",
   "execution_count": 27,
   "metadata": {
    "collapsed": false
   },
   "outputs": [],
   "source": [
    "econ_data_df['pop_tmp'] = econ_data_df['pop'].str.replace(',','')"
   ]
  },
  {
   "cell_type": "code",
   "execution_count": 28,
   "metadata": {
    "collapsed": false
   },
   "outputs": [
    {
     "data": {
      "text/html": [
       "<div>\n",
       "<table border=\"1\" class=\"dataframe\">\n",
       "  <thead>\n",
       "    <tr style=\"text-align: right;\">\n",
       "      <th></th>\n",
       "      <th>zip</th>\n",
       "      <th>x_bar</th>\n",
       "      <th>pop</th>\n",
       "      <th>frequency distribution midpoint</th>\n",
       "      <th>pop_tmp</th>\n",
       "    </tr>\n",
       "  </thead>\n",
       "  <tbody>\n",
       "    <tr>\n",
       "      <th>0</th>\n",
       "      <td>0001 ? ?</td>\n",
       "      <td>quatreSAN   (SAN**zwei)quatreZERO</td>\n",
       "      <td>57,110</td>\n",
       "      <td>thirty-four thousand, three hundred and fifty</td>\n",
       "      <td>57110</td>\n",
       "    </tr>\n",
       "  </tbody>\n",
       "</table>\n",
       "</div>"
      ],
      "text/plain": [
       "        zip                              x_bar     pop  \\\n",
       "0  0001 ? ?  quatreSAN   (SAN**zwei)quatreZERO  57,110   \n",
       "\n",
       "                 frequency distribution midpoint pop_tmp  \n",
       "0  thirty-four thousand, three hundred and fifty   57110  "
      ]
     },
     "execution_count": 28,
     "metadata": {},
     "output_type": "execute_result"
    }
   ],
   "source": [
    "econ_data_df.head(1)"
   ]
  },
  {
   "cell_type": "code",
   "execution_count": 35,
   "metadata": {
    "collapsed": true
   },
   "outputs": [
    {
     "ename": "ValueError",
     "evalue": "invalid literal for float(): 1671 foo",
     "output_type": "error",
     "traceback": [
      "\u001b[1;31m---------------------------------------------------------------------------\u001b[0m",
      "\u001b[1;31mValueError\u001b[0m                                Traceback (most recent call last)",
      "\u001b[1;32m<ipython-input-35-bd6919d7f01c>\u001b[0m in \u001b[0;36m<module>\u001b[1;34m()\u001b[0m\n\u001b[1;32m----> 1\u001b[1;33m \u001b[0mecon_data_df\u001b[0m\u001b[1;33m[\u001b[0m\u001b[1;34m'pop_tmp'\u001b[0m\u001b[1;33m]\u001b[0m\u001b[1;33m.\u001b[0m\u001b[0mastype\u001b[0m\u001b[1;33m(\u001b[0m\u001b[0mfloat\u001b[0m\u001b[1;33m)\u001b[0m\u001b[1;33m\u001b[0m\u001b[0m\n\u001b[0m",
      "\u001b[1;32m/opt/conda/envs/python2/lib/python2.7/site-packages/pandas/core/generic.pyc\u001b[0m in \u001b[0;36mastype\u001b[1;34m(self, dtype, copy, raise_on_error, **kwargs)\u001b[0m\n\u001b[0;32m   3052\u001b[0m         \u001b[1;31m# else, only a single dtype is given\u001b[0m\u001b[1;33m\u001b[0m\u001b[1;33m\u001b[0m\u001b[0m\n\u001b[0;32m   3053\u001b[0m         new_data = self._data.astype(dtype=dtype, copy=copy,\n\u001b[1;32m-> 3054\u001b[1;33m                                      raise_on_error=raise_on_error, **kwargs)\n\u001b[0m\u001b[0;32m   3055\u001b[0m         \u001b[1;32mreturn\u001b[0m \u001b[0mself\u001b[0m\u001b[1;33m.\u001b[0m\u001b[0m_constructor\u001b[0m\u001b[1;33m(\u001b[0m\u001b[0mnew_data\u001b[0m\u001b[1;33m)\u001b[0m\u001b[1;33m.\u001b[0m\u001b[0m__finalize__\u001b[0m\u001b[1;33m(\u001b[0m\u001b[0mself\u001b[0m\u001b[1;33m)\u001b[0m\u001b[1;33m\u001b[0m\u001b[0m\n\u001b[0;32m   3056\u001b[0m \u001b[1;33m\u001b[0m\u001b[0m\n",
      "\u001b[1;32m/opt/conda/envs/python2/lib/python2.7/site-packages/pandas/core/internals.pyc\u001b[0m in \u001b[0;36mastype\u001b[1;34m(self, dtype, **kwargs)\u001b[0m\n\u001b[0;32m   3166\u001b[0m \u001b[1;33m\u001b[0m\u001b[0m\n\u001b[0;32m   3167\u001b[0m     \u001b[1;32mdef\u001b[0m \u001b[0mastype\u001b[0m\u001b[1;33m(\u001b[0m\u001b[0mself\u001b[0m\u001b[1;33m,\u001b[0m \u001b[0mdtype\u001b[0m\u001b[1;33m,\u001b[0m \u001b[1;33m**\u001b[0m\u001b[0mkwargs\u001b[0m\u001b[1;33m)\u001b[0m\u001b[1;33m:\u001b[0m\u001b[1;33m\u001b[0m\u001b[0m\n\u001b[1;32m-> 3168\u001b[1;33m         \u001b[1;32mreturn\u001b[0m \u001b[0mself\u001b[0m\u001b[1;33m.\u001b[0m\u001b[0mapply\u001b[0m\u001b[1;33m(\u001b[0m\u001b[1;34m'astype'\u001b[0m\u001b[1;33m,\u001b[0m \u001b[0mdtype\u001b[0m\u001b[1;33m=\u001b[0m\u001b[0mdtype\u001b[0m\u001b[1;33m,\u001b[0m \u001b[1;33m**\u001b[0m\u001b[0mkwargs\u001b[0m\u001b[1;33m)\u001b[0m\u001b[1;33m\u001b[0m\u001b[0m\n\u001b[0m\u001b[0;32m   3169\u001b[0m \u001b[1;33m\u001b[0m\u001b[0m\n\u001b[0;32m   3170\u001b[0m     \u001b[1;32mdef\u001b[0m \u001b[0mconvert\u001b[0m\u001b[1;33m(\u001b[0m\u001b[0mself\u001b[0m\u001b[1;33m,\u001b[0m \u001b[1;33m**\u001b[0m\u001b[0mkwargs\u001b[0m\u001b[1;33m)\u001b[0m\u001b[1;33m:\u001b[0m\u001b[1;33m\u001b[0m\u001b[0m\n",
      "\u001b[1;32m/opt/conda/envs/python2/lib/python2.7/site-packages/pandas/core/internals.pyc\u001b[0m in \u001b[0;36mapply\u001b[1;34m(self, f, axes, filter, do_integrity_check, consolidate, **kwargs)\u001b[0m\n\u001b[0;32m   3033\u001b[0m \u001b[1;33m\u001b[0m\u001b[0m\n\u001b[0;32m   3034\u001b[0m             \u001b[0mkwargs\u001b[0m\u001b[1;33m[\u001b[0m\u001b[1;34m'mgr'\u001b[0m\u001b[1;33m]\u001b[0m \u001b[1;33m=\u001b[0m \u001b[0mself\u001b[0m\u001b[1;33m\u001b[0m\u001b[0m\n\u001b[1;32m-> 3035\u001b[1;33m             \u001b[0mapplied\u001b[0m \u001b[1;33m=\u001b[0m \u001b[0mgetattr\u001b[0m\u001b[1;33m(\u001b[0m\u001b[0mb\u001b[0m\u001b[1;33m,\u001b[0m \u001b[0mf\u001b[0m\u001b[1;33m)\u001b[0m\u001b[1;33m(\u001b[0m\u001b[1;33m**\u001b[0m\u001b[0mkwargs\u001b[0m\u001b[1;33m)\u001b[0m\u001b[1;33m\u001b[0m\u001b[0m\n\u001b[0m\u001b[0;32m   3036\u001b[0m             \u001b[0mresult_blocks\u001b[0m \u001b[1;33m=\u001b[0m \u001b[0m_extend_blocks\u001b[0m\u001b[1;33m(\u001b[0m\u001b[0mapplied\u001b[0m\u001b[1;33m,\u001b[0m \u001b[0mresult_blocks\u001b[0m\u001b[1;33m)\u001b[0m\u001b[1;33m\u001b[0m\u001b[0m\n\u001b[0;32m   3037\u001b[0m \u001b[1;33m\u001b[0m\u001b[0m\n",
      "\u001b[1;32m/opt/conda/envs/python2/lib/python2.7/site-packages/pandas/core/internals.pyc\u001b[0m in \u001b[0;36mastype\u001b[1;34m(self, dtype, copy, raise_on_error, values, **kwargs)\u001b[0m\n\u001b[0;32m    460\u001b[0m                **kwargs):\n\u001b[0;32m    461\u001b[0m         return self._astype(dtype, copy=copy, raise_on_error=raise_on_error,\n\u001b[1;32m--> 462\u001b[1;33m                             values=values, **kwargs)\n\u001b[0m\u001b[0;32m    463\u001b[0m \u001b[1;33m\u001b[0m\u001b[0m\n\u001b[0;32m    464\u001b[0m     def _astype(self, dtype, copy=False, raise_on_error=True, values=None,\n",
      "\u001b[1;32m/opt/conda/envs/python2/lib/python2.7/site-packages/pandas/core/internals.pyc\u001b[0m in \u001b[0;36m_astype\u001b[1;34m(self, dtype, copy, raise_on_error, values, klass, mgr, **kwargs)\u001b[0m\n\u001b[0;32m    503\u001b[0m \u001b[1;33m\u001b[0m\u001b[0m\n\u001b[0;32m    504\u001b[0m                 \u001b[1;31m# _astype_nansafe works fine with 1-d only\u001b[0m\u001b[1;33m\u001b[0m\u001b[1;33m\u001b[0m\u001b[0m\n\u001b[1;32m--> 505\u001b[1;33m                 \u001b[0mvalues\u001b[0m \u001b[1;33m=\u001b[0m \u001b[0m_astype_nansafe\u001b[0m\u001b[1;33m(\u001b[0m\u001b[0mvalues\u001b[0m\u001b[1;33m.\u001b[0m\u001b[0mravel\u001b[0m\u001b[1;33m(\u001b[0m\u001b[1;33m)\u001b[0m\u001b[1;33m,\u001b[0m \u001b[0mdtype\u001b[0m\u001b[1;33m,\u001b[0m \u001b[0mcopy\u001b[0m\u001b[1;33m=\u001b[0m\u001b[0mTrue\u001b[0m\u001b[1;33m)\u001b[0m\u001b[1;33m\u001b[0m\u001b[0m\n\u001b[0m\u001b[0;32m    506\u001b[0m                 \u001b[0mvalues\u001b[0m \u001b[1;33m=\u001b[0m \u001b[0mvalues\u001b[0m\u001b[1;33m.\u001b[0m\u001b[0mreshape\u001b[0m\u001b[1;33m(\u001b[0m\u001b[0mself\u001b[0m\u001b[1;33m.\u001b[0m\u001b[0mshape\u001b[0m\u001b[1;33m)\u001b[0m\u001b[1;33m\u001b[0m\u001b[0m\n\u001b[0;32m    507\u001b[0m \u001b[1;33m\u001b[0m\u001b[0m\n",
      "\u001b[1;32m/opt/conda/envs/python2/lib/python2.7/site-packages/pandas/types/cast.pyc\u001b[0m in \u001b[0;36m_astype_nansafe\u001b[1;34m(arr, dtype, copy)\u001b[0m\n\u001b[0;32m    535\u001b[0m \u001b[1;33m\u001b[0m\u001b[0m\n\u001b[0;32m    536\u001b[0m     \u001b[1;32mif\u001b[0m \u001b[0mcopy\u001b[0m\u001b[1;33m:\u001b[0m\u001b[1;33m\u001b[0m\u001b[0m\n\u001b[1;32m--> 537\u001b[1;33m         \u001b[1;32mreturn\u001b[0m \u001b[0marr\u001b[0m\u001b[1;33m.\u001b[0m\u001b[0mastype\u001b[0m\u001b[1;33m(\u001b[0m\u001b[0mdtype\u001b[0m\u001b[1;33m)\u001b[0m\u001b[1;33m\u001b[0m\u001b[0m\n\u001b[0m\u001b[0;32m    538\u001b[0m     \u001b[1;32mreturn\u001b[0m \u001b[0marr\u001b[0m\u001b[1;33m.\u001b[0m\u001b[0mview\u001b[0m\u001b[1;33m(\u001b[0m\u001b[0mdtype\u001b[0m\u001b[1;33m)\u001b[0m\u001b[1;33m\u001b[0m\u001b[0m\n\u001b[0;32m    539\u001b[0m \u001b[1;33m\u001b[0m\u001b[0m\n",
      "\u001b[1;31mValueError\u001b[0m: invalid literal for float(): 1671 foo"
     ]
    }
   ],
   "source": [
    "econ_data_df['pop_tmp'].astype(float)"
   ]
  },
  {
   "cell_type": "code",
   "execution_count": 36,
   "metadata": {
    "collapsed": true
   },
   "outputs": [],
   "source": [
    "def try_to_cast_to_float(value):\n",
    "    try:\n",
    "        value = float(value)\n",
    "    except ValueError:\n",
    "        print(value)\n",
    "    return value"
   ]
  },
  {
   "cell_type": "code",
   "execution_count": 34,
   "metadata": {
    "collapsed": true
   },
   "outputs": [
    {
     "name": "stdout",
     "output_type": "stream",
     "text": [
      "3223 foo\n",
      "8434 foo\n",
      "456 foo\n",
      "1700 foo\n",
      "592 foo\n",
      "1646 foo\n",
      "9535 foo\n",
      "126 foo\n",
      "14 foo\n",
      "7788 foo\n",
      "2637 foo\n",
      "5268 foo\n",
      "4894 foo\n",
      "1162 foo\n",
      "3926 foo\n",
      "8337 foo\n",
      "3613 foo\n",
      "451 foo\n",
      "4057 foo\n",
      "161 foo\n",
      "5505 foo\n",
      "2058 foo\n",
      "524 foo\n",
      "5467 foo\n",
      "101 foo\n",
      "509 foo\n",
      "9567 foo\n",
      "674 foo\n",
      "6042 foo\n",
      "7313 foo\n",
      "4675 foo\n",
      "3721 foo\n",
      "1671 foo\n"
     ]
    },
    {
     "data": {
      "text/plain": [
       "0         57110\n",
       "1         51223\n",
       "2         66266\n",
       "3         62180\n",
       "4         37681\n",
       "5         59185\n",
       "6         40920\n",
       "7         32327\n",
       "8          3800\n",
       "9        103892\n",
       "10        27522\n",
       "11        11772\n",
       "12         7005\n",
       "13        18986\n",
       "14        47596\n",
       "15        23768\n",
       "16        49310\n",
       "17        64458\n",
       "18        38967\n",
       "19         3951\n",
       "20        67179\n",
       "21        45903\n",
       "22        33588\n",
       "23        42147\n",
       "24        67869\n",
       "25        45151\n",
       "26        28714\n",
       "27        38617\n",
       "28        39316\n",
       "29        45786\n",
       "         ...   \n",
       "889        9547\n",
       "890       24979\n",
       "891       40705\n",
       "892       71820\n",
       "893       15743\n",
       "894        9941\n",
       "895       26863\n",
       "896       61080\n",
       "897       59461\n",
       "898       21726\n",
       "899       13043\n",
       "900        1369\n",
       "901        3281\n",
       "902       11502\n",
       "903         917\n",
       "904    1671 foo\n",
       "905        8726\n",
       "906       17547\n",
       "907         506\n",
       "908       15866\n",
       "909         592\n",
       "910       19084\n",
       "911       31615\n",
       "912           6\n",
       "913       15046\n",
       "914        4509\n",
       "915         302\n",
       "916       32382\n",
       "917       16971\n",
       "918         673\n",
       "Name: pop_tmp, dtype: object"
      ]
     },
     "execution_count": 34,
     "metadata": {},
     "output_type": "execute_result"
    }
   ],
   "source": [
    "# diagnose the problem\n",
    "econ_data_df['pop_tmp'].apply(try_to_cast_to_float)"
   ]
  },
  {
   "cell_type": "code",
   "execution_count": 46,
   "metadata": {
    "collapsed": false
   },
   "outputs": [
    {
     "data": {
      "text/plain": [
       "123.0"
      ]
     },
     "execution_count": 46,
     "metadata": {},
     "output_type": "execute_result"
    }
   ],
   "source": [
    "float('123 foo'.replace('foo',''))"
   ]
  },
  {
   "cell_type": "code",
   "execution_count": null,
   "metadata": {
    "collapsed": true
   },
   "outputs": [],
   "source": [
    "pd.Series.str.extract()"
   ]
  },
  {
   "cell_type": "code",
   "execution_count": 53,
   "metadata": {
    "collapsed": true
   },
   "outputs": [
    {
     "data": {
      "text/plain": [
       "0       57110.0\n",
       "1       51223.0\n",
       "2       66266.0\n",
       "3       62180.0\n",
       "4           3.0\n",
       "5       59185.0\n",
       "6       40920.0\n",
       "7       32327.0\n",
       "8        3800.0\n",
       "9      103892.0\n",
       "10      27522.0\n",
       "11      11772.0\n",
       "12       7005.0\n",
       "13          1.0\n",
       "14      47596.0\n",
       "15      23768.0\n",
       "16      49310.0\n",
       "17      64458.0\n",
       "18      38967.0\n",
       "19       3951.0\n",
       "20      67179.0\n",
       "21      45903.0\n",
       "22          3.0\n",
       "23      42147.0\n",
       "24      67869.0\n",
       "25      45151.0\n",
       "26      28714.0\n",
       "27      38617.0\n",
       "28      39316.0\n",
       "29      45786.0\n",
       "         ...   \n",
       "889      9547.0\n",
       "890     24979.0\n",
       "891     40705.0\n",
       "892     71820.0\n",
       "893     15743.0\n",
       "894      9941.0\n",
       "895         2.0\n",
       "896     61080.0\n",
       "897     59461.0\n",
       "898     21726.0\n",
       "899     13043.0\n",
       "900      1369.0\n",
       "901      3281.0\n",
       "902     11502.0\n",
       "903       917.0\n",
       "904      1671.0\n",
       "905      8726.0\n",
       "906     17547.0\n",
       "907       506.0\n",
       "908     15866.0\n",
       "909       592.0\n",
       "910     19084.0\n",
       "911     31615.0\n",
       "912         6.0\n",
       "913         1.0\n",
       "914      4509.0\n",
       "915       302.0\n",
       "916     32382.0\n",
       "917     16971.0\n",
       "918       673.0\n",
       "Name: pop_tmp, dtype: float64"
      ]
     },
     "execution_count": 53,
     "metadata": {},
     "output_type": "execute_result"
    }
   ],
   "source": [
    "econ_data_df['pop_tmp'].str.extract('(\\d+)', expand=False).astype(float)"
   ]
  },
  {
   "cell_type": "code",
   "execution_count": 61,
   "metadata": {
    "collapsed": false
   },
   "outputs": [],
   "source": [
    "econ_data_df['pop'] = (econ_data_df['pop_tmp']\n",
    "                       .str.replace('foo','')\n",
    "                       .astype(float))\n",
    "econ_data_df.drop('pop_tmp', inplace=True, axis=1)"
   ]
  },
  {
   "cell_type": "code",
   "execution_count": 62,
   "metadata": {
    "collapsed": false
   },
   "outputs": [
    {
     "data": {
      "text/html": [
       "<div>\n",
       "<table border=\"1\" class=\"dataframe\">\n",
       "  <thead>\n",
       "    <tr style=\"text-align: right;\">\n",
       "      <th></th>\n",
       "      <th>zip</th>\n",
       "      <th>x_bar</th>\n",
       "      <th>pop</th>\n",
       "      <th>frequency distribution midpoint</th>\n",
       "    </tr>\n",
       "  </thead>\n",
       "  <tbody>\n",
       "    <tr>\n",
       "      <th>0</th>\n",
       "      <td>0001 ? ?</td>\n",
       "      <td>quatreSAN   (SAN**zwei)quatreZERO</td>\n",
       "      <td>57110.0</td>\n",
       "      <td>thirty-four thousand, three hundred and fifty</td>\n",
       "    </tr>\n",
       "    <tr>\n",
       "      <th>1</th>\n",
       "      <td>90002</td>\n",
       "      <td>quatrezwei   ochoochoocho</td>\n",
       "      <td>51223.0</td>\n",
       "      <td>thirty-five thousand and twenty</td>\n",
       "    </tr>\n",
       "    <tr>\n",
       "      <th>2</th>\n",
       "      <td>90003</td>\n",
       "      <td>SANocho   SAN(SAN*zwei)(SAN**zwei)</td>\n",
       "      <td>66266.0</td>\n",
       "      <td>thirty thousand, nine hundred and twelve</td>\n",
       "    </tr>\n",
       "  </tbody>\n",
       "</table>\n",
       "</div>"
      ],
      "text/plain": [
       "        zip                               x_bar      pop  \\\n",
       "0  0001 ? ?   quatreSAN   (SAN**zwei)quatreZERO  57110.0   \n",
       "1     90002           quatrezwei   ochoochoocho  51223.0   \n",
       "2     90003  SANocho   SAN(SAN*zwei)(SAN**zwei)  66266.0   \n",
       "\n",
       "                 frequency distribution midpoint  \n",
       "0  thirty-four thousand, three hundred and fifty  \n",
       "1                thirty-five thousand and twenty  \n",
       "2       thirty thousand, nine hundred and twelve  "
      ]
     },
     "execution_count": 62,
     "metadata": {},
     "output_type": "execute_result"
    }
   ],
   "source": [
    "econ_data_df.head(3)"
   ]
  },
  {
   "cell_type": "markdown",
   "metadata": {},
   "source": [
    "### Diagnose the Problem"
   ]
  },
  {
   "cell_type": "code",
   "execution_count": 63,
   "metadata": {
    "collapsed": true
   },
   "outputs": [
    {
     "name": "stdout",
     "output_type": "stream",
     "text": [
      "0001 ? ?\n",
      "0014 ? ?\n",
      "0026 ? ?\n",
      "0039 ? ?\n",
      "0057 ? ?\n",
      "0071 ? ?\n",
      "0230 ? ?\n",
      "0260 ? ?\n",
      "0290 ? ?\n",
      "0404 ? ?\n",
      "0606 ? ?\n",
      "0701 ? ?\n",
      "0731 ? ?\n",
      "0805 ? ?\n",
      "1010 ? ?\n",
      "1105 ? ?\n",
      "1210 ? ?\n",
      "1324 ? ?\n",
      "1351 ? ?\n",
      "1381 ? ?\n",
      "1501 ? ?\n",
      "1702 ? ?\n",
      "1733 ? ?\n",
      "1755 ? ?\n",
      "1775 ? ?\n",
      "1902 ? ?\n",
      "1934 ? ?\n",
      "2003 ? ?\n",
      "2025 ? ?\n",
      "2058 ? ?\n",
      "2078 ? ?\n",
      "2106 ? ?\n",
      "2119 ? ?\n",
      "2135 ? ?\n",
      "2222 ? ?\n",
      "2242 ? ?\n",
      "2260 ? ?\n",
      "2278 ? ?\n",
      "2309 ? ?\n",
      "2327 ? ?\n",
      "2345 ? ?\n",
      "2371 ? ?\n",
      "2391 ? ?\n",
      "2410 ? ?\n",
      "2532 ? ?\n",
      "2561 ? ?\n",
      "2590 ? ?\n",
      "2617 ? ?\n",
      "2648 ? ?\n",
      "2673 ? ?\n",
      "2703 ? ?\n",
      "2806 ? ?\n",
      "2844 ? ?\n",
      "2881 ? ?\n",
      "3021 ? ?\n",
      "3064 ? ?\n",
      "3201 ? ?\n",
      "3220 ? ?\n",
      "3240 ? ?\n",
      "3255 ? ?\n",
      "3270 ? ?\n",
      "3292 ? ?\n",
      "3401 ? ?\n",
      "3433 ? ?\n",
      "3451 ? ?\n",
      "3510 ? ?\n",
      "3527 ? ?\n",
      "3545 ? ?\n",
      "3562 ? ?\n",
      "3610 ? ?\n",
      "3624 ? ?\n",
      "3638 ? ?\n",
      "3653 ? ?\n",
      "3673 ? ?\n",
      "3722 ? ?\n",
      "3920 ? ?\n",
      "3943 ? ?\n"
     ]
    },
    {
     "data": {
      "text/plain": [
       "0      0001 ? ?\n",
       "1         90002\n",
       "2         90003\n",
       "3         90004\n",
       "4         90005\n",
       "5         90006\n",
       "6         90007\n",
       "7         90008\n",
       "8         90010\n",
       "9         90011\n",
       "10        90012\n",
       "11        90013\n",
       "12     0014 ? ?\n",
       "13        90015\n",
       "14        90016\n",
       "15        90017\n",
       "16        90018\n",
       "17        90019\n",
       "18        90020\n",
       "19        90021\n",
       "20        90022\n",
       "21        90023\n",
       "22        90024\n",
       "23        90025\n",
       "24     0026 ? ?\n",
       "25        90027\n",
       "26        90028\n",
       "27        90029\n",
       "28        90031\n",
       "29        90032\n",
       "         ...   \n",
       "889       93723\n",
       "890       93725\n",
       "891       93726\n",
       "892       93727\n",
       "893       93728\n",
       "894       93730\n",
       "895       93901\n",
       "896       93905\n",
       "897       93906\n",
       "898       93907\n",
       "899       93908\n",
       "900    3920 ? ?\n",
       "901       93921\n",
       "902       93923\n",
       "903       93924\n",
       "904       93925\n",
       "905       93926\n",
       "906       93927\n",
       "907       93928\n",
       "908       93930\n",
       "909       93932\n",
       "910       93933\n",
       "911       93940\n",
       "912    3943 ? ?\n",
       "913       93950\n",
       "914       93953\n",
       "915       93954\n",
       "916       93955\n",
       "917       93960\n",
       "918       93962\n",
       "Name: zip, dtype: object"
      ]
     },
     "execution_count": 63,
     "metadata": {},
     "output_type": "execute_result"
    }
   ],
   "source": [
    "econ_data_df['zip'].apply(try_to_cast_to_float)"
   ]
  },
  {
   "cell_type": "code",
   "execution_count": 75,
   "metadata": {
    "collapsed": false
   },
   "outputs": [],
   "source": [
    "econ_data_df['zip_tmp'] = (econ_data_df['zip']\n",
    "                           .str.replace('(\\d\\d\\d\\d) \\? \\?', '9\\\\1'))\n",
    "# this was a check econ_data_df['zip_tmp'].astype(int)\n",
    "econ_data_df['zip'] = econ_data_df['zip_tmp']\n",
    "econ_data_df.drop('zip_tmp', inplace=True, axis=1)"
   ]
  },
  {
   "cell_type": "code",
   "execution_count": 109,
   "metadata": {
    "collapsed": true
   },
   "outputs": [],
   "source": [
    "econ_data_df['x_bar_tmp'] = econ_data_df['x_bar'].str.replace('ZERO', '0')\n",
    "econ_data_df['x_bar_tmp'] = (econ_data_df['x_bar_tmp']\n",
    "                             .str.replace('I', '1'))\n",
    "econ_data_df['x_bar_tmp'] = (econ_data_df['x_bar_tmp']\n",
    "                             .str.replace('zwei', '2'))\n",
    "econ_data_df['x_bar_tmp'] = (econ_data_df['x_bar_tmp']\n",
    "                             .str.replace('SAN', '3'))\n",
    "econ_data_df['x_bar_tmp'] = (econ_data_df['x_bar_tmp']\n",
    "                             .str.replace('quatre', '4'))\n",
    "econ_data_df['x_bar_tmp'] = (econ_data_df['x_bar_tmp']\n",
    "                             .str.replace('ZEVEN', '7'))\n",
    "econ_data_df['x_bar_tmp'] = (econ_data_df['x_bar_tmp']\n",
    "                             .str.replace('V', '5'))\n",
    "econ_data_df['x_bar_tmp'] = (econ_data_df['x_bar_tmp']\n",
    "                             .str.replace('ocho', '8'))\n",
    "econ_data_df['x_bar_tmp'] = (econ_data_df['x_bar_tmp']\n",
    "                             .str.replace('\\(3\\*2\\)', '6'))\n",
    "econ_data_df['x_bar_tmp'] = (econ_data_df['x_bar_tmp']\n",
    "                             .str.replace('\\(3\\*\\*2\\)', '9'))\n",
    "econ_data_df['x_bar_tmp'] = (econ_data_df['x_bar_tmp']\n",
    "                             .str.replace(' ', ''))\n"
   ]
  },
  {
   "cell_type": "code",
   "execution_count": 99,
   "metadata": {
    "collapsed": true
   },
   "outputs": [
    {
     "name": "stdout",
     "output_type": "stream",
     "text": [
      ".\n",
      ".\n"
     ]
    },
    {
     "data": {
      "text/plain": [
       "0       43940\n",
       "1       42888\n",
       "2       38369\n",
       "3       60028\n",
       "4       48203\n",
       "5       38446\n",
       "6       32705\n",
       "7       50167\n",
       "8       80279\n",
       "9       38950\n",
       "10      45188\n",
       "11      34366\n",
       "12      30121\n",
       "13      42246\n",
       "14      46873\n",
       "15      33002\n",
       "16      44495\n",
       "17      59812\n",
       "18      55319\n",
       "19      31557\n",
       "20      46679\n",
       "21      40999\n",
       "22      88018\n",
       "23      90083\n",
       "24      58308\n",
       "25      74831\n",
       "26      45197\n",
       "27      46943\n",
       "28      50790\n",
       "29      55811\n",
       "        ...  \n",
       "889     65743\n",
       "890     50392\n",
       "891     47653\n",
       "892     58587\n",
       "893     41015\n",
       "894    126297\n",
       "895     68481\n",
       "896     51143\n",
       "897     71225\n",
       "898     83919\n",
       "899    136352\n",
       "900    133433\n",
       "901    121444\n",
       "902    124260\n",
       "903     18827\n",
       "904     77648\n",
       "905     65378\n",
       "906     63866\n",
       "907     80030\n",
       "908     63466\n",
       "909     80030\n",
       "910     55069\n",
       "911     85654\n",
       "912     76671\n",
       "913     89674\n",
       "914    174736\n",
       "915     64183\n",
       "916     64154\n",
       "917     38998\n",
       "918     77451\n",
       "Name: x_bar_tmp, dtype: object"
      ]
     },
     "execution_count": 99,
     "metadata": {},
     "output_type": "execute_result"
    }
   ],
   "source": [
    "econ_data_df['x_bar_tmp'].apply(try_to_cast_to_float)"
   ]
  },
  {
   "cell_type": "code",
   "execution_count": 115,
   "metadata": {
    "collapsed": false
   },
   "outputs": [
    {
     "data": {
      "text/html": [
       "<div>\n",
       "<table border=\"1\" class=\"dataframe\">\n",
       "  <thead>\n",
       "    <tr style=\"text-align: right;\">\n",
       "      <th></th>\n",
       "      <th>zip</th>\n",
       "      <th>x_bar</th>\n",
       "      <th>pop</th>\n",
       "      <th>frequency distribution midpoint</th>\n",
       "      <th>x_bar_tmp</th>\n",
       "    </tr>\n",
       "  </thead>\n",
       "  <tbody>\n",
       "  </tbody>\n",
       "</table>\n",
       "</div>"
      ],
      "text/plain": [
       "Empty DataFrame\n",
       "Columns: [zip, x_bar, pop, frequency distribution midpoint, x_bar_tmp]\n",
       "Index: []"
      ]
     },
     "execution_count": 115,
     "metadata": {},
     "output_type": "execute_result"
    }
   ],
   "source": [
    "econ_data_df[econ_data_df['x_bar_tmp'] == '.']"
   ]
  },
  {
   "cell_type": "code",
   "execution_count": 117,
   "metadata": {
    "collapsed": false
   },
   "outputs": [],
   "source": [
    "econ_data_df['x_bar_tmp'].ix[61] = '0'\n",
    "econ_data_df['x_bar_tmp'].iloc[396] = '-99999999'"
   ]
  },
  {
   "cell_type": "code",
   "execution_count": 104,
   "metadata": {
    "collapsed": false
   },
   "outputs": [
    {
     "data": {
      "text/plain": [
       "float"
      ]
     },
     "execution_count": 104,
     "metadata": {},
     "output_type": "execute_result"
    }
   ],
   "source": [
    "type(np.nan)"
   ]
  },
  {
   "cell_type": "code",
   "execution_count": 123,
   "metadata": {
    "collapsed": false
   },
   "outputs": [],
   "source": [
    "import numpy as np\n",
    "econ_data_df['x_bar_tmp'] = econ_data_df['x_bar_tmp'].astype(float)\n"
   ]
  },
  {
   "cell_type": "code",
   "execution_count": 125,
   "metadata": {
    "collapsed": true
   },
   "outputs": [],
   "source": [
    "econ_data_df['x_bar_tmp'].iloc[396] = np.nan"
   ]
  },
  {
   "cell_type": "code",
   "execution_count": 129,
   "metadata": {
    "collapsed": false
   },
   "outputs": [],
   "source": [
    "econ_data_df = econ_data_df.dropna()\n",
    "econ_data_df['x_bar'] = econ_data_df['x_bar_tmp']\n",
    "econ_data_df.drop('x_bar_tmp', axis=1, inplace=True)\n",
    "econ_data_df.columns = ['Zip Code', 'Mean', 'Population', 'Median']"
   ]
  },
  {
   "cell_type": "code",
   "execution_count": 151,
   "metadata": {
    "collapsed": false
   },
   "outputs": [
    {
     "data": {
      "text/html": [
       "<div>\n",
       "<table border=\"1\" class=\"dataframe\">\n",
       "  <thead>\n",
       "    <tr style=\"text-align: right;\">\n",
       "      <th></th>\n",
       "      <th>Zip Code</th>\n",
       "      <th>Mean</th>\n",
       "      <th>Population</th>\n",
       "      <th>Median</th>\n",
       "      <th>Median_tmp</th>\n",
       "      <th>Median_thousands</th>\n",
       "      <th>Median_ones</th>\n",
       "      <th>Median_hundreds</th>\n",
       "      <th>Median_tens</th>\n",
       "      <th>Median_hundred_thousands</th>\n",
       "      <th>Median_ten_thoudands</th>\n",
       "    </tr>\n",
       "  </thead>\n",
       "  <tbody>\n",
       "    <tr>\n",
       "      <th>0</th>\n",
       "      <td>90001</td>\n",
       "      <td>43940.0</td>\n",
       "      <td>57110.0</td>\n",
       "      <td>thirty-four thousand, three hundred and fifty</td>\n",
       "      <td>thirty-four thous three hundred  fifty</td>\n",
       "      <td>thirty-four</td>\n",
       "      <td>three hundred  fifty</td>\n",
       "      <td>three</td>\n",
       "      <td>fifty</td>\n",
       "      <td>NaN</td>\n",
       "      <td>NaN</td>\n",
       "    </tr>\n",
       "    <tr>\n",
       "      <th>1</th>\n",
       "      <td>90002</td>\n",
       "      <td>42888.0</td>\n",
       "      <td>51223.0</td>\n",
       "      <td>thirty-five thousand and twenty</td>\n",
       "      <td>thirty-five thous  twenty</td>\n",
       "      <td>thirty-five</td>\n",
       "      <td>twenty</td>\n",
       "      <td>NaN</td>\n",
       "      <td>NaN</td>\n",
       "      <td>NaN</td>\n",
       "      <td>NaN</td>\n",
       "    </tr>\n",
       "    <tr>\n",
       "      <th>2</th>\n",
       "      <td>90003</td>\n",
       "      <td>38369.0</td>\n",
       "      <td>66266.0</td>\n",
       "      <td>thirty thousand, nine hundred and twelve</td>\n",
       "      <td>thirty thous nine hundred  twelve</td>\n",
       "      <td>thirty</td>\n",
       "      <td>nine hundred  twelve</td>\n",
       "      <td>nine</td>\n",
       "      <td>twelve</td>\n",
       "      <td>NaN</td>\n",
       "      <td>NaN</td>\n",
       "    </tr>\n",
       "    <tr>\n",
       "      <th>3</th>\n",
       "      <td>90004</td>\n",
       "      <td>60028.0</td>\n",
       "      <td>62180.0</td>\n",
       "      <td>forty thousand, three hundred and fifty-eight</td>\n",
       "      <td>forty thous three hundred  fifty-eight</td>\n",
       "      <td>forty</td>\n",
       "      <td>three hundred  fifty-eight</td>\n",
       "      <td>three</td>\n",
       "      <td>fifty-eight</td>\n",
       "      <td>NaN</td>\n",
       "      <td>NaN</td>\n",
       "    </tr>\n",
       "    <tr>\n",
       "      <th>4</th>\n",
       "      <td>90005</td>\n",
       "      <td>48203.0</td>\n",
       "      <td>37681.0</td>\n",
       "      <td>thirty-six thousand and fifty-eight</td>\n",
       "      <td>thirty-six thous  fifty-eight</td>\n",
       "      <td>thirty-six</td>\n",
       "      <td>fifty-eight</td>\n",
       "      <td>NaN</td>\n",
       "      <td>NaN</td>\n",
       "      <td>NaN</td>\n",
       "      <td>NaN</td>\n",
       "    </tr>\n",
       "  </tbody>\n",
       "</table>\n",
       "</div>"
      ],
      "text/plain": [
       "  Zip Code     Mean  Population  \\\n",
       "0    90001  43940.0     57110.0   \n",
       "1    90002  42888.0     51223.0   \n",
       "2    90003  38369.0     66266.0   \n",
       "3    90004  60028.0     62180.0   \n",
       "4    90005  48203.0     37681.0   \n",
       "\n",
       "                                          Median  \\\n",
       "0  thirty-four thousand, three hundred and fifty   \n",
       "1                thirty-five thousand and twenty   \n",
       "2       thirty thousand, nine hundred and twelve   \n",
       "3  forty thousand, three hundred and fifty-eight   \n",
       "4            thirty-six thousand and fifty-eight   \n",
       "\n",
       "                               Median_tmp Median_thousands  \\\n",
       "0  thirty-four thous three hundred  fifty      thirty-four   \n",
       "1               thirty-five thous  twenty      thirty-five   \n",
       "2       thirty thous nine hundred  twelve           thirty   \n",
       "3  forty thous three hundred  fifty-eight            forty   \n",
       "4           thirty-six thous  fifty-eight       thirty-six   \n",
       "\n",
       "                  Median_ones Median_hundreds   Median_tens  \\\n",
       "0        three hundred  fifty           three         fifty   \n",
       "1                      twenty             NaN           NaN   \n",
       "2        nine hundred  twelve            nine        twelve   \n",
       "3  three hundred  fifty-eight           three   fifty-eight   \n",
       "4                 fifty-eight             NaN           NaN   \n",
       "\n",
       "  Median_hundred_thousands Median_ten_thoudands  \n",
       "0                      NaN                  NaN  \n",
       "1                      NaN                  NaN  \n",
       "2                      NaN                  NaN  \n",
       "3                      NaN                  NaN  \n",
       "4                      NaN                  NaN  "
      ]
     },
     "execution_count": 151,
     "metadata": {},
     "output_type": "execute_result"
    }
   ],
   "source": [
    "econ_data_df.head()"
   ]
  },
  {
   "cell_type": "code",
   "execution_count": 133,
   "metadata": {
    "collapsed": false
   },
   "outputs": [
    {
     "data": {
      "text/html": [
       "<div>\n",
       "<table border=\"1\" class=\"dataframe\">\n",
       "  <thead>\n",
       "    <tr style=\"text-align: right;\">\n",
       "      <th></th>\n",
       "      <th>Zip Code</th>\n",
       "      <th>Mean</th>\n",
       "      <th>Population</th>\n",
       "      <th>Median</th>\n",
       "      <th>Median_tmp</th>\n",
       "    </tr>\n",
       "  </thead>\n",
       "  <tbody>\n",
       "    <tr>\n",
       "      <th>0</th>\n",
       "      <td>90001</td>\n",
       "      <td>43940.0</td>\n",
       "      <td>57110.0</td>\n",
       "      <td>thirty-four thousand, three hundred and fifty</td>\n",
       "      <td>thirty-four thous three hundred  fifty</td>\n",
       "    </tr>\n",
       "    <tr>\n",
       "      <th>1</th>\n",
       "      <td>90002</td>\n",
       "      <td>42888.0</td>\n",
       "      <td>51223.0</td>\n",
       "      <td>thirty-five thousand and twenty</td>\n",
       "      <td>thirty-five thous  twenty</td>\n",
       "    </tr>\n",
       "    <tr>\n",
       "      <th>2</th>\n",
       "      <td>90003</td>\n",
       "      <td>38369.0</td>\n",
       "      <td>66266.0</td>\n",
       "      <td>thirty thousand, nine hundred and twelve</td>\n",
       "      <td>thirty thous nine hundred  twelve</td>\n",
       "    </tr>\n",
       "  </tbody>\n",
       "</table>\n",
       "</div>"
      ],
      "text/plain": [
       "  Zip Code     Mean  Population  \\\n",
       "0    90001  43940.0     57110.0   \n",
       "1    90002  42888.0     51223.0   \n",
       "2    90003  38369.0     66266.0   \n",
       "\n",
       "                                          Median  \\\n",
       "0  thirty-four thousand, three hundred and fifty   \n",
       "1                thirty-five thousand and twenty   \n",
       "2       thirty thousand, nine hundred and twelve   \n",
       "\n",
       "                               Median_tmp  \n",
       "0  thirty-four thous three hundred  fifty  \n",
       "1               thirty-five thous  twenty  \n",
       "2       thirty thous nine hundred  twelve  "
      ]
     },
     "execution_count": 133,
     "metadata": {},
     "output_type": "execute_result"
    }
   ],
   "source": [
    "econ_data_df['Median_tmp'] = (econ_data_df['Median']\n",
    "                              .str.replace('and', ''))\n",
    "econ_data_df['Median_tmp'] = (econ_data_df['Median_tmp']\n",
    "                              .str.replace(',', ''))\n",
    "econ_data_df.head(3)"
   ]
  },
  {
   "cell_type": "code",
   "execution_count": 144,
   "metadata": {
    "collapsed": false
   },
   "outputs": [],
   "source": [
    "econ_data_df['Median_thousands'] = (econ_data_df['Median_tmp']\n",
    "                                   .str.extract('(.+) thous', expand=False))\n",
    "econ_data_df['Median_ones'] = (econ_data_df['Median_tmp']\n",
    "                                   .str.extract('thous (.+)', expand=False))"
   ]
  },
  {
   "cell_type": "code",
   "execution_count": 145,
   "metadata": {
    "collapsed": false
   },
   "outputs": [
    {
     "data": {
      "text/html": [
       "<div>\n",
       "<table border=\"1\" class=\"dataframe\">\n",
       "  <thead>\n",
       "    <tr style=\"text-align: right;\">\n",
       "      <th></th>\n",
       "      <th>Zip Code</th>\n",
       "      <th>Mean</th>\n",
       "      <th>Population</th>\n",
       "      <th>Median</th>\n",
       "      <th>Median_tmp</th>\n",
       "      <th>Median_thousands</th>\n",
       "      <th>Median_ones</th>\n",
       "    </tr>\n",
       "  </thead>\n",
       "  <tbody>\n",
       "    <tr>\n",
       "      <th>0</th>\n",
       "      <td>90001</td>\n",
       "      <td>43940.0</td>\n",
       "      <td>57110.0</td>\n",
       "      <td>thirty-four thousand, three hundred and fifty</td>\n",
       "      <td>thirty-four thous three hundred  fifty</td>\n",
       "      <td>thirty-four</td>\n",
       "      <td>three hundred  fifty</td>\n",
       "    </tr>\n",
       "    <tr>\n",
       "      <th>1</th>\n",
       "      <td>90002</td>\n",
       "      <td>42888.0</td>\n",
       "      <td>51223.0</td>\n",
       "      <td>thirty-five thousand and twenty</td>\n",
       "      <td>thirty-five thous  twenty</td>\n",
       "      <td>thirty-five</td>\n",
       "      <td>twenty</td>\n",
       "    </tr>\n",
       "    <tr>\n",
       "      <th>2</th>\n",
       "      <td>90003</td>\n",
       "      <td>38369.0</td>\n",
       "      <td>66266.0</td>\n",
       "      <td>thirty thousand, nine hundred and twelve</td>\n",
       "      <td>thirty thous nine hundred  twelve</td>\n",
       "      <td>thirty</td>\n",
       "      <td>nine hundred  twelve</td>\n",
       "    </tr>\n",
       "    <tr>\n",
       "      <th>3</th>\n",
       "      <td>90004</td>\n",
       "      <td>60028.0</td>\n",
       "      <td>62180.0</td>\n",
       "      <td>forty thousand, three hundred and fifty-eight</td>\n",
       "      <td>forty thous three hundred  fifty-eight</td>\n",
       "      <td>forty</td>\n",
       "      <td>three hundred  fifty-eight</td>\n",
       "    </tr>\n",
       "    <tr>\n",
       "      <th>4</th>\n",
       "      <td>90005</td>\n",
       "      <td>48203.0</td>\n",
       "      <td>37681.0</td>\n",
       "      <td>thirty-six thousand and fifty-eight</td>\n",
       "      <td>thirty-six thous  fifty-eight</td>\n",
       "      <td>thirty-six</td>\n",
       "      <td>fifty-eight</td>\n",
       "    </tr>\n",
       "  </tbody>\n",
       "</table>\n",
       "</div>"
      ],
      "text/plain": [
       "  Zip Code     Mean  Population  \\\n",
       "0    90001  43940.0     57110.0   \n",
       "1    90002  42888.0     51223.0   \n",
       "2    90003  38369.0     66266.0   \n",
       "3    90004  60028.0     62180.0   \n",
       "4    90005  48203.0     37681.0   \n",
       "\n",
       "                                          Median  \\\n",
       "0  thirty-four thousand, three hundred and fifty   \n",
       "1                thirty-five thousand and twenty   \n",
       "2       thirty thousand, nine hundred and twelve   \n",
       "3  forty thousand, three hundred and fifty-eight   \n",
       "4            thirty-six thousand and fifty-eight   \n",
       "\n",
       "                               Median_tmp Median_thousands  \\\n",
       "0  thirty-four thous three hundred  fifty      thirty-four   \n",
       "1               thirty-five thous  twenty      thirty-five   \n",
       "2       thirty thous nine hundred  twelve           thirty   \n",
       "3  forty thous three hundred  fifty-eight            forty   \n",
       "4           thirty-six thous  fifty-eight       thirty-six   \n",
       "\n",
       "                  Median_ones  \n",
       "0        three hundred  fifty  \n",
       "1                      twenty  \n",
       "2        nine hundred  twelve  \n",
       "3  three hundred  fifty-eight  \n",
       "4                 fifty-eight  "
      ]
     },
     "execution_count": 145,
     "metadata": {},
     "output_type": "execute_result"
    }
   ],
   "source": [
    "econ_data_df.head()"
   ]
  },
  {
   "cell_type": "code",
   "execution_count": 146,
   "metadata": {
    "collapsed": true
   },
   "outputs": [
    {
     "data": {
      "text/plain": [
       "array(['three hundred  fifty', ' twenty', 'nine hundred  twelve',\n",
       "       'three hundred  fifty-eight', ' fifty-eight',\n",
       "       'nine hundred  thirty-nine', 'one hundred  ninety-five',\n",
       "       'nine hundred  seventy-three', 'nine hundred  ninety-nine',\n",
       "       'nine hundred  sixty-nine', 'seven hundred  seventy-five',\n",
       "       'six hundred  twenty-eight', 'eight hundred  thirty-two',\n",
       "       'seven hundred  sixty-two', 'two hundred  twenty-three',\n",
       "       'nine hundred  fifty-six', 'one hundred  thirty-seven',\n",
       "       'six hundred  fifteen', 'eight hundred  forty-six', ' eighty-four',\n",
       "       'nine hundred  thirty-seven', 'eight hundred  twelve',\n",
       "       'nine hundred  sixty-five', 'eight hundred  six',\n",
       "       'nine hundred  eighteen', 'eight hundred  seventy-eight',\n",
       "       'seven hundred  eighteen', 'eight hundred  seventy', ' thirty-five',\n",
       "       'one hundred  ninety-seven', 'nine hundred  seventy-eight',\n",
       "       'four hundred  six', 'nine hundred  sixty-four',\n",
       "       'one hundred  sixty-five', 'one hundred  thirty',\n",
       "       'six hundred  ninety', 'one hundred  thirty-four',\n",
       "       'five hundred  ninety-six', 'three hundred  eighteen',\n",
       "       ' seventy-five', 'eight hundred  fifty-six',\n",
       "       'eight hundred  sixty-two', 'eight hundred  eighty-nine',\n",
       "       ' sixty-three', 'seven hundred  ninety-five',\n",
       "       'one hundred  thirty-two', 'six hundred  thirty-six',\n",
       "       'eight hundred', 'six hundred  ninety-four', ' ninety-four',\n",
       "       'five hundred  sixty-four', 'four hundred  eighteen',\n",
       "       'two hundred  fifteen', 'five hundred  thirty-three',\n",
       "       'one hundred  sixty-one', 'seven hundred  thirty-two',\n",
       "       'eight hundred  eight', 'two hundred  four', 'eight hundred  forty',\n",
       "       'nine hundred  ninety-four', 'four hundred  ninety-nine',\n",
       "       'five hundred  forty-six', ' seventy-six',\n",
       "       'two hundred  twenty-one', 'six hundred  eighteen',\n",
       "       'six hundred  sixty-seven', 'two hundred  thirty-three',\n",
       "       ' sixty-nine', 'two hundred  two', 'three hundred  forty-eight',\n",
       "       'one hundred  sixty-seven', 'one hundred  ten',\n",
       "       'eight hundred  sixty-five', 'six hundred  fifty-seven',\n",
       "       'one hundred  fifty-three', 'four hundred  fifty-eight',\n",
       "       'five hundred  fifty-four', 'two hundred  ninety-three',\n",
       "       'four hundred  sixty-eight', 'eight hundred  ninety-six',\n",
       "       'two hundred  fifty-nine', 'eight hundred  eighty-two',\n",
       "       'eight hundred  sixty-one', 'nine hundred  thirty-six',\n",
       "       ' seventy-seven', 'eight hundred  fifty-seven',\n",
       "       'four hundred  sixty-six', 'seven hundred  seventeen', ' five',\n",
       "       'three hundred', 'four hundred  twenty-two',\n",
       "       'four hundred  eighty-one', 'eight hundred  eighty-five',\n",
       "       'eight hundred  five', ' eighty-two', 'nine hundred  eighty-four',\n",
       "       'eight hundred  fifty-eight', ' eighty-eight',\n",
       "       'nine hundred  fifty-four', 'three hundred  one',\n",
       "       'eight hundred  fifty-four', ' forty-seven',\n",
       "       'two hundred  thirteen', 'five hundred  sixty-two', ' twenty-four',\n",
       "       'six hundred  seventy-six', 'nine hundred  ninety-eight',\n",
       "       'one hundred  eighty-five', 'four hundred  sixty-one',\n",
       "       'eight hundred  ninety-nine', 'five hundred  seventy-two',\n",
       "       'two hundred  forty-four', 'six hundred  forty-six',\n",
       "       'three hundred  twenty-three', 'six hundred  forty-three',\n",
       "       'four hundred  ten', 'one hundred  seventy-four',\n",
       "       'seven hundred  sixty', 'eight hundred  sixty-nine', ' thirteen',\n",
       "       ' thirty-six', 'two hundred  sixteen', 'five hundred  eighty',\n",
       "       'five hundred  thirty-seven', 'four hundred  four',\n",
       "       'three hundred  fourteen', 'four hundred  eight',\n",
       "       'seven hundred  seventy-six', 'four hundred  seventy-five',\n",
       "       'three hundred  eighty-seven', 'nine hundred  twenty-nine',\n",
       "       'nine hundred  forty-five', 'three hundred  seventy-one',\n",
       "       'nine hundred  sixty', ' six', 'six hundred  eight',\n",
       "       'three hundred  seventy-nine', 'nine hundred  ten',\n",
       "       'three hundred  eighty', 'nine hundred  seventy-seven',\n",
       "       'one hundred  thirty-eight', 'three hundred  ninety-seven',\n",
       "       'five hundred  sixty-five', 'two hundred  eighty-seven',\n",
       "       'three hundred  forty', 'five hundred  seventeen',\n",
       "       'six hundred  forty-nine', 'four hundred  twelve',\n",
       "       'three hundred  eighty-five', 'four hundred  forty',\n",
       "       'two hundred  eighty-one', 'eight hundred  fifty-nine',\n",
       "       ' eighty-five', 'two hundred  sixty-five', 'five hundred  two',\n",
       "       'five hundred  thirty-two', 'four hundred  forty-seven',\n",
       "       'six hundred  eighty-five', 'two hundred  twenty-four',\n",
       "       'eight hundred  seventeen', 'six hundred  thirty-five',\n",
       "       'two hundred  seven', 'eight hundred  sixteen',\n",
       "       'three hundred  seventy-six', 'five hundred  twenty-six',\n",
       "       'eight hundred  thirty-nine', 'five hundred  fifty-five',\n",
       "       'seven hundred  nineteen', 'six hundred  ninety-seven',\n",
       "       'three hundred  forty-three', 'five hundred  ninety-four',\n",
       "       ' thirty-three', 'one hundred  seventy-seven',\n",
       "       'eight hundred  forty-two', ' fifty-two', 'nine hundred  thirteen',\n",
       "       ' one', 'four hundred  seventeen', 'six hundred  three',\n",
       "       ' forty-four', ' forty-one', 'five hundred  twenty-three',\n",
       "       'four hundred  forty-six', 'three hundred  seventy-five',\n",
       "       'two hundred  eighty-four', 'five hundred  eighty-one',\n",
       "       'five hundred  sixty-three', 'six hundred  seven',\n",
       "       'eight hundred  thirty-three', nan, 'two hundred  seventy-two',\n",
       "       'one hundred  forty-nine', 'seven hundred  sixty-eight',\n",
       "       'four hundred  eighty-three', 'one hundred  sixty-eight',\n",
       "       'nine hundred  seventy-six', 'five hundred  forty-four',\n",
       "       'six hundred  ninety-three', 'seven hundred  ninety-four',\n",
       "       'six hundred  twenty-six', 'one hundred  ninety-one',\n",
       "       'six hundred  twenty-seven', 'nine hundred  thirty',\n",
       "       'three hundred  five', 'nine hundred  fifty-seven',\n",
       "       'four hundred  fifty-five', 'nine hundred  ninety-three',\n",
       "       'two hundred  thirty-eight', 'three hundred  eighty-one',\n",
       "       'three hundred  thirty-four', 'five hundred  fifty-nine',\n",
       "       'four hundred  sixty', 'two hundred  twenty-seven',\n",
       "       'three hundred  eighty-six', 'seven hundred  fifty-nine',\n",
       "       'six hundred  sixteen', 'seven hundred  seventy-three',\n",
       "       'one hundred  eleven', 'five hundred  forty-three',\n",
       "       'nine hundred  one', 'seven hundred  sixteen',\n",
       "       'nine hundred  eighty-seven', 'three hundred  twenty-nine',\n",
       "       'six hundred  thirty-two', ' eighty-seven',\n",
       "       'three hundred  ninety-two', 'one hundred  twenty-one',\n",
       "       'nine hundred  forty-two', 'four hundred  thirty-four',\n",
       "       'seven hundred  thirty-three', ' twenty-five', 'two hundred  forty',\n",
       "       'one hundred  forty-three', 'three hundred  twenty-four',\n",
       "       'six hundred  seventy-nine', 'nine hundred  twenty-five',\n",
       "       'nine hundred  thirty-four', 'three hundred  forty-four',\n",
       "       'nine hundred  seventeen', 'seven hundred  twenty-six',\n",
       "       'eight hundred  forty-one', 'seven hundred  forty-seven',\n",
       "       'two hundred  sixty-four', 'seven hundred  five', ' ninety-three',\n",
       "       'eight hundred  forty-five', ' twenty-six',\n",
       "       'five hundred  fourteen', 'nine hundred  seventy-nine',\n",
       "       'four hundred  sixty-nine', 'two hundred  eighty-eight',\n",
       "       'five hundred  eighty-three', 'two hundred  sixty-two',\n",
       "       'six hundred  thirty', 'four hundred  eighty-seven',\n",
       "       'seven hundred  thirty-eight', 'four hundred  forty-four',\n",
       "       'three hundred  eighty-eight', 'two hundred  forty-eight',\n",
       "       ' thirty-four', 'nine hundred  ninety-seven',\n",
       "       'two hundred  fifty-one', 'three hundred  ninety-eight',\n",
       "       'two hundred  fifty-eight', 'three hundred  forty-six',\n",
       "       'five hundred  seventy-four', 'six hundred  twenty-five',\n",
       "       ' sixty-seven', 'six hundred  fourteen', 'five hundred  ninety',\n",
       "       'five hundred  ninety-eight', ' seventy-three',\n",
       "       'one hundred  sixty-two', 'six hundred  sixty-three',\n",
       "       'one hundred  eighty-one', 'one hundred  twenty-five', ' sixty',\n",
       "       'eight hundred  nine', 'eight hundred  ninety-one',\n",
       "       'four hundred  eighty-nine', 'five hundred  eighty-five',\n",
       "       'two hundred  seventy-six', 'eight hundred  twenty-three',\n",
       "       'three hundred  twenty', 'one hundred  fifty-five',\n",
       "       'five hundred  thirty-five', 'seven hundred  eighty-seven',\n",
       "       'eight hundred  seven', 'four hundred  nine',\n",
       "       'six hundred  fifty-one', 'five hundred  twenty-eight',\n",
       "       'six hundred  seventy-one', 'six hundred  thirty-four',\n",
       "       'seven hundred  thirty-five', 'eight hundred  ten',\n",
       "       'six hundred  forty-seven', 'nine hundred  eighty-five',\n",
       "       'six hundred  eighty-six', 'two hundred  one',\n",
       "       'six hundred  nineteen', 'six hundred  sixty-six', ' thirty-one',\n",
       "       'three hundred  fifty-two', 'five hundred  forty',\n",
       "       'one hundred  three', 'one hundred  two', 'six hundred  seventy',\n",
       "       'two hundred  eighty-three', ' seventy-eight',\n",
       "       'two hundred  fifty-seven', 'seven hundred  thirty',\n",
       "       'seven hundred  sixty-seven', 'nine hundred  sixty-three',\n",
       "       'four hundred  thirty-two', 'eight hundred  seventy-seven',\n",
       "       'eight hundred  two', 'eight hundred  seventy-one',\n",
       "       'five hundred  eighty-nine', 'three hundred  sixty-eight',\n",
       "       'four hundred  twenty-seven', 'five hundred  sixty-nine',\n",
       "       'one hundred  sixty-nine', 'five hundred  four',\n",
       "       'four hundred  ninety-two', 'six hundred  fifty-four', ' ten',\n",
       "       ' twenty-three', 'seven hundred  sixty-four', 'two hundred  three',\n",
       "       'four hundred  seventy-seven', 'nine hundred  fifty-one',\n",
       "       'nine hundred  forty-six', 'three hundred  ninety-five', ' fifty',\n",
       "       'one hundred  seventy-two', 'seven hundred  eighty',\n",
       "       ' twenty-eight', 'five hundred  nine', 'four hundred  seventy-nine',\n",
       "       'seven hundred  eighty-four', 'seven hundred  twenty-four',\n",
       "       'six hundred  forty-five', 'one hundred  seventy-three',\n",
       "       'eight hundred  ninety-four', 'seven hundred  seventy-nine',\n",
       "       ' fifty-nine', 'five hundred  thirteen', ' fifty-five',\n",
       "       'five hundred  fifty-six', 'six hundred  eighty-two',\n",
       "       'eight hundred  ninety', 'three hundred  two',\n",
       "       'four hundred  eighty', 'five hundred  three',\n",
       "       'two hundred  seventy-four', 'nine hundred  fifty',\n",
       "       'three hundred  ninety-one', ' ninety-two',\n",
       "       'five hundred  ninety-one', 'five hundred  one',\n",
       "       'six hundred  fifty', 'nine hundred  seventy-four',\n",
       "       'seven hundred  twenty-nine', 'one hundred  ninety-eight',\n",
       "       'one hundred  seven', 'eight hundred  ninety-five',\n",
       "       'five hundred  six', 'six hundred  twenty-two',\n",
       "       'nine hundred  fifty-two', 'nine hundred  eighty-three',\n",
       "       'one hundred  ninety-nine', 'three hundred  ninety-six',\n",
       "       'three hundred  seven', 'three hundred  sixty-one',\n",
       "       'seven hundred  fifty-six', 'two hundred  ninety-five',\n",
       "       'two hundred  ninety-seven', 'one hundred  eighty-four',\n",
       "       'nine hundred  three', 'four hundred  three',\n",
       "       'three hundred  ninety', 'five hundred  twenty-one',\n",
       "       'five hundred  sixty-seven', 'two hundred  sixty-six',\n",
       "       'nine hundred  eighty-one', ' eighty', 'one hundred  twenty-three',\n",
       "       'six hundred  fifty-six', ' nine', 'five hundred  seventy-nine',\n",
       "       'two hundred  forty-nine', 'three hundred  nineteen',\n",
       "       'seven hundred  fifty', 'two hundred  seventy-three',\n",
       "       'six hundred  twenty-nine', 'five hundred  seven',\n",
       "       'nine hundred  nine', 'six hundred  fifty-nine',\n",
       "       'five hundred  five', 'five hundred  nineteen',\n",
       "       'four hundred  fifty', 'one hundred  forty-six',\n",
       "       'two hundred  eighty', 'nine hundred  thirty-two',\n",
       "       'one hundred  twenty-eight', 'seven hundred  ninety-three',\n",
       "       'two hundred  twenty-five', ' ninety-seven', 'two hundred  nine',\n",
       "       'three hundred  eleven', 'five hundred  forty-one',\n",
       "       'five hundred  forty-five', 'nine hundred  sixty-six',\n",
       "       'three hundred  nine', 'one hundred  fifty',\n",
       "       'eight hundred  eighty-six', 'nine hundred  sixty-one',\n",
       "       'six hundred  sixty-four', ' sixty-four',\n",
       "       'four hundred  twenty-four', 'five hundred  ninety-seven',\n",
       "       ' ninety-five', 'one hundred  twenty-seven',\n",
       "       'three hundred  fifty-four', 'five hundred  sixty-one',\n",
       "       'five hundred  fifty-eight', 'nine hundred  seventy-two',\n",
       "       'seven hundred  eighty-one', 'seven hundred  ninety-seven',\n",
       "       'seven hundred  fifty-three', 'five hundred  seventy-seven',\n",
       "       'nine hundred  twenty-eight', 'three hundred  sixty-nine',\n",
       "       'eight hundred  sixty', 'five hundred  ninety-three',\n",
       "       'eight hundred  seventy-four', 'two hundred  forty-two',\n",
       "       'five hundred  twenty-seven', ' twenty-seven',\n",
       "       'three hundred  ninety-three', 'five hundred  ninety-five',\n",
       "       'six hundred  twenty', ' forty-three', 'six hundred  fifty-eight',\n",
       "       ' forty', 'one hundred  thirty-nine', 'four hundred  thirteen',\n",
       "       'nine hundred  eighty-six', 'one hundred  ninety-three',\n",
       "       'four hundred  seventy-two', 'one hundred  ninety-six',\n",
       "       'five hundred  fifty-one', 'four hundred  seventy-one',\n",
       "       'five hundred  forty-two', ' fourteen', 'one hundred  twenty-two',\n",
       "       'three hundred  eighty-nine', 'four hundred  eighty-eight',\n",
       "       'six hundred  eighty', ' thirty-nine', ' eighteen',\n",
       "       'four hundred  fifty-one', 'seven hundred  eighty-two',\n",
       "       'eight hundred  eighty-eight', 'one hundred  forty-two',\n",
       "       'seven hundred  seventy-eight', 'four hundred  ninety-three',\n",
       "       'nine hundred  twenty-four', ' nineteen', 'five hundred  fifteen',\n",
       "       'seven hundred  thirteen', 'one hundred  forty-four',\n",
       "       'one hundred  fourteen', 'eight hundred  forty-three',\n",
       "       'one hundred  sixty-three', 'five hundred  fifty',\n",
       "       'four hundred  thirty-eight', 'eight hundred  twenty-eight',\n",
       "       'five hundred  thirty-six', 'three hundred  ninety-four',\n",
       "       'seven hundred  sixty-one', ' thirty-eight',\n",
       "       'seven hundred  eighty-three', 'seven hundred  thirty-one',\n",
       "       ' forty-nine', 'eight hundred  four', 'eight hundred  twenty-six',\n",
       "       'five hundred  eighty-six', ' fifty-four',\n",
       "       'six hundred  sixty-five', 'six hundred  twenty-four',\n",
       "       'four hundred  five', 'five hundred  eighteen',\n",
       "       'three hundred  eighty-four', 'two hundred  twenty-eight',\n",
       "       'one hundred  one', 'two hundred  eighty-two',\n",
       "       'eight hundred  nineteen', 'nine hundred  eight',\n",
       "       'nine hundred  fourteen', 'nine hundred  ninety-one',\n",
       "       'eight hundred  seventy-nine', 'nine hundred  twenty-six',\n",
       "       'nine hundred  thirty-three', 'nine hundred  eighty',\n",
       "       'five hundred  fifty-seven', 'eight hundred  fifty-two',\n",
       "       'six hundred  ninety-two', 'nine hundred  sixteen',\n",
       "       'one hundred  thirty-one', 'four hundred',\n",
       "       'four hundred  ninety-four', 'seven hundred  four',\n",
       "       'four hundred  forty-nine', 'eight hundred  twenty',\n",
       "       'seven hundred  sixty-nine', 'four hundred  eighty-six',\n",
       "       ' eighty-nine', 'three hundred  eighty-three',\n",
       "       'eight hundred  fifty-one', 'four hundred  thirty-nine',\n",
       "       'nine hundred  ninety-six', 'three hundred  fifty-five',\n",
       "       'five hundred  sixty', 'eight hundred  sixty-seven',\n",
       "       'five hundred  fifty-three', 'six hundred  sixty-eight',\n",
       "       'four hundred  twenty-one', 'eight hundred  forty-eight',\n",
       "       'nine hundred  fifteen', 'two hundred  ninety-four',\n",
       "       'seven hundred  sixty-six', 'three hundred  thirty-six',\n",
       "       'five hundred', 'three hundred  thirty-nine',\n",
       "       'eight hundred  eleven', 'two hundred  twenty-nine',\n",
       "       'one hundred  forty', ' seventeen', 'two hundred  fifty-four',\n",
       "       'eight hundred  sixty-six', 'two hundred  eighty-six',\n",
       "       'seven hundred', 'nine hundred  twenty',\n",
       "       'four hundred  seventy-eight', 'three hundred  four',\n",
       "       'seven hundred  thirty-seven', 'six hundred  one',\n",
       "       'four hundred  eighty-five', 'four hundred  ninety-one',\n",
       "       'six hundred  seventy-four', 'two hundred  ninety-eight',\n",
       "       'four hundred  ninety', 'five hundred  eighty-seven', ' ninety-six',\n",
       "       'two hundred  seventy-nine', 'nine hundred  two',\n",
       "       'three hundred  twenty-seven', 'four hundred  seventy', ' thirty',\n",
       "       'nine hundred  thirty-eight', 'seven hundred  eighty-eight',\n",
       "       'six hundred  sixty-one', 'eight hundred  twenty-nine',\n",
       "       'three hundred  sixty-four', 'five hundred  eight',\n",
       "       'seven hundred  thirty-six', 'nine hundred  forty-three',\n",
       "       'two hundred  ninety-nine', 'one hundred  nineteen',\n",
       "       'one hundred  twenty-six', 'one hundred  fifty-two',\n",
       "       'three hundred  sixty-six', 'seven hundred  forty-three',\n",
       "       'nine hundred  six', 'six hundred  thirty-eight',\n",
       "       'one hundred  seventy-five', 'seven hundred  nine',\n",
       "       'two hundred  forty-six', 'eight hundred  sixty-four',\n",
       "       'six hundred  thirty-nine', 'nine hundred  seventy-one'], dtype=object)"
      ]
     },
     "execution_count": 146,
     "metadata": {},
     "output_type": "execute_result"
    }
   ],
   "source": [
    "econ_data_df['Median_ones'].unique()"
   ]
  },
  {
   "cell_type": "code",
   "execution_count": 147,
   "metadata": {
    "collapsed": true
   },
   "outputs": [
    {
     "data": {
      "text/plain": [
       "array(['thirty-four', 'thirty-five', 'thirty', 'forty', 'thirty-six',\n",
       "       'twenty-nine', 'twenty-one', 'fifty-one', 'thirty-nine',\n",
       "       'seventeen', 'thirteen', 'twenty-four', 'thirty-seven', 'twenty',\n",
       "       'thirty-three', 'forty-two', 'fifty-two', 'sixty-eight',\n",
       "       'forty-three', 'fifty-four', 'thirty-one', 'forty-four',\n",
       "       'fifty-nine', 'sixty-seven', 'seventy-seven', 'sixty-two',\n",
       "       'forty-nine', 'fifty-three', 'forty-seven', 'ninety-three',\n",
       "       'sixty-six', 'seventy-one', 'one hundred  thirty-one', 'ninety',\n",
       "       'twenty-six', 'twenty-three', 'thirty-two', 'eighty-six',\n",
       "       'fifty-six', 'sixty-four', 'one hundred  four', 'eighty-one',\n",
       "       'seventy-eight', 'eighteen', 'two', 'two hundred  five', 'twelve',\n",
       "       'seventy-five', 'one hundred  forty-three', 'seventy-nine',\n",
       "       'seventy-four', 'forty-one', 'seventy-three', 'sixty',\n",
       "       'forty-eight', 'eighty-nine', 'fifty', 'ninety-six', 'thirty-eight',\n",
       "       'one hundred  twenty-six', 'one hundred  thirty-seven',\n",
       "       'one hundred  fifty', 'one hundred  fifty-three',\n",
       "       'one hundred  fourteen', 'eighty-eight', 'one hundred',\n",
       "       'one hundred  twenty-two', 'ninety-seven', 'forty-five',\n",
       "       'one hundred  forty-four', 'sixty-five', 'seventy', 'seventy-six',\n",
       "       'eighty-seven', 'sixty-nine', 'fifty-five', 'eighty-five',\n",
       "       'eighty-three', 'sixty-one', 'fifty-seven', 'fifty-eight',\n",
       "       'ninety-one', 'eighty-four', 'sixty-three', 'seventy-two',\n",
       "       'forty-six', 'twenty-eight', 'ninety-four', 'one hundred  eighteen',\n",
       "       'one hundred  fifty-two', 'ninety-nine', 'one hundred  nine',\n",
       "       'one hundred  thirty-five', 'one hundred  ten', 'ninety-eight',\n",
       "       'one hundred  eight', 'one hundred  fifteen',\n",
       "       'one hundred  twenty-nine', 'ninety-two', 'one hundred  three',\n",
       "       'eighty-two', 'one hundred  two', 'one hundred  twenty-eight',\n",
       "       'eighty', 'one hundred  thirty-two', 'one hundred  thirty',\n",
       "       'one hundred  five', 'one hundred  seven',\n",
       "       'one hundred  twenty-seven', 'one hundred  sixty-five', 'sixteen',\n",
       "       'twenty-two', 'twenty-five', 'ninety-five', 'one hundred  one',\n",
       "       'one hundred  seventy-seven', 'one hundred  twenty',\n",
       "       'one hundred  seventy-three', 'one hundred  forty-five',\n",
       "       'one hundred  six', 'one hundred  twenty-five',\n",
       "       'one hundred  thirty-nine', 'one hundred  eleven', 'twenty-seven',\n",
       "       'fourteen', 'one hundred  thirteen'], dtype=object)"
      ]
     },
     "execution_count": 147,
     "metadata": {},
     "output_type": "execute_result"
    }
   ],
   "source": [
    "econ_data_df['Median_thousands'].unique()"
   ]
  },
  {
   "cell_type": "code",
   "execution_count": 148,
   "metadata": {
    "collapsed": true
   },
   "outputs": [],
   "source": [
    "econ_data_df['Median_hundreds'] = (econ_data_df['Median_ones']\n",
    "                                   .str.extract('(.+) hundred',expand=False))\n",
    "econ_data_df['Median_tens'] = (econ_data_df['Median_ones']\n",
    "                                   .str.extract('hundred (.+)',expand=False))\n",
    "econ_data_df['Median_hundred_thousands'] = (econ_data_df['Median_thousands']\n",
    "                                   .str.extract('(.+) hundred',expand=False))\n",
    "econ_data_df['Median_ten_thoudands'] = (econ_data_df['Median_thousands']\n",
    "                                   .str.extract('hundred (.+)',expand=False))\n",
    "\n",
    "\n"
   ]
  },
  {
   "cell_type": "code",
   "execution_count": 150,
   "metadata": {
    "collapsed": false
   },
   "outputs": [
    {
     "data": {
      "text/html": [
       "<div>\n",
       "<table border=\"1\" class=\"dataframe\">\n",
       "  <thead>\n",
       "    <tr style=\"text-align: right;\">\n",
       "      <th></th>\n",
       "      <th>Zip Code</th>\n",
       "      <th>Mean</th>\n",
       "      <th>Population</th>\n",
       "      <th>Median</th>\n",
       "      <th>Median_tmp</th>\n",
       "      <th>Median_thousands</th>\n",
       "      <th>Median_ones</th>\n",
       "      <th>Median_hundreds</th>\n",
       "      <th>Median_tens</th>\n",
       "      <th>Median_hundred_thousands</th>\n",
       "      <th>Median_ten_thoudands</th>\n",
       "    </tr>\n",
       "  </thead>\n",
       "  <tbody>\n",
       "    <tr>\n",
       "      <th>0</th>\n",
       "      <td>90001</td>\n",
       "      <td>43940.0</td>\n",
       "      <td>57110.0</td>\n",
       "      <td>thirty-four thousand, three hundred and fifty</td>\n",
       "      <td>thirty-four thous three hundred  fifty</td>\n",
       "      <td>thirty-four</td>\n",
       "      <td>three hundred  fifty</td>\n",
       "      <td>three</td>\n",
       "      <td>fifty</td>\n",
       "      <td>NaN</td>\n",
       "      <td>NaN</td>\n",
       "    </tr>\n",
       "    <tr>\n",
       "      <th>1</th>\n",
       "      <td>90002</td>\n",
       "      <td>42888.0</td>\n",
       "      <td>51223.0</td>\n",
       "      <td>thirty-five thousand and twenty</td>\n",
       "      <td>thirty-five thous  twenty</td>\n",
       "      <td>thirty-five</td>\n",
       "      <td>twenty</td>\n",
       "      <td>NaN</td>\n",
       "      <td>NaN</td>\n",
       "      <td>NaN</td>\n",
       "      <td>NaN</td>\n",
       "    </tr>\n",
       "    <tr>\n",
       "      <th>2</th>\n",
       "      <td>90003</td>\n",
       "      <td>38369.0</td>\n",
       "      <td>66266.0</td>\n",
       "      <td>thirty thousand, nine hundred and twelve</td>\n",
       "      <td>thirty thous nine hundred  twelve</td>\n",
       "      <td>thirty</td>\n",
       "      <td>nine hundred  twelve</td>\n",
       "      <td>nine</td>\n",
       "      <td>twelve</td>\n",
       "      <td>NaN</td>\n",
       "      <td>NaN</td>\n",
       "    </tr>\n",
       "    <tr>\n",
       "      <th>3</th>\n",
       "      <td>90004</td>\n",
       "      <td>60028.0</td>\n",
       "      <td>62180.0</td>\n",
       "      <td>forty thousand, three hundred and fifty-eight</td>\n",
       "      <td>forty thous three hundred  fifty-eight</td>\n",
       "      <td>forty</td>\n",
       "      <td>three hundred  fifty-eight</td>\n",
       "      <td>three</td>\n",
       "      <td>fifty-eight</td>\n",
       "      <td>NaN</td>\n",
       "      <td>NaN</td>\n",
       "    </tr>\n",
       "    <tr>\n",
       "      <th>4</th>\n",
       "      <td>90005</td>\n",
       "      <td>48203.0</td>\n",
       "      <td>37681.0</td>\n",
       "      <td>thirty-six thousand and fifty-eight</td>\n",
       "      <td>thirty-six thous  fifty-eight</td>\n",
       "      <td>thirty-six</td>\n",
       "      <td>fifty-eight</td>\n",
       "      <td>NaN</td>\n",
       "      <td>NaN</td>\n",
       "      <td>NaN</td>\n",
       "      <td>NaN</td>\n",
       "    </tr>\n",
       "  </tbody>\n",
       "</table>\n",
       "</div>"
      ],
      "text/plain": [
       "  Zip Code     Mean  Population  \\\n",
       "0    90001  43940.0     57110.0   \n",
       "1    90002  42888.0     51223.0   \n",
       "2    90003  38369.0     66266.0   \n",
       "3    90004  60028.0     62180.0   \n",
       "4    90005  48203.0     37681.0   \n",
       "\n",
       "                                          Median  \\\n",
       "0  thirty-four thousand, three hundred and fifty   \n",
       "1                thirty-five thousand and twenty   \n",
       "2       thirty thousand, nine hundred and twelve   \n",
       "3  forty thousand, three hundred and fifty-eight   \n",
       "4            thirty-six thousand and fifty-eight   \n",
       "\n",
       "                               Median_tmp Median_thousands  \\\n",
       "0  thirty-four thous three hundred  fifty      thirty-four   \n",
       "1               thirty-five thous  twenty      thirty-five   \n",
       "2       thirty thous nine hundred  twelve           thirty   \n",
       "3  forty thous three hundred  fifty-eight            forty   \n",
       "4           thirty-six thous  fifty-eight       thirty-six   \n",
       "\n",
       "                  Median_ones Median_hundreds   Median_tens  \\\n",
       "0        three hundred  fifty           three         fifty   \n",
       "1                      twenty             NaN           NaN   \n",
       "2        nine hundred  twelve            nine        twelve   \n",
       "3  three hundred  fifty-eight           three   fifty-eight   \n",
       "4                 fifty-eight             NaN           NaN   \n",
       "\n",
       "  Median_hundred_thousands Median_ten_thoudands  \n",
       "0                      NaN                  NaN  \n",
       "1                      NaN                  NaN  \n",
       "2                      NaN                  NaN  \n",
       "3                      NaN                  NaN  \n",
       "4                      NaN                  NaN  "
      ]
     },
     "execution_count": 150,
     "metadata": {},
     "output_type": "execute_result"
    }
   ],
   "source": [
    "econ_data_df.head()"
   ]
  },
  {
   "cell_type": "markdown",
   "metadata": {},
   "source": [
    "### Meh"
   ]
  },
  {
   "cell_type": "code",
   "execution_count": 152,
   "metadata": {
    "collapsed": false
   },
   "outputs": [
    {
     "data": {
      "text/plain": [
       "Index([u'Zip Code', u'Mean', u'Population', u'Median', u'Median_tmp',\n",
       "       u'Median_thousands', u'Median_ones', u'Median_hundreds', u'Median_tens',\n",
       "       u'Median_hundred_thousands', u'Median_ten_thoudands'],\n",
       "      dtype='object')"
      ]
     },
     "execution_count": 152,
     "metadata": {},
     "output_type": "execute_result"
    }
   ],
   "source": [
    "econ_data_df.columns"
   ]
  },
  {
   "cell_type": "code",
   "execution_count": 160,
   "metadata": {
    "collapsed": false
   },
   "outputs": [],
   "source": [
    "la_econ_data = pd.DataFrame([econ_data_df['Zip Code'], \n",
    "                             econ_data_df['Mean'].astype(float), \n",
    "                             econ_data_df['Population'].astype(int)]).T"
   ]
  },
  {
   "cell_type": "code",
   "execution_count": 173,
   "metadata": {
    "collapsed": true
   },
   "outputs": [],
   "source": [
    "la_water_data = pd.read_csv('curriculum/week-02/data/Water_Use_Average_By_Zipcode.csv')"
   ]
  },
  {
   "cell_type": "code",
   "execution_count": 174,
   "metadata": {
    "collapsed": false
   },
   "outputs": [],
   "source": [
    "la_water_data['Zip Code'] = (la_water_data['Location 1']\n",
    "                             .str.extract('(\\d\\d\\d\\d\\d)\\\\n', \n",
    "                                          expand=False))\n",
    "la_water_data.drop('Location 1', axis=1, inplace=True)"
   ]
  },
  {
   "cell_type": "code",
   "execution_count": 178,
   "metadata": {
    "collapsed": false
   },
   "outputs": [],
   "source": [
    "water_to_income_df = la_water_data.merge(la_econ_data, how='inner')\n",
    "water_to_income_df['Aggregate Water Usage 2005 - 2013'] = (\n",
    "    la_water_data['FY 05/06'] +\n",
    "    la_water_data['FY 06/07'] +\n",
    "    la_water_data['FY 07/08'] +\n",
    "    la_water_data['FY 08/09'] +\n",
    "    la_water_data['FY 09/10'] +\n",
    "    la_water_data['FY 10/11'] +\n",
    "    la_water_data['FY 11/12'] +\n",
    "    la_water_data['FY 12/13']\n",
    ")\n",
    "water_to_income_df.drop([\n",
    "        'FY 05/06',\n",
    "        'FY 06/07',\n",
    "        'FY 07/08',\n",
    "        'FY 08/09',\n",
    "        'FY 09/10',\n",
    "        'FY 10/11',\n",
    "        'FY 11/12',\n",
    "        'FY 12/13'        \n",
    "    ], axis=1, inplace=True)"
   ]
  },
  {
   "cell_type": "code",
   "execution_count": 179,
   "metadata": {
    "collapsed": false
   },
   "outputs": [
    {
     "data": {
      "text/html": [
       "<div>\n",
       "<table border=\"1\" class=\"dataframe\">\n",
       "  <thead>\n",
       "    <tr style=\"text-align: right;\">\n",
       "      <th></th>\n",
       "      <th>Zip Code</th>\n",
       "      <th>Mean</th>\n",
       "      <th>Population</th>\n",
       "      <th>Aggregate Water Usage 2005 - 2013</th>\n",
       "    </tr>\n",
       "  </thead>\n",
       "  <tbody>\n",
       "    <tr>\n",
       "      <th>0</th>\n",
       "      <td>91342</td>\n",
       "      <td>73159</td>\n",
       "      <td>91715</td>\n",
       "      <td>239</td>\n",
       "    </tr>\n",
       "    <tr>\n",
       "      <th>1</th>\n",
       "      <td>91302</td>\n",
       "      <td>201577</td>\n",
       "      <td>25709</td>\n",
       "      <td>119</td>\n",
       "    </tr>\n",
       "    <tr>\n",
       "      <th>2</th>\n",
       "      <td>90272</td>\n",
       "      <td>237465</td>\n",
       "      <td>22818</td>\n",
       "      <td>438</td>\n",
       "    </tr>\n",
       "    <tr>\n",
       "      <th>3</th>\n",
       "      <td>91316</td>\n",
       "      <td>99404</td>\n",
       "      <td>26898</td>\n",
       "      <td>232</td>\n",
       "    </tr>\n",
       "    <tr>\n",
       "      <th>4</th>\n",
       "      <td>91214</td>\n",
       "      <td>105687</td>\n",
       "      <td>30356</td>\n",
       "      <td>350</td>\n",
       "    </tr>\n",
       "  </tbody>\n",
       "</table>\n",
       "</div>"
      ],
      "text/plain": [
       "  Zip Code    Mean Population  Aggregate Water Usage 2005 - 2013\n",
       "0    91342   73159      91715                                239\n",
       "1    91302  201577      25709                                119\n",
       "2    90272  237465      22818                                438\n",
       "3    91316   99404      26898                                232\n",
       "4    91214  105687      30356                                350"
      ]
     },
     "execution_count": 179,
     "metadata": {},
     "output_type": "execute_result"
    }
   ],
   "source": [
    "water_to_income_df.head()"
   ]
  },
  {
   "cell_type": "code",
   "execution_count": 182,
   "metadata": {
    "collapsed": true
   },
   "outputs": [],
   "source": [
    "import seaborn as sns\n",
    "import matplotlib.pyplot as plt\n",
    "%matplotlib inline"
   ]
  },
  {
   "cell_type": "code",
   "execution_count": 183,
   "metadata": {
    "collapsed": false
   },
   "outputs": [
    {
     "data": {
      "text/plain": [
       "<matplotlib.collections.PathCollection at 0x7f8291973450>"
      ]
     },
     "execution_count": 183,
     "metadata": {},
     "output_type": "execute_result"
    },
    {
     "data": {
      "image/png": "[encoded data removed]",
      "text/plain": [
       "<matplotlib.figure.Figure at 0x7f8291e6dd10>"
      ]
     },
     "metadata": {},
     "output_type": "display_data"
    }
   ],
   "source": [
    "plt.scatter(water_to_income_df['Mean'], water_to_income_df['Aggregate Water Usage 2005 - 2013'])"
   ]
  },
  {
   "cell_type": "code",
   "execution_count": null,
   "metadata": {
    "collapsed": true
   },
   "outputs": [],
   "source": []
  }
 ],
 "metadata": {
  "kernelspec": {
   "display_name": "Python 2",
   "language": "python",
   "name": "python2"
  },
  "language_info": {
   "codemirror_mode": {
    "name": "ipython",
    "version": 2
   },
   "file_extension": ".py",
   "mimetype": "text/x-python",
   "name": "python",
   "nbconvert_exporter": "python",
   "pygments_lexer": "ipython2",
   "version": "2.7.12"
  }
 },
 "nbformat": 4,
 "nbformat_minor": 1
}
