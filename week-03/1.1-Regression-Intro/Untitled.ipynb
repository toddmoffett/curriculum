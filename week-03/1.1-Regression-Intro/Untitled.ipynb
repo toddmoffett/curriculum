{
 "cells": [
  {
   "cell_type": "code",
   "execution_count": 7,
   "metadata": {
    "collapsed": true
   },
   "outputs": [],
   "source": [
    "import numpy as np"
   ]
  },
  {
   "cell_type": "code",
   "execution_count": 3,
   "metadata": {
    "collapsed": false
   },
   "outputs": [],
   "source": [
    "z = [(-1, 0), (1, 3), (2, 4), (3, 7), (4, 10)]"
   ]
  },
  {
   "cell_type": "code",
   "execution_count": 64,
   "metadata": {
    "collapsed": false
   },
   "outputs": [],
   "source": [
    "%matplotlib inline\n",
    "import numpy as np\n",
    "\n",
    "xs = [-1, 1, 2, 3, 4]\n",
    "ys = [0, 3, 4, 7, 10]\n",
    "\n",
    "def beta(xs, ys):\n",
    "    numerator = 0.\n",
    "    denominator = 0.\n",
    "    x_mean = np.mean(xs)\n",
    "    y_mean = np.mean(ys)\n",
    "    for x, y in zip(xs, ys):\n",
    "        numerator += (x - x_mean) * (y - y_mean)\n",
    "        denominator += (x - x_mean) * (x - x_mean)\n",
    "    return numerator / denominator\n",
    "\n",
    "def alpha(xs, ys):\n",
    "    b = beta(xs, ys)\n",
    "    a = np.mean(ys) - b * np.mean(xs)\n",
    "    return a\n"
   ]
  },
  {
   "cell_type": "code",
   "execution_count": 65,
   "metadata": {
    "collapsed": false
   },
   "outputs": [
    {
     "data": {
      "image/png": "[encoded data removed]",
      "text/plain": [
       "<matplotlib.figure.Figure at 0x10ccdd0d0>"
      ]
     },
     "metadata": {},
     "output_type": "display_data"
    }
   ],
   "source": [
    "# Plotting\n",
    "\n",
    "from matplotlib import pyplot as plt\n",
    "\n",
    "def predict(xs, ys):\n",
    "    a = alpha(xs, ys)\n",
    "    b = beta(xs, ys)\n",
    "    yhats = [a + b * x for x in xs]\n",
    "    return yhats\n",
    "\n",
    "ps = predict(xs, ys)\n",
    "\n",
    "# The raw data\n",
    "plt.scatter(xs, ys)\n",
    "# The best fit line\n",
    "plt.plot(xs, ps)\n",
    "plt.show()"
   ]
  },
  {
   "cell_type": "code",
   "execution_count": null,
   "metadata": {
    "collapsed": true
   },
   "outputs": [],
   "source": []
  }
 ],
 "metadata": {
  "anaconda-cloud": {},
  "kernelspec": {
   "display_name": "Python [conda env:py27]",
   "language": "python",
   "name": "conda-env-py27-py"
  },
  "language_info": {
   "codemirror_mode": {
    "name": "ipython",
    "version": 2
   },
   "file_extension": ".py",
   "mimetype": "text/x-python",
   "name": "python",
   "nbconvert_exporter": "python",
   "pygments_lexer": "ipython2",
   "version": "2.7.12"
  }
 },
 "nbformat": 4,
 "nbformat_minor": 1
}
