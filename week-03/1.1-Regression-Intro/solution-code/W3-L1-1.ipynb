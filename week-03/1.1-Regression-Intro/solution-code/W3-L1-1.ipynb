{
 "cells": [
  {
   "cell_type": "markdown",
   "metadata": {},
   "source": [
    "# Intro to Linear Regression:  Solution Code <br>\n",
    "\n"
   ]
  },
  {
   "cell_type": "code",
   "execution_count": 48,
   "metadata": {
    "collapsed": false
   },
   "outputs": [
    {
     "data": {
      "text/plain": [
       "[<matplotlib.lines.Line2D at 0x10912f390>]"
      ]
     },
     "execution_count": 48,
     "metadata": {},
     "output_type": "execute_result"
    },
    {
     "data": {
      "image/png": "[encoded data removed]",
      "text/plain": [
       "<matplotlib.figure.Figure at 0x109901650>"
      ]
     },
     "metadata": {},
     "output_type": "display_data"
    }
   ],
   "source": [
    "# Here we have the hand-calculation for a OLS regression with Intercept and one feature\n",
    "# the Beta is the coefficient of the feature\n",
    "# the Alpha is the intercept term\n",
    "\n",
    "%matplotlib inline\n",
    "import numpy as np\n",
    "\n",
    "xs = [-1, 1, 2, 3, 4]\n",
    "ys = [0, 3, 4, 7, 10]\n",
    "\n",
    "def beta(xs, ys):\n",
    "    numerator = 0.\n",
    "    denominator = 0.\n",
    "    x_mean = np.mean(xs)\n",
    "    y_mean = np.mean(ys)\n",
    "    for x, y in zip(xs, ys):\n",
    "        numerator += (x - x_mean) * (y - y_mean)\n",
    "        denominator += (x - x_mean) * (x - x_mean)\n",
    "    return numerator / denominator\n",
    "\n",
    "def alpha(xs, ys):\n",
    "    b = beta(xs, ys)\n",
    "    a = np.mean(ys) - b * np.mean(xs)\n",
    "    return a\n",
    "\n",
    "# Plotting\n",
    "from matplotlib import pyplot as plt\n",
    "\n",
    "def predict(xs, ys):\n",
    "    a = alpha(xs, ys)\n",
    "    b = beta(xs, ys)\n",
    "    yhats = [a + b * x for x in xs]\n",
    "    return yhats\n",
    "\n",
    "# predict is the fitted values here returned by the list comprehension\n",
    "ps = predict(xs, ys)\n",
    "\n",
    "# the raw data\n",
    "plt.scatter(xs, ys)\n",
    "# the best fit line\n",
    "plt.plot(xs, ps)\n"
   ]
  },
  {
   "cell_type": "code",
   "execution_count": 49,
   "metadata": {
    "collapsed": false
   },
   "outputs": [
    {
     "data": {
      "text/plain": [
       "1.9459459459459463"
      ]
     },
     "execution_count": 49,
     "metadata": {},
     "output_type": "execute_result"
    }
   ],
   "source": [
    "beta(xs,ys)"
   ]
  },
  {
   "cell_type": "code",
   "execution_count": 50,
   "metadata": {
    "collapsed": false
   },
   "outputs": [
    {
     "data": {
      "text/plain": [
       "1.2972972972972965"
      ]
     },
     "execution_count": 50,
     "metadata": {},
     "output_type": "execute_result"
    }
   ],
   "source": [
    "alpha(xs,ys)"
   ]
  },
  {
   "cell_type": "code",
   "execution_count": 51,
   "metadata": {
    "collapsed": false
   },
   "outputs": [
    {
     "data": {
      "text/plain": [
       "(1.9459459459459465, 1.297297297297296)"
      ]
     },
     "execution_count": 51,
     "metadata": {},
     "output_type": "execute_result"
    }
   ],
   "source": [
    "# David's solution\n",
    "\n",
    "points = [(-1, 0) ,(1, 3), (2, 4), (3, 7), (4, 10)]\n",
    "x = np.array([xy[0] for xy in points])\n",
    "y = np.array([xy[1] for xy in points])\n",
    "beta = np.cov(x,y,ddof=0)[0][1] / x.var(ddof=0)\n",
    "alpha = y.mean() - beta * x.mean()\n",
    "beta, alpha"
   ]
  },
  {
   "cell_type": "code",
   "execution_count": null,
   "metadata": {
    "collapsed": true
   },
   "outputs": [],
   "source": []
  }
 ],
 "metadata": {
  "anaconda-cloud": {},
  "kernelspec": {
   "display_name": "Python 2",
   "language": "python",
   "name": "python2"
  },
  "language_info": {
   "codemirror_mode": {
    "name": "ipython",
    "version": 2
   },
   "file_extension": ".py",
   "mimetype": "text/x-python",
   "name": "python",
   "nbconvert_exporter": "python",
   "pygments_lexer": "ipython2",
   "version": "2.7.11"
  },
  "widgets": {
   "state": {},
   "version": "1.1.2"
  }
 },
 "nbformat": 4,
 "nbformat_minor": 0
}
