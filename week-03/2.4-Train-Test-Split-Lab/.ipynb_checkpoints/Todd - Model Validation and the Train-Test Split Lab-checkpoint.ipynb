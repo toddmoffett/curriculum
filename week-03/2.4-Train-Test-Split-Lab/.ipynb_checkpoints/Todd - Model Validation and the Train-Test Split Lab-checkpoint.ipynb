{
 "cells": [
  {
   "cell_type": "markdown",
   "metadata": {},
   "source": [
    "# ![](https://ga-dash.s3.amazonaws.com/production/assets/logo-9f88ae6c9c3871690e33280fcf557f33.png) Model Validation and the Train-Test Split Lab\n",
    "Week 3 | Lesson 2.4\n",
    "\n",
    "### LEARNING OBJECTIVES\n",
    "*After this lesson, you will be able to:*\n",
    "- Explain the connection between the bias-variance tradeoff and the train-test split\n",
    "- Perform a split of data into testing and training sets\n",
    "- Make a prediction on the ISE value using a Linear Regression"
   ]
  },
  {
   "cell_type": "code",
   "execution_count": 1,
   "metadata": {
    "collapsed": true
   },
   "outputs": [],
   "source": [
    "%matplotlib inline\n",
    "import matplotlib.pyplot as plt\n",
    "import numpy as np\n",
    "import pandas as pd\n",
    "import seaborn as sns\n",
    "import sklearn as skl"
   ]
  },
  {
   "cell_type": "markdown",
   "metadata": {},
   "source": [
    "## Minimize the sum of the Bias and Variance"
   ]
  },
  {
   "cell_type": "markdown",
   "metadata": {},
   "source": [
    "This is a much more challenging problem. In essence, we seek a model that is simultaneously lacking in complexity (low variance) and able to fit our known data well (low bias). To do this, we split our data into two sets:\n",
    "\n",
    "- a training set\n",
    "- a test set"
   ]
  },
  {
   "cell_type": "code",
   "execution_count": 25,
   "metadata": {
    "collapsed": false
   },
   "outputs": [],
   "source": [
    "data_file_location = '/Users/toddmoffett1/DSI/dsi_repo/DSI_SM_3/data/istanbul_stocks.csv'\n",
    "istanbul_stocks_df = pd.read_csv(data_file_location)"
   ]
  },
  {
   "cell_type": "markdown",
   "metadata": {},
   "source": [
    "### Display a Single Row from the Head of the DataFrame"
   ]
  },
  {
   "cell_type": "code",
   "execution_count": 26,
   "metadata": {
    "collapsed": false,
    "scrolled": true
   },
   "outputs": [
    {
     "data": {
      "text/html": [
       "<div>\n",
       "<table border=\"1\" class=\"dataframe\">\n",
       "  <thead>\n",
       "    <tr style=\"text-align: right;\">\n",
       "      <th></th>\n",
       "      <th>date</th>\n",
       "      <th>SP</th>\n",
       "      <th>DAX</th>\n",
       "      <th>FTSE</th>\n",
       "      <th>NIKKEI</th>\n",
       "      <th>BOVESPA</th>\n",
       "      <th>EU</th>\n",
       "      <th>EM</th>\n",
       "      <th>ISE</th>\n",
       "    </tr>\n",
       "  </thead>\n",
       "  <tbody>\n",
       "    <tr>\n",
       "      <th>0</th>\n",
       "      <td>5-Jan-09</td>\n",
       "      <td>-0.004679</td>\n",
       "      <td>0.002193</td>\n",
       "      <td>0.003894</td>\n",
       "      <td>0.000000</td>\n",
       "      <td>0.031190</td>\n",
       "      <td>0.012698</td>\n",
       "      <td>0.028524</td>\n",
       "      <td>0.035754</td>\n",
       "    </tr>\n",
       "    <tr>\n",
       "      <th>1</th>\n",
       "      <td>6-Jan-09</td>\n",
       "      <td>0.007787</td>\n",
       "      <td>0.008455</td>\n",
       "      <td>0.012866</td>\n",
       "      <td>0.004162</td>\n",
       "      <td>0.018920</td>\n",
       "      <td>0.011341</td>\n",
       "      <td>0.008773</td>\n",
       "      <td>0.025426</td>\n",
       "    </tr>\n",
       "    <tr>\n",
       "      <th>2</th>\n",
       "      <td>7-Jan-09</td>\n",
       "      <td>-0.030469</td>\n",
       "      <td>-0.017833</td>\n",
       "      <td>-0.028735</td>\n",
       "      <td>0.017293</td>\n",
       "      <td>-0.035899</td>\n",
       "      <td>-0.017073</td>\n",
       "      <td>-0.020015</td>\n",
       "      <td>-0.028862</td>\n",
       "    </tr>\n",
       "    <tr>\n",
       "      <th>3</th>\n",
       "      <td>8-Jan-09</td>\n",
       "      <td>0.003391</td>\n",
       "      <td>-0.011726</td>\n",
       "      <td>-0.000466</td>\n",
       "      <td>-0.040061</td>\n",
       "      <td>0.028283</td>\n",
       "      <td>-0.005561</td>\n",
       "      <td>-0.019424</td>\n",
       "      <td>-0.062208</td>\n",
       "    </tr>\n",
       "    <tr>\n",
       "      <th>4</th>\n",
       "      <td>9-Jan-09</td>\n",
       "      <td>-0.021533</td>\n",
       "      <td>-0.019873</td>\n",
       "      <td>-0.012710</td>\n",
       "      <td>-0.004474</td>\n",
       "      <td>-0.009764</td>\n",
       "      <td>-0.010989</td>\n",
       "      <td>-0.007802</td>\n",
       "      <td>0.009860</td>\n",
       "    </tr>\n",
       "  </tbody>\n",
       "</table>\n",
       "</div>"
      ],
      "text/plain": [
       "       date        SP       DAX      FTSE    NIKKEI   BOVESPA        EU  \\\n",
       "0  5-Jan-09 -0.004679  0.002193  0.003894  0.000000  0.031190  0.012698   \n",
       "1  6-Jan-09  0.007787  0.008455  0.012866  0.004162  0.018920  0.011341   \n",
       "2  7-Jan-09 -0.030469 -0.017833 -0.028735  0.017293 -0.035899 -0.017073   \n",
       "3  8-Jan-09  0.003391 -0.011726 -0.000466 -0.040061  0.028283 -0.005561   \n",
       "4  9-Jan-09 -0.021533 -0.019873 -0.012710 -0.004474 -0.009764 -0.010989   \n",
       "\n",
       "         EM       ISE  \n",
       "0  0.028524  0.035754  \n",
       "1  0.008773  0.025426  \n",
       "2 -0.020015 -0.028862  \n",
       "3 -0.019424 -0.062208  \n",
       "4 -0.007802  0.009860  "
      ]
     },
     "execution_count": 26,
     "metadata": {},
     "output_type": "execute_result"
    }
   ],
   "source": [
    "istanbul_stocks_df.head(5)"
   ]
  },
  {
   "cell_type": "markdown",
   "metadata": {},
   "source": [
    "### Describe the Measures of Central Tendency of the Dataset"
   ]
  },
  {
   "cell_type": "code",
   "execution_count": 5,
   "metadata": {
    "collapsed": false
   },
   "outputs": [
    {
     "data": {
      "text/html": [
       "<div>\n",
       "<table border=\"1\" class=\"dataframe\">\n",
       "  <thead>\n",
       "    <tr style=\"text-align: right;\">\n",
       "      <th></th>\n",
       "      <th>SP</th>\n",
       "      <th>DAX</th>\n",
       "      <th>FTSE</th>\n",
       "      <th>NIKKEI</th>\n",
       "      <th>BOVESPA</th>\n",
       "      <th>EU</th>\n",
       "      <th>EM</th>\n",
       "      <th>ISE</th>\n",
       "    </tr>\n",
       "  </thead>\n",
       "  <tbody>\n",
       "    <tr>\n",
       "      <th>count</th>\n",
       "      <td>536.000000</td>\n",
       "      <td>536.000000</td>\n",
       "      <td>536.000000</td>\n",
       "      <td>536.000000</td>\n",
       "      <td>536.000000</td>\n",
       "      <td>536.000000</td>\n",
       "      <td>536.000000</td>\n",
       "      <td>536.000000</td>\n",
       "    </tr>\n",
       "    <tr>\n",
       "      <th>mean</th>\n",
       "      <td>0.000643</td>\n",
       "      <td>0.000721</td>\n",
       "      <td>0.000510</td>\n",
       "      <td>0.000308</td>\n",
       "      <td>0.000935</td>\n",
       "      <td>0.000471</td>\n",
       "      <td>0.000936</td>\n",
       "      <td>0.001629</td>\n",
       "    </tr>\n",
       "    <tr>\n",
       "      <th>std</th>\n",
       "      <td>0.014093</td>\n",
       "      <td>0.014557</td>\n",
       "      <td>0.012656</td>\n",
       "      <td>0.014850</td>\n",
       "      <td>0.015751</td>\n",
       "      <td>0.012990</td>\n",
       "      <td>0.010501</td>\n",
       "      <td>0.016264</td>\n",
       "    </tr>\n",
       "    <tr>\n",
       "      <th>min</th>\n",
       "      <td>-0.054262</td>\n",
       "      <td>-0.052331</td>\n",
       "      <td>-0.054816</td>\n",
       "      <td>-0.050448</td>\n",
       "      <td>-0.053849</td>\n",
       "      <td>-0.048817</td>\n",
       "      <td>-0.038564</td>\n",
       "      <td>-0.062208</td>\n",
       "    </tr>\n",
       "    <tr>\n",
       "      <th>25%</th>\n",
       "      <td>-0.004675</td>\n",
       "      <td>-0.006212</td>\n",
       "      <td>-0.005808</td>\n",
       "      <td>-0.007407</td>\n",
       "      <td>-0.007215</td>\n",
       "      <td>-0.005952</td>\n",
       "      <td>-0.004911</td>\n",
       "      <td>-0.006669</td>\n",
       "    </tr>\n",
       "    <tr>\n",
       "      <th>50%</th>\n",
       "      <td>0.000876</td>\n",
       "      <td>0.000887</td>\n",
       "      <td>0.000409</td>\n",
       "      <td>0.000000</td>\n",
       "      <td>0.000279</td>\n",
       "      <td>0.000196</td>\n",
       "      <td>0.001077</td>\n",
       "      <td>0.002189</td>\n",
       "    </tr>\n",
       "    <tr>\n",
       "      <th>75%</th>\n",
       "      <td>0.006706</td>\n",
       "      <td>0.008224</td>\n",
       "      <td>0.007428</td>\n",
       "      <td>0.007882</td>\n",
       "      <td>0.008881</td>\n",
       "      <td>0.007792</td>\n",
       "      <td>0.006423</td>\n",
       "      <td>0.010584</td>\n",
       "    </tr>\n",
       "    <tr>\n",
       "      <th>max</th>\n",
       "      <td>0.068366</td>\n",
       "      <td>0.058951</td>\n",
       "      <td>0.050323</td>\n",
       "      <td>0.061229</td>\n",
       "      <td>0.063792</td>\n",
       "      <td>0.067042</td>\n",
       "      <td>0.047805</td>\n",
       "      <td>0.068952</td>\n",
       "    </tr>\n",
       "  </tbody>\n",
       "</table>\n",
       "</div>"
      ],
      "text/plain": [
       "               SP         DAX        FTSE      NIKKEI     BOVESPA          EU  \\\n",
       "count  536.000000  536.000000  536.000000  536.000000  536.000000  536.000000   \n",
       "mean     0.000643    0.000721    0.000510    0.000308    0.000935    0.000471   \n",
       "std      0.014093    0.014557    0.012656    0.014850    0.015751    0.012990   \n",
       "min     -0.054262   -0.052331   -0.054816   -0.050448   -0.053849   -0.048817   \n",
       "25%     -0.004675   -0.006212   -0.005808   -0.007407   -0.007215   -0.005952   \n",
       "50%      0.000876    0.000887    0.000409    0.000000    0.000279    0.000196   \n",
       "75%      0.006706    0.008224    0.007428    0.007882    0.008881    0.007792   \n",
       "max      0.068366    0.058951    0.050323    0.061229    0.063792    0.067042   \n",
       "\n",
       "               EM         ISE  \n",
       "count  536.000000  536.000000  \n",
       "mean     0.000936    0.001629  \n",
       "std      0.010501    0.016264  \n",
       "min     -0.038564   -0.062208  \n",
       "25%     -0.004911   -0.006669  \n",
       "50%      0.001077    0.002189  \n",
       "75%      0.006423    0.010584  \n",
       "max      0.047805    0.068952  "
      ]
     },
     "execution_count": 5,
     "metadata": {},
     "output_type": "execute_result"
    }
   ],
   "source": [
    "istanbul_stocks_df.describe()"
   ]
  },
  {
   "cell_type": "markdown",
   "metadata": {},
   "source": [
    "### Sort Parameters by their Correlation with `ISE`"
   ]
  },
  {
   "cell_type": "code",
   "execution_count": 27,
   "metadata": {
    "collapsed": false
   },
   "outputs": [
    {
     "data": {
      "text/plain": [
       "ISE        1.000000\n",
       "EU         0.655519\n",
       "FTSE       0.622948\n",
       "DAX        0.602081\n",
       "EM         0.600295\n",
       "SP         0.439489\n",
       "BOVESPA    0.432898\n",
       "NIKKEI     0.260052\n",
       "Name: ISE, dtype: float64"
      ]
     },
     "execution_count": 27,
     "metadata": {},
     "output_type": "execute_result"
    }
   ],
   "source": [
    "istanbul_abs_correlations = abs(istanbul_stocks_df.corr()['ISE'])\n",
    "istanbul_abs_correlations.sort_values(inplace=True, ascending=False)\n",
    "istanbul_abs_correlations"
   ]
  },
  {
   "cell_type": "markdown",
   "metadata": {},
   "source": [
    "#### Just get the Names"
   ]
  },
  {
   "cell_type": "code",
   "execution_count": 28,
   "metadata": {
    "collapsed": true
   },
   "outputs": [],
   "source": [
    "features = list(istanbul_abs_correlations.index)"
   ]
  },
  {
   "cell_type": "markdown",
   "metadata": {},
   "source": [
    "#### Don't need `ISE`!"
   ]
  },
  {
   "cell_type": "code",
   "execution_count": 29,
   "metadata": {
    "collapsed": false
   },
   "outputs": [
    {
     "data": {
      "text/plain": [
       "['EU', 'FTSE', 'DAX', 'EM', 'SP', 'BOVESPA', 'NIKKEI']"
      ]
     },
     "execution_count": 29,
     "metadata": {},
     "output_type": "execute_result"
    }
   ],
   "source": [
    "features.pop(0)\n",
    "features"
   ]
  },
  {
   "cell_type": "markdown",
   "metadata": {},
   "source": [
    "---"
   ]
  },
  {
   "cell_type": "markdown",
   "metadata": {},
   "source": [
    "# Best Practices in Developing Predictive Models"
   ]
  },
  {
   "cell_type": "markdown",
   "metadata": {},
   "source": [
    "1. Clearly state the problem you wish to solve\n",
    "1. Clearly state the model you will develop to solve the problem\n",
    "1. Clearly state a metric you will use to assess your performance\n",
    "1. Clearly define a benchmark against which you will measure the performance of your model using the metric you selected"
   ]
  },
  {
   "cell_type": "markdown",
   "metadata": {},
   "source": [
    "## Modeling Changes in the Istanbul Stock Market"
   ]
  },
  {
   "cell_type": "markdown",
   "metadata": {},
   "source": [
    "### Problem Statement"
   ]
  },
  {
   "cell_type": "markdown",
   "metadata": {},
   "source": [
    "We wish to predict the daily Istanbul stock market price with a set of 6 features to "
   ]
  },
  {
   "cell_type": "markdown",
   "metadata": {},
   "source": [
    "### Solution Statement"
   ]
  },
  {
   "cell_type": "markdown",
   "metadata": {},
   "source": [
    "Develop a linnear regression model to find the best fit "
   ]
  },
  {
   "cell_type": "markdown",
   "metadata": {},
   "source": [
    "### Metric Selection"
   ]
  },
  {
   "cell_type": "markdown",
   "metadata": {},
   "source": [
    "<img src=\"../2.3-Train-Test-Split/assets/regression_metrics.png\" width=\"600px\">"
   ]
  },
  {
   "cell_type": "markdown",
   "metadata": {},
   "source": [
    "#### Import the `metric` you will use from `sklearn`"
   ]
  },
  {
   "cell_type": "code",
   "execution_count": 16,
   "metadata": {
    "collapsed": true
   },
   "outputs": [],
   "source": [
    "from sklearn import metrics"
   ]
  },
  {
   "cell_type": "markdown",
   "metadata": {},
   "source": [
    "#### Define a `metric` function"
   ]
  },
  {
   "cell_type": "code",
   "execution_count": 193,
   "metadata": {
    "collapsed": true
   },
   "outputs": [],
   "source": [
    "def metric(y_true, y_pred):\n",
    "    return metrics.mean_absolute_error(y_true, y_pred)"
   ]
  },
  {
   "cell_type": "markdown",
   "metadata": {},
   "source": [
    "### Benchmark "
   ]
  },
  {
   "cell_type": "markdown",
   "metadata": {},
   "source": [
    "---"
   ]
  },
  {
   "cell_type": "markdown",
   "metadata": {},
   "source": [
    "# the Train-Test Split\n",
    "\n",
    "The process looks as follows:\n",
    "\n",
    "1. Split the data into two (not necessarily equally sized) sets, the training set and the test set\n",
    "1. Set the test set aside\n",
    "1. Fit the model to the best of our abilities using the training set\n",
    "1. Evaluate the model separately using both the training set and the test set\n",
    "   - the evaluation of the model using the training set can be taken to signify bias\n",
    "   - the evaluation of the model using the test set can be taken to signify variance\n",
    "1. Repeat steps 3 and 4 until an optimal sum of bias and variance is reached"
   ]
  },
  {
   "cell_type": "markdown",
   "metadata": {},
   "source": [
    "### Prepare the Data\n",
    "\n",
    "Pull the target vector off of the dataframe.\n",
    "\n",
    "Drop the target vector to prepare the feature matrix."
   ]
  },
  {
   "cell_type": "code",
   "execution_count": 31,
   "metadata": {
    "collapsed": false
   },
   "outputs": [],
   "source": [
    "istanbul_stocks_target = istanbul_stocks_df['ISE']\n",
    "istanbul_stocks_feature = istanbul_stocks_df.drop('ISE', axis=1)"
   ]
  },
  {
   "cell_type": "markdown",
   "metadata": {},
   "source": [
    "### Step 1: Split the data into a Training Set and a Test Set"
   ]
  },
  {
   "cell_type": "markdown",
   "metadata": {},
   "source": [
    "#### Import `train_test_split` from `sklearn`"
   ]
  },
  {
   "cell_type": "code",
   "execution_count": 36,
   "metadata": {
    "collapsed": false
   },
   "outputs": [],
   "source": [
    "from sklearn.cross_validation import train_test_split"
   ]
  },
  {
   "cell_type": "markdown",
   "metadata": {},
   "source": [
    "### Forward Selection\n",
    "\n",
    "We will use forward selection to develop our models."
   ]
  },
  {
   "cell_type": "code",
   "execution_count": 205,
   "metadata": {
    "collapsed": true
   },
   "outputs": [],
   "source": [
    "feature_matrix_train, \\\n",
    "feature_matrix_test, \\\n",
    "target_vector_train, \\\n",
    "target_vector_test = train_test_split(istanbul_stocks_feature, \n",
    "                                      istanbul_stocks_target, \n",
    "                                      test_size=0.1,\n",
    "                                      random_state=11)"
   ]
  },
  {
   "cell_type": "markdown",
   "metadata": {},
   "source": [
    "#### Display the Feature Names"
   ]
  },
  {
   "cell_type": "code",
   "execution_count": 50,
   "metadata": {
    "collapsed": false
   },
   "outputs": [
    {
     "data": {
      "text/plain": [
       "['EU', 'FTSE', 'DAX', 'EM', 'SP', 'BOVESPA', 'NIKKEI']"
      ]
     },
     "execution_count": 50,
     "metadata": {},
     "output_type": "execute_result"
    }
   ],
   "source": [
    "features"
   ]
  },
  {
   "cell_type": "markdown",
   "metadata": {},
   "source": [
    "#### Import `LinearRegression` from `sklearn`"
   ]
  },
  {
   "cell_type": "code",
   "execution_count": 51,
   "metadata": {
    "collapsed": false
   },
   "outputs": [],
   "source": [
    "from sklearn.linear_model import LinearRegression"
   ]
  },
  {
   "cell_type": "markdown",
   "metadata": {},
   "source": [
    "#### Let's store the errors"
   ]
  },
  {
   "cell_type": "code",
   "execution_count": 206,
   "metadata": {
    "collapsed": false
   },
   "outputs": [],
   "source": [
    "errors_training_set = []\n",
    "errors_test_set = []"
   ]
  },
  {
   "cell_type": "markdown",
   "metadata": {},
   "source": [
    "### Step 2: Fit the Model\n",
    "\n",
    "Here we fit a linear model using a single feature, `LSTAT`."
   ]
  },
  {
   "cell_type": "markdown",
   "metadata": {},
   "source": [
    "#### Prepare the data for fitting"
   ]
  },
  {
   "cell_type": "code",
   "execution_count": 182,
   "metadata": {
    "collapsed": false
   },
   "outputs": [
    {
     "name": "stdout",
     "output_type": "stream",
     "text": [
      "['EU']\n"
     ]
    }
   ],
   "source": [
    "print(features[:1])\n",
    "ftr_mtx_01_p_trn = pd.DataFrame(feature_matrix_train[features[:1]])\n",
    "ftr_mtx_01_p_tst = pd.DataFrame(feature_matrix_test[features[:1]])"
   ]
  },
  {
   "cell_type": "markdown",
   "metadata": {},
   "source": [
    "#### Build Model with One Feature"
   ]
  },
  {
   "cell_type": "code",
   "execution_count": 207,
   "metadata": {
    "collapsed": false,
    "scrolled": true
   },
   "outputs": [
    {
     "data": {
      "text/plain": [
       "LinearRegression(copy_X=True, fit_intercept=True, n_jobs=1, normalize=False)"
      ]
     },
     "execution_count": 207,
     "metadata": {},
     "output_type": "execute_result"
    }
   ],
   "source": [
    "LINEAR_REGRESSOR = LinearRegression()\n",
    "LINEAR_REGRESSOR.fit(ftr_mtx_01_p_trn, target_vector_train)"
   ]
  },
  {
   "cell_type": "markdown",
   "metadata": {},
   "source": [
    "### Step 3: Evaluate the Model"
   ]
  },
  {
   "cell_type": "code",
   "execution_count": 208,
   "metadata": {
    "collapsed": false
   },
   "outputs": [
    {
     "data": {
      "text/plain": [
       "(0.0095218439255347863, 0.0092836367684901583)"
      ]
     },
     "execution_count": 208,
     "metadata": {},
     "output_type": "execute_result"
    }
   ],
   "source": [
    "predict_train = LINEAR_REGRESSOR.predict(ftr_mtx_01_p_trn)\n",
    "predict_test = LINEAR_REGRESSOR.predict(ftr_mtx_01_p_tst)\n",
    "error_training_set = metric(predict_train, target_vector_train)\n",
    "error_test_set = metric(predict_test, target_vector_test)\n",
    "errors_training_set.append(error_training_set)\n",
    "errors_test_set.append(error_test_set)\n",
    "error_training_set, error_test_set"
   ]
  },
  {
   "cell_type": "markdown",
   "metadata": {},
   "source": [
    "### Step 2: Fit the Model\n",
    "\n",
    "Here we fit a linear model using two features, `LSTAT` and `RM`."
   ]
  },
  {
   "cell_type": "markdown",
   "metadata": {},
   "source": [
    "#### Prepare the data for fitting"
   ]
  },
  {
   "cell_type": "code",
   "execution_count": 209,
   "metadata": {
    "collapsed": false
   },
   "outputs": [
    {
     "name": "stdout",
     "output_type": "stream",
     "text": [
      "['EU', 'FTSE']\n"
     ]
    }
   ],
   "source": [
    "print(features[:2])\n",
    "ftr_mtx_02_p_trn = pd.DataFrame(feature_matrix_train[features[:2]])\n",
    "ftr_mtx_02_p_tst = pd.DataFrame(feature_matrix_test[features[:2]])"
   ]
  },
  {
   "cell_type": "markdown",
   "metadata": {},
   "source": [
    "#### Build Model with Two Features"
   ]
  },
  {
   "cell_type": "code",
   "execution_count": 210,
   "metadata": {
    "collapsed": false
   },
   "outputs": [
    {
     "data": {
      "text/plain": [
       "LinearRegression(copy_X=True, fit_intercept=True, n_jobs=1, normalize=False)"
      ]
     },
     "execution_count": 210,
     "metadata": {},
     "output_type": "execute_result"
    }
   ],
   "source": [
    "LINEAR_REGRESSOR.fit(ftr_mtx_02_p_trn, target_vector_train)"
   ]
  },
  {
   "cell_type": "markdown",
   "metadata": {},
   "source": [
    "### Step 3: Evaluate the Model"
   ]
  },
  {
   "cell_type": "code",
   "execution_count": 211,
   "metadata": {
    "collapsed": false
   },
   "outputs": [
    {
     "data": {
      "text/plain": [
       "(0.0095061491610990527, 0.0093834799269933798)"
      ]
     },
     "execution_count": 211,
     "metadata": {},
     "output_type": "execute_result"
    }
   ],
   "source": [
    "predict_train = LINEAR_REGRESSOR.predict(ftr_mtx_02_p_trn)\n",
    "predict_test = LINEAR_REGRESSOR.predict(ftr_mtx_02_p_tst)\n",
    "error_training_set = metric(predict_train, target_vector_train)\n",
    "error_test_set = metric(predict_test, target_vector_test)\n",
    "errors_training_set.append(error_training_set)\n",
    "errors_test_set.append(error_test_set)\n",
    "error_training_set, error_test_set"
   ]
  },
  {
   "cell_type": "markdown",
   "metadata": {},
   "source": [
    "### Step 2: Fit the Model\n",
    "\n",
    "Here we fit a linear model using three features, `LSTAT`, `RM`, and `PTRATIO`."
   ]
  },
  {
   "cell_type": "markdown",
   "metadata": {},
   "source": [
    "#### Prepare the data for fitting"
   ]
  },
  {
   "cell_type": "code",
   "execution_count": 212,
   "metadata": {
    "collapsed": false,
    "scrolled": false
   },
   "outputs": [
    {
     "name": "stdout",
     "output_type": "stream",
     "text": [
      "['EU', 'FTSE', 'DAX']\n"
     ]
    }
   ],
   "source": [
    "print(features[:3])\n",
    "ftr_mtx_03_p_trn = pd.DataFrame(feature_matrix_train[features[:3]])\n",
    "ftr_mtx_03_p_tst = pd.DataFrame(feature_matrix_test[features[:3]])"
   ]
  },
  {
   "cell_type": "markdown",
   "metadata": {},
   "source": [
    "#### Build Model with Three Features"
   ]
  },
  {
   "cell_type": "code",
   "execution_count": 213,
   "metadata": {
    "collapsed": false
   },
   "outputs": [
    {
     "data": {
      "text/plain": [
       "LinearRegression(copy_X=True, fit_intercept=True, n_jobs=1, normalize=False)"
      ]
     },
     "execution_count": 213,
     "metadata": {},
     "output_type": "execute_result"
    }
   ],
   "source": [
    "LINEAR_REGRESSOR.fit(ftr_mtx_03_p_trn, target_vector_train)"
   ]
  },
  {
   "cell_type": "markdown",
   "metadata": {},
   "source": [
    "### Step 3: Evaluate the Model"
   ]
  },
  {
   "cell_type": "code",
   "execution_count": 214,
   "metadata": {
    "collapsed": false
   },
   "outputs": [
    {
     "data": {
      "text/plain": [
       "(0.009512196088101204, 0.0093583455265662842)"
      ]
     },
     "execution_count": 214,
     "metadata": {},
     "output_type": "execute_result"
    }
   ],
   "source": [
    "predict_train = LINEAR_REGRESSOR.predict(ftr_mtx_03_p_trn)\n",
    "predict_test = LINEAR_REGRESSOR.predict(ftr_mtx_03_p_tst)\n",
    "error_training_set = metric(predict_train, target_vector_train)\n",
    "error_test_set = metric(predict_test, target_vector_test)\n",
    "errors_training_set.append(error_training_set)\n",
    "errors_test_set.append(error_test_set)\n",
    "error_training_set, error_test_set"
   ]
  },
  {
   "cell_type": "markdown",
   "metadata": {},
   "source": [
    "## Let Python Do The Work"
   ]
  },
  {
   "cell_type": "code",
   "execution_count": 215,
   "metadata": {
    "collapsed": false
   },
   "outputs": [],
   "source": [
    "training_feature_matrics = [\n",
    "    pd.DataFrame(feature_matrix_train[features[:4]]),\n",
    "    pd.DataFrame(feature_matrix_train[features[:5]]),\n",
    "    pd.DataFrame(feature_matrix_train[features[:6]]),\n",
    "    pd.DataFrame(feature_matrix_train[features[:7]]),\n",
    "    ]\n",
    "testing_feature_matrics = [\n",
    "    pd.DataFrame(feature_matrix_test[features[:4]]),\n",
    "    pd.DataFrame(feature_matrix_test[features[:5]]),\n",
    "    pd.DataFrame(feature_matrix_test[features[:6]]),\n",
    "    pd.DataFrame(feature_matrix_test[features[:7]]),\n",
    "]"
   ]
  },
  {
   "cell_type": "markdown",
   "metadata": {},
   "source": [
    "## Plot the Training and the Testing Error as you Forward Select Features\n",
    "\n",
    "Make sure to include a legend."
   ]
  },
  {
   "cell_type": "code",
   "execution_count": 216,
   "metadata": {
    "collapsed": false
   },
   "outputs": [],
   "source": [
    "for training_matrix, test_matrix in zip(\n",
    "    training_feature_matrics,\n",
    "    testing_feature_matrics):\n",
    "    \n",
    "    LINEAR_REGRESSOR = LinearRegression()\n",
    "    LINEAR_REGRESSOR.fit(training_matrix, target_vector_train)\n",
    "    predict_train = LINEAR_REGRESSOR.predict(training_matrix)\n",
    "    predict_test = LINEAR_REGRESSOR.predict(test_matrix)\n",
    "    error_training_set = metric(predict_train, target_vector_train)\n",
    "    error_test_set = metric(predict_test, target_vector_test)\n",
    "    errors_training_set.append(error_training_set)\n",
    "    errors_test_set.append(error_test_set)"
   ]
  },
  {
   "cell_type": "code",
   "execution_count": 217,
   "metadata": {
    "collapsed": false
   },
   "outputs": [
    {
     "data": {
      "text/plain": [
       "<matplotlib.legend.Legend at 0x1172a5d50>"
      ]
     },
     "execution_count": 217,
     "metadata": {},
     "output_type": "execute_result"
    },
    {
     "data": {
      "image/png": "[encoded data removed]",
      "text/plain": [
       "<matplotlib.figure.Figure at 0x117108290>"
      ]
     },
     "metadata": {},
     "output_type": "display_data"
    }
   ],
   "source": [
    "plt.plot(errors_training_set, label='training set')\n",
    "plt.plot(errors_test_set, label='test_set')\n",
    "plt.legend()"
   ]
  },
  {
   "cell_type": "code",
   "execution_count": null,
   "metadata": {
    "collapsed": true
   },
   "outputs": [],
   "source": []
  }
 ],
 "metadata": {
  "anaconda-cloud": {},
  "kernelspec": {
   "display_name": "Python [conda env:py27]",
   "language": "python",
   "name": "conda-env-py27-py"
  },
  "language_info": {
   "codemirror_mode": {
    "name": "ipython",
    "version": 2
   },
   "file_extension": ".py",
   "mimetype": "text/x-python",
   "name": "python",
   "nbconvert_exporter": "python",
   "pygments_lexer": "ipython2",
   "version": "2.7.12"
  }
 },
 "nbformat": 4,
 "nbformat_minor": 1
}
