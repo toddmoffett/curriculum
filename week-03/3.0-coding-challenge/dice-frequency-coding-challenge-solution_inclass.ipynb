{
 "cells": [
  {
   "cell_type": "markdown",
   "metadata": {},
   "source": [
    "<b> With the dictionary that you created Friday (dice_dict which is replicated below for your convenience), create a new dictionary of dice combination and probabilities associated with each of these combinations. </b> <br>"
   ]
  },
  {
   "cell_type": "code",
   "execution_count": 29,
   "metadata": {
    "collapsed": false
   },
   "outputs": [],
   "source": [
    "dice_dict = {} #create empty dictionary\n",
    "\n",
    "for d1 in range(1,7):\n",
    "    for d2 in range(1,7):\n",
    "        comboTuple = ( d1, d2 ) # create the tuple\n",
    "        key_sum = d1 + d2\n",
    "        if key_sum not in dice_dict.keys():\n",
    "            dice_dict[key_sum] = [comboTuple]\n",
    "        else: \n",
    "            dice_dict[key_sum].append(comboTuple)"
   ]
  },
  {
   "cell_type": "code",
   "execution_count": 30,
   "metadata": {
    "collapsed": false
   },
   "outputs": [
    {
     "data": {
      "text/plain": [
       "{2: [(1, 1)],\n",
       " 3: [(1, 2), (2, 1)],\n",
       " 4: [(1, 3), (2, 2), (3, 1)],\n",
       " 5: [(1, 4), (2, 3), (3, 2), (4, 1)],\n",
       " 6: [(1, 5), (2, 4), (3, 3), (4, 2), (5, 1)],\n",
       " 7: [(1, 6), (2, 5), (3, 4), (4, 3), (5, 2), (6, 1)],\n",
       " 8: [(2, 6), (3, 5), (4, 4), (5, 3), (6, 2)],\n",
       " 9: [(3, 6), (4, 5), (5, 4), (6, 3)],\n",
       " 10: [(4, 6), (5, 5), (6, 4)],\n",
       " 11: [(5, 6), (6, 5)],\n",
       " 12: [(6, 6)]}"
      ]
     },
     "execution_count": 30,
     "metadata": {},
     "output_type": "execute_result"
    }
   ],
   "source": [
    "dice_dict"
   ]
  },
  {
   "cell_type": "markdown",
   "metadata": {},
   "source": [
    "Above we observe that there is one pair of rolled dice that yields a sum of 2:  "
   ]
  },
  {
   "cell_type": "code",
   "execution_count": 31,
   "metadata": {
    "collapsed": false
   },
   "outputs": [
    {
     "data": {
      "text/plain": [
       "0.027777777777777776"
      ]
     },
     "execution_count": 31,
     "metadata": {},
     "output_type": "execute_result"
    }
   ],
   "source": [
    "len(dice_dict[2])*1.0 / 36 # this equals 1.0 / 36"
   ]
  },
  {
   "cell_type": "markdown",
   "metadata": {},
   "source": [
    "...and two pairs of rolled dice that yield a sum of 3:"
   ]
  },
  {
   "cell_type": "code",
   "execution_count": 32,
   "metadata": {
    "collapsed": false
   },
   "outputs": [
    {
     "data": {
      "text/plain": [
       "0.05555555555555555"
      ]
     },
     "execution_count": 32,
     "metadata": {},
     "output_type": "execute_result"
    }
   ],
   "source": [
    "len(dice_dict[3])*1.0 / 36 # this equals 2.0 / 36"
   ]
  },
  {
   "cell_type": "code",
   "execution_count": 37,
   "metadata": {
    "collapsed": false
   },
   "outputs": [
    {
     "data": {
      "text/plain": [
       "{2: 0.027777777777777776,\n",
       " 3: 0.05555555555555555,\n",
       " 4: 0.08333333333333333,\n",
       " 5: 0.1111111111111111,\n",
       " 6: 0.1388888888888889,\n",
       " 7: 0.16666666666666666,\n",
       " 8: 0.1388888888888889,\n",
       " 9: 0.1111111111111111,\n",
       " 10: 0.08333333333333333,\n",
       " 11: 0.05555555555555555,\n",
       " 12: 0.027777777777777776}"
      ]
     },
     "execution_count": 37,
     "metadata": {},
     "output_type": "execute_result"
    }
   ],
   "source": [
    "# Here we create a new dictionary that takes the same keys as the dictionary above\n",
    "# but replaces the list of possible rolled dice with that list's length divided by the total\n",
    "# number of possible dice rolls\n",
    "\n",
    "dice_prob = {}\n",
    "# cleverly adds up all of the possible rows via list comprehension sum of value lengths...\n",
    "\n",
    "list_count = [len(dice_dict[d]) for d in dice_dict]\n",
    "total_count = sum(list_count)\n",
    "# this code manually calculates the length of each value 'list'\n",
    "\n",
    "result_count = 0\n",
    "for d in dice_dict: \n",
    "    # this loop calculates the number of different rolls that lead to the sum in the key\n",
    "    for i in dice_dict[d]:\n",
    "        result_count += 1\n",
    "    # we assign the probability to the key    \n",
    "    dice_prob[d] = float(result_count) / total_count\n",
    "    # below we reset the count for the next key\n",
    "    result_count = 0\n",
    "    \n",
    "dice_prob"
   ]
  },
  {
   "cell_type": "code",
   "execution_count": 38,
   "metadata": {
    "collapsed": false
   },
   "outputs": [
    {
     "data": {
      "text/plain": [
       "{2: 0.027777777777777776,\n",
       " 3: 0.05555555555555555,\n",
       " 4: 0.08333333333333333,\n",
       " 5: 0.1111111111111111,\n",
       " 6: 0.1388888888888889,\n",
       " 7: 0.16666666666666666,\n",
       " 8: 0.1388888888888889,\n",
       " 9: 0.1111111111111111,\n",
       " 10: 0.08333333333333333,\n",
       " 11: 0.05555555555555555,\n",
       " 12: 0.027777777777777776}"
      ]
     },
     "execution_count": 38,
     "metadata": {},
     "output_type": "execute_result"
    }
   ],
   "source": [
    "# A much more pythonic solution would be:\n",
    "dice_prob = {}\n",
    "for i in dice_dict.keys():\n",
    "    dice_prob[i] = (len(dice_dict[i])/36.0)\n",
    "    \n",
    "dice_prob"
   ]
  },
  {
   "cell_type": "markdown",
   "metadata": {},
   "source": [
    "<b> Finally, please write a function that returns the most common key (2-dice throw result) alongside its frequency of occurrence </b> <br>"
   ]
  },
  {
   "cell_type": "code",
   "execution_count": 112,
   "metadata": {
    "collapsed": false
   },
   "outputs": [
    {
     "name": "stdout",
     "output_type": "stream",
     "text": [
      "The most common key alongside its frequency:  (7, 0.16666666666666666)\n"
     ]
    }
   ],
   "source": [
    "# solution without any special python packages \n",
    "# most_common_key could have been called most_common_roll,,,\n",
    "\n",
    "def most_common_key(dice_prob):\n",
    "    max_prob, max_s = 0, 0\n",
    "    for s, prob in dice_prob.items():\n",
    "        if prob > max_prob:\n",
    "            max_prob = prob\n",
    "            max_s = s\n",
    "    return max_s, max_prob\n",
    "\n",
    "print \"The most common key alongside its frequency: \", most_common_key(dice_prob)"
   ]
  },
  {
   "cell_type": "code",
   "execution_count": 118,
   "metadata": {
    "collapsed": false
   },
   "outputs": [
    {
     "data": {
      "text/plain": [
       "(7, 0.16666666666666666)"
      ]
     },
     "execution_count": 118,
     "metadata": {},
     "output_type": "execute_result"
    }
   ],
   "source": [
    "# A more pythonic code that sorts the items of the dictionary with a lambda x[1] value \n",
    "# and snatches the first element in tat returned list\n",
    "\n",
    "def most_common_key_2(dice_prob):\n",
    "    return sorted(dice_prob.items(), key=lambda x: x[1], reverse=True)[0]\n",
    "\n",
    "most_common_key_2(dice_prob)"
   ]
  },
  {
   "cell_type": "code",
   "execution_count": 119,
   "metadata": {
    "collapsed": false
   },
   "outputs": [
    {
     "data": {
      "text/plain": [
       "(7, 0.16666666666666666)"
      ]
     },
     "execution_count": 119,
     "metadata": {},
     "output_type": "execute_result"
    }
   ],
   "source": [
    "# extra points for pythonic brevity:\n",
    "# sorting of list of tuples\n",
    "\n",
    "def most_common_key_3(dictionary):\n",
    "    return max( [ (k,v) for k,v in dictionary.items() ], key=lambda x:x[1] )\n",
    "\n",
    "most_common_key_3(dice_prob)"
   ]
  },
  {
   "cell_type": "code",
   "execution_count": 120,
   "metadata": {
    "collapsed": false
   },
   "outputs": [
    {
     "data": {
      "text/plain": [
       "(7, 0.16666666666666666)"
      ]
     },
     "execution_count": 120,
     "metadata": {},
     "output_type": "execute_result"
    }
   ],
   "source": [
    "# But my favorite solution invokes python's max function and backs out the key that \n",
    "# triggered it via the dice_prob dictionary\n",
    "# this method shows that you can treat the dictionary directly without creating a list of tuples\n",
    "# as done above\n",
    "\n",
    "def most_common_key_4(dice_prob):\n",
    "    mc = max ( dice_prob, key=lambda x: dice_prob[x] )\n",
    "    mc_p = dice_prob[mc]\n",
    "    return mc, mc_p\n",
    "\n",
    "most_common_key_4(dice_prob)"
   ]
  },
  {
   "cell_type": "code",
   "execution_count": 114,
   "metadata": {
    "collapsed": false
   },
   "outputs": [
    {
     "name": "stdout",
     "output_type": "stream",
     "text": [
      "The most common key alongside its frequency:  (7, 0.16666666666666666)\n"
     ]
    }
   ],
   "source": [
    "# finally, using the collections package as well as the Counter instantiation and its\n",
    "# most_common function\n",
    "\n",
    "import collections\n",
    "tmp = collections.Counter(dice_prob)\n",
    "print \"The most common key alongside its frequency: \", tmp.most_common(1).pop()"
   ]
  },
  {
   "cell_type": "code",
   "execution_count": null,
   "metadata": {
    "collapsed": true
   },
   "outputs": [],
   "source": []
  }
 ],
 "metadata": {
  "kernelspec": {
   "display_name": "Python 2",
   "language": "python",
   "name": "python2"
  },
  "language_info": {
   "codemirror_mode": {
    "name": "ipython",
    "version": 2
   },
   "file_extension": ".py",
   "mimetype": "text/x-python",
   "name": "python",
   "nbconvert_exporter": "python",
   "pygments_lexer": "ipython2",
   "version": "2.7.11"
  },
  "widgets": {
   "state": {},
   "version": "1.1.2"
  }
 },
 "nbformat": 4,
 "nbformat_minor": 0
}
