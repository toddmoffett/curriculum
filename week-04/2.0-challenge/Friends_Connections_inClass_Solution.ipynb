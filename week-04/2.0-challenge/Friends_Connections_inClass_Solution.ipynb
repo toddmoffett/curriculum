{
 "cells": [
  {
   "cell_type": "markdown",
   "metadata": {},
   "source": [
    "### How many connections exist in this network of friends?\n"
   ]
  },
  {
   "cell_type": "code",
   "execution_count": 35,
   "metadata": {
    "collapsed": true
   },
   "outputs": [],
   "source": [
    "# each person is identified only as a number\n",
    "\n",
    "friendships = [(0, 1), (0, 2), (1, 2), (1, 3), (2, 3), (3, 4),\n",
    "                   (4, 5), (5, 6), (5, 7), (6, 8), (7, 8), (8, 9)]"
   ]
  },
  {
   "cell_type": "code",
   "execution_count": 36,
   "metadata": {
    "collapsed": false
   },
   "outputs": [
    {
     "data": {
      "text/plain": [
       "24"
      ]
     },
     "execution_count": 36,
     "metadata": {},
     "output_type": "execute_result"
    }
   ],
   "source": [
    "len(friendships) * 2"
   ]
  },
  {
   "cell_type": "code",
   "execution_count": 37,
   "metadata": {
    "collapsed": false
   },
   "outputs": [
    {
     "data": {
      "text/plain": [
       "24"
      ]
     },
     "execution_count": 37,
     "metadata": {},
     "output_type": "execute_result"
    }
   ],
   "source": [
    "# allf is a list of all of the times a user number appears any time\n",
    "\n",
    "allf = []\n",
    "for pair in friendships: \n",
    "    allf.append(pair[0])\n",
    "    allf.append(pair[1])\n",
    "len(allf)"
   ]
  },
  {
   "cell_type": "code",
   "execution_count": 38,
   "metadata": {
    "collapsed": false
   },
   "outputs": [
    {
     "data": {
      "text/plain": [
       "{0: [1, 2],\n",
       " 1: [0, 2, 3],\n",
       " 2: [0, 1, 3],\n",
       " 3: [1, 2, 4],\n",
       " 4: [3, 5],\n",
       " 5: [4, 6, 7],\n",
       " 6: [5, 8],\n",
       " 7: [5, 8],\n",
       " 8: [6, 7, 9],\n",
       " 9: [8]}"
      ]
     },
     "execution_count": 38,
     "metadata": {},
     "output_type": "execute_result"
    }
   ],
   "source": [
    "# maintaining the tuple\n",
    "\n",
    "def fries(friendships):\n",
    "    d = {}    \n",
    "    for tup in friendships:\n",
    "        d[tup[0]] = d.get(tup[0],[]) + [tup[1]] \n",
    "        d[tup[1]] = d.get(tup[1],[]) + [tup[0]]  \n",
    " \n",
    "    return d\n",
    "\n",
    "d = fries(friendships)\n",
    "d"
   ]
  },
  {
   "cell_type": "code",
   "execution_count": 39,
   "metadata": {
    "collapsed": false
   },
   "outputs": [
    {
     "data": {
      "text/plain": [
       "{0: [1, 2],\n",
       " 1: [0, 2, 3],\n",
       " 2: [0, 1, 3],\n",
       " 3: [1, 2, 4],\n",
       " 4: [3, 5],\n",
       " 5: [4, 6, 7],\n",
       " 6: [5, 8],\n",
       " 7: [5, 8],\n",
       " 8: [6, 7, 9],\n",
       " 9: [8]}"
      ]
     },
     "execution_count": 39,
     "metadata": {},
     "output_type": "execute_result"
    }
   ],
   "source": [
    "# invoking tuple expansion\n",
    "\n",
    "def fries(friendships):\n",
    "    d = {}    \n",
    "    for a,b in friendships:\n",
    "        d[a] = d.get(a,[]) + [b] # here you cannot use append because append breaks when d.get is empty\n",
    "        d[b] = d.get(b,[]) + [a]            \n",
    "    return d\n",
    "\n",
    "d = fries(friendships)\n",
    "d"
   ]
  },
  {
   "cell_type": "code",
   "execution_count": 40,
   "metadata": {
    "collapsed": false
   },
   "outputs": [
    {
     "data": {
      "text/plain": [
       "defaultdict(list,\n",
       "            {0: [1, 2],\n",
       "             1: [0, 2, 3],\n",
       "             2: [0, 1, 3],\n",
       "             3: [1, 2, 4],\n",
       "             4: [3, 5],\n",
       "             5: [4, 6, 7],\n",
       "             6: [5, 8],\n",
       "             7: [5, 8],\n",
       "             8: [6, 7, 9],\n",
       "             9: [8]})"
      ]
     },
     "execution_count": 40,
     "metadata": {},
     "output_type": "execute_result"
    }
   ],
   "source": [
    "# Leyla\n",
    "\n",
    "from collections import defaultdict\n",
    "\n",
    "network = defaultdict(list)\n",
    "for i,j in friendships:\n",
    "   network[i].append(j)\n",
    "   network[j].append(i)\n",
    "network"
   ]
  },
  {
   "cell_type": "code",
   "execution_count": 41,
   "metadata": {
    "collapsed": false
   },
   "outputs": [
    {
     "data": {
      "text/plain": [
       "{0: [1, 2],\n",
       " 1: [0, 2, 3],\n",
       " 2: [0, 1, 3],\n",
       " 3: [1, 2, 4],\n",
       " 4: [3, 5],\n",
       " 5: [4, 6, 7],\n",
       " 6: [8, 5],\n",
       " 7: [8, 5],\n",
       " 8: [9, 6, 7],\n",
       " 9: [8]}"
      ]
     },
     "execution_count": 41,
     "metadata": {},
     "output_type": "execute_result"
    }
   ],
   "source": [
    "#David\n",
    "\n",
    "friend_keys = list(set([pair[0] for pair in friendships] \\\n",
    "                       + [pair[1] for pair in friendships]))\n",
    "\n",
    "friendships_flipped = [(pair[1],pair[0]) for pair in friendships]\n",
    "\n",
    "friend_dict = {friend_key : list(set([pair[1] for pair in friendships\\\n",
    "                                      + friendships_flipped if pair[0] == friend_key])) \\\n",
    "               for friend_key in friend_keys}\n",
    "friend_dict"
   ]
  }
 ],
 "metadata": {
  "anaconda-cloud": {},
  "kernelspec": {
   "display_name": "Python [default]",
   "language": "python",
   "name": "python2"
  },
  "language_info": {
   "codemirror_mode": {
    "name": "ipython",
    "version": 2
   },
   "file_extension": ".py",
   "mimetype": "text/x-python",
   "name": "python",
   "nbconvert_exporter": "python",
   "pygments_lexer": "ipython2",
   "version": "2.7.12"
  }
 },
 "nbformat": 4,
 "nbformat_minor": 1
}
