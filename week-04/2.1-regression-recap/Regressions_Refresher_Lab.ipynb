{
 "cells": [
  {
   "cell_type": "markdown",
   "metadata": {},
   "source": [
    "### Download the relevant data file via wget\n",
    "\n",
    "<b> Here we will be regressing skin cancer mortality on "
   ]
  },
  {
   "cell_type": "code",
   "execution_count": 1,
   "metadata": {
    "collapsed": false,
    "scrolled": true
   },
   "outputs": [
    {
     "name": "stdout",
     "output_type": "stream",
     "text": [
      "--2017-01-03 11:28:16--  https://onlinecourses.science.psu.edu/stat501/sites/onlinecourses.science.psu.edu.stat501/files/data/skincancer.txt\n",
      "Resolving onlinecourses.science.psu.edu... 128.118.135.14\n",
      "Connecting to onlinecourses.science.psu.edu|128.118.135.14|:443... connected.\n",
      "HTTP request sent, awaiting response... 200 OK\n",
      "Length: 2600 (2.5K) [text/plain]\n",
      "Saving to: ‘skincancer.txt.3’\n",
      "\n",
      "skincancer.txt.3    100%[===================>]   2.54K  --.-KB/s    in 0s      \n",
      "\n",
      "2017-01-03 11:28:17 (38.7 MB/s) - ‘skincancer.txt.3’ saved [2600/2600]\n",
      "\n"
     ]
    }
   ],
   "source": [
    "!wget https://onlinecourses.science.psu.edu/stat501/sites/onlinecourses.science.psu.edu.stat501/files/data/skincancer.txt"
   ]
  },
  {
   "cell_type": "code",
   "execution_count": 83,
   "metadata": {
    "collapsed": false,
    "scrolled": true
   },
   "outputs": [
    {
     "name": "stdout",
     "output_type": "stream",
     "text": [
      "<class 'pandas.core.frame.DataFrame'>\n",
      "RangeIndex: 49 entries, 0 to 48\n",
      "Data columns (total 5 columns):\n",
      "State    49 non-null object\n",
      "Lat      49 non-null float64\n",
      "Mort     49 non-null int64\n",
      "Ocean    49 non-null int64\n",
      "Long     49 non-null float64\n",
      "dtypes: float64(2), int64(2), object(1)\n",
      "memory usage: 2.0+ KB\n"
     ]
    }
   ],
   "source": [
    "import pandas as pd\n",
    "pd.read_table('skincancer.txt', delimiter = '\\s+').info()"
   ]
  },
  {
   "cell_type": "code",
   "execution_count": 89,
   "metadata": {
    "collapsed": false
   },
   "outputs": [
    {
     "data": {
      "text/html": [
       "<table class=\"simpletable\">\n",
       "<caption>OLS Regression Results</caption>\n",
       "<tr>\n",
       "  <th>Dep. Variable:</th>          <td>mort</td>       <th>  R-squared:         </th> <td>   0.770</td>\n",
       "</tr>\n",
       "<tr>\n",
       "  <th>Model:</th>                   <td>OLS</td>       <th>  Adj. R-squared:    </th> <td>   0.760</td>\n",
       "</tr>\n",
       "<tr>\n",
       "  <th>Method:</th>             <td>Least Squares</td>  <th>  F-statistic:       </th> <td>   76.83</td>\n",
       "</tr>\n",
       "<tr>\n",
       "  <th>Date:</th>             <td>Tue, 03 Jan 2017</td> <th>  Prob (F-statistic):</th> <td>2.17e-15</td>\n",
       "</tr>\n",
       "<tr>\n",
       "  <th>Time:</th>                 <td>22:00:57</td>     <th>  Log-Likelihood:    </th> <td> -205.02</td>\n",
       "</tr>\n",
       "<tr>\n",
       "  <th>No. Observations:</th>      <td>    49</td>      <th>  AIC:               </th> <td>   416.0</td>\n",
       "</tr>\n",
       "<tr>\n",
       "  <th>Df Residuals:</th>          <td>    46</td>      <th>  BIC:               </th> <td>   421.7</td>\n",
       "</tr>\n",
       "<tr>\n",
       "  <th>Df Model:</th>              <td>     2</td>      <th>                     </th>     <td> </td>   \n",
       "</tr>\n",
       "<tr>\n",
       "  <th>Covariance Type:</th>      <td>nonrobust</td>    <th>                     </th>     <td> </td>   \n",
       "</tr>\n",
       "</table>\n",
       "<table class=\"simpletable\">\n",
       "<tr>\n",
       "       <td></td>         <th>coef</th>     <th>std err</th>      <th>t</th>      <th>P>|t|</th> <th>[95.0% Conf. Int.]</th> \n",
       "</tr>\n",
       "<tr>\n",
       "  <th>Intercept</th>  <td>  360.6905</td> <td>   21.498</td> <td>   16.778</td> <td> 0.000</td> <td>  317.417   403.964</td>\n",
       "</tr>\n",
       "<tr>\n",
       "  <th>ocean[T.1]</th> <td>   20.4304</td> <td>    4.825</td> <td>    4.234</td> <td> 0.000</td> <td>   10.718    30.143</td>\n",
       "</tr>\n",
       "<tr>\n",
       "  <th>lati</th>       <td>   -5.4888</td> <td>    0.526</td> <td>  -10.437</td> <td> 0.000</td> <td>   -6.547    -4.430</td>\n",
       "</tr>\n",
       "</table>\n",
       "<table class=\"simpletable\">\n",
       "<tr>\n",
       "  <th>Omnibus:</th>       <td> 2.146</td> <th>  Durbin-Watson:     </th> <td>   1.451</td>\n",
       "</tr>\n",
       "<tr>\n",
       "  <th>Prob(Omnibus):</th> <td> 0.342</td> <th>  Jarque-Bera (JB):  </th> <td>   1.576</td>\n",
       "</tr>\n",
       "<tr>\n",
       "  <th>Skew:</th>          <td> 0.437</td> <th>  Prob(JB):          </th> <td>   0.455</td>\n",
       "</tr>\n",
       "<tr>\n",
       "  <th>Kurtosis:</th>      <td> 3.084</td> <th>  Cond. No.          </th> <td>    367.</td>\n",
       "</tr>\n",
       "</table>"
      ],
      "text/plain": [
       "<class 'statsmodels.iolib.summary.Summary'>\n",
       "\"\"\"\n",
       "                            OLS Regression Results                            \n",
       "==============================================================================\n",
       "Dep. Variable:                   mort   R-squared:                       0.770\n",
       "Model:                            OLS   Adj. R-squared:                  0.760\n",
       "Method:                 Least Squares   F-statistic:                     76.83\n",
       "Date:                Tue, 03 Jan 2017   Prob (F-statistic):           2.17e-15\n",
       "Time:                        22:00:57   Log-Likelihood:                -205.02\n",
       "No. Observations:                  49   AIC:                             416.0\n",
       "Df Residuals:                      46   BIC:                             421.7\n",
       "Df Model:                           2                                         \n",
       "Covariance Type:            nonrobust                                         \n",
       "==============================================================================\n",
       "                 coef    std err          t      P>|t|      [95.0% Conf. Int.]\n",
       "------------------------------------------------------------------------------\n",
       "Intercept    360.6905     21.498     16.778      0.000       317.417   403.964\n",
       "ocean[T.1]    20.4304      4.825      4.234      0.000        10.718    30.143\n",
       "lati          -5.4888      0.526    -10.437      0.000        -6.547    -4.430\n",
       "==============================================================================\n",
       "Omnibus:                        2.146   Durbin-Watson:                   1.451\n",
       "Prob(Omnibus):                  0.342   Jarque-Bera (JB):                1.576\n",
       "Skew:                           0.437   Prob(JB):                        0.455\n",
       "Kurtosis:                       3.084   Cond. No.                         367.\n",
       "==============================================================================\n",
       "\n",
       "Warnings:\n",
       "[1] Standard Errors assume that the covariance matrix of the errors is correctly specified.\n",
       "\"\"\""
      ]
     },
     "execution_count": 89,
     "metadata": {},
     "output_type": "execute_result"
    }
   ],
   "source": [
    "# solution in statsmodels ols\n",
    "import statsmodels.formula.api as smf\n",
    "smf.ols('mort ~ lati + ocean', df_skincancer).fit().summary()"
   ]
  },
  {
   "cell_type": "code",
   "execution_count": 90,
   "metadata": {
    "collapsed": false
   },
   "outputs": [
    {
     "data": {
      "text/plain": [
       "194.528"
      ]
     },
     "execution_count": 90,
     "metadata": {},
     "output_type": "execute_result"
    }
   ],
   "source": [
    "# manual check of prediction for latitude of 34 (Santa Monica)\n",
    "360.69 + 20.43 * 1 - 5.488 * 34"
   ]
  },
  {
   "cell_type": "code",
   "execution_count": 91,
   "metadata": {
    "collapsed": false
   },
   "outputs": [
    {
     "name": "stdout",
     "output_type": "stream",
     "text": [
      "r2 score: 0.77212668799\n"
     ]
    },
    {
     "data": {
      "text/plain": [
       "array([ 169.65612897])"
      ]
     },
     "execution_count": 91,
     "metadata": {},
     "output_type": "execute_result"
    }
   ],
   "source": [
    "# Jake's solution in sklearn\n",
    "\n",
    "import numpy as np\n",
    "import pandas as pd\n",
    "from sklearn.linear_model import LinearRegression\n",
    "import sklearn.metrics as mt\n",
    "\n",
    "path = 'https://onlinecourses.science.psu.edu/stat501/sites/onlinecourses.science.psu.edu.stat501/files/data/skincancer.txt'\n",
    "data = pd.read_table(path, delimiter='\\s+')\n",
    "\n",
    "X = data[['Lat', 'Long', 'Ocean']]\n",
    "y = data['Mort']\n",
    "\n",
    "model = LinearRegression()\n",
    "model.fit(X, y)\n",
    "y_pred = model.predict(X)\n",
    "print \"r2 score:\", mt.r2_score(y, y_pred)\n",
    "\n",
    "model.predict(np.array([34.0195, -118.4912, 1]).reshape(1, -1))"
   ]
  },
  {
   "cell_type": "code",
   "execution_count": 93,
   "metadata": {
    "collapsed": false
   },
   "outputs": [
    {
     "data": {
      "text/plain": [
       "<seaborn.axisgrid.FacetGrid at 0x11ecf2150>"
      ]
     },
     "execution_count": 93,
     "metadata": {},
     "output_type": "execute_result"
    },
    {
     "data": {
      "image/png": "[encoded data removed]",
      "text/plain": [
       "<matplotlib.figure.Figure at 0x11ecf2450>"
      ]
     },
     "metadata": {},
     "output_type": "display_data"
    }
   ],
   "source": [
    "# Todd's Seaborn visual\n",
    "import seaborn as sns\n",
    "sns.lmplot(data=data, y='Mort', x='Lat')\n",
    "# sns.regplot(data=data, y='Mort', x='Lat') # regplot works fine but centers the image differently"
   ]
  },
  {
   "cell_type": "code",
   "execution_count": null,
   "metadata": {
    "collapsed": true
   },
   "outputs": [],
   "source": []
  }
 ],
 "metadata": {
  "kernelspec": {
   "display_name": "Python [default]",
   "language": "python",
   "name": "python2"
  },
  "language_info": {
   "codemirror_mode": {
    "name": "ipython",
    "version": 2
   },
   "file_extension": ".py",
   "mimetype": "text/x-python",
   "name": "python",
   "nbconvert_exporter": "python",
   "pygments_lexer": "ipython2",
   "version": "2.7.12"
  }
 },
 "nbformat": 4,
 "nbformat_minor": 1
}
