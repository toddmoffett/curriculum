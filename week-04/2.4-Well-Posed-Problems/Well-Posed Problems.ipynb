{
 "cells": [
  {
   "cell_type": "markdown",
   "metadata": {},
   "source": [
    "### Front Loading Vocabulary\n",
    "\n",
    "| | | | | | | | |\n",
    "|:-:|:-:|:-:|:-:|:-:|:-:|:-:|:-:|\n",
    "| supervised | unsupervised | input | output | regression | classification | principal <br> components | dimension |\n",
    "| method of <br> least squares | linear <br> regression | linear <br> discriminant <br> analysis | logistic <br> regression | decision  <br> tree | Accuracy | F1 Score | KMeans |\n",
    "| Area Under the <br> ROC Curve | Silhouette <br> Coefficient | clustering | Precision | Recall | model | K Nearest <br> Neigbors | R$^2$ score |\n",
    "| Lasso | Ridge Regression | Elastic Net | Gradient Descent | Mean Absolute <br> Error | Mean Squared <br> Error | machine <br>  learning | statistical <br> learning |"
   ]
  },
  {
   "cell_type": "markdown",
   "metadata": {},
   "source": [
    "# Statistical Learning/Machine Learning\n",
    "\n",
    "#### CS Algorithms melded with Statistics\n",
    "**Machine learning** is the subfield of computer science that \"gives computers the ability to learn without being explicitly programmed\" (Arthur Samuel, 1959).\n",
    "\n",
    "#### Classical Statistics melded with Computer Science\n",
    "**Statistical learning** is the intersection of classical statistics with modern machine learning techniques."
   ]
  },
  {
   "cell_type": "markdown",
   "metadata": {},
   "source": [
    "![](http://i.imgur.com/p4ryPWs.gif)"
   ]
  },
  {
   "cell_type": "markdown",
   "metadata": {},
   "source": [
    "## Algorithms that learn from data\n",
    "\n",
    "We seek to design algorithms that can learn from data without being explicitly programmed. \n",
    "\n",
    "Our  algorithms operate by building a model based on inputs and using that to make predictions or decisions, rather than following only explicitly programmed instructions.\n"
   ]
  },
  {
   "cell_type": "markdown",
   "metadata": {},
   "source": [
    "## Statistical Learning Problems\n",
    "\n",
    "- Identify the risk factors for prostate cancer.\n",
    "- Classify a recorded phoneme based on a log-periodogram.\n",
    "- Predict whether someone will have a heart attack on the basis of demographic, diet and clinical measurements.\n",
    "- Customize an email spam detection system.\n",
    "- Identify the numbers in a handwritten zip code.\n",
    "- Classify a tissue sample into one of several cancer classes, based on a gene expression profile.\n",
    "- Establish the relationship between salary and demographic variables in population survey data.\n",
    "- Classify the pixels in a LANDSAT image, by usage."
   ]
  },
  {
   "cell_type": "markdown",
   "metadata": {},
   "source": [
    "---"
   ]
  },
  {
   "cell_type": "code",
   "execution_count": 2,
   "metadata": {
    "collapsed": false
   },
   "outputs": [],
   "source": [
    "import matplotlib.pyplot as plt\n",
    "import numpy as np\n",
    "import pandas as pd\n",
    "import seaborn as sns\n",
    "%matplotlib inline"
   ]
  },
  {
   "cell_type": "markdown",
   "metadata": {},
   "source": [
    "# Three Types of Problems\n",
    "\n",
    "To get a big picture view of the types of problems we are solving, we can think of the majority of the work we will be doing as one of three kinds of problems:\n",
    "\n",
    "1. A Supervised Learning Regression Problem\n",
    "1. A Supervised Learning Classification Problem\n",
    "1. An Unsupervised Learning Problem"
   ]
  },
  {
   "cell_type": "markdown",
   "metadata": {},
   "source": [
    "## The Supervised Learning Regression Problem"
   ]
  },
  {
   "cell_type": "markdown",
   "metadata": {},
   "source": [
    "**Supervised Learning** is the machine learning task of inferring a function from labeled training data. \n",
    "\n",
    "#### Domain & Dataset\n",
    "\n",
    "Typically, we have a set of $n$ predictor measurements (also called inputs, regressors, covariates, features, independent variables), $X$. Here $n$ is the number of instances i.e. the number of rows in the **feature matrix**.\n",
    "\n",
    "Each measurement has $p$ different features. \n",
    "\n",
    "Our dataset or feature matrix then has a size of $n$ by $p$.\n",
    "\n",
    "$\\mathbf x_1$ is an element of $X$. It is a row in the feature matrix. It represents a single instance of data. It will look like\n",
    "\n",
    "$$\\mathbf x_1 = (x_{11}, \\dots, x_{1p})$$\n",
    "\n",
    "$X$ will look like\n",
    "\n",
    "\\begin{align*}\n",
    "X = \n",
    "\\left(\n",
    "\\begin{matrix}\n",
    "\\mathbf x_1\n",
    "\\\\\n",
    "\\vdots\n",
    "\\\\\n",
    "\\mathbf x_n\n",
    "\\end{matrix}\n",
    "\\right)= \n",
    "\\left(\n",
    "\\begin{matrix}\n",
    "x_{11} & \\dots & x_{1p}\n",
    "\\\\\n",
    "\\vdots & \\ddots & \\vdots\n",
    "\\\\\n",
    "x_{n1} & \\dots & x_{np}\n",
    "\\end{matrix}\n",
    "\\right)\n",
    "\\end{align*}\n",
    "\n",
    "For a supervised learning problem, we will also have a matching set of outcome measurements, $\\mathbf y$, a vector where each element matches the corresponding row in the predictor measurement set i.e. the feature matrix. This is also called the **target vector**.\n",
    "\n",
    "**In the regression setting, our outcome measurements will be *continuous* or *quantitative***, e.g. price, blood pressure.\n",
    "\n",
    "\n",
    "$$\\mathbf y = (y_{1}, \\dots, y_{n})$$\n",
    "\n",
    "#### Problem Statement\n",
    "\n",
    "Each row in the feature matrix corresponds to a value in the target vector and they can be mapped by some unknown function, $f$ \n",
    "\n",
    "$$f: \\mathbf x \\mapsto y$$\n",
    "\n",
    "Given a matching set of predictor measurements and output measurements \n",
    "\n",
    "$$\\{(\\mathbf x_1, y_1), \\dots, (\\mathbf x_n, y_n)\\}$$\n",
    "\n",
    "we wish to \n",
    "\n",
    "1. Accurately predict unseen test cases.\n",
    "1. Understand which inputs affect the outcome, and how.\n",
    "1. Assess the quality of our predictions and inferences.\n",
    "\n",
    "#### Solution Statement\n",
    "\n",
    "A solution to the problem is a regression algorithm or function that has been shown to predict with the highest performance according to our metric. \n",
    "\n",
    "In other words, we are looking for the best function that can map vector in $X$ to their corresponding $y$ values.\n",
    "\n",
    "$$f: \\mathbf x \\mapsto y$$\n",
    "\n",
    "Then given a vector $mathbf{x}_i$, we can plug it into our function to predict $y_i$:\n",
    "\n",
    "$$f(\\mathbf{x}_i)\\approx y_i$$\n",
    "\n",
    "Thus, a *solution* to this task is what we have found to be **the best regression function**.\n",
    "\n",
    "\n",
    "#### Metric \n",
    "\n",
    "In order to assess the validity of our model, we will need to establish a metric. Common metrics for **Supervised Learning Regression** tasks include the mean absolute error, mean squared error, and the R$^2$ score. \n",
    "\n",
    "#### Benchmark \n",
    "\n",
    "Finally, we identify an algorithm and/or performance level that hass been shown to have been an adequate solution for a similar problem. \n"
   ]
  },
  {
   "cell_type": "markdown",
   "metadata": {},
   "source": [
    "## Supervised Learning Regression Problem"
   ]
  },
  {
   "cell_type": "code",
   "execution_count": 3,
   "metadata": {
    "collapsed": false,
    "scrolled": true
   },
   "outputs": [
    {
     "data": {
      "text/html": [
       "<div>\n",
       "<table border=\"1\" class=\"dataframe\">\n",
       "  <thead>\n",
       "    <tr style=\"text-align: right;\">\n",
       "      <th></th>\n",
       "      <th>Unnamed: 0</th>\n",
       "      <th>year</th>\n",
       "      <th>age</th>\n",
       "      <th>sex</th>\n",
       "      <th>maritl</th>\n",
       "      <th>race</th>\n",
       "      <th>education</th>\n",
       "      <th>region</th>\n",
       "      <th>jobclass</th>\n",
       "      <th>health</th>\n",
       "      <th>health_ins</th>\n",
       "      <th>logwage</th>\n",
       "      <th>wage</th>\n",
       "    </tr>\n",
       "  </thead>\n",
       "  <tbody>\n",
       "    <tr>\n",
       "      <th>0</th>\n",
       "      <td>231655</td>\n",
       "      <td>2006</td>\n",
       "      <td>18</td>\n",
       "      <td>1. Male</td>\n",
       "      <td>1. Never Married</td>\n",
       "      <td>1. White</td>\n",
       "      <td>1. &lt; HS Grad</td>\n",
       "      <td>2. Middle Atlantic</td>\n",
       "      <td>1. Industrial</td>\n",
       "      <td>1. &lt;=Good</td>\n",
       "      <td>2. No</td>\n",
       "      <td>4.318063</td>\n",
       "      <td>75.043154</td>\n",
       "    </tr>\n",
       "  </tbody>\n",
       "</table>\n",
       "</div>"
      ],
      "text/plain": [
       "   Unnamed: 0  year  age      sex            maritl      race     education  \\\n",
       "0      231655  2006   18  1. Male  1. Never Married  1. White  1. < HS Grad   \n",
       "\n",
       "               region       jobclass     health health_ins   logwage  \\\n",
       "0  2. Middle Atlantic  1. Industrial  1. <=Good      2. No  4.318063   \n",
       "\n",
       "        wage  \n",
       "0  75.043154  "
      ]
     },
     "execution_count": 3,
     "metadata": {},
     "output_type": "execute_result"
    }
   ],
   "source": [
    "wage_df = pd.read_csv('../../../data/Wage.csv')\n",
    "wage_df.head(1)"
   ]
  },
  {
   "cell_type": "code",
   "execution_count": 4,
   "metadata": {
    "collapsed": false,
    "scrolled": false
   },
   "outputs": [
    {
     "data": {
      "text/plain": [
       "array([  75.04315402,   70.47601965,  130.98217738,  154.685293  ,\n",
       "        127.11574381])"
      ]
     },
     "execution_count": 4,
     "metadata": {},
     "output_type": "execute_result"
    }
   ],
   "source": [
    "wage_df['wage'].unique()[:5]"
   ]
  },
  {
   "cell_type": "code",
   "execution_count": 5,
   "metadata": {
    "collapsed": false
   },
   "outputs": [
    {
     "data": {
      "text/plain": [
       "<matplotlib.axes._subplots.AxesSubplot at 0x7ff534b3bfd0>"
      ]
     },
     "execution_count": 5,
     "metadata": {},
     "output_type": "execute_result"
    },
    {
     "data": {
      "image/png": "[encoded data removed]",
      "text/plain": [
       "<matplotlib.figure.Figure at 0x7ff502da1310>"
      ]
     },
     "metadata": {},
     "output_type": "display_data"
    }
   ],
   "source": [
    "fig = plt.figure(figsize=(20,4))\n",
    "\n",
    "fig.add_subplot(131)\n",
    "sns.regplot(x='year', y='wage', data=wage_df)\n",
    "\n",
    "fig.add_subplot(132)\n",
    "wage_df['education_int'] = wage_df['education'].str.extract('(\\d)', expand=False).astype(int)\n",
    "education_labels = wage_df['education'].unique()\n",
    "education_labels.sort()\n",
    "sns.boxplot(x='education_int', y='wage', data=wage_df)\n",
    "plt.xticks(np.arange(len(education_labels)),education_labels, rotation='vertical')\n",
    "\n",
    "fig.add_subplot(133)\n",
    "sns.regplot(x='age', y='wage', data=wage_df, order=5)"
   ]
  },
  {
   "cell_type": "markdown",
   "metadata": {},
   "source": [
    "#### Domain & Dataset\n",
    "\n",
    "We examine a number of factors that relate to wages for a group of males from the Atlantic region of the United States."
   ]
  },
  {
   "cell_type": "markdown",
   "metadata": {},
   "source": [
    "1. we can see a positive relationship between calendar `year` and `wage`\n",
    "1. we can see a positive relationship between `education` and `wage`\n",
    "1. There is some sort of relationship between `age` and `wage`"
   ]
  },
  {
   "cell_type": "markdown",
   "metadata": {},
   "source": [
    "#### Problem Statement\n",
    "\n",
    "We wish to understand the association between an employee's `age` and `eduction`, as well as the calendar `year`, on his `wage`."
   ]
  },
  {
   "cell_type": "markdown",
   "metadata": {},
   "source": [
    "Given the values of `wage` in our dateset, this is a **regression** task. "
   ]
  },
  {
   "cell_type": "markdown",
   "metadata": {},
   "source": [
    "#### Solution Statement\n",
    "\n",
    "Given an employee's `age` and `education` level and the calendar `year`, we can predict the employee's `wage`, using a **regression model**.\n",
    "\n",
    "We have already seen several different types of **regression models** including OLS, the Ridge Regression, the Lasso, and the Elastic Net."
   ]
  },
  {
   "cell_type": "markdown",
   "metadata": {},
   "source": [
    "#### Metric\n",
    "\n",
    "In order to assess the validity of our model, we will need to establish a metric. \n",
    "\n",
    "#### Benchmark\n",
    "\n",
    "We will compare our model to a benchmark model or performance using our metric. \n",
    "\n",
    "---"
   ]
  },
  {
   "cell_type": "markdown",
   "metadata": {
    "collapsed": true
   },
   "source": [
    "## Supervised Learning Classification Problem"
   ]
  },
  {
   "cell_type": "markdown",
   "metadata": {},
   "source": [
    "**Supervised Learning** is the machine learning task of inferring a function from labeled training data. \n",
    "\n",
    "#### Domain & Dataset\n",
    "\n",
    "Typically, we have a set of $n$ predictor measurements (also called inputs, regressors, covariates, features, independent variables), $X$. Each measurements has $p$ different values. Our dataset then has a size of $n$ by $p$.\n",
    "\n",
    "\n",
    "For a supervised learning problem, we will also have a matching set of outcome measurements, $\\mathbf y$, a vector where each element matches the corresponding row the predictor measurement set. **In the classification setting, our outcome measurements will be a finite unordered set of *qualitative** labels*, e.g. survived/died, digit 0-9, cancer class of tissue sample.\n",
    "\n",
    "\n",
    "#### Problem Statement\n",
    "\n",
    "Given a matching set of predictor measurements and output measurements, we wish to \n",
    "\n",
    "1. Accurately predict unseen test cases.\n",
    "1. Understand which inputs affect the outcome, and how.\n",
    "1. Assess the quality of our predictions and inferences.\n",
    "\n",
    "#### Solution Statement\n",
    "\n",
    "A solution to the problem is a classification algorithm that has been shown to predict with the highest performance according to our metric. \n",
    "\n",
    "#### Metric \n",
    "\n",
    "In order to assess the validity of our model, we will need to establish a metric. Common metrics for **Supervised Learning Classification** tasks include accuracy, F1 Score, and Area Under the ROC Curve.\n",
    "\n",
    "#### Benchmark \n",
    "\n",
    "Finally, we identify an algorithm and/or performance level that hass been shown to have been an adequate solution for a similar problem. \n"
   ]
  },
  {
   "cell_type": "code",
   "execution_count": null,
   "metadata": {
    "collapsed": false
   },
   "outputs": [],
   "source": [
    "market_df = pd.read_csv('../../../data/Smarket.csv',\n",
    "                        index_col='Index')\n",
    "market_df.head(5)"
   ]
  },
  {
   "cell_type": "code",
   "execution_count": null,
   "metadata": {
    "collapsed": false
   },
   "outputs": [],
   "source": [
    "fig = plt.figure(figsize=(20,4))\n",
    "\n",
    "fig.add_subplot(131)\n",
    "sns.boxplot(x='Direction', y='Lag1', data=market_df)\n",
    "fig.add_subplot(132)\n",
    "sns.boxplot(x='Direction', y='Lag2', data=market_df)\n",
    "fig.add_subplot(133)\n",
    "sns.boxplot(x='Direction', y='Lag3', data=market_df)"
   ]
  },
  {
   "cell_type": "markdown",
   "metadata": {},
   "source": [
    "#### Domain & Dataset\n",
    "\n",
    "We examine a stock market data set that contains the daily movements in the Standard & Poor's 500 over a five-year period. "
   ]
  },
  {
   "cell_type": "markdown",
   "metadata": {},
   "source": [
    "#### Problem Statement\n",
    "\n",
    "We wish to predict whether a give index will go up or go down on a given day given the past 5 days' percentage changes."
   ]
  },
  {
   "cell_type": "markdown",
   "metadata": {},
   "source": [
    "Our output to be predicted is a label - 'up' or 'down. This is a **classifcation** task. "
   ]
  },
  {
   "cell_type": "markdown",
   "metadata": {},
   "source": [
    "#### Solution Statement\n",
    "\n",
    "Given the index's performance on the previous five days, we can predict for a given day whether the index will go `up` or go `down`, using a **classification model**.\n",
    "\n",
    "We will soon begin to see classification models such as K Nearest Neighbors and the Logistic Regression."
   ]
  },
  {
   "cell_type": "markdown",
   "metadata": {},
   "source": [
    "#### Metric\n",
    "\n",
    "In order to assess the validity of our model, we will need to establish a metric. \n",
    "\n",
    "#### Benchmark\n",
    "\n",
    "We will compare our model to a benchmark model or performance using our metric. "
   ]
  },
  {
   "cell_type": "markdown",
   "metadata": {
    "collapsed": true
   },
   "source": [
    "## Unsupervised Learning Problem"
   ]
  },
  {
   "cell_type": "markdown",
   "metadata": {},
   "source": [
    "**Unupervised Learning** is the machine learning task of inferring information from unlabeled (and sometimes unstructured) data. \n",
    "\n",
    "#### Domain & Dataset\n",
    "\n",
    "Typically, we have a set of $n$ predictor measurements (also called inputs, regressors, covariates, features, independent variables), $X$. Each measurements has $p$ different values. Our dataset then has a size of $n$ by $p$.\n",
    "\n",
    "\n",
    "#### Problem Statement\n",
    "\n",
    "Given a matching set of predictor measurements and output measurements, we wish to \n",
    "\n",
    "1. find groups of samples that behave similarly\n",
    "1. find features that behave similarly\n",
    "1. find linear combinations of features with the most variation\n",
    "\n",
    "#### Solution Statement\n",
    "\n",
    "Much more fuzzy. May be part of a pre-processing for a supervised learning task.\n",
    "\n",
    "#### Metric \n",
    "\n",
    "In order to assess the validity of our model, we will need to establish a metric. A common metric for unsupervised learning is the Silhouette Coefficient.\n",
    "\n",
    "#### Benchmark \n",
    "\n",
    "Difficult to assess. "
   ]
  },
  {
   "cell_type": "code",
   "execution_count": null,
   "metadata": {
    "collapsed": false
   },
   "outputs": [],
   "source": [
    "gene_expression_df = pd.read_csv('../../../data/NCI60.csv', index_col='Index')\n",
    "gene_expression_df.head(5)"
   ]
  },
  {
   "cell_type": "code",
   "execution_count": null,
   "metadata": {
    "collapsed": true
   },
   "outputs": [],
   "source": [
    "from sklearn.decomposition import PCA\n",
    "\n",
    "number_of_dimensions = 2\n",
    "pca = PCA(n_components=number_of_dimensions)\n",
    "\n",
    "pca.fit(gene_expression_df.drop('labs', axis=1))\n",
    "gene_exp_2d = pca.transform(gene_expression_df.drop('labs', axis=1))"
   ]
  },
  {
   "cell_type": "code",
   "execution_count": null,
   "metadata": {
    "collapsed": false
   },
   "outputs": [],
   "source": [
    "from sklearn.cluster import KMeans\n",
    "\n",
    "number_of_clusters = [2,3,6,14]\n",
    "\n",
    "fig = plt.figure(figsize=(20,4))\n",
    "\n",
    "for i, clusters in enumerate(number_of_clusters):\n",
    "    fig.add_subplot(101+i+10*len(number_of_clusters))\n",
    "    kmeans = KMeans(n_clusters=clusters)\n",
    "    kmeans.fit(gene_expression_df.drop('labs', axis=1))\n",
    "    labels = ['cluster ' + str(label+1) for label in kmeans.labels_]\n",
    "    ax = sns.swarmplot(x=gene_exp_2d[:,0], y=gene_exp_2d[:,1], hue=labels)\n",
    "    ax.set(xticklabels=[])\n",
    "    ax.set(yticklabels=[])\n",
    "    ax.legend(loc='lower right')\n",
    "    if i == 3: ax.legend_.remove()"
   ]
  },
  {
   "cell_type": "markdown",
   "metadata": {},
   "source": [
    "#### Domain & Dataset\n",
    "\n",
    "We examine a gene expression dataset of NCI microarray data. The data contains expression levels on 6830 genes from 64 cancer cell lines. Cancer type is also recorded.\n"
   ]
  },
  {
   "cell_type": "markdown",
   "metadata": {},
   "source": [
    "#### Problem Statement\n",
    "\n",
    "We wish to determining whether there are groups, or clusters, among the cell lines based on their gene expression measurements."
   ]
  },
  {
   "cell_type": "markdown",
   "metadata": {},
   "source": [
    "#### Solution Statement\n",
    "\n",
    "First, we can summarize the 6830 dimensions using just \n",
    "two dimensions using an **unsupervised learning** technique\n",
    "called **Principal Component Analysis**. We can now visually examine the data. \n",
    "\n",
    "We then cluster the data using the **KMeans model** another unsupervised learning technique. "
   ]
  },
  {
   "cell_type": "markdown",
   "metadata": {},
   "source": [
    "#### Metric\n",
    "\n",
    "In order to assess the validity of our model, we will need to establish a metric. \n",
    "\n",
    "#### Benchmark\n",
    "\n",
    "We will compare our model to a benchmark model or performance using our metric. "
   ]
  },
  {
   "cell_type": "markdown",
   "metadata": {},
   "source": [
    "## Well-Posed Problem Statements"
   ]
  },
  {
   "cell_type": "markdown",
   "metadata": {
    "collapsed": true
   },
   "source": [
    "A well-posed problem statement will consist of the following:\n",
    "\n",
    "1. Domain & Dataset\n",
    "    - from what real-world domain does the problem come from\n",
    "    - what is the dataset on which your algorithm(s) will be learning\n",
    "1. Problem Statement\n",
    "    - what is the learning that you want your algorithm(s) to do\n",
    "1. Solution Statement\n",
    "    - what is/are the algorithm(s) you will use? how will they learn?\n",
    "1. Metric \n",
    "    - how will you measure the success of your algorithm(s)?\n",
    "1. Benchmark \n",
    "    - is there a model that has been used previously that performs well? what level of performance can you expect?"
   ]
  },
  {
   "cell_type": "markdown",
   "metadata": {},
   "source": [
    "## Mini-Project\n",
    "\n",
    "You will be split into six teams and given a dataset and client. Your task is to prepare a project proposal for your client using the well-posed problem framework. \n",
    "\n",
    "1. [Mashable](http://mashable.com)\n",
    "   - Team: Anna, John, Kevin\n",
    "   - Data: http://archive.ics.uci.edu/ml/datasets/Online+News+Popularity\n",
    "2. [The Library of Congress](https://www.loc.gov)\n",
    "   - Team: Scott, Gino, Leyla\n",
    "   - Data: http://archive.ics.uci.edu/ml/datasets/YearPredictionMSD\n",
    "3. [CCG](http://ccg.la) \n",
    "   - Team: Jake, KD, Alex\n",
    "   - Data: http://archive.ics.uci.edu/ml/datasets/Facebook+Comment+Volume+Dataset\n",
    "4. [Tesla](https://www.tesla.com)\n",
    "   - Team: Chris, Russell, Ali\n",
    "   - Data: http://archive.ics.uci.edu/ml/datasets/Combined+Cycle+Power+Plant\n",
    "5. [The City of Seattle](https://www.seattle.gov)\n",
    "   - Team: Mazdak, Nate, Kari\n",
    "   - Data: http://archive.ics.uci.edu/ml/datasets/Bike+Sharing+Dataset\n",
    "6. [The Los Angeles Rams](http://www.therams.com)\n",
    "   - Team: David, Suketu, Todd\n",
    "   - Data: http://archive.ics.uci.edu/ml/datasets/Concrete+Compressive+Strength"
   ]
  },
  {
   "cell_type": "markdown",
   "metadata": {},
   "source": [
    "#### Domain & Dataset\n",
    "\n",
    "Briefly present background information of the domain from which the project is proposed. \n",
    "\n",
    "Give a detailed presentation of the dataset you have been given, including but not limited to information such as how the dataset was obtained and the characteristics of the dataset. \n",
    "\n",
    "Breiefly discuss how the dataset will be used in the project.\n",
    "\n",
    "You have some flexibility here. You may be creative with how you think the dataset connects to the client. \n",
    "\n",
    "Include some academic background on the project.\n",
    "\n",
    "#### Problem Statement\n",
    "\n",
    "Clearly describe the problem you will solve if your team is hired. The problem should be well defined and have at least one relevant potential solution. The problem should quantifiable, measurable, and replicable. \n",
    "\n",
    "#### Solution Statement\n",
    "\n",
    "Clearly describe your initial ideas for a solution to the problem. You must choose two of the following models to solve the problem: \n",
    "\n",
    "1. Ordinary Least Squares\n",
    "1. Ridge Regression\n",
    "1. the Lasso\n",
    "1. the Elastic Net\n",
    "1. Stochastic Gradient Descent\n",
    "\n",
    "You must:\n",
    "\n",
    "- describe each model using non-technical terms (diagrams are helpful)\n",
    "- identify the pros and cons of the two models\n",
    "- select one of the two models as likely to be the superior model and provide a justification for this choice\n",
    "\n",
    "#### Metric \n",
    "\n",
    "Identify an appropriate metric for the project. Briefly present the mathematical details of this metric.\n",
    "\n",
    "#### Benchmark \n",
    "\n",
    "You have some leeway here as this can be the most challenging area. Do the best you can to identify what you think is an appropriate benchmark model and/or value given your metric. Provide some justification for choosing this.\n",
    "\n",
    "---"
   ]
  },
  {
   "cell_type": "code",
   "execution_count": null,
   "metadata": {
    "collapsed": true
   },
   "outputs": [],
   "source": []
  }
 ],
 "metadata": {
  "kernelspec": {
   "display_name": "Python [conda env:py27]",
   "language": "python",
   "name": "conda-env-py27-py"
  },
  "language_info": {
   "codemirror_mode": {
    "name": "ipython",
    "version": 2
   },
   "file_extension": ".py",
   "mimetype": "text/x-python",
   "name": "python",
   "nbconvert_exporter": "python",
   "pygments_lexer": "ipython2",
   "version": "2.7.12"
  }
 },
 "nbformat": 4,
 "nbformat_minor": 1
}
