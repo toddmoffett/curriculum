{
 "cells": [
  {
   "cell_type": "markdown",
   "metadata": {},
   "source": [
    "### Classes Primer"
   ]
  },
  {
   "cell_type": "markdown",
   "metadata": {},
   "source": [
    "<img src =\"cookiecutter.JPG\" width=400px>"
   ]
  },
  {
   "cell_type": "markdown",
   "metadata": {},
   "source": [
    "<b> A class is a template for new objects. </b> So, if we have a Car class with color, make, and model properties, we can create many different instances of the Car class, and they will all have their own values for those properties. <br><br> An instance is an object created from a template, or class. silver_honda_accord is an instance of the Car class. If we wanted to create a red_toyota_camry instance, we could do so, and it would have its own color, make, and model values."
   ]
  },
  {
   "cell_type": "markdown",
   "metadata": {},
   "source": [
    " to start a class definition. Inside the class, we define a special function called \\__init__. This is where we define our properties."
   ]
  },
  {
   "cell_type": "code",
   "execution_count": 94,
   "metadata": {
    "collapsed": true
   },
   "outputs": [],
   "source": [
    "class Car():\n",
    "    def __init__(self, color, make, model):\n",
    "        self.color = color\n",
    "        self.make = make\n",
    "        self.model = model"
   ]
  },
  {
   "cell_type": "markdown",
   "metadata": {},
   "source": [
    "\\__init__ is a special method that the Python interpreter automatically calls whenever we create an instance of a class. Inside our class definition, we refer to properties using 'self.property_name'. "
   ]
  },
  {
   "cell_type": "markdown",
   "metadata": {},
   "source": [
    "Note that \\__init__ takes in a self parameter. This parameter refers to the current instance, and allows us to access and add to its properties. 'self' is passed in automatically when we call Car() which calls __init__\n"
   ]
  },
  {
   "cell_type": "code",
   "execution_count": 95,
   "metadata": {
    "collapsed": false
   },
   "outputs": [
    {
     "name": "stdout",
     "output_type": "stream",
     "text": [
      "silver\n",
      "honda\n",
      "accord\n"
     ]
    }
   ],
   "source": [
    "mycar = Car(\"silver\", \"honda\", \"accord\")\n",
    "print mycar.color\n",
    "print mycar.make\n",
    "print mycar.model"
   ]
  },
  {
   "cell_type": "code",
   "execution_count": 3,
   "metadata": {
    "collapsed": false
   },
   "outputs": [
    {
     "name": "stdout",
     "output_type": "stream",
     "text": [
      "Morris\n",
      "15\n",
      "Mr. Puds\n"
     ]
    }
   ],
   "source": [
    "class Animal(object):\n",
    "    is_alive = True\n",
    "    __health = \"good\"\n",
    "    def __init__(self, name, age):\n",
    "        self.name = name\n",
    "        self.age = age\n",
    "    def description(self):\n",
    "        print self.name\n",
    "        print self.age\n",
    "        \n",
    "cat = Animal(\"Morris\", 5)\n",
    "mouse = Animal(\"GG\", 15)\n",
    "dog = Animal(\"Mr. Puds\", 100)\n",
    "\n",
    "print cat.name\n",
    "print mouse.age\n",
    "print dog.name"
   ]
  },
  {
   "cell_type": "markdown",
   "metadata": {},
   "source": [
    "### One class may inherit methods and attributes from another class:"
   ]
  },
  {
   "cell_type": "code",
   "execution_count": 22,
   "metadata": {
    "collapsed": false
   },
   "outputs": [
    {
     "name": "stdout",
     "output_type": "stream",
     "text": [
      "I'm a string that stands in for the contents of your shopping cart!\n",
      "I'm a string that stands in for your order history!\n",
      "ID: 888\n"
     ]
    }
   ],
   "source": [
    "class Customer(object):\n",
    "    is_alive = True\n",
    "    \"\"\"Produces objects that represent customers.\"\"\"\n",
    "    \n",
    "    def __init__(self, customer_id):\n",
    "        self.customer_id = customer_id\n",
    "\n",
    "    def display_cart(self):\n",
    "        return \"I'm a string that stands in for the contents of your shopping cart!\"\n",
    "\n",
    "class VIPCustomer(Customer):\n",
    "    \"\"\"For customers of the repeat variety.\"\"\"\n",
    "    def display_order_history(self):\n",
    "        return \"I'm a string that stands in for your order history!\"\n",
    "\n",
    "mathilda = VIPCustomer(\"ID: 888\")\n",
    "\n",
    "print mathilda.display_cart()\n",
    "print mathilda.display_order_history()\n",
    "print mathilda.customer_id\n",
    "\n"
   ]
  },
  {
   "cell_type": "markdown",
   "metadata": {},
   "source": [
    "### Today's coding challenge..."
   ]
  },
  {
   "cell_type": "code",
   "execution_count": 3,
   "metadata": {
    "collapsed": true
   },
   "outputs": [],
   "source": [
    "import pickle\n",
    "with open('gamelist.pkl', 'r') as picklefile:\n",
    "    gamelist = pickle.load(picklefile)"
   ]
  },
  {
   "cell_type": "code",
   "execution_count": 4,
   "metadata": {
    "collapsed": false
   },
   "outputs": [
    {
     "data": {
      "text/plain": [
       "[['2009', '1', 'Pittsburgh Steelers', 'Tennessee Titans'],\n",
       " ['2009', '1', 'Minnesota Vikings', 'Cleveland Browns'],\n",
       " ['2009', '1', 'New York Giants', 'Washington Redskins'],\n",
       " ['2009', '1', 'San Francisco 49ers', 'Arizona Cardinals'],\n",
       " ['2009', '1', 'Seattle Seahawks', 'St. Louis Rams'],\n",
       " ['2009', '1', 'Philadelphia Eagles', 'Carolina Panthers'],\n",
       " ['2009', '1', 'New York Jets', 'Houston Texans'],\n",
       " ['2009', '1', 'Atlanta Falcons', 'Miami Dolphins'],\n",
       " ['2009', '1', 'Baltimore Ravens', 'Kansas City Chiefs'],\n",
       " ['2009', '1', 'Indianapolis Colts', 'Jacksonville Jaguars']]"
      ]
     },
     "execution_count": 4,
     "metadata": {},
     "output_type": "execute_result"
    }
   ],
   "source": [
    "gamelist[:10]"
   ]
  },
  {
   "cell_type": "markdown",
   "metadata": {},
   "source": [
    "Add an instance method called count_total_wins to the definition for the Team class.\n",
    "\n",
    "The method should take no arguments (except self), and should return the number of games the team won during the period this data set describes.\n",
    "\n",
    "Use the instance method to assign the number of wins by the \"Denver Broncos\" to broncos_wins."
   ]
  },
  {
   "cell_type": "code",
   "execution_count": 7,
   "metadata": {
    "collapsed": true
   },
   "outputs": [],
   "source": [
    "class Team():\n",
    "    def __init__(self, name):\n",
    "        self.name = name\n",
    "\n",
    "    def print_name(self):\n",
    "        print(self.name)\n",
    "        \n",
    "    # Your method goes here\n",
    "    def count_total_wins(self):\n",
    "        count = 0\n",
    "        for row in gamelist:\n",
    "            if row[2] == self.name and row[0] =='2009': # we modified this line after the initial exercise to 2009\n",
    "                count +=1\n",
    "            else:\n",
    "                pass\n",
    "        return count\n"
   ]
  },
  {
   "cell_type": "code",
   "execution_count": 8,
   "metadata": {
    "collapsed": false
   },
   "outputs": [
    {
     "data": {
      "text/plain": [
       "6"
      ]
     },
     "execution_count": 8,
     "metadata": {},
     "output_type": "execute_result"
    }
   ],
   "source": [
    "# with the addition of your method above, this code should yield a number\n",
    "\n",
    "denver_broncos = Team(\"Denver Broncos\")\n",
    "broncos_wins = denver_broncos.count_total_wins()\n",
    "broncos_wins"
   ]
  },
  {
   "cell_type": "code",
   "execution_count": null,
   "metadata": {
    "collapsed": true
   },
   "outputs": [],
   "source": []
  }
 ],
 "metadata": {
  "anaconda-cloud": {},
  "kernelspec": {
   "display_name": "Python [conda root]",
   "language": "python",
   "name": "conda-root-py"
  },
  "language_info": {
   "codemirror_mode": {
    "name": "ipython",
    "version": 2
   },
   "file_extension": ".py",
   "mimetype": "text/x-python",
   "name": "python",
   "nbconvert_exporter": "python",
   "pygments_lexer": "ipython2",
   "version": "2.7.12"
  }
 },
 "nbformat": 4,
 "nbformat_minor": 1
}
