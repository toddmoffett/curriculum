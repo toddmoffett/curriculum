{
 "cells": [
  {
   "cell_type": "markdown",
   "metadata": {},
   "source": [
    "### Classes Primer"
   ]
  },
  {
   "cell_type": "markdown",
   "metadata": {},
   "source": [
    "<img src =\"cookiecutter.JPG\" width=400px>"
   ]
  },
  {
   "cell_type": "markdown",
   "metadata": {},
   "source": [
    "<b> A class is a template for new objects. </b> So, if we have a Car class with color, make, and model properties, we can create many different instances of the Car class, and they will all have their own values for those properties. <br><br> An instance is an object created from a template, or class. silver_honda_accord is an instance of the Car class. If we wanted to create a red_toyota_camry instance, we could do so, and it would have its own color, make, and model values."
   ]
  },
  {
   "cell_type": "markdown",
   "metadata": {},
   "source": [
    " to start a class definition. Inside the class, we define a special function called \\__init__. This is where we define our properties."
   ]
  },
  {
   "cell_type": "code",
   "execution_count": 1,
   "metadata": {
    "collapsed": true
   },
   "outputs": [],
   "source": [
    "class Car():\n",
    "    def __init__(self, color, make, model):\n",
    "        self.color = color\n",
    "        self.make = make\n",
    "        self.model = model"
   ]
  },
  {
   "cell_type": "markdown",
   "metadata": {},
   "source": [
    "\\__init__ is a special method that the Python interpreter automatically calls whenever we create an instance of a class. Inside our class definition, we refer to properties using 'self.property_name'. "
   ]
  },
  {
   "cell_type": "markdown",
   "metadata": {},
   "source": [
    "Note that \\__init__ takes in a self parameter. This parameter refers to the current instance, and allows us to access and add to its properties. 'self' is passed in automatically when we call Car() which calls __init__\n"
   ]
  },
  {
   "cell_type": "code",
   "execution_count": 2,
   "metadata": {
    "collapsed": false
   },
   "outputs": [
    {
     "name": "stdout",
     "output_type": "stream",
     "text": [
      "silver\n",
      "honda\n",
      "accord\n"
     ]
    }
   ],
   "source": [
    "mycar = Car(\"silver\", \"honda\", \"accord\")\n",
    "print mycar.color\n",
    "print mycar.make\n",
    "print mycar.model"
   ]
  },
  {
   "cell_type": "code",
   "execution_count": 12,
   "metadata": {
    "collapsed": false
   },
   "outputs": [
    {
     "name": "stdout",
     "output_type": "stream",
     "text": [
      "Morris\n",
      "15\n",
      "Mr. Puds\n"
     ]
    }
   ],
   "source": [
    "class Animal(object):\n",
    "    is_alive = True\n",
    "    health = \"good\"\n",
    "    def __init__(self, name, age):\n",
    "        self.name = name\n",
    "        self.age = age\n",
    "    def description(self):\n",
    "        print self.name\n",
    "        print self.age\n",
    "        \n",
    "cat = Animal(\"Morris\", 5)\n",
    "mouse = Animal(\"GG\", 15)\n",
    "dog = Animal(\"Mr. Puds\", 100)\n",
    "\n",
    "print cat.name\n",
    "print mouse.age\n",
    "print dog.name"
   ]
  },
  {
   "cell_type": "code",
   "execution_count": 10,
   "metadata": {
    "collapsed": false
   },
   "outputs": [
    {
     "data": {
      "text/plain": [
       "'Morris'"
      ]
     },
     "execution_count": 10,
     "metadata": {},
     "output_type": "execute_result"
    }
   ],
   "source": [
    "cat.name"
   ]
  },
  {
   "cell_type": "code",
   "execution_count": 13,
   "metadata": {
    "collapsed": false
   },
   "outputs": [
    {
     "data": {
      "text/plain": [
       "'good'"
      ]
     },
     "execution_count": 13,
     "metadata": {},
     "output_type": "execute_result"
    }
   ],
   "source": [
    "cat.health"
   ]
  },
  {
   "cell_type": "markdown",
   "metadata": {},
   "source": [
    "### One class may inherit methods and attributes from another class:"
   ]
  },
  {
   "cell_type": "code",
   "execution_count": 23,
   "metadata": {
    "collapsed": false
   },
   "outputs": [
    {
     "name": "stdout",
     "output_type": "stream",
     "text": [
      "I'm a string that stands in for the contents of your shopping cart!\n",
      "I'm a string that stands in for your order history!\n",
      "ID: 888\n"
     ]
    }
   ],
   "source": [
    "class Customer(object):\n",
    "    is_alive = True\n",
    "    \"\"\"Produces objects that represent customers.\"\"\"\n",
    "    def __init__(self, customer_id):\n",
    "        self.customer_id = customer_id\n",
    "\n",
    "    def display_cart(self):\n",
    "        return \"I'm a string that stands in for the contents of your shopping cart!\"\n",
    "\n",
    "class VIPCustomer(Customer):\n",
    "    \"\"\"For customers of the repeat variety.\"\"\"\n",
    "    def display_order_history(self):\n",
    "        return \"I'm a string that stands in for your order history!\"\n",
    "\n",
    "mathilda = VIPCustomer(\"ID: 888\")\n",
    "\n",
    "print mathilda.display_cart()\n",
    "print mathilda.display_order_history()\n",
    "print mathilda.customer_id\n",
    "\n"
   ]
  },
  {
   "cell_type": "code",
   "execution_count": null,
   "metadata": {
    "collapsed": true
   },
   "outputs": [],
   "source": []
  },
  {
   "cell_type": "code",
   "execution_count": 16,
   "metadata": {
    "collapsed": true
   },
   "outputs": [],
   "source": [
    "mathilda.is_alive = False"
   ]
  },
  {
   "cell_type": "code",
   "execution_count": 17,
   "metadata": {
    "collapsed": false
   },
   "outputs": [
    {
     "name": "stdout",
     "output_type": "stream",
     "text": [
      "False\n"
     ]
    }
   ],
   "source": [
    "print mathilda.is_alive"
   ]
  },
  {
   "cell_type": "markdown",
   "metadata": {},
   "source": [
    "### Today's coding challenge..."
   ]
  },
  {
   "cell_type": "code",
   "execution_count": 5,
   "metadata": {
    "collapsed": false
   },
   "outputs": [],
   "source": [
    "import pandas as pd"
   ]
  },
  {
   "cell_type": "code",
   "execution_count": 24,
   "metadata": {
    "collapsed": false
   },
   "outputs": [],
   "source": [
    "import pickle\n",
    "with open('./gamelist.pkl', 'r') as picklefile:\n",
    "    gamelist = pickle.load(picklefile)"
   ]
  },
  {
   "cell_type": "code",
   "execution_count": 6,
   "metadata": {
    "collapsed": true
   },
   "outputs": [],
   "source": [
    "gamelist = pd.read_pickle('./gamelist.pkl')"
   ]
  },
  {
   "cell_type": "code",
   "execution_count": 27,
   "metadata": {
    "collapsed": false
   },
   "outputs": [
    {
     "data": {
      "text/plain": [
       "[['2009', '1', 'Pittsburgh Steelers', 'Tennessee Titans'],\n",
       " ['2009', '1', 'Minnesota Vikings', 'Cleveland Browns'],\n",
       " ['2009', '1', 'New York Giants', 'Washington Redskins'],\n",
       " ['2009', '1', 'San Francisco 49ers', 'Arizona Cardinals'],\n",
       " ['2009', '1', 'Seattle Seahawks', 'St. Louis Rams'],\n",
       " ['2009', '1', 'Philadelphia Eagles', 'Carolina Panthers'],\n",
       " ['2009', '1', 'New York Jets', 'Houston Texans'],\n",
       " ['2009', '1', 'Atlanta Falcons', 'Miami Dolphins'],\n",
       " ['2009', '1', 'Baltimore Ravens', 'Kansas City Chiefs'],\n",
       " ['2009', '1', 'Indianapolis Colts', 'Jacksonville Jaguars']]"
      ]
     },
     "execution_count": 27,
     "metadata": {},
     "output_type": "execute_result"
    }
   ],
   "source": [
    "gamelist[:10]"
   ]
  },
  {
   "cell_type": "markdown",
   "metadata": {},
   "source": [
    "Add an instance method called count_total_wins to the definition for the Team class.\n",
    "\n",
    "The method should take no arguments (except self), and should return the number of games the team won during the period this data set describes.\n",
    "\n",
    "Use the instance method to assign the number of wins by the \"Denver Broncos\" to broncos_wins."
   ]
  },
  {
   "cell_type": "code",
   "execution_count": 122,
   "metadata": {
    "collapsed": true
   },
   "outputs": [],
   "source": [
    "class Team():\n",
    "    \n",
    "    def __init__(self, name):\n",
    "        self.name = name\n",
    "\n",
    "    def print_name(self):\n",
    "        print(self.name)\n",
    "        \n",
    "    # Your method goes here\n",
    "    def total_games(self):\n",
    "        total_wins = 0\n",
    "        for w in gamelist:\n",
    "            if w[2] == self.name and w[0] == '2009':\n",
    "                total_wins += 1\n",
    "        return total_wins  \n",
    "            \n"
   ]
  },
  {
   "cell_type": "code",
   "execution_count": 123,
   "metadata": {
    "collapsed": false
   },
   "outputs": [
    {
     "data": {
      "text/plain": [
       "6"
      ]
     },
     "execution_count": 123,
     "metadata": {},
     "output_type": "execute_result"
    }
   ],
   "source": [
    "# with the addition of your method above, this code should yield a number\n",
    "\n",
    "# denver_broncos = Team(\"Denver Broncos\")\n",
    "denver_broncos = Team('Denver Broncos')\n",
    "# broncos_wins = denver_broncos.count_total_wins()\n",
    "denver_broncos.total_games()\n",
    "# broncos_wins"
   ]
  },
  {
   "cell_type": "code",
   "execution_count": 104,
   "metadata": {
    "collapsed": false
   },
   "outputs": [
    {
     "data": {
      "text/plain": [
       "0"
      ]
     },
     "execution_count": 104,
     "metadata": {},
     "output_type": "execute_result"
    }
   ],
   "source": [
    "denver_broncos.total_games()"
   ]
  },
  {
   "cell_type": "code",
   "execution_count": 148,
   "metadata": {
    "collapsed": false,
    "scrolled": false
   },
   "outputs": [
    {
     "data": {
      "text/plain": [
       "['2009', '1', 'New York Giants', 'Washington Redskins']"
      ]
     },
     "execution_count": 148,
     "metadata": {},
     "output_type": "execute_result"
    }
   ],
   "source": [
    "gamelist[2]"
   ]
  },
  {
   "cell_type": "code",
   "execution_count": null,
   "metadata": {
    "collapsed": true
   },
   "outputs": [],
   "source": []
  }
 ],
 "metadata": {
  "anaconda-cloud": {},
  "kernelspec": {
   "display_name": "Python [conda env:py27]",
   "language": "python",
   "name": "conda-env-py27-py"
  },
  "language_info": {
   "codemirror_mode": {
    "name": "ipython",
    "version": 2
   },
   "file_extension": ".py",
   "mimetype": "text/x-python",
   "name": "python",
   "nbconvert_exporter": "python",
   "pygments_lexer": "ipython2",
   "version": "2.7.12"
  }
 },
 "nbformat": 4,
 "nbformat_minor": 1
}
