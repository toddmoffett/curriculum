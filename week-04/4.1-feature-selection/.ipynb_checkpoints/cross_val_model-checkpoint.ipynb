{
 "cells": [
  {
   "cell_type": "code",
   "execution_count": 1,
   "metadata": {
    "collapsed": true
   },
   "outputs": [],
   "source": [
    "import pandas as pd\n",
    "import numpy as np"
   ]
  },
  {
   "cell_type": "code",
   "execution_count": 2,
   "metadata": {
    "collapsed": true
   },
   "outputs": [],
   "source": [
    "df = pd.read_csv('clean_auto_data.csv')"
   ]
  },
  {
   "cell_type": "code",
   "execution_count": 3,
   "metadata": {
    "collapsed": false
   },
   "outputs": [
    {
     "data": {
      "text/html": [
       "<div>\n",
       "<table border=\"1\" class=\"dataframe\">\n",
       "  <thead>\n",
       "    <tr style=\"text-align: right;\">\n",
       "      <th></th>\n",
       "      <th>mpg</th>\n",
       "      <th>cylinders</th>\n",
       "      <th>displacement</th>\n",
       "      <th>horsepower</th>\n",
       "      <th>weight</th>\n",
       "      <th>acceleration</th>\n",
       "      <th>model_year</th>\n",
       "    </tr>\n",
       "  </thead>\n",
       "  <tbody>\n",
       "    <tr>\n",
       "      <th>0</th>\n",
       "      <td>18.0</td>\n",
       "      <td>8</td>\n",
       "      <td>307.0</td>\n",
       "      <td>130.0</td>\n",
       "      <td>3504.0</td>\n",
       "      <td>12.0</td>\n",
       "      <td>70</td>\n",
       "    </tr>\n",
       "    <tr>\n",
       "      <th>1</th>\n",
       "      <td>15.0</td>\n",
       "      <td>8</td>\n",
       "      <td>350.0</td>\n",
       "      <td>165.0</td>\n",
       "      <td>3693.0</td>\n",
       "      <td>11.5</td>\n",
       "      <td>70</td>\n",
       "    </tr>\n",
       "    <tr>\n",
       "      <th>2</th>\n",
       "      <td>18.0</td>\n",
       "      <td>8</td>\n",
       "      <td>318.0</td>\n",
       "      <td>150.0</td>\n",
       "      <td>3436.0</td>\n",
       "      <td>11.0</td>\n",
       "      <td>70</td>\n",
       "    </tr>\n",
       "  </tbody>\n",
       "</table>\n",
       "</div>"
      ],
      "text/plain": [
       "    mpg  cylinders  displacement  horsepower  weight  acceleration  model_year\n",
       "0  18.0          8         307.0       130.0  3504.0          12.0          70\n",
       "1  15.0          8         350.0       165.0  3693.0          11.5          70\n",
       "2  18.0          8         318.0       150.0  3436.0          11.0          70"
      ]
     },
     "execution_count": 3,
     "metadata": {},
     "output_type": "execute_result"
    }
   ],
   "source": [
    "df.head(3)"
   ]
  },
  {
   "cell_type": "code",
   "execution_count": 28,
   "metadata": {
    "collapsed": true
   },
   "outputs": [],
   "source": [
    "df['cylinders'] = df['cylinders'].astype('category')"
   ]
  },
  {
   "cell_type": "code",
   "execution_count": 42,
   "metadata": {
    "collapsed": false
   },
   "outputs": [],
   "source": [
    "df['model_year'] = df['model_year'].astype('category')"
   ]
  },
  {
   "cell_type": "code",
   "execution_count": 29,
   "metadata": {
    "collapsed": false
   },
   "outputs": [
    {
     "data": {
      "text/plain": [
       "sklearn.cross_validation.KFold(n=392, n_folds=10, shuffle=True, random_state=43)"
      ]
     },
     "execution_count": 29,
     "metadata": {},
     "output_type": "execute_result"
    }
   ],
   "source": [
    "from sklearn.cross_validation import KFold\n",
    "kf = KFold(len(df), n_folds=10, shuffle=True, random_state=43)\n",
    "kf"
   ]
  },
  {
   "cell_type": "code",
   "execution_count": 30,
   "metadata": {
    "collapsed": true
   },
   "outputs": [],
   "source": [
    "import patsy\n",
    "import statsmodels.api as sm\n",
    "from sklearn.metrics import r2_score"
   ]
  },
  {
   "cell_type": "code",
   "execution_count": 64,
   "metadata": {
    "collapsed": false
   },
   "outputs": [],
   "source": [
    "\n",
    "Rsq_10xCV = []\n",
    "\n",
    "model_def = 'mpg ~ horsepower'\n",
    "\n",
    "for train_index, test_index in kf:\n",
    "    train_df = df.iloc[train_index]\n",
    "    y_train, X_train = patsy.dmatrices(model_def, \n",
    "                                       data=train_df, return_type='dataframe')\n",
    "    model = sm.OLS(y_train, X_train)\n",
    "    results = model.fit()\n",
    "    test_df = df.iloc[test_index]\n",
    "    y_test, X_test = patsy.dmatrices(model_def, \n",
    "                                     data=test_df, return_type='dataframe')\n",
    "    y_predicted = results.predict(X_test)\n",
    "    Rsq_10xCV.append(r2_score(y_predicted,y_test))\n",
    "\n",
    "\n",
    "\n"
   ]
  },
  {
   "cell_type": "code",
   "execution_count": 65,
   "metadata": {
    "collapsed": false
   },
   "outputs": [
    {
     "data": {
      "text/plain": [
       "0.25883699813491923"
      ]
     },
     "execution_count": 65,
     "metadata": {},
     "output_type": "execute_result"
    }
   ],
   "source": [
    "np.mean(Rsq_10xCV)"
   ]
  },
  {
   "cell_type": "code",
   "execution_count": 66,
   "metadata": {
    "collapsed": true
   },
   "outputs": [],
   "source": [
    "# 0.39\n",
    "# 0.43\n",
    "# 0.53\n",
    "# 0.78\n",
    "# 0.81"
   ]
  },
  {
   "cell_type": "code",
   "execution_count": 88,
   "metadata": {
    "collapsed": false
   },
   "outputs": [
    {
     "name": "stdout",
     "output_type": "stream",
     "text": [
      "alpha 0.2 R^2 outof_sample 0.0818667741443 R^2 in sample 0.202578121597\n",
      "alpha 0.1 R^2 outof_sample 0.179700639037 R^2 in sample 0.284060499872\n",
      "alpha -0.1 R^2 outof_sample 0.322937584136 R^2 in sample 0.402726896436\n",
      "alpha -0.2 R^2 outof_sample 0.374858400414 R^2 in sample 0.44543139265\n",
      "alpha -0.3 R^2 outof_sample 0.416848401772 R^2 in sample 0.479761413349\n",
      "alpha -0.4 R^2 outof_sample 0.450694042096 R^2 in sample 0.507230025403\n",
      "alpha -0.5 R^2 outof_sample 0.477825715592 R^2 in sample 0.529048529285\n",
      "alpha -0.6 R^2 outof_sample 0.49939708919 R^2 in sample 0.546193652985\n",
      "alpha -0.7 R^2 outof_sample 0.516344871176 R^2 in sample 0.559458194825\n",
      "alpha -1 R^2 outof_sample 0.546443302259 R^2 in sample 0.581886625725\n",
      "alpha -2 R^2 outof_sample 0.536505058605 R^2 in sample 0.56518123571\n",
      "alpha -4 R^2 outof_sample 0.410311022606 R^2 in sample 0.447672809047\n",
      "alpha -6 R^2 outof_sample 0.300016187918 R^2 in sample 0.347890955952\n",
      "alpha -9 R^2 outof_sample 0.184904149967 R^2 in sample 0.244589905114\n"
     ]
    }
   ],
   "source": [
    "\n",
    "outof_sample = []\n",
    "in_sample = []\n",
    "\n",
    "model_def = 'mpg ~ horsepower'\n",
    "alphas = [0.2,0.1,-0.1,-0.2,-0.3,-0.4,-0.5,-0.6,-0.7,-1,-2,-4,-6,-9]\n",
    "\n",
    "for al in alphas:\n",
    "    outof_sample = []\n",
    "    in_sample = []\n",
    "    for train_index, test_index in kf:\n",
    "        train_df = df.iloc[train_index]\n",
    "        y_train, X_train = patsy.dmatrices(model_def, \n",
    "                                           data=train_df, return_type='dataframe')\n",
    "        model = sm.OLS(y_train, X_train)\n",
    "        results = model.fit_regularized(alpha=al)\n",
    "        test_df = df.iloc[test_index]\n",
    "        in_sample.append(r2_score( results.predict(X_train) ,y_train))\n",
    "        y_test, X_test = patsy.dmatrices(model_def, \n",
    "                                         data=test_df, return_type='dataframe')\n",
    "        y_predicted = results.predict(X_test)\n",
    "        outof_sample.append(r2_score(y_predicted,y_test))\n",
    "    print 'alpha',al ,'R^2 outof_sample',np.mean(outof_sample),'R^2 in sample', np.mean(in_sample)\n",
    "\n",
    "\n"
   ]
  },
  {
   "cell_type": "code",
   "execution_count": 78,
   "metadata": {
    "collapsed": false
   },
   "outputs": [
    {
     "data": {
      "text/plain": [
       "0.32293758413566992"
      ]
     },
     "execution_count": 78,
     "metadata": {},
     "output_type": "execute_result"
    }
   ],
   "source": []
  },
  {
   "cell_type": "code",
   "execution_count": null,
   "metadata": {
    "collapsed": true
   },
   "outputs": [],
   "source": []
  },
  {
   "cell_type": "code",
   "execution_count": null,
   "metadata": {
    "collapsed": true
   },
   "outputs": [],
   "source": []
  }
 ],
 "metadata": {
  "anaconda-cloud": {},
  "kernelspec": {
   "display_name": "Python [conda env:py27]",
   "language": "python",
   "name": "conda-env-py27-py"
  },
  "language_info": {
   "codemirror_mode": {
    "name": "ipython",
    "version": 2
   },
   "file_extension": ".py",
   "mimetype": "text/x-python",
   "name": "python",
   "nbconvert_exporter": "python",
   "pygments_lexer": "ipython2",
   "version": "2.7.12"
  }
 },
 "nbformat": 4,
 "nbformat_minor": 0
}
