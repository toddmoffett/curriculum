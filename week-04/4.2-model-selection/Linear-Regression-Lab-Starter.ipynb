{
 "cells": [
  {
   "cell_type": "markdown",
   "metadata": {},
   "source": [
    "# Linear Regression Practice\n",
    "\n",
    "In this lab we are going to use a 1994 dataset that has detailed prices on items sold at over 400 Burguer King, Wendy's, KFC and Roy Roger restaurants in New Jersey and Pensylvania.\n",
    "\n",
    "Roy Roger https://en.wikipedia.org/wiki/Roy_Rogers_Restaurants\n",
    "\n",
    "\n",
    "The data set has zip-code level data on various items prices, characterisitics of the zip code population.\n",
    "\n",
    "The idea with this exercise is to see wheter fast-food restaurants charge higher prices in areas with a larger concentration of African Americans. "
   ]
  },
  {
   "cell_type": "markdown",
   "metadata": {},
   "source": [
    "<img src=\"fastfood.png\" width=600px>"
   ]
  },
  {
   "cell_type": "markdown",
   "metadata": {},
   "source": [
    "### Data Set Characteristics:  \n",
    "K. Graddy (1997), \"Do Fast-Food Chains Price Discriminate on the Race and Income Characteristics of an Area?\" Journal of Business and Economic Statistics 15, 391-401.\n",
    "http://people.brandeis.edu/~kgraddy/published%20papers/GraddyK_jbes1997.pdf\n",
    "\n",
    "    :Number of Instances: 410\n",
    "    \n",
    "    :Attribute Information\n",
    "    \n",
    "    psoda         price of medium soda, 1st wave\n",
    "    pfries        price of small fries, 1st wave\n",
    "    pentree       price entree (burger or chicken), 1st wave\n",
    "    wagest        starting wage, 1st wave\n",
    "    nmgrs         number of managers, 1st wave\n",
    "    nregs         number of registers, 1st wave\n",
    "    hrsopen       hours open, 1st wave\n",
    "    emp           number of employees, 1st wave\n",
    "    psoda2        price of medium soday, 2nd wave\n",
    "    pfries2       price of small fries, 2nd wave\n",
    "    pentree2      price entree, 2nd wave\n",
    "    wagest2       starting wage, 2nd wave\n",
    "    nmgrs2        number of managers, 2nd wave\n",
    "    nregs2        number of registers, 2nd wave\n",
    "    hrsopen2      hours open, 2nd wave\n",
    "    emp2          number of employees, 2nd wave\n",
    "    compown       =1 if company owned\n",
    "    chain         BK = 1, KFC = 2, Roy Rogers = 3, Wendy's = 4\n",
    "    density       population density, town\n",
    "    crmrte        crime rate, town\n",
    "    state         NJ = 1, PA = 2\n",
    "    prpblck       proportion black, zipcode\n",
    "    prppov        proportion in poverty, zipcode\n",
    "    prpncar       proportion no car, zipcode\n",
    "    hseval        median housing value, zipcode\n",
    "    nstores       number of stores, zipcode\n",
    "    income        median family income, zipcode\n",
    "    county        county label\n",
    "    lpsoda        log(psoda)\n",
    "    lpfries       log(pfries)\n",
    "    lhseval       log(hseval)\n",
    "    lincome       log(income)\n",
    "    ldensity      log(density)\n",
    "    NJ            =1 for New Jersey\n",
    "    BK            =1 if Burger King\n",
    "    KFC           =1 if Kentucky Fried Chicken\n",
    "    RR            =1 if Roy Rogers\n"
   ]
  },
  {
   "cell_type": "code",
   "execution_count": 14,
   "metadata": {
    "collapsed": false
   },
   "outputs": [],
   "source": [
    "# data modules\n",
    "import numpy as np\n",
    "import scipy.stats as stats\n",
    "import pandas as pd\n",
    "\n",
    "# plotting modules\n",
    "import matplotlib.pyplot as plt\n",
    "import seaborn as sns\n",
    "sns.set_style('whitegrid')\n",
    "\n",
    "# Stats/Regresions Packages\n",
    "from sklearn import linear_model\n",
    "from sklearn.metrics import mean_squared_error\n",
    "import patsy\n",
    "import statsmodels.api as sm\n",
    "from sklearn.metrics import r2_score\n",
    "\n",
    "# make sure charts appear in the notebook:\n",
    "%matplotlib inline\n",
    "%config InlineBackend.figure_format ='retina'"
   ]
  },
  {
   "cell_type": "markdown",
   "metadata": {},
   "source": [
    "#### 1. Read the data, print the last 5 rows, perform EDA (missing values, data types, describe)"
   ]
  },
  {
   "cell_type": "code",
   "execution_count": 26,
   "metadata": {
    "collapsed": false,
    "scrolled": true
   },
   "outputs": [
    {
     "data": {
      "text/html": [
       "<div>\n",
       "<table border=\"1\" class=\"dataframe\">\n",
       "  <thead>\n",
       "    <tr style=\"text-align: right;\">\n",
       "      <th></th>\n",
       "      <th>psoda</th>\n",
       "      <th>pfries</th>\n",
       "      <th>pentree</th>\n",
       "      <th>wagest</th>\n",
       "      <th>nmgrs</th>\n",
       "      <th>nregs</th>\n",
       "      <th>hrsopen</th>\n",
       "      <th>emp</th>\n",
       "      <th>psoda2</th>\n",
       "      <th>pfries2</th>\n",
       "      <th>...</th>\n",
       "      <th>county</th>\n",
       "      <th>lpsoda</th>\n",
       "      <th>lpfries</th>\n",
       "      <th>lhseval</th>\n",
       "      <th>lincome</th>\n",
       "      <th>ldensity</th>\n",
       "      <th>NJ</th>\n",
       "      <th>BK</th>\n",
       "      <th>KFC</th>\n",
       "      <th>RR</th>\n",
       "    </tr>\n",
       "  </thead>\n",
       "  <tbody>\n",
       "    <tr>\n",
       "      <th>405</th>\n",
       "      <td>1.11</td>\n",
       "      <td>1.05</td>\n",
       "      <td>0.94</td>\n",
       "      <td>4.50</td>\n",
       "      <td>3.0</td>\n",
       "      <td>2.0</td>\n",
       "      <td>12.5</td>\n",
       "      <td>10.0</td>\n",
       "      <td>1.11</td>\n",
       "      <td>1.11</td>\n",
       "      <td>...</td>\n",
       "      <td>20</td>\n",
       "      <td>0.104360</td>\n",
       "      <td>0.048790</td>\n",
       "      <td>11.94601</td>\n",
       "      <td>10.90837</td>\n",
       "      <td>7.253400</td>\n",
       "      <td>0</td>\n",
       "      <td>0</td>\n",
       "      <td>0</td>\n",
       "      <td>1</td>\n",
       "    </tr>\n",
       "    <tr>\n",
       "      <th>406</th>\n",
       "      <td>0.95</td>\n",
       "      <td>0.74</td>\n",
       "      <td>2.33</td>\n",
       "      <td>4.75</td>\n",
       "      <td>3.0</td>\n",
       "      <td>4.0</td>\n",
       "      <td>10.0</td>\n",
       "      <td>8.0</td>\n",
       "      <td>0.95</td>\n",
       "      <td>0.84</td>\n",
       "      <td>...</td>\n",
       "      <td>20</td>\n",
       "      <td>-0.051293</td>\n",
       "      <td>-0.301105</td>\n",
       "      <td>11.49476</td>\n",
       "      <td>10.61115</td>\n",
       "      <td>8.368465</td>\n",
       "      <td>0</td>\n",
       "      <td>0</td>\n",
       "      <td>1</td>\n",
       "      <td>0</td>\n",
       "    </tr>\n",
       "    <tr>\n",
       "      <th>407</th>\n",
       "      <td>0.97</td>\n",
       "      <td>0.84</td>\n",
       "      <td>0.91</td>\n",
       "      <td>4.25</td>\n",
       "      <td>4.0</td>\n",
       "      <td>3.0</td>\n",
       "      <td>18.0</td>\n",
       "      <td>35.0</td>\n",
       "      <td>0.97</td>\n",
       "      <td>0.86</td>\n",
       "      <td>...</td>\n",
       "      <td>20</td>\n",
       "      <td>-0.030459</td>\n",
       "      <td>-0.174353</td>\n",
       "      <td>11.49476</td>\n",
       "      <td>10.61115</td>\n",
       "      <td>8.368465</td>\n",
       "      <td>0</td>\n",
       "      <td>1</td>\n",
       "      <td>0</td>\n",
       "      <td>0</td>\n",
       "    </tr>\n",
       "    <tr>\n",
       "      <th>408</th>\n",
       "      <td>0.97</td>\n",
       "      <td>0.86</td>\n",
       "      <td>0.89</td>\n",
       "      <td>4.75</td>\n",
       "      <td>4.0</td>\n",
       "      <td>3.0</td>\n",
       "      <td>17.0</td>\n",
       "      <td>18.5</td>\n",
       "      <td>0.97</td>\n",
       "      <td>0.84</td>\n",
       "      <td>...</td>\n",
       "      <td>20</td>\n",
       "      <td>-0.030459</td>\n",
       "      <td>-0.150823</td>\n",
       "      <td>11.49476</td>\n",
       "      <td>10.61115</td>\n",
       "      <td>8.368465</td>\n",
       "      <td>0</td>\n",
       "      <td>1</td>\n",
       "      <td>0</td>\n",
       "      <td>0</td>\n",
       "    </tr>\n",
       "    <tr>\n",
       "      <th>409</th>\n",
       "      <td>1.02</td>\n",
       "      <td>0.89</td>\n",
       "      <td>0.90</td>\n",
       "      <td>4.50</td>\n",
       "      <td>3.0</td>\n",
       "      <td>3.0</td>\n",
       "      <td>15.0</td>\n",
       "      <td>29.0</td>\n",
       "      <td>1.02</td>\n",
       "      <td>0.94</td>\n",
       "      <td>...</td>\n",
       "      <td>3</td>\n",
       "      <td>0.019803</td>\n",
       "      <td>-0.116534</td>\n",
       "      <td>11.68435</td>\n",
       "      <td>10.53148</td>\n",
       "      <td>6.114567</td>\n",
       "      <td>0</td>\n",
       "      <td>1</td>\n",
       "      <td>0</td>\n",
       "      <td>0</td>\n",
       "    </tr>\n",
       "  </tbody>\n",
       "</table>\n",
       "<p>5 rows × 37 columns</p>\n",
       "</div>"
      ],
      "text/plain": [
       "     psoda  pfries  pentree  wagest  nmgrs  nregs  hrsopen   emp  psoda2  \\\n",
       "405   1.11    1.05     0.94    4.50    3.0    2.0     12.5  10.0    1.11   \n",
       "406   0.95    0.74     2.33    4.75    3.0    4.0     10.0   8.0    0.95   \n",
       "407   0.97    0.84     0.91    4.25    4.0    3.0     18.0  35.0    0.97   \n",
       "408   0.97    0.86     0.89    4.75    4.0    3.0     17.0  18.5    0.97   \n",
       "409   1.02    0.89     0.90    4.50    3.0    3.0     15.0  29.0    1.02   \n",
       "\n",
       "     pfries2 ...  county    lpsoda   lpfries   lhseval   lincome  ldensity  \\\n",
       "405     1.11 ...      20  0.104360  0.048790  11.94601  10.90837  7.253400   \n",
       "406     0.84 ...      20 -0.051293 -0.301105  11.49476  10.61115  8.368465   \n",
       "407     0.86 ...      20 -0.030459 -0.174353  11.49476  10.61115  8.368465   \n",
       "408     0.84 ...      20 -0.030459 -0.150823  11.49476  10.61115  8.368465   \n",
       "409     0.94 ...       3  0.019803 -0.116534  11.68435  10.53148  6.114567   \n",
       "\n",
       "     NJ  BK  KFC  RR  \n",
       "405   0   0    0   1  \n",
       "406   0   0    1   0  \n",
       "407   0   1    0   0  \n",
       "408   0   1    0   0  \n",
       "409   0   1    0   0  \n",
       "\n",
       "[5 rows x 37 columns]"
      ]
     },
     "execution_count": 26,
     "metadata": {},
     "output_type": "execute_result"
    }
   ],
   "source": [
    "path_to_file = 'discrim.csv' ## Change it to your path\n",
    "fast_food = pd.read_csv(path_to_file)\n",
    "fast_food.tail(5)"
   ]
  },
  {
   "cell_type": "code",
   "execution_count": 15,
   "metadata": {
    "collapsed": false
   },
   "outputs": [
    {
     "data": {
      "text/plain": [
       "Index([u'psoda', u'pfries', u'pentree', u'wagest', u'nmgrs', u'nregs',\n",
       "       u'hrsopen', u'emp', u'psoda2', u'pfries2', u'pentree2', u'wagest2',\n",
       "       u'nmgrs2', u'nregs2', u'hrsopen2', u'emp2', u'compown', u'chain',\n",
       "       u'density', u'crmrte', u'state', u'prpblck', u'prppov', u'prpncar',\n",
       "       u'hseval', u'nstores', u'income', u'county', u'lpsoda', u'lpfries',\n",
       "       u'lhseval', u'lincome', u'ldensity', u'NJ', u'BK', u'KFC', u'RR'],\n",
       "      dtype='object')"
      ]
     },
     "execution_count": 15,
     "metadata": {},
     "output_type": "execute_result"
    }
   ],
   "source": [
    "fast_food.columns"
   ]
  },
  {
   "cell_type": "code",
   "execution_count": 27,
   "metadata": {
    "collapsed": true
   },
   "outputs": [],
   "source": [
    "fast_food['crmrte'] = fast_food['crmrte'].astype('category')\n",
    "fast_food['county'] = fast_food['county'].astype('category')\n",
    "fast_food['state'] = fast_food['state'].astype('category')\n",
    "#fast_food['prpblck'] = fast_food['prpblck'].astype('category')\n",
    "#fast_food['prppov'] = fast_food['prppov'].astype('category')"
   ]
  },
  {
   "cell_type": "code",
   "execution_count": 28,
   "metadata": {
    "collapsed": false
   },
   "outputs": [
    {
     "data": {
      "text/plain": [
       "sklearn.cross_validation.KFold(n=410, n_folds=10, shuffle=True, random_state=43)"
      ]
     },
     "execution_count": 28,
     "metadata": {},
     "output_type": "execute_result"
    }
   ],
   "source": [
    "from sklearn.cross_validation import KFold\n",
    "kf = KFold(len(fast_food), n_folds=10, shuffle=True, random_state=43)\n",
    "kf"
   ]
  },
  {
   "cell_type": "code",
   "execution_count": 29,
   "metadata": {
    "collapsed": false
   },
   "outputs": [],
   "source": [
    "Rsq_10xCV = []\n",
    "\n",
    "model_def = 'psoda ~ county + prppov'\n",
    "\n",
    "for train_index, test_index in kf:\n",
    "    train_df = fast_food.iloc[train_index]\n",
    "    y_train, X_train = patsy.dmatrices(model_def, \n",
    "                                       data=fast_food, return_type='dataframe')\n",
    "    model = sm.OLS(y_train, X_train)\n",
    "    results = model.fit()\n",
    "    test_df = fast_food.iloc[test_index]\n",
    "    y_test, X_test = patsy.dmatrices(model_def, \n",
    "                                     data=fast_food, return_type='dataframe')\n",
    "    y_predicted = results.predict(X_test)\n",
    "    Rsq_10xCV.append(r2_score(y_predicted,y_test))"
   ]
  },
  {
   "cell_type": "code",
   "execution_count": 30,
   "metadata": {
    "collapsed": false
   },
   "outputs": [
    {
     "data": {
      "text/plain": [
       "-1.0384501756097557"
      ]
     },
     "execution_count": 30,
     "metadata": {},
     "output_type": "execute_result"
    }
   ],
   "source": [
    "np.mean(Rsq_10xCV)"
   ]
  },
  {
   "cell_type": "code",
   "execution_count": null,
   "metadata": {
    "collapsed": true
   },
   "outputs": [],
   "source": []
  }
 ],
 "metadata": {
  "anaconda-cloud": {},
  "kernelspec": {
   "display_name": "Python [conda env:py27]",
   "language": "python",
   "name": "conda-env-py27-py"
  },
  "language_info": {
   "codemirror_mode": {
    "name": "ipython",
    "version": 2
   },
   "file_extension": ".py",
   "mimetype": "text/x-python",
   "name": "python",
   "nbconvert_exporter": "python",
   "pygments_lexer": "ipython2",
   "version": "2.7.12"
  }
 },
 "nbformat": 4,
 "nbformat_minor": 0
}
