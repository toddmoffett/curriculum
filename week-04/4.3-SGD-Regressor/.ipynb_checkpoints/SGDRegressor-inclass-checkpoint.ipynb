{
 "cells": [
  {
   "cell_type": "markdown",
   "metadata": {},
   "source": [
    "# Wrangling Big Data"
   ]
  },
  {
   "cell_type": "markdown",
   "metadata": {},
   "source": [
    "<img src=\"assets/ml_map.png\" width=\"400px\">\n",
    "\n",
    "[source](http://scikit-learn.org/stable/tutorial/machine_learning_map/)"
   ]
  },
  {
   "cell_type": "markdown",
   "metadata": {},
   "source": [
    "![](assets/regression_ml_map.png)"
   ]
  },
  {
   "cell_type": "markdown",
   "metadata": {},
   "source": [
    "## Why Stochastic Gradient Descent? "
   ]
  },
  {
   "cell_type": "markdown",
   "metadata": {},
   "source": [
    "Per the `sklearn` documentation:\n",
    "\n",
    "> The advantages of Stochastic Gradient Descent are:\n",
    "> - Efficiency.\n",
    "> - Ease of implementation (lots of opportunities for code tuning).\n",
    "\n",
    "> The disadvantages of Stochastic Gradient Descent include:\n",
    "> - SGD requires a number of hyperparameters such as the regularization parameter and the number of iterations.\n",
    "> - SGD is sensitive to feature scaling."
   ]
  },
  {
   "cell_type": "markdown",
   "metadata": {},
   "source": [
    "Stated even more plainly:\n",
    "\n",
    "> [`SGDRegressor`](http://scikit-learn.org/stable/modules/generated/sklearn.linear_model.SGDRegressor.html#sklearn.linear_model.SGDRegressor) is well suited for regression problems with a large number of training samples (> 10.000), for other problems we recommend [`Ridge`](http://scikit-learn.org/stable/modules/generated/sklearn.linear_model.Ridge.html#sklearn.linear_model.Ridge), [`Lasso`](http://scikit-learn.org/stable/modules/generated/sklearn.linear_model.Lasso.html#sklearn.linear_model.Lasso), or [`ElasticNet`](http://scikit-learn.org/stable/modules/generated/sklearn.linear_model.ElasticNet.html#sklearn.linear_model.ElasticNet)."
   ]
  },
  {
   "cell_type": "markdown",
   "metadata": {},
   "source": [
    "![](assets/100K.png)"
   ]
  },
  {
   "cell_type": "markdown",
   "metadata": {},
   "source": [
    "## Out of the Box Comparison"
   ]
  },
  {
   "cell_type": "code",
   "execution_count": 1,
   "metadata": {
    "collapsed": false
   },
   "outputs": [],
   "source": [
    "from os import chdir; chdir('../../../lib/')\n",
    "from mglearn.datasets import load_extended_boston\n",
    "\n",
    "import matplotlib.pyplot as plt\n",
    "import numpy as np\n",
    "import pandas as pd\n",
    "import seaborn as sns\n",
    "\n",
    "from sklearn.model_selection import train_test_split\n",
    "%matplotlib inline"
   ]
  },
  {
   "cell_type": "markdown",
   "metadata": {},
   "source": [
    "### Domain and Dataset\n",
    "\n",
    "We are interested in comparing the performance of the standard `sklearn` linear regressors out of the box. As such, our \"dataset\" is the set of the following four linear regressors:\n",
    "\n",
    "- `sklearn.linear_model.LinearRegression`\n",
    "- `sklearn.linear_model.Ridge`\n",
    "- `sklearn.linear_model.Lasso`\n",
    "- `sklearn.linear_model.SGDRegressor`"
   ]
  },
  {
   "cell_type": "code",
   "execution_count": 2,
   "metadata": {
    "collapsed": true
   },
   "outputs": [],
   "source": [
    "from sklearn.linear_model import LinearRegression, Ridge, Lasso, SGDRegressor"
   ]
  },
  {
   "cell_type": "markdown",
   "metadata": {},
   "source": [
    "In order to perform the regression we will be using the \"extended boston\" dataset provided by the `mglearn` library. This library has 506 instances and 104 features. It is accompanied by a numeric target vector of quantitative values. It is a \"canonical\" linear regression dataset and is often used for learning linear regression concepts. "
   ]
  },
  {
   "cell_type": "code",
   "execution_count": 3,
   "metadata": {
    "collapsed": false
   },
   "outputs": [
    {
     "data": {
      "text/plain": [
       "((506, 104), (506,))"
      ]
     },
     "execution_count": 3,
     "metadata": {},
     "output_type": "execute_result"
    }
   ],
   "source": [
    "X, y = load_extended_boston()\n",
    "X.shape, y.shape"
   ]
  },
  {
   "cell_type": "markdown",
   "metadata": {},
   "source": [
    "**Note**: It is considered a best practice when using Stochastic Gradient Descent (and linear models in general) to scale onese data. We will be preprocessing our data using the `StandardScaler` included with `sklearn`."
   ]
  },
  {
   "cell_type": "code",
   "execution_count": 4,
   "metadata": {
    "collapsed": true
   },
   "outputs": [],
   "source": [
    "from sklearn.preprocessing import StandardScaler"
   ]
  },
  {
   "cell_type": "markdown",
   "metadata": {},
   "source": [
    "### Problem Statement\n",
    "\n",
    "Given the set of four linear regressors in their \"out-of-the-box\" state i.e. default, with no tuning parameters applied, we wish to see how these perform when applied to the same dataset. \n",
    "\n",
    "### Solution Statement\n",
    "\n",
    "As this is an exploratory problem, our solution will take the form of scores for each model presented in a plot. \n",
    "\n",
    "### Metric\n",
    "\n",
    "N/A\n",
    "\n",
    "### Benchmark\n",
    "\n",
    "N/A"
   ]
  },
  {
   "cell_type": "markdown",
   "metadata": {},
   "source": [
    "### Code Template"
   ]
  },
  {
   "cell_type": "code",
   "execution_count": 5,
   "metadata": {
    "collapsed": false
   },
   "outputs": [
    {
     "name": "stdout",
     "output_type": "stream",
     "text": [
      "0.952352643686\n",
      "0.605775489294\n"
     ]
    }
   ],
   "source": [
    "X_train, X_test, y_train, y_test = train_test_split(X, y, random_state=0)\n",
    "\n",
    "scaler = StandardScaler()\n",
    "scaler.fit(X_train)\n",
    "\n",
    "X_train = scaler.transform(X_train)\n",
    "X_test = scaler.transform(X_test)\n",
    "\n",
    "LR = LinearRegression()\n",
    "LR.fit(X_train, y_train)\n",
    "print LR.score(X_train, y_train)\n",
    "print LR.score(X_test, y_test)"
   ]
  },
  {
   "cell_type": "code",
   "execution_count": 6,
   "metadata": {
    "collapsed": true
   },
   "outputs": [],
   "source": [
    "def fit_and_score_linear_model(model, X, y):\n",
    "    X_train, X_test, y_train, y_test = train_test_split(X, y, random_state=0)\n",
    "\n",
    "    scaler = StandardScaler()\n",
    "    scaler.fit(X_train)\n",
    "\n",
    "    X_train = scaler.transform(X_train)\n",
    "    X_test = scaler.transform(X_test)\n",
    "\n",
    "    model.fit(X_train, y_train)\n",
    "    return {'model': model, \n",
    "            'train_score' : model.score(X_train, y_train), \n",
    "            'test_score': model.score(X_test, y_test)}"
   ]
  },
  {
   "cell_type": "code",
   "execution_count": 7,
   "metadata": {
    "collapsed": false
   },
   "outputs": [
    {
     "data": {
      "text/plain": [
       "{'model': LinearRegression(copy_X=True, fit_intercept=True, n_jobs=1, normalize=False),\n",
       " 'test_score': 0.60577548929355485,\n",
       " 'train_score': 0.95235264368642392}"
      ]
     },
     "execution_count": 7,
     "metadata": {},
     "output_type": "execute_result"
    }
   ],
   "source": [
    "fit_and_score_linear_model(LinearRegression(), X, y)"
   ]
  },
  {
   "cell_type": "code",
   "execution_count": 8,
   "metadata": {
    "collapsed": false
   },
   "outputs": [
    {
     "data": {
      "text/plain": [
       "{'model': Ridge(alpha=1.0, copy_X=True, fit_intercept=True, max_iter=None,\n",
       "    normalize=False, random_state=None, solver='auto', tol=0.001),\n",
       " 'test_score': 0.7835069238415826,\n",
       " 'train_score': 0.93829533097778184}"
      ]
     },
     "execution_count": 8,
     "metadata": {},
     "output_type": "execute_result"
    }
   ],
   "source": [
    "fit_and_score_linear_model(Ridge(), X, y)"
   ]
  },
  {
   "cell_type": "code",
   "execution_count": 9,
   "metadata": {
    "collapsed": false
   },
   "outputs": [
    {
     "data": {
      "text/plain": [
       "{'model': Lasso(alpha=1.0, copy_X=True, fit_intercept=True, max_iter=1000,\n",
       "    normalize=False, positive=False, precompute=False, random_state=None,\n",
       "    selection='cyclic', tol=0.0001, warm_start=False),\n",
       " 'test_score': 0.6745466746355937,\n",
       " 'train_score': 0.78765800246238171}"
      ]
     },
     "execution_count": 9,
     "metadata": {},
     "output_type": "execute_result"
    }
   ],
   "source": [
    "fit_and_score_linear_model(Lasso(), X, y)"
   ]
  },
  {
   "cell_type": "code",
   "execution_count": 10,
   "metadata": {
    "collapsed": false
   },
   "outputs": [
    {
     "data": {
      "text/plain": [
       "{'model': SGDRegressor(alpha=0.0001, average=False, epsilon=0.1, eta0=0.01,\n",
       "        fit_intercept=True, l1_ratio=0.15, learning_rate='invscaling',\n",
       "        loss='squared_loss', n_iter=5, penalty='l2', power_t=0.25,\n",
       "        random_state=None, shuffle=True, verbose=0, warm_start=False),\n",
       " 'test_score': 0.7263119248369867,\n",
       " 'train_score': 0.86236456216449275}"
      ]
     },
     "execution_count": 10,
     "metadata": {},
     "output_type": "execute_result"
    }
   ],
   "source": [
    "fit_and_score_linear_model(SGDRegressor(), X, y)"
   ]
  },
  {
   "cell_type": "code",
   "execution_count": 11,
   "metadata": {
    "collapsed": false
   },
   "outputs": [
    {
     "data": {
      "text/html": [
       "<div>\n",
       "<table border=\"1\" class=\"dataframe\">\n",
       "  <thead>\n",
       "    <tr style=\"text-align: right;\">\n",
       "      <th></th>\n",
       "      <th>model</th>\n",
       "      <th>test_score</th>\n",
       "      <th>train_score</th>\n",
       "    </tr>\n",
       "  </thead>\n",
       "  <tbody>\n",
       "    <tr>\n",
       "      <th>0</th>\n",
       "      <td>LinearRegression(copy_X=True, fit_intercept=Tr...</td>\n",
       "      <td>0.605775</td>\n",
       "      <td>0.952353</td>\n",
       "    </tr>\n",
       "    <tr>\n",
       "      <th>1</th>\n",
       "      <td>Ridge(alpha=1.0, copy_X=True, fit_intercept=Tr...</td>\n",
       "      <td>0.783507</td>\n",
       "      <td>0.938295</td>\n",
       "    </tr>\n",
       "    <tr>\n",
       "      <th>2</th>\n",
       "      <td>Lasso(alpha=1.0, copy_X=True, fit_intercept=Tr...</td>\n",
       "      <td>0.674547</td>\n",
       "      <td>0.787658</td>\n",
       "    </tr>\n",
       "    <tr>\n",
       "      <th>3</th>\n",
       "      <td>SGDRegressor(alpha=0.0001, average=False, epsi...</td>\n",
       "      <td>0.692251</td>\n",
       "      <td>0.847439</td>\n",
       "    </tr>\n",
       "  </tbody>\n",
       "</table>\n",
       "</div>"
      ],
      "text/plain": [
       "                                               model  test_score  train_score\n",
       "0  LinearRegression(copy_X=True, fit_intercept=Tr...    0.605775     0.952353\n",
       "1  Ridge(alpha=1.0, copy_X=True, fit_intercept=Tr...    0.783507     0.938295\n",
       "2  Lasso(alpha=1.0, copy_X=True, fit_intercept=Tr...    0.674547     0.787658\n",
       "3  SGDRegressor(alpha=0.0001, average=False, epsi...    0.692251     0.847439"
      ]
     },
     "execution_count": 11,
     "metadata": {},
     "output_type": "execute_result"
    }
   ],
   "source": [
    "fits = [fit_and_score_linear_model(LinearRegression(), X, y),\n",
    "        fit_and_score_linear_model(Ridge(), X, y),\n",
    "        fit_and_score_linear_model(Lasso(), X, y),\n",
    "        fit_and_score_linear_model(SGDRegressor(), X, y)]\n",
    "\n",
    "fits = pd.DataFrame(fits)\n",
    "fits"
   ]
  },
  {
   "cell_type": "markdown",
   "metadata": {},
   "source": [
    "### Pandas Munging to make Seaborn Happy"
   ]
  },
  {
   "cell_type": "code",
   "execution_count": 12,
   "metadata": {
    "collapsed": false
   },
   "outputs": [],
   "source": [
    "for_plot = pd.concat([fits[['model','test_score']],fits[['model','train_score']]])\n",
    "for_plot['model'] = for_plot['model'].astype(str).str.extract('(.+)\\(', expand=False)\n",
    "for_plot['type'] = ['test']*4+['train']*4\n",
    "for_plot['train_score'].fillna(for_plot['test_score'], inplace=True)\n",
    "for_plot.drop('test_score', inplace=True, axis=1)\n",
    "for_plot.columns = ['model', 'score', 'type']"
   ]
  },
  {
   "cell_type": "code",
   "execution_count": 13,
   "metadata": {
    "collapsed": false
   },
   "outputs": [
    {
     "data": {
      "image/png": "[encoded data removed]",
      "text/plain": [
       "<matplotlib.figure.Figure at 0x7f8034e5d810>"
      ]
     },
     "metadata": {},
     "output_type": "display_data"
    }
   ],
   "source": [
    "barplot = sns.barplot(x='model', y='score', hue='type', data=for_plot)"
   ]
  },
  {
   "cell_type": "markdown",
   "metadata": {},
   "source": [
    "### Conclusion\n",
    "\n",
    "SGD is pretty good. It does very well when analytical solutions are challenging (time, complexity). This is not the case here and it still did well. \n"
   ]
  },
  {
   "cell_type": "markdown",
   "metadata": {},
   "source": [
    "---"
   ]
  },
  {
   "cell_type": "markdown",
   "metadata": {},
   "source": [
    "### Domain and Dataset\n",
    "\n",
    "We are interested in comparing the timing performance of three standard `sklearn` linear regressors out of the box using datasets of different sizes. As such, our \"dataset\" is the set of the following three linear regressors:\n",
    "\n",
    "- `sklearn.linear_model.LinearRegression`\n",
    "- `sklearn.linear_model.Ridge`\n",
    "- `sklearn.linear_model.SGDRegressor`\n"
   ]
  },
  {
   "cell_type": "code",
   "execution_count": 14,
   "metadata": {
    "collapsed": true
   },
   "outputs": [],
   "source": [
    "from sklearn.linear_model import LinearRegression, Ridge, SGDRegressor"
   ]
  },
  {
   "cell_type": "markdown",
   "metadata": {},
   "source": [
    "In order to perform the regression we will be using the `make_regression` function built into provided by the `sklearn.datasets` library. This functions constructs a regression problem with a given number of instances and a given number of features features. It is accompanied by a numeric target vector of quantitative values."
   ]
  },
  {
   "cell_type": "code",
   "execution_count": 15,
   "metadata": {
    "collapsed": false
   },
   "outputs": [],
   "source": [
    "from time import time\n",
    "from sklearn import datasets\n",
    "X, y = datasets.make_regression(int(1e4), \n",
    "                                n_features=1000, \n",
    "                                noise=50.0)"
   ]
  },
  {
   "cell_type": "code",
   "execution_count": 16,
   "metadata": {
    "collapsed": false
   },
   "outputs": [
    {
     "data": {
      "text/plain": [
       "(10000, 1000)"
      ]
     },
     "execution_count": 16,
     "metadata": {},
     "output_type": "execute_result"
    }
   ],
   "source": [
    "X.shape"
   ]
  },
  {
   "cell_type": "markdown",
   "metadata": {},
   "source": [
    "**Note**: It is considered a best practice when using Stochastic Gradient Descent (and linear models in general) to scale onese data. We will be preprocessing our data using the `StandardScaler` included with `sklearn`."
   ]
  },
  {
   "cell_type": "code",
   "execution_count": 17,
   "metadata": {
    "collapsed": true
   },
   "outputs": [],
   "source": [
    "from sklearn.preprocessing import StandardScaler"
   ]
  },
  {
   "cell_type": "markdown",
   "metadata": {},
   "source": [
    "### Problem Statement\n",
    "\n",
    "Given the set of three linear regressors in their \"out-of-the-box\" state i.e. default, with no tuning parameters applied, we wish to see how these perform when applied to the regression datasets of varying sizes. \n",
    "\n",
    "### Solution Statement\n",
    "\n",
    "As this is an exploratory problem, our solution will take the form of scores for each model presented in a plot. \n",
    "\n",
    "### Metric\n",
    "\n",
    "N/A\n",
    "\n",
    "### Benchmark\n",
    "\n",
    "N/A"
   ]
  },
  {
   "cell_type": "markdown",
   "metadata": {},
   "source": [
    "### Code Template"
   ]
  },
  {
   "cell_type": "code",
   "execution_count": 19,
   "metadata": {
    "collapsed": false
   },
   "outputs": [
    {
     "data": {
      "text/plain": [
       "(0.89511265248211846, 2.2676889896392822)"
      ]
     },
     "execution_count": 19,
     "metadata": {},
     "output_type": "execute_result"
    }
   ],
   "source": [
    "start = time()\n",
    "fit = fit_and_score_linear_model(LinearRegression(), X, y)\n",
    "end = time()\n",
    "fit['test_score'], end - start"
   ]
  },
  {
   "cell_type": "code",
   "execution_count": 20,
   "metadata": {
    "collapsed": true
   },
   "outputs": [],
   "source": [
    "def time_train_score_for_LM_of_size_n(model, n):\n",
    "    X, y = datasets.make_regression(int(n),\n",
    "                                    n_features=1000, \n",
    "                                    noise=50.0)\n",
    "    start = time()\n",
    "    fit = fit_and_score_linear_model(model, X, y)\n",
    "    end = time()\n",
    "    return {'score': fit['test_score'], 'time': end - start}"
   ]
  },
  {
   "cell_type": "code",
   "execution_count": 21,
   "metadata": {
    "collapsed": false
   },
   "outputs": [],
   "source": [
    "results = []\n",
    "for n in [1e2, 1e3, 1e4]:\n",
    "    res_dict = time_train_score_for_LM_of_size_n(LinearRegression(), n)\n",
    "    res_dict['type'] = 'LR'\n",
    "    res_dict['n'] = n\n",
    "    results.append(res_dict)\n",
    "    \n",
    "    res_dict = time_train_score_for_LM_of_size_n(SGDRegressor(), n)\n",
    "    res_dict['type'] = 'SGD'\n",
    "    res_dict['n'] = n\n",
    "    results.append(res_dict)\n",
    "    \n",
    "    res_dict = time_train_score_for_LM_of_size_n(Ridge(), n)\n",
    "    res_dict['type'] = 'Ridge'\n",
    "    res_dict['n'] = n\n",
    "    results.append(res_dict)\n",
    "    "
   ]
  },
  {
   "cell_type": "code",
   "execution_count": 22,
   "metadata": {
    "collapsed": false
   },
   "outputs": [
    {
     "data": {
      "text/html": [
       "<div>\n",
       "<table border=\"1\" class=\"dataframe\">\n",
       "  <thead>\n",
       "    <tr style=\"text-align: right;\">\n",
       "      <th></th>\n",
       "      <th>n</th>\n",
       "      <th>score</th>\n",
       "      <th>time</th>\n",
       "      <th>type</th>\n",
       "    </tr>\n",
       "  </thead>\n",
       "  <tbody>\n",
       "    <tr>\n",
       "      <th>0</th>\n",
       "      <td>100.0</td>\n",
       "      <td>0.171958</td>\n",
       "      <td>0.051768</td>\n",
       "      <td>LR</td>\n",
       "    </tr>\n",
       "    <tr>\n",
       "      <th>1</th>\n",
       "      <td>100.0</td>\n",
       "      <td>-8465.853011</td>\n",
       "      <td>0.007950</td>\n",
       "      <td>SGD</td>\n",
       "    </tr>\n",
       "    <tr>\n",
       "      <th>2</th>\n",
       "      <td>100.0</td>\n",
       "      <td>0.096066</td>\n",
       "      <td>0.005598</td>\n",
       "      <td>Ridge</td>\n",
       "    </tr>\n",
       "    <tr>\n",
       "      <th>3</th>\n",
       "      <td>1000.0</td>\n",
       "      <td>0.525432</td>\n",
       "      <td>0.566440</td>\n",
       "      <td>LR</td>\n",
       "    </tr>\n",
       "    <tr>\n",
       "      <th>4</th>\n",
       "      <td>1000.0</td>\n",
       "      <td>-0.024337</td>\n",
       "      <td>0.131099</td>\n",
       "      <td>SGD</td>\n",
       "    </tr>\n",
       "    <tr>\n",
       "      <th>5</th>\n",
       "      <td>1000.0</td>\n",
       "      <td>0.418493</td>\n",
       "      <td>0.059535</td>\n",
       "      <td>Ridge</td>\n",
       "    </tr>\n",
       "    <tr>\n",
       "      <th>6</th>\n",
       "      <td>10000.0</td>\n",
       "      <td>0.945126</td>\n",
       "      <td>2.339303</td>\n",
       "      <td>LR</td>\n",
       "    </tr>\n",
       "    <tr>\n",
       "      <th>7</th>\n",
       "      <td>10000.0</td>\n",
       "      <td>0.894275</td>\n",
       "      <td>0.355350</td>\n",
       "      <td>SGD</td>\n",
       "    </tr>\n",
       "    <tr>\n",
       "      <th>8</th>\n",
       "      <td>10000.0</td>\n",
       "      <td>0.907743</td>\n",
       "      <td>0.735086</td>\n",
       "      <td>Ridge</td>\n",
       "    </tr>\n",
       "  </tbody>\n",
       "</table>\n",
       "</div>"
      ],
      "text/plain": [
       "         n        score      time   type\n",
       "0    100.0     0.171958  0.051768     LR\n",
       "1    100.0 -8465.853011  0.007950    SGD\n",
       "2    100.0     0.096066  0.005598  Ridge\n",
       "3   1000.0     0.525432  0.566440     LR\n",
       "4   1000.0    -0.024337  0.131099    SGD\n",
       "5   1000.0     0.418493  0.059535  Ridge\n",
       "6  10000.0     0.945126  2.339303     LR\n",
       "7  10000.0     0.894275  0.355350    SGD\n",
       "8  10000.0     0.907743  0.735086  Ridge"
      ]
     },
     "execution_count": 22,
     "metadata": {},
     "output_type": "execute_result"
    },
    {
     "name": "stderr",
     "output_type": "stream",
     "text": [
      "/opt/conda/envs/python2/lib/python2.7/site-packages/matplotlib/scale.py:101: RuntimeWarning: invalid value encountered in less_equal\n",
      "  a[a <= 0.0] = 1e-300\n"
     ]
    },
    {
     "data": {
      "image/png": "[encoded data removed]",
      "text/plain": [
       "<matplotlib.figure.Figure at 0x7f7ff3e7fcd0>"
      ]
     },
     "metadata": {},
     "output_type": "display_data"
    }
   ],
   "source": [
    "results_df = pd.DataFrame(results)\n",
    "sns.barplot(x='n', y='time', hue='type', data=results_df)\n",
    "plt.yscale('log')\n",
    "results_df"
   ]
  },
  {
   "cell_type": "markdown",
   "metadata": {},
   "source": [
    "### Tuning Our Linear Models"
   ]
  },
  {
   "cell_type": "markdown",
   "metadata": {},
   "source": [
    "### Domain and Dataset\n",
    "\n",
    "We are interested in comparing the performance of two standard `sklearn` linear regressors after they have been tuned. As such, our \"dataset\" is the set of the following two linear regressors:\n",
    "\n",
    "- `sklearn.linear_model.Ridge`\n",
    "- `sklearn.linear_model.SGDRegressor`\n"
   ]
  },
  {
   "cell_type": "code",
   "execution_count": 23,
   "metadata": {
    "collapsed": true
   },
   "outputs": [],
   "source": [
    "from sklearn.linear_model import Ridge, SGDRegressor"
   ]
  },
  {
   "cell_type": "markdown",
   "metadata": {},
   "source": [
    "In order to perform the regression we will be using the `make_regression` function built into provided by the `sklearn.datasets` library. This functions constructs a regression problem with a given number of instances and a given number of features features. It is accompanied by a numeric target vector of quantitative values."
   ]
  },
  {
   "cell_type": "markdown",
   "metadata": {},
   "source": [
    "We will use it to construct a regression problem with 1000000 instances and 1000 features."
   ]
  },
  {
   "cell_type": "code",
   "execution_count": 24,
   "metadata": {
    "collapsed": false
   },
   "outputs": [],
   "source": [
    "from time import time\n",
    "from sklearn import datasets\n",
    "X, y = datasets.make_regression(int(1e5), \n",
    "                                n_features=1000, \n",
    "                                noise=75.0)"
   ]
  },
  {
   "cell_type": "code",
   "execution_count": 25,
   "metadata": {
    "collapsed": false
   },
   "outputs": [
    {
     "data": {
      "text/plain": [
       "(100000, 1000)"
      ]
     },
     "execution_count": 25,
     "metadata": {},
     "output_type": "execute_result"
    }
   ],
   "source": [
    "X.shape"
   ]
  },
  {
   "cell_type": "markdown",
   "metadata": {},
   "source": [
    "**Note**: It is considered a best practice when using Stochastic Gradient Descent (and linear models in general) to scale onese data. We will be preprocessing our data using the `StandardScaler` included with `sklearn`."
   ]
  },
  {
   "cell_type": "code",
   "execution_count": 26,
   "metadata": {
    "collapsed": true
   },
   "outputs": [],
   "source": [
    "from sklearn.preprocessing import StandardScaler"
   ]
  },
  {
   "cell_type": "markdown",
   "metadata": {},
   "source": [
    "### Problem Statement\n",
    "\n",
    "Given the set of two linear regressors, we wish to see how these perform when tuned for performance against a large dataset. \n",
    "\n",
    "### Solution Statement\n",
    "\n",
    "As this is an exploratory problem, our solution will take the form of scores for each model presented in a plot. \n",
    "\n",
    "### Metric\n",
    "\n",
    "We will use the default regression scorer, the $R^2$ and its performance against the test set. We will also be looking at time. \n",
    "\n",
    "### Benchmark\n",
    "\n",
    "We will use the performance of the default `Ridge` regression as our benchmark performance and model."
   ]
  },
  {
   "cell_type": "code",
   "execution_count": 27,
   "metadata": {
    "collapsed": false
   },
   "outputs": [
    {
     "name": "stdout",
     "output_type": "stream",
     "text": [
      "13.5941748619 0.844875460956\n"
     ]
    }
   ],
   "source": [
    "start = time()\n",
    "fit = fit_and_score_linear_model(Ridge(), X, y)\n",
    "end = time()\n",
    "print end-start, fit['test_score']"
   ]
  },
  {
   "cell_type": "markdown",
   "metadata": {},
   "source": [
    "We have a benchmark time of 9.986 seconds and a benchmark $R^2$ score of $0.886262$."
   ]
  },
  {
   "cell_type": "markdown",
   "metadata": {},
   "source": [
    "### Tune the Ridge Regression\n"
   ]
  },
  {
   "cell_type": "code",
   "execution_count": 28,
   "metadata": {
    "collapsed": false
   },
   "outputs": [
    {
     "name": "stdout",
     "output_type": "stream",
     "text": [
      "0.001\n",
      "0.01\n",
      "0.1\n",
      "1.0\n",
      "2\n",
      "5\n",
      "10\n"
     ]
    },
    {
     "data": {
      "text/html": [
       "<div>\n",
       "<table border=\"1\" class=\"dataframe\">\n",
       "  <thead>\n",
       "    <tr style=\"text-align: right;\">\n",
       "      <th></th>\n",
       "      <th>alpha</th>\n",
       "      <th>n</th>\n",
       "      <th>score</th>\n",
       "      <th>time</th>\n",
       "      <th>type</th>\n",
       "    </tr>\n",
       "  </thead>\n",
       "  <tbody>\n",
       "    <tr>\n",
       "      <th>0</th>\n",
       "      <td>NaN</td>\n",
       "      <td>100.0</td>\n",
       "      <td>0.171958</td>\n",
       "      <td>0.051768</td>\n",
       "      <td>LR</td>\n",
       "    </tr>\n",
       "    <tr>\n",
       "      <th>1</th>\n",
       "      <td>NaN</td>\n",
       "      <td>100.0</td>\n",
       "      <td>-8465.853011</td>\n",
       "      <td>0.007950</td>\n",
       "      <td>SGD</td>\n",
       "    </tr>\n",
       "    <tr>\n",
       "      <th>2</th>\n",
       "      <td>NaN</td>\n",
       "      <td>100.0</td>\n",
       "      <td>0.096066</td>\n",
       "      <td>0.005598</td>\n",
       "      <td>Ridge</td>\n",
       "    </tr>\n",
       "    <tr>\n",
       "      <th>3</th>\n",
       "      <td>NaN</td>\n",
       "      <td>1000.0</td>\n",
       "      <td>0.525432</td>\n",
       "      <td>0.566440</td>\n",
       "      <td>LR</td>\n",
       "    </tr>\n",
       "    <tr>\n",
       "      <th>4</th>\n",
       "      <td>NaN</td>\n",
       "      <td>1000.0</td>\n",
       "      <td>-0.024337</td>\n",
       "      <td>0.131099</td>\n",
       "      <td>SGD</td>\n",
       "    </tr>\n",
       "    <tr>\n",
       "      <th>5</th>\n",
       "      <td>NaN</td>\n",
       "      <td>1000.0</td>\n",
       "      <td>0.418493</td>\n",
       "      <td>0.059535</td>\n",
       "      <td>Ridge</td>\n",
       "    </tr>\n",
       "    <tr>\n",
       "      <th>6</th>\n",
       "      <td>NaN</td>\n",
       "      <td>10000.0</td>\n",
       "      <td>0.945126</td>\n",
       "      <td>2.339303</td>\n",
       "      <td>LR</td>\n",
       "    </tr>\n",
       "    <tr>\n",
       "      <th>7</th>\n",
       "      <td>NaN</td>\n",
       "      <td>10000.0</td>\n",
       "      <td>0.894275</td>\n",
       "      <td>0.355350</td>\n",
       "      <td>SGD</td>\n",
       "    </tr>\n",
       "    <tr>\n",
       "      <th>8</th>\n",
       "      <td>NaN</td>\n",
       "      <td>10000.0</td>\n",
       "      <td>0.907743</td>\n",
       "      <td>0.735086</td>\n",
       "      <td>Ridge</td>\n",
       "    </tr>\n",
       "    <tr>\n",
       "      <th>9</th>\n",
       "      <td>0.001</td>\n",
       "      <td>NaN</td>\n",
       "      <td>0.844875</td>\n",
       "      <td>14.657401</td>\n",
       "      <td>ridge</td>\n",
       "    </tr>\n",
       "    <tr>\n",
       "      <th>10</th>\n",
       "      <td>0.010</td>\n",
       "      <td>NaN</td>\n",
       "      <td>0.844875</td>\n",
       "      <td>12.768640</td>\n",
       "      <td>ridge</td>\n",
       "    </tr>\n",
       "    <tr>\n",
       "      <th>11</th>\n",
       "      <td>0.100</td>\n",
       "      <td>NaN</td>\n",
       "      <td>0.844875</td>\n",
       "      <td>15.808853</td>\n",
       "      <td>ridge</td>\n",
       "    </tr>\n",
       "    <tr>\n",
       "      <th>12</th>\n",
       "      <td>1.000</td>\n",
       "      <td>NaN</td>\n",
       "      <td>0.844875</td>\n",
       "      <td>13.231027</td>\n",
       "      <td>ridge</td>\n",
       "    </tr>\n",
       "    <tr>\n",
       "      <th>13</th>\n",
       "      <td>2.000</td>\n",
       "      <td>NaN</td>\n",
       "      <td>0.844876</td>\n",
       "      <td>8.965973</td>\n",
       "      <td>ridge</td>\n",
       "    </tr>\n",
       "    <tr>\n",
       "      <th>14</th>\n",
       "      <td>5.000</td>\n",
       "      <td>NaN</td>\n",
       "      <td>0.844876</td>\n",
       "      <td>6.688690</td>\n",
       "      <td>ridge</td>\n",
       "    </tr>\n",
       "    <tr>\n",
       "      <th>15</th>\n",
       "      <td>10.000</td>\n",
       "      <td>NaN</td>\n",
       "      <td>0.844876</td>\n",
       "      <td>6.791274</td>\n",
       "      <td>ridge</td>\n",
       "    </tr>\n",
       "  </tbody>\n",
       "</table>\n",
       "</div>"
      ],
      "text/plain": [
       "     alpha        n        score       time   type\n",
       "0      NaN    100.0     0.171958   0.051768     LR\n",
       "1      NaN    100.0 -8465.853011   0.007950    SGD\n",
       "2      NaN    100.0     0.096066   0.005598  Ridge\n",
       "3      NaN   1000.0     0.525432   0.566440     LR\n",
       "4      NaN   1000.0    -0.024337   0.131099    SGD\n",
       "5      NaN   1000.0     0.418493   0.059535  Ridge\n",
       "6      NaN  10000.0     0.945126   2.339303     LR\n",
       "7      NaN  10000.0     0.894275   0.355350    SGD\n",
       "8      NaN  10000.0     0.907743   0.735086  Ridge\n",
       "9    0.001      NaN     0.844875  14.657401  ridge\n",
       "10   0.010      NaN     0.844875  12.768640  ridge\n",
       "11   0.100      NaN     0.844875  15.808853  ridge\n",
       "12   1.000      NaN     0.844875  13.231027  ridge\n",
       "13   2.000      NaN     0.844876   8.965973  ridge\n",
       "14   5.000      NaN     0.844876   6.688690  ridge\n",
       "15  10.000      NaN     0.844876   6.791274  ridge"
      ]
     },
     "execution_count": 28,
     "metadata": {},
     "output_type": "execute_result"
    }
   ],
   "source": [
    "ridge_results = []\n",
    "alphas = [0.001, 0.01, 0.1, 1.0, 2, 5, 10]\n",
    "for alpha in alphas:\n",
    "    print alpha\n",
    "    start = time()\n",
    "    fit = fit_and_score_linear_model(Ridge(alpha=alpha), X, y)\n",
    "    end = time()\n",
    "    results.append({'alpha': alpha,\n",
    "                    'type' : 'ridge', \n",
    "                   'score' : fit['test_score'],\n",
    "                   'time' : end-start})\n",
    "results_df = pd.DataFrame(results)\n",
    "results_df    "
   ]
  },
  {
   "cell_type": "code",
   "execution_count": 31,
   "metadata": {
    "collapsed": false
   },
   "outputs": [
    {
     "data": {
      "text/html": [
       "<div>\n",
       "<table border=\"1\" class=\"dataframe\">\n",
       "  <thead>\n",
       "    <tr style=\"text-align: right;\">\n",
       "      <th></th>\n",
       "      <th>alpha</th>\n",
       "      <th>n</th>\n",
       "      <th>score</th>\n",
       "      <th>time</th>\n",
       "      <th>type</th>\n",
       "    </tr>\n",
       "  </thead>\n",
       "  <tbody>\n",
       "    <tr>\n",
       "      <th>0</th>\n",
       "      <td>NaN</td>\n",
       "      <td>100.0</td>\n",
       "      <td>0.171958</td>\n",
       "      <td>0.051768</td>\n",
       "      <td>LR</td>\n",
       "    </tr>\n",
       "    <tr>\n",
       "      <th>1</th>\n",
       "      <td>NaN</td>\n",
       "      <td>100.0</td>\n",
       "      <td>-8465.853011</td>\n",
       "      <td>0.007950</td>\n",
       "      <td>SGD</td>\n",
       "    </tr>\n",
       "    <tr>\n",
       "      <th>2</th>\n",
       "      <td>NaN</td>\n",
       "      <td>100.0</td>\n",
       "      <td>0.096066</td>\n",
       "      <td>0.005598</td>\n",
       "      <td>Ridge</td>\n",
       "    </tr>\n",
       "    <tr>\n",
       "      <th>3</th>\n",
       "      <td>NaN</td>\n",
       "      <td>1000.0</td>\n",
       "      <td>0.525432</td>\n",
       "      <td>0.566440</td>\n",
       "      <td>LR</td>\n",
       "    </tr>\n",
       "    <tr>\n",
       "      <th>4</th>\n",
       "      <td>NaN</td>\n",
       "      <td>1000.0</td>\n",
       "      <td>-0.024337</td>\n",
       "      <td>0.131099</td>\n",
       "      <td>SGD</td>\n",
       "    </tr>\n",
       "    <tr>\n",
       "      <th>5</th>\n",
       "      <td>NaN</td>\n",
       "      <td>1000.0</td>\n",
       "      <td>0.418493</td>\n",
       "      <td>0.059535</td>\n",
       "      <td>Ridge</td>\n",
       "    </tr>\n",
       "    <tr>\n",
       "      <th>6</th>\n",
       "      <td>NaN</td>\n",
       "      <td>10000.0</td>\n",
       "      <td>0.945126</td>\n",
       "      <td>2.339303</td>\n",
       "      <td>LR</td>\n",
       "    </tr>\n",
       "    <tr>\n",
       "      <th>7</th>\n",
       "      <td>NaN</td>\n",
       "      <td>10000.0</td>\n",
       "      <td>0.894275</td>\n",
       "      <td>0.355350</td>\n",
       "      <td>SGD</td>\n",
       "    </tr>\n",
       "    <tr>\n",
       "      <th>8</th>\n",
       "      <td>NaN</td>\n",
       "      <td>10000.0</td>\n",
       "      <td>0.907743</td>\n",
       "      <td>0.735086</td>\n",
       "      <td>Ridge</td>\n",
       "    </tr>\n",
       "    <tr>\n",
       "      <th>9</th>\n",
       "      <td>0.001</td>\n",
       "      <td>NaN</td>\n",
       "      <td>0.844875</td>\n",
       "      <td>14.657401</td>\n",
       "      <td>ridge</td>\n",
       "    </tr>\n",
       "    <tr>\n",
       "      <th>10</th>\n",
       "      <td>0.010</td>\n",
       "      <td>NaN</td>\n",
       "      <td>0.844875</td>\n",
       "      <td>12.768640</td>\n",
       "      <td>ridge</td>\n",
       "    </tr>\n",
       "    <tr>\n",
       "      <th>11</th>\n",
       "      <td>0.100</td>\n",
       "      <td>NaN</td>\n",
       "      <td>0.844875</td>\n",
       "      <td>15.808853</td>\n",
       "      <td>ridge</td>\n",
       "    </tr>\n",
       "    <tr>\n",
       "      <th>12</th>\n",
       "      <td>1.000</td>\n",
       "      <td>NaN</td>\n",
       "      <td>0.844875</td>\n",
       "      <td>13.231027</td>\n",
       "      <td>ridge</td>\n",
       "    </tr>\n",
       "    <tr>\n",
       "      <th>13</th>\n",
       "      <td>2.000</td>\n",
       "      <td>NaN</td>\n",
       "      <td>0.844876</td>\n",
       "      <td>8.965973</td>\n",
       "      <td>ridge</td>\n",
       "    </tr>\n",
       "    <tr>\n",
       "      <th>14</th>\n",
       "      <td>5.000</td>\n",
       "      <td>NaN</td>\n",
       "      <td>0.844876</td>\n",
       "      <td>6.688690</td>\n",
       "      <td>ridge</td>\n",
       "    </tr>\n",
       "    <tr>\n",
       "      <th>15</th>\n",
       "      <td>10.000</td>\n",
       "      <td>NaN</td>\n",
       "      <td>0.844876</td>\n",
       "      <td>6.791274</td>\n",
       "      <td>ridge</td>\n",
       "    </tr>\n",
       "  </tbody>\n",
       "</table>\n",
       "</div>"
      ],
      "text/plain": [
       "     alpha        n        score       time   type\n",
       "0      NaN    100.0     0.171958   0.051768     LR\n",
       "1      NaN    100.0 -8465.853011   0.007950    SGD\n",
       "2      NaN    100.0     0.096066   0.005598  Ridge\n",
       "3      NaN   1000.0     0.525432   0.566440     LR\n",
       "4      NaN   1000.0    -0.024337   0.131099    SGD\n",
       "5      NaN   1000.0     0.418493   0.059535  Ridge\n",
       "6      NaN  10000.0     0.945126   2.339303     LR\n",
       "7      NaN  10000.0     0.894275   0.355350    SGD\n",
       "8      NaN  10000.0     0.907743   0.735086  Ridge\n",
       "9    0.001      NaN     0.844875  14.657401  ridge\n",
       "10   0.010      NaN     0.844875  12.768640  ridge\n",
       "11   0.100      NaN     0.844875  15.808853  ridge\n",
       "12   1.000      NaN     0.844875  13.231027  ridge\n",
       "13   2.000      NaN     0.844876   8.965973  ridge\n",
       "14   5.000      NaN     0.844876   6.688690  ridge\n",
       "15  10.000      NaN     0.844876   6.791274  ridge"
      ]
     },
     "execution_count": 31,
     "metadata": {},
     "output_type": "execute_result"
    }
   ],
   "source": [
    "results_df = pd.DataFrame(results)\n",
    "results_df"
   ]
  },
  {
   "cell_type": "code",
   "execution_count": 32,
   "metadata": {
    "collapsed": false
   },
   "outputs": [
    {
     "data": {
      "image/png": "[encoded data removed]",
      "text/plain": [
       "<matplotlib.figure.Figure at 0x7f7ff3ded8d0>"
      ]
     },
     "metadata": {},
     "output_type": "display_data"
    }
   ],
   "source": [
    "ridge_results_df = pd.DataFrame(results)\n",
    "plt.plot(results_df['alpha'],\n",
    "         results_df['score'])\n",
    "plt.xscale('log')"
   ]
  },
  {
   "cell_type": "code",
   "execution_count": 33,
   "metadata": {
    "collapsed": false
   },
   "outputs": [
    {
     "name": "stdout",
     "output_type": "stream",
     "text": [
      "0.001\n",
      "0.01\n",
      "0.1\n",
      "1.0\n",
      "2\n",
      "5\n",
      "10\n"
     ]
    },
    {
     "data": {
      "text/html": [
       "<div>\n",
       "<table border=\"1\" class=\"dataframe\">\n",
       "  <thead>\n",
       "    <tr style=\"text-align: right;\">\n",
       "      <th></th>\n",
       "      <th>alpha</th>\n",
       "      <th>score</th>\n",
       "      <th>time</th>\n",
       "      <th>type</th>\n",
       "    </tr>\n",
       "  </thead>\n",
       "  <tbody>\n",
       "    <tr>\n",
       "      <th>0</th>\n",
       "      <td>0.001</td>\n",
       "      <td>0.809116</td>\n",
       "      <td>7.023953</td>\n",
       "      <td>SGD</td>\n",
       "    </tr>\n",
       "    <tr>\n",
       "      <th>1</th>\n",
       "      <td>0.010</td>\n",
       "      <td>0.808937</td>\n",
       "      <td>3.356694</td>\n",
       "      <td>SGD</td>\n",
       "    </tr>\n",
       "    <tr>\n",
       "      <th>2</th>\n",
       "      <td>0.100</td>\n",
       "      <td>0.804579</td>\n",
       "      <td>3.209451</td>\n",
       "      <td>SGD</td>\n",
       "    </tr>\n",
       "    <tr>\n",
       "      <th>3</th>\n",
       "      <td>1.000</td>\n",
       "      <td>0.592468</td>\n",
       "      <td>3.215817</td>\n",
       "      <td>SGD</td>\n",
       "    </tr>\n",
       "    <tr>\n",
       "      <th>4</th>\n",
       "      <td>2.000</td>\n",
       "      <td>0.429105</td>\n",
       "      <td>3.208334</td>\n",
       "      <td>SGD</td>\n",
       "    </tr>\n",
       "    <tr>\n",
       "      <th>5</th>\n",
       "      <td>5.000</td>\n",
       "      <td>0.221368</td>\n",
       "      <td>3.298305</td>\n",
       "      <td>SGD</td>\n",
       "    </tr>\n",
       "    <tr>\n",
       "      <th>6</th>\n",
       "      <td>10.000</td>\n",
       "      <td>0.144557</td>\n",
       "      <td>3.412316</td>\n",
       "      <td>SGD</td>\n",
       "    </tr>\n",
       "  </tbody>\n",
       "</table>\n",
       "</div>"
      ],
      "text/plain": [
       "    alpha     score      time type\n",
       "0   0.001  0.809116  7.023953  SGD\n",
       "1   0.010  0.808937  3.356694  SGD\n",
       "2   0.100  0.804579  3.209451  SGD\n",
       "3   1.000  0.592468  3.215817  SGD\n",
       "4   2.000  0.429105  3.208334  SGD\n",
       "5   5.000  0.221368  3.298305  SGD\n",
       "6  10.000  0.144557  3.412316  SGD"
      ]
     },
     "execution_count": 33,
     "metadata": {},
     "output_type": "execute_result"
    }
   ],
   "source": [
    "sgd_results = []\n",
    "alphas = [0.001, 0.01, 0.1, 1.0, 2, 5, 10]\n",
    "for alpha in alphas:\n",
    "    print alpha\n",
    "    start = time()\n",
    "    fit = fit_and_score_linear_model(\n",
    "                SGDRegressor(alpha=alpha), X, y)\n",
    "    end = time()\n",
    "    sgd_results.append({'alpha': alpha,\n",
    "                        'type' : 'SGD', \n",
    "                        'score' : fit['test_score'],\n",
    "                        'time' : end-start})\n",
    "    \n",
    "sgd_results_df = pd.DataFrame(sgd_results)\n",
    "sgd_results_df    "
   ]
  },
  {
   "cell_type": "code",
   "execution_count": 34,
   "metadata": {
    "collapsed": false
   },
   "outputs": [
    {
     "data": {
      "image/png": "[encoded data removed]",
      "text/plain": [
       "<matplotlib.figure.Figure at 0x7f7ff3976ad0>"
      ]
     },
     "metadata": {},
     "output_type": "display_data"
    }
   ],
   "source": [
    "plt.plot(sgd_results_df['alpha'],\n",
    "         sgd_results_df['score'])\n",
    "plt.xscale('log')"
   ]
  },
  {
   "cell_type": "code",
   "execution_count": null,
   "metadata": {
    "collapsed": true
   },
   "outputs": [],
   "source": []
  },
  {
   "cell_type": "code",
   "execution_count": 35,
   "metadata": {
    "collapsed": false
   },
   "outputs": [
    {
     "data": {
      "text/html": [
       "<div>\n",
       "<table border=\"1\" class=\"dataframe\">\n",
       "  <thead>\n",
       "    <tr style=\"text-align: right;\">\n",
       "      <th></th>\n",
       "      <th>alpha</th>\n",
       "      <th>score</th>\n",
       "      <th>time</th>\n",
       "      <th>type</th>\n",
       "    </tr>\n",
       "  </thead>\n",
       "  <tbody>\n",
       "    <tr>\n",
       "      <th>0</th>\n",
       "      <td>10</td>\n",
       "      <td>0.807107</td>\n",
       "      <td>3.412316</td>\n",
       "      <td>SGD</td>\n",
       "    </tr>\n",
       "    <tr>\n",
       "      <th>1</th>\n",
       "      <td>10</td>\n",
       "      <td>0.809632</td>\n",
       "      <td>3.412316</td>\n",
       "      <td>SGD</td>\n",
       "    </tr>\n",
       "    <tr>\n",
       "      <th>2</th>\n",
       "      <td>10</td>\n",
       "      <td>0.806897</td>\n",
       "      <td>3.412316</td>\n",
       "      <td>SGD</td>\n",
       "    </tr>\n",
       "    <tr>\n",
       "      <th>3</th>\n",
       "      <td>10</td>\n",
       "      <td>0.808084</td>\n",
       "      <td>3.412316</td>\n",
       "      <td>SGD</td>\n",
       "    </tr>\n",
       "    <tr>\n",
       "      <th>4</th>\n",
       "      <td>10</td>\n",
       "      <td>0.804998</td>\n",
       "      <td>3.412316</td>\n",
       "      <td>SGD</td>\n",
       "    </tr>\n",
       "    <tr>\n",
       "      <th>5</th>\n",
       "      <td>10</td>\n",
       "      <td>0.809841</td>\n",
       "      <td>3.412316</td>\n",
       "      <td>SGD</td>\n",
       "    </tr>\n",
       "    <tr>\n",
       "      <th>6</th>\n",
       "      <td>10</td>\n",
       "      <td>0.810749</td>\n",
       "      <td>3.412316</td>\n",
       "      <td>SGD</td>\n",
       "    </tr>\n",
       "    <tr>\n",
       "      <th>7</th>\n",
       "      <td>10</td>\n",
       "      <td>0.806190</td>\n",
       "      <td>3.412316</td>\n",
       "      <td>SGD</td>\n",
       "    </tr>\n",
       "    <tr>\n",
       "      <th>8</th>\n",
       "      <td>10</td>\n",
       "      <td>0.807655</td>\n",
       "      <td>3.412316</td>\n",
       "      <td>SGD</td>\n",
       "    </tr>\n",
       "    <tr>\n",
       "      <th>9</th>\n",
       "      <td>10</td>\n",
       "      <td>0.808659</td>\n",
       "      <td>3.412316</td>\n",
       "      <td>SGD</td>\n",
       "    </tr>\n",
       "    <tr>\n",
       "      <th>10</th>\n",
       "      <td>10</td>\n",
       "      <td>0.803617</td>\n",
       "      <td>3.412316</td>\n",
       "      <td>SGD</td>\n",
       "    </tr>\n",
       "    <tr>\n",
       "      <th>11</th>\n",
       "      <td>10</td>\n",
       "      <td>0.809265</td>\n",
       "      <td>3.412316</td>\n",
       "      <td>SGD</td>\n",
       "    </tr>\n",
       "    <tr>\n",
       "      <th>12</th>\n",
       "      <td>10</td>\n",
       "      <td>0.806063</td>\n",
       "      <td>3.412316</td>\n",
       "      <td>SGD</td>\n",
       "    </tr>\n",
       "    <tr>\n",
       "      <th>13</th>\n",
       "      <td>10</td>\n",
       "      <td>0.807503</td>\n",
       "      <td>3.412316</td>\n",
       "      <td>SGD</td>\n",
       "    </tr>\n",
       "    <tr>\n",
       "      <th>14</th>\n",
       "      <td>10</td>\n",
       "      <td>0.812567</td>\n",
       "      <td>3.412316</td>\n",
       "      <td>SGD</td>\n",
       "    </tr>\n",
       "    <tr>\n",
       "      <th>15</th>\n",
       "      <td>10</td>\n",
       "      <td>0.808606</td>\n",
       "      <td>3.412316</td>\n",
       "      <td>SGD</td>\n",
       "    </tr>\n",
       "    <tr>\n",
       "      <th>16</th>\n",
       "      <td>10</td>\n",
       "      <td>0.804772</td>\n",
       "      <td>3.412316</td>\n",
       "      <td>SGD</td>\n",
       "    </tr>\n",
       "    <tr>\n",
       "      <th>17</th>\n",
       "      <td>10</td>\n",
       "      <td>0.808358</td>\n",
       "      <td>3.412316</td>\n",
       "      <td>SGD</td>\n",
       "    </tr>\n",
       "    <tr>\n",
       "      <th>18</th>\n",
       "      <td>10</td>\n",
       "      <td>0.808259</td>\n",
       "      <td>3.412316</td>\n",
       "      <td>SGD</td>\n",
       "    </tr>\n",
       "    <tr>\n",
       "      <th>19</th>\n",
       "      <td>10</td>\n",
       "      <td>0.811115</td>\n",
       "      <td>3.412316</td>\n",
       "      <td>SGD</td>\n",
       "    </tr>\n",
       "    <tr>\n",
       "      <th>20</th>\n",
       "      <td>10</td>\n",
       "      <td>0.806560</td>\n",
       "      <td>3.412316</td>\n",
       "      <td>SGD</td>\n",
       "    </tr>\n",
       "    <tr>\n",
       "      <th>21</th>\n",
       "      <td>10</td>\n",
       "      <td>0.808422</td>\n",
       "      <td>3.412316</td>\n",
       "      <td>SGD</td>\n",
       "    </tr>\n",
       "    <tr>\n",
       "      <th>22</th>\n",
       "      <td>10</td>\n",
       "      <td>0.808447</td>\n",
       "      <td>3.412316</td>\n",
       "      <td>SGD</td>\n",
       "    </tr>\n",
       "    <tr>\n",
       "      <th>23</th>\n",
       "      <td>10</td>\n",
       "      <td>0.807685</td>\n",
       "      <td>3.412316</td>\n",
       "      <td>SGD</td>\n",
       "    </tr>\n",
       "    <tr>\n",
       "      <th>24</th>\n",
       "      <td>10</td>\n",
       "      <td>0.809133</td>\n",
       "      <td>3.412316</td>\n",
       "      <td>SGD</td>\n",
       "    </tr>\n",
       "    <tr>\n",
       "      <th>25</th>\n",
       "      <td>10</td>\n",
       "      <td>0.805245</td>\n",
       "      <td>3.412316</td>\n",
       "      <td>SGD</td>\n",
       "    </tr>\n",
       "  </tbody>\n",
       "</table>\n",
       "</div>"
      ],
      "text/plain": [
       "    alpha     score      time type\n",
       "0      10  0.807107  3.412316  SGD\n",
       "1      10  0.809632  3.412316  SGD\n",
       "2      10  0.806897  3.412316  SGD\n",
       "3      10  0.808084  3.412316  SGD\n",
       "4      10  0.804998  3.412316  SGD\n",
       "5      10  0.809841  3.412316  SGD\n",
       "6      10  0.810749  3.412316  SGD\n",
       "7      10  0.806190  3.412316  SGD\n",
       "8      10  0.807655  3.412316  SGD\n",
       "9      10  0.808659  3.412316  SGD\n",
       "10     10  0.803617  3.412316  SGD\n",
       "11     10  0.809265  3.412316  SGD\n",
       "12     10  0.806063  3.412316  SGD\n",
       "13     10  0.807503  3.412316  SGD\n",
       "14     10  0.812567  3.412316  SGD\n",
       "15     10  0.808606  3.412316  SGD\n",
       "16     10  0.804772  3.412316  SGD\n",
       "17     10  0.808358  3.412316  SGD\n",
       "18     10  0.808259  3.412316  SGD\n",
       "19     10  0.811115  3.412316  SGD\n",
       "20     10  0.806560  3.412316  SGD\n",
       "21     10  0.808422  3.412316  SGD\n",
       "22     10  0.808447  3.412316  SGD\n",
       "23     10  0.807685  3.412316  SGD\n",
       "24     10  0.809133  3.412316  SGD\n",
       "25     10  0.805245  3.412316  SGD"
      ]
     },
     "execution_count": 35,
     "metadata": {},
     "output_type": "execute_result"
    }
   ],
   "source": [
    "sgd_results_2 = []\n",
    "\n",
    "fit = fit_and_score_linear_model(\n",
    "                    SGDRegressor(alpha=.001,\n",
    "                                 warm_start=True), X, y)\n",
    "sgd_results_2.append({'alpha': alpha,\n",
    "                    'type' : 'SGD', \n",
    "                    'score' : fit['test_score'],\n",
    "                    'time' : end-start})\n",
    "\n",
    "\n",
    "for _ in range(25):\n",
    "    fit = fit_and_score_linear_model(fit['model'], X, y)\n",
    "    \n",
    "    sgd_results_2.append({'alpha': alpha,\n",
    "                        'type' : 'SGD', \n",
    "                        'score' : fit['test_score'],\n",
    "                        'time' : end-start})\n",
    "    \n",
    "sgd_results_2_df = pd.DataFrame(sgd_results_2)\n",
    "sgd_results_2_df       "
   ]
  },
  {
   "cell_type": "code",
   "execution_count": 36,
   "metadata": {
    "collapsed": false
   },
   "outputs": [
    {
     "data": {
      "text/plain": [
       "[<matplotlib.lines.Line2D at 0x7f7ff3d55ad0>]"
      ]
     },
     "execution_count": 36,
     "metadata": {},
     "output_type": "execute_result"
    },
    {
     "data": {
      "image/png": "[encoded data removed]",
      "text/plain": [
       "<matplotlib.figure.Figure at 0x7f7ff3964290>"
      ]
     },
     "metadata": {},
     "output_type": "display_data"
    }
   ],
   "source": [
    "plt.plot(range(len(sgd_results_2_df['score'])),\n",
    "         sgd_results_2_df['score'])"
   ]
  },
  {
   "cell_type": "code",
   "execution_count": null,
   "metadata": {
    "collapsed": true
   },
   "outputs": [],
   "source": []
  }
 ],
 "metadata": {
  "anaconda-cloud": {},
  "kernelspec": {
   "display_name": "Python [conda env:py27]",
   "language": "python",
   "name": "conda-env-py27-py"
  },
  "language_info": {
   "codemirror_mode": {
    "name": "ipython",
    "version": 2
   },
   "file_extension": ".py",
   "mimetype": "text/x-python",
   "name": "python",
   "nbconvert_exporter": "python",
   "pygments_lexer": "ipython2",
   "version": "2.7.12"
  }
 },
 "nbformat": 4,
 "nbformat_minor": 1
}
