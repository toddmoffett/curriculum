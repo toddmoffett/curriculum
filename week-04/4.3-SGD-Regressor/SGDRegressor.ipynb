{
 "cells": [
  {
   "cell_type": "markdown",
   "metadata": {},
   "source": [
    "# Wrangling Big Data"
   ]
  },
  {
   "cell_type": "markdown",
   "metadata": {},
   "source": [
    "<img src=\"assets/ml_map.png\" width=\"400px\">\n",
    "\n",
    "[source](http://scikit-learn.org/stable/tutorial/machine_learning_map/)"
   ]
  },
  {
   "cell_type": "markdown",
   "metadata": {},
   "source": [
    "![](assets/regression_ml_map.png)"
   ]
  },
  {
   "cell_type": "markdown",
   "metadata": {},
   "source": [
    "## Why Stochastic Gradient Descent? "
   ]
  },
  {
   "cell_type": "markdown",
   "metadata": {},
   "source": [
    "Per the `sklearn` documentation:\n",
    "\n",
    "> The advantages of Stochastic Gradient Descent are:\n",
    "> - Efficiency.\n",
    "> - Ease of implementation (lots of opportunities for code tuning).\n",
    "\n",
    "> The disadvantages of Stochastic Gradient Descent include:\n",
    "> - SGD requires a number of hyperparameters such as the regularization parameter and the number of iterations.\n",
    "> - SGD is sensitive to feature scaling."
   ]
  },
  {
   "cell_type": "markdown",
   "metadata": {},
   "source": [
    "Stated even more plainly:\n",
    "\n",
    "> [`SGDRegressor`](http://scikit-learn.org/stable/modules/generated/sklearn.linear_model.SGDRegressor.html#sklearn.linear_model.SGDRegressor) is well suited for regression problems with a large number of training samples (> 10.000), for other problems we recommend [`Ridge`](http://scikit-learn.org/stable/modules/generated/sklearn.linear_model.Ridge.html#sklearn.linear_model.Ridge), [`Lasso`](http://scikit-learn.org/stable/modules/generated/sklearn.linear_model.Lasso.html#sklearn.linear_model.Lasso), or [`ElasticNet`](http://scikit-learn.org/stable/modules/generated/sklearn.linear_model.ElasticNet.html#sklearn.linear_model.ElasticNet)."
   ]
  },
  {
   "cell_type": "markdown",
   "metadata": {},
   "source": [
    "![](assets/100K.png)"
   ]
  },
  {
   "cell_type": "markdown",
   "metadata": {},
   "source": [
    "## Out of the Box Comparison"
   ]
  },
  {
   "cell_type": "code",
   "execution_count": 2,
   "metadata": {
    "collapsed": false
   },
   "outputs": [],
   "source": [
    "\n",
    "from os import chdir; chdir('/Users/toddmoffett1/DSI/dsi_repo/DSI_SM_3/lib/')\n",
    "from mglearn.datasets import load_extended_boston\n",
    "\n",
    "import matplotlib.pyplot as plt\n",
    "import numpy as np\n",
    "import pandas as pd\n",
    "import seaborn as sns\n",
    "\n",
    "from sklearn.model_selection import train_test_split\n",
    "%matplotlib inline"
   ]
  },
  {
   "cell_type": "markdown",
   "metadata": {},
   "source": [
    "### Domain and Dataset\n",
    "\n",
    "We are interested in comparing the performance of the standard `sklearn` linear regressors out of the box. As such, our \"dataset\" is the set of the following four linear regressors:\n",
    "\n",
    "- `sklearn.linear_model.LinearRegression`\n",
    "- `sklearn.linear_model.Ridge`\n",
    "- `sklearn.linear_model.Lasso`\n",
    "- `sklearn.linear_model.SGDRegressor`"
   ]
  },
  {
   "cell_type": "code",
   "execution_count": 3,
   "metadata": {
    "collapsed": true
   },
   "outputs": [],
   "source": [
    "from sklearn.linear_model import LinearRegression, Ridge, Lasso, SGDRegressor"
   ]
  },
  {
   "cell_type": "markdown",
   "metadata": {},
   "source": [
    "In order to perform the regression we will be using the \"extended boston\" dataset provided by the `mglearn` library. This library has 506 instances and 104 features. It is accompanied by a numeric target vector of quantitative values. It is a \"canonical\" linear regression dataset and is often used for learning linear regression concepts. "
   ]
  },
  {
   "cell_type": "code",
   "execution_count": 4,
   "metadata": {
    "collapsed": false
   },
   "outputs": [
    {
     "data": {
      "text/plain": [
       "((506, 104), (506,))"
      ]
     },
     "execution_count": 4,
     "metadata": {},
     "output_type": "execute_result"
    }
   ],
   "source": [
    "X, y = load_extended_boston()\n",
    "X.shape, y.shape"
   ]
  },
  {
   "cell_type": "markdown",
   "metadata": {},
   "source": [
    "**Note**: It is considered a best practice when using Stochastic Gradient Descent (and linear models in general) to scale onese data. We will be preprocessing our data using the `StandardScaler` included with `sklearn`."
   ]
  },
  {
   "cell_type": "code",
   "execution_count": 5,
   "metadata": {
    "collapsed": true
   },
   "outputs": [],
   "source": [
    "from sklearn.preprocessing import StandardScaler"
   ]
  },
  {
   "cell_type": "markdown",
   "metadata": {},
   "source": [
    "### Problem Statement\n",
    "\n",
    "Given the set of four linear regressors in their \"out-of-the-box\" state i.e. default, with no tuning parameters applied, we wish to see how these perform when applied to the same dataset. \n",
    "\n",
    "### Solution Statement\n",
    "\n",
    "As this is an exploratory problem, our solution will take the form of scores for each model presented in a plot. \n",
    "\n",
    "### Metric\n",
    "\n",
    "N/A\n",
    "\n",
    "### Benchmark\n",
    "\n",
    "N/A"
   ]
  },
  {
   "cell_type": "markdown",
   "metadata": {},
   "source": [
    "### Code Template"
   ]
  },
  {
   "cell_type": "code",
   "execution_count": 6,
   "metadata": {
    "collapsed": false
   },
   "outputs": [
    {
     "name": "stdout",
     "output_type": "stream",
     "text": [
      "0.952352643686\n",
      "0.605775489294\n"
     ]
    }
   ],
   "source": [
    "X_train, X_test, y_train, y_test = train_test_split(X, y, random_state=0)\n",
    "\n",
    "scaler = StandardScaler()\n",
    "scaler.fit(X_train)\n",
    "\n",
    "X_train = scaler.transform(X_train)\n",
    "X_test = scaler.transform(X_test)\n",
    "\n",
    "LR = LinearRegression()\n",
    "LR.fit(X_train, y_train)\n",
    "print LR.score(X_train, y_train)\n",
    "print LR.score(X_test, y_test)"
   ]
  },
  {
   "cell_type": "code",
   "execution_count": 7,
   "metadata": {
    "collapsed": true
   },
   "outputs": [],
   "source": [
    "def fit_and_score_linear_model(model, X, y):\n",
    "    X_train, X_test, y_train, y_test = train_test_split(X, y, random_state=0)\n",
    "\n",
    "    scaler = StandardScaler()\n",
    "    scaler.fit(X_train)\n",
    "\n",
    "    X_train = scaler.transform(X_train)\n",
    "    X_test = scaler.transform(X_test)\n",
    "\n",
    "    model.fit(X_train, y_train)\n",
    "    return {'model': model, 'train_score' : model.score(X_train, y_train), 'test_score': model.score(X_test, y_test)}"
   ]
  },
  {
   "cell_type": "code",
   "execution_count": 8,
   "metadata": {
    "collapsed": false
   },
   "outputs": [
    {
     "data": {
      "text/plain": [
       "{'model': LinearRegression(copy_X=True, fit_intercept=True, n_jobs=1, normalize=False),\n",
       " 'test_score': 0.60577548929355363,\n",
       " 'train_score': 0.95235264368642381}"
      ]
     },
     "execution_count": 8,
     "metadata": {},
     "output_type": "execute_result"
    }
   ],
   "source": [
    "fit_and_score_linear_model(LinearRegression(), X, y)"
   ]
  },
  {
   "cell_type": "code",
   "execution_count": 9,
   "metadata": {
    "collapsed": false
   },
   "outputs": [
    {
     "data": {
      "text/plain": [
       "{'model': Ridge(alpha=1.0, copy_X=True, fit_intercept=True, max_iter=None,\n",
       "    normalize=False, random_state=None, solver='auto', tol=0.001),\n",
       " 'test_score': 0.78350692384158693,\n",
       " 'train_score': 0.93829533097778084}"
      ]
     },
     "execution_count": 9,
     "metadata": {},
     "output_type": "execute_result"
    }
   ],
   "source": [
    "fit_and_score_linear_model(Ridge(), X, y)"
   ]
  },
  {
   "cell_type": "code",
   "execution_count": 22,
   "metadata": {
    "collapsed": false,
    "scrolled": true
   },
   "outputs": [
    {
     "data": {
      "text/plain": [
       "{'model': Lasso(alpha=1.0, copy_X=True, fit_intercept=True, max_iter=1000,\n",
       "    normalize=False, positive=False, precompute=False, random_state=None,\n",
       "    selection='cyclic', tol=0.0001, warm_start=False),\n",
       " 'test_score': 0.6745466746355937,\n",
       " 'train_score': 0.78765800246238171}"
      ]
     },
     "execution_count": 22,
     "metadata": {},
     "output_type": "execute_result"
    }
   ],
   "source": [
    "fit_and_score_linear_model(Lasso(), X, y)"
   ]
  },
  {
   "cell_type": "code",
   "execution_count": 26,
   "metadata": {
    "collapsed": false
   },
   "outputs": [
    {
     "data": {
      "text/plain": [
       "{'model': SGDRegressor(alpha=0.0001, average=False, epsilon=0.1, eta0=0.01,\n",
       "        fit_intercept=True, l1_ratio=0.15, learning_rate='invscaling',\n",
       "        loss='squared_loss', n_iter=5, penalty='l2', power_t=0.25,\n",
       "        random_state=None, shuffle=True, verbose=0, warm_start=False),\n",
       " 'test_score': 0.73467329592986585,\n",
       " 'train_score': 0.87191891445668523}"
      ]
     },
     "execution_count": 26,
     "metadata": {},
     "output_type": "execute_result"
    }
   ],
   "source": [
    "fit_and_score_linear_model(SGDRegressor(), X, y)"
   ]
  },
  {
   "cell_type": "code",
   "execution_count": 34,
   "metadata": {
    "collapsed": false
   },
   "outputs": [
    {
     "data": {
      "text/html": [
       "<div>\n",
       "<table border=\"1\" class=\"dataframe\">\n",
       "  <thead>\n",
       "    <tr style=\"text-align: right;\">\n",
       "      <th></th>\n",
       "      <th>model</th>\n",
       "      <th>test_score</th>\n",
       "      <th>train_score</th>\n",
       "    </tr>\n",
       "  </thead>\n",
       "  <tbody>\n",
       "    <tr>\n",
       "      <th>0</th>\n",
       "      <td>LinearRegression(copy_X=True, fit_intercept=Tr...</td>\n",
       "      <td>0.605775</td>\n",
       "      <td>0.952353</td>\n",
       "    </tr>\n",
       "    <tr>\n",
       "      <th>1</th>\n",
       "      <td>Ridge(alpha=1.0, copy_X=True, fit_intercept=Tr...</td>\n",
       "      <td>0.783507</td>\n",
       "      <td>0.938295</td>\n",
       "    </tr>\n",
       "    <tr>\n",
       "      <th>2</th>\n",
       "      <td>Lasso(alpha=1.0, copy_X=True, fit_intercept=Tr...</td>\n",
       "      <td>0.674547</td>\n",
       "      <td>0.787658</td>\n",
       "    </tr>\n",
       "    <tr>\n",
       "      <th>3</th>\n",
       "      <td>SGDRegressor(alpha=0.0001, average=False, epsi...</td>\n",
       "      <td>0.740266</td>\n",
       "      <td>0.845047</td>\n",
       "    </tr>\n",
       "  </tbody>\n",
       "</table>\n",
       "</div>"
      ],
      "text/plain": [
       "                                               model  test_score  train_score\n",
       "0  LinearRegression(copy_X=True, fit_intercept=Tr...    0.605775     0.952353\n",
       "1  Ridge(alpha=1.0, copy_X=True, fit_intercept=Tr...    0.783507     0.938295\n",
       "2  Lasso(alpha=1.0, copy_X=True, fit_intercept=Tr...    0.674547     0.787658\n",
       "3  SGDRegressor(alpha=0.0001, average=False, epsi...    0.740266     0.845047"
      ]
     },
     "execution_count": 34,
     "metadata": {},
     "output_type": "execute_result"
    }
   ],
   "source": [
    "fits = [fit_and_score_linear_model(LinearRegression(), X, y),\n",
    "        fit_and_score_linear_model(Ridge(), X, y),\n",
    "        fit_and_score_linear_model(Lasso(), X, y),\n",
    "        fit_and_score_linear_model(SGDRegressor(), X, y)]\n",
    "\n",
    "fits = pd.DataFrame(fits)\n",
    "fits"
   ]
  },
  {
   "cell_type": "markdown",
   "metadata": {},
   "source": [
    "### Pandas Munging to make Seaborn Happy"
   ]
  },
  {
   "cell_type": "code",
   "execution_count": 32,
   "metadata": {
    "collapsed": false
   },
   "outputs": [],
   "source": [
    "for_plot = pd.concat([fits[['model','test_score']],fits[['model','train_score']]])\n",
    "for_plot['model'] = for_plot['model'].astype(str).str.extract('(.+)\\(', expand=False)\n",
    "for_plot['type'] = ['test']*4+['train']*4\n",
    "for_plot['train_score'].fillna(for_plot['test_score'], inplace=True)\n",
    "for_plot.drop('test_score', inplace=True, axis=1)\n",
    "for_plot.columns = ['model', 'score', 'type']"
   ]
  },
  {
   "cell_type": "code",
   "execution_count": 35,
   "metadata": {
    "collapsed": false
   },
   "outputs": [
    {
     "data": {
      "image/png": "[encoded data removed]",
      "text/plain": [
       "<matplotlib.figure.Figure at 0x1181b2a10>"
      ]
     },
     "metadata": {},
     "output_type": "display_data"
    }
   ],
   "source": [
    "barplot = sns.barplot(x='model', y='score', hue='type', data=for_plot)"
   ]
  },
  {
   "cell_type": "markdown",
   "metadata": {},
   "source": [
    "---"
   ]
  },
  {
   "cell_type": "markdown",
   "metadata": {},
   "source": [
    "### Domain and Dataset\n",
    "\n",
    "We are interested in comparing the timing performance of three standard `sklearn` linear regressors out of the box using datasets of different sizes. As such, our \"dataset\" is the set of the following three linear regressors:\n",
    "\n",
    "- `sklearn.linear_model.LinearRegression`\n",
    "- `sklearn.linear_model.Ridge`\n",
    "- `sklearn.linear_model.SGDRegressor`\n"
   ]
  },
  {
   "cell_type": "code",
   "execution_count": null,
   "metadata": {
    "collapsed": true
   },
   "outputs": [],
   "source": [
    "from sklearn.linear_model import LinearRegression, Ridge, SGDRegressor"
   ]
  },
  {
   "cell_type": "markdown",
   "metadata": {},
   "source": [
    "In order to perform the regression we will be using the `make_regression` function built into provided by the `sklearn.datasets` library. This functions constructs a regression problem with a given number of instances and a given number of features features. It is accompanied by a numeric target vector of quantitative values."
   ]
  },
  {
   "cell_type": "code",
   "execution_count": 39,
   "metadata": {
    "collapsed": false
   },
   "outputs": [],
   "source": [
    "from time import time\n",
    "from sklearn import datasets\n",
    "X, y = datasets.make_regression(int(1e4), \n",
    "                                n_features=1000, \n",
    "                                noise=50.0)"
   ]
  },
  {
   "cell_type": "code",
   "execution_count": 40,
   "metadata": {
    "collapsed": false
   },
   "outputs": [
    {
     "data": {
      "text/plain": [
       "(10000, 1000)"
      ]
     },
     "execution_count": 40,
     "metadata": {},
     "output_type": "execute_result"
    }
   ],
   "source": [
    "X.shape"
   ]
  },
  {
   "cell_type": "markdown",
   "metadata": {},
   "source": [
    "**Note**: It is considered a best practice when using Stochastic Gradient Descent (and linear models in general) to scale onese data. We will be preprocessing our data using the `StandardScaler` included with `sklearn`."
   ]
  },
  {
   "cell_type": "code",
   "execution_count": 42,
   "metadata": {
    "collapsed": true
   },
   "outputs": [],
   "source": [
    "from sklearn.preprocessing import StandardScaler"
   ]
  },
  {
   "cell_type": "markdown",
   "metadata": {},
   "source": [
    "### Problem Statement\n",
    "\n",
    "Given the set of three linear regressors in their \"out-of-the-box\" state i.e. default, with no tuning parameters applied, we wish to see how these perform when applied to the regression datasets of varying sizes. \n",
    "\n",
    "### Solution Statement\n",
    "\n",
    "As this is an exploratory problem, our solution will take the form of scores for each model presented in a plot. \n",
    "\n",
    "### Metric\n",
    "\n",
    "N/A\n",
    "\n",
    "### Benchmark\n",
    "\n",
    "N/A"
   ]
  },
  {
   "cell_type": "markdown",
   "metadata": {},
   "source": [
    "### Code Template"
   ]
  },
  {
   "cell_type": "code",
   "execution_count": 44,
   "metadata": {
    "collapsed": false
   },
   "outputs": [
    {
     "data": {
      "text/plain": [
       "(0.94243584894315446, 0.7349610328674316)"
      ]
     },
     "execution_count": 44,
     "metadata": {},
     "output_type": "execute_result"
    }
   ],
   "source": [
    "start = time()\n",
    "fit = fit_and_score_linear_model(LinearRegression(), X, y)\n",
    "end = time()\n",
    "fit['test_score'], end - start"
   ]
  },
  {
   "cell_type": "code",
   "execution_count": 54,
   "metadata": {
    "collapsed": true
   },
   "outputs": [],
   "source": [
    "def time_train_score_for_LM_of_size_n(model, n):\n",
    "    X, y = datasets.make_regression(int(n),\n",
    "                                    n_features=1000, \n",
    "                                    noise=50.0)\n",
    "    start = time()\n",
    "    fit = fit_and_score_linear_model(model, X, y)\n",
    "    end = time()\n",
    "    return {'score': fit['test_score'], 'time': end - start}"
   ]
  },
  {
   "cell_type": "code",
   "execution_count": 53,
   "metadata": {
    "collapsed": false
   },
   "outputs": [
    {
     "data": {
      "text/plain": [
       "100000.0"
      ]
     },
     "execution_count": 53,
     "metadata": {},
     "output_type": "execute_result"
    }
   ],
   "source": [
    "1e2 * 1000"
   ]
  },
  {
   "cell_type": "code",
   "execution_count": 55,
   "metadata": {
    "collapsed": false
   },
   "outputs": [],
   "source": [
    "results = []\n",
    "for n in [1e2, 1e3, 1e4]:\n",
    "    res_dict = time_train_score_for_LM_of_size_n(LinearRegression(), n)\n",
    "    res_dict['type'] = 'LR'\n",
    "    res_dict['n'] = n\n",
    "    results.append(res_dict)\n",
    "    \n",
    "    res_dict = time_train_score_for_LM_of_size_n(SGDRegressor(), n)\n",
    "    res_dict['type'] = 'SGD'\n",
    "    res_dict['n'] = n\n",
    "    results.append(res_dict)\n",
    "    \n",
    "    res_dict = time_train_score_for_LM_of_size_n(Ridge(), n)\n",
    "    res_dict['type'] = 'Ridge'\n",
    "    res_dict['n'] = n\n",
    "    results.append(res_dict)\n",
    "    "
   ]
  },
  {
   "cell_type": "code",
   "execution_count": 57,
   "metadata": {
    "collapsed": false
   },
   "outputs": [
    {
     "data": {
      "text/html": [
       "<div>\n",
       "<table border=\"1\" class=\"dataframe\">\n",
       "  <thead>\n",
       "    <tr style=\"text-align: right;\">\n",
       "      <th></th>\n",
       "      <th>n</th>\n",
       "      <th>score</th>\n",
       "      <th>time</th>\n",
       "      <th>type</th>\n",
       "    </tr>\n",
       "  </thead>\n",
       "  <tbody>\n",
       "    <tr>\n",
       "      <th>0</th>\n",
       "      <td>100.0</td>\n",
       "      <td>0.154189</td>\n",
       "      <td>0.010416</td>\n",
       "      <td>LR</td>\n",
       "    </tr>\n",
       "    <tr>\n",
       "      <th>1</th>\n",
       "      <td>100.0</td>\n",
       "      <td>-440.004466</td>\n",
       "      <td>0.003270</td>\n",
       "      <td>SGD</td>\n",
       "    </tr>\n",
       "    <tr>\n",
       "      <th>2</th>\n",
       "      <td>100.0</td>\n",
       "      <td>0.054034</td>\n",
       "      <td>0.003842</td>\n",
       "      <td>Ridge</td>\n",
       "    </tr>\n",
       "    <tr>\n",
       "      <th>3</th>\n",
       "      <td>1000.0</td>\n",
       "      <td>0.575438</td>\n",
       "      <td>0.145008</td>\n",
       "      <td>LR</td>\n",
       "    </tr>\n",
       "    <tr>\n",
       "      <th>4</th>\n",
       "      <td>1000.0</td>\n",
       "      <td>0.216219</td>\n",
       "      <td>0.022699</td>\n",
       "      <td>SGD</td>\n",
       "    </tr>\n",
       "    <tr>\n",
       "      <th>5</th>\n",
       "      <td>1000.0</td>\n",
       "      <td>0.484880</td>\n",
       "      <td>0.035963</td>\n",
       "      <td>Ridge</td>\n",
       "    </tr>\n",
       "    <tr>\n",
       "      <th>6</th>\n",
       "      <td>10000.0</td>\n",
       "      <td>0.834147</td>\n",
       "      <td>0.763192</td>\n",
       "      <td>LR</td>\n",
       "    </tr>\n",
       "    <tr>\n",
       "      <th>7</th>\n",
       "      <td>10000.0</td>\n",
       "      <td>0.892524</td>\n",
       "      <td>0.243768</td>\n",
       "      <td>SGD</td>\n",
       "    </tr>\n",
       "    <tr>\n",
       "      <th>8</th>\n",
       "      <td>10000.0</td>\n",
       "      <td>0.883524</td>\n",
       "      <td>0.285389</td>\n",
       "      <td>Ridge</td>\n",
       "    </tr>\n",
       "  </tbody>\n",
       "</table>\n",
       "</div>"
      ],
      "text/plain": [
       "         n       score      time   type\n",
       "0    100.0    0.154189  0.010416     LR\n",
       "1    100.0 -440.004466  0.003270    SGD\n",
       "2    100.0    0.054034  0.003842  Ridge\n",
       "3   1000.0    0.575438  0.145008     LR\n",
       "4   1000.0    0.216219  0.022699    SGD\n",
       "5   1000.0    0.484880  0.035963  Ridge\n",
       "6  10000.0    0.834147  0.763192     LR\n",
       "7  10000.0    0.892524  0.243768    SGD\n",
       "8  10000.0    0.883524  0.285389  Ridge"
      ]
     },
     "execution_count": 57,
     "metadata": {},
     "output_type": "execute_result"
    },
    {
     "data": {
      "image/png": "[encoded data removed]",
      "text/plain": [
       "<matplotlib.figure.Figure at 0x114ef9450>"
      ]
     },
     "metadata": {},
     "output_type": "display_data"
    }
   ],
   "source": [
    "results_df = pd.DataFrame(results)\n",
    "sns.barplot(x='n', y='time', hue='type', data=results_df)\n",
    "plt.yscale('log')\n",
    "results_df"
   ]
  },
  {
   "cell_type": "markdown",
   "metadata": {},
   "source": [
    "### Tuning Our Linear Models"
   ]
  },
  {
   "cell_type": "markdown",
   "metadata": {},
   "source": [
    "### Domain and Dataset\n",
    "\n",
    "We are interested in comparing the performance of two standard `sklearn` linear regressors after they have been tuned. As such, our \"dataset\" is the set of the following two linear regressors:\n",
    "\n",
    "- `sklearn.linear_model.Ridge`\n",
    "- `sklearn.linear_model.SGDRegressor`\n"
   ]
  },
  {
   "cell_type": "code",
   "execution_count": null,
   "metadata": {
    "collapsed": true
   },
   "outputs": [],
   "source": [
    "from sklearn.linear_model import Ridge, SGDRegressor"
   ]
  },
  {
   "cell_type": "markdown",
   "metadata": {},
   "source": [
    "In order to perform the regression we will be using the `make_regression` function built into provided by the `sklearn.datasets` library. This functions constructs a regression problem with a given number of instances and a given number of features features. It is accompanied by a numeric target vector of quantitative values."
   ]
  },
  {
   "cell_type": "markdown",
   "metadata": {},
   "source": [
    "We will use it to construct a regression problem with 1000000 instances and 1000 features."
   ]
  },
  {
   "cell_type": "code",
   "execution_count": 58,
   "metadata": {
    "collapsed": false
   },
   "outputs": [],
   "source": [
    "from time import time\n",
    "from sklearn import datasets\n",
    "X, y = datasets.make_regression(int(1e5), \n",
    "                                n_features=1000, \n",
    "                                noise=75.0)"
   ]
  },
  {
   "cell_type": "code",
   "execution_count": 59,
   "metadata": {
    "collapsed": false
   },
   "outputs": [
    {
     "data": {
      "text/plain": [
       "(100000, 1000)"
      ]
     },
     "execution_count": 59,
     "metadata": {},
     "output_type": "execute_result"
    }
   ],
   "source": [
    "X.shape"
   ]
  },
  {
   "cell_type": "markdown",
   "metadata": {},
   "source": [
    "**Note**: It is considered a best practice when using Stochastic Gradient Descent (and linear models in general) to scale onese data. We will be preprocessing our data using the `StandardScaler` included with `sklearn`."
   ]
  },
  {
   "cell_type": "code",
   "execution_count": null,
   "metadata": {
    "collapsed": true
   },
   "outputs": [],
   "source": [
    "from sklearn.preprocessing import StandardScaler"
   ]
  },
  {
   "cell_type": "markdown",
   "metadata": {},
   "source": [
    "### Problem Statement\n",
    "\n",
    "Given the set of two linear regressors, we wish to see how these perform when tuned for performance against a large dataset. \n",
    "\n",
    "### Solution Statement\n",
    "\n",
    "As this is an exploratory problem, our solution will take the form of scores for each model presented in a plot. \n",
    "\n",
    "### Metric\n",
    "\n",
    "We will use the default regression scorer, the $R^2$ and its performance against the test set. We will also be looking at time. \n",
    "\n",
    "### Benchmark\n",
    "\n",
    "We will use the performance of the default `Ridge` regression as our benchmark performance and model."
   ]
  },
  {
   "cell_type": "code",
   "execution_count": 60,
   "metadata": {
    "collapsed": false
   },
   "outputs": [
    {
     "name": "stdout",
     "output_type": "stream",
     "text": [
      "4.0941119194 0.770876674558\n"
     ]
    }
   ],
   "source": [
    "start = time()\n",
    "fit = fit_and_score_linear_model(Ridge(), X, y)\n",
    "end = time()\n",
    "print end-start, fit['test_score']"
   ]
  },
  {
   "cell_type": "markdown",
   "metadata": {},
   "source": [
    "We have a benchmark time of 9.986 seconds and a benchmark $R^2$ score of $0.886262$."
   ]
  },
  {
   "cell_type": "markdown",
   "metadata": {},
   "source": [
    "### Tune the Ridge Regression\n"
   ]
  },
  {
   "cell_type": "code",
   "execution_count": 61,
   "metadata": {
    "collapsed": false
   },
   "outputs": [
    {
     "name": "stdout",
     "output_type": "stream",
     "text": [
      "0.001\n",
      "0.01\n",
      "0.1\n",
      "1.0\n",
      "2\n",
      "5\n",
      "10\n"
     ]
    },
    {
     "data": {
      "text/html": [
       "<div>\n",
       "<table border=\"1\" class=\"dataframe\">\n",
       "  <thead>\n",
       "    <tr style=\"text-align: right;\">\n",
       "      <th></th>\n",
       "      <th>alpha</th>\n",
       "      <th>n</th>\n",
       "      <th>score</th>\n",
       "      <th>time</th>\n",
       "      <th>type</th>\n",
       "    </tr>\n",
       "  </thead>\n",
       "  <tbody>\n",
       "    <tr>\n",
       "      <th>0</th>\n",
       "      <td>NaN</td>\n",
       "      <td>100.0</td>\n",
       "      <td>0.154189</td>\n",
       "      <td>0.010416</td>\n",
       "      <td>LR</td>\n",
       "    </tr>\n",
       "    <tr>\n",
       "      <th>1</th>\n",
       "      <td>NaN</td>\n",
       "      <td>100.0</td>\n",
       "      <td>-440.004466</td>\n",
       "      <td>0.003270</td>\n",
       "      <td>SGD</td>\n",
       "    </tr>\n",
       "    <tr>\n",
       "      <th>2</th>\n",
       "      <td>NaN</td>\n",
       "      <td>100.0</td>\n",
       "      <td>0.054034</td>\n",
       "      <td>0.003842</td>\n",
       "      <td>Ridge</td>\n",
       "    </tr>\n",
       "    <tr>\n",
       "      <th>3</th>\n",
       "      <td>NaN</td>\n",
       "      <td>1000.0</td>\n",
       "      <td>0.575438</td>\n",
       "      <td>0.145008</td>\n",
       "      <td>LR</td>\n",
       "    </tr>\n",
       "    <tr>\n",
       "      <th>4</th>\n",
       "      <td>NaN</td>\n",
       "      <td>1000.0</td>\n",
       "      <td>0.216219</td>\n",
       "      <td>0.022699</td>\n",
       "      <td>SGD</td>\n",
       "    </tr>\n",
       "    <tr>\n",
       "      <th>5</th>\n",
       "      <td>NaN</td>\n",
       "      <td>1000.0</td>\n",
       "      <td>0.484880</td>\n",
       "      <td>0.035963</td>\n",
       "      <td>Ridge</td>\n",
       "    </tr>\n",
       "    <tr>\n",
       "      <th>6</th>\n",
       "      <td>NaN</td>\n",
       "      <td>10000.0</td>\n",
       "      <td>0.834147</td>\n",
       "      <td>0.763192</td>\n",
       "      <td>LR</td>\n",
       "    </tr>\n",
       "    <tr>\n",
       "      <th>7</th>\n",
       "      <td>NaN</td>\n",
       "      <td>10000.0</td>\n",
       "      <td>0.892524</td>\n",
       "      <td>0.243768</td>\n",
       "      <td>SGD</td>\n",
       "    </tr>\n",
       "    <tr>\n",
       "      <th>8</th>\n",
       "      <td>NaN</td>\n",
       "      <td>10000.0</td>\n",
       "      <td>0.883524</td>\n",
       "      <td>0.285389</td>\n",
       "      <td>Ridge</td>\n",
       "    </tr>\n",
       "    <tr>\n",
       "      <th>9</th>\n",
       "      <td>0.001</td>\n",
       "      <td>NaN</td>\n",
       "      <td>0.770877</td>\n",
       "      <td>3.847651</td>\n",
       "      <td>ridge</td>\n",
       "    </tr>\n",
       "    <tr>\n",
       "      <th>10</th>\n",
       "      <td>0.010</td>\n",
       "      <td>NaN</td>\n",
       "      <td>0.770877</td>\n",
       "      <td>3.854868</td>\n",
       "      <td>ridge</td>\n",
       "    </tr>\n",
       "    <tr>\n",
       "      <th>11</th>\n",
       "      <td>0.100</td>\n",
       "      <td>NaN</td>\n",
       "      <td>0.770877</td>\n",
       "      <td>3.869882</td>\n",
       "      <td>ridge</td>\n",
       "    </tr>\n",
       "    <tr>\n",
       "      <th>12</th>\n",
       "      <td>1.000</td>\n",
       "      <td>NaN</td>\n",
       "      <td>0.770877</td>\n",
       "      <td>3.856263</td>\n",
       "      <td>ridge</td>\n",
       "    </tr>\n",
       "    <tr>\n",
       "      <th>13</th>\n",
       "      <td>2.000</td>\n",
       "      <td>NaN</td>\n",
       "      <td>0.770877</td>\n",
       "      <td>3.835916</td>\n",
       "      <td>ridge</td>\n",
       "    </tr>\n",
       "    <tr>\n",
       "      <th>14</th>\n",
       "      <td>5.000</td>\n",
       "      <td>NaN</td>\n",
       "      <td>0.770877</td>\n",
       "      <td>3.839458</td>\n",
       "      <td>ridge</td>\n",
       "    </tr>\n",
       "    <tr>\n",
       "      <th>15</th>\n",
       "      <td>10.000</td>\n",
       "      <td>NaN</td>\n",
       "      <td>0.770877</td>\n",
       "      <td>3.853514</td>\n",
       "      <td>ridge</td>\n",
       "    </tr>\n",
       "  </tbody>\n",
       "</table>\n",
       "</div>"
      ],
      "text/plain": [
       "     alpha        n       score      time   type\n",
       "0      NaN    100.0    0.154189  0.010416     LR\n",
       "1      NaN    100.0 -440.004466  0.003270    SGD\n",
       "2      NaN    100.0    0.054034  0.003842  Ridge\n",
       "3      NaN   1000.0    0.575438  0.145008     LR\n",
       "4      NaN   1000.0    0.216219  0.022699    SGD\n",
       "5      NaN   1000.0    0.484880  0.035963  Ridge\n",
       "6      NaN  10000.0    0.834147  0.763192     LR\n",
       "7      NaN  10000.0    0.892524  0.243768    SGD\n",
       "8      NaN  10000.0    0.883524  0.285389  Ridge\n",
       "9    0.001      NaN    0.770877  3.847651  ridge\n",
       "10   0.010      NaN    0.770877  3.854868  ridge\n",
       "11   0.100      NaN    0.770877  3.869882  ridge\n",
       "12   1.000      NaN    0.770877  3.856263  ridge\n",
       "13   2.000      NaN    0.770877  3.835916  ridge\n",
       "14   5.000      NaN    0.770877  3.839458  ridge\n",
       "15  10.000      NaN    0.770877  3.853514  ridge"
      ]
     },
     "execution_count": 61,
     "metadata": {},
     "output_type": "execute_result"
    }
   ],
   "source": [
    "ridge_results = []\n",
    "alphas = [0.001, 0.01, 0.1, 1.0, 2, 5, 10]\n",
    "for alpha in alphas:\n",
    "    print alpha\n",
    "    start = time()\n",
    "    fit = fit_and_score_linear_model(Ridge(alpha=alpha), X, y)\n",
    "    end = time()\n",
    "    results.append({'alpha': alpha,\n",
    "                    'type' : 'ridge', \n",
    "                   'score' : fit['test_score'],\n",
    "                   'time' : end-start})\n",
    "results_df = pd.DataFrame(results)\n",
    "results_df    "
   ]
  },
  {
   "cell_type": "code",
   "execution_count": 62,
   "metadata": {
    "collapsed": false
   },
   "outputs": [
    {
     "data": {
      "text/html": [
       "<div>\n",
       "<table border=\"1\" class=\"dataframe\">\n",
       "  <thead>\n",
       "    <tr style=\"text-align: right;\">\n",
       "      <th></th>\n",
       "      <th>alpha</th>\n",
       "      <th>n</th>\n",
       "      <th>score</th>\n",
       "      <th>time</th>\n",
       "      <th>type</th>\n",
       "    </tr>\n",
       "  </thead>\n",
       "  <tbody>\n",
       "    <tr>\n",
       "      <th>0</th>\n",
       "      <td>NaN</td>\n",
       "      <td>100.0</td>\n",
       "      <td>0.154189</td>\n",
       "      <td>0.010416</td>\n",
       "      <td>LR</td>\n",
       "    </tr>\n",
       "    <tr>\n",
       "      <th>1</th>\n",
       "      <td>NaN</td>\n",
       "      <td>100.0</td>\n",
       "      <td>-440.004466</td>\n",
       "      <td>0.003270</td>\n",
       "      <td>SGD</td>\n",
       "    </tr>\n",
       "    <tr>\n",
       "      <th>2</th>\n",
       "      <td>NaN</td>\n",
       "      <td>100.0</td>\n",
       "      <td>0.054034</td>\n",
       "      <td>0.003842</td>\n",
       "      <td>Ridge</td>\n",
       "    </tr>\n",
       "    <tr>\n",
       "      <th>3</th>\n",
       "      <td>NaN</td>\n",
       "      <td>1000.0</td>\n",
       "      <td>0.575438</td>\n",
       "      <td>0.145008</td>\n",
       "      <td>LR</td>\n",
       "    </tr>\n",
       "    <tr>\n",
       "      <th>4</th>\n",
       "      <td>NaN</td>\n",
       "      <td>1000.0</td>\n",
       "      <td>0.216219</td>\n",
       "      <td>0.022699</td>\n",
       "      <td>SGD</td>\n",
       "    </tr>\n",
       "    <tr>\n",
       "      <th>5</th>\n",
       "      <td>NaN</td>\n",
       "      <td>1000.0</td>\n",
       "      <td>0.484880</td>\n",
       "      <td>0.035963</td>\n",
       "      <td>Ridge</td>\n",
       "    </tr>\n",
       "    <tr>\n",
       "      <th>6</th>\n",
       "      <td>NaN</td>\n",
       "      <td>10000.0</td>\n",
       "      <td>0.834147</td>\n",
       "      <td>0.763192</td>\n",
       "      <td>LR</td>\n",
       "    </tr>\n",
       "    <tr>\n",
       "      <th>7</th>\n",
       "      <td>NaN</td>\n",
       "      <td>10000.0</td>\n",
       "      <td>0.892524</td>\n",
       "      <td>0.243768</td>\n",
       "      <td>SGD</td>\n",
       "    </tr>\n",
       "    <tr>\n",
       "      <th>8</th>\n",
       "      <td>NaN</td>\n",
       "      <td>10000.0</td>\n",
       "      <td>0.883524</td>\n",
       "      <td>0.285389</td>\n",
       "      <td>Ridge</td>\n",
       "    </tr>\n",
       "    <tr>\n",
       "      <th>9</th>\n",
       "      <td>0.001</td>\n",
       "      <td>NaN</td>\n",
       "      <td>0.770877</td>\n",
       "      <td>3.847651</td>\n",
       "      <td>ridge</td>\n",
       "    </tr>\n",
       "    <tr>\n",
       "      <th>10</th>\n",
       "      <td>0.010</td>\n",
       "      <td>NaN</td>\n",
       "      <td>0.770877</td>\n",
       "      <td>3.854868</td>\n",
       "      <td>ridge</td>\n",
       "    </tr>\n",
       "    <tr>\n",
       "      <th>11</th>\n",
       "      <td>0.100</td>\n",
       "      <td>NaN</td>\n",
       "      <td>0.770877</td>\n",
       "      <td>3.869882</td>\n",
       "      <td>ridge</td>\n",
       "    </tr>\n",
       "    <tr>\n",
       "      <th>12</th>\n",
       "      <td>1.000</td>\n",
       "      <td>NaN</td>\n",
       "      <td>0.770877</td>\n",
       "      <td>3.856263</td>\n",
       "      <td>ridge</td>\n",
       "    </tr>\n",
       "    <tr>\n",
       "      <th>13</th>\n",
       "      <td>2.000</td>\n",
       "      <td>NaN</td>\n",
       "      <td>0.770877</td>\n",
       "      <td>3.835916</td>\n",
       "      <td>ridge</td>\n",
       "    </tr>\n",
       "    <tr>\n",
       "      <th>14</th>\n",
       "      <td>5.000</td>\n",
       "      <td>NaN</td>\n",
       "      <td>0.770877</td>\n",
       "      <td>3.839458</td>\n",
       "      <td>ridge</td>\n",
       "    </tr>\n",
       "    <tr>\n",
       "      <th>15</th>\n",
       "      <td>10.000</td>\n",
       "      <td>NaN</td>\n",
       "      <td>0.770877</td>\n",
       "      <td>3.853514</td>\n",
       "      <td>ridge</td>\n",
       "    </tr>\n",
       "  </tbody>\n",
       "</table>\n",
       "</div>"
      ],
      "text/plain": [
       "     alpha        n       score      time   type\n",
       "0      NaN    100.0    0.154189  0.010416     LR\n",
       "1      NaN    100.0 -440.004466  0.003270    SGD\n",
       "2      NaN    100.0    0.054034  0.003842  Ridge\n",
       "3      NaN   1000.0    0.575438  0.145008     LR\n",
       "4      NaN   1000.0    0.216219  0.022699    SGD\n",
       "5      NaN   1000.0    0.484880  0.035963  Ridge\n",
       "6      NaN  10000.0    0.834147  0.763192     LR\n",
       "7      NaN  10000.0    0.892524  0.243768    SGD\n",
       "8      NaN  10000.0    0.883524  0.285389  Ridge\n",
       "9    0.001      NaN    0.770877  3.847651  ridge\n",
       "10   0.010      NaN    0.770877  3.854868  ridge\n",
       "11   0.100      NaN    0.770877  3.869882  ridge\n",
       "12   1.000      NaN    0.770877  3.856263  ridge\n",
       "13   2.000      NaN    0.770877  3.835916  ridge\n",
       "14   5.000      NaN    0.770877  3.839458  ridge\n",
       "15  10.000      NaN    0.770877  3.853514  ridge"
      ]
     },
     "execution_count": 62,
     "metadata": {},
     "output_type": "execute_result"
    }
   ],
   "source": [
    "ridge_results_df = pd.DataFrame(results)\n",
    "ridge_results_df"
   ]
  },
  {
   "cell_type": "code",
   "execution_count": 63,
   "metadata": {
    "collapsed": false
   },
   "outputs": [
    {
     "data": {
      "image/png": "[encoded data removed]",
      "text/plain": [
       "<matplotlib.figure.Figure at 0x115a11210>"
      ]
     },
     "metadata": {},
     "output_type": "display_data"
    }
   ],
   "source": [
    "ridge_results_df = pd.DataFrame(results)\n",
    "plt.plot(ridge_results_df['alpha'],\n",
    "         ridge_results_df['score'])\n",
    "plt.xscale('log')"
   ]
  },
  {
   "cell_type": "code",
   "execution_count": 64,
   "metadata": {
    "collapsed": false
   },
   "outputs": [
    {
     "name": "stdout",
     "output_type": "stream",
     "text": [
      "0.001\n",
      "0.01\n",
      "0.1\n",
      "1.0\n",
      "2\n",
      "5\n",
      "10\n"
     ]
    },
    {
     "data": {
      "text/html": [
       "<div>\n",
       "<table border=\"1\" class=\"dataframe\">\n",
       "  <thead>\n",
       "    <tr style=\"text-align: right;\">\n",
       "      <th></th>\n",
       "      <th>alpha</th>\n",
       "      <th>score</th>\n",
       "      <th>time</th>\n",
       "      <th>type</th>\n",
       "    </tr>\n",
       "  </thead>\n",
       "  <tbody>\n",
       "    <tr>\n",
       "      <th>0</th>\n",
       "      <td>0.001</td>\n",
       "      <td>0.721908</td>\n",
       "      <td>3.225563</td>\n",
       "      <td>SGD</td>\n",
       "    </tr>\n",
       "    <tr>\n",
       "      <th>1</th>\n",
       "      <td>0.010</td>\n",
       "      <td>0.716477</td>\n",
       "      <td>3.248712</td>\n",
       "      <td>SGD</td>\n",
       "    </tr>\n",
       "    <tr>\n",
       "      <th>2</th>\n",
       "      <td>0.100</td>\n",
       "      <td>0.715227</td>\n",
       "      <td>3.278621</td>\n",
       "      <td>SGD</td>\n",
       "    </tr>\n",
       "    <tr>\n",
       "      <th>3</th>\n",
       "      <td>1.000</td>\n",
       "      <td>0.533443</td>\n",
       "      <td>3.286664</td>\n",
       "      <td>SGD</td>\n",
       "    </tr>\n",
       "    <tr>\n",
       "      <th>4</th>\n",
       "      <td>2.000</td>\n",
       "      <td>0.389610</td>\n",
       "      <td>3.271113</td>\n",
       "      <td>SGD</td>\n",
       "    </tr>\n",
       "    <tr>\n",
       "      <th>5</th>\n",
       "      <td>5.000</td>\n",
       "      <td>0.210727</td>\n",
       "      <td>3.389984</td>\n",
       "      <td>SGD</td>\n",
       "    </tr>\n",
       "    <tr>\n",
       "      <th>6</th>\n",
       "      <td>10.000</td>\n",
       "      <td>0.122278</td>\n",
       "      <td>3.375272</td>\n",
       "      <td>SGD</td>\n",
       "    </tr>\n",
       "  </tbody>\n",
       "</table>\n",
       "</div>"
      ],
      "text/plain": [
       "    alpha     score      time type\n",
       "0   0.001  0.721908  3.225563  SGD\n",
       "1   0.010  0.716477  3.248712  SGD\n",
       "2   0.100  0.715227  3.278621  SGD\n",
       "3   1.000  0.533443  3.286664  SGD\n",
       "4   2.000  0.389610  3.271113  SGD\n",
       "5   5.000  0.210727  3.389984  SGD\n",
       "6  10.000  0.122278  3.375272  SGD"
      ]
     },
     "execution_count": 64,
     "metadata": {},
     "output_type": "execute_result"
    }
   ],
   "source": [
    "sgd_results = []\n",
    "alphas = [0.001, 0.01, 0.1, 1.0, 2, 5, 10]\n",
    "for alpha in alphas:\n",
    "    print alpha\n",
    "    start = time()\n",
    "    fit = fit_and_score_linear_model(\n",
    "                SGDRegressor(alpha=alpha), X, y)\n",
    "    end = time()\n",
    "    sgd_results.append({'alpha': alpha,\n",
    "                        'type' : 'SGD', \n",
    "                        'score' : fit['test_score'],\n",
    "                        'time' : end-start})\n",
    "    \n",
    "sgd_results_df = pd.DataFrame(sgd_results)\n",
    "sgd_results_df    "
   ]
  },
  {
   "cell_type": "code",
   "execution_count": 65,
   "metadata": {
    "collapsed": false
   },
   "outputs": [
    {
     "data": {
      "image/png": "[encoded data removed]",
      "text/plain": [
       "<matplotlib.figure.Figure at 0x118e22b10>"
      ]
     },
     "metadata": {},
     "output_type": "display_data"
    }
   ],
   "source": [
    "plt.plot(sgd_results_df['alpha'],\n",
    "         sgd_results_df['score'])\n",
    "plt.xscale('log')"
   ]
  },
  {
   "cell_type": "code",
   "execution_count": 68,
   "metadata": {
    "collapsed": false
   },
   "outputs": [
    {
     "data": {
      "text/html": [
       "<div>\n",
       "<table border=\"1\" class=\"dataframe\">\n",
       "  <thead>\n",
       "    <tr style=\"text-align: right;\">\n",
       "      <th></th>\n",
       "      <th>alpha</th>\n",
       "      <th>score</th>\n",
       "      <th>time</th>\n",
       "      <th>type</th>\n",
       "    </tr>\n",
       "  </thead>\n",
       "  <tbody>\n",
       "    <tr>\n",
       "      <th>0</th>\n",
       "      <td>10</td>\n",
       "      <td>0.720828</td>\n",
       "      <td>3.375272</td>\n",
       "      <td>SGD</td>\n",
       "    </tr>\n",
       "    <tr>\n",
       "      <th>1</th>\n",
       "      <td>10</td>\n",
       "      <td>0.717493</td>\n",
       "      <td>3.375272</td>\n",
       "      <td>SGD</td>\n",
       "    </tr>\n",
       "    <tr>\n",
       "      <th>2</th>\n",
       "      <td>10</td>\n",
       "      <td>0.715353</td>\n",
       "      <td>3.375272</td>\n",
       "      <td>SGD</td>\n",
       "    </tr>\n",
       "    <tr>\n",
       "      <th>3</th>\n",
       "      <td>10</td>\n",
       "      <td>0.716583</td>\n",
       "      <td>3.375272</td>\n",
       "      <td>SGD</td>\n",
       "    </tr>\n",
       "    <tr>\n",
       "      <th>4</th>\n",
       "      <td>10</td>\n",
       "      <td>0.719870</td>\n",
       "      <td>3.375272</td>\n",
       "      <td>SGD</td>\n",
       "    </tr>\n",
       "    <tr>\n",
       "      <th>5</th>\n",
       "      <td>10</td>\n",
       "      <td>0.716076</td>\n",
       "      <td>3.375272</td>\n",
       "      <td>SGD</td>\n",
       "    </tr>\n",
       "    <tr>\n",
       "      <th>6</th>\n",
       "      <td>10</td>\n",
       "      <td>0.718561</td>\n",
       "      <td>3.375272</td>\n",
       "      <td>SGD</td>\n",
       "    </tr>\n",
       "    <tr>\n",
       "      <th>7</th>\n",
       "      <td>10</td>\n",
       "      <td>0.718625</td>\n",
       "      <td>3.375272</td>\n",
       "      <td>SGD</td>\n",
       "    </tr>\n",
       "    <tr>\n",
       "      <th>8</th>\n",
       "      <td>10</td>\n",
       "      <td>0.715675</td>\n",
       "      <td>3.375272</td>\n",
       "      <td>SGD</td>\n",
       "    </tr>\n",
       "    <tr>\n",
       "      <th>9</th>\n",
       "      <td>10</td>\n",
       "      <td>0.717513</td>\n",
       "      <td>3.375272</td>\n",
       "      <td>SGD</td>\n",
       "    </tr>\n",
       "    <tr>\n",
       "      <th>10</th>\n",
       "      <td>10</td>\n",
       "      <td>0.723213</td>\n",
       "      <td>3.375272</td>\n",
       "      <td>SGD</td>\n",
       "    </tr>\n",
       "    <tr>\n",
       "      <th>11</th>\n",
       "      <td>10</td>\n",
       "      <td>0.719058</td>\n",
       "      <td>3.375272</td>\n",
       "      <td>SGD</td>\n",
       "    </tr>\n",
       "    <tr>\n",
       "      <th>12</th>\n",
       "      <td>10</td>\n",
       "      <td>0.717096</td>\n",
       "      <td>3.375272</td>\n",
       "      <td>SGD</td>\n",
       "    </tr>\n",
       "    <tr>\n",
       "      <th>13</th>\n",
       "      <td>10</td>\n",
       "      <td>0.716348</td>\n",
       "      <td>3.375272</td>\n",
       "      <td>SGD</td>\n",
       "    </tr>\n",
       "    <tr>\n",
       "      <th>14</th>\n",
       "      <td>10</td>\n",
       "      <td>0.714321</td>\n",
       "      <td>3.375272</td>\n",
       "      <td>SGD</td>\n",
       "    </tr>\n",
       "    <tr>\n",
       "      <th>15</th>\n",
       "      <td>10</td>\n",
       "      <td>0.718307</td>\n",
       "      <td>3.375272</td>\n",
       "      <td>SGD</td>\n",
       "    </tr>\n",
       "    <tr>\n",
       "      <th>16</th>\n",
       "      <td>10</td>\n",
       "      <td>0.718462</td>\n",
       "      <td>3.375272</td>\n",
       "      <td>SGD</td>\n",
       "    </tr>\n",
       "    <tr>\n",
       "      <th>17</th>\n",
       "      <td>10</td>\n",
       "      <td>0.718134</td>\n",
       "      <td>3.375272</td>\n",
       "      <td>SGD</td>\n",
       "    </tr>\n",
       "    <tr>\n",
       "      <th>18</th>\n",
       "      <td>10</td>\n",
       "      <td>0.720343</td>\n",
       "      <td>3.375272</td>\n",
       "      <td>SGD</td>\n",
       "    </tr>\n",
       "    <tr>\n",
       "      <th>19</th>\n",
       "      <td>10</td>\n",
       "      <td>0.713300</td>\n",
       "      <td>3.375272</td>\n",
       "      <td>SGD</td>\n",
       "    </tr>\n",
       "    <tr>\n",
       "      <th>20</th>\n",
       "      <td>10</td>\n",
       "      <td>0.719135</td>\n",
       "      <td>3.375272</td>\n",
       "      <td>SGD</td>\n",
       "    </tr>\n",
       "    <tr>\n",
       "      <th>21</th>\n",
       "      <td>10</td>\n",
       "      <td>0.715570</td>\n",
       "      <td>3.375272</td>\n",
       "      <td>SGD</td>\n",
       "    </tr>\n",
       "    <tr>\n",
       "      <th>22</th>\n",
       "      <td>10</td>\n",
       "      <td>0.719281</td>\n",
       "      <td>3.375272</td>\n",
       "      <td>SGD</td>\n",
       "    </tr>\n",
       "    <tr>\n",
       "      <th>23</th>\n",
       "      <td>10</td>\n",
       "      <td>0.717534</td>\n",
       "      <td>3.375272</td>\n",
       "      <td>SGD</td>\n",
       "    </tr>\n",
       "    <tr>\n",
       "      <th>24</th>\n",
       "      <td>10</td>\n",
       "      <td>0.713515</td>\n",
       "      <td>3.375272</td>\n",
       "      <td>SGD</td>\n",
       "    </tr>\n",
       "    <tr>\n",
       "      <th>25</th>\n",
       "      <td>10</td>\n",
       "      <td>0.716730</td>\n",
       "      <td>3.375272</td>\n",
       "      <td>SGD</td>\n",
       "    </tr>\n",
       "  </tbody>\n",
       "</table>\n",
       "</div>"
      ],
      "text/plain": [
       "    alpha     score      time type\n",
       "0      10  0.720828  3.375272  SGD\n",
       "1      10  0.717493  3.375272  SGD\n",
       "2      10  0.715353  3.375272  SGD\n",
       "3      10  0.716583  3.375272  SGD\n",
       "4      10  0.719870  3.375272  SGD\n",
       "5      10  0.716076  3.375272  SGD\n",
       "6      10  0.718561  3.375272  SGD\n",
       "7      10  0.718625  3.375272  SGD\n",
       "8      10  0.715675  3.375272  SGD\n",
       "9      10  0.717513  3.375272  SGD\n",
       "10     10  0.723213  3.375272  SGD\n",
       "11     10  0.719058  3.375272  SGD\n",
       "12     10  0.717096  3.375272  SGD\n",
       "13     10  0.716348  3.375272  SGD\n",
       "14     10  0.714321  3.375272  SGD\n",
       "15     10  0.718307  3.375272  SGD\n",
       "16     10  0.718462  3.375272  SGD\n",
       "17     10  0.718134  3.375272  SGD\n",
       "18     10  0.720343  3.375272  SGD\n",
       "19     10  0.713300  3.375272  SGD\n",
       "20     10  0.719135  3.375272  SGD\n",
       "21     10  0.715570  3.375272  SGD\n",
       "22     10  0.719281  3.375272  SGD\n",
       "23     10  0.717534  3.375272  SGD\n",
       "24     10  0.713515  3.375272  SGD\n",
       "25     10  0.716730  3.375272  SGD"
      ]
     },
     "execution_count": 68,
     "metadata": {},
     "output_type": "execute_result"
    }
   ],
   "source": [
    "sgd_results_2 = []\n",
    "\n",
    "fit = fit_and_score_linear_model(\n",
    "                    SGDRegressor(alpha=.001,\n",
    "                                 warm_start=True), X, y)\n",
    "sgd_results_2.append({'alpha': alpha,\n",
    "                    'type' : 'SGD', \n",
    "                    'score' : fit['test_score'],\n",
    "                    'time' : end-start})\n",
    "\n",
    "\n",
    "for _ in range(25):\n",
    "    fit = fit_and_score_linear_model(fit['model'], X, y)\n",
    "    \n",
    "    sgd_results_2.append({'alpha': alpha,\n",
    "                        'type' : 'SGD', \n",
    "                        'score' : fit['test_score'],\n",
    "                        'time' : end-start})\n",
    "    \n",
    "sgd_results_2_df = pd.DataFrame(sgd_results_2)\n",
    "sgd_results_2_df       "
   ]
  },
  {
   "cell_type": "code",
   "execution_count": 69,
   "metadata": {
    "collapsed": false
   },
   "outputs": [
    {
     "data": {
      "text/plain": [
       "[<matplotlib.lines.Line2D at 0x116782290>]"
      ]
     },
     "execution_count": 69,
     "metadata": {},
     "output_type": "execute_result"
    },
    {
     "data": {
      "image/png": "[encoded data removed]",
      "text/plain": [
       "<matplotlib.figure.Figure at 0x1182ef790>"
      ]
     },
     "metadata": {},
     "output_type": "display_data"
    }
   ],
   "source": [
    "plt.plot(range(len(sgd_results_2_df['score'])),\n",
    "         sgd_results_2_df['score'])"
   ]
  },
  {
   "cell_type": "code",
   "execution_count": null,
   "metadata": {
    "collapsed": true
   },
   "outputs": [],
   "source": []
  }
 ],
 "metadata": {
  "kernelspec": {
   "display_name": "Python [conda env:py27]",
   "language": "python",
   "name": "conda-env-py27-py"
  },
  "language_info": {
   "codemirror_mode": {
    "name": "ipython",
    "version": 2
   },
   "file_extension": ".py",
   "mimetype": "text/x-python",
   "name": "python",
   "nbconvert_exporter": "python",
   "pygments_lexer": "ipython2",
   "version": "2.7.12"
  }
 },
 "nbformat": 4,
 "nbformat_minor": 1
}
