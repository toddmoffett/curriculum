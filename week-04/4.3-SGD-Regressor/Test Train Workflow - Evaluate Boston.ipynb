{
 "cells": [
  {
   "cell_type": "code",
   "execution_count": 1,
   "metadata": {
    "collapsed": false
   },
   "outputs": [
    {
     "name": "stdout",
     "output_type": "stream",
     "text": [
      "MAE train 3.71800442165\n",
      "MAE test  3.51177542998\n",
      "MSE train 28.5012240906\n",
      "MSE test  26.0069347226\n",
      "R2  train 0.347719458088\n",
      "R2  test  0.323796793742\n"
     ]
    }
   ],
   "source": [
    "from sklearn.datasets import load_boston\n",
    "from sklearn.metrics import mean_absolute_error, mean_squared_error, r2_score\n",
    "from sklearn.model_selection import train_test_split\n",
    "from sklearn.linear_model import Lasso, Ridge, SGDRegressor\n",
    "from sklearn.preprocessing import StandardScaler\n",
    "\n",
    "def load_data_and_split():\n",
    "    boston = load_boston()\n",
    "    boston_data = boston['data']\n",
    "    boston_target = boston['target']\n",
    "    X_train, X_test, y_train, y_test = train_test_split(boston_data, boston_target, random_state=42)\n",
    "    return X_train, X_test, y_train, y_test\n",
    "\n",
    "load_data_and_split()\n",
    "\n",
    "X_train, X_test, y_train, y_test = load_data_and_split()\n",
    "\n",
    "ridge_regressor = Lasso()\n",
    "\n",
    "scaler = StandardScaler()\n",
    "\n",
    "scaler.fit(X_train)\n",
    "\n",
    "X_train = scaler.transform(X_train)\n",
    "X_test = scaler.transform(X_test)\n",
    "\n",
    "ridge_regressor.fit(X_train, y_train)\n",
    "\n",
    "def score_me(scorer, model, X, y):\n",
    "    return scorer(model.predict(X), y)\n",
    "\n",
    "print(\"MAE train {}\".format(score_me(mean_absolute_error, ridge_regressor, X_train, y_train)))\n",
    "print(\"MAE test  {}\".format(score_me(mean_absolute_error, ridge_regressor, X_test,  y_test)))\n",
    "print(\"MSE train {}\".format(score_me(mean_squared_error, ridge_regressor, X_train, y_train)))\n",
    "print(\"MSE test  {}\".format(score_me(mean_squared_error, ridge_regressor, X_test,  y_test)))\n",
    "print(\"R2  train {}\".format(score_me(r2_score, ridge_regressor, X_train, y_train)))\n",
    "print(\"R2  test  {}\".format(score_me(r2_score, ridge_regressor, X_test,  y_test)))"
   ]
  },
  {
   "cell_type": "code",
   "execution_count": null,
   "metadata": {
    "collapsed": true
   },
   "outputs": [],
   "source": []
  }
 ],
 "metadata": {
  "kernelspec": {
   "display_name": "Python [conda env:py27]",
   "language": "python",
   "name": "conda-env-py27-py"
  },
  "language_info": {
   "codemirror_mode": {
    "name": "ipython",
    "version": 2
   },
   "file_extension": ".py",
   "mimetype": "text/x-python",
   "name": "python",
   "nbconvert_exporter": "python",
   "pygments_lexer": "ipython2",
   "version": "2.7.12"
  }
 },
 "nbformat": 4,
 "nbformat_minor": 1
}
