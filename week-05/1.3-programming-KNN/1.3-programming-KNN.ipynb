{
 "cells": [
  {
   "cell_type": "markdown",
   "metadata": {},
   "source": [
    "# KNN (K-Nearest Neighbors) Lab"
   ]
  },
  {
   "cell_type": "markdown",
   "metadata": {},
   "source": [
    "<img src=\"assets/Data_Science_VD.png\" width=\"400px\">"
   ]
  },
  {
   "cell_type": "markdown",
   "metadata": {},
   "source": [
    "We have been diving into both Hacking Skills and Math and Statistics Knowledge. \n",
    "\n",
    "Substantive Expertise (also called Domain Knowledge) is something that unfortunately can not be taught. \n",
    "\n",
    "Over the next few lesson, we will look at some machine learning techniques that can be employed to help overcome this short-coming. "
   ]
  },
  {
   "cell_type": "markdown",
   "metadata": {},
   "source": [
    "---"
   ]
  },
  {
   "cell_type": "markdown",
   "metadata": {},
   "source": [
    "## Domain & Data\n",
    "\n",
    "### Domain\n",
    "\n",
    "Prepared for the Neural Information Processing Symposium 2003 Feature Extraction Workshop\n",
    "\n",
    "http://clopinet.com/isabelle/Projects/NIPS2003\n",
    "\n",
    "### Data \n",
    "\n",
    "MADELON is an artificial dataset, which was part of the NIPS 2003 feature selection challenge. This is a two-class classification problem with continuous input variables. The difficulty is that the problem is multivariate and highly non-linear.\n",
    "\n",
    "![](assets/Large171.jpg)\n",
    "\n",
    "MADELON is an artificial dataset containing data points grouped in 32 clusters placed on the vertices of a five dimensional hypercube and randomly labeled +1 or -1. The five dimensions constitute 5 informative features. 15 linear combinations of those features were added to form a set of 20 (redundant) informative features. Based on those 20 features one must separate the examples into the 2 classes (corresponding to the +-1 labels). We added a number of distractor feature called 'probes' having no predictive power. The order of the features and patterns were randomized. \n",
    "\n"
   ]
  },
  {
   "cell_type": "markdown",
   "metadata": {},
   "source": [
    "## Problem Statement\n",
    "\n",
    "The NIPS 2003 challenge in feature selection is to find feature selection algorithms that significantly outperform methods using all features in performing a binary classification task.\n",
    "\n",
    "![](assets/180px-Binary-classification-labeled.png)\n",
    "\n"
   ]
  },
  {
   "cell_type": "markdown",
   "metadata": {},
   "source": [
    "## Solution Statement\n",
    "\n",
    "We will develop a binary classification model using a K Nearest Neighbors classifier.\n",
    "\n",
    "<img src=\"assets/2012-10-26-knn-concept.png\" width=\"400px\">\n",
    "\n",
    "\n",
    "## Metric \n",
    "\n",
    "Today, we are largely exploring the dataset. We will use \n",
    "the default metric included with the classifier.\n",
    "\n",
    "## Benchmark\n",
    "\n",
    "We will be assessing after our work today what an appropriate benchmark might be."
   ]
  },
  {
   "cell_type": "code",
   "execution_count": null,
   "metadata": {
    "collapsed": false,
    "scrolled": true
   },
   "outputs": [],
   "source": [
    "from __future__ import print_function\n",
    "import matplotlib.pyplot as plt\n",
    "import numpy as np\n",
    "import pandas as pd\n",
    "import seaborn as sns\n",
    "%matplotlib inline"
   ]
  },
  {
   "cell_type": "markdown",
   "metadata": {},
   "source": [
    "### Load the Dataset into A DataFrame"
   ]
  },
  {
   "cell_type": "markdown",
   "metadata": {},
   "source": [
    "Unfortunately, the features are nameless. Remember, this is a synthetic dataset. The features are nameless, because they actually have no meaning. As such visualization is going to present a greater challenge in terms of gaining insight into our data before we begin."
   ]
  },
  {
   "cell_type": "code",
   "execution_count": null,
   "metadata": {
    "collapsed": true
   },
   "outputs": [],
   "source": [
    "feature_datafile_location = \"../../../data/madelon_data.csv\""
   ]
  },
  {
   "cell_type": "code",
   "execution_count": null,
   "metadata": {
    "collapsed": false
   },
   "outputs": [],
   "source": [
    "madelon_feature_df = pd.read_csv(feature_datafile_location,\n",
    "                                 sep=' ',\n",
    "                                 header=None)\n",
    "madelon_feature_df.columns = ['feat_' + str(col) \n",
    "                              for col in madelon_feature_df.columns]\n",
    "madelon_feature_df.head(1)"
   ]
  },
  {
   "cell_type": "code",
   "execution_count": null,
   "metadata": {
    "collapsed": false
   },
   "outputs": [],
   "source": [
    "fig = plt.figure(figsize=(12,4))\n",
    "\n",
    "fig.add_subplot(131)\n",
    "i = str(np.random.randint(500))\n",
    "j = str(np.random.randint(500))\n",
    "sns.swarmplot(x='feat_'+i, \n",
    "              y='feat_'+j,\n",
    "              data=madelon_feature_df)\n",
    "                            \n",
    "fig.add_subplot(132)\n",
    "i = str(np.random.randint(500))\n",
    "j = str(np.random.randint(500))\n",
    "sns.swarmplot(x='feat_'+i, \n",
    "              y='feat_'+j,\n",
    "              data=madelon_feature_df)\n",
    "                            \n",
    "fig.add_subplot(133)\n",
    "i = str(np.random.randint(500))\n",
    "j = str(np.random.randint(500))\n",
    "sns.swarmplot(x='feat_'+i, \n",
    "              y='feat_'+j,\n",
    "              data=madelon_feature_df)                          "
   ]
  },
  {
   "cell_type": "markdown",
   "metadata": {},
   "source": [
    "Looking at randomly selected features show very little. "
   ]
  },
  {
   "cell_type": "markdown",
   "metadata": {},
   "source": [
    "We can look at the shape of the data."
   ]
  },
  {
   "cell_type": "code",
   "execution_count": null,
   "metadata": {
    "collapsed": false,
    "scrolled": true
   },
   "outputs": [],
   "source": [
    "madelon_feature_df.shape"
   ]
  },
  {
   "cell_type": "code",
   "execution_count": null,
   "metadata": {
    "collapsed": true
   },
   "outputs": [],
   "source": [
    "target_datafile_location = \"../../../data/madelon_labels.csv\""
   ]
  },
  {
   "cell_type": "code",
   "execution_count": null,
   "metadata": {
    "collapsed": false
   },
   "outputs": [],
   "source": [
    "madelon_target_df = pd.read_csv(target_datafile_location,\n",
    "                                header=None)\n",
    "madelon_target_df.columns = ['trgt_' + str(col) \n",
    "                             for col in madelon_target_df.columns]\n",
    "madelon_target_df.head(1)"
   ]
  },
  {
   "cell_type": "markdown",
   "metadata": {},
   "source": [
    "We can look the unique target values."
   ]
  },
  {
   "cell_type": "code",
   "execution_count": null,
   "metadata": {
    "collapsed": false,
    "scrolled": true
   },
   "outputs": [],
   "source": [
    "madelon_target_df['trgt_0'].unique()"
   ]
  },
  {
   "cell_type": "markdown",
   "metadata": {},
   "source": [
    "We can distribution of the target set."
   ]
  },
  {
   "cell_type": "code",
   "execution_count": null,
   "metadata": {
    "collapsed": false
   },
   "outputs": [],
   "source": [
    "madelon_target_df.groupby(['trgt_0']).size()"
   ]
  },
  {
   "cell_type": "markdown",
   "metadata": {},
   "source": [
    "It appears as though our target set is evenly distributed."
   ]
  },
  {
   "cell_type": "code",
   "execution_count": null,
   "metadata": {
    "collapsed": false
   },
   "outputs": [],
   "source": [
    "from sklearn.model_selection import train_test_split"
   ]
  },
  {
   "cell_type": "code",
   "execution_count": null,
   "metadata": {
    "collapsed": true
   },
   "outputs": [],
   "source": [
    "X_train, \\\n",
    "    X_test, \\\n",
    "    y_train, \\\n",
    "    y_test = train_test_split(madelon_feature_df,\n",
    "                              madelon_target_df,\n",
    "                              random_state=42)\n"
   ]
  },
  {
   "cell_type": "code",
   "execution_count": 1,
   "metadata": {
    "collapsed": true
   },
   "outputs": [],
   "source": [
    "from sklearn.neighbors import KNeighborsClassifier\n",
    "knn = KNeighborsClassifier()"
   ]
  },
  {
   "cell_type": "code",
   "execution_count": 10,
   "metadata": {
    "collapsed": false
   },
   "outputs": [
    {
     "data": {
      "text/plain": [
       "\"KNeighborsClassifier(algorithm='auto', leaf_size=30, metric='minkowski',\\n           metric_params=None, n_jobs=1, n_neighbors=5, p=2,\\n           weights='uniform')\""
      ]
     },
     "execution_count": 10,
     "metadata": {},
     "output_type": "execute_result"
    }
   ],
   "source": [
    "knn.__str__()"
   ]
  },
  {
   "cell_type": "code",
   "execution_count": null,
   "metadata": {
    "collapsed": false
   },
   "outputs": [],
   "source": [
    "knn.fit(X_train, y_train)\n"
   ]
  },
  {
   "cell_type": "markdown",
   "metadata": {},
   "source": [
    "It appears as though we are getting a warning from the KNN fit. It is associate with the shape of our target data."
   ]
  },
  {
   "cell_type": "code",
   "execution_count": null,
   "metadata": {
    "collapsed": false
   },
   "outputs": [],
   "source": [
    "y_train.shape, y_test.shape"
   ]
  },
  {
   "cell_type": "code",
   "execution_count": null,
   "metadata": {
    "collapsed": true
   },
   "outputs": [],
   "source": [
    "y_train = np.ravel(y_train)\n",
    "y_test = np.ravel(y_test)"
   ]
  },
  {
   "cell_type": "code",
   "execution_count": null,
   "metadata": {
    "collapsed": false
   },
   "outputs": [],
   "source": [
    "y_train.shape, y_test.shape"
   ]
  },
  {
   "cell_type": "code",
   "execution_count": null,
   "metadata": {
    "collapsed": false,
    "scrolled": true
   },
   "outputs": [],
   "source": [
    "knn.fit(X_train, y_train)"
   ]
  },
  {
   "cell_type": "code",
   "execution_count": null,
   "metadata": {
    "collapsed": false
   },
   "outputs": [],
   "source": [
    "print(\"Train Score: {}\".format(knn.score(X_train, y_train)))\n",
    "print(\" Test Score: {}\".format(knn.score(X_test, y_test)))"
   ]
  },
  {
   "cell_type": "markdown",
   "metadata": {},
   "source": [
    "### The Standard Sklearn Template For Classification\n",
    "\n",
    "1. Load the data\n",
    "1. Split the data into training and testing sets\n",
    "1. Create a new model\n",
    "1. Fit the model\n",
    "1. Score the model"
   ]
  },
  {
   "cell_type": "code",
   "execution_count": null,
   "metadata": {
    "collapsed": false
   },
   "outputs": [],
   "source": [
    "def standard_classification_knn(X, y, n_neighbors, random_state):\n",
    "    X_train,     \\\n",
    "        X_test,  \\\n",
    "        y_train, \\\n",
    "        y_test = train_test_split(X, y, \n",
    "                                  random_state=random_state)\n",
    "\n",
    "    y_train = np.ravel(y_train)\n",
    "    y_test = np.ravel(y_test)\n",
    "    \n",
    "    knn = KNeighborsClassifier(n_neighbors=n_neighbors, n_jobs=4)\n",
    "    knn.fit(X_train, y_train)\n",
    "    \n",
    "    train_score = knn.score(X_train, y_train)\n",
    "    test_score = knn.score(X_test, y_test)\n",
    "    \n",
    "    print(\"{} \".format(n_neighbors), end='')\n",
    "    \n",
    "    return {'n_neighbors': n_neighbors,\n",
    "            'train_score' : train_score,\n",
    "            'test_score' : test_score}"
   ]
  },
  {
   "cell_type": "code",
   "execution_count": null,
   "metadata": {
    "collapsed": false
   },
   "outputs": [],
   "source": [
    "standard_classification_knn(madelon_feature_df,\n",
    "                            madelon_target_df,\n",
    "                            3,\n",
    "                            random_state=42) "
   ]
  },
  {
   "cell_type": "markdown",
   "metadata": {},
   "source": [
    "In order to get some context into what this means, we should look at multiple values of train and testing score."
   ]
  },
  {
   "cell_type": "code",
   "execution_count": null,
   "metadata": {
    "collapsed": false
   },
   "outputs": [],
   "source": [
    "results = [standard_classification_knn(madelon_feature_df,\n",
    "                                       madelon_target_df,\n",
    "                                       n_neighbors,\n",
    "                                       random_state=42) \n",
    "           for n_neighbors in range(2,20)]\n",
    "\n",
    "results_df = pd.DataFrame(results)\n",
    "results_df.head(2)"
   ]
  },
  {
   "cell_type": "code",
   "execution_count": null,
   "metadata": {
    "collapsed": false
   },
   "outputs": [],
   "source": [
    "plt.plot(results_df['n_neighbors'], results_df['test_score'], label='test score')\n",
    "plt.plot(results_df['n_neighbors'], results_df['train_score'], label='training score')\n",
    "plt.legend()"
   ]
  },
  {
   "cell_type": "code",
   "execution_count": null,
   "metadata": {
    "collapsed": false
   },
   "outputs": [],
   "source": [
    "results = [standard_classification_knn(madelon_feature_df,\n",
    "                                       madelon_target_df,\n",
    "                                       n_neighbors,\n",
    "                                       random_state=21) \n",
    "           for n_neighbors in range(2,20)]\n",
    "\n",
    "results_df = pd.DataFrame(results)\n",
    "plt.plot(results_df['n_neighbors'], results_df['test_score'], label='test score')\n",
    "plt.plot(results_df['n_neighbors'], results_df['train_score'], label='training score')\n",
    "plt.legend()\n"
   ]
  },
  {
   "cell_type": "markdown",
   "metadata": {},
   "source": [
    "### Why would our performance suffer when we evaluate based upon an even number of neighbors?"
   ]
  },
  {
   "cell_type": "code",
   "execution_count": null,
   "metadata": {
    "collapsed": true
   },
   "outputs": [],
   "source": [
    "def plot_standard_knn_classification_for_odd_values_of_n(X, y, random_state):    \n",
    "    results = [standard_classification_knn(madelon_feature_df,\n",
    "                                       madelon_target_df,\n",
    "                                       n_neighbors,\n",
    "                                       random_state=random_state) \n",
    "           for n_neighbors in range(2,30) if n_neighbors % 2 == 1]\n",
    "\n",
    "    print()\n",
    "    \n",
    "    results_df = pd.DataFrame(results)\n",
    "    plt.plot(results_df['n_neighbors'], results_df['test_score'], label='test score')\n",
    "    plt.plot(results_df['n_neighbors'], results_df['train_score'], label='training score')\n",
    "    plt.legend()"
   ]
  },
  {
   "cell_type": "code",
   "execution_count": null,
   "metadata": {
    "collapsed": false
   },
   "outputs": [],
   "source": [
    "fig = plt.figure(figsize=(20,6))\n",
    "plt.title('Plots of Error v Number of Neighbors for Various Random States')\n",
    "\n",
    "fig.add_subplot(141)\n",
    "plot_standard_knn_classification_for_odd_values_of_n(madelon_feature_df, madelon_target_df, 12)\n",
    "\n",
    "fig.add_subplot(142)\n",
    "plot_standard_knn_classification_for_odd_values_of_n(madelon_feature_df, madelon_target_df, 18)\n",
    "\n",
    "fig.add_subplot(143)\n",
    "plot_standard_knn_classification_for_odd_values_of_n(madelon_feature_df, madelon_target_df, 25)\n",
    "\n",
    "fig.add_subplot(144)\n",
    "plot_standard_knn_classification_for_odd_values_of_n(madelon_feature_df, madelon_target_df, 42)\n"
   ]
  },
  {
   "cell_type": "code",
   "execution_count": null,
   "metadata": {
    "collapsed": true
   },
   "outputs": [],
   "source": []
  }
 ],
 "metadata": {
  "kernelspec": {
   "display_name": "Python 2",
   "language": "python",
   "name": "python2"
  },
  "language_info": {
   "codemirror_mode": {
    "name": "ipython",
    "version": 2
   },
   "file_extension": ".py",
   "mimetype": "text/x-python",
   "name": "python",
   "nbconvert_exporter": "python",
   "pygments_lexer": "ipython2",
   "version": "2.7.12"
  }
 },
 "nbformat": 4,
 "nbformat_minor": 0
}
