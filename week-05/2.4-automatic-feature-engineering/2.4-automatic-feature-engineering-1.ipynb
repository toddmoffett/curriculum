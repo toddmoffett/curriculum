{
 "cells": [
  {
   "cell_type": "markdown",
   "metadata": {},
   "source": [
    "# ![](https://ga-dash.s3.amazonaws.com/production/assets/logo-9f88ae6c9c3871690e33280fcf557f33.png) Automatic Feature Engineering, Pt. 1\n",
    "Week 5 | Lesson 2.4\n",
    "\n",
    "### LEARNING OBJECTIVES\n",
    "*After this lesson, you will be able to:*\n",
    "- "
   ]
  },
  {
   "cell_type": "code",
   "execution_count": 2,
   "metadata": {
    "collapsed": false
   },
   "outputs": [],
   "source": [
    "from os import chdir; chdir('/Users/toddmoffett1/DSI/dsi_workspace/curriculum/week-05/lib')\n",
    "from __future__ import print_function\n",
    "import matplotlib.pyplot as plt\n",
    "import numpy as np\n",
    "import pandas as pd\n",
    "import seaborn as sns\n",
    "%matplotlib inline\n",
    "\n",
    "from madelon import standard_classification, load_madelon_set_into_df"
   ]
  },
  {
   "cell_type": "markdown",
   "metadata": {
    "collapsed": true
   },
   "source": [
    "## Domain & Data\n",
    "\n",
    "### Domain\n",
    "\n",
    "Prepared for the Neural Information Processing Symposium 2003 Feature Extraction Workshop\n",
    "\n",
    "http://clopinet.com/isabelle/Projects/NIPS2003\n",
    "\n",
    "### Data \n",
    "\n",
    "MADELON is an artificial dataset, which was part of the NIPS 2003 feature selection challenge. This is a two-class classification problem with continuous input variables. The difficulty is that the problem is multivariate and highly non-linear.\n",
    "\n",
    "MADELON is an artificial dataset containing data points grouped in 32 clusters placed on the vertices of a five dimensional hypercube and randomly labeled +1 or -1. The five dimensions constitute 5 informative features. 15 linear combinations of those features were added to form a set of 20 (redundant) informative features. Based on those 20 features one must separate the examples into the 2 classes (corresponding to the +-1 labels). We added a number of distractor feature called 'probes' having no predictive power. The order of the features and patterns were randomized. "
   ]
  },
  {
   "cell_type": "code",
   "execution_count": 3,
   "metadata": {
    "collapsed": false
   },
   "outputs": [
    {
     "data": {
      "text/html": [
       "<div>\n",
       "<table border=\"1\" class=\"dataframe\">\n",
       "  <thead>\n",
       "    <tr style=\"text-align: right;\">\n",
       "      <th></th>\n",
       "      <th>feat_0</th>\n",
       "      <th>feat_1</th>\n",
       "      <th>feat_2</th>\n",
       "      <th>feat_3</th>\n",
       "      <th>feat_4</th>\n",
       "      <th>feat_5</th>\n",
       "      <th>feat_6</th>\n",
       "      <th>feat_7</th>\n",
       "      <th>feat_8</th>\n",
       "      <th>feat_9</th>\n",
       "      <th>...</th>\n",
       "      <th>feat_490</th>\n",
       "      <th>feat_491</th>\n",
       "      <th>feat_492</th>\n",
       "      <th>feat_493</th>\n",
       "      <th>feat_494</th>\n",
       "      <th>feat_495</th>\n",
       "      <th>feat_496</th>\n",
       "      <th>feat_497</th>\n",
       "      <th>feat_498</th>\n",
       "      <th>feat_499</th>\n",
       "    </tr>\n",
       "  </thead>\n",
       "  <tbody>\n",
       "    <tr>\n",
       "      <th>0</th>\n",
       "      <td>485</td>\n",
       "      <td>477</td>\n",
       "      <td>537</td>\n",
       "      <td>479</td>\n",
       "      <td>452</td>\n",
       "      <td>471</td>\n",
       "      <td>491</td>\n",
       "      <td>476</td>\n",
       "      <td>475</td>\n",
       "      <td>473</td>\n",
       "      <td>...</td>\n",
       "      <td>477</td>\n",
       "      <td>481</td>\n",
       "      <td>477</td>\n",
       "      <td>485</td>\n",
       "      <td>511</td>\n",
       "      <td>485</td>\n",
       "      <td>481</td>\n",
       "      <td>479</td>\n",
       "      <td>475</td>\n",
       "      <td>496</td>\n",
       "    </tr>\n",
       "    <tr>\n",
       "      <th>1</th>\n",
       "      <td>483</td>\n",
       "      <td>458</td>\n",
       "      <td>460</td>\n",
       "      <td>487</td>\n",
       "      <td>587</td>\n",
       "      <td>475</td>\n",
       "      <td>526</td>\n",
       "      <td>479</td>\n",
       "      <td>485</td>\n",
       "      <td>469</td>\n",
       "      <td>...</td>\n",
       "      <td>463</td>\n",
       "      <td>478</td>\n",
       "      <td>487</td>\n",
       "      <td>338</td>\n",
       "      <td>513</td>\n",
       "      <td>486</td>\n",
       "      <td>483</td>\n",
       "      <td>492</td>\n",
       "      <td>510</td>\n",
       "      <td>517</td>\n",
       "    </tr>\n",
       "    <tr>\n",
       "      <th>2</th>\n",
       "      <td>487</td>\n",
       "      <td>542</td>\n",
       "      <td>499</td>\n",
       "      <td>468</td>\n",
       "      <td>448</td>\n",
       "      <td>471</td>\n",
       "      <td>442</td>\n",
       "      <td>478</td>\n",
       "      <td>480</td>\n",
       "      <td>477</td>\n",
       "      <td>...</td>\n",
       "      <td>487</td>\n",
       "      <td>481</td>\n",
       "      <td>492</td>\n",
       "      <td>650</td>\n",
       "      <td>506</td>\n",
       "      <td>501</td>\n",
       "      <td>480</td>\n",
       "      <td>489</td>\n",
       "      <td>499</td>\n",
       "      <td>498</td>\n",
       "    </tr>\n",
       "  </tbody>\n",
       "</table>\n",
       "<p>3 rows × 500 columns</p>\n",
       "</div>"
      ],
      "text/plain": [
       "   feat_0  feat_1  feat_2  feat_3  feat_4  feat_5  feat_6  feat_7  feat_8  \\\n",
       "0     485     477     537     479     452     471     491     476     475   \n",
       "1     483     458     460     487     587     475     526     479     485   \n",
       "2     487     542     499     468     448     471     442     478     480   \n",
       "\n",
       "   feat_9    ...     feat_490  feat_491  feat_492  feat_493  feat_494  \\\n",
       "0     473    ...          477       481       477       485       511   \n",
       "1     469    ...          463       478       487       338       513   \n",
       "2     477    ...          487       481       492       650       506   \n",
       "\n",
       "   feat_495  feat_496  feat_497  feat_498  feat_499  \n",
       "0       485       481       479       475       496  \n",
       "1       486       483       492       510       517  \n",
       "2       501       480       489       499       498  \n",
       "\n",
       "[3 rows x 500 columns]"
      ]
     },
     "execution_count": 3,
     "metadata": {},
     "output_type": "execute_result"
    }
   ],
   "source": [
    "madelon_feature_df, madelon_target_df = load_madelon_set_into_df()\n",
    "madelon_feature_df.head(3)"
   ]
  },
  {
   "cell_type": "code",
   "execution_count": 4,
   "metadata": {
    "collapsed": false
   },
   "outputs": [
    {
     "data": {
      "text/plain": [
       "(2000, 500)"
      ]
     },
     "execution_count": 4,
     "metadata": {},
     "output_type": "execute_result"
    }
   ],
   "source": [
    "madelon_feature_df.shape"
   ]
  },
  {
   "cell_type": "markdown",
   "metadata": {},
   "source": [
    "## Problem Statement\n",
    "\n",
    "The NIPS 2003 challenge in feature selection is to find feature selection algorithms that significantly outperform methods using all features in performing a binary classification task."
   ]
  },
  {
   "cell_type": "markdown",
   "metadata": {},
   "source": [
    "## Solution Statement\n",
    "\n",
    "We will develop a binary classification model and attempt to augment its performance using automatic feature selection techniques."
   ]
  },
  {
   "cell_type": "code",
   "execution_count": 5,
   "metadata": {
    "collapsed": false
   },
   "outputs": [
    {
     "name": "stdout",
     "output_type": "stream",
     "text": [
      "KNeighborsClassifier n_neighbors:17 n_jobs:-1\n",
      "LogisticRegression random_state:17 n_jobs:-1\n"
     ]
    }
   ],
   "source": [
    "from sklearn.neighbors import KNeighborsClassifier\n",
    "from sklearn.linear_model import LogisticRegression\n",
    "\n",
    "trained_knn = standard_classification(KNeighborsClassifier,\n",
    "                                      madelon_feature_df,\n",
    "                                      madelon_target_df,\n",
    "                                      {'n_neighbors' : 17,\n",
    "                                       'n_jobs':-1},\n",
    "                                      random_state_split=42)\n",
    "\n",
    "trained_logreg = standard_classification(LogisticRegression,\n",
    "                                         madelon_feature_df,\n",
    "                                         madelon_target_df,\n",
    "                                         {'random_state' : 17,\n",
    "                                          'n_jobs':-1},\n",
    "                                         random_state_split=42)"
   ]
  },
  {
   "cell_type": "markdown",
   "metadata": {},
   "source": [
    "## Metric \n",
    "\n",
    "Today, we will examine all of the metrics that we have used so far - Accuracy, Precision, Recall, and F1-Score, as well as look at a Confusion Matrix. For comparing models, we will use Accuracy.\n",
    "\n",
    "## Benchmark\n",
    "\n",
    "We will use as a benchmark our mean accuracy across five random train test splits using a K Nearest Neighbors model with an optimal value for number of `n_neighbors`. This model had a 73.8% accuracy.\n",
    "\n",
    "<img src=\"assets/benchmark.png\" width=\"300px\">"
   ]
  },
  {
   "cell_type": "markdown",
   "metadata": {},
   "source": [
    "## Automating Feature Engineering"
   ]
  },
  {
   "cell_type": "code",
   "execution_count": 6,
   "metadata": {
    "collapsed": true
   },
   "outputs": [],
   "source": [
    "from sklearn.pipeline import Pipeline"
   ]
  },
  {
   "cell_type": "markdown",
   "metadata": {},
   "source": [
    "[`Pipeline`](http://scikit-learn.org/stable/modules/generated/sklearn.pipeline.Pipeline.html#sklearn.pipeline.Pipeline) can be used to chain multiple estimatros into one.\n",
    "\n",
    "We will use it as our primary tool for creating automated feature engineering flows. "
   ]
  },
  {
   "cell_type": "markdown",
   "metadata": {},
   "source": [
    "#### Advantages\n",
    "\n",
    "1. It is a **convenience method** allowing us to call `fit`, `predict`, and `score` only once in order to build and validate a model.\n",
    "1. It allows for joint parameter selection, allowing use to **grid search over all parameters** in the pipeline at once."
   ]
  },
  {
   "cell_type": "markdown",
   "metadata": {},
   "source": [
    "### A Simple Example"
   ]
  },
  {
   "cell_type": "code",
   "execution_count": 7,
   "metadata": {
    "collapsed": true
   },
   "outputs": [],
   "source": [
    "from sklearn.datasets import samples_generator\n",
    "from sklearn.feature_selection import SelectKBest, f_classif\n",
    "from sklearn.pipeline import make_pipeline"
   ]
  },
  {
   "cell_type": "markdown",
   "metadata": {},
   "source": [
    "#### 2. Split the data into training and testing sets"
   ]
  },
  {
   "cell_type": "code",
   "execution_count": 8,
   "metadata": {
    "collapsed": true
   },
   "outputs": [],
   "source": [
    "from sklearn.model_selection import train_test_split\n",
    "\n",
    "X_train, \\\n",
    "X_test,  \\\n",
    "y_train, \\\n",
    "    y_test = train_test_split(madelon_feature_df, \n",
    "                              madelon_target_df,\n",
    "                              random_state=42)"
   ]
  },
  {
   "cell_type": "markdown",
   "metadata": {},
   "source": [
    "#### 3. Create a new model"
   ]
  },
  {
   "cell_type": "code",
   "execution_count": 10,
   "metadata": {
    "collapsed": false
   },
   "outputs": [],
   "source": [
    "this_pipeline = (SelectKBest(f_classif, k=5),\n",
    "                 KNeighborsClassifier(n_neighbors=17))\n",
    "anova_classifier = make_pipeline(*this_pipeline)"
   ]
  },
  {
   "cell_type": "markdown",
   "metadata": {},
   "source": [
    "#### 4. Fit the model"
   ]
  },
  {
   "cell_type": "code",
   "execution_count": 11,
   "metadata": {
    "collapsed": false
   },
   "outputs": [
    {
     "data": {
      "text/plain": [
       "Pipeline(steps=[('selectkbest', SelectKBest(k=5, score_func=<function f_classif at 0x1110ff758>)), ('kneighborsclassifier', KNeighborsClassifier(algorithm='auto', leaf_size=30, metric='minkowski',\n",
       "           metric_params=None, n_jobs=1, n_neighbors=17, p=2,\n",
       "           weights='uniform'))])"
      ]
     },
     "execution_count": 11,
     "metadata": {},
     "output_type": "execute_result"
    }
   ],
   "source": [
    "anova_classifier.fit(X_train, y_train)"
   ]
  },
  {
   "cell_type": "markdown",
   "metadata": {},
   "source": [
    "#### 5. Score the model"
   ]
  },
  {
   "cell_type": "code",
   "execution_count": 12,
   "metadata": {
    "collapsed": false
   },
   "outputs": [
    {
     "data": {
      "text/plain": [
       "(0.70666666666666667, 0.60999999999999999)"
      ]
     },
     "execution_count": 12,
     "metadata": {},
     "output_type": "execute_result"
    }
   ],
   "source": [
    "anova_classifier.score(X_train, y_train), \\\n",
    "    anova_classifier.score(X_test, y_test)"
   ]
  },
  {
   "cell_type": "markdown",
   "metadata": {},
   "source": [
    "### Independent Practice"
   ]
  },
  {
   "cell_type": "markdown",
   "metadata": {},
   "source": [
    "Complete this wrapper function"
   ]
  },
  {
   "cell_type": "code",
   "execution_count": 29,
   "metadata": {
    "collapsed": true
   },
   "outputs": [],
   "source": [
    "def general_classifier(X, y, model, random_state):\n",
    "    \n",
    "    # TODO: 2. Split the data into training and testing sets\n",
    "    X_train, X_test, y_train, y_test = train_test_split(X, y, random_state=random_state)\n",
    "        \n",
    "    # TODO: 4. fit the model\n",
    "    model.fit(X_train, y_train)\n",
    "    \n",
    "    # TODO: 5. score the model\n",
    "    train_score = model.score(X_train, y_train) \n",
    "    test_score = model.score(X_test, y_test)\n",
    "    return {'model' : model,\n",
    "            'train_score' : train_score,\n",
    "            'test_score' : test_score}"
   ]
  },
  {
   "cell_type": "code",
   "execution_count": 25,
   "metadata": {
    "collapsed": false
   },
   "outputs": [],
   "source": [
    "def general_classifier(X, y, model, random_state):\n",
    "    \n",
    "    # TODO: 2. Split the data into training and testing sets\n",
    "    X_train, X_test, y_train, y_test = train_test_split(X, y, random_state=random_state)\n",
    "        \n",
    "    # TODO: 4. fit the model\n",
    "    model.fit(X_train, y_train)\n",
    "    \n",
    "    # TODO: 5. score the model\n",
    "    model.score(X_train, y_train), \\\n",
    "    model.score(X_test, y_test)\n",
    "    return {'model' : model,\n",
    "            'train_score' : train_score,\n",
    "            'test_score' : test_score}"
   ]
  },
  {
   "cell_type": "markdown",
   "metadata": {},
   "source": [
    "### Test your Function\n",
    "\n",
    "You should have the same scores as above."
   ]
  },
  {
   "cell_type": "code",
   "execution_count": 30,
   "metadata": {
    "collapsed": false
   },
   "outputs": [
    {
     "data": {
      "text/plain": [
       "{'model': Pipeline(steps=[('selectkbest', SelectKBest(k=5, score_func=<function f_classif at 0x1110ff758>)), ('kneighborsclassifier', KNeighborsClassifier(algorithm='auto', leaf_size=30, metric='minkowski',\n",
       "            metric_params=None, n_jobs=1, n_neighbors=17, p=2,\n",
       "            weights='uniform'))]),\n",
       " 'test_score': 0.60999999999999999,\n",
       " 'train_score': 0.70666666666666667}"
      ]
     },
     "execution_count": 30,
     "metadata": {},
     "output_type": "execute_result"
    }
   ],
   "source": [
    "this_pipeline = (\n",
    "    SelectKBest(f_classif, k=5),\n",
    "    KNeighborsClassifier(n_neighbors=17)\n",
    ")\n",
    "general_classifier(madelon_feature_df,\n",
    "                   madelon_target_df,\n",
    "                   make_pipeline(*this_pipeline), 42)"
   ]
  },
  {
   "cell_type": "markdown",
   "metadata": {},
   "source": [
    "---"
   ]
  },
  {
   "cell_type": "markdown",
   "metadata": {},
   "source": [
    "## `Pipeline` and `make_pipeline`"
   ]
  },
  {
   "cell_type": "markdown",
   "metadata": {},
   "source": [
    "The `make_pipeline` method is a helper function that helps with constructing a `Pipeline` object."
   ]
  },
  {
   "cell_type": "code",
   "execution_count": 31,
   "metadata": {
    "collapsed": true
   },
   "outputs": [],
   "source": [
    "estimators = [('selectkbest', SelectKBest(f_classif, k=5)),\n",
    "              ('classifier', KNeighborsClassifier(n_neighbors=17))]"
   ]
  },
  {
   "cell_type": "code",
   "execution_count": 35,
   "metadata": {
    "collapsed": false
   },
   "outputs": [
    {
     "data": {
      "text/plain": [
       "Pipeline(steps=[('selectkbest', SelectKBest(k=5, score_func=<function f_classif at 0x1110ff758>)), ('classifier', KNeighborsClassifier(algorithm='auto', leaf_size=30, metric='minkowski',\n",
       "           metric_params=None, n_jobs=1, n_neighbors=17, p=2,\n",
       "           weights='uniform'))])"
      ]
     },
     "execution_count": 35,
     "metadata": {},
     "output_type": "execute_result"
    }
   ],
   "source": [
    "# Both call a Pipleine \n",
    "pipe = Pipeline(estimators)\n",
    "via_make = make_pipeline(*this_pipeline)\n",
    "pipe"
   ]
  },
  {
   "cell_type": "code",
   "execution_count": 36,
   "metadata": {
    "collapsed": false
   },
   "outputs": [
    {
     "data": {
      "text/plain": [
       "Pipeline(steps=[('selectkbest', SelectKBest(k=5, score_func=<function f_classif at 0x1110ff758>)), ('kneighborsclassifier', KNeighborsClassifier(algorithm='auto', leaf_size=30, metric='minkowski',\n",
       "           metric_params=None, n_jobs=1, n_neighbors=17, p=2,\n",
       "           weights='uniform'))])"
      ]
     },
     "execution_count": 36,
     "metadata": {},
     "output_type": "execute_result"
    }
   ],
   "source": [
    "via_make"
   ]
  },
  {
   "cell_type": "markdown",
   "metadata": {},
   "source": [
    "We can not compare them via equality because they are objects and not **the same** object, but looking at their attributes, you can see that they are equivalent. "
   ]
  },
  {
   "cell_type": "markdown",
   "metadata": {},
   "source": [
    "### Accessing Steps in a Pipeline"
   ]
  },
  {
   "cell_type": "code",
   "execution_count": 34,
   "metadata": {
    "collapsed": false
   },
   "outputs": [
    {
     "name": "stdout",
     "output_type": "stream",
     "text": [
      "As a List\n",
      "('selectkbest', SelectKBest(k=5, score_func=<function f_classif at 0x1110ff758>))\n",
      "('classifier', KNeighborsClassifier(algorithm='auto', leaf_size=30, metric='minkowski',\n",
      "           metric_params=None, n_jobs=1, n_neighbors=17, p=2,\n",
      "           weights='uniform'))\n",
      "\n",
      "Indexed as a List\n",
      "('selectkbest', SelectKBest(k=5, score_func=<function f_classif at 0x1110ff758>))\n",
      "\n",
      "As a Dictionary\n",
      "SelectKBest(k=5, score_func=<function f_classif at 0x1110ff758>)\n"
     ]
    }
   ],
   "source": [
    "print('As a List')\n",
    "[print(step) for step in pipe.steps]\n",
    "\n",
    "print('\\nIndexed as a List')\n",
    "print(pipe.steps[0])\n",
    "\n",
    "print('\\nAs a Dictionary')\n",
    "print(pipe.named_steps['selectkbest'])"
   ]
  },
  {
   "cell_type": "markdown",
   "metadata": {},
   "source": [
    "### Adjusting Params after Instantiation"
   ]
  },
  {
   "cell_type": "markdown",
   "metadata": {},
   "source": [
    "This uses a common syntax that you will see in a lot of query languages.\n",
    "\n",
    "The syntax is \n",
    "\n",
    "    named_estimator__parameter\n",
    "    \n",
    "Python loves those dunders!"
   ]
  },
  {
   "cell_type": "code",
   "execution_count": 37,
   "metadata": {
    "collapsed": false
   },
   "outputs": [
    {
     "data": {
      "text/plain": [
       "Pipeline(steps=[('selectkbest', SelectKBest(k=5, score_func=<function f_classif at 0x1110ff758>)), ('classifier', KNeighborsClassifier(algorithm='auto', leaf_size=30, metric='minkowski',\n",
       "           metric_params=None, n_jobs=-1, n_neighbors=17, p=2,\n",
       "           weights='uniform'))])"
      ]
     },
     "execution_count": 37,
     "metadata": {},
     "output_type": "execute_result"
    }
   ],
   "source": [
    "pipe.set_params(classifier__n_jobs=-1)\n",
    "pipe"
   ]
  },
  {
   "cell_type": "markdown",
   "metadata": {},
   "source": [
    "### Pipeline and GridSearch"
   ]
  },
  {
   "cell_type": "markdown",
   "metadata": {},
   "source": [
    "Quick review of [`GridSearchCV`](http://scikit-learn.org/stable/modules/grid_search.html#grid-search).\n",
    "\n",
    "**Hyper-parameters** are parameters that are not directly learnt within estimators.\n",
    "\n",
    "In scikit-learn they are passed as arguments to the constructor of the estimator classes."
   ]
  },
  {
   "cell_type": "markdown",
   "metadata": {},
   "source": [
    "The grid search provided by `GridSearchCV` exhaustively generates candidates from a grid of parameter values specified with the param_grid parameter. "
   ]
  },
  {
   "cell_type": "code",
   "execution_count": 38,
   "metadata": {
    "collapsed": false,
    "scrolled": true
   },
   "outputs": [
    {
     "data": {
      "text/plain": [
       "{'classifier__p': [1, 2],\n",
       " 'selectkbest__k': [5, 6, 7, 8, 9, 10, 11, 12, 13, 14]}"
      ]
     },
     "execution_count": 38,
     "metadata": {},
     "output_type": "execute_result"
    }
   ],
   "source": [
    "from sklearn.model_selection import GridSearchCV\n",
    "params = dict(selectkbest__k=range(5,15),\n",
    "              classifier__p=[1,2])\n",
    "\n",
    "params"
   ]
  },
  {
   "cell_type": "markdown",
   "metadata": {},
   "source": [
    "This specificies that the following grid should be explored:\n",
    "\n",
    "- across `p` values for `KNearestNeighborsClassifer` (which specifies the way distance is calculated)\n",
    "- across `k`values for `SelectKBest` (which specifies the number of features to use)"
   ]
  },
  {
   "cell_type": "markdown",
   "metadata": {},
   "source": [
    "Let's search over our `madelon` dataset."
   ]
  },
  {
   "cell_type": "code",
   "execution_count": 39,
   "metadata": {
    "collapsed": true
   },
   "outputs": [],
   "source": [
    "pipe_grid_search = GridSearchCV(pipe, param_grid=params)"
   ]
  },
  {
   "cell_type": "code",
   "execution_count": 40,
   "metadata": {
    "collapsed": false
   },
   "outputs": [],
   "source": [
    "grid_search_results = general_classifier(madelon_feature_df,\n",
    "                                         madelon_target_df,\n",
    "                                         pipe_grid_search,\n",
    "                                         42)"
   ]
  },
  {
   "cell_type": "code",
   "execution_count": 41,
   "metadata": {
    "collapsed": false
   },
   "outputs": [
    {
     "data": {
      "text/plain": [
       "(0.87666666666666671, 0.85599999999999998)"
      ]
     },
     "execution_count": 41,
     "metadata": {},
     "output_type": "execute_result"
    }
   ],
   "source": [
    "grid_search_results['train_score'], grid_search_results['test_score']"
   ]
  },
  {
   "cell_type": "markdown",
   "metadata": {},
   "source": [
    "## How did it do against our benchmark?"
   ]
  },
  {
   "cell_type": "code",
   "execution_count": 42,
   "metadata": {
    "collapsed": false
   },
   "outputs": [
    {
     "data": {
      "text/plain": [
       "GridSearchCV(cv=None, error_score='raise',\n",
       "       estimator=Pipeline(steps=[('selectkbest', SelectKBest(k=5, score_func=<function f_classif at 0x1110ff758>)), ('classifier', KNeighborsClassifier(algorithm='auto', leaf_size=30, metric='minkowski',\n",
       "           metric_params=None, n_jobs=-1, n_neighbors=17, p=2,\n",
       "           weights='uniform'))]),\n",
       "       fit_params={}, iid=True, n_jobs=1,\n",
       "       param_grid={'selectkbest__k': [5, 6, 7, 8, 9, 10, 11, 12, 13, 14], 'classifier__p': [1, 2]},\n",
       "       pre_dispatch='2*n_jobs', refit=True, return_train_score=True,\n",
       "       scoring=None, verbose=0)"
      ]
     },
     "execution_count": 42,
     "metadata": {},
     "output_type": "execute_result"
    }
   ],
   "source": [
    "grid_search_results['model']"
   ]
  },
  {
   "cell_type": "code",
   "execution_count": 43,
   "metadata": {
    "collapsed": false
   },
   "outputs": [
    {
     "data": {
      "text/html": [
       "<div>\n",
       "<table border=\"1\" class=\"dataframe\">\n",
       "  <thead>\n",
       "    <tr style=\"text-align: right;\">\n",
       "      <th></th>\n",
       "      <th>mean_fit_time</th>\n",
       "      <th>mean_score_time</th>\n",
       "      <th>mean_test_score</th>\n",
       "      <th>mean_train_score</th>\n",
       "      <th>param_classifier__p</th>\n",
       "      <th>param_selectkbest__k</th>\n",
       "      <th>params</th>\n",
       "      <th>rank_test_score</th>\n",
       "      <th>split0_test_score</th>\n",
       "      <th>split0_train_score</th>\n",
       "      <th>split1_test_score</th>\n",
       "      <th>split1_train_score</th>\n",
       "      <th>split2_test_score</th>\n",
       "      <th>split2_train_score</th>\n",
       "      <th>std_fit_time</th>\n",
       "      <th>std_score_time</th>\n",
       "      <th>std_test_score</th>\n",
       "      <th>std_train_score</th>\n",
       "    </tr>\n",
       "  </thead>\n",
       "  <tbody>\n",
       "    <tr>\n",
       "      <th>0</th>\n",
       "      <td>0.009669</td>\n",
       "      <td>0.143440</td>\n",
       "      <td>0.662667</td>\n",
       "      <td>0.710996</td>\n",
       "      <td>1</td>\n",
       "      <td>5</td>\n",
       "      <td>{u'selectkbest__k': 5, u'classifier__p': 1}</td>\n",
       "      <td>18</td>\n",
       "      <td>0.658683</td>\n",
       "      <td>0.707708</td>\n",
       "      <td>0.638</td>\n",
       "      <td>0.706</td>\n",
       "      <td>0.691383</td>\n",
       "      <td>0.719281</td>\n",
       "      <td>0.000170</td>\n",
       "      <td>0.002325</td>\n",
       "      <td>0.021964</td>\n",
       "      <td>0.005899</td>\n",
       "    </tr>\n",
       "    <tr>\n",
       "      <th>1</th>\n",
       "      <td>0.008521</td>\n",
       "      <td>0.142190</td>\n",
       "      <td>0.654667</td>\n",
       "      <td>0.722994</td>\n",
       "      <td>1</td>\n",
       "      <td>6</td>\n",
       "      <td>{u'selectkbest__k': 6, u'classifier__p': 1}</td>\n",
       "      <td>19</td>\n",
       "      <td>0.676647</td>\n",
       "      <td>0.715716</td>\n",
       "      <td>0.654</td>\n",
       "      <td>0.721</td>\n",
       "      <td>0.633267</td>\n",
       "      <td>0.732268</td>\n",
       "      <td>0.000053</td>\n",
       "      <td>0.001718</td>\n",
       "      <td>0.017716</td>\n",
       "      <td>0.006903</td>\n",
       "    </tr>\n",
       "    <tr>\n",
       "      <th>2</th>\n",
       "      <td>0.008746</td>\n",
       "      <td>0.142675</td>\n",
       "      <td>0.703333</td>\n",
       "      <td>0.766997</td>\n",
       "      <td>1</td>\n",
       "      <td>7</td>\n",
       "      <td>{u'selectkbest__k': 7, u'classifier__p': 1}</td>\n",
       "      <td>15</td>\n",
       "      <td>0.700599</td>\n",
       "      <td>0.781782</td>\n",
       "      <td>0.674</td>\n",
       "      <td>0.728</td>\n",
       "      <td>0.735471</td>\n",
       "      <td>0.791209</td>\n",
       "      <td>0.000270</td>\n",
       "      <td>0.003344</td>\n",
       "      <td>0.025157</td>\n",
       "      <td>0.027842</td>\n",
       "    </tr>\n",
       "  </tbody>\n",
       "</table>\n",
       "</div>"
      ],
      "text/plain": [
       "   mean_fit_time  mean_score_time  mean_test_score  mean_train_score  \\\n",
       "0       0.009669         0.143440         0.662667          0.710996   \n",
       "1       0.008521         0.142190         0.654667          0.722994   \n",
       "2       0.008746         0.142675         0.703333          0.766997   \n",
       "\n",
       "  param_classifier__p param_selectkbest__k  \\\n",
       "0                   1                    5   \n",
       "1                   1                    6   \n",
       "2                   1                    7   \n",
       "\n",
       "                                        params  rank_test_score  \\\n",
       "0  {u'selectkbest__k': 5, u'classifier__p': 1}               18   \n",
       "1  {u'selectkbest__k': 6, u'classifier__p': 1}               19   \n",
       "2  {u'selectkbest__k': 7, u'classifier__p': 1}               15   \n",
       "\n",
       "   split0_test_score  split0_train_score  split1_test_score  \\\n",
       "0           0.658683            0.707708              0.638   \n",
       "1           0.676647            0.715716              0.654   \n",
       "2           0.700599            0.781782              0.674   \n",
       "\n",
       "   split1_train_score  split2_test_score  split2_train_score  std_fit_time  \\\n",
       "0               0.706           0.691383            0.719281      0.000170   \n",
       "1               0.721           0.633267            0.732268      0.000053   \n",
       "2               0.728           0.735471            0.791209      0.000270   \n",
       "\n",
       "   std_score_time  std_test_score  std_train_score  \n",
       "0        0.002325        0.021964         0.005899  \n",
       "1        0.001718        0.017716         0.006903  \n",
       "2        0.003344        0.025157         0.027842  "
      ]
     },
     "execution_count": 43,
     "metadata": {},
     "output_type": "execute_result"
    }
   ],
   "source": [
    "results_df = pd.DataFrame(grid_search_results['model'].cv_results_)\n",
    "results_df.head(3)"
   ]
  },
  {
   "cell_type": "code",
   "execution_count": 44,
   "metadata": {
    "collapsed": false
   },
   "outputs": [
    {
     "data": {
      "text/plain": [
       "(0.6, 1)"
      ]
     },
     "execution_count": 44,
     "metadata": {},
     "output_type": "execute_result"
    },
    {
     "data": {
      "image/png": "[encoded data removed]",
      "text/plain": [
       "<matplotlib.figure.Figure at 0x1111ffc10>"
      ]
     },
     "metadata": {},
     "output_type": "display_data"
    }
   ],
   "source": [
    "fig = plt.figure(figsize=(20,4))\n",
    "\n",
    "fig.add_subplot(121)\n",
    "sns.stripplot(y='mean_train_score',\n",
    "              x='param_selectkbest__k',\n",
    "              hue='param_classifier__p',\n",
    "              data=results_df)\n",
    "plt.ylim(0.6,1)\n",
    "\n",
    "fig.add_subplot(122)\n",
    "sns.stripplot(y='mean_test_score',\n",
    "              x='param_selectkbest__k',\n",
    "              hue='param_classifier__p',\n",
    "              data=results_df)\n",
    "plt.ylim(0.6,1)"
   ]
  },
  {
   "cell_type": "markdown",
   "metadata": {},
   "source": [
    "# Automatic Feature Selection\n",
    "\n",
    "## Why Feature Selection? \n",
    "\n",
    "Performing feature selection on our data can provide several major benefits to the development of our models. Feature selection can help with:\n",
    "\n",
    "1. *Prediction Accuracy*, especially in terms of preventing overfitting. \n",
    "\n",
    "   - especially true when the number of instances is comparable or even smaller than the number of features\n",
    "\n",
    "1. *Model Interpretability*, removing unneccessary features creates a model that is easier to understand, explain, and use\n",
    "\n",
    "   - note that deep learning explicitly rejects this notion, actually creating hidden features that are not intended for human consumption\n",
    "   \n",
    "1. *Reduction in Complexity*, especially in terms of time and space complexity\n",
    "\n",
    "   - a smaller model requires a smaller dataset (think columns not rows)\n",
    "   - a smaller model requires less computation time\n",
    "   "
   ]
  },
  {
   "cell_type": "markdown",
   "metadata": {},
   "source": [
    "## Automatic Feature Selection in `sklearn`"
   ]
  },
  {
   "cell_type": "markdown",
   "metadata": {},
   "source": [
    "When adding new features, or with high-dimensional datasets in general, it can be a good idea to reduce the number of features to only the most useful ones, and discard the rest."
   ]
  },
  {
   "cell_type": "markdown",
   "metadata": {},
   "source": [
    "This can lead to simpler models that generalize better."
   ]
  },
  {
   "cell_type": "markdown",
   "metadata": {},
   "source": [
    "But how can you know how good each feature is?"
   ]
  },
  {
   "cell_type": "markdown",
   "metadata": {},
   "source": [
    "In `sklearn`, there are three basic strategies:\n",
    "\n",
    "1. univariate statistics\n",
    "   - ANOVA\n",
    "1. model-based selection\n",
    "1. iterative selection\n",
    "   - forward-, backward-, and other kinds of selection"
   ]
  },
  {
   "cell_type": "markdown",
   "metadata": {},
   "source": [
    "## Selection via Univariate Statistics\n",
    "\n",
    "In univariate statistics, we compute whether there is a statistically significant relation‐ ship between each feature and the target.\n",
    "\n",
    "In the case of classification, this is also known as analysis of variance (ANOVA).\n",
    "\n",
    "A key property of these tests is that they are univari‐ ate, meaning that they only consider each feature individually.\n",
    "\n",
    "Consequently, a feature will be discarded if it is only informative when combined with another feature.\n",
    "\n",
    "Univariate tests are often very fast to compute, and don’t require building a model. \n",
    "\n",
    "On the other hand, they are completely independent of the model that you might want to apply after the feature selection."
   ]
  },
  {
   "cell_type": "markdown",
   "metadata": {},
   "source": [
    "### In Practice"
   ]
  },
  {
   "cell_type": "markdown",
   "metadata": {},
   "source": [
    "The methods differ in how they select relevant features, with the simplest ones being `SelectKBest`, which selects a fixed number `k` of features, and `SelectPercentile`, which selects a fixed percentage of features.\n",
    "\n",
    "Here we will use `SelectPercentile` in a pipeline."
   ]
  },
  {
   "cell_type": "code",
   "execution_count": 45,
   "metadata": {
    "collapsed": true
   },
   "outputs": [],
   "source": [
    "from sklearn.feature_selection import SelectPercentile"
   ]
  },
  {
   "cell_type": "code",
   "execution_count": 46,
   "metadata": {
    "collapsed": false
   },
   "outputs": [],
   "source": [
    "pipe = make_pipeline(SelectPercentile(percentile=50),\n",
    "                     KNeighborsClassifier(n_neighbors=17))\n",
    "        \n",
    "classification_results = general_classifier(madelon_feature_df,\n",
    "                                            madelon_target_df,\n",
    "                                            pipe,\n",
    "                                            42)        "
   ]
  },
  {
   "cell_type": "code",
   "execution_count": 47,
   "metadata": {
    "collapsed": false
   },
   "outputs": [
    {
     "data": {
      "text/plain": [
       "(0.80200000000000005, 0.76200000000000001)"
      ]
     },
     "execution_count": 47,
     "metadata": {},
     "output_type": "execute_result"
    }
   ],
   "source": [
    "classification_results['train_score'], classification_results['test_score']"
   ]
  },
  {
   "cell_type": "markdown",
   "metadata": {},
   "source": [
    "We saw this above using `SelectKBest`. Just as we did a grid search with `SelectKBest`, we could do a grid search with `SelectPercentile`."
   ]
  },
  {
   "cell_type": "code",
   "execution_count": 48,
   "metadata": {
    "collapsed": false
   },
   "outputs": [],
   "source": [
    "params = dict(selectpercentile__percentile=[40,45,50,55,60,65])\n",
    "pipe_grid_search = GridSearchCV(pipe, param_grid=params)\n",
    "grid_search_results = general_classifier(madelon_feature_df,\n",
    "                                         madelon_target_df,\n",
    "                                         pipe_grid_search,\n",
    "                                         42)"
   ]
  },
  {
   "cell_type": "code",
   "execution_count": 49,
   "metadata": {
    "collapsed": false,
    "scrolled": true
   },
   "outputs": [
    {
     "data": {
      "text/plain": [
       "(0.6, 1)"
      ]
     },
     "execution_count": 49,
     "metadata": {},
     "output_type": "execute_result"
    },
    {
     "data": {
      "image/png": "[encoded data removed]",
      "text/plain": [
       "<matplotlib.figure.Figure at 0x1116a9210>"
      ]
     },
     "metadata": {},
     "output_type": "display_data"
    }
   ],
   "source": [
    "results_df = pd.DataFrame(grid_search_results['model'].cv_results_)\n",
    "results_df.head(3)\n",
    "fig = plt.figure(figsize=(20,4))\n",
    "\n",
    "fig.add_subplot(121)\n",
    "sns.stripplot(y='mean_train_score',\n",
    "              x='param_selectpercentile__percentile',\n",
    "              data=results_df)\n",
    "plt.ylim(0.6,1)\n",
    "\n",
    "fig.add_subplot(122)\n",
    "sns.stripplot(y='mean_test_score',\n",
    "              x='param_selectpercentile__percentile',\n",
    "              data=results_df)\n",
    "plt.ylim(0.6,1)"
   ]
  },
  {
   "cell_type": "code",
   "execution_count": 52,
   "metadata": {
    "collapsed": false
   },
   "outputs": [],
   "source": [
    "cls = grid_search_results['model']"
   ]
  },
  {
   "cell_type": "code",
   "execution_count": 53,
   "metadata": {
    "collapsed": false
   },
   "outputs": [
    {
     "data": {
      "text/plain": [
       "{'selectpercentile__percentile': 40}"
      ]
     },
     "execution_count": 53,
     "metadata": {},
     "output_type": "execute_result"
    }
   ],
   "source": [
    "cls.best_params_"
   ]
  },
  {
   "cell_type": "markdown",
   "metadata": {},
   "source": [
    "### Get the Support of our Selection"
   ]
  },
  {
   "cell_type": "markdown",
   "metadata": {},
   "source": [
    "Suppose we were interested in which features were removed (in a context where the features have meaning!)."
   ]
  },
  {
   "cell_type": "code",
   "execution_count": 54,
   "metadata": {
    "collapsed": false
   },
   "outputs": [],
   "source": [
    "gs_cls = grid_search_results['model']\n",
    "selector = gs_cls.estimator.steps[0]"
   ]
  },
  {
   "cell_type": "code",
   "execution_count": 55,
   "metadata": {
    "collapsed": false
   },
   "outputs": [
    {
     "data": {
      "text/plain": [
       "array([False,  True, False, False,  True,  True,  True, False, False,\n",
       "        True,  True, False,  True, False, False,  True,  True, False,\n",
       "        True,  True, False, False, False,  True,  True,  True,  True,\n",
       "        True, False, False, False, False, False,  True,  True,  True,\n",
       "       False,  True,  True, False, False, False,  True,  True,  True,\n",
       "       False,  True, False,  True, False, False, False, False,  True,\n",
       "        True,  True,  True,  True, False, False,  True,  True, False,\n",
       "        True,  True,  True, False, False,  True, False,  True, False,\n",
       "       False,  True,  True,  True, False, False, False,  True, False,\n",
       "        True,  True, False, False,  True, False,  True,  True, False,\n",
       "       False,  True, False, False,  True, False, False, False, False,\n",
       "        True, False, False, False, False, False,  True, False, False,\n",
       "       False,  True,  True,  True,  True, False,  True,  True,  True,\n",
       "        True, False,  True, False,  True, False, False,  True,  True,\n",
       "        True,  True,  True,  True,  True, False,  True, False,  True,\n",
       "       False,  True,  True,  True,  True,  True, False, False, False,\n",
       "       False,  True,  True, False, False,  True,  True,  True,  True,\n",
       "        True,  True,  True,  True,  True, False, False, False,  True,\n",
       "       False,  True,  True,  True,  True,  True,  True, False, False,\n",
       "       False,  True,  True,  True,  True,  True,  True, False,  True,\n",
       "       False,  True, False, False,  True, False,  True, False, False,\n",
       "       False,  True, False, False,  True, False, False,  True,  True,\n",
       "        True,  True,  True, False, False,  True,  True,  True, False,\n",
       "        True, False,  True, False,  True,  True, False,  True, False,\n",
       "       False,  True, False, False, False, False, False, False,  True,\n",
       "        True,  True,  True, False, False, False, False, False,  True,\n",
       "       False, False,  True, False,  True,  True, False,  True, False,\n",
       "        True, False,  True,  True, False,  True, False, False,  True,\n",
       "       False,  True, False,  True,  True, False, False, False,  True,\n",
       "       False, False, False, False, False, False,  True,  True, False,\n",
       "       False, False, False, False,  True,  True, False,  True,  True,\n",
       "        True, False,  True,  True, False, False,  True,  True,  True,\n",
       "       False, False, False, False, False, False,  True,  True,  True,\n",
       "       False,  True,  True,  True,  True, False,  True, False, False,\n",
       "        True,  True, False,  True,  True, False, False,  True, False,\n",
       "       False, False,  True, False,  True,  True,  True, False,  True,\n",
       "        True, False, False, False, False,  True, False,  True, False,\n",
       "        True,  True,  True,  True, False,  True, False, False, False,\n",
       "        True,  True, False, False, False,  True,  True,  True, False,\n",
       "       False,  True,  True, False, False, False, False, False, False,\n",
       "       False,  True, False,  True, False,  True, False, False, False,\n",
       "        True,  True, False, False, False,  True, False,  True,  True,\n",
       "        True,  True, False, False,  True,  True,  True,  True, False,\n",
       "       False,  True, False, False, False, False, False,  True,  True,\n",
       "       False, False, False, False,  True, False, False,  True,  True,\n",
       "       False, False,  True, False, False,  True,  True,  True,  True,\n",
       "       False, False,  True, False, False,  True,  True,  True,  True,\n",
       "        True,  True,  True, False, False,  True,  True,  True,  True,\n",
       "       False,  True,  True, False,  True, False, False, False, False,\n",
       "       False,  True, False,  True,  True,  True,  True, False, False,\n",
       "       False, False, False,  True,  True, False,  True,  True, False,\n",
       "       False, False, False,  True,  True, False, False,  True,  True,\n",
       "        True, False, False, False,  True,  True,  True,  True, False,\n",
       "       False, False,  True,  True,  True, False,  True, False, False,\n",
       "       False, False, False, False,  True, False, False,  True,  True,\n",
       "       False,  True,  True, False,  True], dtype=bool)"
      ]
     },
     "execution_count": 55,
     "metadata": {},
     "output_type": "execute_result"
    }
   ],
   "source": [
    "mask = selector[1].get_support()\n",
    "mask"
   ]
  },
  {
   "cell_type": "code",
   "execution_count": 56,
   "metadata": {
    "collapsed": false
   },
   "outputs": [
    {
     "data": {
      "text/plain": [
       "<matplotlib.text.Text at 0x114d681d0>"
      ]
     },
     "execution_count": 56,
     "metadata": {},
     "output_type": "execute_result"
    },
    {
     "data": {
      "image/png": "[encoded data removed]",
      "text/plain": [
       "<matplotlib.figure.Figure at 0x113dca910>"
      ]
     },
     "metadata": {},
     "output_type": "display_data"
    }
   ],
   "source": [
    "plt.matshow(mask.reshape(1, -1), cmap='gray_r')\n",
    "plt.xlabel(\"Sample index\")"
   ]
  },
  {
   "cell_type": "markdown",
   "metadata": {},
   "source": [
    "## Model-Based Feature Selection\n",
    "\n",
    "Model-based feature selection uses a supervised machine learning model to judge the importance of each feature, and keeps only the most important ones.\n",
    "\n",
    "The supervised model that is used for feature selection doesn’t need to be the same model that is used for the final supervised modeling.\n",
    "\n",
    "The feature selection model needs to provide some measure of importance for each feature, so that they can be ranked by this measure.\n",
    "\n",
    "Decision trees and decision tree–based models provide a `feature_importances_` attribute, which directly encodes the importance of each feature.\n",
    "\n",
    "We will explore Decision Trees and their derivate models in depth later. For now, they are just another tool."
   ]
  },
  {
   "cell_type": "code",
   "execution_count": 57,
   "metadata": {
    "collapsed": true
   },
   "outputs": [],
   "source": [
    "from sklearn.feature_selection import SelectFromModel\n",
    "from sklearn.ensemble import RandomForestClassifier"
   ]
  },
  {
   "cell_type": "code",
   "execution_count": 58,
   "metadata": {
    "collapsed": true
   },
   "outputs": [],
   "source": [
    "rf_cls = RandomForestClassifier(n_estimators=500, random_state=42) \n",
    "select = SelectFromModel(rf_cls, threshold=\"median\")"
   ]
  },
  {
   "cell_type": "code",
   "execution_count": 59,
   "metadata": {
    "collapsed": true
   },
   "outputs": [],
   "source": [
    "pipe = make_pipeline(select,\n",
    "                     KNeighborsClassifier(n_neighbors=17))\n",
    "        \n",
    "classification_results = general_classifier(madelon_feature_df,\n",
    "                                            madelon_target_df,\n",
    "                                            pipe,\n",
    "                                            42)        "
   ]
  },
  {
   "cell_type": "code",
   "execution_count": 60,
   "metadata": {
    "collapsed": false
   },
   "outputs": [
    {
     "data": {
      "text/plain": [
       "(0.80000000000000004, 0.73599999999999999)"
      ]
     },
     "execution_count": 60,
     "metadata": {},
     "output_type": "execute_result"
    }
   ],
   "source": [
    "classification_results['train_score'], classification_results['test_score']"
   ]
  },
  {
   "cell_type": "code",
   "execution_count": 61,
   "metadata": {
    "collapsed": true
   },
   "outputs": [],
   "source": [
    "params = dict(selectfrommodel__estimator=[\n",
    "        RandomForestClassifier(n_estimators=100, random_state=42),\n",
    "        RandomForestClassifier(n_estimators=200, random_state=42),\n",
    "        RandomForestClassifier(n_estimators=300, random_state=42),\n",
    "        RandomForestClassifier(n_estimators=400, random_state=42),\n",
    "        RandomForestClassifier(n_estimators=500, random_state=42),\n",
    "        RandomForestClassifier(n_estimators=600, random_state=42),\n",
    "    ])\n",
    "pipe_grid_search = GridSearchCV(pipe, param_grid=params)\n",
    "grid_search_results = general_classifier(madelon_feature_df,\n",
    "                                         madelon_target_df,\n",
    "                                         pipe_grid_search,\n",
    "                                         42)"
   ]
  },
  {
   "cell_type": "code",
   "execution_count": 65,
   "metadata": {
    "collapsed": false
   },
   "outputs": [
    {
     "data": {
      "text/plain": [
       "GridSearchCV(cv=None, error_score='raise',\n",
       "       estimator=Pipeline(steps=[('selectfrommodel', SelectFromModel(estimator=RandomForestClassifier(bootstrap=True, class_weight=None, criterion='gini',\n",
       "            max_depth=None, max_features='auto', max_leaf_nodes=None,\n",
       "            min_impurity_split=1e-07, min_samples_leaf=1,\n",
       "            min_samples_split=2, min_weight...wski',\n",
       "           metric_params=None, n_jobs=1, n_neighbors=17, p=2,\n",
       "           weights='uniform'))]),\n",
       "       fit_params={}, iid=True, n_jobs=1,\n",
       "       param_grid={'selectfrommodel__estimator': [RandomForestClassifier(bootstrap=True, class_weight=None, criterion='gini',\n",
       "            max_depth=None, max_features='auto', max_leaf_nodes=None,\n",
       "            min_impurity_split=1e-07, min_samples_leaf=1,\n",
       "            min_samples_split=2, min_weight_fraction_...timators=600, n_jobs=1, oob_score=False, random_state=42,\n",
       "            verbose=0, warm_start=False)]},\n",
       "       pre_dispatch='2*n_jobs', refit=True, return_train_score=True,\n",
       "       scoring=None, verbose=0)"
      ]
     },
     "execution_count": 65,
     "metadata": {},
     "output_type": "execute_result"
    }
   ],
   "source": [
    "grid_search_results['model']"
   ]
  },
  {
   "cell_type": "code",
   "execution_count": 63,
   "metadata": {
    "collapsed": false
   },
   "outputs": [
    {
     "data": {
      "text/plain": [
       "(0.6, 1)"
      ]
     },
     "execution_count": 63,
     "metadata": {},
     "output_type": "execute_result"
    },
    {
     "data": {
      "image/png": "[encoded data removed]",
      "text/plain": [
       "<matplotlib.figure.Figure at 0x113d15b90>"
      ]
     },
     "metadata": {},
     "output_type": "display_data"
    }
   ],
   "source": [
    "results_df = pd.DataFrame(grid_search_results['model'].cv_results_)\n",
    "results_df.head(3)\n",
    "fig = plt.figure(figsize=(20,4))\n",
    "\n",
    "fig.add_subplot(121)\n",
    "strp_plt = sns.stripplot(y='mean_train_score', \n",
    "                         x='param_selectfrommodel__estimator',\n",
    "                         data=results_df)\n",
    "strp_plt.set(xticklabels=[100,200,300,400,500,600])\n",
    "plt.ylim(0.6,1)\n",
    "\n",
    "fig.add_subplot(122)\n",
    "strp_plt = sns.stripplot(y='mean_test_score', \n",
    "                         x='param_selectfrommodel__estimator',\n",
    "                         data=results_df)\n",
    "strp_plt.set(xticklabels=[100,200,300,400,500,600])\n",
    "plt.ylim(0.6,1)"
   ]
  },
  {
   "cell_type": "code",
   "execution_count": 64,
   "metadata": {
    "collapsed": false
   },
   "outputs": [
    {
     "data": {
      "text/plain": [
       "<matplotlib.text.Text at 0x1182547d0>"
      ]
     },
     "execution_count": 64,
     "metadata": {},
     "output_type": "execute_result"
    },
    {
     "data": {
      "image/png": "[encoded data removed]",
      "text/plain": [
       "<matplotlib.figure.Figure at 0x11a45c190>"
      ]
     },
     "metadata": {},
     "output_type": "display_data"
    }
   ],
   "source": [
    "gs_cls = grid_search_results['model']\n",
    "selector = gs_cls.estimator.steps[0]\n",
    "mask = selector[1].get_support()\n",
    "plt.matshow(mask.reshape(1, -1), cmap='gray_r')\n",
    "plt.xlabel(\"Sample index\")"
   ]
  },
  {
   "cell_type": "markdown",
   "metadata": {},
   "source": [
    "## Iterative Feature Selection\n",
    "\n",
    "In univariate testing we used no model.\n",
    "\n",
    "In model-based selection we used a single model to select features."
   ]
  },
  {
   "cell_type": "markdown",
   "metadata": {},
   "source": [
    "In iterative feature selection, a series of models are built, with varying numbers of features.\n",
    "\n",
    "There are two basic methods: starting with no features and adding features one by one until some stopping criterion is reached, or starting with all features and removing features one by one until some stopping criterion is reached.\n",
    "\n",
    "We have a lot of features, so we will set a fairly large step for this process.\n"
   ]
  },
  {
   "cell_type": "code",
   "execution_count": 66,
   "metadata": {
    "collapsed": true
   },
   "outputs": [],
   "source": [
    "from sklearn.feature_selection import RFE"
   ]
  },
  {
   "cell_type": "code",
   "execution_count": 67,
   "metadata": {
    "collapsed": true
   },
   "outputs": [],
   "source": [
    "rf_cls = RandomForestClassifier(n_estimators=500, random_state=42)\n",
    "select = RFE(rf_cls, n_features_to_select=40, step=20)\n",
    "\n",
    "pipe = make_pipeline(select,\n",
    "                     KNeighborsClassifier(n_neighbors=17))\n",
    "        \n",
    "classification_results = general_classifier(madelon_feature_df,\n",
    "                                            madelon_target_df,\n",
    "                                            pipe,\n",
    "                                            42)        "
   ]
  },
  {
   "cell_type": "code",
   "execution_count": 68,
   "metadata": {
    "collapsed": false
   },
   "outputs": [
    {
     "data": {
      "text/plain": [
       "(0.86799999999999999, 0.84199999999999997)"
      ]
     },
     "execution_count": 68,
     "metadata": {},
     "output_type": "execute_result"
    }
   ],
   "source": [
    "classification_results['train_score'], classification_results['test_score']"
   ]
  },
  {
   "cell_type": "code",
   "execution_count": 69,
   "metadata": {
    "collapsed": false
   },
   "outputs": [
    {
     "data": {
      "text/plain": [
       "Pipeline(steps=[('rfe-1', RFE(estimator=RandomForestClassifier(bootstrap=True, class_weight=None, criterion='gini',\n",
       "            max_depth=None, max_features='auto', max_leaf_nodes=None,\n",
       "            min_impurity_split=1e-07, min_samples_leaf=1,\n",
       "            min_samples_split=2, min_weight_fraction_leaf=0.0,\n",
       "  ...wski',\n",
       "           metric_params=None, n_jobs=1, n_neighbors=17, p=2,\n",
       "           weights='uniform'))])"
      ]
     },
     "execution_count": 69,
     "metadata": {},
     "output_type": "execute_result"
    }
   ],
   "source": [
    "rf_cls = RandomForestClassifier(n_estimators=500, random_state=42)\n",
    "select_1 = RFE(rf_cls, n_features_to_select=30, step=20)\n",
    "select_2 = RFE(rf_cls, step=1)\n",
    "\n",
    "pipe = make_pipeline(select_1, select_2, KNeighborsClassifier(n_neighbors=17))\n",
    "pipe"
   ]
  },
  {
   "cell_type": "code",
   "execution_count": 72,
   "metadata": {
    "collapsed": false
   },
   "outputs": [],
   "source": [
    "params = {'rfe-2__n_features_to_select' : range(5,30)}"
   ]
  },
  {
   "cell_type": "code",
   "execution_count": null,
   "metadata": {
    "collapsed": true
   },
   "outputs": [],
   "source": [
    "pipe_grid_search = GridSearchCV(pipe, param_grid=params)\n",
    "grid_search_results = general_classifier(madelon_feature_df,\n",
    "                                         madelon_target_df,\n",
    "                                         pipe_grid_search,\n",
    "                                         42)"
   ]
  },
  {
   "cell_type": "code",
   "execution_count": null,
   "metadata": {
    "collapsed": true
   },
   "outputs": [],
   "source": [
    "results_df = pd.DataFrame(grid_search_results['classifier'].cv_results_)\n",
    "results_df.head(3)\n",
    "fig = plt.figure(figsize=(20,4))\n",
    "\n",
    "fig.add_subplot(121)\n",
    "strp_plt = sns.stripplot(y='mean_train_score', \n",
    "                         x='rfe-2__n_features_to_select',\n",
    "                         data=results_df)\n",
    "plt.ylim(0.6,1)\n",
    "\n",
    "fig.add_subplot(122)\n",
    "strp_plt = sns.stripplot(y='mean_test_score', \n",
    "                         x='rfe-2__n_features_to_select',\n",
    "                         data=results_df)\n",
    "plt.ylim(0.6,1)"
   ]
  },
  {
   "cell_type": "code",
   "execution_count": null,
   "metadata": {
    "collapsed": true
   },
   "outputs": [],
   "source": []
  }
 ],
 "metadata": {
  "anaconda-cloud": {},
  "kernelspec": {
   "display_name": "Python [conda env:py27]",
   "language": "python",
   "name": "conda-env-py27-py"
  },
  "language_info": {
   "codemirror_mode": {
    "name": "ipython",
    "version": 2
   },
   "file_extension": ".py",
   "mimetype": "text/x-python",
   "name": "python",
   "nbconvert_exporter": "python",
   "pygments_lexer": "ipython2",
   "version": "2.7.12"
  }
 },
 "nbformat": 4,
 "nbformat_minor": 1
}
