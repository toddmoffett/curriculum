{
 "cells": [
  {
   "cell_type": "markdown",
   "metadata": {},
   "source": [
    "## Load the Data\n",
    "\n",
    "Thanks, Chris!"
   ]
  },
  {
   "cell_type": "code",
   "execution_count": 9,
   "metadata": {
    "collapsed": false
   },
   "outputs": [],
   "source": [
    "from os import chdir, getcwd;\n",
    "chdir('/Users/toddmoffett1/DSI/dsi_workspace/lib')\n",
    "assert getcwd().split('/')[-1] == 'lib'\n",
    "from iowa_data import load_iowa_liquor_store_dataframes"
   ]
  },
  {
   "cell_type": "markdown",
   "metadata": {},
   "source": [
    "## Exploring the Data\n",
    "\n",
    "For `iowa_liquor_store_df`\n",
    "1. Show the head, info and description\n",
    "1. Find the shape of the data\n",
    "1. Find the names of the columns\n",
    "\n",
    "For `iowa_liquor_store_deltas_df`\n",
    "1. Show the head, info and description\n",
    "1. Find the shape of the data\n",
    "1. Find the names of the columns"
   ]
  },
  {
   "cell_type": "code",
   "execution_count": 23,
   "metadata": {
    "collapsed": false,
    "scrolled": false
   },
   "outputs": [
    {
     "data": {
      "text/html": [
       "<div>\n",
       "<table border=\"1\" class=\"dataframe\">\n",
       "  <thead>\n",
       "    <tr style=\"text-align: right;\">\n",
       "      <th></th>\n",
       "      <th>zip_code</th>\n",
       "      <th>sale_2016</th>\n",
       "      <th>store_count_2016</th>\n",
       "      <th>sale_2015</th>\n",
       "      <th>store_count_2015</th>\n",
       "      <th>sale_2014</th>\n",
       "      <th>store_count_2014</th>\n",
       "      <th>sale_2013</th>\n",
       "      <th>store_count_2013</th>\n",
       "      <th>sale_2012</th>\n",
       "      <th>...</th>\n",
       "      <th>2014Q3</th>\n",
       "      <th>2014Q4</th>\n",
       "      <th>2015Q1</th>\n",
       "      <th>2015Q2</th>\n",
       "      <th>2015Q3</th>\n",
       "      <th>2015Q4</th>\n",
       "      <th>2016Q1</th>\n",
       "      <th>2016Q2</th>\n",
       "      <th>2016Q3</th>\n",
       "      <th>2016Q4</th>\n",
       "    </tr>\n",
       "  </thead>\n",
       "  <tbody>\n",
       "    <tr>\n",
       "      <th>0</th>\n",
       "      <td>50002</td>\n",
       "      <td>32544.92</td>\n",
       "      <td>2</td>\n",
       "      <td>3.871403e+04</td>\n",
       "      <td>2</td>\n",
       "      <td>45283.05</td>\n",
       "      <td>2</td>\n",
       "      <td>39823.07</td>\n",
       "      <td>2</td>\n",
       "      <td>54142.66</td>\n",
       "      <td>...</td>\n",
       "      <td>16272.67</td>\n",
       "      <td>10457.78</td>\n",
       "      <td>11134.32</td>\n",
       "      <td>6578.94</td>\n",
       "      <td>8305.70</td>\n",
       "      <td>12695.07</td>\n",
       "      <td>9380.23</td>\n",
       "      <td>9119.31</td>\n",
       "      <td>5086.63</td>\n",
       "      <td>8958.75</td>\n",
       "    </tr>\n",
       "    <tr>\n",
       "      <th>1</th>\n",
       "      <td>50003</td>\n",
       "      <td>203493.66</td>\n",
       "      <td>3</td>\n",
       "      <td>3.448876e+05</td>\n",
       "      <td>3</td>\n",
       "      <td>293773.18</td>\n",
       "      <td>3</td>\n",
       "      <td>328773.20</td>\n",
       "      <td>3</td>\n",
       "      <td>279232.38</td>\n",
       "      <td>...</td>\n",
       "      <td>71935.61</td>\n",
       "      <td>72899.40</td>\n",
       "      <td>71884.20</td>\n",
       "      <td>82246.12</td>\n",
       "      <td>114167.07</td>\n",
       "      <td>76590.18</td>\n",
       "      <td>60382.85</td>\n",
       "      <td>58310.29</td>\n",
       "      <td>48638.25</td>\n",
       "      <td>36162.27</td>\n",
       "    </tr>\n",
       "    <tr>\n",
       "      <th>2</th>\n",
       "      <td>50006</td>\n",
       "      <td>67189.24</td>\n",
       "      <td>2</td>\n",
       "      <td>1.051585e+05</td>\n",
       "      <td>2</td>\n",
       "      <td>94319.67</td>\n",
       "      <td>2</td>\n",
       "      <td>91701.59</td>\n",
       "      <td>2</td>\n",
       "      <td>96378.56</td>\n",
       "      <td>...</td>\n",
       "      <td>23488.94</td>\n",
       "      <td>22927.93</td>\n",
       "      <td>25273.88</td>\n",
       "      <td>28463.93</td>\n",
       "      <td>26480.62</td>\n",
       "      <td>24940.09</td>\n",
       "      <td>22461.81</td>\n",
       "      <td>19791.71</td>\n",
       "      <td>13047.71</td>\n",
       "      <td>11888.01</td>\n",
       "    </tr>\n",
       "    <tr>\n",
       "      <th>3</th>\n",
       "      <td>50009</td>\n",
       "      <td>1617618.34</td>\n",
       "      <td>9</td>\n",
       "      <td>2.409419e+06</td>\n",
       "      <td>9</td>\n",
       "      <td>2209157.32</td>\n",
       "      <td>9</td>\n",
       "      <td>2125635.73</td>\n",
       "      <td>9</td>\n",
       "      <td>2066446.19</td>\n",
       "      <td>...</td>\n",
       "      <td>581605.35</td>\n",
       "      <td>644281.31</td>\n",
       "      <td>428414.64</td>\n",
       "      <td>636639.03</td>\n",
       "      <td>672692.13</td>\n",
       "      <td>671672.85</td>\n",
       "      <td>478918.96</td>\n",
       "      <td>455382.31</td>\n",
       "      <td>366348.22</td>\n",
       "      <td>316968.85</td>\n",
       "    </tr>\n",
       "    <tr>\n",
       "      <th>4</th>\n",
       "      <td>50010</td>\n",
       "      <td>4646154.79</td>\n",
       "      <td>22</td>\n",
       "      <td>7.334014e+06</td>\n",
       "      <td>21</td>\n",
       "      <td>7177603.68</td>\n",
       "      <td>21</td>\n",
       "      <td>6740832.92</td>\n",
       "      <td>20</td>\n",
       "      <td>6351832.32</td>\n",
       "      <td>...</td>\n",
       "      <td>1781861.98</td>\n",
       "      <td>2171059.41</td>\n",
       "      <td>1668418.66</td>\n",
       "      <td>1734813.68</td>\n",
       "      <td>1906493.82</td>\n",
       "      <td>2024287.55</td>\n",
       "      <td>1567149.74</td>\n",
       "      <td>1271515.64</td>\n",
       "      <td>1135230.30</td>\n",
       "      <td>672259.11</td>\n",
       "    </tr>\n",
       "  </tbody>\n",
       "</table>\n",
       "<p>5 rows × 31 columns</p>\n",
       "</div>"
      ],
      "text/plain": [
       "   zip_code   sale_2016  store_count_2016     sale_2015  store_count_2015  \\\n",
       "0     50002    32544.92                 2  3.871403e+04                 2   \n",
       "1     50003   203493.66                 3  3.448876e+05                 3   \n",
       "2     50006    67189.24                 2  1.051585e+05                 2   \n",
       "3     50009  1617618.34                 9  2.409419e+06                 9   \n",
       "4     50010  4646154.79                22  7.334014e+06                21   \n",
       "\n",
       "    sale_2014  store_count_2014   sale_2013  store_count_2013   sale_2012  \\\n",
       "0    45283.05                 2    39823.07                 2    54142.66   \n",
       "1   293773.18                 3   328773.20                 3   279232.38   \n",
       "2    94319.67                 2    91701.59                 2    96378.56   \n",
       "3  2209157.32                 9  2125635.73                 9  2066446.19   \n",
       "4  7177603.68                21  6740832.92                20  6351832.32   \n",
       "\n",
       "     ...          2014Q3      2014Q4      2015Q1      2015Q2      2015Q3  \\\n",
       "0    ...        16272.67    10457.78    11134.32     6578.94     8305.70   \n",
       "1    ...        71935.61    72899.40    71884.20    82246.12   114167.07   \n",
       "2    ...        23488.94    22927.93    25273.88    28463.93    26480.62   \n",
       "3    ...       581605.35   644281.31   428414.64   636639.03   672692.13   \n",
       "4    ...      1781861.98  2171059.41  1668418.66  1734813.68  1906493.82   \n",
       "\n",
       "       2015Q4      2016Q1      2016Q2      2016Q3     2016Q4  \n",
       "0    12695.07     9380.23     9119.31     5086.63    8958.75  \n",
       "1    76590.18    60382.85    58310.29    48638.25   36162.27  \n",
       "2    24940.09    22461.81    19791.71    13047.71   11888.01  \n",
       "3   671672.85   478918.96   455382.31   366348.22  316968.85  \n",
       "4  2024287.55  1567149.74  1271515.64  1135230.30  672259.11  \n",
       "\n",
       "[5 rows x 31 columns]"
      ]
     },
     "execution_count": 23,
     "metadata": {},
     "output_type": "execute_result"
    }
   ],
   "source": [
    "iowa_liquor_store_df, iowa_liquor_store_deltas_df = load_iowa_liquor_store_dataframes()\n",
    "\n",
    "iowa_liquor_store_df.head()"
   ]
  },
  {
   "cell_type": "code",
   "execution_count": 16,
   "metadata": {
    "collapsed": false
   },
   "outputs": [
    {
     "data": {
      "text/plain": [
       "(359, 31)"
      ]
     },
     "execution_count": 16,
     "metadata": {},
     "output_type": "execute_result"
    }
   ],
   "source": [
    "iowa_liquor_store_df.shape"
   ]
  },
  {
   "cell_type": "code",
   "execution_count": 47,
   "metadata": {
    "collapsed": false
   },
   "outputs": [
    {
     "data": {
      "text/plain": [
       "Index([u'zip_code', u'sale_2016', u'store_count_2016', u'sale_2015',\n",
       "       u'store_count_2015', u'sale_2014', u'store_count_2014', u'sale_2013',\n",
       "       u'store_count_2013', u'sale_2012', u'store_count_2012', u'2012Q1',\n",
       "       u'2012Q2', u'2012Q3', u'2012Q4', u'2013Q1', u'2013Q2', u'2013Q3',\n",
       "       u'2013Q4', u'2014Q1', u'2014Q2', u'2014Q3', u'2014Q4', u'2015Q1',\n",
       "       u'2015Q2', u'2015Q3'],\n",
       "      dtype='object')"
      ]
     },
     "execution_count": 47,
     "metadata": {},
     "output_type": "execute_result"
    }
   ],
   "source": [
    "iowa_liquor_store_df.columns"
   ]
  },
  {
   "cell_type": "code",
   "execution_count": 12,
   "metadata": {
    "collapsed": false
   },
   "outputs": [
    {
     "data": {
      "text/html": [
       "<div>\n",
       "<table border=\"1\" class=\"dataframe\">\n",
       "  <thead>\n",
       "    <tr style=\"text-align: right;\">\n",
       "      <th></th>\n",
       "      <th>delta_2013_sales</th>\n",
       "      <th>delta_2014_sales</th>\n",
       "      <th>delta_2015_sales</th>\n",
       "      <th>delta_2015_sales</th>\n",
       "      <th>delta_2013_stores</th>\n",
       "      <th>delta_2014_stores</th>\n",
       "      <th>delta_2015_stores</th>\n",
       "      <th>delta_2016_stores</th>\n",
       "      <th>delta_2012Q2</th>\n",
       "      <th>delta_2012Q3</th>\n",
       "      <th>...</th>\n",
       "      <th>delta_2014Q3</th>\n",
       "      <th>delta_2014Q4</th>\n",
       "      <th>delta_2015Q1</th>\n",
       "      <th>delta_2015Q2</th>\n",
       "      <th>delta_2015Q3</th>\n",
       "      <th>delta_2015Q4</th>\n",
       "      <th>delta_2016Q1</th>\n",
       "      <th>delta_2016Q2</th>\n",
       "      <th>delta_2016Q3</th>\n",
       "      <th>delta_2016Q4</th>\n",
       "    </tr>\n",
       "    <tr>\n",
       "      <th>zip_code</th>\n",
       "      <th></th>\n",
       "      <th></th>\n",
       "      <th></th>\n",
       "      <th></th>\n",
       "      <th></th>\n",
       "      <th></th>\n",
       "      <th></th>\n",
       "      <th></th>\n",
       "      <th></th>\n",
       "      <th></th>\n",
       "      <th></th>\n",
       "      <th></th>\n",
       "      <th></th>\n",
       "      <th></th>\n",
       "      <th></th>\n",
       "      <th></th>\n",
       "      <th></th>\n",
       "      <th></th>\n",
       "      <th></th>\n",
       "      <th></th>\n",
       "      <th></th>\n",
       "    </tr>\n",
       "  </thead>\n",
       "  <tbody>\n",
       "    <tr>\n",
       "      <th>50002</th>\n",
       "      <td>-7159.795000</td>\n",
       "      <td>2729.990000</td>\n",
       "      <td>-3284.510000</td>\n",
       "      <td>-3084.555000</td>\n",
       "      <td>0</td>\n",
       "      <td>0</td>\n",
       "      <td>0</td>\n",
       "      <td>0</td>\n",
       "      <td>4305.485000</td>\n",
       "      <td>-496.010000</td>\n",
       "      <td>...</td>\n",
       "      <td>2488.655000</td>\n",
       "      <td>-2907.445000</td>\n",
       "      <td>338.270000</td>\n",
       "      <td>-2277.690000</td>\n",
       "      <td>863.380000</td>\n",
       "      <td>2194.685000</td>\n",
       "      <td>-1657.420000</td>\n",
       "      <td>-130.460000</td>\n",
       "      <td>-2016.340000</td>\n",
       "      <td>1936.060000</td>\n",
       "    </tr>\n",
       "    <tr>\n",
       "      <th>50003</th>\n",
       "      <td>16513.606667</td>\n",
       "      <td>-11666.673333</td>\n",
       "      <td>17038.130000</td>\n",
       "      <td>-47131.303333</td>\n",
       "      <td>0</td>\n",
       "      <td>0</td>\n",
       "      <td>0</td>\n",
       "      <td>0</td>\n",
       "      <td>12655.213333</td>\n",
       "      <td>-193.553333</td>\n",
       "      <td>...</td>\n",
       "      <td>-6770.400000</td>\n",
       "      <td>321.263333</td>\n",
       "      <td>-338.400000</td>\n",
       "      <td>3453.973333</td>\n",
       "      <td>10640.316667</td>\n",
       "      <td>-12525.630000</td>\n",
       "      <td>-5402.443333</td>\n",
       "      <td>-690.853333</td>\n",
       "      <td>-3224.013333</td>\n",
       "      <td>-4158.660000</td>\n",
       "    </tr>\n",
       "    <tr>\n",
       "      <th>50006</th>\n",
       "      <td>-2338.485000</td>\n",
       "      <td>1309.040000</td>\n",
       "      <td>5419.425000</td>\n",
       "      <td>-18984.640000</td>\n",
       "      <td>0</td>\n",
       "      <td>0</td>\n",
       "      <td>0</td>\n",
       "      <td>0</td>\n",
       "      <td>-812.455000</td>\n",
       "      <td>1257.775000</td>\n",
       "      <td>...</td>\n",
       "      <td>-140.960000</td>\n",
       "      <td>-280.505000</td>\n",
       "      <td>1172.975000</td>\n",
       "      <td>1595.025000</td>\n",
       "      <td>-991.655000</td>\n",
       "      <td>-770.265000</td>\n",
       "      <td>-1239.140000</td>\n",
       "      <td>-1335.050000</td>\n",
       "      <td>-3372.000000</td>\n",
       "      <td>-579.850000</td>\n",
       "    </tr>\n",
       "    <tr>\n",
       "      <th>50009</th>\n",
       "      <td>29537.128778</td>\n",
       "      <td>9280.176667</td>\n",
       "      <td>22251.258889</td>\n",
       "      <td>-87977.812222</td>\n",
       "      <td>-1</td>\n",
       "      <td>0</td>\n",
       "      <td>0</td>\n",
       "      <td>0</td>\n",
       "      <td>13335.009000</td>\n",
       "      <td>4768.633000</td>\n",
       "      <td>...</td>\n",
       "      <td>920.737778</td>\n",
       "      <td>6963.995556</td>\n",
       "      <td>-23985.185556</td>\n",
       "      <td>23136.043333</td>\n",
       "      <td>4005.900000</td>\n",
       "      <td>-113.253333</td>\n",
       "      <td>-21417.098889</td>\n",
       "      <td>-2615.183333</td>\n",
       "      <td>-9892.676667</td>\n",
       "      <td>-5486.596667</td>\n",
       "    </tr>\n",
       "    <tr>\n",
       "      <th>50010</th>\n",
       "      <td>2734.681789</td>\n",
       "      <td>4749.005429</td>\n",
       "      <td>7448.096667</td>\n",
       "      <td>-138049.894004</td>\n",
       "      <td>1</td>\n",
       "      <td>1</td>\n",
       "      <td>0</td>\n",
       "      <td>1</td>\n",
       "      <td>15738.596842</td>\n",
       "      <td>-3077.567368</td>\n",
       "      <td>...</td>\n",
       "      <td>8677.150000</td>\n",
       "      <td>18533.210952</td>\n",
       "      <td>-23935.273810</td>\n",
       "      <td>3161.667619</td>\n",
       "      <td>8175.244762</td>\n",
       "      <td>5609.225238</td>\n",
       "      <td>-20778.991364</td>\n",
       "      <td>-13437.913636</td>\n",
       "      <td>-6194.788182</td>\n",
       "      <td>-21044.145000</td>\n",
       "    </tr>\n",
       "  </tbody>\n",
       "</table>\n",
       "<p>5 rows × 27 columns</p>\n",
       "</div>"
      ],
      "text/plain": [
       "          delta_2013_sales  delta_2014_sales  delta_2015_sales  \\\n",
       "zip_code                                                         \n",
       "50002         -7159.795000       2729.990000      -3284.510000   \n",
       "50003         16513.606667     -11666.673333      17038.130000   \n",
       "50006         -2338.485000       1309.040000       5419.425000   \n",
       "50009         29537.128778       9280.176667      22251.258889   \n",
       "50010          2734.681789       4749.005429       7448.096667   \n",
       "\n",
       "          delta_2015_sales  delta_2013_stores  delta_2014_stores  \\\n",
       "zip_code                                                           \n",
       "50002         -3084.555000                  0                  0   \n",
       "50003        -47131.303333                  0                  0   \n",
       "50006        -18984.640000                  0                  0   \n",
       "50009        -87977.812222                 -1                  0   \n",
       "50010       -138049.894004                  1                  1   \n",
       "\n",
       "          delta_2015_stores  delta_2016_stores  delta_2012Q2  delta_2012Q3  \\\n",
       "zip_code                                                                     \n",
       "50002                     0                  0   4305.485000   -496.010000   \n",
       "50003                     0                  0  12655.213333   -193.553333   \n",
       "50006                     0                  0   -812.455000   1257.775000   \n",
       "50009                     0                  0  13335.009000   4768.633000   \n",
       "50010                     0                  1  15738.596842  -3077.567368   \n",
       "\n",
       "              ...       delta_2014Q3  delta_2014Q4  delta_2015Q1  \\\n",
       "zip_code      ...                                                  \n",
       "50002         ...        2488.655000  -2907.445000    338.270000   \n",
       "50003         ...       -6770.400000    321.263333   -338.400000   \n",
       "50006         ...        -140.960000   -280.505000   1172.975000   \n",
       "50009         ...         920.737778   6963.995556 -23985.185556   \n",
       "50010         ...        8677.150000  18533.210952 -23935.273810   \n",
       "\n",
       "          delta_2015Q2  delta_2015Q3  delta_2015Q4  delta_2016Q1  \\\n",
       "zip_code                                                           \n",
       "50002     -2277.690000    863.380000   2194.685000  -1657.420000   \n",
       "50003      3453.973333  10640.316667 -12525.630000  -5402.443333   \n",
       "50006      1595.025000   -991.655000   -770.265000  -1239.140000   \n",
       "50009     23136.043333   4005.900000   -113.253333 -21417.098889   \n",
       "50010      3161.667619   8175.244762   5609.225238 -20778.991364   \n",
       "\n",
       "          delta_2016Q2  delta_2016Q3  delta_2016Q4  \n",
       "zip_code                                            \n",
       "50002      -130.460000  -2016.340000   1936.060000  \n",
       "50003      -690.853333  -3224.013333  -4158.660000  \n",
       "50006     -1335.050000  -3372.000000   -579.850000  \n",
       "50009     -2615.183333  -9892.676667  -5486.596667  \n",
       "50010    -13437.913636  -6194.788182 -21044.145000  \n",
       "\n",
       "[5 rows x 27 columns]"
      ]
     },
     "execution_count": 12,
     "metadata": {},
     "output_type": "execute_result"
    }
   ],
   "source": [
    "iowa_liquor_store_deltas_df.head()"
   ]
  },
  {
   "cell_type": "code",
   "execution_count": 19,
   "metadata": {
    "collapsed": false
   },
   "outputs": [
    {
     "data": {
      "text/plain": [
       "(359, 27)"
      ]
     },
     "execution_count": 19,
     "metadata": {},
     "output_type": "execute_result"
    }
   ],
   "source": [
    "iowa_liquor_store_deltas_df.shape"
   ]
  },
  {
   "cell_type": "code",
   "execution_count": 20,
   "metadata": {
    "collapsed": false
   },
   "outputs": [
    {
     "data": {
      "text/plain": [
       "Index([u'delta_2013_sales', u'delta_2014_sales', u'delta_2015_sales',\n",
       "       u'delta_2015_sales', u'delta_2013_stores', u'delta_2014_stores',\n",
       "       u'delta_2015_stores', u'delta_2016_stores', u'delta_2012Q2',\n",
       "       u'delta_2012Q3', u'delta_2012Q4', u'delta_2013Q1', u'delta_2013Q2',\n",
       "       u'delta_2013Q3', u'delta_2013Q4', u'delta_2014Q1', u'delta_2014Q2',\n",
       "       u'delta_2014Q3', u'delta_2014Q4', u'delta_2015Q1', u'delta_2015Q2',\n",
       "       u'delta_2015Q3', u'delta_2015Q4', u'delta_2016Q1', u'delta_2016Q2',\n",
       "       u'delta_2016Q3', u'delta_2016Q4'],\n",
       "      dtype='object')"
      ]
     },
     "execution_count": 20,
     "metadata": {},
     "output_type": "execute_result"
    }
   ],
   "source": [
    "iowa_liquor_store_deltas_df.columns"
   ]
  },
  {
   "cell_type": "markdown",
   "metadata": {},
   "source": [
    "## Visualization\n",
    "\n",
    "For `iowa_liquor_store_df`\n",
    "\n",
    "1. Plot a curve for a few zip codes showing sales per year  per\n",
    "1. Plot a curve for a few zip codes showing number of stores per year"
   ]
  },
  {
   "cell_type": "code",
   "execution_count": null,
   "metadata": {
    "collapsed": true
   },
   "outputs": [],
   "source": [
    "zip_code_stores"
   ]
  },
  {
   "cell_type": "code",
   "execution_count": 21,
   "metadata": {
    "collapsed": true
   },
   "outputs": [],
   "source": [
    "import matplotlib.pyplot as plt\n",
    "import seaborn as sns"
   ]
  },
  {
   "cell_type": "code",
   "execution_count": 67,
   "metadata": {
    "collapsed": false
   },
   "outputs": [],
   "source": [
    "twenty_sixteen = [col for col in iowa_liquor_store_df.columns if '2016' in col]"
   ]
  },
  {
   "cell_type": "code",
   "execution_count": 68,
   "metadata": {
    "collapsed": false
   },
   "outputs": [
    {
     "data": {
      "text/plain": [
       "['sale_2016', 'store_count_2016']"
      ]
     },
     "execution_count": 68,
     "metadata": {},
     "output_type": "execute_result"
    }
   ],
   "source": [
    "twenty_sixteen"
   ]
  },
  {
   "cell_type": "markdown",
   "metadata": {},
   "source": [
    "## Basic Preprocessing\n",
    "\n",
    "Create a target vector using the `delta_2016Q4` column.\n",
    "Create a feature array by removing this column."
   ]
  },
  {
   "cell_type": "code",
   "execution_count": 70,
   "metadata": {
    "collapsed": false
   },
   "outputs": [],
   "source": [
    "y = iowa_liquor_store_deltas_df['delta_2015Q4']\n",
    "X = iowa_liquor_store_df\n",
    "X.drop(X[twenty_sixteen], inplace=True, axis=1)"
   ]
  },
  {
   "cell_type": "code",
   "execution_count": 51,
   "metadata": {
    "collapsed": true
   },
   "outputs": [],
   "source": [
    "from sklearn.metrics import mean_absolute_error, mean_squared_error, r2_score\n",
    "from sklearn.model_selection import train_test_split\n",
    "from sklearn.linear_model import Lasso, Ridge, SGDRegressor\n",
    "from sklearn.preprocessing import StandardScaler"
   ]
  },
  {
   "cell_type": "code",
   "execution_count": 78,
   "metadata": {
    "collapsed": false
   },
   "outputs": [
    {
     "name": "stdout",
     "output_type": "stream",
     "text": [
      "MAE train 5024.50195314\n",
      "MAE test  5010.3459986\n",
      "MSE train 68943504.3519\n",
      "MSE test  64423484.2672\n",
      "R2  train 0.366307533778\n",
      "R2  test  0.538641985732\n"
     ]
    }
   ],
   "source": [
    "X_train, X_test, y_train, y_test = train_test_split(X, y, random_state=None)\n",
    "\n",
    "ridge_regressor = Lasso()\n",
    "\n",
    "scaler = StandardScaler()\n",
    "\n",
    "scaler.fit(X_train)\n",
    "\n",
    "X_train = scaler.transform(X_train)\n",
    "X_test = scaler.transform(X_test)\n",
    "\n",
    "ridge_regressor.fit(X_train, y_train)\n",
    "\n",
    "def score_me(scorer, model, X, y):\n",
    "    return scorer(model.predict(X), y)\n",
    "\n",
    "print(\"MAE train {}\".format(score_me(mean_absolute_error, ridge_regressor, X_train, y_train)))\n",
    "print(\"MAE test  {}\".format(score_me(mean_absolute_error, ridge_regressor, X_test,  y_test)))\n",
    "print(\"MSE train {}\".format(score_me(mean_squared_error, ridge_regressor, X_train, y_train)))\n",
    "print(\"MSE test  {}\".format(score_me(mean_squared_error, ridge_regressor, X_test,  y_test)))\n",
    "print(\"R2  train {}\".format(score_me(r2_score, ridge_regressor, X_train, y_train)))\n",
    "print(\"R2  test  {}\".format(score_me(r2_score, ridge_regressor, X_test,  y_test)))"
   ]
  },
  {
   "cell_type": "markdown",
   "metadata": {},
   "source": [
    "# Implement the Standard Sklearn Template"
   ]
  },
  {
   "cell_type": "code",
   "execution_count": 74,
   "metadata": {
    "collapsed": false
   },
   "outputs": [],
   "source": [
    "from sklearn.linear_model import LinearRegression"
   ]
  },
  {
   "cell_type": "markdown",
   "metadata": {},
   "source": [
    "1. Load the data\n",
    "1. Split the data into training and testing sets\n",
    "1. Create a new model\n",
    "1. Fit the model\n",
    "1. Score the model"
   ]
  },
  {
   "cell_type": "markdown",
   "metadata": {},
   "source": [
    "### Specific Cases: the Least Square Regressor and Standard Scaler"
   ]
  },
  {
   "cell_type": "markdown",
   "metadata": {},
   "source": [
    "#### `least_squares_regressor_standard_workflow`\n",
    "\n",
    "1. Pass the data as an argument\n",
    "1. Create the model inside the function. Use the `sklearn` implementation of OLS."
   ]
  },
  {
   "cell_type": "code",
   "execution_count": 79,
   "metadata": {
    "collapsed": true
   },
   "outputs": [],
   "source": [
    "def least_squares_regressor_standard_workflow(X, y, random_state=None):\n",
    "    #TODO: Receive the data\n",
    "    #TODO: Split the data into training and testing sets; be sure to include an option to specify a random state\n",
    "    X_train, X_test, y_train, y_test = train_test_split(X, y, random_state=random_state)\n",
    "    #TODO: Create a new OLS model \n",
    "    model = LinearRegression()\n",
    "    #TODO: Fit the model\n",
    "    model.fit(X_train, y_train)\n",
    "    #TODO: Score the model\n",
    "    train_score = model.score(X_train, y_train)\n",
    "    test_score = model.score(X_test, y_test)\n",
    "    #TODO: Return a dictionary containing the model, the train score, and the test score\n",
    "    return {\n",
    "        'model': model,\n",
    "        'test score' : test_score,\n",
    "        'train score' : train_score\n",
    "    }\n",
    "    pass"
   ]
  },
  {
   "cell_type": "code",
   "execution_count": 60,
   "metadata": {
    "collapsed": true
   },
   "outputs": [],
   "source": [
    "from sklearn.preprocessing import StandardScaler\n",
    "def scaler_standard_workflow(X, y, random_state=None):\n",
    "    #TODO: Load the data\n",
    "    #TODO: Split the data into training and testing sets\n",
    "    X_train, X_test, y_train, y_test = train_test_split(X, y, random_state=random_state)\n",
    "    #TODO: Create a new scaler \n",
    "    scaler = StandardScaler()\n",
    "    #TODO: Fit the scaler NEVER scale fit on your Y\n",
    "    scaler.fit(X_train)\n",
    "    #TODO: transform the data\n",
    "    # Make sure to transform both X_train and X_test \n",
    "    # NEVER scale fit on your Y (target)\n",
    "    X_train = scaler.transform(X_train)\n",
    "    X_test = scaler.transform(X_test)\n",
    "    \n",
    "    #TODO: return a dictionary containing the transformed data\n",
    "    \n",
    "    return {\n",
    "        'X_test': X_test,\n",
    "        'X_train': X_train,\n",
    "        'y_test': y_train,\n",
    "        'y_train': y_train\n",
    "    }"
   ]
  },
  {
   "cell_type": "code",
   "execution_count": 76,
   "metadata": {
    "collapsed": false
   },
   "outputs": [
    {
     "data": {
      "text/plain": [
       "(359, 24)"
      ]
     },
     "execution_count": 76,
     "metadata": {},
     "output_type": "execute_result"
    }
   ],
   "source": [
    "X.shape"
   ]
  },
  {
   "cell_type": "markdown",
   "metadata": {},
   "source": [
    "### Test Your Functions"
   ]
  },
  {
   "cell_type": "code",
   "execution_count": 63,
   "metadata": {
    "collapsed": false
   },
   "outputs": [
    {
     "data": {
      "text/plain": [
       "{'model': LinearRegression(copy_X=True, fit_intercept=True, n_jobs=1, normalize=False),\n",
       " 'test score': -0.20778248693250667,\n",
       " 'train score': 0.252439510203607}"
      ]
     },
     "execution_count": 63,
     "metadata": {},
     "output_type": "execute_result"
    }
   ],
   "source": [
    "least_squares_regressor_standard_workflow(X,y)"
   ]
  },
  {
   "cell_type": "code",
   "execution_count": 62,
   "metadata": {
    "collapsed": true
   },
   "outputs": [
    {
     "data": {
      "text/plain": [
       "{'X_test': array([[ -4.77952047e-01,  -4.80209032e-01,  -4.80866100e-01,\n",
       "          -4.80114153e-01],\n",
       "        [ -4.52249258e-01,  -4.53583874e-01,  -4.56165605e-01,\n",
       "          -4.41879839e-01],\n",
       "        [ -4.94343676e-01,  -4.91880180e-01,  -4.93804332e-01,\n",
       "          -4.89036466e-01],\n",
       "        [  2.08836226e+00,   2.16361231e+00,   2.14577061e+00,\n",
       "           2.18532106e+00],\n",
       "        [ -4.88925276e-01,  -4.85203142e-01,  -4.86231239e-01,\n",
       "          -4.80692901e-01],\n",
       "        [ -4.63844885e-01,  -4.58320974e-01,  -4.69199067e-01,\n",
       "          -4.65378149e-01],\n",
       "        [ -3.90011785e-01,  -3.94448092e-01,  -4.02125687e-01,\n",
       "          -3.97737694e-01],\n",
       "        [  2.15109969e+00,   1.21394465e+00,   1.52870544e+00,\n",
       "           1.52405690e+00],\n",
       "        [ -4.85183857e-01,  -4.85726753e-01,  -4.86385346e-01,\n",
       "          -4.83994519e-01],\n",
       "        [  2.31369669e+00,   2.39905673e+00,   2.34588082e+00,\n",
       "           2.39960252e+00],\n",
       "        [  2.65445855e-01,   3.34884085e-01,   3.39552544e-01,\n",
       "           3.42268310e-01],\n",
       "        [ -3.34019644e-01,  -3.07998177e-01,  -3.31700704e-01,\n",
       "          -3.17418471e-01],\n",
       "        [ -4.75911425e-01,  -4.78775172e-01,  -4.79157715e-01,\n",
       "          -4.69756095e-01],\n",
       "        [ -4.52103792e-01,  -4.54457056e-01,  -4.57679544e-01,\n",
       "          -4.41300686e-01],\n",
       "        [ -2.76304908e-03,   1.13785553e-03,   4.76464192e-02,\n",
       "           5.70280982e-02],\n",
       "        [ -4.62673851e-01,  -4.57963242e-01,  -4.60806587e-01,\n",
       "          -4.50343808e-01],\n",
       "        [ -4.81512413e-01,  -4.74475239e-01,  -4.81689922e-01,\n",
       "          -4.65287139e-01],\n",
       "        [ -4.32574405e-01,  -4.33328594e-01,  -4.25428971e-01,\n",
       "          -4.10256803e-01],\n",
       "        [  2.28919919e+00,   2.21285401e+00,   2.19477112e+00,\n",
       "           2.21134683e+00],\n",
       "        [ -4.99065347e-01,  -4.98383543e-01,  -5.02019857e-01,\n",
       "          -4.96824011e-01],\n",
       "        [ -4.90603975e-01,  -4.91130799e-01,  -4.96157030e-01,\n",
       "          -4.89752155e-01],\n",
       "        [ -9.08880369e-02,  -1.73639097e-02,  -4.29130072e-02,\n",
       "          -1.23784418e-02],\n",
       "        [ -4.38078250e-01,  -4.33747323e-01,  -4.42564836e-01,\n",
       "          -4.48411077e-01],\n",
       "        [ -4.60957228e-01,  -4.50131066e-01,  -4.41893118e-01,\n",
       "          -4.30150703e-01],\n",
       "        [ -3.89129716e-01,  -3.91346350e-01,  -3.80593387e-01,\n",
       "          -3.65772480e-01],\n",
       "        [ -4.94211059e-01,  -4.93871218e-01,  -4.97907090e-01,\n",
       "          -4.90357903e-01],\n",
       "        [  1.39892218e-01,   5.96346366e-02,  -5.38596356e-02,\n",
       "          -1.03203648e-01],\n",
       "        [  3.55387298e-04,   1.06991758e-04,  -3.58798440e-02,\n",
       "          -4.70734468e-02],\n",
       "        [ -4.04677208e-01,  -3.59625331e-01,  -3.64757469e-01,\n",
       "          -3.33260298e-01],\n",
       "        [ -4.66868766e-01,  -4.61919445e-01,  -4.63721605e-01,\n",
       "          -4.56531479e-01],\n",
       "        [ -4.58532566e-01,  -4.66914201e-01,  -4.76416734e-01,\n",
       "          -4.69915104e-01],\n",
       "        [ -4.70439783e-01,  -4.74446978e-01,  -4.86438191e-01,\n",
       "          -4.85784373e-01],\n",
       "        [  7.85893734e-01,   8.29008878e-01,   9.70530568e-01,\n",
       "           9.96501945e-01],\n",
       "        [ -1.41443221e-01,  -1.76455477e-01,  -2.11779616e-01,\n",
       "          -2.19850875e-01],\n",
       "        [  1.39186378e-01,   2.16209675e-01,   1.99263555e-01,\n",
       "           1.60666866e-01],\n",
       "        [ -4.65705487e-01,  -4.64289976e-01,  -4.66605502e-01,\n",
       "          -4.71129725e-01],\n",
       "        [ -3.78888244e-01,  -3.82864450e-01,  -3.76844596e-01,\n",
       "          -3.61847253e-01],\n",
       "        [  1.43154209e+00,   1.31252137e+00,   1.39149415e+00,\n",
       "           1.41011193e+00],\n",
       "        [ -4.76746631e-01,  -4.79533525e-01,  -4.69413647e-01,\n",
       "          -4.43284816e-01],\n",
       "        [  1.25165552e+00,   1.33094111e+00,   1.24646774e+00,\n",
       "           1.23333669e+00],\n",
       "        [ -1.56970009e-01,  -8.92809411e-02,  -1.75185847e-02,\n",
       "           2.38459493e-02],\n",
       "        [  3.14231208e-01,   3.28773203e-01,   3.56999562e-01,\n",
       "           4.27711943e-01],\n",
       "        [ -4.82056316e-01,  -4.77792503e-01,  -4.82586643e-01,\n",
       "          -4.75147162e-01],\n",
       "        [ -4.39002725e-01,  -4.30993560e-01,  -4.12457201e-01,\n",
       "          -4.00779626e-01],\n",
       "        [ -4.28636272e-01,  -4.32195210e-01,  -4.29353969e-01,\n",
       "          -4.35740406e-01],\n",
       "        [ -1.03197706e-01,  -9.78918645e-02,  -1.26358461e-01,\n",
       "          -1.00706348e-01],\n",
       "        [ -3.46643951e-01,  -3.03899839e-01,  -3.06983450e-01,\n",
       "          -2.99023117e-01],\n",
       "        [ -4.16313964e-01,  -4.06429821e-01,  -4.13409873e-01,\n",
       "          -4.13709788e-01],\n",
       "        [ -1.46842314e-01,  -1.49830794e-01,  -1.25040362e-01,\n",
       "          -1.12095743e-01],\n",
       "        [  1.05508320e+00,   8.99408633e-01,   7.87735787e-01,\n",
       "           7.71898506e-01],\n",
       "        [  7.11035403e-01,   6.66844166e-01,   3.58155346e-01,\n",
       "           3.00327452e-02],\n",
       "        [ -4.84287352e-01,  -4.84538728e-01,  -4.88923607e-01,\n",
       "          -4.84816525e-01],\n",
       "        [  1.97843685e+00,   1.82434284e+00,   1.79067017e+00,\n",
       "           1.71013988e+00],\n",
       "        [ -4.59497486e-01,  -4.48200209e-01,  -4.53092982e-01,\n",
       "          -4.37657266e-01],\n",
       "        [ -4.81334183e-01,  -4.83211946e-01,  -4.88355146e-01,\n",
       "          -4.87536214e-01],\n",
       "        [ -4.66372910e-01,  -4.65149339e-01,  -4.74061960e-01,\n",
       "          -4.71812050e-01],\n",
       "        [  4.65529758e-02,   5.52246882e-02,   4.32482063e-02,\n",
       "           1.29115106e-01],\n",
       "        [ -4.86702759e-01,  -4.86521920e-01,  -4.89448098e-01,\n",
       "          -4.87507441e-01],\n",
       "        [ -4.96658597e-01,  -4.96645541e-01,  -4.99119318e-01,\n",
       "          -4.91847873e-01],\n",
       "        [  3.73763657e-01,   4.21531846e-01,   4.23369268e-01,\n",
       "           4.25916918e-01],\n",
       "        [ -3.31936905e-01,  -3.33090538e-01,  -3.27798989e-01,\n",
       "          -3.07380428e-01],\n",
       "        [ -4.78581507e-01,  -4.84784852e-01,  -4.85764084e-01,\n",
       "          -4.93924603e-01],\n",
       "        [ -1.19532737e-01,  -1.03908807e-01,  -1.33860760e-01,\n",
       "          -1.57598256e-01],\n",
       "        [ -4.73611952e-02,  -5.47689330e-02,  -5.67427915e-02,\n",
       "          -2.82993469e-02],\n",
       "        [ -4.39995411e-01,  -4.34695835e-01,  -4.46748956e-01,\n",
       "          -4.47550790e-01],\n",
       "        [ -4.60121226e-01,  -4.56872802e-01,  -4.60155394e-01,\n",
       "          -4.53797451e-01],\n",
       "        [ -4.77853561e-01,  -4.74768782e-01,  -4.77642121e-01,\n",
       "          -4.76199584e-01],\n",
       "        [  3.46519382e-01,   3.39510688e-01,   3.68927139e-01,\n",
       "           2.83544334e-01],\n",
       "        [ -4.88935855e-01,  -4.87734128e-01,  -4.94596865e-01,\n",
       "          -4.89957313e-01],\n",
       "        [ -8.94617987e-03,  -1.29212386e-01,  -1.57144594e-01,\n",
       "          -1.65150417e-01],\n",
       "        [ -4.82485330e-01,  -4.84504543e-01,  -4.85759548e-01,\n",
       "          -4.81054386e-01],\n",
       "        [  2.73615499e-02,  -4.74408387e-02,   9.89831919e-02,\n",
       "           1.07908138e-02],\n",
       "        [ -1.59766336e-01,  -1.20973239e-01,  -7.61114469e-02,\n",
       "          -1.02043802e-01],\n",
       "        [ -4.01621038e-01,  -4.03403938e-01,  -4.30078910e-01,\n",
       "          -4.49283287e-01],\n",
       "        [ -4.44213978e-01,  -4.34598504e-01,  -4.27569412e-01,\n",
       "          -4.18941086e-01],\n",
       "        [ -3.11115947e-01,  -2.92065557e-01,  -3.03276414e-01,\n",
       "          -3.07936565e-01],\n",
       "        [ -4.23569656e-01,  -4.31487242e-01,  -4.34408594e-01,\n",
       "          -4.34261897e-01],\n",
       "        [ -4.55385080e-01,  -4.50741045e-01,  -4.43697526e-01,\n",
       "          -4.69372338e-01],\n",
       "        [ -4.10758351e-01,  -4.12094585e-01,  -4.04708054e-01,\n",
       "          -4.16834811e-01],\n",
       "        [ -2.65944966e-01,   2.23726677e-02,   1.45816287e-01,\n",
       "           1.14306807e-01],\n",
       "        [ -4.18218525e-01,  -4.12506697e-01,  -4.15236221e-01,\n",
       "          -4.03056611e-01],\n",
       "        [ -4.67246948e-01,  -4.60136660e-01,  -4.67391916e-01,\n",
       "          -4.61583058e-01],\n",
       "        [ -4.67350363e-01,  -4.59854265e-01,  -4.47970293e-01,\n",
       "          -4.44668512e-01],\n",
       "        [ -4.79656893e-01,  -4.84558944e-01,  -4.90270723e-01,\n",
       "          -4.88188060e-01],\n",
       "        [ -3.69339302e-01,  -3.44911187e-01,  -3.42807049e-01,\n",
       "          -3.27096200e-01],\n",
       "        [ -4.57467937e-01,  -4.51297475e-01,  -4.58758801e-01,\n",
       "          -4.42633367e-01],\n",
       "        [  5.55084123e+00,   5.53839527e+00,   5.87896295e+00,\n",
       "           5.61173990e+00],\n",
       "        [  4.32083661e+00,   4.42144683e+00,   4.38183381e+00,\n",
       "           4.08857438e+00],\n",
       "        [  9.92310796e-02,   1.30049136e-01,   9.64167996e-02,\n",
       "           7.49566408e-02],\n",
       "        [  2.03861389e+00,   1.80549716e+00,   1.71877317e+00,\n",
       "           1.69138405e+00]]),\n",
       " 'X_train': array([[-0.43956358, -0.44712506, -0.43130847, -0.39061124],\n",
       "        [-0.47808195, -0.47634521, -0.48351573, -0.48219644],\n",
       "        [-0.42294193, -0.42062825, -0.42255749, -0.42921197],\n",
       "        ..., \n",
       "        [ 0.06163392,  0.0311113 ,  0.06319193,  0.03539998],\n",
       "        [ 0.62105177,  0.48043504,  0.11403833, -0.23552708],\n",
       "        [-0.42449497, -0.42772869, -0.43031775, -0.43081032]]),\n",
       " 'y_test': zip_code\n",
       " 51247      550.920000\n",
       " 50056    -3981.600000\n",
       " 52591     7917.185000\n",
       " 51041     7602.715000\n",
       " 50124     2885.030000\n",
       " 52031      301.000000\n",
       " 51521      893.590000\n",
       " 52637      103.520000\n",
       " 50583     1971.800000\n",
       " 52241    36951.053846\n",
       " 52084     4034.650000\n",
       " 51250    12406.850000\n",
       " 50014     8091.540000\n",
       " 50543    -1017.525000\n",
       " 52571    -8717.020000\n",
       " 52722     4038.812500\n",
       " 50048     3466.520000\n",
       " 50622      834.730000\n",
       " 50677    17910.586000\n",
       " 50629    -1145.030000\n",
       " 50658    -3273.060000\n",
       " 50208     6391.796667\n",
       " 51035    -1721.940000\n",
       " 51105    13489.363333\n",
       " 50450      127.330000\n",
       " 52601    10998.326667\n",
       " 51577    -2900.420000\n",
       " 50541    -2309.940000\n",
       " 52302     5227.603000\n",
       " 50228      252.610000\n",
       "              ...     \n",
       " 50627     -410.536667\n",
       " 50314    48501.035000\n",
       " 52531     5618.910000\n",
       " 51245    -5751.440000\n",
       " 51028    -2794.470000\n",
       " 50472        1.865000\n",
       " 50548    34503.730000\n",
       " 51023     -398.030000\n",
       " 50310    16608.676250\n",
       " 50247     2193.885000\n",
       " 51101     7068.162000\n",
       " 52728     -675.960000\n",
       " 52068     -793.765000\n",
       " 51461    -3773.540000\n",
       " 52211    -1144.755000\n",
       " 51046     -348.550000\n",
       " 52037    -3561.020000\n",
       " 52751     1982.400000\n",
       " 50517    18177.950000\n",
       " 50162    -1129.080000\n",
       " 51443     1733.590000\n",
       " 52001     5156.734444\n",
       " 52625      890.820000\n",
       " 51501     4061.771923\n",
       " 50533     6236.480000\n",
       " 50130      533.380000\n",
       " 52411    72909.920000\n",
       " 52556      146.630000\n",
       " 50263    18427.592000\n",
       " 50423     1094.235000\n",
       " Name: delta_2015Q4, dtype: float64,\n",
       " 'y_train': zip_code\n",
       " 51247      550.920000\n",
       " 50056    -3981.600000\n",
       " 52591     7917.185000\n",
       " 51041     7602.715000\n",
       " 50124     2885.030000\n",
       " 52031      301.000000\n",
       " 51521      893.590000\n",
       " 52637      103.520000\n",
       " 50583     1971.800000\n",
       " 52241    36951.053846\n",
       " 52084     4034.650000\n",
       " 51250    12406.850000\n",
       " 50014     8091.540000\n",
       " 50543    -1017.525000\n",
       " 52571    -8717.020000\n",
       " 52722     4038.812500\n",
       " 50048     3466.520000\n",
       " 50622      834.730000\n",
       " 50677    17910.586000\n",
       " 50629    -1145.030000\n",
       " 50658    -3273.060000\n",
       " 50208     6391.796667\n",
       " 51035    -1721.940000\n",
       " 51105    13489.363333\n",
       " 50450      127.330000\n",
       " 52601    10998.326667\n",
       " 51577    -2900.420000\n",
       " 50541    -2309.940000\n",
       " 52302     5227.603000\n",
       " 50228      252.610000\n",
       "              ...     \n",
       " 50627     -410.536667\n",
       " 50314    48501.035000\n",
       " 52531     5618.910000\n",
       " 51245    -5751.440000\n",
       " 51028    -2794.470000\n",
       " 50472        1.865000\n",
       " 50548    34503.730000\n",
       " 51023     -398.030000\n",
       " 50310    16608.676250\n",
       " 50247     2193.885000\n",
       " 51101     7068.162000\n",
       " 52728     -675.960000\n",
       " 52068     -793.765000\n",
       " 51461    -3773.540000\n",
       " 52211    -1144.755000\n",
       " 51046     -348.550000\n",
       " 52037    -3561.020000\n",
       " 52751     1982.400000\n",
       " 50517    18177.950000\n",
       " 50162    -1129.080000\n",
       " 51443     1733.590000\n",
       " 52001     5156.734444\n",
       " 52625      890.820000\n",
       " 51501     4061.771923\n",
       " 50533     6236.480000\n",
       " 50130      533.380000\n",
       " 52411    72909.920000\n",
       " 52556      146.630000\n",
       " 50263    18427.592000\n",
       " 50423     1094.235000\n",
       " Name: delta_2015Q4, dtype: float64}"
      ]
     },
     "execution_count": 62,
     "metadata": {},
     "output_type": "execute_result"
    }
   ],
   "source": [
    "scaler_standard_workflow(X,y)"
   ]
  },
  {
   "cell_type": "markdown",
   "metadata": {},
   "source": [
    "## General Cases: A general regressor and a general transformer"
   ]
  },
  {
   "cell_type": "markdown",
   "metadata": {},
   "source": [
    "#### `general_regressor_standard_workflow`\n",
    "\n",
    "This method should be able to receive data that has already been split. In order to handle this, you will need to\n",
    "\n",
    "1. Handle the case where one of `X_test` or `y_test` is missing\n",
    "1. Use `X` and `y` as the training data if testing data is received\n",
    "1. Perform the train test split if testing data is not received\n"
   ]
  },
  {
   "cell_type": "code",
   "execution_count": 80,
   "metadata": {
    "collapsed": true
   },
   "outputs": [],
   "source": [
    "def general_regressor_standard_workflow(model, X, y, random_state=None, X_test=None, y_test=None):\n",
    "    #TODO: error handling if X_test is received by y_test is not and vice versa\n",
    "    if not X_test and not y_test:\n",
    "        X_train, X_test, y_train, y_test = train_test_split(X, y, random_state=random_state)\n",
    "    elif not X_test or not y_test:\n",
    "        raise ValueError('Need values for X-test AND y_test')\n",
    "    else:\n",
    "        X_train = X\n",
    "        y_train = y\n",
    "        \n",
    "    #TODO: Fit the model\n",
    "    model.fit(X_train, y_train)\n",
    "    #TODO: Score the model\n",
    "    train_score = model.score(X_train, y_train)\n",
    "    test_score = model.score(X_test, y_test)\n",
    "    #TODO: Return a dictionary containing the model, the train score, and the test score\n",
    "    return{\n",
    "        'model': model,\n",
    "        'train score': train_score,\n",
    "        'test score': test_score\n",
    "    }\n",
    "    "
   ]
  },
  {
   "cell_type": "code",
   "execution_count": 87,
   "metadata": {
    "collapsed": false
   },
   "outputs": [
    {
     "data": {
      "text/plain": [
       "{'model': LinearRegression(copy_X=True, fit_intercept=True, n_jobs=1, normalize=False),\n",
       " 'test score': 0.16681316091105669,\n",
       " 'train score': 0.64802174432504756}"
      ]
     },
     "execution_count": 87,
     "metadata": {},
     "output_type": "execute_result"
    }
   ],
   "source": [
    "general_regressor_standard_workflow(LinearRegression(),X, y)"
   ]
  },
  {
   "cell_type": "code",
   "execution_count": null,
   "metadata": {
    "collapsed": true
   },
   "outputs": [],
   "source": []
  },
  {
   "cell_type": "code",
   "execution_count": null,
   "metadata": {
    "collapsed": true
   },
   "outputs": [],
   "source": [
    "def general_transformer_standard_workflow(transformer, X, y, split_data=False, random_state=None, X_test=None, y_test=None):\n",
    "    #TODO: error handling if X_test is received by y_test is not and vice versa\n",
    "    #TODO: if testing data is received, assign X, y to X_train, Y_train\n",
    "    #TODO: if split_data is True,  split the data into training and testing sets (with random state)\n",
    "    #TODO: if X_train, y_train exist (either because it was assigned or because data was split) use X_train, y_train data to \n",
    "    #TODO:     Fit the model\n",
    "    #TODO: otherwise use X, y to \n",
    "    #TODO:     Fit the model\n",
    "    #TODO: Transform data as needed\n",
    "    #TODO: return a dictionary containing transformed data\n",
    "    "
   ]
  },
  {
   "cell_type": "markdown",
   "metadata": {},
   "source": [
    "#### Test Your Functions"
   ]
  },
  {
   "cell_type": "markdown",
   "metadata": {},
   "source": [
    "## Scaling, then Fit-Score\n",
    "\n",
    "#### Use `general_transformer_standard_workflow` to\n",
    "\n",
    "1. split the data into training and testing sets\n",
    "1. scale your data using `Scaler`\n",
    "1. return the split-scaled data\n",
    "\n",
    "#### Pass the results of this and a new `Lasso` model that you created to `general_regressor_standard_workflow` and\n",
    "\n",
    "1. receive the split data\n",
    "1. fit the `Lasso` model\n",
    "1. score the `Lasso` model\n",
    "\n",
    "#### Examine the coefficients of the `Lasso` model and create a list of booleans representing whether or not a feature was used.\n",
    "\n",
    "Optionally, use the code below to represent which features were identified as \"salient\".\n",
    "\n",
    "    plt.matshow(mask.reshape(1, -1), cmap='gray_r')\n",
    "    plt.xlabel(\"Sample index\")"
   ]
  },
  {
   "cell_type": "code",
   "execution_count": null,
   "metadata": {
    "collapsed": true
   },
   "outputs": [],
   "source": []
  },
  {
   "cell_type": "markdown",
   "metadata": {},
   "source": [
    "## Identify Salient Features using ANOVA via `SelectKBest`\n",
    "\n",
    "#### Use `general_transformer_standard_workflow` to\n",
    "\n",
    "1. split the data into training and testing sets\n",
    "1. scale your data using `Scaler`\n",
    "1. return the split-scaled data\n",
    "\n",
    "#### Pass the results of this and a new `SelectKBest` model that you created to `general_transformer_standard_workflow` and\n",
    "\n",
    "1. receive the split data\n",
    "1. fit the `SelectKBest` model\n",
    "1. transform the data \n",
    "1. return the transformed data\n",
    "1. Use `.get_support()` to identify the salient features\n",
    "\n",
    "Compare the salient features identified by `SelectKBest` to the salient features identified by the `Lasso`. \n",
    "\n",
    "If you plotted the salient features for the `Lasso`, do the same for the features from `SelectKBest`.\n",
    "\n",
    "Tweak the `k` value of `SelectKBest` as you see fit."
   ]
  },
  {
   "cell_type": "markdown",
   "metadata": {},
   "source": [
    "## Fit models using the Transformed Feature Set received from `SelectKBest`\n",
    "\n",
    "#### Pass the results of your `SelectKBest` and each of three different models (below) to `general_regressor_standard_workflow` and\n",
    "\n",
    "1. receive the split data\n",
    "1. fit the `Lasso` model\n",
    "1. score the `Lasso` model\n",
    "\n",
    "#### Use these models\n",
    "\n",
    "1. `Ridge`\n",
    "1. `LinearRegression`\n",
    "1. `SGDRegressor`"
   ]
  },
  {
   "cell_type": "code",
   "execution_count": null,
   "metadata": {
    "collapsed": true
   },
   "outputs": [],
   "source": []
  },
  {
   "cell_type": "markdown",
   "metadata": {},
   "source": [
    "## Prepare a Brief Write-Up of What you Found"
   ]
  },
  {
   "cell_type": "markdown",
   "metadata": {},
   "source": []
  }
 ],
 "metadata": {
  "kernelspec": {
   "display_name": "Python [default]",
   "language": "python",
   "name": "python2"
  },
  "language_info": {
   "codemirror_mode": {
    "name": "ipython",
    "version": 2
   },
   "file_extension": ".py",
   "mimetype": "text/x-python",
   "name": "python",
   "nbconvert_exporter": "python",
   "pygments_lexer": "ipython2",
   "version": "2.7.12"
  }
 },
 "nbformat": 4,
 "nbformat_minor": 1
}
