{
 "cells": [
  {
   "cell_type": "markdown",
   "metadata": {},
   "source": [
    "## Load the Data\n",
    "\n",
    "Thanks, Chris!"
   ]
  },
  {
   "cell_type": "markdown",
   "metadata": {},
   "source": [
    "## Objectives & Summary\n",
    "\n",
    "#### Objectives\n",
    "1. Create two **general wrappers**\n",
    "1. Use general wrappers to fing **salient features**\n",
    "1. Compare salient features identified by Lasso and SelectKBest\n",
    "\n",
    "### Summary\n",
    "1. create **general regressor** and **general transformer**\n",
    "1. abstracted input validation into a subroutine/function\n",
    "1. connected transformer to regressor"
   ]
  },
  {
   "cell_type": "code",
   "execution_count": 1,
   "metadata": {
    "collapsed": false
   },
   "outputs": [],
   "source": [
    "from os import chdir, getcwd;\n",
    "chdir('../../../lib')\n",
    "assert getcwd().split('/')[-1] == 'lib'\n",
    "from iowa_data import load_iowa_liquor_store_dataframes"
   ]
  },
  {
   "cell_type": "code",
   "execution_count": 2,
   "metadata": {
    "collapsed": false,
    "scrolled": false
   },
   "outputs": [
    {
     "data": {
      "text/html": [
       "<div>\n",
       "<table border=\"1\" class=\"dataframe\">\n",
       "  <thead>\n",
       "    <tr style=\"text-align: right;\">\n",
       "      <th></th>\n",
       "      <th>zip_code</th>\n",
       "      <th>sale_2016</th>\n",
       "      <th>store_count_2016</th>\n",
       "      <th>sale_2015</th>\n",
       "      <th>store_count_2015</th>\n",
       "      <th>sale_2014</th>\n",
       "      <th>store_count_2014</th>\n",
       "      <th>sale_2013</th>\n",
       "      <th>store_count_2013</th>\n",
       "      <th>sale_2012</th>\n",
       "      <th>...</th>\n",
       "      <th>2014Q3</th>\n",
       "      <th>2014Q4</th>\n",
       "      <th>2015Q1</th>\n",
       "      <th>2015Q2</th>\n",
       "      <th>2015Q3</th>\n",
       "      <th>2015Q4</th>\n",
       "      <th>2016Q1</th>\n",
       "      <th>2016Q2</th>\n",
       "      <th>2016Q3</th>\n",
       "      <th>2016Q4</th>\n",
       "    </tr>\n",
       "  </thead>\n",
       "  <tbody>\n",
       "    <tr>\n",
       "      <th>0</th>\n",
       "      <td>50002</td>\n",
       "      <td>32544.92</td>\n",
       "      <td>2</td>\n",
       "      <td>3.871403e+04</td>\n",
       "      <td>2</td>\n",
       "      <td>45283.05</td>\n",
       "      <td>2</td>\n",
       "      <td>39823.07</td>\n",
       "      <td>2</td>\n",
       "      <td>54142.66</td>\n",
       "      <td>...</td>\n",
       "      <td>16272.67</td>\n",
       "      <td>10457.78</td>\n",
       "      <td>11134.32</td>\n",
       "      <td>6578.94</td>\n",
       "      <td>8305.70</td>\n",
       "      <td>12695.07</td>\n",
       "      <td>9380.23</td>\n",
       "      <td>9119.31</td>\n",
       "      <td>5086.63</td>\n",
       "      <td>8958.75</td>\n",
       "    </tr>\n",
       "    <tr>\n",
       "      <th>1</th>\n",
       "      <td>50003</td>\n",
       "      <td>203493.66</td>\n",
       "      <td>3</td>\n",
       "      <td>3.448876e+05</td>\n",
       "      <td>3</td>\n",
       "      <td>293773.18</td>\n",
       "      <td>3</td>\n",
       "      <td>328773.20</td>\n",
       "      <td>3</td>\n",
       "      <td>279232.38</td>\n",
       "      <td>...</td>\n",
       "      <td>71935.61</td>\n",
       "      <td>72899.40</td>\n",
       "      <td>71884.20</td>\n",
       "      <td>82246.12</td>\n",
       "      <td>114167.07</td>\n",
       "      <td>76590.18</td>\n",
       "      <td>60382.85</td>\n",
       "      <td>58310.29</td>\n",
       "      <td>48638.25</td>\n",
       "      <td>36162.27</td>\n",
       "    </tr>\n",
       "    <tr>\n",
       "      <th>2</th>\n",
       "      <td>50006</td>\n",
       "      <td>67189.24</td>\n",
       "      <td>2</td>\n",
       "      <td>1.051585e+05</td>\n",
       "      <td>2</td>\n",
       "      <td>94319.67</td>\n",
       "      <td>2</td>\n",
       "      <td>91701.59</td>\n",
       "      <td>2</td>\n",
       "      <td>96378.56</td>\n",
       "      <td>...</td>\n",
       "      <td>23488.94</td>\n",
       "      <td>22927.93</td>\n",
       "      <td>25273.88</td>\n",
       "      <td>28463.93</td>\n",
       "      <td>26480.62</td>\n",
       "      <td>24940.09</td>\n",
       "      <td>22461.81</td>\n",
       "      <td>19791.71</td>\n",
       "      <td>13047.71</td>\n",
       "      <td>11888.01</td>\n",
       "    </tr>\n",
       "    <tr>\n",
       "      <th>3</th>\n",
       "      <td>50009</td>\n",
       "      <td>1617618.34</td>\n",
       "      <td>9</td>\n",
       "      <td>2.409419e+06</td>\n",
       "      <td>9</td>\n",
       "      <td>2209157.32</td>\n",
       "      <td>9</td>\n",
       "      <td>2125635.73</td>\n",
       "      <td>9</td>\n",
       "      <td>2066446.19</td>\n",
       "      <td>...</td>\n",
       "      <td>581605.35</td>\n",
       "      <td>644281.31</td>\n",
       "      <td>428414.64</td>\n",
       "      <td>636639.03</td>\n",
       "      <td>672692.13</td>\n",
       "      <td>671672.85</td>\n",
       "      <td>478918.96</td>\n",
       "      <td>455382.31</td>\n",
       "      <td>366348.22</td>\n",
       "      <td>316968.85</td>\n",
       "    </tr>\n",
       "    <tr>\n",
       "      <th>4</th>\n",
       "      <td>50010</td>\n",
       "      <td>4646154.79</td>\n",
       "      <td>22</td>\n",
       "      <td>7.334014e+06</td>\n",
       "      <td>21</td>\n",
       "      <td>7177603.68</td>\n",
       "      <td>21</td>\n",
       "      <td>6740832.92</td>\n",
       "      <td>20</td>\n",
       "      <td>6351832.32</td>\n",
       "      <td>...</td>\n",
       "      <td>1781861.98</td>\n",
       "      <td>2171059.41</td>\n",
       "      <td>1668418.66</td>\n",
       "      <td>1734813.68</td>\n",
       "      <td>1906493.82</td>\n",
       "      <td>2024287.55</td>\n",
       "      <td>1567149.74</td>\n",
       "      <td>1271515.64</td>\n",
       "      <td>1135230.30</td>\n",
       "      <td>672259.11</td>\n",
       "    </tr>\n",
       "  </tbody>\n",
       "</table>\n",
       "<p>5 rows × 31 columns</p>\n",
       "</div>"
      ],
      "text/plain": [
       "   zip_code   sale_2016  store_count_2016     sale_2015  store_count_2015  \\\n",
       "0     50002    32544.92                 2  3.871403e+04                 2   \n",
       "1     50003   203493.66                 3  3.448876e+05                 3   \n",
       "2     50006    67189.24                 2  1.051585e+05                 2   \n",
       "3     50009  1617618.34                 9  2.409419e+06                 9   \n",
       "4     50010  4646154.79                22  7.334014e+06                21   \n",
       "\n",
       "    sale_2014  store_count_2014   sale_2013  store_count_2013   sale_2012  \\\n",
       "0    45283.05                 2    39823.07                 2    54142.66   \n",
       "1   293773.18                 3   328773.20                 3   279232.38   \n",
       "2    94319.67                 2    91701.59                 2    96378.56   \n",
       "3  2209157.32                 9  2125635.73                 9  2066446.19   \n",
       "4  7177603.68                21  6740832.92                20  6351832.32   \n",
       "\n",
       "     ...          2014Q3      2014Q4      2015Q1      2015Q2      2015Q3  \\\n",
       "0    ...        16272.67    10457.78    11134.32     6578.94     8305.70   \n",
       "1    ...        71935.61    72899.40    71884.20    82246.12   114167.07   \n",
       "2    ...        23488.94    22927.93    25273.88    28463.93    26480.62   \n",
       "3    ...       581605.35   644281.31   428414.64   636639.03   672692.13   \n",
       "4    ...      1781861.98  2171059.41  1668418.66  1734813.68  1906493.82   \n",
       "\n",
       "       2015Q4      2016Q1      2016Q2      2016Q3     2016Q4  \n",
       "0    12695.07     9380.23     9119.31     5086.63    8958.75  \n",
       "1    76590.18    60382.85    58310.29    48638.25   36162.27  \n",
       "2    24940.09    22461.81    19791.71    13047.71   11888.01  \n",
       "3   671672.85   478918.96   455382.31   366348.22  316968.85  \n",
       "4  2024287.55  1567149.74  1271515.64  1135230.30  672259.11  \n",
       "\n",
       "[5 rows x 31 columns]"
      ]
     },
     "execution_count": 2,
     "metadata": {},
     "output_type": "execute_result"
    }
   ],
   "source": [
    "iowa_liquor_store_df, \\\n",
    "    iowa_liquor_store_deltas_df = \\\n",
    "        load_iowa_liquor_store_dataframes()\n",
    "\n",
    "iowa_liquor_store_df.head()"
   ]
  },
  {
   "cell_type": "code",
   "execution_count": 3,
   "metadata": {
    "collapsed": false
   },
   "outputs": [
    {
     "data": {
      "text/html": [
       "<div>\n",
       "<table border=\"1\" class=\"dataframe\">\n",
       "  <thead>\n",
       "    <tr style=\"text-align: right;\">\n",
       "      <th></th>\n",
       "      <th>delta_2013_sales</th>\n",
       "      <th>delta_2014_sales</th>\n",
       "      <th>delta_2015_sales</th>\n",
       "      <th>delta_2015_sales</th>\n",
       "      <th>delta_2013_stores</th>\n",
       "      <th>delta_2014_stores</th>\n",
       "      <th>delta_2015_stores</th>\n",
       "      <th>delta_2016_stores</th>\n",
       "      <th>delta_2012Q2</th>\n",
       "      <th>delta_2012Q3</th>\n",
       "      <th>...</th>\n",
       "      <th>delta_2014Q3</th>\n",
       "      <th>delta_2014Q4</th>\n",
       "      <th>delta_2015Q1</th>\n",
       "      <th>delta_2015Q2</th>\n",
       "      <th>delta_2015Q3</th>\n",
       "      <th>delta_2015Q4</th>\n",
       "      <th>delta_2016Q1</th>\n",
       "      <th>delta_2016Q2</th>\n",
       "      <th>delta_2016Q3</th>\n",
       "      <th>delta_2016Q4</th>\n",
       "    </tr>\n",
       "    <tr>\n",
       "      <th>zip_code</th>\n",
       "      <th></th>\n",
       "      <th></th>\n",
       "      <th></th>\n",
       "      <th></th>\n",
       "      <th></th>\n",
       "      <th></th>\n",
       "      <th></th>\n",
       "      <th></th>\n",
       "      <th></th>\n",
       "      <th></th>\n",
       "      <th></th>\n",
       "      <th></th>\n",
       "      <th></th>\n",
       "      <th></th>\n",
       "      <th></th>\n",
       "      <th></th>\n",
       "      <th></th>\n",
       "      <th></th>\n",
       "      <th></th>\n",
       "      <th></th>\n",
       "      <th></th>\n",
       "    </tr>\n",
       "  </thead>\n",
       "  <tbody>\n",
       "    <tr>\n",
       "      <th>50002</th>\n",
       "      <td>-7159.795000</td>\n",
       "      <td>2729.990000</td>\n",
       "      <td>-3284.510000</td>\n",
       "      <td>-3084.555000</td>\n",
       "      <td>0</td>\n",
       "      <td>0</td>\n",
       "      <td>0</td>\n",
       "      <td>0</td>\n",
       "      <td>4305.485000</td>\n",
       "      <td>-496.010000</td>\n",
       "      <td>...</td>\n",
       "      <td>2488.655000</td>\n",
       "      <td>-2907.445000</td>\n",
       "      <td>338.270000</td>\n",
       "      <td>-2277.690000</td>\n",
       "      <td>863.380000</td>\n",
       "      <td>2194.685000</td>\n",
       "      <td>-1657.420000</td>\n",
       "      <td>-130.460000</td>\n",
       "      <td>-2016.340000</td>\n",
       "      <td>1936.060000</td>\n",
       "    </tr>\n",
       "    <tr>\n",
       "      <th>50003</th>\n",
       "      <td>16513.606667</td>\n",
       "      <td>-11666.673333</td>\n",
       "      <td>17038.130000</td>\n",
       "      <td>-47131.303333</td>\n",
       "      <td>0</td>\n",
       "      <td>0</td>\n",
       "      <td>0</td>\n",
       "      <td>0</td>\n",
       "      <td>12655.213333</td>\n",
       "      <td>-193.553333</td>\n",
       "      <td>...</td>\n",
       "      <td>-6770.400000</td>\n",
       "      <td>321.263333</td>\n",
       "      <td>-338.400000</td>\n",
       "      <td>3453.973333</td>\n",
       "      <td>10640.316667</td>\n",
       "      <td>-12525.630000</td>\n",
       "      <td>-5402.443333</td>\n",
       "      <td>-690.853333</td>\n",
       "      <td>-3224.013333</td>\n",
       "      <td>-4158.660000</td>\n",
       "    </tr>\n",
       "    <tr>\n",
       "      <th>50006</th>\n",
       "      <td>-2338.485000</td>\n",
       "      <td>1309.040000</td>\n",
       "      <td>5419.425000</td>\n",
       "      <td>-18984.640000</td>\n",
       "      <td>0</td>\n",
       "      <td>0</td>\n",
       "      <td>0</td>\n",
       "      <td>0</td>\n",
       "      <td>-812.455000</td>\n",
       "      <td>1257.775000</td>\n",
       "      <td>...</td>\n",
       "      <td>-140.960000</td>\n",
       "      <td>-280.505000</td>\n",
       "      <td>1172.975000</td>\n",
       "      <td>1595.025000</td>\n",
       "      <td>-991.655000</td>\n",
       "      <td>-770.265000</td>\n",
       "      <td>-1239.140000</td>\n",
       "      <td>-1335.050000</td>\n",
       "      <td>-3372.000000</td>\n",
       "      <td>-579.850000</td>\n",
       "    </tr>\n",
       "    <tr>\n",
       "      <th>50009</th>\n",
       "      <td>29537.128778</td>\n",
       "      <td>9280.176667</td>\n",
       "      <td>22251.258889</td>\n",
       "      <td>-87977.812222</td>\n",
       "      <td>-1</td>\n",
       "      <td>0</td>\n",
       "      <td>0</td>\n",
       "      <td>0</td>\n",
       "      <td>13335.009000</td>\n",
       "      <td>4768.633000</td>\n",
       "      <td>...</td>\n",
       "      <td>920.737778</td>\n",
       "      <td>6963.995556</td>\n",
       "      <td>-23985.185556</td>\n",
       "      <td>23136.043333</td>\n",
       "      <td>4005.900000</td>\n",
       "      <td>-113.253333</td>\n",
       "      <td>-21417.098889</td>\n",
       "      <td>-2615.183333</td>\n",
       "      <td>-9892.676667</td>\n",
       "      <td>-5486.596667</td>\n",
       "    </tr>\n",
       "    <tr>\n",
       "      <th>50010</th>\n",
       "      <td>2734.681789</td>\n",
       "      <td>4749.005429</td>\n",
       "      <td>7448.096667</td>\n",
       "      <td>-138049.894004</td>\n",
       "      <td>1</td>\n",
       "      <td>1</td>\n",
       "      <td>0</td>\n",
       "      <td>1</td>\n",
       "      <td>15738.596842</td>\n",
       "      <td>-3077.567368</td>\n",
       "      <td>...</td>\n",
       "      <td>8677.150000</td>\n",
       "      <td>18533.210952</td>\n",
       "      <td>-23935.273810</td>\n",
       "      <td>3161.667619</td>\n",
       "      <td>8175.244762</td>\n",
       "      <td>5609.225238</td>\n",
       "      <td>-20778.991364</td>\n",
       "      <td>-13437.913636</td>\n",
       "      <td>-6194.788182</td>\n",
       "      <td>-21044.145000</td>\n",
       "    </tr>\n",
       "  </tbody>\n",
       "</table>\n",
       "<p>5 rows × 27 columns</p>\n",
       "</div>"
      ],
      "text/plain": [
       "          delta_2013_sales  delta_2014_sales  delta_2015_sales  \\\n",
       "zip_code                                                         \n",
       "50002         -7159.795000       2729.990000      -3284.510000   \n",
       "50003         16513.606667     -11666.673333      17038.130000   \n",
       "50006         -2338.485000       1309.040000       5419.425000   \n",
       "50009         29537.128778       9280.176667      22251.258889   \n",
       "50010          2734.681789       4749.005429       7448.096667   \n",
       "\n",
       "          delta_2015_sales  delta_2013_stores  delta_2014_stores  \\\n",
       "zip_code                                                           \n",
       "50002         -3084.555000                  0                  0   \n",
       "50003        -47131.303333                  0                  0   \n",
       "50006        -18984.640000                  0                  0   \n",
       "50009        -87977.812222                 -1                  0   \n",
       "50010       -138049.894004                  1                  1   \n",
       "\n",
       "          delta_2015_stores  delta_2016_stores  delta_2012Q2  delta_2012Q3  \\\n",
       "zip_code                                                                     \n",
       "50002                     0                  0   4305.485000   -496.010000   \n",
       "50003                     0                  0  12655.213333   -193.553333   \n",
       "50006                     0                  0   -812.455000   1257.775000   \n",
       "50009                     0                  0  13335.009000   4768.633000   \n",
       "50010                     0                  1  15738.596842  -3077.567368   \n",
       "\n",
       "              ...       delta_2014Q3  delta_2014Q4  delta_2015Q1  \\\n",
       "zip_code      ...                                                  \n",
       "50002         ...        2488.655000  -2907.445000    338.270000   \n",
       "50003         ...       -6770.400000    321.263333   -338.400000   \n",
       "50006         ...        -140.960000   -280.505000   1172.975000   \n",
       "50009         ...         920.737778   6963.995556 -23985.185556   \n",
       "50010         ...        8677.150000  18533.210952 -23935.273810   \n",
       "\n",
       "          delta_2015Q2  delta_2015Q3  delta_2015Q4  delta_2016Q1  \\\n",
       "zip_code                                                           \n",
       "50002     -2277.690000    863.380000   2194.685000  -1657.420000   \n",
       "50003      3453.973333  10640.316667 -12525.630000  -5402.443333   \n",
       "50006      1595.025000   -991.655000   -770.265000  -1239.140000   \n",
       "50009     23136.043333   4005.900000   -113.253333 -21417.098889   \n",
       "50010      3161.667619   8175.244762   5609.225238 -20778.991364   \n",
       "\n",
       "          delta_2016Q2  delta_2016Q3  delta_2016Q4  \n",
       "zip_code                                            \n",
       "50002      -130.460000  -2016.340000   1936.060000  \n",
       "50003      -690.853333  -3224.013333  -4158.660000  \n",
       "50006     -1335.050000  -3372.000000   -579.850000  \n",
       "50009     -2615.183333  -9892.676667  -5486.596667  \n",
       "50010    -13437.913636  -6194.788182 -21044.145000  \n",
       "\n",
       "[5 rows x 27 columns]"
      ]
     },
     "execution_count": 3,
     "metadata": {},
     "output_type": "execute_result"
    }
   ],
   "source": [
    "iowa_liquor_store_deltas_df.head()"
   ]
  },
  {
   "cell_type": "markdown",
   "metadata": {},
   "source": [
    "## Basic Preprocessing\n",
    "\n",
    "Create a target vector using the `delta_2015Q4` column.\n",
    "\n",
    "Create a feature array by removing this column (and any column associated with 2016)."
   ]
  },
  {
   "cell_type": "code",
   "execution_count": 17,
   "metadata": {
    "collapsed": false
   },
   "outputs": [],
   "source": [
    "twenty_sixteens = [col for col in iowa_liquor_store_deltas_df.columns if '2016' in col]\n",
    "y = iowa_liquor_store_deltas_df['delta_2015Q4']\n",
    "X = iowa_liquor_store_deltas_df.drop(twenty_sixteens + ['delta_2015Q4'], axis=1)"
   ]
  },
  {
   "cell_type": "markdown",
   "metadata": {},
   "source": [
    "# Implement the Standard Sklearn Template"
   ]
  },
  {
   "cell_type": "markdown",
   "metadata": {},
   "source": [
    "### Specific Cases: the Least Square Regressor and Standard Scaler"
   ]
  },
  {
   "cell_type": "markdown",
   "metadata": {},
   "source": [
    "#### `least_squares_regressor_standard_workflow`\n",
    "\n",
    "1. Pass the data as an argument\n",
    "1. Create the model inside the function. Use the `sklearn` implementation of OLS."
   ]
  },
  {
   "cell_type": "code",
   "execution_count": 4,
   "metadata": {
    "collapsed": true
   },
   "outputs": [],
   "source": [
    "from sklearn.model_selection import train_test_split\n",
    "from sklearn.linear_model import LinearRegression\n",
    "\n",
    "def least_squares_regressor_standard_workflow(X, y, random_state=None):\n",
    "    # Receive the data\n",
    "    # Split the data into training and testing sets; be sure to include an option to specify a random state\n",
    "    X_train, X_test, y_train, y_test = train_test_split(X, y, random_state=random_state)\n",
    "\n",
    "    # Create a new OLS model \n",
    "    model = LinearRegression()\n",
    "    \n",
    "    # Fit the model\n",
    "    model.fit(X_train, y_train)\n",
    "    \n",
    "    # Score the model\n",
    "    train_score = model.score(X_train, y_train)\n",
    "    test_score = model.score(X_test, y_test)\n",
    "    \n",
    "    # Return a dictionary containing the model, the train score, and the test score\n",
    "    return {\n",
    "        'model' : model,\n",
    "        'train_score' : train_score,\n",
    "        'test_score' : test_score\n",
    "    }"
   ]
  },
  {
   "cell_type": "code",
   "execution_count": 5,
   "metadata": {
    "collapsed": true
   },
   "outputs": [],
   "source": [
    "from sklearn.preprocessing import StandardScaler\n",
    "\n",
    "def scaler_standard_workflow(X, y, random_state=None):\n",
    "    # Receive the data\n",
    "    # Split the data into training and testing sets; be sure to include an option to specify a random state\n",
    "    X_train, X_test, y_train, y_test = train_test_split(X, y, random_state=random_state)\n",
    "    \n",
    "    # Create a new scaler\n",
    "    scaler = StandardScaler()\n",
    "    \n",
    "    # Fit the scaler\n",
    "    # Fit on the train date\n",
    "    scaler.fit(X_train)\n",
    "    \n",
    "    # transform the data \n",
    "    # make sure to transform both!!\n",
    "    # don't transform the target data\n",
    "    X_train = scaler.transform(X_train)\n",
    "    X_test = scaler.transform(X_test)\n",
    "    \n",
    "    # return a dictionary containing the transformed data\n",
    "    \n",
    "    return {\n",
    "        'scaler' : scaler,\n",
    "        'X_test' : X_test,\n",
    "        'X_train' : X_train,\n",
    "        'y_test' : y_test,\n",
    "        'y_train' : y_train\n",
    "    }"
   ]
  },
  {
   "cell_type": "markdown",
   "metadata": {},
   "source": [
    "# Test Your Functions"
   ]
  },
  {
   "cell_type": "markdown",
   "metadata": {},
   "source": [
    "Test the functions below. "
   ]
  },
  {
   "cell_type": "code",
   "execution_count": 8,
   "metadata": {
    "collapsed": false
   },
   "outputs": [
    {
     "data": {
      "text/plain": [
       "{'model': LinearRegression(copy_X=True, fit_intercept=True, n_jobs=1, normalize=False),\n",
       " 'test_score': 0.71769083277544377,\n",
       " 'train_score': 0.71403806379189172}"
      ]
     },
     "execution_count": 8,
     "metadata": {},
     "output_type": "execute_result"
    }
   ],
   "source": [
    "least_squares_regressor_standard_workflow(X,y)"
   ]
  },
  {
   "cell_type": "code",
   "execution_count": 18,
   "metadata": {
    "collapsed": false
   },
   "outputs": [],
   "source": [
    "#scaler_standard_workflow(X,y)"
   ]
  },
  {
   "cell_type": "markdown",
   "metadata": {},
   "source": [
    "### Explain why the output of the `scaler_standard_workflow` can not be passed to `least_squares_regressor_standard_workflow`"
   ]
  },
  {
   "cell_type": "markdown",
   "metadata": {},
   "source": []
  },
  {
   "cell_type": "markdown",
   "metadata": {},
   "source": [
    "## General Cases: A general regressor and a general transformer"
   ]
  },
  {
   "cell_type": "markdown",
   "metadata": {},
   "source": [
    "#### `general_regressor_standard_workflow`\n",
    "\n",
    "This method should be able to receive data that has already been split. In order to handle this, you will need to\n",
    "\n",
    "1. Handle the case where one of `X_test` or `y_test` is missing\n",
    "1. Use `X` and `y` as the training data if testing data is received\n",
    "1. Perform the train test split if testing data is not received\n"
   ]
  },
  {
   "cell_type": "code",
   "execution_count": 50,
   "metadata": {
    "collapsed": true
   },
   "outputs": [],
   "source": [
    "def validate_inputs(X, y, X_test, y_test, random_state=None):\n",
    "    if X_test is None and y_test is None:\n",
    "        X_train, X_test, y_train, y_test = train_test_split(X, y, random_state=random_state)\n",
    "    elif X_test is None or y_test is None:\n",
    "        raise ValueError('You need to pass both X_test and y_test.')\n",
    "    else:\n",
    "        X_train = X\n",
    "        y_train = y\n",
    "\n",
    "    return X_train, X_test, y_train, y_test"
   ]
  },
  {
   "cell_type": "code",
   "execution_count": 51,
   "metadata": {
    "collapsed": true
   },
   "outputs": [],
   "source": [
    "def general_regressor_standard_workflow(model, X, y, random_state=None, X_test=None, y_test=None):\n",
    "    ''''''\n",
    "\n",
    "    X_train, X_test, y_train, y_test = train_test_split(X, y, random_state=random_state)\n",
    "    #TODO: Fit the model\n",
    "    model.fit(X_train, y_train)\n",
    "    \n",
    "    train_score = model.score(X_train, y_train)\n",
    "    test_score = model.score(X_test, y_test)\n",
    "\n",
    "    return {\n",
    "        'model': model,\n",
    "        'train_score': train_score,\n",
    "        'test_score': test_score\n",
    "    }\n",
    "    "
   ]
  },
  {
   "cell_type": "code",
   "execution_count": 52,
   "metadata": {
    "collapsed": true
   },
   "outputs": [],
   "source": [
    "def general_transformer_standard_workflow(transformer, X, y, split_data=False, random_state=None, X_test=None, y_test=None):\n",
    "\n",
    "    X_train, X_test, y_train, y_test = train_test_split(X, y, random_state=random_state)\n",
    "\n",
    "    transformer.fit(X_train, y_train)\n",
    "    \n",
    "    transformer.transform(X_train)\n",
    "    transformer.transform(X_test)\n",
    "\n",
    "    return {\n",
    "            'transformer': transformer,\n",
    "            'X_train': X_train,\n",
    "            'X_test': X_test,\n",
    "            'y_train': y_train,\n",
    "            'y_test': y_test\n",
    "    }\n",
    "    "
   ]
  },
  {
   "cell_type": "code",
   "execution_count": 59,
   "metadata": {
    "collapsed": false,
    "scrolled": true
   },
   "outputs": [],
   "source": [
    "from sklearn.linear_model import Ridge, Lasso, SGDRegressor, ElasticNet, LinearRegression\n",
    "ridge_output = general_regressor_standard_workflow(Ridge(), X,y)\n",
    "lasso_output = general_regressor_standard_workflow(Lasso(), X,y)\n",
    "ols_output = general_regressor_standard_workflow(LinearRegression(), X,y)\n",
    "sgd_output = general_regressor_standard_workflow(SGDRegressor(), X,y)\n",
    "elastic_output = general_regressor_standard_workflow(ElasticNet(), X,y)\n",
    "\n"
   ]
  },
  {
   "cell_type": "code",
   "execution_count": 60,
   "metadata": {
    "collapsed": false
   },
   "outputs": [
    {
     "data": {
      "text/plain": [
       "(-3.9065682520941555e+30, -8.9975286688470677e+30)"
      ]
     },
     "execution_count": 60,
     "metadata": {},
     "output_type": "execute_result"
    }
   ],
   "source": [
    "sgd_output['train_score'], sgd_output['test_score']"
   ]
  },
  {
   "cell_type": "code",
   "execution_count": 61,
   "metadata": {
    "collapsed": false
   },
   "outputs": [
    {
     "data": {
      "text/plain": [
       "(0.73637864505842998, 0.40779919327856906)"
      ]
     },
     "execution_count": 61,
     "metadata": {},
     "output_type": "execute_result"
    }
   ],
   "source": [
    "elastic_output['train_score'], elastic_output['test_score']"
   ]
  },
  {
   "cell_type": "code",
   "execution_count": 56,
   "metadata": {
    "collapsed": false
   },
   "outputs": [
    {
     "data": {
      "text/plain": [
       "(0.83158831820344248, -2.140607179725472)"
      ]
     },
     "execution_count": 56,
     "metadata": {},
     "output_type": "execute_result"
    }
   ],
   "source": [
    "lasso_output['train_score'], lasso_output['test_score']"
   ]
  },
  {
   "cell_type": "code",
   "execution_count": 44,
   "metadata": {
    "collapsed": true
   },
   "outputs": [],
   "source": [
    "from sklearn.preprocessing import StandardScaler\n",
    "from sklearn.feature_selection import SelectKBest, f_regression"
   ]
  },
  {
   "cell_type": "code",
   "execution_count": 62,
   "metadata": {
    "collapsed": false
   },
   "outputs": [],
   "source": [
    "standard_scaler_output = general_transformer_standard_workflow(StandardScaler(), X,y)\n",
    "select_k_best = general_transformer_standard_workflow(SelectKBest(f_regression,k=5),X,y)"
   ]
  },
  {
   "cell_type": "code",
   "execution_count": 66,
   "metadata": {
    "collapsed": false
   },
   "outputs": [
    {
     "data": {
      "text/plain": [
       "{'model': ElasticNet(alpha=1.0, copy_X=True, fit_intercept=True, l1_ratio=0.5,\n",
       "       max_iter=1000, normalize=False, positive=False, precompute=False,\n",
       "       random_state=None, selection='cyclic', tol=0.0001, warm_start=False),\n",
       " 'test_score': 0.3163940396866754,\n",
       " 'train_score': 0.85761408447987442}"
      ]
     },
     "execution_count": 66,
     "metadata": {},
     "output_type": "execute_result"
    }
   ],
   "source": [
    "standard_scaler_output = general_transformer_standard_workflow(SelectKBest(k=5), X, y, \n",
    "                                                               random_state=42)\n",
    "general_regressor_standard_workflow(ElasticNet(),\n",
    "                                    standard_scaler_output['X_train'],\n",
    "                                    standard_scaler_output['y_train'],\n",
    "                                    X_test = standard_scaler_output['X_test'],\n",
    "                                    y_test = standard_scaler_output['y_test'])"
   ]
  },
  {
   "cell_type": "markdown",
   "metadata": {},
   "source": [
    "#### Test Your Functions"
   ]
  },
  {
   "cell_type": "markdown",
   "metadata": {},
   "source": [
    "## Scaling, then Fit-Score\n",
    "\n",
    "#### Use `general_transformer_standard_workflow` to\n",
    "\n",
    "1. split the data into training and testing sets\n",
    "1. scale your data using `Scaler`\n",
    "1. return the split-scaled data\n",
    "\n",
    "#### Pass the results of this and a new `Lasso` model that you created to `general_regressor_standard_workflow` and\n",
    "\n",
    "1. receive the split data\n",
    "1. fit the `Lasso` model\n",
    "1. score the `Lasso` model\n",
    "\n",
    "#### Examine the coefficients of the `Lasso` model and create a list of booleans representing whether or not a feature was used.\n",
    "\n",
    "Optionally, use the code below to represent which features were identified as \"salient\".\n",
    "\n",
    "    plt.matshow(mask.reshape(1, -1), cmap='gray_r')\n",
    "    plt.xlabel(\"Sample index\")"
   ]
  },
  {
   "cell_type": "code",
   "execution_count": null,
   "metadata": {
    "collapsed": true
   },
   "outputs": [],
   "source": []
  },
  {
   "cell_type": "markdown",
   "metadata": {},
   "source": [
    "## Identify Salient Features using ANOVA via `SelectKBest`\n",
    "\n",
    "#### Use `general_transformer_standard_workflow` to\n",
    "\n",
    "1. split the data into training and testing sets\n",
    "1. scale your data using `Scaler`\n",
    "1. return the split-scaled data\n",
    "\n",
    "#### Pass the results of this and a new `SelectKBest` model that you created to `general_transformer_standard_workflow` and\n",
    "\n",
    "1. receive the split data\n",
    "1. fit the `SelectKBest` model\n",
    "1. transform the data \n",
    "1. return the transformed data\n",
    "1. Use `.get_support()` to identify the salient features\n",
    "\n",
    "Compare the salient features identified by `SelectKBest` to the salient features identified by the `Lasso`. \n",
    "\n",
    "If you plotted the salient features for the `Lasso`, do the same for the features from `SelectKBest`.\n",
    "\n",
    "Tweak the `k` value of `SelectKBest` as you see fit."
   ]
  },
  {
   "cell_type": "markdown",
   "metadata": {},
   "source": [
    "## Fit models using the Transformed Feature Set received from `SelectKBest`\n",
    "\n",
    "#### Pass the results of your `SelectKBest` and each of three different models (below) to `general_regressor_standard_workflow` and\n",
    "\n",
    "1. receive the split data\n",
    "1. fit the model\n",
    "1. score the model\n",
    "\n",
    "#### Use these models\n",
    "\n",
    "1. `Ridge`\n",
    "1. `LinearRegression`\n",
    "1. `SGDRegressor`"
   ]
  },
  {
   "cell_type": "code",
   "execution_count": null,
   "metadata": {
    "collapsed": true
   },
   "outputs": [],
   "source": []
  },
  {
   "cell_type": "markdown",
   "metadata": {},
   "source": [
    "## Prepare a Brief Write-Up of What you Found"
   ]
  },
  {
   "cell_type": "markdown",
   "metadata": {},
   "source": []
  }
 ],
 "metadata": {
  "kernelspec": {
   "display_name": "Python [default]",
   "language": "python",
   "name": "python2"
  },
  "language_info": {
   "codemirror_mode": {
    "name": "ipython",
    "version": 2
   },
   "file_extension": ".py",
   "mimetype": "text/x-python",
   "name": "python",
   "nbconvert_exporter": "python",
   "pygments_lexer": "ipython2",
   "version": "2.7.12"
  }
 },
 "nbformat": 4,
 "nbformat_minor": 1
}
