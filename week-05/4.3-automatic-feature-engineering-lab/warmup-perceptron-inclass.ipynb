{
 "cells": [
  {
   "cell_type": "markdown",
   "metadata": {},
   "source": [
    "# Build a Perceptron"
   ]
  },
  {
   "cell_type": "markdown",
   "metadata": {},
   "source": [
    "## Objectives & Summary \n",
    "\n",
    "Objective: extend your perceptron ~~by measuring the **accuracy** of a perceptron.~~\n",
    "by minimizing the weights and yet having the perceptron fire. \n",
    "\n",
    "Summary: \n",
    "\n",
    "- Build a `Perceptron` class.\n",
    "- Write some error handling. \n",
    "\n",
    "            try:\n",
    "            self.threshold = float(threshold)\n",
    "        except ValueError:\n",
    "            print(\"Threshold must be numeric.\")\n",
    "            \n",
    "- Minimize weights for a single perceptron.\n",
    "\n",
    "\n"
   ]
  },
  {
   "cell_type": "code",
   "execution_count": 5,
   "metadata": {
    "collapsed": true
   },
   "outputs": [],
   "source": [
    "vec_1 = range(1000)\n",
    "vec_2 = range(1000)"
   ]
  },
  {
   "cell_type": "code",
   "execution_count": 6,
   "metadata": {
    "collapsed": true
   },
   "outputs": [],
   "source": [
    "import numpy as np"
   ]
  },
  {
   "cell_type": "code",
   "execution_count": 7,
   "metadata": {
    "collapsed": false
   },
   "outputs": [
    {
     "name": "stdout",
     "output_type": "stream",
     "text": [
      "The slowest run took 76.75 times longer than the fastest. This could mean that an intermediate result is being cached.\n",
      "10000 loops, best of 3: 106 µs per loop\n"
     ]
    }
   ],
   "source": [
    "%%timeit\n",
    "\n",
    "sum([v_1_i*v_2_i for v_1_i, v_2_i in zip(vec_1, vec_2)])"
   ]
  },
  {
   "cell_type": "code",
   "execution_count": 8,
   "metadata": {
    "collapsed": false
   },
   "outputs": [
    {
     "name": "stdout",
     "output_type": "stream",
     "text": [
      "10000 loops, best of 3: 97.6 µs per loop\n"
     ]
    }
   ],
   "source": [
    "%%timeit\n",
    "np.array(vec_1).dot(vec_2)"
   ]
  },
  {
   "cell_type": "code",
   "execution_count": null,
   "metadata": {
    "collapsed": true
   },
   "outputs": [],
   "source": []
  },
  {
   "cell_type": "markdown",
   "metadata": {},
   "source": [
    "<img src=\"assets/perceptron.png\" width=\"500px\">\n",
    "\n",
    "## Dot Product\n",
    "\n",
    "$$\\vec{x} \\cdot \\vec{\\beta} = \\sum x_i\\beta_i = x_1\\beta_1 + \\dots + x_n\\beta_n$$\n",
    "\n",
    "## Step Function\n",
    "\n",
    "\\begin{align}\n",
    "   f(x) = \\left\\{\n",
    "     \\begin{array}{lr}\n",
    "       1 &: x > \\beta_0\\\\\n",
    "       0 &: x \\not\\gt \\beta_0\n",
    "     \\end{array}\n",
    "   \\right.\n",
    "\\end{align}\n",
    "\n",
    "## Size of the Perceptron\n",
    "\n",
    "The \"size\" of the perceptron will be given by the $\\ell2$-norm of the wieghts\n",
    "\n",
    "$$\\ell2\\left(\\vec\\beta\\right) = \\sqrt{\\beta_1^2 +\\dots+\\beta_n^2}$$\n",
    "\n",
    "Remember, the $\\ell2$-norm is like the \"Euclidean\" distance i.e. the length of a hypotenuse in a right triangle."
   ]
  },
  {
   "cell_type": "code",
   "execution_count": 9,
   "metadata": {
    "collapsed": false
   },
   "outputs": [],
   "source": [
    "import numpy as np\n",
    "from numpy.linalg import norm\n",
    "\n",
    "class Perceptron:\n",
    "                \n",
    "    def __init__(self, weights, threshold):\n",
    "        \n",
    "        self.weights = np.array(weights)\n",
    "        \n",
    "        try:\n",
    "            self.threshold = float(threshold)\n",
    "        except ValueError:\n",
    "            print(\"Threshold must be numeric.\")\n",
    "          \n",
    "    \n",
    "    def activate(self,inputs):\n",
    "        '''Takes in @param inputs, a list of numbers.\n",
    "        @return the output of a threshold perceptron with\n",
    "        given weights, threshold, and inputs.\n",
    "        ''' \n",
    "\n",
    "        #TODO: calculate the strength with which the perceptron fires        \n",
    "        #HINT: Use a dot product\n",
    "        energy = np.dot(self.weights, inputs)\n",
    "\n",
    "        #TODO: return 0 or 1 based on the threshold         \n",
    "        #HINT: Use a Step Function        \n",
    "        return 1 if energy >= self.threshold else 0\n",
    "\n",
    "    def size_(self):\n",
    "        #TODO: calculate the size of the perceptron (the size of the weights vector) using the l2-norm\n",
    "        return norm(self.weights)\n"
   ]
  },
  {
   "cell_type": "code",
   "execution_count": 10,
   "metadata": {
    "collapsed": false
   },
   "outputs": [
    {
     "data": {
      "text/plain": [
       "3.872983346207417"
      ]
     },
     "execution_count": 10,
     "metadata": {},
     "output_type": "execute_result"
    }
   ],
   "source": [
    "ptron = Perceptron((1,-2,3,1),4)\n",
    "try: \n",
    "    assert ptron.activate((1,0,1,1)) == 1\n",
    "except AssertionError:\n",
    "    print(\"Are you sure you have implemented your perceptron correctly?\")\n",
    "\n",
    "ptron.size_()"
   ]
  },
  {
   "cell_type": "markdown",
   "metadata": {},
   "source": [
    "## Minimizing Weights"
   ]
  },
  {
   "cell_type": "markdown",
   "metadata": {},
   "source": [
    "<img src=\"assets/perceptron_instance_1.png\" width=\"500px\">"
   ]
  },
  {
   "cell_type": "markdown",
   "metadata": {},
   "source": [
    "### 1. Find a set of weights that make this return a 1"
   ]
  },
  {
   "cell_type": "code",
   "execution_count": 21,
   "metadata": {
    "collapsed": false
   },
   "outputs": [],
   "source": [
    "weights = (0,-2,0,0)\n",
    "inputs = (1,-3,5,5)\n",
    "ptron_1 = Perceptron(weights,6)\n",
    "\n",
    "try:\n",
    "    assert ptron_1.activate(inputs) == 1\n",
    "except AssertionError:\n",
    "    print(\"Looks like your weights aren't strong enough.\")"
   ]
  },
  {
   "cell_type": "markdown",
   "metadata": {},
   "source": [
    "### 2. Calculate the Size of the Perceptron"
   ]
  },
  {
   "cell_type": "code",
   "execution_count": 22,
   "metadata": {
    "collapsed": false
   },
   "outputs": [
    {
     "data": {
      "text/plain": [
       "2.0"
      ]
     },
     "execution_count": 22,
     "metadata": {},
     "output_type": "execute_result"
    }
   ],
   "source": [
    "ptron_1.size_()"
   ]
  },
  {
   "cell_type": "markdown",
   "metadata": {},
   "source": [
    "### 3. See if you can find a smaller Perceptron that returns a 1"
   ]
  },
  {
   "cell_type": "code",
   "execution_count": 31,
   "metadata": {
    "collapsed": false
   },
   "outputs": [
    {
     "data": {
      "text/plain": [
       "(1, 0.82292162445763939)"
      ]
     },
     "execution_count": 31,
     "metadata": {},
     "output_type": "execute_result"
    }
   ],
   "source": [
    "weights = (.1,-.2,.56,.56)\n",
    "ptron_2 = Perceptron(weights,6)\n",
    "ptron_2.activate(inputs), ptron_2.size_()"
   ]
  },
  {
   "cell_type": "code",
   "execution_count": 32,
   "metadata": {
    "collapsed": false
   },
   "outputs": [
    {
     "data": {
      "text/plain": [
       "(0, 0.82292162445763939)"
      ]
     },
     "execution_count": 32,
     "metadata": {},
     "output_type": "execute_result"
    }
   ],
   "source": [
    "weights = (.15,-.15,.11,.15)\n",
    "ptron_3 = Perceptron(weights,6)\n",
    "ptron_3.activate(inputs), ptron_2.size_()"
   ]
  },
  {
   "cell_type": "code",
   "execution_count": 38,
   "metadata": {
    "collapsed": false
   },
   "outputs": [
    {
     "data": {
      "text/plain": [
       "(1, 0.78993670632526003)"
      ]
     },
     "execution_count": 38,
     "metadata": {},
     "output_type": "execute_result"
    }
   ],
   "source": [
    "weights = (0,-.2,.56,.52)\n",
    "ptron_Anna = Perceptron(weights,6)\n",
    "ptron_Anna.activate(inputs), ptron_Anna.size_()"
   ]
  },
  {
   "cell_type": "code",
   "execution_count": 39,
   "metadata": {
    "collapsed": false
   },
   "outputs": [
    {
     "data": {
      "text/plain": [
       "(1, 0.7759510293826537)"
      ]
     },
     "execution_count": 39,
     "metadata": {},
     "output_type": "execute_result"
    }
   ],
   "source": [
    "weights = (.11,-.3,.5,.5)\n",
    "ptron_Mazdak = Perceptron(weights,6)\n",
    "ptron_Mazdak.activate(inputs), ptron_Mazdak.size_()"
   ]
  },
  {
   "cell_type": "markdown",
   "metadata": {},
   "source": [
    "## Accuracy\n",
    "\n",
    "For the Perceptron described with the given `weights` and `threshold`, calculate its accuracy for the given set of `inputs` and `actual` values.\n",
    "\n",
    "<img src=\"assets/perceptron_instance_2.png\" width=\"500px\">"
   ]
  },
  {
   "cell_type": "code",
   "execution_count": null,
   "metadata": {
    "collapsed": true
   },
   "outputs": [],
   "source": [
    "weights = (-3,4,1,.3)\n",
    "threshold = 2\n",
    "\n",
    "inputs = [(-0.6 ,  0.78,  1.32,  0.88),\n",
    "          (-1.94, -1.42,  0.76,  0.75),\n",
    "          ( 0.02,  0.77,  0.62, -1.4 ),\n",
    "          (-0.46, -0.  , -1.24,  0.37),\n",
    "          ( 0.2 ,  0.52, -1.48, -0.28),\n",
    "          ( 1.55, -1.44, -0.53,  0.67),\n",
    "          (-0.22, -0.96, -1.76, -1.35),\n",
    "          (-1.23,  0.28,  0.61, -0.23),\n",
    "          ( 0.74, -1.34, -0.76,  0.07),\n",
    "          (-0.99,  0.88,  0.84,  0.1 )]\n",
    "\n",
    "actual = [1, 1, 0, 1, 0, 1, 1, 1, 0, 1]\n",
    "\n",
    "# TODO: Make a new Perceptron with the given weights and threshold\n",
    "# TODO: Trigger the Perceptron for each input vector\n",
    "# TODO: Compare the predicted value i.e. the output to the corresponding actual value\n",
    "# TODO: Measure the accuracy of this set of weights\n"
   ]
  },
  {
   "cell_type": "markdown",
   "metadata": {},
   "source": [
    "### See if Changing the Weights via Guess and Check you can get a higher accuracy"
   ]
  },
  {
   "cell_type": "code",
   "execution_count": null,
   "metadata": {
    "collapsed": true
   },
   "outputs": [],
   "source": []
  }
 ],
 "metadata": {
  "kernelspec": {
   "display_name": "Python 2",
   "language": "python",
   "name": "python2"
  },
  "language_info": {
   "codemirror_mode": {
    "name": "ipython",
    "version": 2
   },
   "file_extension": ".py",
   "mimetype": "text/x-python",
   "name": "python",
   "nbconvert_exporter": "python",
   "pygments_lexer": "ipython2",
   "version": "2.7.12"
  }
 },
 "nbformat": 4,
 "nbformat_minor": 1
}
