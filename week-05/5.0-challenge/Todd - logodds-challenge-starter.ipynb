{
 "cells": [
  {
   "cell_type": "code",
   "execution_count": 1,
   "metadata": {
    "collapsed": false
   },
   "outputs": [],
   "source": [
    "import numpy as np\n",
    "import pandas as pd\n",
    "from sklearn.linear_model import LogisticRegression, LinearRegression"
   ]
  },
  {
   "cell_type": "code",
   "execution_count": 2,
   "metadata": {
    "collapsed": true
   },
   "outputs": [],
   "source": [
    "X = [26,28,30,33,35,40,45,50,55,60]\n",
    "N = [40,50,60,80,100,70,65,50,40,25]\n",
    "n = [8,12,18,28,45,36,39,33,30,20]"
   ]
  },
  {
   "cell_type": "code",
   "execution_count": 3,
   "metadata": {
    "collapsed": false,
    "scrolled": true
   },
   "outputs": [
    {
     "data": {
      "text/html": [
       "<div>\n",
       "<table border=\"1\" class=\"dataframe\">\n",
       "  <thead>\n",
       "    <tr style=\"text-align: right;\">\n",
       "      <th></th>\n",
       "      <th>N</th>\n",
       "      <th>X</th>\n",
       "      <th>n</th>\n",
       "    </tr>\n",
       "  </thead>\n",
       "  <tbody>\n",
       "    <tr>\n",
       "      <th>0</th>\n",
       "      <td>40</td>\n",
       "      <td>26</td>\n",
       "      <td>8</td>\n",
       "    </tr>\n",
       "    <tr>\n",
       "      <th>1</th>\n",
       "      <td>50</td>\n",
       "      <td>28</td>\n",
       "      <td>12</td>\n",
       "    </tr>\n",
       "    <tr>\n",
       "      <th>2</th>\n",
       "      <td>60</td>\n",
       "      <td>30</td>\n",
       "      <td>18</td>\n",
       "    </tr>\n",
       "    <tr>\n",
       "      <th>3</th>\n",
       "      <td>80</td>\n",
       "      <td>33</td>\n",
       "      <td>28</td>\n",
       "    </tr>\n",
       "    <tr>\n",
       "      <th>4</th>\n",
       "      <td>100</td>\n",
       "      <td>35</td>\n",
       "      <td>45</td>\n",
       "    </tr>\n",
       "    <tr>\n",
       "      <th>5</th>\n",
       "      <td>70</td>\n",
       "      <td>40</td>\n",
       "      <td>36</td>\n",
       "    </tr>\n",
       "    <tr>\n",
       "      <th>6</th>\n",
       "      <td>65</td>\n",
       "      <td>45</td>\n",
       "      <td>39</td>\n",
       "    </tr>\n",
       "    <tr>\n",
       "      <th>7</th>\n",
       "      <td>50</td>\n",
       "      <td>50</td>\n",
       "      <td>33</td>\n",
       "    </tr>\n",
       "    <tr>\n",
       "      <th>8</th>\n",
       "      <td>40</td>\n",
       "      <td>55</td>\n",
       "      <td>30</td>\n",
       "    </tr>\n",
       "    <tr>\n",
       "      <th>9</th>\n",
       "      <td>25</td>\n",
       "      <td>60</td>\n",
       "      <td>20</td>\n",
       "    </tr>\n",
       "  </tbody>\n",
       "</table>\n",
       "</div>"
      ],
      "text/plain": [
       "     N   X   n\n",
       "0   40  26   8\n",
       "1   50  28  12\n",
       "2   60  30  18\n",
       "3   80  33  28\n",
       "4  100  35  45\n",
       "5   70  40  36\n",
       "6   65  45  39\n",
       "7   50  50  33\n",
       "8   40  55  30\n",
       "9   25  60  20"
      ]
     },
     "execution_count": 3,
     "metadata": {},
     "output_type": "execute_result"
    }
   ],
   "source": [
    "df = pd.DataFrame({'X': X, 'N':N, 'n':n})\n",
    "df"
   ]
  },
  {
   "cell_type": "code",
   "execution_count": 4,
   "metadata": {
    "collapsed": false
   },
   "outputs": [
    {
     "data": {
      "text/plain": [
       "-1.3862943611198906"
      ]
     },
     "execution_count": 4,
     "metadata": {},
     "output_type": "execute_result"
    }
   ],
   "source": [
    "np.log(0.20000/(1-0.20000))"
   ]
  },
  {
   "cell_type": "code",
   "execution_count": 5,
   "metadata": {
    "collapsed": false
   },
   "outputs": [
    {
     "data": {
      "text/html": [
       "<div>\n",
       "<table border=\"1\" class=\"dataframe\">\n",
       "  <thead>\n",
       "    <tr style=\"text-align: right;\">\n",
       "      <th></th>\n",
       "      <th>N</th>\n",
       "      <th>X</th>\n",
       "      <th>n</th>\n",
       "      <th>P</th>\n",
       "      <th>log_odds</th>\n",
       "    </tr>\n",
       "  </thead>\n",
       "  <tbody>\n",
       "    <tr>\n",
       "      <th>0</th>\n",
       "      <td>40</td>\n",
       "      <td>26</td>\n",
       "      <td>8</td>\n",
       "      <td>0.200000</td>\n",
       "      <td>-1.386294</td>\n",
       "    </tr>\n",
       "    <tr>\n",
       "      <th>1</th>\n",
       "      <td>50</td>\n",
       "      <td>28</td>\n",
       "      <td>12</td>\n",
       "      <td>0.240000</td>\n",
       "      <td>-1.152680</td>\n",
       "    </tr>\n",
       "    <tr>\n",
       "      <th>2</th>\n",
       "      <td>60</td>\n",
       "      <td>30</td>\n",
       "      <td>18</td>\n",
       "      <td>0.300000</td>\n",
       "      <td>-0.847298</td>\n",
       "    </tr>\n",
       "    <tr>\n",
       "      <th>3</th>\n",
       "      <td>80</td>\n",
       "      <td>33</td>\n",
       "      <td>28</td>\n",
       "      <td>0.350000</td>\n",
       "      <td>-0.619039</td>\n",
       "    </tr>\n",
       "    <tr>\n",
       "      <th>4</th>\n",
       "      <td>100</td>\n",
       "      <td>35</td>\n",
       "      <td>45</td>\n",
       "      <td>0.450000</td>\n",
       "      <td>-0.200671</td>\n",
       "    </tr>\n",
       "    <tr>\n",
       "      <th>5</th>\n",
       "      <td>70</td>\n",
       "      <td>40</td>\n",
       "      <td>36</td>\n",
       "      <td>0.514286</td>\n",
       "      <td>0.057158</td>\n",
       "    </tr>\n",
       "    <tr>\n",
       "      <th>6</th>\n",
       "      <td>65</td>\n",
       "      <td>45</td>\n",
       "      <td>39</td>\n",
       "      <td>0.600000</td>\n",
       "      <td>0.405465</td>\n",
       "    </tr>\n",
       "    <tr>\n",
       "      <th>7</th>\n",
       "      <td>50</td>\n",
       "      <td>50</td>\n",
       "      <td>33</td>\n",
       "      <td>0.660000</td>\n",
       "      <td>0.663294</td>\n",
       "    </tr>\n",
       "    <tr>\n",
       "      <th>8</th>\n",
       "      <td>40</td>\n",
       "      <td>55</td>\n",
       "      <td>30</td>\n",
       "      <td>0.750000</td>\n",
       "      <td>1.098612</td>\n",
       "    </tr>\n",
       "    <tr>\n",
       "      <th>9</th>\n",
       "      <td>25</td>\n",
       "      <td>60</td>\n",
       "      <td>20</td>\n",
       "      <td>0.800000</td>\n",
       "      <td>1.386294</td>\n",
       "    </tr>\n",
       "  </tbody>\n",
       "</table>\n",
       "</div>"
      ],
      "text/plain": [
       "     N   X   n         P  log_odds\n",
       "0   40  26   8  0.200000 -1.386294\n",
       "1   50  28  12  0.240000 -1.152680\n",
       "2   60  30  18  0.300000 -0.847298\n",
       "3   80  33  28  0.350000 -0.619039\n",
       "4  100  35  45  0.450000 -0.200671\n",
       "5   70  40  36  0.514286  0.057158\n",
       "6   65  45  39  0.600000  0.405465\n",
       "7   50  50  33  0.660000  0.663294\n",
       "8   40  55  30  0.750000  1.098612\n",
       "9   25  60  20  0.800000  1.386294"
      ]
     },
     "execution_count": 5,
     "metadata": {},
     "output_type": "execute_result"
    }
   ],
   "source": [
    "# add relevant columns for log odds ratio\n",
    "# Divide n(homes) / N(zip code)\n",
    "# P = probability\n",
    "\n",
    "df['P'] = df['n'] / df['N']\n",
    "df['log_odds'] = np.log(df['P'] / (1 - df['P']))\n",
    "df"
   ]
  },
  {
   "cell_type": "code",
   "execution_count": 6,
   "metadata": {
    "collapsed": false
   },
   "outputs": [],
   "source": [
    "y = df.log_odds\n",
    "X = df[['X']]"
   ]
  },
  {
   "cell_type": "code",
   "execution_count": 41,
   "metadata": {
    "collapsed": false
   },
   "outputs": [
    {
     "data": {
      "text/plain": [
       "(-3.2419919415657255, array([ 0.07916608]))"
      ]
     },
     "execution_count": 41,
     "metadata": {},
     "output_type": "execute_result"
    }
   ],
   "source": [
    "clf = LinearRegression()\n",
    "clf.fit(X,y)\n",
    "clf.intercept_,clf.coef_\n",
    "np.exp(clf.predict(X)) / (np.exp(clf.predict(X)) +1)"
   ]
  },
  {
   "cell_type": "code",
   "execution_count": 43,
   "metadata": {
    "collapsed": false
   },
   "outputs": [
    {
     "data": {
      "text/plain": [
       "array([-1.18367399])"
      ]
     },
     "execution_count": 43,
     "metadata": {},
     "output_type": "execute_result"
    }
   ],
   "source": [
    "clf.predict(26)"
   ]
  },
  {
   "cell_type": "code",
   "execution_count": 33,
   "metadata": {
    "collapsed": false
   },
   "outputs": [
    {
     "data": {
      "text/plain": [
       "array([ 0.23439225])"
      ]
     },
     "execution_count": 33,
     "metadata": {},
     "output_type": "execute_result"
    }
   ],
   "source": [
    "np.exp(clf.predict(26)) / (np.exp(clf.predict(26)) +1)"
   ]
  },
  {
   "cell_type": "code",
   "execution_count": 16,
   "metadata": {
    "collapsed": false
   },
   "outputs": [],
   "source": [
    "class logodds_create(object):\n",
    "    \n",
    "    \n",
    "    def __init__(self, data):\n",
    "        self.data = data\n",
    "        self.data['P'] = self.data['n']/self.data['N']\n",
    "        self.data['log_odds'] = np.log(self.data['P'] / (1 - self.data['P']))\n",
    "        \n",
    "    def out(self):\n",
    "        print self.data\n",
    "    \n",
    "    def linnear(self):\n",
    "        Y = self.data.log_odds\n",
    "        X = self.data[['X']]\n",
    "        clf = LinearRegression()\n",
    "        self.fit = clf.fit(X, Y)\n",
    "        return self.fit.intercept_, self.fit.coef_\n",
    "    \n",
    "    def predict(self, value):\n",
    "        logodds_create.linnear(self)\n",
    "        return np.exp((self.fit.intercept_ + self.fit.coef_*value)[0]) / (1 + np.exp((self.fit.intercept_\n",
    "                                                                            + self.fit.coef_*value)[0]) )"
   ]
  },
  {
   "cell_type": "code",
   "execution_count": 18,
   "metadata": {
    "collapsed": false
   },
   "outputs": [
    {
     "data": {
      "text/plain": [
       "0.23439224614993731"
      ]
     },
     "execution_count": 18,
     "metadata": {},
     "output_type": "execute_result"
    }
   ],
   "source": [
    "logodds_create(df).predict(26)"
   ]
  },
  {
   "cell_type": "markdown",
   "metadata": {},
   "source": [
    "### Create Class with the methods and output as depicted below:"
   ]
  },
  {
   "cell_type": "markdown",
   "metadata": {},
   "source": [
    "<img src=\"output_challenge.png\" width=500>"
   ]
  },
  {
   "cell_type": "code",
   "execution_count": 14,
   "metadata": {
    "collapsed": false
   },
   "outputs": [],
   "source": [
    "class logodds_create(object):\n",
    "    \n",
    "    def __init__(self, df_in):\n",
    "        self.df_in = df_in\n",
    "        self.df_in['P'] = self.df_in['n']/self.df_in['N']\n",
    "        self.df_in['log_odds'] = np.log(self.df_in['P'] / (1 - self.df_in['P']))\n",
    "        \n",
    "    def out(self):\n",
    "        print self.df_in\n",
    "        \n",
    "    def regress(self):\n",
    "        Y = df.log_odds\n",
    "        X = df[['X']]\n",
    "        clf = LinearRegression()\n",
    "        self.fit = clf.fit(X, Y)\n",
    "        return self.fit.intercept_, self.fit.coef_\n",
    "    \n",
    "    def predict(self, value):\n",
    "        logodds_create.regress(self)\n",
    "        return np.exp((self.fit.intercept_ + self.fit.coef_*value)[0]) / (1 + np.exp((self.fit.intercept_\n",
    "                                                                            + self.fit.coef_*value)[0]) )"
   ]
  },
  {
   "cell_type": "code",
   "execution_count": 15,
   "metadata": {
    "collapsed": false
   },
   "outputs": [
    {
     "data": {
      "text/plain": [
       "0.23439224614993731"
      ]
     },
     "execution_count": 15,
     "metadata": {},
     "output_type": "execute_result"
    }
   ],
   "source": [
    "logodds_create(df).predict(26)"
   ]
  },
  {
   "cell_type": "code",
   "execution_count": null,
   "metadata": {
    "collapsed": true
   },
   "outputs": [],
   "source": []
  }
 ],
 "metadata": {
  "anaconda-cloud": {},
  "kernelspec": {
   "display_name": "Python [conda env:py27]",
   "language": "python",
   "name": "conda-env-py27-py"
  },
  "language_info": {
   "codemirror_mode": {
    "name": "ipython",
    "version": 2
   },
   "file_extension": ".py",
   "mimetype": "text/x-python",
   "name": "python",
   "nbconvert_exporter": "python",
   "pygments_lexer": "ipython2",
   "version": "2.7.12"
  }
 },
 "nbformat": 4,
 "nbformat_minor": 1
}
