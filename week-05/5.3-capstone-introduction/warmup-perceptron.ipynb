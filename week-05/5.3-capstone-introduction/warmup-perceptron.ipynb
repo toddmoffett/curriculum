{
 "cells": [
  {
   "cell_type": "markdown",
   "metadata": {},
   "source": [
    "# Build a Perceptron"
   ]
  },
  {
   "cell_type": "markdown",
   "metadata": {},
   "source": [
    "## Objectives & Summary \n",
    "\n",
    "Objective: extend your perceptron ~~by measuring the **accuracy** of a perceptron.~~\n",
    "by minimizing the weights and yet having the perceptron fire. \n",
    "\n",
    "Summary: \n",
    "\n",
    "- Build a `Perceptron` class.\n",
    "- Write some error handling. \n",
    "\n",
    "            try:\n",
    "            self.threshold = float(threshold)\n",
    "        except ValueError:\n",
    "            print(\"Threshold must be numeric.\")\n",
    "            \n",
    "- Minimize weights for a single perceptron.\n",
    "\n",
    "\n"
   ]
  },
  {
   "cell_type": "code",
   "execution_count": 1,
   "metadata": {
    "collapsed": true
   },
   "outputs": [],
   "source": [
    "vec_1 = range(1000)\n",
    "vec_2 = range(1000)"
   ]
  },
  {
   "cell_type": "code",
   "execution_count": 2,
   "metadata": {
    "collapsed": true
   },
   "outputs": [],
   "source": [
    "import numpy as np"
   ]
  },
  {
   "cell_type": "code",
   "execution_count": 3,
   "metadata": {
    "collapsed": false
   },
   "outputs": [
    {
     "name": "stdout",
     "output_type": "stream",
     "text": [
      "1000 loops, best of 3: 201 µs per loop\n"
     ]
    }
   ],
   "source": [
    "%%timeit\n",
    "\n",
    "sum([v_1_i*v_2_i for v_1_i, v_2_i in zip(vec_1, vec_2)])"
   ]
  },
  {
   "cell_type": "code",
   "execution_count": 4,
   "metadata": {
    "collapsed": false
   },
   "outputs": [
    {
     "name": "stdout",
     "output_type": "stream",
     "text": [
      "10000 loops, best of 3: 74.5 µs per loop\n"
     ]
    }
   ],
   "source": [
    "%%timeit\n",
    "np.array(vec_1).dot(vec_2)"
   ]
  },
  {
   "cell_type": "code",
   "execution_count": null,
   "metadata": {
    "collapsed": true
   },
   "outputs": [],
   "source": []
  },
  {
   "cell_type": "markdown",
   "metadata": {},
   "source": [
    "<img src=\"assets/perceptron.png\" width=\"500px\">\n",
    "\n",
    "## Dot Product\n",
    "\n",
    "$$\\vec{x} \\cdot \\vec{\\beta} = \\sum x_i\\beta_i = x_1\\beta_1 + \\dots + x_n\\beta_n$$\n",
    "\n",
    "## Step Function\n",
    "\n",
    "\\begin{align}\n",
    "   f(x) = \\left\\{\n",
    "     \\begin{array}{lr}\n",
    "       1 &: x > \\beta_0\\\\\n",
    "       0 &: x \\not\\gt \\beta_0\n",
    "     \\end{array}\n",
    "   \\right.\n",
    "\\end{align}\n",
    "\n",
    "## Size of the Perceptron\n",
    "\n",
    "The \"size\" of the perceptron will be given by the $\\ell2$-norm of the wieghts\n",
    "\n",
    "$$\\ell2\\left(\\vec\\beta\\right) = \\sqrt{\\beta_1^2 +\\dots+\\beta_n^2}$$\n",
    "\n",
    "Remember, the $\\ell2$-norm is like the \"Euclidean\" distance i.e. the length of a hypotenuse in a right triangle."
   ]
  },
  {
   "cell_type": "code",
   "execution_count": 5,
   "metadata": {
    "collapsed": false
   },
   "outputs": [],
   "source": [
    "import numpy as np\n",
    "from numpy.linalg import norm\n",
    "\n",
    "class Perceptron:\n",
    "                \n",
    "    def __init__(self, weights, threshold):\n",
    "        \n",
    "        self.weights = np.array(weights)\n",
    "        \n",
    "        try:\n",
    "            self.threshold = float(threshold)\n",
    "        except ValueError:\n",
    "            print(\"Threshold must be numeric.\")\n",
    "          \n",
    "    \n",
    "    def activate(self,inputs):\n",
    "        '''Takes in @param inputs, a list of numbers.\n",
    "        @return the output of a threshold perceptron with\n",
    "        given weights, threshold, and inputs.\n",
    "        ''' \n",
    "\n",
    "        #TODO: calculate the strength with which the perceptron fires        \n",
    "        #HINT: Use a dot product\n",
    "        energy = np.dot(self.weights, inputs)\n",
    "\n",
    "        #TODO: return 0 or 1 based on the threshold         \n",
    "        #HINT: Use a Step Function        \n",
    "        return 1 if energy >= self.threshold else 0\n",
    "\n",
    "    def size_(self):\n",
    "        #TODO: calculate the size of the perceptron (the size of the weights vector) using the l2-norm\n",
    "        return norm(self.weights)\n"
   ]
  },
  {
   "cell_type": "code",
   "execution_count": 16,
   "metadata": {
    "collapsed": false
   },
   "outputs": [
    {
     "data": {
      "text/plain": [
       "3.872983346207417"
      ]
     },
     "execution_count": 16,
     "metadata": {},
     "output_type": "execute_result"
    }
   ],
   "source": [
    "ptron = Perceptron((1,-2,3,1),4)\n",
    "try: \n",
    "    assert ptron.activate((1,0,1,1)) == 1\n",
    "except AssertionError:\n",
    "    print(\"Are you sure you have implemented your perceptron correctly?\")\n",
    "\n",
    "ptron.size_()"
   ]
  },
  {
   "cell_type": "markdown",
   "metadata": {},
   "source": [
    "## Minimizing Weights"
   ]
  },
  {
   "cell_type": "markdown",
   "metadata": {},
   "source": [
    "<img src=\"assets/perceptron_instance_1.png\" width=\"500px\">"
   ]
  },
  {
   "cell_type": "markdown",
   "metadata": {},
   "source": [
    "### 1. Find a set of weights that make this return a 1"
   ]
  },
  {
   "cell_type": "code",
   "execution_count": 17,
   "metadata": {
    "collapsed": false
   },
   "outputs": [],
   "source": [
    "weights = (0,-2,0,0)\n",
    "inputs = (1,-3,5,5)\n",
    "ptron_1 = Perceptron(weights,6)\n",
    "\n",
    "try:\n",
    "    assert ptron_1.activate(inputs) == 1\n",
    "except AssertionError:\n",
    "    print(\"Looks like your weights aren't strong enough.\")"
   ]
  },
  {
   "cell_type": "markdown",
   "metadata": {},
   "source": [
    "### 2. Calculate the Size of the Perceptron"
   ]
  },
  {
   "cell_type": "code",
   "execution_count": 18,
   "metadata": {
    "collapsed": false
   },
   "outputs": [
    {
     "data": {
      "text/plain": [
       "2.0"
      ]
     },
     "execution_count": 18,
     "metadata": {},
     "output_type": "execute_result"
    }
   ],
   "source": [
    "ptron_1.size_()"
   ]
  },
  {
   "cell_type": "markdown",
   "metadata": {},
   "source": [
    "### 3. See if you can find a smaller Perceptron that returns a 1"
   ]
  },
  {
   "cell_type": "code",
   "execution_count": 19,
   "metadata": {
    "collapsed": false
   },
   "outputs": [
    {
     "data": {
      "text/plain": [
       "(1, 0.82292162445763939)"
      ]
     },
     "execution_count": 19,
     "metadata": {},
     "output_type": "execute_result"
    }
   ],
   "source": [
    "weights = (.1,-.2,.56,.56)\n",
    "ptron_2 = Perceptron(weights,6)\n",
    "ptron_2.activate(inputs), ptron_2.size_()"
   ]
  },
  {
   "cell_type": "code",
   "execution_count": 20,
   "metadata": {
    "collapsed": false
   },
   "outputs": [
    {
     "data": {
      "text/plain": [
       "(0, 0.82292162445763939)"
      ]
     },
     "execution_count": 20,
     "metadata": {},
     "output_type": "execute_result"
    }
   ],
   "source": [
    "weights = (.15,-.15,.11,.15)\n",
    "ptron_3 = Perceptron(weights,6)\n",
    "ptron_3.activate(inputs), ptron_2.size_()"
   ]
  },
  {
   "cell_type": "code",
   "execution_count": 21,
   "metadata": {
    "collapsed": false
   },
   "outputs": [
    {
     "data": {
      "text/plain": [
       "(1, 0.78993670632526003)"
      ]
     },
     "execution_count": 21,
     "metadata": {},
     "output_type": "execute_result"
    }
   ],
   "source": [
    "weights = (0,-.2,.56,.52)\n",
    "ptron_Anna = Perceptron(weights,6)\n",
    "ptron_Anna.activate(inputs), ptron_Anna.size_()"
   ]
  },
  {
   "cell_type": "code",
   "execution_count": 22,
   "metadata": {
    "collapsed": false
   },
   "outputs": [
    {
     "data": {
      "text/plain": [
       "(1, 0.7759510293826537)"
      ]
     },
     "execution_count": 22,
     "metadata": {},
     "output_type": "execute_result"
    }
   ],
   "source": [
    "weights = (.11,-.3,.5,.5)\n",
    "ptron_Mazdak = Perceptron(weights,6)\n",
    "ptron_Mazdak.activate(inputs), ptron_Mazdak.size_()"
   ]
  },
  {
   "cell_type": "markdown",
   "metadata": {},
   "source": [
    "## Accuracy\n",
    "\n",
    "For the Perceptron described with the given `weights` and `threshold`, calculate its accuracy for the given set of `inputs` and `actual` values.\n",
    "\n",
    "<img src=\"assets/perceptron_instance_2.png\" width=\"500px\">"
   ]
  },
  {
   "cell_type": "code",
   "execution_count": 36,
   "metadata": {
    "collapsed": true
   },
   "outputs": [],
   "source": [
    "weights = (-3,4,1,.3)\n",
    "threshold = 2\n",
    "\n",
    "inputs = [(-0.6 ,  0.78,  1.32,  0.88),\n",
    "          (-1.94, -1.42,  0.76,  0.75),\n",
    "          ( 0.02,  0.77,  0.62, -1.4 ),\n",
    "          (-0.46, -0.  , -1.24,  0.37),\n",
    "          ( 0.2 ,  0.52, -1.48, -0.28),\n",
    "          ( 1.55, -1.44, -0.53,  0.67),\n",
    "          (-0.22, -0.96, -1.76, -1.35),\n",
    "          (-1.23,  0.28,  0.61, -0.23),\n",
    "          ( 0.74, -1.34, -0.76,  0.07),\n",
    "          (-0.99,  0.88,  0.84,  0.1 )]\n",
    "\n",
    "actual = [1, 1, 0, 1, 0, 1, 1, 1, 0, 1]\n",
    "\n",
    "# TODO: Make a new Perceptron with the given weights and threshold\n",
    "\n",
    "# TODO: Trigger the Perceptron for each input vector\n",
    "\n",
    "# TODO: Compare the predicted value i.e. the output to the corresponding actual value\n",
    "\n",
    "# TODO: Measure the accuracy of this set of weights\n"
   ]
  },
  {
   "cell_type": "markdown",
   "metadata": {},
   "source": [
    "### See if Changing the Weights via Guess and Check you can get a higher accuracy"
   ]
  },
  {
   "cell_type": "code",
   "execution_count": 37,
   "metadata": {
    "collapsed": false
   },
   "outputs": [],
   "source": [
    "ptron_4 = Perceptron(weights, threshold)"
   ]
  },
  {
   "cell_type": "code",
   "execution_count": 32,
   "metadata": {
    "collapsed": false
   },
   "outputs": [
    {
     "data": {
      "text/plain": [
       "True"
      ]
     },
     "execution_count": 32,
     "metadata": {},
     "output_type": "execute_result"
    }
   ],
   "source": [
    "ptron_4.activate(inputs[0]) == actual[0]"
   ]
  },
  {
   "cell_type": "code",
   "execution_count": 39,
   "metadata": {
    "collapsed": false
   },
   "outputs": [
    {
     "data": {
      "text/plain": [
       "[1, 0, 1, 0, 0, 0, 0, 1, 0, 1]"
      ]
     },
     "execution_count": 39,
     "metadata": {},
     "output_type": "execute_result"
    }
   ],
   "source": [
    "predicted = [ptron_4.activate(inp) for inp in inputs]\n",
    "predicted"
   ]
  },
  {
   "cell_type": "code",
   "execution_count": 46,
   "metadata": {
    "collapsed": true
   },
   "outputs": [],
   "source": [
    "ptron.weights = np.array(ptron.weights) - 0.1*np.array(inp)"
   ]
  },
  {
   "cell_type": "code",
   "execution_count": 42,
   "metadata": {
    "collapsed": false
   },
   "outputs": [
    {
     "data": {
      "text/plain": [
       "0.5"
      ]
     },
     "execution_count": 42,
     "metadata": {},
     "output_type": "execute_result"
    }
   ],
   "source": [
    "np.mean([act == pred for act, pred in zip(actual, predicted)])"
   ]
  },
  {
   "cell_type": "code",
   "execution_count": 43,
   "metadata": {
    "collapsed": true
   },
   "outputs": [],
   "source": [
    "def fire_and_measure():\n",
    "    predicted = [ptron.activate(inp) for inp in inputs]\n",
    "    return np.mean([act == pred for act, pred in zip(actual, predicted)])"
   ]
  },
  {
   "cell_type": "code",
   "execution_count": 45,
   "metadata": {
    "collapsed": false
   },
   "outputs": [
    {
     "data": {
      "text/plain": [
       "0.29999999999999999"
      ]
     },
     "execution_count": 45,
     "metadata": {},
     "output_type": "execute_result"
    }
   ],
   "source": [
    "fire_and_measure()"
   ]
  },
  {
   "cell_type": "code",
   "execution_count": 48,
   "metadata": {
    "collapsed": false
   },
   "outputs": [
    {
     "name": "stdout",
     "output_type": "stream",
     "text": [
      "[ 1.452 -1.973  2.946  0.944]\n",
      "[ 1.646 -1.831  2.87   0.869]\n",
      "[ 1.644 -1.908  2.808  1.009]\n",
      "[ 1.69  -1.908  2.932  0.972]\n",
      "[ 1.67 -1.96  3.08  1.  ]\n",
      "[ 1.515 -1.816  3.133  0.933]\n",
      "[ 1.537 -1.72   3.309  1.068]\n",
      "[ 1.66  -1.748  3.248  1.091]\n",
      "[ 1.586 -1.614  3.324  1.084]\n",
      "[ 1.685 -1.702  3.24   1.074]\n",
      "[ 1.745 -1.78   3.108  0.986]\n",
      "[ 1.939 -1.638  3.032  0.911]\n",
      "[ 1.937 -1.715  2.97   1.051]\n",
      "[ 1.983 -1.715  3.094  1.014]\n",
      "[ 1.963 -1.767  3.242  1.042]\n",
      "[ 1.808 -1.623  3.295  0.975]\n",
      "[ 1.83  -1.527  3.471  1.11 ]\n",
      "[ 1.953 -1.555  3.41   1.133]\n",
      "[ 1.879 -1.421  3.486  1.126]\n",
      "[ 1.978 -1.509  3.402  1.116]\n",
      "[ 2.038 -1.587  3.27   1.028]\n",
      "[ 2.232 -1.445  3.194  0.953]\n",
      "[ 2.23  -1.522  3.132  1.093]\n",
      "[ 2.276 -1.522  3.256  1.056]\n",
      "[ 2.256 -1.574  3.404  1.084]\n",
      "[ 2.101 -1.43   3.457  1.017]\n",
      "[ 2.123 -1.334  3.633  1.152]\n",
      "[ 2.246 -1.362  3.572  1.175]\n",
      "[ 2.172 -1.228  3.648  1.168]\n",
      "[ 2.271 -1.316  3.564  1.158]\n",
      "[ 2.331 -1.394  3.432  1.07 ]\n",
      "[ 2.525 -1.252  3.356  0.995]\n",
      "[ 2.523 -1.329  3.294  1.135]\n",
      "[ 2.569 -1.329  3.418  1.098]\n",
      "[ 2.549 -1.381  3.566  1.126]\n",
      "[ 2.394 -1.237  3.619  1.059]\n",
      "[ 2.416 -1.141  3.795  1.194]\n",
      "[ 2.539 -1.169  3.734  1.217]\n",
      "[ 2.465 -1.035  3.81   1.21 ]\n",
      "[ 2.564 -1.123  3.726  1.2  ]\n",
      "[ 2.624 -1.201  3.594  1.112]\n",
      "[ 2.818 -1.059  3.518  1.037]\n",
      "[ 2.816 -1.136  3.456  1.177]\n",
      "[ 2.862 -1.136  3.58   1.14 ]\n",
      "[ 2.842 -1.188  3.728  1.168]\n",
      "[ 2.687 -1.044  3.781  1.101]\n",
      "[ 2.709 -0.948  3.957  1.236]\n",
      "[ 2.832 -0.976  3.896  1.259]\n",
      "[ 2.758 -0.842  3.972  1.252]\n",
      "[ 2.857 -0.93   3.888  1.242]\n"
     ]
    }
   ],
   "source": [
    "for i in range(5):\n",
    "    for inp in inputs:\n",
    "        ptron.weights = np.array(ptron.weights) - 0.1*np.array(inp)\n",
    "        print (ptron.weights)\n",
    "    fire_and_measure()"
   ]
  },
  {
   "cell_type": "code",
   "execution_count": null,
   "metadata": {
    "collapsed": true
   },
   "outputs": [],
   "source": []
  }
 ],
 "metadata": {
  "anaconda-cloud": {},
  "kernelspec": {
   "display_name": "Python [default]",
   "language": "python",
   "name": "python2"
  },
  "language_info": {
   "codemirror_mode": {
    "name": "ipython",
    "version": 2
   },
   "file_extension": ".py",
   "mimetype": "text/x-python",
   "name": "python",
   "nbconvert_exporter": "python",
   "pygments_lexer": "ipython2",
   "version": "2.7.12"
  }
 },
 "nbformat": 4,
 "nbformat_minor": 1
}
